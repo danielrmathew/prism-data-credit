{
 "cells": [
  {
   "cell_type": "code",
   "execution_count": 1,
   "id": "ef981d76-1204-4bc6-b1bd-366de6374078",
   "metadata": {},
   "outputs": [],
   "source": [
    "import pandas as pd\n",
    "import numpy as np\n",
    "import matplotlib.pyplot as plt\n",
    "import plotly.express as px"
   ]
  },
  {
   "cell_type": "code",
   "execution_count": 2,
   "id": "24823e23-16c5-4c7a-9006-fcad22659846",
   "metadata": {},
   "outputs": [],
   "source": [
    "inflows = pd.read_parquet(\"data/ucsd-inflows.pqt\")\n",
    "outflows = pd.read_parquet(\"data/ucsd-outflows.pqt\")"
   ]
  },
  {
   "cell_type": "code",
   "execution_count": 3,
   "id": "c9b03807-f461-41b6-b09f-1c305a9cd7c8",
   "metadata": {},
   "outputs": [
    {
     "data": {
      "text/html": [
       "<div>\n",
       "<style scoped>\n",
       "    .dataframe tbody tr th:only-of-type {\n",
       "        vertical-align: middle;\n",
       "    }\n",
       "\n",
       "    .dataframe tbody tr th {\n",
       "        vertical-align: top;\n",
       "    }\n",
       "\n",
       "    .dataframe thead th {\n",
       "        text-align: right;\n",
       "    }\n",
       "</style>\n",
       "<table border=\"1\" class=\"dataframe\">\n",
       "  <thead>\n",
       "    <tr style=\"text-align: right;\">\n",
       "      <th></th>\n",
       "      <th>prism_consumer_id</th>\n",
       "      <th>prism_account_id</th>\n",
       "      <th>memo</th>\n",
       "      <th>amount</th>\n",
       "      <th>posted_date</th>\n",
       "      <th>category</th>\n",
       "    </tr>\n",
       "  </thead>\n",
       "  <tbody>\n",
       "    <tr>\n",
       "      <th>0</th>\n",
       "      <td>0</td>\n",
       "      <td>acc_0</td>\n",
       "      <td>PAYCHECK</td>\n",
       "      <td>2477.02</td>\n",
       "      <td>2022-03-18</td>\n",
       "      <td>PAYCHECK</td>\n",
       "    </tr>\n",
       "    <tr>\n",
       "      <th>1</th>\n",
       "      <td>0</td>\n",
       "      <td>acc_0</td>\n",
       "      <td>EXTERNAL_TRANSFER</td>\n",
       "      <td>100.00</td>\n",
       "      <td>2022-10-25</td>\n",
       "      <td>EXTERNAL_TRANSFER</td>\n",
       "    </tr>\n",
       "    <tr>\n",
       "      <th>2</th>\n",
       "      <td>0</td>\n",
       "      <td>acc_0</td>\n",
       "      <td>MISCELLANEOUS</td>\n",
       "      <td>6.29</td>\n",
       "      <td>2022-08-26</td>\n",
       "      <td>MISCELLANEOUS</td>\n",
       "    </tr>\n",
       "    <tr>\n",
       "      <th>3</th>\n",
       "      <td>0</td>\n",
       "      <td>acc_0</td>\n",
       "      <td>EXTERNAL_TRANSFER</td>\n",
       "      <td>277.00</td>\n",
       "      <td>2022-06-03</td>\n",
       "      <td>EXTERNAL_TRANSFER</td>\n",
       "    </tr>\n",
       "    <tr>\n",
       "      <th>4</th>\n",
       "      <td>0</td>\n",
       "      <td>acc_0</td>\n",
       "      <td>EXTERNAL_TRANSFER</td>\n",
       "      <td>100.00</td>\n",
       "      <td>2022-07-29</td>\n",
       "      <td>EXTERNAL_TRANSFER</td>\n",
       "    </tr>\n",
       "    <tr>\n",
       "      <th>...</th>\n",
       "      <td>...</td>\n",
       "      <td>...</td>\n",
       "      <td>...</td>\n",
       "      <td>...</td>\n",
       "      <td>...</td>\n",
       "      <td>...</td>\n",
       "    </tr>\n",
       "    <tr>\n",
       "      <th>513110</th>\n",
       "      <td>5941</td>\n",
       "      <td>acc_9524</td>\n",
       "      <td>EXTERNAL_TRANSFER</td>\n",
       "      <td>8.66</td>\n",
       "      <td>2023-01-21</td>\n",
       "      <td>EXTERNAL_TRANSFER</td>\n",
       "    </tr>\n",
       "    <tr>\n",
       "      <th>513111</th>\n",
       "      <td>5941</td>\n",
       "      <td>acc_9524</td>\n",
       "      <td>EXTERNAL_TRANSFER</td>\n",
       "      <td>267.13</td>\n",
       "      <td>2023-01-23</td>\n",
       "      <td>EXTERNAL_TRANSFER</td>\n",
       "    </tr>\n",
       "    <tr>\n",
       "      <th>513112</th>\n",
       "      <td>5941</td>\n",
       "      <td>acc_9524</td>\n",
       "      <td>EXTERNAL_TRANSFER</td>\n",
       "      <td>2.00</td>\n",
       "      <td>2023-01-24</td>\n",
       "      <td>EXTERNAL_TRANSFER</td>\n",
       "    </tr>\n",
       "    <tr>\n",
       "      <th>513113</th>\n",
       "      <td>5941</td>\n",
       "      <td>acc_9524</td>\n",
       "      <td>EXTERNAL_TRANSFER</td>\n",
       "      <td>207.16</td>\n",
       "      <td>2023-01-24</td>\n",
       "      <td>EXTERNAL_TRANSFER</td>\n",
       "    </tr>\n",
       "    <tr>\n",
       "      <th>513114</th>\n",
       "      <td>5941</td>\n",
       "      <td>acc_9524</td>\n",
       "      <td>EXTERNAL_TRANSFER</td>\n",
       "      <td>281.71</td>\n",
       "      <td>2023-01-25</td>\n",
       "      <td>EXTERNAL_TRANSFER</td>\n",
       "    </tr>\n",
       "  </tbody>\n",
       "</table>\n",
       "<p>513115 rows × 6 columns</p>\n",
       "</div>"
      ],
      "text/plain": [
       "        prism_consumer_id prism_account_id               memo   amount  \\\n",
       "0                       0            acc_0           PAYCHECK  2477.02   \n",
       "1                       0            acc_0  EXTERNAL_TRANSFER   100.00   \n",
       "2                       0            acc_0      MISCELLANEOUS     6.29   \n",
       "3                       0            acc_0  EXTERNAL_TRANSFER   277.00   \n",
       "4                       0            acc_0  EXTERNAL_TRANSFER   100.00   \n",
       "...                   ...              ...                ...      ...   \n",
       "513110               5941         acc_9524  EXTERNAL_TRANSFER     8.66   \n",
       "513111               5941         acc_9524  EXTERNAL_TRANSFER   267.13   \n",
       "513112               5941         acc_9524  EXTERNAL_TRANSFER     2.00   \n",
       "513113               5941         acc_9524  EXTERNAL_TRANSFER   207.16   \n",
       "513114               5941         acc_9524  EXTERNAL_TRANSFER   281.71   \n",
       "\n",
       "       posted_date           category  \n",
       "0       2022-03-18           PAYCHECK  \n",
       "1       2022-10-25  EXTERNAL_TRANSFER  \n",
       "2       2022-08-26      MISCELLANEOUS  \n",
       "3       2022-06-03  EXTERNAL_TRANSFER  \n",
       "4       2022-07-29  EXTERNAL_TRANSFER  \n",
       "...            ...                ...  \n",
       "513110  2023-01-21  EXTERNAL_TRANSFER  \n",
       "513111  2023-01-23  EXTERNAL_TRANSFER  \n",
       "513112  2023-01-24  EXTERNAL_TRANSFER  \n",
       "513113  2023-01-24  EXTERNAL_TRANSFER  \n",
       "513114  2023-01-25  EXTERNAL_TRANSFER  \n",
       "\n",
       "[513115 rows x 6 columns]"
      ]
     },
     "execution_count": 3,
     "metadata": {},
     "output_type": "execute_result"
    }
   ],
   "source": [
    "inflows"
   ]
  },
  {
   "cell_type": "code",
   "execution_count": null,
   "id": "e48f38dd-177b-4d59-82df-086b72764650",
   "metadata": {},
   "outputs": [],
   "source": [
    "outflows"
   ]
  },
  {
   "cell_type": "markdown",
   "id": "aa385945-b6ac-41c1-9828-fd7dc252179d",
   "metadata": {},
   "source": [
    "## Week 1: Data Exploration"
   ]
  },
  {
   "cell_type": "code",
   "execution_count": null,
   "id": "5a59bd14-dc37-4492-b26e-9e94e78f5b1c",
   "metadata": {},
   "outputs": [],
   "source": [
    "inflows_info = inflows.info()\n",
    "outflows_info = outflows.info()"
   ]
  },
  {
   "cell_type": "code",
   "execution_count": null,
   "id": "473f9b52-33c7-4bc5-9bb6-84eb10a3f6a5",
   "metadata": {},
   "outputs": [],
   "source": [
    "inflows_missing = inflows.isna().sum()\n",
    "inflows_missing"
   ]
  },
  {
   "cell_type": "code",
   "execution_count": null,
   "id": "e6c58538-7d4d-432c-af01-a1a325562669",
   "metadata": {},
   "outputs": [],
   "source": [
    "outflows_missing = outflows.isna().sum()\n",
    "outflows_missing"
   ]
  },
  {
   "cell_type": "code",
   "execution_count": null,
   "id": "0556b033-ef62-434e-9e08-de878cff41f9",
   "metadata": {},
   "outputs": [],
   "source": [
    "inflows_stats = inflows['amount'].describe()\n",
    "inflows_stats"
   ]
  },
  {
   "cell_type": "code",
   "execution_count": null,
   "id": "57a0d857-b5c5-4dd0-9b62-64d4599198f2",
   "metadata": {},
   "outputs": [],
   "source": [
    "outflows_stats = outflows['amount'].describe()\n",
    "outflows_stats"
   ]
  },
  {
   "cell_type": "code",
   "execution_count": null,
   "id": "652330b7-9b9b-418e-b3f4-920cb1926a90",
   "metadata": {},
   "outputs": [],
   "source": [
    "inflows_unique_counts = inflows.nunique()\n",
    "inflows_unique_counts"
   ]
  },
  {
   "cell_type": "code",
   "execution_count": null,
   "id": "cb8cb17d-43f5-4407-be46-4da934814a44",
   "metadata": {},
   "outputs": [],
   "source": [
    "outflows_unique_counts = outflows.nunique()\n",
    "outflows_unique_counts"
   ]
  },
  {
   "cell_type": "code",
   "execution_count": null,
   "id": "76aaa91a-7de4-467f-8a06-7422c49ec089",
   "metadata": {},
   "outputs": [],
   "source": [
    "inflows_memo_ct = inflows['memo'].value_counts()\n",
    "inflows_memo_ct"
   ]
  },
  {
   "cell_type": "code",
   "execution_count": null,
   "id": "4a26ad10-c5da-4e00-87fe-043f3fd793a2",
   "metadata": {},
   "outputs": [],
   "source": [
    "inflows_cat_ct = inflows['category'].value_counts()\n",
    "inflows_cat_ct"
   ]
  },
  {
   "cell_type": "code",
   "execution_count": null,
   "id": "d5cdfc59-d71b-4fa7-9118-9350fcfcd09d",
   "metadata": {},
   "outputs": [],
   "source": [
    "inflows_cat_ct.plot(kind='bar', color='blue', alpha=0.7)\n",
    "plt.xlabel('Category')\n",
    "plt.ylabel('Number of Transactions')\n",
    "plt.title('Category Distribution for Inflows')\n",
    "plt.tight_layout()\n",
    "plt.show()\n",
    "\n",
    "\n"
   ]
  },
  {
   "cell_type": "code",
   "execution_count": null,
   "id": "5db28ea2-5681-465f-bccc-a78899a37233",
   "metadata": {},
   "outputs": [],
   "source": [
    "outflows_cat_ct = outflows['category'].value_counts()\n",
    "outflows_cat_ct"
   ]
  },
  {
   "cell_type": "code",
   "execution_count": null,
   "id": "9633e647-657e-4366-9cd0-a9c3c39786a3",
   "metadata": {
    "scrolled": true
   },
   "outputs": [],
   "source": [
    "outflows_memo_ct = outflows['memo'].value_counts()\n",
    "outflows_memo_ct"
   ]
  },
  {
   "cell_type": "code",
   "execution_count": null,
   "id": "5d63bdb8-30fa-4f2f-9f5b-2ba330caa906",
   "metadata": {},
   "outputs": [],
   "source": [
    "outflows_cat_ct.plot(kind='bar', color='red', alpha=0.7)\n",
    "plt.xlabel('Category')\n",
    "plt.ylabel('Number of Transactions')\n",
    "plt.title('Category Distribution for Outflows')\n",
    "\n",
    "plt.tight_layout()\n",
    "plt.show()"
   ]
  },
  {
   "cell_type": "code",
   "execution_count": null,
   "id": "7c8b2a03-ddff-4608-9dd3-63bcd4c1d523",
   "metadata": {},
   "outputs": [],
   "source": [
    "outflows_mismatched_categories = outflows[outflows['memo'] != outflows['category']]['category']\n",
    "\n",
    "print(\"\\nMismatched categories in outflows:\")\n",
    "print(outflows_mismatched_categories.unique())\n"
   ]
  },
  {
   "cell_type": "code",
   "execution_count": null,
   "id": "28a0c62f-01ed-4a31-933f-f0337a2289c3",
   "metadata": {},
   "outputs": [],
   "source": [
    "outflows['memo'].head(10)"
   ]
  },
  {
   "cell_type": "code",
   "execution_count": null,
   "id": "269502f6-8e1e-4adf-a303-a1d3f78a03ed",
   "metadata": {},
   "outputs": [],
   "source": [
    "inflows['posted_date'] = pd.to_datetime(inflows['posted_date'])\n",
    "outflows['posted_date'] = pd.to_datetime(outflows['posted_date'])\n",
    "\n",
    "inflows['month'] = inflows['posted_date'].dt.month\n",
    "outflows['month'] = outflows['posted_date'].dt.month\n",
    "\n",
    "inflows_monthly_avg = inflows.groupby('month')['amount'].mean()\n",
    "outflows_monthly_avg = outflows.groupby('month')['amount'].mean()\n",
    "\n",
    "\n",
    "plt.figure(figsize=(12, 6))\n",
    "\n",
    "plt.plot(inflows_monthly_avg.index, inflows_monthly_avg.values, label='Average Inflows', color='blue', marker='o')\n",
    "plt.plot(outflows_monthly_avg.index, outflows_monthly_avg.values, label='Average Outflows', color='red', marker='o')\n",
    "\n",
    "\n",
    "plt.xlabel('Month')\n",
    "plt.ylabel('Average Amount')\n",
    "plt.title('Average Monthly Transaction Trends Across All Years')\n",
    "plt.xticks(ticks=range(1, 13), labels=['Jan', 'Feb', 'Mar', 'Apr', 'May', 'Jun', 'Jul', 'Aug', 'Sep', 'Oct', 'Nov', 'Dec'])\n",
    "plt.legend()\n",
    "plt.grid(True)\n",
    "plt.tight_layout()\n",
    "\n",
    "\n",
    "plt.show()\n",
    "\n"
   ]
  },
  {
   "cell_type": "code",
   "execution_count": null,
   "id": "2904ccef-7b92-4ff9-8f6c-55ead8136708",
   "metadata": {},
   "outputs": [],
   "source": [
    "# inflows['day_of_week'] = inflows['posted_date'].dt.day_name()\n",
    "# inflows['month'] = inflows['posted_date'].dt.month_name()\n",
    "\n",
    "# outflows['day_of_week'] = outflows['posted_date'].dt.day_name()\n",
    "# outflows['month'] = outflows['posted_date'].dt.month_name()\n",
    "\n",
    "# inflows_heatmap_data = inflows.pivot_table(index='day_of_week', columns='month', values='amount', aggfunc='count')\n",
    "# outflows_heatmap_data = outflows.pivot_table(index='day_of_week', columns='month', values='amount', aggfunc='count')\n",
    "\n",
    "\n",
    "# plt.figure(figsize=(12, 6))\n",
    "# sns.heatmap(inflows_heatmap_data, cmap='Blues', annot=True, fmt='d')\n",
    "# plt.title('Heatmap of Inflow Transaction Frequency by Day of Week and Month')\n",
    "# plt.show()\n",
    "\n",
    "# plt.figure(figsize=(12, 6))\n",
    "# sns.heatmap(outflows_heatmap_data, cmap='Reds', annot=True, fmt='d')\n",
    "# plt.title('Heatmap of Outflow Transaction Frequency by Day of Week and Month')\n",
    "# plt.show()\n"
   ]
  },
  {
   "cell_type": "code",
   "execution_count": null,
   "id": "e0769b1a-b63b-4d5a-a31d-dbb03da82b96",
   "metadata": {},
   "outputs": [],
   "source": [
    "top_inflow_memos = inflows['memo'].value_counts().head(10)\n",
    "plt.figure(figsize=(12, 6))\n",
    "top_inflow_memos.plot(kind='bar', color='blue')\n",
    "plt.title('Top 10 Inflow Memos')\n",
    "plt.ylabel('Frequency')\n",
    "plt.show()\n",
    "\n",
    "top_outflow_memos = outflows['memo'].value_counts().head(10)\n",
    "plt.figure(figsize=(12, 6))\n",
    "top_outflow_memos.plot(kind='bar', color='red')\n",
    "plt.title('Top 10 Outflow Memos')\n",
    "plt.ylabel('Frequency')\n",
    "plt.show()\n"
   ]
  },
  {
   "cell_type": "code",
   "execution_count": null,
   "id": "93c0d0c8-a0c7-44f3-86b8-136a101718b0",
   "metadata": {},
   "outputs": [],
   "source": [
    "plt.figure(figsize=(14, 6))\n",
    "\n",
    "inflows_category_totals = inflows.groupby('category')['amount'].sum()\n",
    "outflows_category_totals = outflows.groupby('category')['amount'].sum()\n",
    "plt.subplot(1, 2, 1)\n",
    "plt.pie(inflows_category_totals, labels=inflows_category_totals.index, autopct='%1.1f%%', startangle=140, colors=plt.cm.Paired.colors)\n",
    "plt.title('Proportion of Inflows by Category')\n",
    "\n",
    "plt.subplot(1, 2, 2)\n",
    "plt.pie(outflows_category_totals, labels=outflows_category_totals.index, autopct='%1.1f%%', startangle=140, colors=plt.cm.Paired.colors)\n",
    "plt.title('Proportion of Outflows by Category')\n",
    "\n",
    "\n",
    "plt.show()\n"
   ]
  },
  {
   "cell_type": "code",
   "execution_count": null,
   "id": "c8a5f8ec-5d6f-4a86-a978-148f39d0c17f",
   "metadata": {},
   "outputs": [],
   "source": [
    "pie_inflows = px.sunburst(inflows, path=['category'], values='amount', title='Sunburst of Inflows by Category')\n",
    "pie_inflows.show()\n"
   ]
  },
  {
   "cell_type": "code",
   "execution_count": null,
   "id": "46e05a50-0f49-4aab-87fc-2f12f30d0ec2",
   "metadata": {},
   "outputs": [],
   "source": [
    "pie_outflows = px.sunburst(outflows, path=['category'], values='amount', title='Sunburst of Outflows by Category')\n",
    "pie_outflows.show()\n"
   ]
  },
  {
   "cell_type": "code",
   "execution_count": null,
   "id": "43eb4ec7-1a53-47b3-b6cb-ca0ca92faadf",
   "metadata": {},
   "outputs": [],
   "source": [
    "inflows['year'] = inflows['posted_date'].dt.year\n",
    "outflows['year'] = outflows['posted_date'].dt.year\n",
    "\n",
    "inflows_yearly = inflows.groupby('year')['amount'].sum()\n",
    "outflows_yearly = outflows.groupby('year')['amount'].sum()\n",
    "\n",
    "plt.figure(figsize=(12, 6))\n",
    "plt.bar(inflows_yearly.index - 0.2, inflows_yearly.values, width=0.4, label='Inflows', color='blue')\n",
    "plt.bar(outflows_yearly.index + 0.2, outflows_yearly.values, width=0.4, label='Outflows', color='red')\n",
    "\n",
    "plt.xlabel('Year')\n",
    "plt.ylabel('Total Amount')\n",
    "plt.title('Year-over-Year Comparison of Inflows and Outflows')\n",
    "plt.legend()\n",
    "plt.show()\n"
   ]
  },
  {
   "cell_type": "code",
   "execution_count": null,
   "id": "3be7102d-dcb4-4434-91c7-bd1ec7b663e0",
   "metadata": {},
   "outputs": [],
   "source": [
    "inflows['year'] = inflows['posted_date'].dt.year\n",
    "outflows['year'] = outflows['posted_date'].dt.year\n",
    "\n",
    "yearly_inflows = inflows.groupby('year')['amount'].sum()\n",
    "yearly_outflows = outflows.groupby('year')['amount'].sum()\n",
    "\n",
    "net_yearly_amount = yearly_inflows - yearly_outflows\n",
    "\n",
    "plt.figure(figsize=(12, 6))\n",
    "plt.plot(net_yearly_amount.index, net_yearly_amount.values, label='Average Net Transactions per Year', color='purple', marker='o')\n",
    "\n",
    "plt.xlabel('Year')\n",
    "plt.ylabel('Average Net Amount')\n",
    "plt.title('Average Net Transaction Amount per Year (Inflows - Outflows)')\n",
    "plt.legend()\n",
    "plt.grid(True)\n",
    "plt.show()\n"
   ]
  },
  {
   "cell_type": "code",
   "execution_count": null,
   "id": "e39e7c63-e753-4b34-bb98-7204b5f1230e",
   "metadata": {},
   "outputs": [],
   "source": [
    "inflows_merchant_counts = inflows.groupby(['category', 'memo']).size().reset_index(name='count')\n",
    "outflows_merchant_counts = outflows.groupby(['category', 'memo']).size().reset_index(name='count')\n",
    "\n",
    "most_common_inflows_merchants = inflows_merchant_counts.loc[inflows_merchant_counts.groupby('category')['count'].idxmax()]\n",
    "most_common_outflows_merchants = outflows_merchant_counts.loc[outflows_merchant_counts.groupby('category')['count'].idxmax()]"
   ]
  },
  {
   "cell_type": "code",
   "execution_count": null,
   "id": "63223cd6-d714-43bf-adf4-3c4a0e6d621e",
   "metadata": {},
   "outputs": [],
   "source": [
    "most_common_inflows_merchants[['category', 'memo', 'count']]"
   ]
  },
  {
   "cell_type": "code",
   "execution_count": null,
   "id": "02fb1ffc-7a3c-45f8-8be5-092f1f72ae7a",
   "metadata": {},
   "outputs": [],
   "source": [
    "most_common_inflows_merchants = most_common_inflows_merchants.sort_values('count')\n",
    "plt.figure(figsize=(14, 6))\n",
    "plt.barh(most_common_inflows_merchants['category'], most_common_inflows_merchants['count'], color='red')\n",
    "plt.xlabel('Number of Transactions')\n",
    "plt.ylabel('Category')\n",
    "plt.title('Most Common Merchants per Category (Outflows)')\n",
    "plt.show()\n"
   ]
  },
  {
   "cell_type": "code",
   "execution_count": null,
   "id": "8eb44e15-dbd6-4a27-8348-517ac2edb325",
   "metadata": {},
   "outputs": [],
   "source": [
    "most_common_outflows_merchants[['category', 'memo', 'count']]"
   ]
  },
  {
   "cell_type": "code",
   "execution_count": null,
   "id": "c686c920-ca97-43a4-b37b-3e45cda7f8df",
   "metadata": {},
   "outputs": [],
   "source": [
    "most_common_outflows_merchants = most_common_outflows_merchants.sort_values('count')\n",
    "plt.figure(figsize=(14, 6))\n",
    "plt.barh(most_common_outflows_merchants['category'], most_common_outflows_merchants['count'], color='red')\n",
    "plt.xlabel('Number of Transactions')\n",
    "plt.ylabel('Category')\n",
    "plt.title('Most Common Merchants per Category (Outflows)')\n",
    "plt.show()\n"
   ]
  },
  {
   "cell_type": "markdown",
   "id": "44ff8529-94ca-4516-a1c2-a01b925b857b",
   "metadata": {},
   "source": [
    "## Week 2: Splitting Data into Train and Test"
   ]
  },
  {
   "cell_type": "code",
   "execution_count": null,
   "id": "a8200736-f598-437e-b674-82c829fd44f5",
   "metadata": {},
   "outputs": [],
   "source": [
    "mismatched_memo = outflows[~(outflows.memo == outflows.category)].reset_index().drop(columns='index')\n",
    "mismatched_memo.head()"
   ]
  },
  {
   "cell_type": "code",
   "execution_count": null,
   "id": "1ecc5734-442a-4f46-a659-1f276b2d7315",
   "metadata": {},
   "outputs": [],
   "source": [
    "from sklearn.model_selection import train_test_split\n",
    "\n",
    "test_size = 0.2 \n",
    "\n",
    "inflows_train, inflows_test = train_test_split(inflows, test_size=test_size, random_state=42)\n",
    "outflows_train, outflows_test = train_test_split(outflows, test_size=test_size, random_state=42)\n"
   ]
  },
  {
   "cell_type": "code",
   "execution_count": null,
   "id": "423815ae-78ba-4524-b360-84db43a47f23",
   "metadata": {},
   "outputs": [],
   "source": [
    "# Splitting customer_ids into training and testing sets\n",
    "ids = outflows.prism_consumer_id.unique()\n",
    "ids_memo = mismatched_memo.prism_consumer_id.unique()\n",
    "\n",
    "train_ids, test_ids = train_test_split(ids, test_size=0.25)\n",
    "train_ids_memo, test_ids_memo = train_test_split(ids_memo, test_size=0.25)"
   ]
  },
  {
   "cell_type": "code",
   "execution_count": null,
   "id": "758ce36d-7dd0-430f-a370-bd9fce93b32f",
   "metadata": {},
   "outputs": [],
   "source": [
    "outflows_train = outflows[outflows['prism_consumer_id'].isin(train_ids)]\n",
    "outflows_test = outflows[outflows['prism_consumer_id'].isin(test_ids)]\n",
    "\n",
    "outflows_memo_train = mismatched_memo[mismatched_memo['prism_consumer_id'].isin(train_ids_memo)]\n",
    "outflows_memo_test = mismatched_memo[mismatched_memo['prism_consumer_id'].isin(test_ids_memo)]"
   ]
  },
  {
   "cell_type": "code",
   "execution_count": null,
   "id": "98205c40-6739-4811-bbbe-5235df546350",
   "metadata": {},
   "outputs": [],
   "source": [
    "# Outflows statistics comparison\n",
    "print(\"\\nOutflows - Training Set Statistics:\")\n",
    "print(outflows_memo_train['amount'].describe())\n",
    "print(\"\\nOutflows - Test Set Statistics:\")\n",
    "print(outflows_memo_test['amount'].describe())"
   ]
  },
  {
   "cell_type": "code",
   "execution_count": null,
   "id": "247b3af3-5d23-4dcf-9019-f7f64ee4a641",
   "metadata": {},
   "outputs": [],
   "source": [
    "print(\"\\nOutflows - Category Distribution in Train Set:\")\n",
    "print(outflows_train['category'].value_counts(normalize=True))\n",
    "\n",
    "print(\"\\nOutflows - Category Distribution in Test Set:\")\n",
    "print(outflows_test['category'].value_counts(normalize=True))"
   ]
  },
  {
   "cell_type": "code",
   "execution_count": null,
   "id": "71a89518-4d9f-4803-8b7f-c5e420e499b4",
   "metadata": {},
   "outputs": [],
   "source": [
    "outflows_memo_train.shape, outflows_memo_test.shape"
   ]
  },
  {
   "cell_type": "code",
   "execution_count": null,
   "id": "582869bb-d583-46c0-aa1b-d1e1d93697c7",
   "metadata": {},
   "outputs": [],
   "source": [
    "outflows['memo']"
   ]
  },
  {
   "cell_type": "markdown",
   "id": "34696fea-1e5b-4b40-90ab-22b3d4ab8dd2",
   "metadata": {},
   "source": [
    "## Week 3: Cleaning Memos"
   ]
  },
  {
   "cell_type": "code",
   "execution_count": null,
   "id": "3b2f1e71-f7d9-4349-9808-0bc881afb40f",
   "metadata": {},
   "outputs": [],
   "source": [
    "f = open('memo_original_tracy.txt', 'w')\n",
    "inspect = outflows.memo.unique()\n",
    "\n",
    "f.write(',\\n'.join([str(x) for x in sorted(inspect)]))\n",
    "f.close()"
   ]
  },
  {
   "cell_type": "code",
   "execution_count": null,
   "id": "4e4b7a04-34d9-4a90-817d-698e51790af3",
   "metadata": {},
   "outputs": [],
   "source": [
    "# number of unique memos prior to cleaning\n",
    "outflows.memo.nunique()"
   ]
  },
  {
   "cell_type": "code",
   "execution_count": null,
   "id": "989feed3-79e7-451d-a8e9-8fb443b108ef",
   "metadata": {},
   "outputs": [],
   "source": [
    "import re\n",
    "# lowercase everything\n",
    "outflows['clean_memo'] = outflows['memo'].str.lower()\n",
    "# Removing special characters except for alphanumeric characters and spaces\n",
    "outflows['clean_memo'] = outflows['clean_memo'].apply(lambda x: re.sub(r'[^a-zA-Z0-9\\s]', '', x).strip())"
   ]
  },
  {
   "cell_type": "code",
   "execution_count": null,
   "id": "fb124ab6-56b7-4b69-ae38-8cc2efb3508b",
   "metadata": {},
   "outputs": [],
   "source": [
    "#removing dates\n",
    "outflows['clean_memo'] = outflows['clean_memo'].apply(lambda x: re.sub(r'\\s*\\b\\d{1,2}/\\d{1,2}(?:/\\d{2,4})?\\b\\s*', '', x).strip())\n",
    "print(outflows['clean_memo'].head(10))"
   ]
  },
  {
   "cell_type": "code",
   "execution_count": null,
   "id": "738bbab5-6631-4ca2-8b77-76bb7c477d7d",
   "metadata": {},
   "outputs": [],
   "source": [
    "# remove states abbrievations from end of memos\n",
    "state_abbreviations = [\n",
    "    'AL', 'AK', 'AZ', 'AR', 'CA', 'CO', 'CT', 'DE', 'FL', 'GA', \n",
    "    'HI', 'ID', 'IL', 'IN', 'IA', 'KS', 'KY', 'LA', 'ME', 'MD', \n",
    "    'MA', 'MI', 'MN', 'MS', 'MO', 'MT', 'NE', 'NV', 'NH', 'NJ', \n",
    "    'NM', 'NY', 'NC', 'ND', 'OH', 'OK', 'OR', 'PA', 'RI', 'SC', \n",
    "    'SD', 'TN', 'TX', 'UT', 'VT', 'VA', 'WA', 'WV', 'WI', 'WY'\n",
    "]\n",
    "\n",
    "pattern = r'\\b(?:' + '|'.join(state_abbreviations) + r')\\b$'\n",
    "\n",
    "outflows['clean_memo'] = outflows['clean_memo'].apply(lambda x: re.sub(pattern, '', x).strip())\n",
    "\n",
    "print(outflows['clean_memo'])\n"
   ]
  },
  {
   "cell_type": "code",
   "execution_count": null,
   "id": "5d387140-9902-4bc9-9fd9-8f2fd73214c0",
   "metadata": {},
   "outputs": [],
   "source": [
    "outflows['clean_memo'].unique()"
   ]
  },
  {
   "cell_type": "code",
   "execution_count": null,
   "id": "91697694-191a-41a6-857b-18e4c87e74f3",
   "metadata": {
    "scrolled": true
   },
   "outputs": [],
   "source": [
    "#removed X's for redacted information\n",
    "outflows['clean_memo'] = outflows['clean_memo'].apply(lambda x: re.sub(r'X+', '', x).strip())\n",
    "print(outflows['clean_memo'].head(10))"
   ]
  },
  {
   "cell_type": "code",
   "execution_count": null,
   "id": "26ebfb3a-9571-4af8-b9c9-0b85ccb5b79f",
   "metadata": {},
   "outputs": [],
   "source": [
    "outflows['clean_memo'].unique()"
   ]
  },
  {
   "cell_type": "code",
   "execution_count": null,
   "id": "94714506-bed8-4a69-99fb-5d828264a70b",
   "metadata": {},
   "outputs": [],
   "source": [
    "# Remove hashtags and alphanumeric sequences at the start\n",
    "outflows['clean_memo'] = outflows['clean_memo'].apply(lambda x: re.sub(r'^#[a-z0-9]+', '', x))"
   ]
  },
  {
   "cell_type": "code",
   "execution_count": null,
   "id": "b5ab7dd3-d563-44d0-846d-1119f4200358",
   "metadata": {},
   "outputs": [],
   "source": [
    "# remove website urls\n",
    "outflows['clean_memo'] = outflows['clean_memo'].apply(lambda x: re.sub(r'(www\\.|\\.com)', '', x))"
   ]
  },
  {
   "cell_type": "code",
   "execution_count": null,
   "id": "83ad3c7c-5b9e-45d7-b67c-7b7c554f5354",
   "metadata": {},
   "outputs": [],
   "source": [
    "# Replace special characters with a single space\n",
    "outflows['clean_memo'] = outflows['clean_memo'].apply(lambda x: re.sub(r'[^\\w\\s-]', ' ', x))\n",
    "\n",
    "# Remove hyphens within words\n",
    "outflows['clean_memo'] = outflows['clean_memo'].apply(lambda x: re.sub(r'([a-z]+)\\s?-\\s?([a-z]+)', r'\\1\\2', x))\n",
    "\n",
    "# Remove extra spaces\n",
    "outflows['clean_memo'] = outflows['clean_memo'].apply(lambda x: re.sub(r'\\s+', ' ', x).strip())"
   ]
  },
  {
   "cell_type": "code",
   "execution_count": null,
   "id": "db262d19-b175-41c4-821b-fd85290ef659",
   "metadata": {},
   "outputs": [],
   "source": [
    "#remove wwww for links\n",
    "outflows['clean_memo'] = outflows['clean_memo'].apply(lambda x: re.sub(r'\\bwww(?=\\w)', '', x))"
   ]
  },
  {
   "cell_type": "code",
   "execution_count": null,
   "id": "b8a7e715-87bb-4a7c-8cd9-478682ad85a4",
   "metadata": {},
   "outputs": [],
   "source": [
    "#remove sequence of Xs\n",
    "outflows['clean_memo'] = outflows['clean_memo'].apply(lambda x: re.sub(r'x{3,}', '', x).strip())\n"
   ]
  },
  {
   "cell_type": "code",
   "execution_count": null,
   "id": "dce8f1fe-6973-44e7-b8b0-be903c279a96",
   "metadata": {},
   "outputs": [],
   "source": [
    "# remove stop words that appear in a lot of transactions\n",
    "stop_words = [\n",
    "        'payment', 'transaction', 'deposit', 'withdrawal', 'transfer', \n",
    "        'credit', 'debit', 'refund', 'fee', 'charge', 'purchase', \n",
    "        'atm', 'checkcard', 'poswithdrawl'\n",
    "    ]\n",
    "for word in stop_words:\n",
    "    outflows['memo'] = outflows['memo'].apply(lambda x: re.sub(rf'\\b{word}\\b', '', x).strip())"
   ]
  },
  {
   "cell_type": "code",
   "execution_count": null,
   "id": "05d3a1f8-e6a0-4c2e-aa71-bb569d1325d2",
   "metadata": {},
   "outputs": [],
   "source": [
    "outflows"
   ]
  },
  {
   "cell_type": "code",
   "execution_count": null,
   "id": "50e0cdf3-e28e-4ef0-a82a-7a8a2949c452",
   "metadata": {},
   "outputs": [],
   "source": [
    "# remove sequences of numbers at the start and end of the memo\n",
    "outflows['clean_memo'] = outflows['clean_memo'].apply(lambda x: re.sub(r'^\\d+|\\d+$', '', x).strip())"
   ]
  },
  {
   "cell_type": "code",
   "execution_count": null,
   "id": "2da48827-63de-44fb-8ee2-808856da5db5",
   "metadata": {},
   "outputs": [],
   "source": [
    "#remove spaces\n",
    "outflows['clean_memo'] = outflows['clean_memo'].apply(lambda x: re.sub(r'\\s+', ' ', x).strip())"
   ]
  },
  {
   "cell_type": "code",
   "execution_count": null,
   "id": "a1252a5e-16da-45b4-91f2-b5a3659f957d",
   "metadata": {},
   "outputs": [],
   "source": [
    "mismatched_memos = outflows[outflows['clean_memo'] != outflows['category']]\n",
    "mismatched_memos[['clean_memo', 'category']]"
   ]
  },
  {
   "cell_type": "code",
   "execution_count": null,
   "id": "33dd353d-22ca-4766-9569-f7fc6396d97f",
   "metadata": {},
   "outputs": [],
   "source": [
    "outflows['clean_memo'].unique()"
   ]
  },
  {
   "cell_type": "code",
   "execution_count": null,
   "id": "e06bf8f3-6e0c-49fb-90f5-ad2b2ba028f3",
   "metadata": {},
   "outputs": [],
   "source": [
    "outflows.loc[~(outflows.clean_memo == outflows.category), 'clean_memo'].unique().__len__()"
   ]
  },
  {
   "cell_type": "code",
   "execution_count": null,
   "id": "1de9863b-60fd-44a9-8ef6-67f0bb352a47",
   "metadata": {},
   "outputs": [],
   "source": [
    "wal_mart_memos = outflows[outflows['clean_memo'].str.contains(r'wal', case=False, na=False)]\n",
    "\n",
    "print(wal_mart_memos[['clean_memo', 'category']])\n"
   ]
  },
  {
   "cell_type": "code",
   "execution_count": null,
   "id": "bb790b68-d613-4674-8ab1-e0f5c26905ec",
   "metadata": {},
   "outputs": [],
   "source": [
    "f = open('memo_cleaned_tracy.txt', 'w')\n",
    "inspect = outflows.clean_memo.unique()\n",
    "\n",
    "f.write(',\\n'.join([str(x) for x in sorted(inspect)]))\n",
    "f.close()"
   ]
  },
  {
   "cell_type": "code",
   "execution_count": null,
   "id": "fa13a1ff-09e0-4878-9255-0a2ad400979f",
   "metadata": {},
   "outputs": [],
   "source": [
    "outflows['memo']"
   ]
  },
  {
   "cell_type": "markdown",
   "id": "b241d82a-fa4d-4b9f-8e08-96f992805f38",
   "metadata": {},
   "source": [
    "## Week 4: TF/IDF"
   ]
  },
  {
   "cell_type": "code",
   "execution_count": null,
   "id": "7760b7d8-dd2a-49d6-bd71-2b305bef4f0e",
   "metadata": {},
   "outputs": [],
   "source": [
    "unmatched_memos = outflows[outflows.category != outflows.memo].reset_index(drop=True)\n",
    "unmatched_memos.head()"
   ]
  },
  {
   "cell_type": "code",
   "execution_count": null,
   "id": "88201647-4f35-482a-9a5c-3ef4288c0339",
   "metadata": {},
   "outputs": [],
   "source": [
    "unmatched_memos['posted_date'] = pd.to_datetime(outflows['posted_date'])\n",
    "unmatched_memos['day_of_week'] = unmatched_memos['posted_date'].dt.weekday"
   ]
  },
  {
   "cell_type": "code",
   "execution_count": null,
   "id": "f7ae4403-ca19-48a9-9862-4badfa45bb60",
   "metadata": {},
   "outputs": [],
   "source": [
    "# create day of week, day of month, whole dollar amount indicator\n",
    "unmatched_memos['day_of_month'] = pd.to_datetime(unmatched_memos['posted_date']).dt.day\n",
    "unmatched_memos['is_weekend'] = unmatched_memos['day_of_week'].isin(['Saturday', 'Sunday']).astype(int)\n",
    "unmatched_memos['whole_dollar'] = (unmatched_memos['amount'] % 1 == 0).astype(int)"
   ]
  },
  {
   "cell_type": "code",
   "execution_count": null,
   "id": "0df596cc-9b2b-4849-acdc-72b29a9ef290",
   "metadata": {},
   "outputs": [],
   "source": [
    "unmatched_memos['quarter'] = pd.to_datetime(unmatched_memos['posted_date']).dt.quarter"
   ]
  },
  {
   "cell_type": "code",
   "execution_count": null,
   "id": "a477681c-6c80-4012-9d05-0c0267b42bbc",
   "metadata": {},
   "outputs": [],
   "source": [
    "unmatched_memos['day_of_year'] = pd.to_datetime(unmatched_memos['posted_date']).dt.dayofyear"
   ]
  },
  {
   "cell_type": "code",
   "execution_count": null,
   "id": "63a4616c-2a32-4568-8acd-518ae058d1a9",
   "metadata": {},
   "outputs": [],
   "source": [
    "unmatched_memos['freq_similar_amounts'] = unmatched_memos.groupby(['prism_consumer_id', 'amount']).transform('count')['prism_account_id']"
   ]
  },
  {
   "cell_type": "code",
   "execution_count": null,
   "id": "166a2f26-44ed-43da-9165-cce2aa6f5f2a",
   "metadata": {},
   "outputs": [],
   "source": [
    "unmatched_memos['is_even_amount'] = unmatched_memos.amount.apply(lambda x: 1 if x % 1 == 0 and x % 5 == 0 else 0)"
   ]
  },
  {
   "cell_type": "code",
   "execution_count": null,
   "id": "accea895-d0fa-46b3-ae20-97f3ee6c6b7f",
   "metadata": {},
   "outputs": [],
   "source": [
    "unmatched_memos.columns"
   ]
  },
  {
   "cell_type": "code",
   "execution_count": null,
   "id": "0e9d02a9-3773-4ed3-8f4b-1a516aab93ae",
   "metadata": {},
   "outputs": [],
   "source": [
    "from sklearn.feature_extraction.text import TfidfVectorizer\n",
    "\n",
    "tfidf_vec = TfidfVectorizer(max_features=500)\n",
    "matrix = tfidf_vec.fit_transform(unmatched_memos['clean_memo'])\n",
    "tfidf_df = pd.DataFrame(matrix.toarray(), columns=tfidf_vec.get_feature_names_out())\n",
    "tfidf_df.head()"
   ]
  },
  {
   "cell_type": "code",
   "execution_count": null,
   "id": "c6028269-6caa-4e2e-9be2-0c838e7de118",
   "metadata": {},
   "outputs": [],
   "source": [
    "sorted_tfidf = tfidf_df.sum(axis=0).sort_values(ascending=False)"
   ]
  },
  {
   "cell_type": "code",
   "execution_count": null,
   "id": "6e0e2783-f6de-43b3-b716-f2714c32598f",
   "metadata": {},
   "outputs": [],
   "source": [
    "top_ftrs = sorted_tfidf.index\n",
    "not_helpful = outflows.category.str.lower().unique()\n",
    "\n",
    "top_50 = []\n",
    "\n",
    "for f in top_ftrs:\n",
    "    if f in not_helpful:\n",
    "        continue\n",
    "    else:\n",
    "        top_50.append(f)\n",
    "    if len(top_50) >= 50:\n",
    "        break\n",
    "\n",
    "# top_50[:10]"
   ]
  },
  {
   "cell_type": "code",
   "execution_count": null,
   "id": "d59b2b98-93a1-41ff-8a5f-badc599905bd",
   "metadata": {},
   "outputs": [],
   "source": [
    "# Specify the columns to one-hot encode\n",
    "columns_to_encode = ['day_of_week',\n",
    "       'day_of_month', 'is_weekend', 'whole_dollar', 'quarter', 'day_of_year',\n",
    "       'freq_similar_amounts', 'is_even_amount']\n",
    "\n",
    "# One-hot encode the specified columns\n",
    "outflows_encoded = pd.get_dummies(unmatched_memos, columns=columns_to_encode, drop_first=True)\n",
    "\n",
    "# Display the updated DataFrame\n",
    "outflows_encoded.columns"
   ]
  },
  {
   "cell_type": "code",
   "execution_count": null,
   "id": "058896a1-7430-4a94-b9ba-8c8a772efcd2",
   "metadata": {},
   "outputs": [],
   "source": [
    "for word in top_50:\n",
    "    outflows_encoded[f'tfidf_{word}'] = (outflows_encoded.clean_memo.str.contains(word)).astype(int)"
   ]
  },
  {
   "cell_type": "code",
   "execution_count": null,
   "id": "5b4874ae-0e51-4c3c-8207-7b36f637c420",
   "metadata": {},
   "outputs": [],
   "source": [
    "outflows_encoded"
   ]
  },
  {
   "cell_type": "code",
   "execution_count": null,
   "id": "eec65370-7da3-4df3-aa3a-97d7d72c7483",
   "metadata": {},
   "outputs": [],
   "source": [
    "# from sklearn.feature_extraction.text import TfidfVectorizer\n",
    "\n",
    "# tfidf_vectorizer = TfidfVectorizer(max_features=50)\n",
    "# # Fit and transform the clean_memo column\n",
    "# tfidf_matrix = tfidf_vectorizer.fit_transform(outflows_encoded['clean_memo']).toarray()\n",
    "# tfidf_df = pd.DataFrame(tfidf_matrix, columns=tfidf_vectorizer.get_feature_names_out())\n",
    "# outflows_final = pd.concat([outflows_encoded.reset_index(drop=True), tfidf_df.reset_index(drop=True)], axis=1)\n",
    "# print(outflows_final.head())\n",
    "\n"
   ]
  },
  {
   "cell_type": "code",
   "execution_count": null,
   "id": "3da38550-82d4-4fa5-8898-ca4e048f6e2f",
   "metadata": {},
   "outputs": [],
   "source": [
    "# outflows_final.columns"
   ]
  },
  {
   "cell_type": "code",
   "execution_count": null,
   "id": "1727e21e-aaf2-4ab7-9025-e64272838cfd",
   "metadata": {},
   "outputs": [],
   "source": [
    "import pandas as pd\n",
    "from sklearn.model_selection import train_test_split\n",
    "from sklearn.linear_model import LogisticRegression\n",
    "from sklearn.metrics import accuracy_score, f1_score\n",
    "from sklearn.preprocessing import StandardScaler\n"
   ]
  },
  {
   "cell_type": "code",
   "execution_count": null,
   "id": "efa80528-7a1a-4a6b-9078-322d66b4bb9a",
   "metadata": {},
   "outputs": [],
   "source": [
    "X = outflows_encoded.drop(columns=['category'])  # Features\n",
    "y = outflows_encoded['category']                 # Target"
   ]
  },
  {
   "cell_type": "code",
   "execution_count": null,
   "id": "05fa801b-f774-4f22-8b82-574b7599bea4",
   "metadata": {},
   "outputs": [],
   "source": [
    "X_train, X_test, y_train, y_test = train_test_split(X, y, test_size=0.25, random_state=42)"
   ]
  },
  {
   "cell_type": "code",
   "execution_count": null,
   "id": "95cc2aad-a8d8-4c09-bcb1-a42c6bbecf53",
   "metadata": {},
   "outputs": [],
   "source": [
    "X_train = pd.get_dummies(X_train, drop_first=True)\n",
    "X_test = pd.get_dummies(X_test, drop_first=True)\n",
    "\n",
    "# Align the columns of train and test set after one-hot encoding\n",
    "X_train, X_test = X_train.align(X_test, join='left', axis=1, fill_value=0)\n"
   ]
  },
  {
   "cell_type": "code",
   "execution_count": null,
   "id": "6a5d2fe3-57fc-484f-bc80-5bc04aceb48d",
   "metadata": {},
   "outputs": [],
   "source": [
    "log_reg = LogisticRegression(max_iter=200, random_state=42)  \n",
    "log_reg.fit(X_train, y_train)"
   ]
  },
  {
   "cell_type": "code",
   "execution_count": null,
   "id": "9257a5d4-fda2-443d-8c68-9f87aefa78b3",
   "metadata": {},
   "outputs": [],
   "source": [
    "y_pred = log_reg.predict(X_test)"
   ]
  },
  {
   "cell_type": "code",
   "execution_count": null,
   "id": "6ee1f21f-fb45-4d94-861f-9cc7268cc2ab",
   "metadata": {},
   "outputs": [],
   "source": [
    "test_acc = (y_test == y_pred).mean()\n",
    "test_acc"
   ]
  },
  {
   "cell_type": "code",
   "execution_count": null,
   "id": "0af03704-8a84-408d-9391-582fe440bf93",
   "metadata": {},
   "outputs": [],
   "source": [
    "train_acc = (y_train == log_reg.predict(X_train)).mean()\n",
    "train_acc"
   ]
  },
  {
   "cell_type": "code",
   "execution_count": null,
   "id": "e8a67448-7acb-4dd4-98ac-8cfc466d3711",
   "metadata": {},
   "outputs": [],
   "source": [
    "outflows_final"
   ]
  },
  {
   "cell_type": "code",
   "execution_count": null,
   "id": "6017ddf4-590b-446b-baa9-24e3ab021f65",
   "metadata": {},
   "outputs": [],
   "source": [
    "outflows_final.columns"
   ]
  },
  {
   "cell_type": "code",
   "execution_count": null,
   "id": "6f0caed3-e520-4438-a57d-3541c6a5064b",
   "metadata": {},
   "outputs": [],
   "source": [
    "import pandas as pd\n",
    "from sklearn.ensemble import RandomForestClassifier\n",
    "from sklearn.model_selection import train_test_split\n",
    "from sklearn.metrics import accuracy_score, f1_score\n",
    "\n",
    "feature_columns = outflows_final.drop(columns=['prism_consumer_id', 'prism_account_id', 'category','memo', 'posted_date', 'clean_memo']).columns\n",
    "X = outflows_final[feature_columns]\n",
    "y = outflows_final['category']  # Define the target variable\n",
    "\n"
   ]
  },
  {
   "cell_type": "code",
   "execution_count": null,
   "id": "27491508-ed0d-4199-b6b5-ca64e42da305",
   "metadata": {},
   "outputs": [],
   "source": [
    "X_train, X_test, y_train, y_test = train_test_split(X, y, test_size=0.25, random_state=42)"
   ]
  },
  {
   "cell_type": "code",
   "execution_count": null,
   "id": "9c2ef373-0f03-49f0-8c0c-af6a2befd98d",
   "metadata": {},
   "outputs": [],
   "source": [
    "rf_model = RandomForestClassifier(n_estimators=100, random_state=42)\n",
    "rf_model.fit(X_train, y_train)"
   ]
  },
  {
   "cell_type": "code",
   "execution_count": null,
   "id": "599800fa-3f64-4501-977d-a7fe579118ac",
   "metadata": {},
   "outputs": [],
   "source": [
    "\n",
    "y_pred_rf = rf_model.predict(X_test)\n",
    "\n",
    "rf_acc = accuracy_score(y_test, y_pred_rf)\n",
    "rf_f1 = f1_score(y_test, y_pred_rf, average='weighted')\n",
    "\n",
    "print(f\"Random Forest - Accuracy: {rf_acc:.4f}, F1 Score: {rf_f1:.4f}\")"
   ]
  },
  {
   "cell_type": "code",
   "execution_count": null,
   "id": "1a564546-31cf-47c5-a65a-c2c33e1ac29f",
   "metadata": {},
   "outputs": [],
   "source": []
  }
 ],
 "metadata": {
  "kernelspec": {
   "display_name": "Python 3 (ipykernel)",
   "language": "python",
   "name": "python3"
  },
  "language_info": {
   "codemirror_mode": {
    "name": "ipython",
    "version": 3
   },
   "file_extension": ".py",
   "mimetype": "text/x-python",
   "name": "python",
   "nbconvert_exporter": "python",
   "pygments_lexer": "ipython3",
   "version": "3.12.3"
  }
 },
 "nbformat": 4,
 "nbformat_minor": 5
}
