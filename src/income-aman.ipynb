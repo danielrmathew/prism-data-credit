{
 "cells": [
  {
   "cell_type": "code",
   "execution_count": 2,
   "id": "a7eea8e9-8acc-43e9-944d-fe7b9f7550f2",
   "metadata": {},
   "outputs": [],
   "source": [
    "import pandas as pd\n",
    "pd.options.display.float_format = '{:,.4f}'.format\n",
    "import numpy as np\n",
    "import matplotlib.pyplot as plt\n",
    "import re\n",
    "from sklearn.feature_extraction.text import TfidfVectorizer\n",
    "from sklearn.preprocessing import OneHotEncoder\n",
    "from sklearn.metrics import confusion_matrix\n",
    "import seaborn as sns\n",
    "import time"
   ]
  },
  {
   "cell_type": "code",
   "execution_count": 4,
   "id": "7fc09b08-eb77-4225-8ae0-21de34aff741",
   "metadata": {},
   "outputs": [
    {
     "name": "stdout",
     "output_type": "stream",
     "text": [
      "Num GPUs Available:  4\n",
      "CUDA available: True\n",
      "GPU in use: 0\n"
     ]
    }
   ],
   "source": [
    "import tensorflow as tf\n",
    "\n",
    "print(\"Num GPUs Available: \", len(tf.config.experimental.list_physical_devices('GPU')))\n",
    "\n",
    "import torch\n",
    "print(\"CUDA available:\", torch.cuda.is_available())\n",
    "\n",
    "print(\"GPU in use:\", torch.cuda.current_device())\n",
    "torch.cuda.empty_cache()"
   ]
  },
  {
   "cell_type": "code",
   "execution_count": null,
   "id": "7bb504c4-03fb-429e-a1fd-9a18ec936e45",
   "metadata": {},
   "outputs": [],
   "source": []
  },
  {
   "cell_type": "markdown",
   "id": "e4e83487-7366-468f-ab23-62224109b5b8",
   "metadata": {},
   "source": [
    "# Reading Data + EDA"
   ]
  },
  {
   "cell_type": "code",
   "execution_count": 36,
   "id": "13c0789c-9f8b-4bfc-bf25-84d8ebf5d804",
   "metadata": {},
   "outputs": [],
   "source": [
    "inflows = pd.read_parquet('../data/ucsd-inflows.pqt')\n",
    "inflows.category = inflows.category.apply(lambda x: 'PAYCHECK' if x == 'PAYCHECK_PLACEHOLDER' else x)"
   ]
  },
  {
   "cell_type": "code",
   "execution_count": 25,
   "id": "eb190982-28dd-4b57-9a74-a552d6091f43",
   "metadata": {},
   "outputs": [
    {
     "data": {
      "text/html": [
       "<div>\n",
       "<style scoped>\n",
       "    .dataframe tbody tr th:only-of-type {\n",
       "        vertical-align: middle;\n",
       "    }\n",
       "\n",
       "    .dataframe tbody tr th {\n",
       "        vertical-align: top;\n",
       "    }\n",
       "\n",
       "    .dataframe thead th {\n",
       "        text-align: right;\n",
       "    }\n",
       "</style>\n",
       "<table border=\"1\" class=\"dataframe\">\n",
       "  <thead>\n",
       "    <tr style=\"text-align: right;\">\n",
       "      <th></th>\n",
       "      <th>prism_consumer_id</th>\n",
       "      <th>prism_account_id</th>\n",
       "      <th>memo</th>\n",
       "      <th>amount</th>\n",
       "      <th>posted_date</th>\n",
       "      <th>category</th>\n",
       "    </tr>\n",
       "  </thead>\n",
       "  <tbody>\n",
       "    <tr>\n",
       "      <th>0</th>\n",
       "      <td>0</td>\n",
       "      <td>acc_0</td>\n",
       "      <td>PAYCHECK</td>\n",
       "      <td>2,477.0200</td>\n",
       "      <td>2022-03-18</td>\n",
       "      <td>PAYCHECK</td>\n",
       "    </tr>\n",
       "    <tr>\n",
       "      <th>1</th>\n",
       "      <td>0</td>\n",
       "      <td>acc_0</td>\n",
       "      <td>EXTERNAL_TRANSFER</td>\n",
       "      <td>100.0000</td>\n",
       "      <td>2022-10-25</td>\n",
       "      <td>EXTERNAL_TRANSFER</td>\n",
       "    </tr>\n",
       "    <tr>\n",
       "      <th>2</th>\n",
       "      <td>0</td>\n",
       "      <td>acc_0</td>\n",
       "      <td>MISCELLANEOUS</td>\n",
       "      <td>6.2900</td>\n",
       "      <td>2022-08-26</td>\n",
       "      <td>MISCELLANEOUS</td>\n",
       "    </tr>\n",
       "    <tr>\n",
       "      <th>3</th>\n",
       "      <td>0</td>\n",
       "      <td>acc_0</td>\n",
       "      <td>EXTERNAL_TRANSFER</td>\n",
       "      <td>277.0000</td>\n",
       "      <td>2022-06-03</td>\n",
       "      <td>EXTERNAL_TRANSFER</td>\n",
       "    </tr>\n",
       "    <tr>\n",
       "      <th>4</th>\n",
       "      <td>0</td>\n",
       "      <td>acc_0</td>\n",
       "      <td>EXTERNAL_TRANSFER</td>\n",
       "      <td>100.0000</td>\n",
       "      <td>2022-07-29</td>\n",
       "      <td>EXTERNAL_TRANSFER</td>\n",
       "    </tr>\n",
       "  </tbody>\n",
       "</table>\n",
       "</div>"
      ],
      "text/plain": [
       "   prism_consumer_id prism_account_id               memo     amount  \\\n",
       "0                  0            acc_0           PAYCHECK 2,477.0200   \n",
       "1                  0            acc_0  EXTERNAL_TRANSFER   100.0000   \n",
       "2                  0            acc_0      MISCELLANEOUS     6.2900   \n",
       "3                  0            acc_0  EXTERNAL_TRANSFER   277.0000   \n",
       "4                  0            acc_0  EXTERNAL_TRANSFER   100.0000   \n",
       "\n",
       "  posted_date           category  \n",
       "0  2022-03-18           PAYCHECK  \n",
       "1  2022-10-25  EXTERNAL_TRANSFER  \n",
       "2  2022-08-26      MISCELLANEOUS  \n",
       "3  2022-06-03  EXTERNAL_TRANSFER  \n",
       "4  2022-07-29  EXTERNAL_TRANSFER  "
      ]
     },
     "execution_count": 25,
     "metadata": {},
     "output_type": "execute_result"
    }
   ],
   "source": [
    "inflows.head()"
   ]
  },
  {
   "cell_type": "code",
   "execution_count": 37,
   "id": "962f795a-b04e-4480-902a-647cf0460c2e",
   "metadata": {},
   "outputs": [],
   "source": [
    "# Check values add up\n",
    "\n",
    "# inflows['category_check'] = inflows.category.apply(lambda x: 'PAYCHECK' if x == 'PAYCHECK_PLACEHOLDER' else x)\n",
    "# inflows.category.value_counts().loc[['PAYCHECK', 'PAYCHECK_PLACEHOLDER']].sum() == inflows.category_check.value_counts().loc[['PAYCHECK']].values[0]"
   ]
  },
  {
   "cell_type": "code",
   "execution_count": null,
   "id": "f9b91c36-e232-4966-9f20-e44e3b8b377a",
   "metadata": {},
   "outputs": [],
   "source": []
  },
  {
   "cell_type": "markdown",
   "id": "92bbe55d-02d9-496c-b283-b6006d7d6a9b",
   "metadata": {},
   "source": [
    "#### Transactions Per Consumer"
   ]
  },
  {
   "cell_type": "code",
   "execution_count": 51,
   "id": "25840898-8776-4cbd-a073-fa5f3c4d5725",
   "metadata": {},
   "outputs": [
    {
     "data": {
      "text/html": [
       "<div>\n",
       "<style scoped>\n",
       "    .dataframe tbody tr th:only-of-type {\n",
       "        vertical-align: middle;\n",
       "    }\n",
       "\n",
       "    .dataframe tbody tr th {\n",
       "        vertical-align: top;\n",
       "    }\n",
       "\n",
       "    .dataframe thead th {\n",
       "        text-align: right;\n",
       "    }\n",
       "</style>\n",
       "<table border=\"1\" class=\"dataframe\">\n",
       "  <thead>\n",
       "    <tr style=\"text-align: right;\">\n",
       "      <th></th>\n",
       "      <th>category</th>\n",
       "    </tr>\n",
       "    <tr>\n",
       "      <th>prism_consumer_id</th>\n",
       "      <th></th>\n",
       "    </tr>\n",
       "  </thead>\n",
       "  <tbody>\n",
       "    <tr>\n",
       "      <th>0</th>\n",
       "      <td>91</td>\n",
       "    </tr>\n",
       "    <tr>\n",
       "      <th>2</th>\n",
       "      <td>113</td>\n",
       "    </tr>\n",
       "    <tr>\n",
       "      <th>4</th>\n",
       "      <td>152</td>\n",
       "    </tr>\n",
       "    <tr>\n",
       "      <th>7</th>\n",
       "      <td>129</td>\n",
       "    </tr>\n",
       "    <tr>\n",
       "      <th>9</th>\n",
       "      <td>375</td>\n",
       "    </tr>\n",
       "  </tbody>\n",
       "</table>\n",
       "</div>"
      ],
      "text/plain": [
       "                   category\n",
       "prism_consumer_id          \n",
       "0                        91\n",
       "2                       113\n",
       "4                       152\n",
       "7                       129\n",
       "9                       375"
      ]
     },
     "execution_count": 51,
     "metadata": {},
     "output_type": "execute_result"
    }
   ],
   "source": [
    "inflows_consumer_cnt = inflows.groupby('prism_consumer_id').count()[['category']]\n",
    "inflows_consumer_cnt.head()"
   ]
  },
  {
   "cell_type": "code",
   "execution_count": 53,
   "id": "ad3c99ee-6312-45f4-90d0-c126b5d0590b",
   "metadata": {},
   "outputs": [
    {
     "name": "stdout",
     "output_type": "stream",
     "text": [
      "Average # of transactions per consumer: 172.5336\n"
     ]
    }
   ],
   "source": [
    "print(f'Average # of transactions per consumer: {inflows_consumer_cnt.category.mean():.4f}')"
   ]
  },
  {
   "cell_type": "code",
   "execution_count": null,
   "id": "95114139-b018-4087-83a6-3406864a7757",
   "metadata": {},
   "outputs": [],
   "source": []
  },
  {
   "cell_type": "markdown",
   "id": "1a466900-070c-41b8-8599-a650d7d59dca",
   "metadata": {},
   "source": [
    "#### Sum of Inflows by Consumer"
   ]
  },
  {
   "cell_type": "code",
   "execution_count": 56,
   "id": "bda5a0ae-9fb4-4403-866e-2fd449820eb4",
   "metadata": {},
   "outputs": [
    {
     "data": {
      "text/html": [
       "<div>\n",
       "<style scoped>\n",
       "    .dataframe tbody tr th:only-of-type {\n",
       "        vertical-align: middle;\n",
       "    }\n",
       "\n",
       "    .dataframe tbody tr th {\n",
       "        vertical-align: top;\n",
       "    }\n",
       "\n",
       "    .dataframe thead th {\n",
       "        text-align: right;\n",
       "    }\n",
       "</style>\n",
       "<table border=\"1\" class=\"dataframe\">\n",
       "  <thead>\n",
       "    <tr style=\"text-align: right;\">\n",
       "      <th></th>\n",
       "      <th>amount</th>\n",
       "    </tr>\n",
       "    <tr>\n",
       "      <th>prism_consumer_id</th>\n",
       "      <th></th>\n",
       "    </tr>\n",
       "  </thead>\n",
       "  <tbody>\n",
       "    <tr>\n",
       "      <th>0</th>\n",
       "      <td>110,312.4300</td>\n",
       "    </tr>\n",
       "    <tr>\n",
       "      <th>2</th>\n",
       "      <td>349,639.0300</td>\n",
       "    </tr>\n",
       "    <tr>\n",
       "      <th>4</th>\n",
       "      <td>462,557.9000</td>\n",
       "    </tr>\n",
       "    <tr>\n",
       "      <th>7</th>\n",
       "      <td>250,214.0900</td>\n",
       "    </tr>\n",
       "    <tr>\n",
       "      <th>9</th>\n",
       "      <td>215,342.0100</td>\n",
       "    </tr>\n",
       "  </tbody>\n",
       "</table>\n",
       "</div>"
      ],
      "text/plain": [
       "                        amount\n",
       "prism_consumer_id             \n",
       "0                 110,312.4300\n",
       "2                 349,639.0300\n",
       "4                 462,557.9000\n",
       "7                 250,214.0900\n",
       "9                 215,342.0100"
      ]
     },
     "execution_count": 56,
     "metadata": {},
     "output_type": "execute_result"
    }
   ],
   "source": [
    "inflows_consumer_sum = inflows.groupby('prism_consumer_id')[['amount']].sum()\n",
    "\n",
    "inflows_consumer_sum.head()"
   ]
  },
  {
   "cell_type": "code",
   "execution_count": 58,
   "id": "d2a8b720-c5d4-4cd5-b5d7-17f515a981db",
   "metadata": {},
   "outputs": [
    {
     "name": "stdout",
     "output_type": "stream",
     "text": [
      "Average inflow sum per consumer: $126760.4207\n"
     ]
    }
   ],
   "source": [
    "print(f'Average inflow sum per consumer: ${inflows_consumer_sum.amount.mean():.4f}')"
   ]
  },
  {
   "cell_type": "code",
   "execution_count": null,
   "id": "f14127bc-cef2-484b-b9b0-892b1b28ce2c",
   "metadata": {},
   "outputs": [],
   "source": []
  },
  {
   "cell_type": "markdown",
   "id": "642adbc9-81cd-47ff-858d-4b711413551c",
   "metadata": {},
   "source": [
    "#### Income Estimates"
   ]
  },
  {
   "cell_type": "code",
   "execution_count": 59,
   "id": "1c1d1a50-7af0-4781-bf23-6d8a4dde0840",
   "metadata": {
    "scrolled": true
   },
   "outputs": [
    {
     "data": {
      "text/plain": [
       "category\n",
       "EXTERNAL_TRANSFER        156533\n",
       "SELF_TRANSFER            110437\n",
       "DEPOSIT                   61345\n",
       "PAYCHECK                  59225\n",
       "MISCELLANEOUS             55648\n",
       "REFUND                    23220\n",
       "INVESTMENT_INCOME         17325\n",
       "SMALL_DOLLAR_ADVANCE      13621\n",
       "OTHER_BENEFITS             7708\n",
       "TAX                        3405\n",
       "LOAN                       2513\n",
       "UNEMPLOYMENT_BENEFITS      1961\n",
       "INSURANCE                   174\n",
       "Name: count, dtype: int64"
      ]
     },
     "execution_count": 59,
     "metadata": {},
     "output_type": "execute_result"
    }
   ],
   "source": [
    "inflows.category.value_counts()"
   ]
  },
  {
   "cell_type": "code",
   "execution_count": 61,
   "id": "41cc1999-01f9-466c-a792-a21ffd3ee890",
   "metadata": {},
   "outputs": [],
   "source": [
    "# relevant income categories\n",
    "income_cats = ['EXTERNAL_TRANSFER', 'DEPOSIT', 'PAYCHECK', 'INVESTMENT_INCOME', 'OTHER_BENEFITS', 'UNEMPLOYMENT_BENEFITS']\n",
    "inflows_rel = inflows[inflows.category.isin(income_cats)]"
   ]
  },
  {
   "cell_type": "code",
   "execution_count": 63,
   "id": "79830032-1cf7-4543-8c5e-73172167d37e",
   "metadata": {},
   "outputs": [
    {
     "name": "stdout",
     "output_type": "stream",
     "text": [
      "Originally 513115 records, Now 304097 records\n"
     ]
    }
   ],
   "source": [
    "print(f'Originally {inflows.shape[0]} records, Now {inflows_rel.shape[0]} records')"
   ]
  },
  {
   "cell_type": "code",
   "execution_count": null,
   "id": "d1acdaff-3504-4eb1-bcbf-8a6a7d211560",
   "metadata": {},
   "outputs": [],
   "source": []
  },
  {
   "cell_type": "code",
   "execution_count": 66,
   "id": "45a63a47-89c4-4af7-a28a-96ce5441bce2",
   "metadata": {},
   "outputs": [
    {
     "name": "stdout",
     "output_type": "stream",
     "text": [
      "Average rough income sum per consumer: $87154.2950\n"
     ]
    }
   ],
   "source": [
    "inflows_rel_consumer_sum = inflows_rel.groupby('prism_consumer_id')[['amount']].sum()\n",
    "\n",
    "print(f'Average rough income sum per consumer: ${inflows_rel_consumer_sum.amount.mean():.4f}')"
   ]
  },
  {
   "cell_type": "code",
   "execution_count": null,
   "id": "a3304bbe-f2af-46cc-85ec-233b477095dc",
   "metadata": {},
   "outputs": [],
   "source": []
  },
  {
   "cell_type": "code",
   "execution_count": null,
   "id": "f7e3cd87-2c26-4947-9ade-200a879b59d3",
   "metadata": {},
   "outputs": [],
   "source": []
  },
  {
   "cell_type": "code",
   "execution_count": null,
   "id": "8c69ea81-b6d7-4900-b8f2-a8978998992b",
   "metadata": {},
   "outputs": [],
   "source": []
  },
  {
   "cell_type": "code",
   "execution_count": null,
   "id": "c6e8122d-680e-40e0-8cdf-27c25e3c8789",
   "metadata": {},
   "outputs": [],
   "source": []
  },
  {
   "cell_type": "code",
   "execution_count": null,
   "id": "8e6a8087-a031-47d0-9f96-94b149e4c0b0",
   "metadata": {},
   "outputs": [],
   "source": []
  },
  {
   "cell_type": "code",
   "execution_count": null,
   "id": "30704f9c-a832-4470-bd7c-edcd16e2bfa7",
   "metadata": {},
   "outputs": [],
   "source": []
  },
  {
   "cell_type": "code",
   "execution_count": null,
   "id": "4e474ef7-5b44-4af2-a308-b64cc73a7176",
   "metadata": {},
   "outputs": [],
   "source": []
  },
  {
   "cell_type": "code",
   "execution_count": null,
   "id": "a7da0c87-8a79-4533-89f6-bf2c1dced215",
   "metadata": {},
   "outputs": [],
   "source": []
  },
  {
   "cell_type": "code",
   "execution_count": null,
   "id": "cee870c0-48b3-450b-b261-9cbbe67a0da7",
   "metadata": {},
   "outputs": [],
   "source": []
  },
  {
   "cell_type": "code",
   "execution_count": null,
   "id": "a31cf991-9ea2-43e5-80a9-f8f7c582d0c5",
   "metadata": {},
   "outputs": [],
   "source": []
  },
  {
   "cell_type": "code",
   "execution_count": null,
   "id": "f5541447-8150-4c5e-9f98-4c44e511b7d0",
   "metadata": {},
   "outputs": [],
   "source": []
  },
  {
   "cell_type": "code",
   "execution_count": null,
   "id": "d56f1c06-d88b-43e4-b569-8301cd0babab",
   "metadata": {},
   "outputs": [],
   "source": []
  },
  {
   "cell_type": "code",
   "execution_count": null,
   "id": "90490ae1-c6aa-4be6-aabd-91c870c2abb2",
   "metadata": {},
   "outputs": [],
   "source": []
  },
  {
   "cell_type": "code",
   "execution_count": null,
   "id": "1029d1b4-43d4-4acf-a079-18f3e2d092dd",
   "metadata": {},
   "outputs": [],
   "source": []
  }
 ],
 "metadata": {
  "kernelspec": {
   "display_name": "Python 3 (ipykernel)",
   "language": "python",
   "name": "python3"
  },
  "language_info": {
   "codemirror_mode": {
    "name": "ipython",
    "version": 3
   },
   "file_extension": ".py",
   "mimetype": "text/x-python",
   "name": "python",
   "nbconvert_exporter": "python",
   "pygments_lexer": "ipython3",
   "version": "3.11.9"
  }
 },
 "nbformat": 4,
 "nbformat_minor": 5
}
