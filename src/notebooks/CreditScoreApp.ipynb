{
 "cells": [
  {
   "cell_type": "code",
   "execution_count": 1,
   "id": "5d0df570-db9a-4c9e-94a4-72a01030a614",
   "metadata": {},
   "outputs": [],
   "source": [
    "import numpy as np\n",
    "import pandas as pd\n",
    "import ipywidgets as widgets\n",
    "from IPython.display import display, clear_output\n",
    "import pickle\n",
    "import catboost\n",
    "from functools import reduce\n",
    "\n",
    "pd.options.display.float_format = '{:,.4f}'.format\n",
    "from sklearn.preprocessing import StandardScaler"
   ]
  },
  {
   "cell_type": "code",
   "execution_count": 2,
   "id": "7b684373-e9c1-41ee-8185-26885571d535",
   "metadata": {},
   "outputs": [],
   "source": [
    "# Load trained CatBoost model\n",
    "with open(\"catboost_500_80.pkl\", \"rb\") as f:\n",
    "    model = pickle.load(f)"
   ]
  },
  {
   "cell_type": "code",
   "execution_count": 3,
   "id": "b756c964-80de-4095-87f6-ddec4811e753",
   "metadata": {},
   "outputs": [],
   "source": [
    "acctDF = pd.read_parquet('../../data/q2-ucsd-acctDF.pqt')\n",
    "acctDF['balance_date'] = pd.to_datetime(acctDF['balance_date'])\n",
    "\n",
    "consDF_all = pd.read_parquet('../../data/q2-ucsd-consDF.pqt')\n",
    "\n",
    "consDF = consDF_all.dropna()\n",
    "trxnDF = pd.read_parquet('../../data/q2-ucsd-trxnDF.pqt')\n",
    "trxnDF['posted_date'] = pd.to_datetime(trxnDF['posted_date'])\n",
    "\n",
    "cat_map = pd.read_csv('../../data/q2-ucsd-cat-map.csv')\n",
    "cat_map = dict(zip(cat_map['category_id'], cat_map['category']))\n",
    "\n",
    "trxnDF.category = trxnDF.category.replace(cat_map)"
   ]
  },
  {
   "cell_type": "code",
   "execution_count": 4,
   "id": "48d07bf4-5d95-40b6-bedd-8eb49a536ea8",
   "metadata": {},
   "outputs": [],
   "source": [
    "def calc_balances_all(acctDF, trxnDF):\n",
    "\n",
    "    # grabbing checking account\n",
    "    check_acct_totals = acctDF[acctDF.account_type == 'CHECKING'].groupby(['prism_consumer_id', 'balance_date']).sum()\n",
    "    check_acct_totals = check_acct_totals.reset_index()\n",
    "    check_acct_totals = check_acct_totals.drop(axis=1,labels='prism_account_id')\n",
    "    \n",
    "    # Merge transactions with account balances\n",
    "    merged = trxnDF.merge(\n",
    "        check_acct_totals[['prism_consumer_id', 'balance_date', 'balance']], \n",
    "        on='prism_consumer_id', how='left'\n",
    "    )\n",
    "\n",
    "    # Identify pre and post transactions\n",
    "    merged['is_pre'] = merged['posted_date'] <= merged['balance_date']\n",
    "\n",
    "    # Set adjustment values based on pre/post period\n",
    "    merged['adjustment'] = 0.0\n",
    "    merged.loc[merged['is_pre'] & (merged['credit_or_debit'] == 'CREDIT'), 'adjustment'] = -merged['amount']\n",
    "    merged.loc[merged['is_pre'] & (merged['credit_or_debit'] == 'DEBIT'), 'adjustment'] = merged['amount']\n",
    "    merged.loc[~merged['is_pre'] & (merged['credit_or_debit'] == 'CREDIT'), 'adjustment'] = merged['amount']\n",
    "    merged.loc[~merged['is_pre'] & (merged['credit_or_debit'] == 'DEBIT'), 'adjustment'] = -merged['amount']\n",
    "\n",
    "    # Pre-balance transactions: Sort descending and apply reverse cumsum\n",
    "    pre_trans = merged[merged['is_pre']].sort_values(by=['prism_consumer_id', 'posted_date'], ascending=[True, False])\n",
    "    pre_trans['curr_balance'] = pre_trans.groupby('prism_consumer_id')['adjustment'].cumsum() + pre_trans.groupby('prism_consumer_id')['balance'].transform('first')\n",
    "\n",
    "    # Post-balance transactions: Sort ascending and apply forward cumsum\n",
    "    post_trans = merged[~merged['is_pre']].sort_values(by=['prism_consumer_id', 'posted_date'], ascending=[True, True])\n",
    "    post_trans['curr_balance'] = post_trans.groupby('prism_consumer_id')['adjustment'].cumsum() + post_trans.groupby('prism_consumer_id')['balance'].transform('first')\n",
    "\n",
    "    # Combine results\n",
    "    result = pd.concat([pre_trans, post_trans]).sort_values(by=['prism_consumer_id', 'posted_date'])\n",
    "\n",
    "    # result['category'] = result.category.apply(lambda x: cat_dict[x])\n",
    "\n",
    "    return result[['prism_consumer_id', 'prism_transaction_id', 'category', 'amount', 'credit_or_debit', 'posted_date', 'curr_balance']].sort_values(by='posted_date', ascending=False)"
   ]
  },
  {
   "cell_type": "code",
   "execution_count": 5,
   "id": "0295a046-31e5-46be-9586-13d860abf748",
   "metadata": {},
   "outputs": [],
   "source": [
    "balanceDF = calc_balances_all(acctDF, trxnDF)"
   ]
  },
  {
   "cell_type": "code",
   "execution_count": 6,
   "id": "95449140-00f6-4c92-a1da-7084594dac5c",
   "metadata": {},
   "outputs": [],
   "source": [
    "def filter_time_window(df, days=None, months=None, years=None):\n",
    "    def filter_group(group):\n",
    "        latest_date = group['posted_date'].max()  # Get latest transaction date per consumer\n",
    "        cutoff_date = latest_date - pd.DateOffset(days=days or 0, months=months or 0, years=years or 0)\n",
    "        return group[group['posted_date'] >= cutoff_date]  # Filter transactions\n",
    "\n",
    "    return df.groupby('prism_consumer_id', group_keys=False).apply(filter_group)\n",
    "\n",
    "def compute_balance_delta(balance_filtered, label):\n",
    "    # Get last balance per consumer\n",
    "    last_balance = balance_filtered.groupby('prism_consumer_id')['curr_balance'].last().reset_index()\n",
    "    last_balance = last_balance.rename(columns={'curr_balance': 'curr_balance_last'})\n",
    "    \n",
    "    # Get earliest balance in the filtered dataset\n",
    "    first_balance = balance_filtered.groupby('prism_consumer_id')['curr_balance'].first().reset_index()\n",
    "    first_balance = first_balance.rename(columns={'curr_balance': 'curr_balance_first'})\n",
    "    \n",
    "    # Merge and compute balance delta\n",
    "    df_merged = last_balance.merge(first_balance, on='prism_consumer_id', how='left')\n",
    "    df_merged[f'balance_delta_{label}'] = df_merged['curr_balance_last'] - df_merged['curr_balance_first']\n",
    "    \n",
    "    # Keep only relevant columns\n",
    "    return df_merged[['prism_consumer_id', f'balance_delta_{label}']]\n",
    "\n",
    "def generate_category_features(trxnDF, cat_map, categories):\n",
    "    \"\"\"\n",
    "    Generates transaction-based features for each selected category over multiple time windows.\n",
    "    \n",
    "    Parameters:\n",
    "        trxnDF (pd.DataFrame): DataFrame containing transaction data.\n",
    "        cat_map (pd.DataFrame): DataFrame mapping category IDs to category names.\n",
    "        categories (str or list): One or more transaction categories to filter.\n",
    "\n",
    "    Returns:\n",
    "        pd.DataFrame: Aggregated features per prism_consumer_id.\n",
    "    \"\"\"\n",
    "    if isinstance(categories, str):\n",
    "        categories = [categories]\n",
    "\n",
    "    # trxnDF = trxnDF.merge(cat_map, left_on='category', right_on='category_id', how='left')\n",
    "    # trxnDF['category'] = trxnDF['category_y']\n",
    "    # trxnDF = trxnDF.drop(columns=['category_id', 'category_y'])\n",
    "\n",
    "    trxnDF['posted_date'] = pd.to_datetime(trxnDF['posted_date'])\n",
    "\n",
    "    time_windows = {\n",
    "        'overall': None,\n",
    "        'last_14_days': 14,\n",
    "        'last_30_days': 30,\n",
    "        'last_3_months': 90,\n",
    "        'last_6_months': 180,\n",
    "        'last_year': 365\n",
    "    }\n",
    "\n",
    "    features_dict = {}\n",
    "\n",
    "    for category in categories:\n",
    "        # filter transactions for the current category\n",
    "        filtered_trxn = trxnDF[trxnDF['category'] == category].copy()\n",
    "\n",
    "        # get last posted date per consumer\n",
    "        last_posted_dates = filtered_trxn.groupby('prism_consumer_id')['posted_date'].max()\n",
    "\n",
    "        for window_name, days in time_windows.items():\n",
    "            if days is None:\n",
    "                df_time_filtered = filtered_trxn\n",
    "            else:\n",
    "                # consumer-specific time filters\n",
    "                df_time_filtered = filtered_trxn.merge(last_posted_dates, on='prism_consumer_id', suffixes=('', '_latest'))\n",
    "                df_time_filtered = df_time_filtered[df_time_filtered['posted_date'] >= (df_time_filtered['posted_date_latest'] - pd.Timedelta(days=days))]\n",
    "                df_time_filtered = df_time_filtered.drop(columns=['posted_date_latest'])\n",
    "\n",
    "            # aggregate features\n",
    "            agg_features = df_time_filtered.groupby('prism_consumer_id')['amount'].agg(\n",
    "                mean='mean',\n",
    "                median='median',\n",
    "                std='std',\n",
    "                max='max',\n",
    "                min='min',\n",
    "                count='count'\n",
    "            )\n",
    "\n",
    "            # total transaction count per consumer in the time window\n",
    "            total_trxn_counts = trxnDF.groupby('prism_consumer_id')['amount'].count()\n",
    "\n",
    "            # compute percentage of transactions in this category for the time window\n",
    "            percentage_trxn = (agg_features['count'] / total_trxn_counts).fillna(0)\n",
    "            percentage_trxn = percentage_trxn.rename(f\"{category}_{window_name}_percent\")\n",
    "\n",
    "            agg_features = agg_features.rename(columns=lambda x: f\"{category}_{window_name}_{x}\")\n",
    "\n",
    "            features_dict[f\"{category}_{window_name}\"] = pd.concat([agg_features, percentage_trxn], axis=1)\n",
    "\n",
    "\n",
    "    final_features = pd.concat(features_dict.values(), axis=1).fillna(0)\n",
    "    return final_features\n",
    "\n",
    "def compute_threshold_stats(df, thresholds, cat_label):\n",
    "    # Count total gambling transactions\n",
    "    counts = df.groupby('prism_consumer_id').size().reset_index(name=f'{cat_label}_count')\n",
    "\n",
    "    # Check thresholds\n",
    "    threshold_flags = df.groupby('prism_consumer_id')['amount'].agg(lambda x: [any(x >= t) for t in thresholds]).apply(pd.Series)\n",
    "    threshold_flags.columns = [f'{cat_label}_over_{t}' for t in thresholds]\n",
    "    threshold_flags = threshold_flags.astype(bool)  # Convert to True/False\n",
    "\n",
    "    # Merge counts and flags\n",
    "    result = counts.merge(threshold_flags, on='prism_consumer_id', how='left')\n",
    "\n",
    "    return result\n",
    "\n"
   ]
  },
  {
   "cell_type": "code",
   "execution_count": 7,
   "id": "78741fa2-1706-4a86-a937-b0c8067ed32f",
   "metadata": {},
   "outputs": [],
   "source": [
    "# creating relevant outflows df with only expenses\n",
    "debits_not_expenses = ['SELF_TRANSFER', 'ATM_CASH']\n",
    "credits_not_income = ['SELF_TRANSFER', 'LOAN', 'REFUND'] # maybe TAX\n",
    "\n",
    "outflows_agg_df = trxnDF[(trxnDF.credit_or_debit == 'DEBIT') & (~trxnDF['category'].isin(debits_not_expenses))] \\\n",
    "                        .groupby('prism_consumer_id')['amount'].agg(['mean', 'std', 'median', 'min', 'max'])\n",
    "outflows_agg_df.columns = ['outflows_amt_' + col for col in outflows_agg_df.columns]\n",
    "\n",
    "inflows_agg_df = trxnDF[(trxnDF.credit_or_debit == 'CREDIT') & (~trxnDF['category'].isin(credits_not_income))] \\\n",
    "                        .groupby('prism_consumer_id')['amount'].agg(['mean', 'std', 'median', 'min', 'max'])\n",
    "inflows_agg_df.columns = ['inflows_amt_' + col for col in inflows_agg_df.columns]"
   ]
  },
  {
   "cell_type": "code",
   "execution_count": 8,
   "id": "5791f054-4004-45ed-9163-23e648543fdf",
   "metadata": {},
   "outputs": [
    {
     "name": "stderr",
     "output_type": "stream",
     "text": [
      "/tmp/ipykernel_398/1644253571.py:7: DeprecationWarning: DataFrameGroupBy.apply operated on the grouping columns. This behavior is deprecated, and in a future version of pandas the grouping columns will be excluded from the operation. Either pass `include_groups=False` to exclude the groupings or explicitly select the grouping columns after groupby to silence this warning.\n",
      "  return df.groupby('prism_consumer_id', group_keys=False).apply(filter_group)\n",
      "/tmp/ipykernel_398/1644253571.py:7: DeprecationWarning: DataFrameGroupBy.apply operated on the grouping columns. This behavior is deprecated, and in a future version of pandas the grouping columns will be excluded from the operation. Either pass `include_groups=False` to exclude the groupings or explicitly select the grouping columns after groupby to silence this warning.\n",
      "  return df.groupby('prism_consumer_id', group_keys=False).apply(filter_group)\n",
      "/tmp/ipykernel_398/1644253571.py:7: DeprecationWarning: DataFrameGroupBy.apply operated on the grouping columns. This behavior is deprecated, and in a future version of pandas the grouping columns will be excluded from the operation. Either pass `include_groups=False` to exclude the groupings or explicitly select the grouping columns after groupby to silence this warning.\n",
      "  return df.groupby('prism_consumer_id', group_keys=False).apply(filter_group)\n",
      "/tmp/ipykernel_398/1644253571.py:7: DeprecationWarning: DataFrameGroupBy.apply operated on the grouping columns. This behavior is deprecated, and in a future version of pandas the grouping columns will be excluded from the operation. Either pass `include_groups=False` to exclude the groupings or explicitly select the grouping columns after groupby to silence this warning.\n",
      "  return df.groupby('prism_consumer_id', group_keys=False).apply(filter_group)\n",
      "/tmp/ipykernel_398/1644253571.py:7: DeprecationWarning: DataFrameGroupBy.apply operated on the grouping columns. This behavior is deprecated, and in a future version of pandas the grouping columns will be excluded from the operation. Either pass `include_groups=False` to exclude the groupings or explicitly select the grouping columns after groupby to silence this warning.\n",
      "  return df.groupby('prism_consumer_id', group_keys=False).apply(filter_group)\n"
     ]
    },
    {
     "name": "stdout",
     "output_type": "stream",
     "text": [
      "CPU times: user 46 s, sys: 1.95 s, total: 47.9 s\n",
      "Wall time: 48 s\n"
     ]
    }
   ],
   "source": [
    "%%time\n",
    "\n",
    "balance_ftrs = balanceDF.groupby('prism_consumer_id')['curr_balance'].agg(['mean', 'std', 'median', 'min', 'max'])\n",
    "balance_ftrs.columns = ['balance_' + x for x in balance_ftrs.columns]\n",
    "balance_last_14_days = filter_time_window(balanceDF, days=14)\n",
    "balance_last_30_days = filter_time_window(balanceDF, days=30)\n",
    "balance_last_3_months = filter_time_window(balanceDF, months=1)\n",
    "balance_last_6_months = filter_time_window(balanceDF, months=6)\n",
    "balance_last_year = filter_time_window(balanceDF, years=1)\n",
    "\n",
    "balance_last_14_days_metrics = balance_last_14_days.groupby('prism_consumer_id')['amount'].agg(['mean', 'std', 'median', 'min', 'max'])\n",
    "balance_last_14_days_metrics.columns = ['balance_last_14_days_' + x for x in balance_last_14_days_metrics.columns]\n",
    "\n",
    "balance_last_30_days_metrics = balance_last_30_days.groupby('prism_consumer_id')['amount'].agg(['mean', 'std', 'median', 'min', 'max'])\n",
    "balance_last_30_days_metrics.columns = ['balance_last_30_days_' + x for x in balance_last_30_days_metrics.columns]\n",
    "\n",
    "balance_last_3_months_metrics = balance_last_3_months.groupby('prism_consumer_id')['amount'].agg(['mean', 'std', 'median', 'min', 'max'])\n",
    "balance_last_3_months_metrics.columns = ['balance_last_3_months_' + x for x in balance_last_3_months_metrics.columns]\n",
    "\n",
    "balance_last_6_months_metrics = balance_last_6_months.groupby('prism_consumer_id')['amount'].agg(['mean', 'std', 'median', 'min', 'max'])\n",
    "balance_last_6_months_metrics.columns = ['balance_last_6_months_' + x for x in balance_last_6_months_metrics.columns]\n",
    "\n",
    "balance_last_year_metrics = balance_last_year.groupby('prism_consumer_id')['amount'].agg(['mean', 'std', 'median', 'min', 'max'])\n",
    "balance_last_year_metrics.columns = ['balance_last_1_year_' + x for x in balance_last_year_metrics.columns]\n",
    "\n",
    "balance_dfs = [consDF[['prism_consumer_id']], balance_ftrs, balance_last_14_days_metrics, balance_last_30_days_metrics, balance_last_3_months_metrics, balance_last_6_months_metrics, balance_last_year_metrics]\n",
    "balance_ftrs = reduce(lambda left, right: pd.merge(left, right, on='prism_consumer_id', how='left'), balance_dfs)"
   ]
  },
  {
   "cell_type": "code",
   "execution_count": 9,
   "id": "126c43e1-16f9-49cc-b531-01b1a64dd3e9",
   "metadata": {},
   "outputs": [
    {
     "name": "stdout",
     "output_type": "stream",
     "text": [
      "CPU times: user 1.81 s, sys: 279 ms, total: 2.08 s\n",
      "Wall time: 2.08 s\n"
     ]
    }
   ],
   "source": [
    "%%time\n",
    "\n",
    "# balance_deltas\n",
    "balance_delta_overall = compute_balance_delta(balanceDF, 'overall')\n",
    "balance_delta_14d = compute_balance_delta(balance_last_14_days, '14d')\n",
    "balance_delta_30d = compute_balance_delta(balance_last_30_days, '30d')\n",
    "balance_delta_3m = compute_balance_delta(balance_last_3_months, '3m')\n",
    "balance_delta_6m = compute_balance_delta(balance_last_6_months, '6m')\n",
    "balance_delta_1y = compute_balance_delta(balance_last_year, '1y')\n",
    "\n",
    "\n",
    "balance_deltas_dfs = [consDF[['prism_consumer_id']], balance_delta_overall, balance_delta_14d, balance_delta_30d, balance_delta_3m, balance_delta_6m, balance_delta_1y]\n",
    "balance_deltas_ftrs = reduce(lambda left, right: pd.merge(left, right, on='prism_consumer_id', how='left'), balance_deltas_dfs)"
   ]
  },
  {
   "cell_type": "code",
   "execution_count": 10,
   "id": "5d74d39a-3eb3-4253-a01e-93de6db9fd2c",
   "metadata": {},
   "outputs": [
    {
     "name": "stderr",
     "output_type": "stream",
     "text": [
      "/tmp/ipykernel_398/1644253571.py:7: DeprecationWarning: DataFrameGroupBy.apply operated on the grouping columns. This behavior is deprecated, and in a future version of pandas the grouping columns will be excluded from the operation. Either pass `include_groups=False` to exclude the groupings or explicitly select the grouping columns after groupby to silence this warning.\n",
      "  return df.groupby('prism_consumer_id', group_keys=False).apply(filter_group)\n",
      "/tmp/ipykernel_398/1644253571.py:7: DeprecationWarning: DataFrameGroupBy.apply operated on the grouping columns. This behavior is deprecated, and in a future version of pandas the grouping columns will be excluded from the operation. Either pass `include_groups=False` to exclude the groupings or explicitly select the grouping columns after groupby to silence this warning.\n",
      "  return df.groupby('prism_consumer_id', group_keys=False).apply(filter_group)\n",
      "/tmp/ipykernel_398/1644253571.py:7: DeprecationWarning: DataFrameGroupBy.apply operated on the grouping columns. This behavior is deprecated, and in a future version of pandas the grouping columns will be excluded from the operation. Either pass `include_groups=False` to exclude the groupings or explicitly select the grouping columns after groupby to silence this warning.\n",
      "  return df.groupby('prism_consumer_id', group_keys=False).apply(filter_group)\n",
      "/tmp/ipykernel_398/1644253571.py:7: DeprecationWarning: DataFrameGroupBy.apply operated on the grouping columns. This behavior is deprecated, and in a future version of pandas the grouping columns will be excluded from the operation. Either pass `include_groups=False` to exclude the groupings or explicitly select the grouping columns after groupby to silence this warning.\n",
      "  return df.groupby('prism_consumer_id', group_keys=False).apply(filter_group)\n",
      "/tmp/ipykernel_398/1644253571.py:7: DeprecationWarning: DataFrameGroupBy.apply operated on the grouping columns. This behavior is deprecated, and in a future version of pandas the grouping columns will be excluded from the operation. Either pass `include_groups=False` to exclude the groupings or explicitly select the grouping columns after groupby to silence this warning.\n",
      "  return df.groupby('prism_consumer_id', group_keys=False).apply(filter_group)\n"
     ]
    }
   ],
   "source": [
    "trxn_df_last_14_days = filter_time_window(trxnDF, days=14)\n",
    "trxn_df_last_30_days = filter_time_window(trxnDF, days=30)\n",
    "trxn_df_last_3_months = filter_time_window(trxnDF, months=3)\n",
    "trxn_df_last_6_months = filter_time_window(trxnDF, months=6)\n",
    "trxn_df_last_year = filter_time_window(trxnDF, years=1)\n",
    "\n",
    "debits_df = trxnDF[trxnDF.credit_or_debit == 'DEBIT']\n",
    "credits_df = trxnDF[trxnDF.credit_or_debit == 'CREDIT']\n",
    "\n",
    "debits_df_last_14_days = trxn_df_last_14_days[trxn_df_last_14_days.credit_or_debit == 'DEBIT']\n",
    "debits_df_last_30_days = trxn_df_last_30_days[trxn_df_last_30_days.credit_or_debit == 'DEBIT']\n",
    "debits_df_last_3_months = trxn_df_last_3_months[trxn_df_last_3_months.credit_or_debit == 'DEBIT']\n",
    "debits_df_last_6_months = trxn_df_last_6_months[trxn_df_last_6_months.credit_or_debit == 'DEBIT']\n",
    "debits_df_last_year = trxn_df_last_year[trxn_df_last_year.credit_or_debit == 'DEBIT']\n",
    "\n",
    "credits_df_last_14_days = trxn_df_last_14_days[trxn_df_last_14_days.credit_or_debit == 'CREDIT']\n",
    "credits_df_last_30_days = trxn_df_last_30_days[trxn_df_last_30_days.credit_or_debit == 'CREDIT']\n",
    "credits_df_last_3_months = trxn_df_last_3_months[trxn_df_last_3_months.credit_or_debit == 'CREDIT']\n",
    "credits_df_last_6_months = trxn_df_last_6_months[trxn_df_last_6_months.credit_or_debit == 'CREDIT']\n",
    "credits_df_last_year = trxn_df_last_year[trxn_df_last_year.credit_or_debit == 'CREDIT']"
   ]
  },
  {
   "cell_type": "code",
   "execution_count": 11,
   "id": "7a7b5b7f-eba1-4aba-93fa-f438bb2ee102",
   "metadata": {},
   "outputs": [
    {
     "name": "stdout",
     "output_type": "stream",
     "text": [
      "CPU times: user 3.41 s, sys: 355 ms, total: 3.76 s\n",
      "Wall time: 3.76 s\n"
     ]
    }
   ],
   "source": [
    "%%time\n",
    "\n",
    "# creating windowed expenses aggregate metrics\n",
    "outflows_ftrs = debits_df[~debits_df['category'].isin(debits_not_expenses)] \\\n",
    "                        .groupby('prism_consumer_id')['amount'].agg(['mean', 'std', 'median', 'min', 'max'])\n",
    "outflows_ftrs.columns = ['outflows_amt_' + col for col in outflows_ftrs.columns]\n",
    "\n",
    "outflows_last_14_days_agg_df = debits_df_last_14_days[~debits_df_last_14_days['category'].isin(debits_not_expenses)] \\\n",
    "                        .groupby('prism_consumer_id')['amount'].agg(['mean', 'std', 'median', 'min', 'max'])\n",
    "outflows_last_14_days_agg_df.columns = ['outflows_amt_last_14_days_' + col for col in outflows_last_14_days_agg_df.columns]\n",
    "\n",
    "outflows_last_30_days_agg_df = debits_df_last_30_days[~debits_df_last_30_days['category'].isin(debits_not_expenses)] \\\n",
    "                        .groupby('prism_consumer_id')['amount'].agg(['mean', 'std', 'median', 'min', 'max'])\n",
    "outflows_last_30_days_agg_df.columns = ['outflows_amt_last_30_days_' + col for col in outflows_last_30_days_agg_df.columns]\n",
    "\n",
    "outflows_last_3_months_agg_df = debits_df_last_3_months[~debits_df_last_3_months['category'].isin(debits_not_expenses)] \\\n",
    "                        .groupby('prism_consumer_id')['amount'].agg(['mean', 'std', 'median', 'min', 'max'])\n",
    "outflows_last_3_months_agg_df.columns = ['outflows_amt_last_3_months_' + col for col in outflows_last_3_months_agg_df.columns]\n",
    "\n",
    "outflows_last_6_months_agg_df = debits_df_last_6_months[~debits_df_last_6_months['category'].isin(debits_not_expenses)] \\\n",
    "                        .groupby('prism_consumer_id')['amount'].agg(['mean', 'std', 'median', 'min', 'max'])\n",
    "outflows_last_6_months_agg_df.columns = ['outflows_amt_last_6_months_' + col for col in outflows_last_6_months_agg_df.columns]\n",
    "\n",
    "outflows_last_year_agg_df = debits_df_last_year[~debits_df_last_year['category'].isin(debits_not_expenses)] \\\n",
    "                        .groupby('prism_consumer_id')['amount'].agg(['mean', 'std', 'median', 'min', 'max'])\n",
    "outflows_last_year_agg_df.columns = ['outflows_amt_last_year_' + col for col in outflows_last_year_agg_df.columns]\n",
    "\n",
    "outflows_df = [consDF[['prism_consumer_id']], outflows_ftrs, outflows_last_14_days_agg_df, outflows_last_30_days_agg_df, outflows_last_3_months_agg_df, outflows_last_6_months_agg_df, outflows_last_year_agg_df]\n",
    "outflows_ftrs = reduce(lambda left, right: pd.merge(left, right, on='prism_consumer_id', how='left'), outflows_df)\n",
    "\n",
    "# inflows\n",
    "inflows_ftrs = credits_df[~credits_df['category'].isin(credits_not_income)] \\\n",
    "                        .groupby('prism_consumer_id')['amount'].agg(['mean', 'std', 'median', 'min', 'max'])\n",
    "inflows_ftrs.columns = ['outflows_amt_' + col for col in inflows_ftrs.columns]\n",
    "\n",
    "inflows_last_14_days_agg_df = credits_df_last_14_days[~credits_df_last_14_days['category'].isin(credits_not_income)] \\\n",
    "                .groupby('prism_consumer_id')['amount'].agg(['mean', 'std', 'median', 'min', 'max'])\n",
    "inflows_last_14_days_agg_df.columns = ['inflows_amt_last_14_days_' + col for col in inflows_last_14_days_agg_df.columns]\n",
    "\n",
    "inflows_last_30_days_agg_df = credits_df_last_30_days[~credits_df_last_30_days['category'].isin(credits_not_income)] \\\n",
    "                .groupby('prism_consumer_id')['amount'].agg(['mean', 'std', 'median', 'min', 'max'])\n",
    "inflows_last_30_days_agg_df.columns = ['inflows_amt_last_30_days_' + col for col in inflows_last_30_days_agg_df.columns]\n",
    "\n",
    "inflows_last_3_months_agg_df = credits_df_last_3_months[~credits_df_last_3_months['category'].isin(credits_not_income)] \\\n",
    "                .groupby('prism_consumer_id')['amount'].agg(['mean', 'std', 'median', 'min', 'max'])\n",
    "inflows_last_3_months_agg_df.columns = ['inflows_amt_last_3_months_' + col for col in inflows_last_3_months_agg_df.columns]\n",
    "\n",
    "inflows_last_6_months_agg_df = credits_df_last_6_months[~credits_df_last_6_months['category'].isin(credits_not_income)] \\\n",
    "                .groupby('prism_consumer_id')['amount'].agg(['mean', 'std', 'median', 'min', 'max'])\n",
    "inflows_last_6_months_agg_df.columns = ['inflows_amt_last_6_months_' + col for col in inflows_last_6_months_agg_df.columns]\n",
    "\n",
    "inflows_last_year_agg_df = credits_df_last_year[~credits_df_last_year['category'].isin(credits_not_income)] \\\n",
    "                .groupby('prism_consumer_id')['amount'].agg(['mean', 'std', 'median', 'min', 'max'])\n",
    "inflows_last_year_agg_df.columns = ['inflows_amt_last_year_' + col for col in inflows_last_year_agg_df.columns]\n",
    "\n",
    "inflows_df = [consDF[['prism_consumer_id']], inflows_ftrs, inflows_last_14_days_agg_df, inflows_last_30_days_agg_df, inflows_last_3_months_agg_df, inflows_last_6_months_agg_df, inflows_last_year_agg_df]\n",
    "inflows_ftrs = reduce(lambda left, right: pd.merge(left, right, on='prism_consumer_id', how='left'), inflows_df)"
   ]
  },
  {
   "cell_type": "code",
   "execution_count": 12,
   "id": "410635e8-07de-42b2-81bb-ff84ada595c2",
   "metadata": {},
   "outputs": [],
   "source": [
    "cat_ok = ['SELF_TRANSFER', 'EXTERNAL_TRANSFER', 'DEPOSIT', 'PAYCHECK',\n",
    "       'MISCELLANEOUS', 'PAYCHECK_PLACEHOLDER', 'REFUND',\n",
    "       'INVESTMENT_INCOME', 'OTHER_BENEFITS', \n",
    "       'SMALL_DOLLAR_ADVANCE', 'TAX', 'LOAN', 'INSURANCE',\n",
    "       'FOOD_AND_BEVERAGES', 'UNCATEGORIZED', 'GENERAL_MERCHANDISE',\n",
    "       'AUTOMOTIVE', 'GROCERIES', 'ATM_CASH', 'ENTERTAINMENT', 'TRAVEL',\n",
    "       'ESSENTIAL_SERVICES', 'ACCOUNT_FEES', 'HOME_IMPROVEMENT',\n",
    "       'OVERDRAFT', 'CREDIT_CARD_PAYMENT', 'HEALTHCARE_MEDICAL', 'PETS',\n",
    "       'EDUCATION', 'GIFTS_DONATIONS', 'BILLS_UTILITIES', 'MORTGAGE',\n",
    "       'RENT', 'BNPL', 'AUTO_LOAN',\n",
    "       'BANKING_CATCH_ALL', 'DEBT', 'FITNESS', 'TRANSPORATION', 'LEGAL',\n",
    "       'GOVERNMENT_SERVICES', 'RISK_CATCH_ALL', 'RTO_LTO', 'INVESTMENT',\n",
    "       'GAMBLING', 'CORPORATE_PAYMENTS', 'TIME_OR_STUFF', 'PENSION']"
   ]
  },
  {
   "cell_type": "code",
   "execution_count": 13,
   "id": "c2722ddc-9d9f-4986-a302-0b5f6a7b80a6",
   "metadata": {},
   "outputs": [
    {
     "name": "stdout",
     "output_type": "stream",
     "text": [
      "CPU times: user 1min 38s, sys: 15.3 s, total: 1min 53s\n",
      "Wall time: 1min 53s\n"
     ]
    }
   ],
   "source": [
    "%%time\n",
    "\n",
    "category_features = generate_category_features(trxnDF, cat_map, cat_ok)"
   ]
  },
  {
   "cell_type": "code",
   "execution_count": 14,
   "id": "3f69919a-1dd9-4b9b-b8ef-3ee5f36a8389",
   "metadata": {},
   "outputs": [
    {
     "name": "stderr",
     "output_type": "stream",
     "text": [
      "/tmp/ipykernel_398/1644253571.py:7: DeprecationWarning: DataFrameGroupBy.apply operated on the grouping columns. This behavior is deprecated, and in a future version of pandas the grouping columns will be excluded from the operation. Either pass `include_groups=False` to exclude the groupings or explicitly select the grouping columns after groupby to silence this warning.\n",
      "  return df.groupby('prism_consumer_id', group_keys=False).apply(filter_group)\n",
      "/tmp/ipykernel_398/1644253571.py:7: DeprecationWarning: DataFrameGroupBy.apply operated on the grouping columns. This behavior is deprecated, and in a future version of pandas the grouping columns will be excluded from the operation. Either pass `include_groups=False` to exclude the groupings or explicitly select the grouping columns after groupby to silence this warning.\n",
      "  return df.groupby('prism_consumer_id', group_keys=False).apply(filter_group)\n",
      "/tmp/ipykernel_398/1644253571.py:7: DeprecationWarning: DataFrameGroupBy.apply operated on the grouping columns. This behavior is deprecated, and in a future version of pandas the grouping columns will be excluded from the operation. Either pass `include_groups=False` to exclude the groupings or explicitly select the grouping columns after groupby to silence this warning.\n",
      "  return df.groupby('prism_consumer_id', group_keys=False).apply(filter_group)\n"
     ]
    },
    {
     "name": "stdout",
     "output_type": "stream",
     "text": [
      "CPU times: user 3.95 s, sys: 36.4 ms, total: 3.98 s\n",
      "Wall time: 3.97 s\n"
     ]
    }
   ],
   "source": [
    "%%time\n",
    "\n",
    "gambling_df_all = balanceDF[balanceDF['category'] == 'GAMBLING']\n",
    "gambling_thresholds = [50, 100, 500, 1000]\n",
    "\n",
    "# Filter for different time periods\n",
    "gambling_last_month = filter_time_window(gambling_df_all, months=1)\n",
    "gambling_last_6m = filter_time_window(gambling_df_all, months=6)\n",
    "gambling_last_year = filter_time_window(gambling_df_all, years=1)\n",
    "\n",
    "gambling_stats_all = compute_threshold_stats(gambling_df_all, gambling_thresholds, 'all')\n",
    "gambling_stats_month = compute_threshold_stats(gambling_last_month, gambling_thresholds, '1m')\n",
    "gambling_stats_6m = compute_threshold_stats(gambling_last_6m, gambling_thresholds, '6m')\n",
    "gambling_stats_year = compute_threshold_stats(gambling_last_year, gambling_thresholds, '1y')\n",
    "\n",
    "gambling_df = [consDF[['prism_consumer_id']], gambling_stats_all, gambling_stats_month, gambling_stats_6m, gambling_stats_year]\n",
    "gambling_ftrs = reduce(lambda left, right: pd.merge(left, right, on='prism_consumer_id', how='left'), gambling_df)\n"
   ]
  },
  {
   "cell_type": "code",
   "execution_count": 15,
   "id": "ae7840f5-8ea2-4b47-8a66-7aa11f90b1af",
   "metadata": {},
   "outputs": [],
   "source": [
    "feature_dfs = [consDF[['prism_consumer_id', 'DQ_TARGET']], balance_ftrs, balance_deltas_ftrs, category_features, outflows_ftrs, inflows_ftrs, inflows_agg_df, outflows_agg_df, gambling_ftrs,]\n",
    "features_all = reduce(lambda left, right: pd.merge(left, right, on='prism_consumer_id', how='left'), feature_dfs)\n"
   ]
  },
  {
   "cell_type": "code",
   "execution_count": null,
   "id": "82976391-0534-40f6-b2dd-0b8d75b6ec93",
   "metadata": {},
   "outputs": [],
   "source": []
  },
  {
   "cell_type": "code",
   "execution_count": 16,
   "id": "5c2943e7-0634-4e28-b07b-bb120fb1b1c9",
   "metadata": {},
   "outputs": [],
   "source": [
    "with open(\"catboost_500_80.pkl\", \"rb\") as f:\n",
    "    model = pickle.load(f)\n",
    "\n",
    "top_500 = []\n",
    "with open('500_ftrs.txt', 'r') as f:\n",
    "    for line in f:\n",
    "        top_500.append(line.strip())\n"
   ]
  },
  {
   "cell_type": "code",
   "execution_count": null,
   "id": "999e056c-efc0-4e8f-940c-c7225e67c996",
   "metadata": {},
   "outputs": [],
   "source": []
  },
  {
   "cell_type": "code",
   "execution_count": 17,
   "id": "ee984d40-6d54-4c08-84b6-eb400b8095ac",
   "metadata": {
    "scrolled": true
   },
   "outputs": [],
   "source": [
    "# top_500"
   ]
  },
  {
   "cell_type": "code",
   "execution_count": null,
   "id": "0b9b3c95-0e35-448e-8e0f-190103e07b5e",
   "metadata": {},
   "outputs": [],
   "source": []
  },
  {
   "cell_type": "code",
   "execution_count": 18,
   "id": "666c28a5-f3b7-4fbc-9f73-f540b407b07a",
   "metadata": {},
   "outputs": [],
   "source": [
    "data = features_all.copy().drop(labels='prism_consumer_id', axis=1) \n",
    "binary_cols = [col for col in data.columns if data[col].nunique() == 2 and sorted(data[col].unique()) == [0, 1]]\n",
    "continuous_cols = [col for col in data.columns if col not in binary_cols]\n",
    "data.fillna(0, inplace=True)\n"
   ]
  },
  {
   "cell_type": "code",
   "execution_count": 19,
   "id": "aa7d8edf-1005-43fd-9405-ae7ce4073284",
   "metadata": {
    "scrolled": true
   },
   "outputs": [
    {
     "data": {
      "text/plain": [
       "balance_mean      2,418.8572\n",
       "balance_std       2,383.4863\n",
       "balance_median    2,183.6499\n",
       "balance_min      -2,115.7357\n",
       "balance_max       8,653.8907\n",
       "dtype: object"
      ]
     },
     "execution_count": 19,
     "metadata": {},
     "output_type": "execute_result"
    }
   ],
   "source": [
    "avg_ftrs = data.drop('DQ_TARGET', axis=1).mean()\n",
    "avg_ftrs.head()\n"
   ]
  },
  {
   "cell_type": "code",
   "execution_count": 20,
   "id": "b1b8b430-4844-4264-833a-72b8800299f3",
   "metadata": {
    "scrolled": true
   },
   "outputs": [
    {
     "data": {
      "text/plain": [
       "DQ_TARGET         0.0838\n",
       "balance_mean     -0.0000\n",
       "balance_std      -0.0000\n",
       "balance_median   -0.0000\n",
       "balance_min      -0.0000\n",
       "dtype: float64"
      ]
     },
     "execution_count": 20,
     "metadata": {},
     "output_type": "execute_result"
    }
   ],
   "source": [
    "scaler = StandardScaler()\n",
    "data[continuous_cols] = scaler.fit_transform(data[continuous_cols])\n",
    "\n",
    "data.mean().head()"
   ]
  },
  {
   "cell_type": "code",
   "execution_count": 21,
   "id": "c4005073-3c47-4072-b6f7-c52fb8902586",
   "metadata": {},
   "outputs": [],
   "source": [
    "X = data.drop(columns=[\"DQ_TARGET\"])\n",
    "y = data['DQ_TARGET']"
   ]
  },
  {
   "cell_type": "code",
   "execution_count": null,
   "id": "2fbfc0b1-ce88-4a5a-aa29-cc48e5398da9",
   "metadata": {},
   "outputs": [],
   "source": []
  },
  {
   "cell_type": "markdown",
   "id": "e4fe8e30-f199-4596-997e-1714e83bd380",
   "metadata": {},
   "source": [
    "### Features For User to Edit\n",
    "\n",
    "- balance (balance_mean)\n",
    "- monthly rent - last 6 months (RENT_last_6_months_min)\n",
    "- minimum paycheck in the last quarter (PAYCHECK_last_3_months_min)\n",
    "- outflow spenditure last quarter (outflows_amt_last_3_months_median)\n",
    "- num of times gambled in last quarter (GAMBLING_last_3_months_count)"
   ]
  },
  {
   "cell_type": "code",
   "execution_count": 22,
   "id": "1840f4bc-0d2b-489f-a9dc-89af909c82ee",
   "metadata": {},
   "outputs": [],
   "source": [
    "# user inputted features\n",
    "example_input = {'balance_mean': 8000, \n",
    "                 'RENT_last_6_months_min': 700, \n",
    "                 'PAYCHECK_last_3_months_min': 8000, \n",
    "                 'outflows_amt_last_3_months_median': 0, \n",
    "                 'GAMBLING_last_3_months_count': 2}"
   ]
  },
  {
   "cell_type": "code",
   "execution_count": 23,
   "id": "5f6ff00f-2839-4edb-8e30-75d0f020e69e",
   "metadata": {},
   "outputs": [],
   "source": [
    "def gen_user_ftrs(inp, overall):\n",
    "    for key in inp.keys():\n",
    "        overall[key] = inp[key]\n",
    "\n",
    "    result = pd.DataFrame(overall,).T  \n",
    "    result[continuous_cols] = scaler.transform(result[continuous_cols])\n",
    "\n",
    "    return result"
   ]
  },
  {
   "cell_type": "code",
   "execution_count": null,
   "id": "a7f8f29f-041c-40a2-9c6c-37fc660be51d",
   "metadata": {},
   "outputs": [],
   "source": []
  },
  {
   "cell_type": "code",
   "execution_count": 24,
   "id": "063ea178-4607-4bfa-9ebe-aaf892e82d19",
   "metadata": {},
   "outputs": [
    {
     "data": {
      "text/html": [
       "<div>\n",
       "<style scoped>\n",
       "    .dataframe tbody tr th:only-of-type {\n",
       "        vertical-align: middle;\n",
       "    }\n",
       "\n",
       "    .dataframe tbody tr th {\n",
       "        vertical-align: top;\n",
       "    }\n",
       "\n",
       "    .dataframe thead th {\n",
       "        text-align: right;\n",
       "    }\n",
       "</style>\n",
       "<table border=\"1\" class=\"dataframe\">\n",
       "  <thead>\n",
       "    <tr style=\"text-align: right;\">\n",
       "      <th></th>\n",
       "      <th>balance_mean</th>\n",
       "      <th>balance_std</th>\n",
       "      <th>balance_median</th>\n",
       "      <th>balance_min</th>\n",
       "      <th>balance_max</th>\n",
       "      <th>balance_last_14_days_mean</th>\n",
       "      <th>balance_last_14_days_std</th>\n",
       "      <th>balance_last_14_days_median</th>\n",
       "      <th>balance_last_14_days_min</th>\n",
       "      <th>balance_last_14_days_max</th>\n",
       "      <th>...</th>\n",
       "      <th>6m_count</th>\n",
       "      <th>6m_over_50</th>\n",
       "      <th>6m_over_100</th>\n",
       "      <th>6m_over_500</th>\n",
       "      <th>6m_over_1000</th>\n",
       "      <th>1y_count</th>\n",
       "      <th>1y_over_50</th>\n",
       "      <th>1y_over_100</th>\n",
       "      <th>1y_over_500</th>\n",
       "      <th>1y_over_1000</th>\n",
       "    </tr>\n",
       "  </thead>\n",
       "  <tbody>\n",
       "    <tr>\n",
       "      <th>0</th>\n",
       "      <td>0.3055</td>\n",
       "      <td>0.0000</td>\n",
       "      <td>0.0000</td>\n",
       "      <td>0.0000</td>\n",
       "      <td>0.0000</td>\n",
       "      <td>0.0000</td>\n",
       "      <td>0.0000</td>\n",
       "      <td>0.0000</td>\n",
       "      <td>0.0000</td>\n",
       "      <td>0.0000</td>\n",
       "      <td>...</td>\n",
       "      <td>0.0000</td>\n",
       "      <td>0.0000</td>\n",
       "      <td>0.0000</td>\n",
       "      <td>0.0000</td>\n",
       "      <td>0.0000</td>\n",
       "      <td>0.0000</td>\n",
       "      <td>0.0000</td>\n",
       "      <td>0.0000</td>\n",
       "      <td>0.0000</td>\n",
       "      <td>0.0000</td>\n",
       "    </tr>\n",
       "  </tbody>\n",
       "</table>\n",
       "<p>1 rows × 2142 columns</p>\n",
       "</div>"
      ],
      "text/plain": [
       "   balance_mean  balance_std  balance_median  balance_min  balance_max  \\\n",
       "0        0.3055       0.0000          0.0000       0.0000       0.0000   \n",
       "\n",
       "   balance_last_14_days_mean  balance_last_14_days_std  \\\n",
       "0                     0.0000                    0.0000   \n",
       "\n",
       "   balance_last_14_days_median  balance_last_14_days_min  \\\n",
       "0                       0.0000                    0.0000   \n",
       "\n",
       "   balance_last_14_days_max  ...  6m_count  6m_over_50  6m_over_100  \\\n",
       "0                    0.0000  ...    0.0000      0.0000       0.0000   \n",
       "\n",
       "   6m_over_500  6m_over_1000  1y_count  1y_over_50  1y_over_100  1y_over_500  \\\n",
       "0       0.0000        0.0000    0.0000      0.0000       0.0000       0.0000   \n",
       "\n",
       "   1y_over_1000  \n",
       "0        0.0000  \n",
       "\n",
       "[1 rows x 2142 columns]"
      ]
     },
     "execution_count": 24,
     "metadata": {},
     "output_type": "execute_result"
    }
   ],
   "source": [
    "user_input = gen_user_ftrs(example_input, avg_ftrs)\n",
    "user_input"
   ]
  },
  {
   "cell_type": "code",
   "execution_count": 25,
   "id": "03a00314-5a49-4499-b227-3400149759de",
   "metadata": {},
   "outputs": [
    {
     "data": {
      "text/plain": [
       "0   0.3055\n",
       "Name: balance_mean, dtype: float64"
      ]
     },
     "execution_count": 25,
     "metadata": {},
     "output_type": "execute_result"
    }
   ],
   "source": [
    "user_input['balance_mean']"
   ]
  },
  {
   "cell_type": "code",
   "execution_count": 26,
   "id": "6ccfdef2-d0ad-4ddb-8eb1-842274dc129d",
   "metadata": {},
   "outputs": [
    {
     "data": {
      "text/plain": [
       "0.9943242121700075"
      ]
     },
     "execution_count": 26,
     "metadata": {},
     "output_type": "execute_result"
    }
   ],
   "source": [
    "pred_proba = model.predict_proba(user_input)[:, 1][0]\n",
    "pred_proba"
   ]
  },
  {
   "cell_type": "code",
   "execution_count": null,
   "id": "3ff3d426-b297-4d6a-bc5f-ec8c521a7522",
   "metadata": {},
   "outputs": [],
   "source": []
  },
  {
   "cell_type": "code",
   "execution_count": 27,
   "id": "fd9eb1eb-dce5-4eb6-b630-63e484a87c09",
   "metadata": {},
   "outputs": [
    {
     "data": {
      "application/vnd.jupyter.widget-view+json": {
       "model_id": "2f748bad57424019b30509c3467618c4",
       "version_major": 2,
       "version_minor": 0
      },
      "text/plain": [
       "IntSlider(value=1000, description='Avg Balance', layout=Layout(width='500'), max=50000, min=-50000, step=100)"
      ]
     },
     "metadata": {},
     "output_type": "display_data"
    },
    {
     "data": {
      "application/vnd.jupyter.widget-view+json": {
       "model_id": "225318626ae04638bb37c6779edbd33a",
       "version_major": 2,
       "version_minor": 0
      },
      "text/plain": [
       "IntSlider(value=800, description='Monthly Rent', layout=Layout(width='500'), max=5000, step=100)"
      ]
     },
     "metadata": {},
     "output_type": "display_data"
    },
    {
     "data": {
      "application/vnd.jupyter.widget-view+json": {
       "model_id": "4befc5387a2344bba8b08b3fea2e664c",
       "version_major": 2,
       "version_minor": 0
      },
      "text/plain": [
       "IntSlider(value=3500, description='Paycheck (Biweekly)', layout=Layout(width='500'), max=20000, step=100)"
      ]
     },
     "metadata": {},
     "output_type": "display_data"
    },
    {
     "data": {
      "application/vnd.jupyter.widget-view+json": {
       "model_id": "171541d9ef3d49b69267db32cbd085de",
       "version_major": 2,
       "version_minor": 0
      },
      "text/plain": [
       "IntSlider(value=300, description='Debit Outflows', layout=Layout(width='500'), max=5000, step=100)"
      ]
     },
     "metadata": {},
     "output_type": "display_data"
    },
    {
     "data": {
      "application/vnd.jupyter.widget-view+json": {
       "model_id": "de974d9c4b0d44a98278ff21501ce3a7",
       "version_major": 2,
       "version_minor": 0
      },
      "text/plain": [
       "IntSlider(value=0, description='Gambling Transactions', layout=Layout(width='500'), max=20)"
      ]
     },
     "metadata": {},
     "output_type": "display_data"
    },
    {
     "data": {
      "application/vnd.jupyter.widget-view+json": {
       "model_id": "a99af6236e644de2a8db49abde4d979c",
       "version_major": 2,
       "version_minor": 0
      },
      "text/plain": [
       "Button(description='Predict Default Probability', style=ButtonStyle())"
      ]
     },
     "metadata": {},
     "output_type": "display_data"
    },
    {
     "data": {
      "application/vnd.jupyter.widget-view+json": {
       "model_id": "371264e1dd854e689327683f41443b03",
       "version_major": 2,
       "version_minor": 0
      },
      "text/plain": [
       "Output()"
      ]
     },
     "metadata": {},
     "output_type": "display_data"
    },
    {
     "data": {
      "application/vnd.jupyter.widget-view+json": {
       "model_id": "010f14b605d24e52b1300550e6060132",
       "version_major": 2,
       "version_minor": 0
      },
      "text/plain": [
       "Output()"
      ]
     },
     "metadata": {},
     "output_type": "display_data"
    }
   ],
   "source": [
    "# Define interactive widgets\n",
    "widget_layout = widgets.Layout(width='500')\n",
    "\n",
    "avg_balance = widgets.IntSlider(min=-50000, max=50000, step=100, value=1000, description=\"Avg Balance\", layout=widget_layout)\n",
    "monthly_rent = widgets.IntSlider(min=0, max=5000, step=100, value=800, description=\"Monthly Rent\", layout=widget_layout)\n",
    "paycheck = widgets.IntSlider(min=0, max=20000, step=100, value=3500, description=\"Paycheck (Biweekly)\", layout=widget_layout)\n",
    "debit_outflows = widgets.IntSlider(min=0, max=5000, step=100, value=300, description=\"Debit Outflows\", layout=widget_layout)\n",
    "gambling_count = widgets.IntSlider(min=0, max=20, step=1, value=0, description=\"Gambling Transactions\", layout=widget_layout)\n",
    "\n",
    "# Output widget for displaying results\n",
    "output = widgets.Output()\n",
    "\n",
    "def gen_user_ftrs(inp, overall):\n",
    "    for key in inp.keys():\n",
    "        overall[key] = inp[key]\n",
    "\n",
    "    result = pd.DataFrame(overall,).T  \n",
    "    result[continuous_cols] = scaler.transform(result[continuous_cols])\n",
    "\n",
    "    return result\n",
    "\n",
    "# Function to predict default probability\n",
    "def predict_default(avg_balance, monthly_rent, paycheck, debit_outflows, gambling_count):\n",
    "    with output:\n",
    "        clear_output(wait=True)  # Clear previous output\n",
    "        \n",
    "        user_inputs = {\n",
    "            \"balance_delta\": avg_balance,\n",
    "            \"credit_inflow\": paycheck,  # Adjust if necessary\n",
    "            \"debit_outflow\": debit_outflows,\n",
    "            \"paycheck\": paycheck,\n",
    "            \"gambling_amount\": gambling_count,\n",
    "        }\n",
    "\n",
    "        print(\"Current Values:\", user_inputs)  # Debugging print\n",
    "        \n",
    "        model_inputs = gen_user_ftrs(user_inputs, avg_ftrs)  # Ensure this function works correctly\n",
    "        display(model_inputs)\n",
    "        display(model_inputs[['RENT_last_6_months_min']])\n",
    "        dq_proba = model.predict_proba(model_inputs)[0][1]\n",
    "        \n",
    "        print(f\"Probability Consumer Defaults: {dq_proba:.2%}\")\n",
    "\n",
    "\n",
    "# Display interactive elements\n",
    "interactive_ui = widgets.interactive_output(predict_default, {\n",
    "    \"avg_balance\": avg_balance,\n",
    "    \"monthly_rent\": monthly_rent,\n",
    "    \"paycheck\": paycheck,\n",
    "    \"debit_outflows\": debit_outflows,\n",
    "    \"gambling_count\": gambling_count\n",
    "})\n",
    "\n",
    "# Button to trigger prediction\n",
    "predict_button = widgets.Button(description=\"Predict Default Probability\")\n",
    "def on_button_click(_):\n",
    "    predict_default(avg_balance.value, monthly_rent.value, paycheck.value, debit_outflows.value, gambling_count.value)\n",
    "\n",
    "predict_button.on_click(on_button_click)\n",
    "\n",
    "\n",
    "\n",
    "# Display interactive elements\n",
    "display(avg_balance, monthly_rent, paycheck, debit_outflows, gambling_count, predict_button, output, interactive_ui)\n"
   ]
  },
  {
   "cell_type": "code",
   "execution_count": null,
   "id": "3ed9e388-2bb2-45bd-96b8-cbabc1793aa2",
   "metadata": {},
   "outputs": [],
   "source": []
  },
  {
   "cell_type": "code",
   "execution_count": 28,
   "id": "5a2b356c-8bbe-4ede-9578-c528d88a8377",
   "metadata": {},
   "outputs": [],
   "source": [
    "#  k nearest neighbor to find a similar consumer\n",
    "# similar test"
   ]
  },
  {
   "cell_type": "code",
   "execution_count": 29,
   "id": "d22dd910-5139-4732-b283-b732eb2ac31e",
   "metadata": {},
   "outputs": [],
   "source": [
    "# Define interactive widgets\n",
    "avg_balance = widgets.IntSlider(min=-5000, max=5000, step=100, value=0, description=\"Average Balance\")\n",
    "monthly_rent =  widgets.IntSlider(min=-5000, max=5000, step=100, value=0, description=\"Rent (per month)\")\n",
    "paycheck = widgets.IntSlider(min=0, max=10000, step=500, value=3000, description=\"Paycheck\")\n",
    "debit_outflows = widgets.IntSlider(min=0, max=10000, step=500, value=1500, description=\"Debit Outflows (per month)\")\n",
    "gambling_count = widgets.IntSlider(min=0, max=20, step=1, value=0, description=\"Gambling\")"
   ]
  },
  {
   "cell_type": "code",
   "execution_count": 30,
   "id": "3e1ffae8-e5b7-4b84-b1f7-63ab497d2dcd",
   "metadata": {},
   "outputs": [
    {
     "data": {
      "application/vnd.jupyter.widget-view+json": {
       "model_id": "2dd9429b9d3a42a9a0ca73da9134d6e6",
       "version_major": 2,
       "version_minor": 0
      },
      "text/plain": [
       "IntSlider(value=0, description='Average Balance', max=5000, min=-5000, step=100)"
      ]
     },
     "metadata": {},
     "output_type": "display_data"
    },
    {
     "data": {
      "application/vnd.jupyter.widget-view+json": {
       "model_id": "c0936fe96cdc4fcba9a574830356f3b8",
       "version_major": 2,
       "version_minor": 0
      },
      "text/plain": [
       "IntSlider(value=0, description='Rent (per month)', max=5000, min=-5000, step=100)"
      ]
     },
     "metadata": {},
     "output_type": "display_data"
    },
    {
     "data": {
      "application/vnd.jupyter.widget-view+json": {
       "model_id": "d2aa7500cd8a4bb783a0d3b63bcf5e04",
       "version_major": 2,
       "version_minor": 0
      },
      "text/plain": [
       "IntSlider(value=3000, description='Paycheck', max=10000, step=500)"
      ]
     },
     "metadata": {},
     "output_type": "display_data"
    },
    {
     "data": {
      "application/vnd.jupyter.widget-view+json": {
       "model_id": "d63fd91d59864c1aa9575d756c6bcb7a",
       "version_major": 2,
       "version_minor": 0
      },
      "text/plain": [
       "IntSlider(value=1500, description='Debit Outflows (per month)', max=10000, step=500)"
      ]
     },
     "metadata": {},
     "output_type": "display_data"
    },
    {
     "data": {
      "application/vnd.jupyter.widget-view+json": {
       "model_id": "68ceb2063ca544569c38eb7cf4b5ccdd",
       "version_major": 2,
       "version_minor": 0
      },
      "text/plain": [
       "IntSlider(value=0, description='Gambling', max=20)"
      ]
     },
     "metadata": {},
     "output_type": "display_data"
    }
   ],
   "source": [
    "display(avg_balance, monthly_rent, paycheck, debit_outflows, gambling_count)"
   ]
  },
  {
   "cell_type": "code",
   "execution_count": 31,
   "id": "c28e3424-d459-4e6d-a8c9-ecc4d4d22bbc",
   "metadata": {},
   "outputs": [],
   "source": [
    "# Function to predict default probability\n",
    "def predict_default():\n",
    "    user_inputs = {\n",
    "        \"balance_delta\": balance_delta.value,\n",
    "        \"credit_inflow\": credit_inflow.value,\n",
    "        \"debit_outflows\": debit_outflows.value,\n",
    "        \"paycheck\": paycheck.value,\n",
    "        \"gambling_amount\": gambling_amount.value,\n",
    "    }\n",
    "\n",
    "    model_inputs = gen_user_ftrs(user_inputs, avg_ftrs)\n",
    "    dq_proba = model.predict_proba(model_inputs)[0][1]\n",
    "    print(f\"Probability Consumer Defaults: {dq_proba:.2%}\")"
   ]
  },
  {
   "cell_type": "code",
   "execution_count": 114,
   "id": "d5da5757-a821-4fb7-a0b8-0e3e966db4e5",
   "metadata": {},
   "outputs": [
    {
     "data": {
      "application/vnd.jupyter.widget-view+json": {
       "model_id": "a37d9d22b95a4618ba663b07268216bb",
       "version_major": 2,
       "version_minor": 0
      },
      "text/plain": [
       "interactive(children=(Output(),), _dom_classes=('widget-interact',))"
      ]
     },
     "execution_count": 114,
     "metadata": {},
     "output_type": "execute_result"
    }
   ],
   "source": [
    "# Display interactive elements\n",
    "widgets.interactive(predict_default, \n",
    "                    avg_balance=avg_balance,\n",
    "                    monthly_rent=monthly_rent,\n",
    "                    paycheck=paycheck,\n",
    "                    debit_outflows=debit_outflows,\n",
    "                    gambling_count=gambling_count)\n"
   ]
  },
  {
   "cell_type": "code",
   "execution_count": null,
   "id": "080c641f-4355-4ae4-80ee-90a5c88f3d42",
   "metadata": {},
   "outputs": [],
   "source": []
  },
  {
   "cell_type": "code",
   "execution_count": null,
   "id": "5ca0dcff-1dc5-4425-81e6-3bdec030ddca",
   "metadata": {},
   "outputs": [],
   "source": []
  },
  {
   "cell_type": "code",
   "execution_count": null,
   "id": "0d9e0ce4-8e6b-4983-bd57-08148f6b6271",
   "metadata": {},
   "outputs": [],
   "source": []
  },
  {
   "cell_type": "code",
   "execution_count": 40,
   "id": "e08fee49-3ab4-4f38-84f7-80daf2c15077",
   "metadata": {},
   "outputs": [],
   "source": [
    "# INCLUDE SET THRESHOLD TO ALLOW CONSUMER TO DETERMINE WHETHER OR NOT TO EVEN OFFER A LOAN"
   ]
  },
  {
   "cell_type": "code",
   "execution_count": null,
   "id": "6911470a-9eb6-44ed-b5fa-571f1df8e690",
   "metadata": {},
   "outputs": [],
   "source": []
  },
  {
   "cell_type": "code",
   "execution_count": null,
   "id": "dd31ffa9-9d61-4038-9de6-2310d7e84768",
   "metadata": {},
   "outputs": [],
   "source": []
  },
  {
   "cell_type": "code",
   "execution_count": null,
   "id": "bffad7da-9ca4-460d-a4a5-00e5de6a65f8",
   "metadata": {},
   "outputs": [],
   "source": []
  },
  {
   "cell_type": "code",
   "execution_count": null,
   "id": "04229bd8-4bcf-44e3-b946-474dd0d8336b",
   "metadata": {},
   "outputs": [],
   "source": []
  },
  {
   "cell_type": "code",
   "execution_count": null,
   "id": "4ee215fc-ac89-4dd7-9871-678d822b5170",
   "metadata": {},
   "outputs": [],
   "source": []
  },
  {
   "cell_type": "code",
   "execution_count": null,
   "id": "d3ba6f1a-5987-47d8-91eb-b6601ae560a3",
   "metadata": {},
   "outputs": [],
   "source": []
  },
  {
   "cell_type": "code",
   "execution_count": null,
   "id": "3ef20df4-1d19-481b-b0b9-d139838a886d",
   "metadata": {},
   "outputs": [],
   "source": []
  },
  {
   "cell_type": "code",
   "execution_count": null,
   "id": "d9419d7f-f133-4346-9447-adf3ba2c380a",
   "metadata": {},
   "outputs": [],
   "source": []
  },
  {
   "cell_type": "code",
   "execution_count": null,
   "id": "ab284ef1-26f0-48ff-8fc5-7369c1d6c733",
   "metadata": {},
   "outputs": [],
   "source": []
  },
  {
   "cell_type": "code",
   "execution_count": null,
   "id": "ce85d10e-beef-48e2-9244-199032929b52",
   "metadata": {},
   "outputs": [],
   "source": []
  },
  {
   "cell_type": "code",
   "execution_count": null,
   "id": "ce312a99-cfe6-4d09-87b8-0030306f35ef",
   "metadata": {},
   "outputs": [],
   "source": []
  },
  {
   "cell_type": "code",
   "execution_count": null,
   "id": "067abc41-2255-4c55-bc6b-9aaafb23ba0b",
   "metadata": {},
   "outputs": [],
   "source": []
  },
  {
   "cell_type": "code",
   "execution_count": null,
   "id": "2f97aab9-a237-4c41-959f-7418a59b8ec2",
   "metadata": {},
   "outputs": [],
   "source": []
  },
  {
   "cell_type": "code",
   "execution_count": null,
   "id": "3baad38a-3ba8-4b70-9e23-3350eb3e568f",
   "metadata": {},
   "outputs": [],
   "source": []
  },
  {
   "cell_type": "code",
   "execution_count": null,
   "id": "9581f65a-35e5-4429-99d1-9fa6e5f51d2a",
   "metadata": {},
   "outputs": [],
   "source": []
  },
  {
   "cell_type": "code",
   "execution_count": null,
   "id": "3e2a3912-f868-48c0-98ce-835b7513f1e7",
   "metadata": {},
   "outputs": [],
   "source": []
  },
  {
   "cell_type": "code",
   "execution_count": null,
   "id": "cba12d2b-9f9a-4908-8b62-51095bc4bc58",
   "metadata": {},
   "outputs": [],
   "source": []
  },
  {
   "cell_type": "code",
   "execution_count": null,
   "id": "a7999e3b-1711-43e1-ab26-1ca43cb1bd38",
   "metadata": {},
   "outputs": [],
   "source": []
  },
  {
   "cell_type": "code",
   "execution_count": null,
   "id": "effc44f9-ad37-4412-ae47-8d3144985935",
   "metadata": {},
   "outputs": [],
   "source": []
  },
  {
   "cell_type": "code",
   "execution_count": null,
   "id": "20be26ba-b0f7-43e5-825b-bc29e4f506aa",
   "metadata": {},
   "outputs": [],
   "source": []
  },
  {
   "cell_type": "code",
   "execution_count": null,
   "id": "208dacbe-03de-420b-b9ba-2a629a9661de",
   "metadata": {},
   "outputs": [],
   "source": []
  },
  {
   "cell_type": "code",
   "execution_count": null,
   "id": "0409542c-95bb-4c9b-8765-e7aa310d10a3",
   "metadata": {},
   "outputs": [],
   "source": []
  },
  {
   "cell_type": "code",
   "execution_count": null,
   "id": "2f241848-c518-41dc-8d83-dc0d853ba317",
   "metadata": {},
   "outputs": [],
   "source": []
  },
  {
   "cell_type": "code",
   "execution_count": null,
   "id": "31d77bb1-987a-4a51-adf2-44a73fa33420",
   "metadata": {},
   "outputs": [],
   "source": []
  },
  {
   "cell_type": "code",
   "execution_count": null,
   "id": "617c32e1-5211-415e-9ab0-34ad404b860d",
   "metadata": {},
   "outputs": [],
   "source": []
  },
  {
   "cell_type": "code",
   "execution_count": null,
   "id": "454201ed-2a3f-4b86-bd84-23bc4f8a9427",
   "metadata": {},
   "outputs": [],
   "source": []
  },
  {
   "cell_type": "code",
   "execution_count": null,
   "id": "564c6754-9ef2-4aad-816e-143d051d0d3b",
   "metadata": {},
   "outputs": [],
   "source": []
  },
  {
   "cell_type": "code",
   "execution_count": null,
   "id": "17ddbf3e-98a9-40ee-a147-f5a03c3dc338",
   "metadata": {},
   "outputs": [],
   "source": []
  },
  {
   "cell_type": "code",
   "execution_count": null,
   "id": "50f380ee-fc05-427c-8852-65bb501cc1c0",
   "metadata": {},
   "outputs": [],
   "source": []
  },
  {
   "cell_type": "code",
   "execution_count": null,
   "id": "e5ea15b0-9df6-49e3-bd9c-603ce98de970",
   "metadata": {},
   "outputs": [],
   "source": []
  },
  {
   "cell_type": "code",
   "execution_count": null,
   "id": "dc475cb9-3a63-4460-bb49-8816e99a3fb1",
   "metadata": {},
   "outputs": [],
   "source": []
  },
  {
   "cell_type": "code",
   "execution_count": null,
   "id": "a84cc1c0-c727-48a8-b1fa-d00b6d90d2e7",
   "metadata": {},
   "outputs": [],
   "source": []
  },
  {
   "cell_type": "code",
   "execution_count": null,
   "id": "75b07aa5-ef5b-4f25-96f5-177ce6a52849",
   "metadata": {},
   "outputs": [],
   "source": []
  },
  {
   "cell_type": "code",
   "execution_count": null,
   "id": "df0c186a-e2d4-4a3f-ae29-986ae015ed64",
   "metadata": {},
   "outputs": [],
   "source": []
  },
  {
   "cell_type": "code",
   "execution_count": null,
   "id": "24df5147-b0c6-4785-b11b-e84ee399ff6b",
   "metadata": {},
   "outputs": [],
   "source": []
  },
  {
   "cell_type": "code",
   "execution_count": null,
   "id": "11601f8d-0235-4524-8446-dc75a361c20b",
   "metadata": {},
   "outputs": [],
   "source": []
  },
  {
   "cell_type": "code",
   "execution_count": null,
   "id": "6330a9e5-f4ca-4cc3-937c-d08ba957e7ab",
   "metadata": {},
   "outputs": [],
   "source": []
  },
  {
   "cell_type": "code",
   "execution_count": null,
   "id": "c1567443-5965-4c88-9f9d-b7516bed51d8",
   "metadata": {},
   "outputs": [],
   "source": []
  },
  {
   "cell_type": "code",
   "execution_count": null,
   "id": "2c7d192e-710b-4738-bd91-a98f783fd8d1",
   "metadata": {},
   "outputs": [],
   "source": []
  },
  {
   "cell_type": "code",
   "execution_count": null,
   "id": "04d128ac-7b54-4e72-80e0-f90298d04d5f",
   "metadata": {},
   "outputs": [],
   "source": []
  },
  {
   "cell_type": "code",
   "execution_count": null,
   "id": "e40335f8-29c3-48a9-b672-c604c75a0635",
   "metadata": {},
   "outputs": [],
   "source": []
  },
  {
   "cell_type": "code",
   "execution_count": null,
   "id": "3b54cae9-a267-4754-8f22-e6136047b8ff",
   "metadata": {},
   "outputs": [],
   "source": []
  },
  {
   "cell_type": "code",
   "execution_count": null,
   "id": "96517853-a135-454b-91b4-9c0f448bc740",
   "metadata": {},
   "outputs": [],
   "source": []
  },
  {
   "cell_type": "code",
   "execution_count": null,
   "id": "a81b6b40-fb21-4076-bb7d-23e1468490fe",
   "metadata": {},
   "outputs": [],
   "source": []
  },
  {
   "cell_type": "code",
   "execution_count": null,
   "id": "4bcc1a95-80fb-485c-8de3-27ae78d7b68b",
   "metadata": {},
   "outputs": [],
   "source": []
  },
  {
   "cell_type": "code",
   "execution_count": null,
   "id": "56f47d40-ae89-4e1c-8370-2da3cba3e14f",
   "metadata": {},
   "outputs": [],
   "source": []
  },
  {
   "cell_type": "code",
   "execution_count": null,
   "id": "aa2d24b2-3196-456a-bb68-0ed735d5aa26",
   "metadata": {},
   "outputs": [],
   "source": []
  },
  {
   "cell_type": "code",
   "execution_count": null,
   "id": "94253077-2b96-492e-81e7-39c918c944c7",
   "metadata": {},
   "outputs": [],
   "source": []
  },
  {
   "cell_type": "code",
   "execution_count": null,
   "id": "764a42fe-223a-40b1-a236-0dbd6b938933",
   "metadata": {},
   "outputs": [],
   "source": []
  },
  {
   "cell_type": "code",
   "execution_count": null,
   "id": "213c1318-84b9-414e-ac6b-4cf864738958",
   "metadata": {},
   "outputs": [],
   "source": []
  },
  {
   "cell_type": "code",
   "execution_count": null,
   "id": "e1d67d37-69a5-4677-ae80-36b508f6eb32",
   "metadata": {},
   "outputs": [],
   "source": []
  },
  {
   "cell_type": "code",
   "execution_count": null,
   "id": "7d3370f7-836b-47ff-96bf-728e106bca22",
   "metadata": {},
   "outputs": [],
   "source": []
  },
  {
   "cell_type": "code",
   "execution_count": null,
   "id": "6b079f18-7c6c-4063-afed-0b4e648bad34",
   "metadata": {},
   "outputs": [],
   "source": []
  },
  {
   "cell_type": "code",
   "execution_count": null,
   "id": "37707b37-5ef9-46a5-804e-95807a653893",
   "metadata": {},
   "outputs": [],
   "source": []
  },
  {
   "cell_type": "code",
   "execution_count": null,
   "id": "70f8de4c-75b3-4dec-96f9-00587cbed1a5",
   "metadata": {},
   "outputs": [],
   "source": []
  },
  {
   "cell_type": "code",
   "execution_count": null,
   "id": "e7267ece-c1af-4b72-9e78-fbc8e1e4076b",
   "metadata": {},
   "outputs": [],
   "source": []
  },
  {
   "cell_type": "code",
   "execution_count": null,
   "id": "4dd66807-0ac9-4f9e-95df-6046a477ac8e",
   "metadata": {},
   "outputs": [],
   "source": []
  },
  {
   "cell_type": "code",
   "execution_count": null,
   "id": "63a042f3-265c-4051-a340-2c17c96efa52",
   "metadata": {},
   "outputs": [],
   "source": []
  },
  {
   "cell_type": "code",
   "execution_count": null,
   "id": "3333ed2b-5af2-4f9c-b4e3-b12cd4906dd9",
   "metadata": {},
   "outputs": [],
   "source": []
  },
  {
   "cell_type": "code",
   "execution_count": null,
   "id": "e423fa3b-6410-45be-a9f8-a06adb9a4fcd",
   "metadata": {},
   "outputs": [],
   "source": []
  },
  {
   "cell_type": "code",
   "execution_count": null,
   "id": "7293dfd9-870c-4f86-8826-0fafffcf03da",
   "metadata": {},
   "outputs": [],
   "source": []
  },
  {
   "cell_type": "code",
   "execution_count": null,
   "id": "e61b3b0f-224d-400e-a0d7-4d613513abee",
   "metadata": {},
   "outputs": [],
   "source": []
  },
  {
   "cell_type": "code",
   "execution_count": null,
   "id": "6c7cfb69-74e6-4d26-b7dc-9c8171c786c5",
   "metadata": {},
   "outputs": [],
   "source": []
  },
  {
   "cell_type": "code",
   "execution_count": null,
   "id": "a5eef856-74c4-4f0c-886d-6194fb11a3ef",
   "metadata": {},
   "outputs": [],
   "source": []
  },
  {
   "cell_type": "code",
   "execution_count": null,
   "id": "5d5f6250-cf94-4592-b8f0-e20cef9d5572",
   "metadata": {},
   "outputs": [],
   "source": []
  },
  {
   "cell_type": "code",
   "execution_count": null,
   "id": "b23fe40e-fe66-42fd-b628-09799fd89f62",
   "metadata": {},
   "outputs": [],
   "source": []
  },
  {
   "cell_type": "code",
   "execution_count": null,
   "id": "5c9f973b-72ff-45f6-acbb-fab6529a1233",
   "metadata": {},
   "outputs": [],
   "source": []
  },
  {
   "cell_type": "code",
   "execution_count": null,
   "id": "e41d7ff5-c3b2-4265-b7ba-aa112e08e265",
   "metadata": {},
   "outputs": [],
   "source": []
  },
  {
   "cell_type": "code",
   "execution_count": null,
   "id": "e43f5b51-6b50-4351-a3d5-c931e372feae",
   "metadata": {},
   "outputs": [],
   "source": []
  },
  {
   "cell_type": "code",
   "execution_count": null,
   "id": "789eeaaa-c0eb-4f1c-b9b3-6fb1bfe4f634",
   "metadata": {},
   "outputs": [],
   "source": []
  },
  {
   "cell_type": "code",
   "execution_count": null,
   "id": "d8929d12-afd6-4329-a9c3-2ce202f7af92",
   "metadata": {},
   "outputs": [],
   "source": []
  },
  {
   "cell_type": "code",
   "execution_count": null,
   "id": "b0fa0dc6-484d-4a00-bd88-0e4b9c986f2e",
   "metadata": {},
   "outputs": [],
   "source": []
  }
 ],
 "metadata": {
  "kernelspec": {
   "display_name": "Python 3 (ipykernel)",
   "language": "python",
   "name": "python3"
  },
  "language_info": {
   "codemirror_mode": {
    "name": "ipython",
    "version": 3
   },
   "file_extension": ".py",
   "mimetype": "text/x-python",
   "name": "python",
   "nbconvert_exporter": "python",
   "pygments_lexer": "ipython3",
   "version": "3.11.9"
  }
 },
 "nbformat": 4,
 "nbformat_minor": 5
}
