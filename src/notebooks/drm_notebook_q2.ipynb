{
 "cells": [
  {
   "cell_type": "code",
   "execution_count": 4,
   "id": "03a71a40-4c2c-4304-ba0a-4ef9c1b44acc",
   "metadata": {},
   "outputs": [],
   "source": [
    "import pandas as pd\n",
    "import numpy as np\n",
    "import matplotlib.pyplot as plt\n",
    "from pathlib import Path"
   ]
  },
  {
   "cell_type": "code",
   "execution_count": 5,
   "id": "a2d54c07-b814-48d1-8860-7c10646e4bf0",
   "metadata": {},
   "outputs": [],
   "source": [
    "acct_df = pd.read_parquet(Path('../../q2data/q2-ucsd-acctDF.pqt'))\n",
    "cons_df = pd.read_parquet(Path('../../q2data/q2-ucsd-consDF.pqt'))\n",
    "trxn_df = pd.read_parquet(Path('../../q2data/q2-ucsd-trxnDF.pqt'))"
   ]
  },
  {
   "cell_type": "code",
   "execution_count": 26,
   "id": "5eca213e-bbac-400c-b877-538226840216",
   "metadata": {},
   "outputs": [],
   "source": [
    "acct_df.balance_date = pd.to_datetime(acct_df.balance_date)\n",
    "acct_df = acct_df.astype({'prism_consumer_id': int, 'prism_account_id': int})\n",
    "\n",
    "cons_df.evaluation_date = pd.to_datetime(cons_df.evaluation_date)\n",
    "cons_df = cons_df.astype({'prism_consumer_id': int})\n",
    "\n",
    "trxn_df.posted_date = pd.to_datetime(trxn_df.posted_date)\n",
    "trxn_df = trxn_df.astype({'prism_consumer_id': int, 'prism_transaction_id': int})"
   ]
  },
  {
   "cell_type": "code",
   "execution_count": 27,
   "id": "dba2fd74-3fdf-4b9c-9e69-a96f410d936e",
   "metadata": {},
   "outputs": [
    {
     "data": {
      "text/html": [
       "<div>\n",
       "<style scoped>\n",
       "    .dataframe tbody tr th:only-of-type {\n",
       "        vertical-align: middle;\n",
       "    }\n",
       "\n",
       "    .dataframe tbody tr th {\n",
       "        vertical-align: top;\n",
       "    }\n",
       "\n",
       "    .dataframe thead th {\n",
       "        text-align: right;\n",
       "    }\n",
       "</style>\n",
       "<table border=\"1\" class=\"dataframe\">\n",
       "  <thead>\n",
       "    <tr style=\"text-align: right;\">\n",
       "      <th></th>\n",
       "      <th>prism_consumer_id</th>\n",
       "      <th>prism_account_id</th>\n",
       "      <th>account_type</th>\n",
       "      <th>balance_date</th>\n",
       "      <th>balance</th>\n",
       "    </tr>\n",
       "  </thead>\n",
       "  <tbody>\n",
       "    <tr>\n",
       "      <th>0</th>\n",
       "      <td>3023</td>\n",
       "      <td>0</td>\n",
       "      <td>SAVINGS</td>\n",
       "      <td>2021-08-31</td>\n",
       "      <td>90.57</td>\n",
       "    </tr>\n",
       "    <tr>\n",
       "      <th>1</th>\n",
       "      <td>3023</td>\n",
       "      <td>1</td>\n",
       "      <td>CHECKING</td>\n",
       "      <td>2021-08-31</td>\n",
       "      <td>225.95</td>\n",
       "    </tr>\n",
       "    <tr>\n",
       "      <th>2</th>\n",
       "      <td>4416</td>\n",
       "      <td>2</td>\n",
       "      <td>SAVINGS</td>\n",
       "      <td>2022-03-31</td>\n",
       "      <td>15157.17</td>\n",
       "    </tr>\n",
       "    <tr>\n",
       "      <th>3</th>\n",
       "      <td>4416</td>\n",
       "      <td>3</td>\n",
       "      <td>CHECKING</td>\n",
       "      <td>2022-03-31</td>\n",
       "      <td>66.42</td>\n",
       "    </tr>\n",
       "    <tr>\n",
       "      <th>4</th>\n",
       "      <td>4227</td>\n",
       "      <td>4</td>\n",
       "      <td>CHECKING</td>\n",
       "      <td>2021-07-31</td>\n",
       "      <td>7042.90</td>\n",
       "    </tr>\n",
       "    <tr>\n",
       "      <th>...</th>\n",
       "      <td>...</td>\n",
       "      <td>...</td>\n",
       "      <td>...</td>\n",
       "      <td>...</td>\n",
       "      <td>...</td>\n",
       "    </tr>\n",
       "    <tr>\n",
       "      <th>24461</th>\n",
       "      <td>11500</td>\n",
       "      <td>24461</td>\n",
       "      <td>CHECKING</td>\n",
       "      <td>2022-03-27</td>\n",
       "      <td>732.75</td>\n",
       "    </tr>\n",
       "    <tr>\n",
       "      <th>24462</th>\n",
       "      <td>11615</td>\n",
       "      <td>24462</td>\n",
       "      <td>SAVINGS</td>\n",
       "      <td>2022-03-30</td>\n",
       "      <td>5.00</td>\n",
       "    </tr>\n",
       "    <tr>\n",
       "      <th>24463</th>\n",
       "      <td>11615</td>\n",
       "      <td>24463</td>\n",
       "      <td>CHECKING</td>\n",
       "      <td>2022-03-30</td>\n",
       "      <td>1956.46</td>\n",
       "    </tr>\n",
       "    <tr>\n",
       "      <th>24464</th>\n",
       "      <td>12210</td>\n",
       "      <td>24464</td>\n",
       "      <td>CHECKING</td>\n",
       "      <td>2022-03-28</td>\n",
       "      <td>2701.51</td>\n",
       "    </tr>\n",
       "    <tr>\n",
       "      <th>24465</th>\n",
       "      <td>11615</td>\n",
       "      <td>24465</td>\n",
       "      <td>CHECKING</td>\n",
       "      <td>2022-03-30</td>\n",
       "      <td>7967.45</td>\n",
       "    </tr>\n",
       "  </tbody>\n",
       "</table>\n",
       "<p>24466 rows × 5 columns</p>\n",
       "</div>"
      ],
      "text/plain": [
       "       prism_consumer_id  prism_account_id account_type balance_date   balance\n",
       "0                   3023                 0      SAVINGS   2021-08-31     90.57\n",
       "1                   3023                 1     CHECKING   2021-08-31    225.95\n",
       "2                   4416                 2      SAVINGS   2022-03-31  15157.17\n",
       "3                   4416                 3     CHECKING   2022-03-31     66.42\n",
       "4                   4227                 4     CHECKING   2021-07-31   7042.90\n",
       "...                  ...               ...          ...          ...       ...\n",
       "24461              11500             24461     CHECKING   2022-03-27    732.75\n",
       "24462              11615             24462      SAVINGS   2022-03-30      5.00\n",
       "24463              11615             24463     CHECKING   2022-03-30   1956.46\n",
       "24464              12210             24464     CHECKING   2022-03-28   2701.51\n",
       "24465              11615             24465     CHECKING   2022-03-30   7967.45\n",
       "\n",
       "[24466 rows x 5 columns]"
      ]
     },
     "metadata": {},
     "output_type": "display_data"
    },
    {
     "data": {
      "text/html": [
       "<div>\n",
       "<style scoped>\n",
       "    .dataframe tbody tr th:only-of-type {\n",
       "        vertical-align: middle;\n",
       "    }\n",
       "\n",
       "    .dataframe tbody tr th {\n",
       "        vertical-align: top;\n",
       "    }\n",
       "\n",
       "    .dataframe thead th {\n",
       "        text-align: right;\n",
       "    }\n",
       "</style>\n",
       "<table border=\"1\" class=\"dataframe\">\n",
       "  <thead>\n",
       "    <tr style=\"text-align: right;\">\n",
       "      <th></th>\n",
       "      <th>prism_consumer_id</th>\n",
       "      <th>evaluation_date</th>\n",
       "      <th>credit_score</th>\n",
       "      <th>DQ_TARGET</th>\n",
       "    </tr>\n",
       "  </thead>\n",
       "  <tbody>\n",
       "    <tr>\n",
       "      <th>0</th>\n",
       "      <td>0</td>\n",
       "      <td>2021-09-01</td>\n",
       "      <td>726.0</td>\n",
       "      <td>0.0</td>\n",
       "    </tr>\n",
       "    <tr>\n",
       "      <th>1</th>\n",
       "      <td>1</td>\n",
       "      <td>2021-07-01</td>\n",
       "      <td>626.0</td>\n",
       "      <td>0.0</td>\n",
       "    </tr>\n",
       "    <tr>\n",
       "      <th>2</th>\n",
       "      <td>2</td>\n",
       "      <td>2021-05-01</td>\n",
       "      <td>680.0</td>\n",
       "      <td>0.0</td>\n",
       "    </tr>\n",
       "    <tr>\n",
       "      <th>3</th>\n",
       "      <td>3</td>\n",
       "      <td>2021-03-01</td>\n",
       "      <td>734.0</td>\n",
       "      <td>0.0</td>\n",
       "    </tr>\n",
       "    <tr>\n",
       "      <th>4</th>\n",
       "      <td>4</td>\n",
       "      <td>2021-10-01</td>\n",
       "      <td>676.0</td>\n",
       "      <td>0.0</td>\n",
       "    </tr>\n",
       "    <tr>\n",
       "      <th>...</th>\n",
       "      <td>...</td>\n",
       "      <td>...</td>\n",
       "      <td>...</td>\n",
       "      <td>...</td>\n",
       "    </tr>\n",
       "    <tr>\n",
       "      <th>14995</th>\n",
       "      <td>14995</td>\n",
       "      <td>2022-03-08</td>\n",
       "      <td>655.0</td>\n",
       "      <td>NaN</td>\n",
       "    </tr>\n",
       "    <tr>\n",
       "      <th>14996</th>\n",
       "      <td>14996</td>\n",
       "      <td>2022-01-15</td>\n",
       "      <td>625.0</td>\n",
       "      <td>NaN</td>\n",
       "    </tr>\n",
       "    <tr>\n",
       "      <th>14997</th>\n",
       "      <td>14997</td>\n",
       "      <td>2022-01-31</td>\n",
       "      <td>688.0</td>\n",
       "      <td>NaN</td>\n",
       "    </tr>\n",
       "    <tr>\n",
       "      <th>14998</th>\n",
       "      <td>14998</td>\n",
       "      <td>2022-03-08</td>\n",
       "      <td>722.0</td>\n",
       "      <td>NaN</td>\n",
       "    </tr>\n",
       "    <tr>\n",
       "      <th>14999</th>\n",
       "      <td>14999</td>\n",
       "      <td>2022-02-12</td>\n",
       "      <td>751.0</td>\n",
       "      <td>NaN</td>\n",
       "    </tr>\n",
       "  </tbody>\n",
       "</table>\n",
       "<p>15000 rows × 4 columns</p>\n",
       "</div>"
      ],
      "text/plain": [
       "       prism_consumer_id evaluation_date  credit_score  DQ_TARGET\n",
       "0                      0      2021-09-01         726.0        0.0\n",
       "1                      1      2021-07-01         626.0        0.0\n",
       "2                      2      2021-05-01         680.0        0.0\n",
       "3                      3      2021-03-01         734.0        0.0\n",
       "4                      4      2021-10-01         676.0        0.0\n",
       "...                  ...             ...           ...        ...\n",
       "14995              14995      2022-03-08         655.0        NaN\n",
       "14996              14996      2022-01-15         625.0        NaN\n",
       "14997              14997      2022-01-31         688.0        NaN\n",
       "14998              14998      2022-03-08         722.0        NaN\n",
       "14999              14999      2022-02-12         751.0        NaN\n",
       "\n",
       "[15000 rows x 4 columns]"
      ]
     },
     "metadata": {},
     "output_type": "display_data"
    },
    {
     "data": {
      "text/html": [
       "<div>\n",
       "<style scoped>\n",
       "    .dataframe tbody tr th:only-of-type {\n",
       "        vertical-align: middle;\n",
       "    }\n",
       "\n",
       "    .dataframe tbody tr th {\n",
       "        vertical-align: top;\n",
       "    }\n",
       "\n",
       "    .dataframe thead th {\n",
       "        text-align: right;\n",
       "    }\n",
       "</style>\n",
       "<table border=\"1\" class=\"dataframe\">\n",
       "  <thead>\n",
       "    <tr style=\"text-align: right;\">\n",
       "      <th></th>\n",
       "      <th>prism_consumer_id</th>\n",
       "      <th>prism_transaction_id</th>\n",
       "      <th>category</th>\n",
       "      <th>amount</th>\n",
       "      <th>credit_or_debit</th>\n",
       "      <th>posted_date</th>\n",
       "    </tr>\n",
       "  </thead>\n",
       "  <tbody>\n",
       "    <tr>\n",
       "      <th>0</th>\n",
       "      <td>3023</td>\n",
       "      <td>0</td>\n",
       "      <td>4</td>\n",
       "      <td>0.05</td>\n",
       "      <td>CREDIT</td>\n",
       "      <td>2021-04-16</td>\n",
       "    </tr>\n",
       "    <tr>\n",
       "      <th>1</th>\n",
       "      <td>3023</td>\n",
       "      <td>1</td>\n",
       "      <td>12</td>\n",
       "      <td>481.56</td>\n",
       "      <td>CREDIT</td>\n",
       "      <td>2021-04-30</td>\n",
       "    </tr>\n",
       "    <tr>\n",
       "      <th>2</th>\n",
       "      <td>3023</td>\n",
       "      <td>2</td>\n",
       "      <td>4</td>\n",
       "      <td>0.05</td>\n",
       "      <td>CREDIT</td>\n",
       "      <td>2021-05-16</td>\n",
       "    </tr>\n",
       "    <tr>\n",
       "      <th>3</th>\n",
       "      <td>3023</td>\n",
       "      <td>3</td>\n",
       "      <td>4</td>\n",
       "      <td>0.07</td>\n",
       "      <td>CREDIT</td>\n",
       "      <td>2021-06-16</td>\n",
       "    </tr>\n",
       "    <tr>\n",
       "      <th>4</th>\n",
       "      <td>3023</td>\n",
       "      <td>4</td>\n",
       "      <td>4</td>\n",
       "      <td>0.06</td>\n",
       "      <td>CREDIT</td>\n",
       "      <td>2021-07-16</td>\n",
       "    </tr>\n",
       "    <tr>\n",
       "      <th>...</th>\n",
       "      <td>...</td>\n",
       "      <td>...</td>\n",
       "      <td>...</td>\n",
       "      <td>...</td>\n",
       "      <td>...</td>\n",
       "      <td>...</td>\n",
       "    </tr>\n",
       "    <tr>\n",
       "      <th>6407316</th>\n",
       "      <td>10533</td>\n",
       "      <td>6405304</td>\n",
       "      <td>31</td>\n",
       "      <td>4.96</td>\n",
       "      <td>DEBIT</td>\n",
       "      <td>2022-03-11</td>\n",
       "    </tr>\n",
       "    <tr>\n",
       "      <th>6407317</th>\n",
       "      <td>10533</td>\n",
       "      <td>6405305</td>\n",
       "      <td>12</td>\n",
       "      <td>63.48</td>\n",
       "      <td>DEBIT</td>\n",
       "      <td>2022-03-30</td>\n",
       "    </tr>\n",
       "    <tr>\n",
       "      <th>6407318</th>\n",
       "      <td>10533</td>\n",
       "      <td>6405306</td>\n",
       "      <td>12</td>\n",
       "      <td>53.99</td>\n",
       "      <td>DEBIT</td>\n",
       "      <td>2022-03-30</td>\n",
       "    </tr>\n",
       "    <tr>\n",
       "      <th>6407319</th>\n",
       "      <td>10533</td>\n",
       "      <td>6405307</td>\n",
       "      <td>12</td>\n",
       "      <td>175.98</td>\n",
       "      <td>DEBIT</td>\n",
       "      <td>2022-03-31</td>\n",
       "    </tr>\n",
       "    <tr>\n",
       "      <th>6407320</th>\n",
       "      <td>10533</td>\n",
       "      <td>6405308</td>\n",
       "      <td>14</td>\n",
       "      <td>16.04</td>\n",
       "      <td>DEBIT</td>\n",
       "      <td>2022-03-31</td>\n",
       "    </tr>\n",
       "  </tbody>\n",
       "</table>\n",
       "<p>6407321 rows × 6 columns</p>\n",
       "</div>"
      ],
      "text/plain": [
       "         prism_consumer_id  prism_transaction_id  category  amount  \\\n",
       "0                     3023                     0         4    0.05   \n",
       "1                     3023                     1        12  481.56   \n",
       "2                     3023                     2         4    0.05   \n",
       "3                     3023                     3         4    0.07   \n",
       "4                     3023                     4         4    0.06   \n",
       "...                    ...                   ...       ...     ...   \n",
       "6407316              10533               6405304        31    4.96   \n",
       "6407317              10533               6405305        12   63.48   \n",
       "6407318              10533               6405306        12   53.99   \n",
       "6407319              10533               6405307        12  175.98   \n",
       "6407320              10533               6405308        14   16.04   \n",
       "\n",
       "        credit_or_debit posted_date  \n",
       "0                CREDIT  2021-04-16  \n",
       "1                CREDIT  2021-04-30  \n",
       "2                CREDIT  2021-05-16  \n",
       "3                CREDIT  2021-06-16  \n",
       "4                CREDIT  2021-07-16  \n",
       "...                 ...         ...  \n",
       "6407316           DEBIT  2022-03-11  \n",
       "6407317           DEBIT  2022-03-30  \n",
       "6407318           DEBIT  2022-03-30  \n",
       "6407319           DEBIT  2022-03-31  \n",
       "6407320           DEBIT  2022-03-31  \n",
       "\n",
       "[6407321 rows x 6 columns]"
      ]
     },
     "metadata": {},
     "output_type": "display_data"
    }
   ],
   "source": [
    "display(acct_df, cons_df, trxn_df)"
   ]
  },
  {
   "cell_type": "code",
   "execution_count": 31,
   "id": "5697f42c-033e-40e7-a9c9-a1a129f29007",
   "metadata": {},
   "outputs": [
    {
     "data": {
      "text/plain": [
       "account_type\n",
       "CHECKING           15467\n",
       "SAVINGS             7751\n",
       "CREDIT CARD          691\n",
       "LOAN                 127\n",
       "LINE OF CREDIT        93\n",
       "CONSUMER              73\n",
       "BROKERAGE             66\n",
       "CD                    45\n",
       "MONEY MARKET          36\n",
       "AUTO                  29\n",
       "MORTGAGE              22\n",
       "PREPAID               19\n",
       "OTHER                 12\n",
       "IRA                    9\n",
       "ROTH                   5\n",
       "CASH MANAGEMENT        5\n",
       "401K                   4\n",
       "RETIREMENT             3\n",
       "STUDENT                2\n",
       "HSA                    2\n",
       "OVERDRAFT              2\n",
       "MONEYMARKET            1\n",
       "STOCK PLAN             1\n",
       "HOME EQUITY            1\n",
       "Name: count, dtype: int64"
      ]
     },
     "execution_count": 31,
     "metadata": {},
     "output_type": "execute_result"
    }
   ],
   "source": [
    "# different account types\n",
    "acct_df.account_type.value_counts()"
   ]
  },
  {
   "cell_type": "code",
   "execution_count": 32,
   "id": "c14197f1-5ae6-4425-849c-cc5265081687",
   "metadata": {},
   "outputs": [
    {
     "data": {
      "text/plain": [
       "prism_account_id\n",
       "2     6038\n",
       "1     5038\n",
       "3     1179\n",
       "4      404\n",
       "5      173\n",
       "6       76\n",
       "7       41\n",
       "8       18\n",
       "9       14\n",
       "10      12\n",
       "11       7\n",
       "12       6\n",
       "14       1\n",
       "13       1\n",
       "25       1\n",
       "Name: count, dtype: int64"
      ]
     },
     "execution_count": 32,
     "metadata": {},
     "output_type": "execute_result"
    }
   ],
   "source": [
    "# number of consumers that hold x number of accounts\n",
    "acct_df.groupby('prism_consumer_id').count().prism_account_id.value_counts()"
   ]
  },
  {
   "cell_type": "code",
   "execution_count": 52,
   "id": "923342d8-96e0-40cb-a4a6-0465b2219139",
   "metadata": {},
   "outputs": [
    {
     "data": {
      "text/plain": [
       "1936"
      ]
     },
     "execution_count": 52,
     "metadata": {},
     "output_type": "execute_result"
    }
   ],
   "source": [
    "(acct_df.balance <= 0).sum()"
   ]
  },
  {
   "cell_type": "code",
   "execution_count": 48,
   "id": "1a6fd20b-c0c9-4bf4-bafc-028e4d55b944",
   "metadata": {},
   "outputs": [
    {
     "data": {
      "image/png": "[encoded data removed]",
      "text/plain": [
       "<Figure size 640x480 with 1 Axes>"
      ]
     },
     "metadata": {},
     "output_type": "display_data"
    }
   ],
   "source": [
    "trxn_counts = trxn_df.groupby('prism_consumer_id').count().prism_transaction_id\n",
    "\n",
    "# distribution of number of transactions per consumer\n",
    "plt.hist(trxn_counts, bins=40)\n",
    "plt.show()"
   ]
  },
  {
   "cell_type": "code",
   "execution_count": 3,
   "id": "a3d776a6-e116-413e-b25a-32968768b0ee",
   "metadata": {},
   "outputs": [],
   "source": [
    "cons_df_no_na = cons_df[~cons_df['DQ_TARGET'].isna()]"
   ]
  },
  {
   "cell_type": "markdown",
   "id": "e9652560-3f10-4397-8ce4-c5823295ffcc",
   "metadata": {},
   "source": [
    "## Week 1 "
   ]
  },
  {
   "cell_type": "markdown",
   "id": "c081f8d7-9a02-42bf-a691-83658d951789",
   "metadata": {},
   "source": [
    "**Single best feature to predict `DQ_TARGET`**\n",
    "\n",
    "**Simple**\n",
    "- sum of a consumer's `balance`\n",
    "- `credit_score` seems like an obvious one\n",
    "- sum of consumer's credit - sum of consumer's debit"
   ]
  },
  {
   "cell_type": "code",
   "execution_count": 5,
   "id": "8c914eb6-0fcd-4304-ad4c-7c574d69a5b6",
   "metadata": {},
   "outputs": [],
   "source": [
    "import scipy"
   ]
  },
  {
   "cell_type": "code",
   "execution_count": 6,
   "id": "d850db84-6913-4b68-b7fa-eaad3582b490",
   "metadata": {},
   "outputs": [],
   "source": [
    "debit_cats = set(trxn_df[trxn_df['credit_or_debit'] == 'DEBIT']['category'].value_counts().index)\n",
    "credit_cats = set(trxn_df[trxn_df['credit_or_debit'] == 'CREDIT']['category'].value_counts().index)"
   ]
  },
  {
   "cell_type": "code",
   "execution_count": 7,
   "id": "1492fcc6-7972-4f62-9651-7b81be4b0e07",
   "metadata": {},
   "outputs": [],
   "source": [
    "sum_of_balance = pd.DataFrame(acct_df.groupby('prism_consumer_id')['balance'].sum()) \\\n",
    "                   .rename(columns={'balance': 'sum_of_balance'}).reset_index()\n",
    "cons_sum_balance_df = cons_df_no_na.merge(sum_of_balance, left_on='prism_consumer_id', right_on='prism_consumer_id')"
   ]
  },
  {
   "cell_type": "code",
   "execution_count": 16,
   "id": "d08940fe-de97-4e2c-921e-4e6a3ffe7049",
   "metadata": {},
   "outputs": [
    {
     "data": {
      "text/html": [
       "<div>\n",
       "<style scoped>\n",
       "    .dataframe tbody tr th:only-of-type {\n",
       "        vertical-align: middle;\n",
       "    }\n",
       "\n",
       "    .dataframe tbody tr th {\n",
       "        vertical-align: top;\n",
       "    }\n",
       "\n",
       "    .dataframe thead th {\n",
       "        text-align: right;\n",
       "    }\n",
       "</style>\n",
       "<table border=\"1\" class=\"dataframe\">\n",
       "  <thead>\n",
       "    <tr style=\"text-align: right;\">\n",
       "      <th></th>\n",
       "      <th>prism_consumer_id</th>\n",
       "      <th>evaluation_date</th>\n",
       "      <th>credit_score</th>\n",
       "      <th>DQ_TARGET</th>\n",
       "      <th>sum_of_balance</th>\n",
       "    </tr>\n",
       "  </thead>\n",
       "  <tbody>\n",
       "    <tr>\n",
       "      <th>0</th>\n",
       "      <td>0</td>\n",
       "      <td>2021-09-01</td>\n",
       "      <td>726.0</td>\n",
       "      <td>0.0</td>\n",
       "      <td>320.37</td>\n",
       "    </tr>\n",
       "    <tr>\n",
       "      <th>1</th>\n",
       "      <td>1</td>\n",
       "      <td>2021-07-01</td>\n",
       "      <td>626.0</td>\n",
       "      <td>0.0</td>\n",
       "      <td>3302.42</td>\n",
       "    </tr>\n",
       "    <tr>\n",
       "      <th>2</th>\n",
       "      <td>2</td>\n",
       "      <td>2021-05-01</td>\n",
       "      <td>680.0</td>\n",
       "      <td>0.0</td>\n",
       "      <td>2805.36</td>\n",
       "    </tr>\n",
       "    <tr>\n",
       "      <th>3</th>\n",
       "      <td>3</td>\n",
       "      <td>2021-03-01</td>\n",
       "      <td>734.0</td>\n",
       "      <td>0.0</td>\n",
       "      <td>7667.01</td>\n",
       "    </tr>\n",
       "    <tr>\n",
       "      <th>4</th>\n",
       "      <td>4</td>\n",
       "      <td>2021-10-01</td>\n",
       "      <td>676.0</td>\n",
       "      <td>0.0</td>\n",
       "      <td>394.55</td>\n",
       "    </tr>\n",
       "    <tr>\n",
       "      <th>...</th>\n",
       "      <td>...</td>\n",
       "      <td>...</td>\n",
       "      <td>...</td>\n",
       "      <td>...</td>\n",
       "      <td>...</td>\n",
       "    </tr>\n",
       "    <tr>\n",
       "      <th>10403</th>\n",
       "      <td>13995</td>\n",
       "      <td>2022-01-22</td>\n",
       "      <td>802.0</td>\n",
       "      <td>0.0</td>\n",
       "      <td>1028.80</td>\n",
       "    </tr>\n",
       "    <tr>\n",
       "      <th>10404</th>\n",
       "      <td>13996</td>\n",
       "      <td>2022-02-01</td>\n",
       "      <td>652.0</td>\n",
       "      <td>0.0</td>\n",
       "      <td>11495.77</td>\n",
       "    </tr>\n",
       "    <tr>\n",
       "      <th>10405</th>\n",
       "      <td>13997</td>\n",
       "      <td>2021-12-24</td>\n",
       "      <td>765.0</td>\n",
       "      <td>0.0</td>\n",
       "      <td>2396.85</td>\n",
       "    </tr>\n",
       "    <tr>\n",
       "      <th>10406</th>\n",
       "      <td>13998</td>\n",
       "      <td>2022-01-30</td>\n",
       "      <td>685.0</td>\n",
       "      <td>0.0</td>\n",
       "      <td>14835.71</td>\n",
       "    </tr>\n",
       "    <tr>\n",
       "      <th>10407</th>\n",
       "      <td>13999</td>\n",
       "      <td>2022-01-26</td>\n",
       "      <td>653.0</td>\n",
       "      <td>0.0</td>\n",
       "      <td>-41.00</td>\n",
       "    </tr>\n",
       "  </tbody>\n",
       "</table>\n",
       "<p>10408 rows × 5 columns</p>\n",
       "</div>"
      ],
      "text/plain": [
       "      prism_consumer_id evaluation_date  credit_score  DQ_TARGET  \\\n",
       "0                     0      2021-09-01         726.0        0.0   \n",
       "1                     1      2021-07-01         626.0        0.0   \n",
       "2                     2      2021-05-01         680.0        0.0   \n",
       "3                     3      2021-03-01         734.0        0.0   \n",
       "4                     4      2021-10-01         676.0        0.0   \n",
       "...                 ...             ...           ...        ...   \n",
       "10403             13995      2022-01-22         802.0        0.0   \n",
       "10404             13996      2022-02-01         652.0        0.0   \n",
       "10405             13997      2021-12-24         765.0        0.0   \n",
       "10406             13998      2022-01-30         685.0        0.0   \n",
       "10407             13999      2022-01-26         653.0        0.0   \n",
       "\n",
       "       sum_of_balance  \n",
       "0              320.37  \n",
       "1             3302.42  \n",
       "2             2805.36  \n",
       "3             7667.01  \n",
       "4              394.55  \n",
       "...               ...  \n",
       "10403         1028.80  \n",
       "10404        11495.77  \n",
       "10405         2396.85  \n",
       "10406        14835.71  \n",
       "10407          -41.00  \n",
       "\n",
       "[10408 rows x 5 columns]"
      ]
     },
     "execution_count": 16,
     "metadata": {},
     "output_type": "execute_result"
    }
   ],
   "source": [
    "cons_sum_balance_df"
   ]
  },
  {
   "cell_type": "markdown",
   "id": "5a5839a9-8e14-485e-b2c6-9f83847a4829",
   "metadata": {},
   "source": [
    "**Note: balances have different meaning based on account type, i.e. a credit card balance (outflow) vs checkings balance (inflow)**"
   ]
  },
  {
   "cell_type": "code",
   "execution_count": 8,
   "id": "7a49dade-2369-4c49-87c6-a624ad442de1",
   "metadata": {},
   "outputs": [
    {
     "data": {
      "text/plain": [
       "0.0015695061588102432"
      ]
     },
     "execution_count": 8,
     "metadata": {},
     "output_type": "execute_result"
    }
   ],
   "source": [
    "sum_balance_r2 = np.corrcoef(cons_sum_balance_df['DQ_TARGET'], cons_sum_balance_df['sum_of_balance'])[0][1]**2\n",
    "sum_balance_r2"
   ]
  },
  {
   "cell_type": "code",
   "execution_count": 9,
   "id": "b9f68b1a-7b5c-4b40-be2a-2ccce9754b31",
   "metadata": {},
   "outputs": [
    {
     "data": {
      "text/plain": [
       "3.7555463168404585e-99"
      ]
     },
     "execution_count": 9,
     "metadata": {},
     "output_type": "execute_result"
    }
   ],
   "source": [
    "cons_sum_balance_dq0 = cons_sum_balance_df[cons_sum_balance_df[\"DQ_TARGET\"] == 0.0]\n",
    "cons_sum_balance_dq1 = cons_sum_balance_df[cons_sum_balance_df[\"DQ_TARGET\"] == 1.0]\n",
    "scipy.stats.ks_2samp(cons_sum_balance_dq0[\"sum_of_balance\"], cons_sum_balance_dq1[\"sum_of_balance\"]).pvalue"
   ]
  },
  {
   "cell_type": "code",
   "execution_count": 10,
   "id": "41f212ff-49fd-4b94-b375-345997460efe",
   "metadata": {},
   "outputs": [
    {
     "data": {
      "image/png": "[encoded data removed]",
      "text/plain": [
       "<Figure size 640x480 with 1 Axes>"
      ]
     },
     "metadata": {},
     "output_type": "display_data"
    }
   ],
   "source": [
    "plt.hist(cons_sum_balance_dq0[\"sum_of_balance\"], bins=30, alpha=0.5, density=True, label=\"DQ0\")\n",
    "plt.hist(cons_sum_balance_dq1[\"sum_of_balance\"], bins=30, alpha=0.5, density=True, label=\"DQ1\")\n",
    "\n",
    "# Add labels and legend\n",
    "plt.xlim(-25000, 100000)\n",
    "plt.xlabel('Value')\n",
    "plt.ylabel('Frequency')\n",
    "plt.title('')\n",
    "plt.legend()\n",
    "plt.show()"
   ]
  },
  {
   "cell_type": "code",
   "execution_count": 11,
   "id": "c79037af-c81a-4558-b9a8-2a4d2eb3c0fa",
   "metadata": {},
   "outputs": [
    {
     "data": {
      "text/plain": [
       "0.06828206045598226"
      ]
     },
     "execution_count": 11,
     "metadata": {},
     "output_type": "execute_result"
    }
   ],
   "source": [
    "credit_score_r2 = np.corrcoef(cons_df_no_na['credit_score'], cons_df_no_na['DQ_TARGET'])[0][1]**2\n",
    "credit_score_r2"
   ]
  },
  {
   "cell_type": "code",
   "execution_count": 12,
   "id": "bb21f0d4-82ed-440b-aaad-866530c5901e",
   "metadata": {},
   "outputs": [
    {
     "name": "stderr",
     "output_type": "stream",
     "text": [
      "/tmp/ipykernel_279/3680999254.py:1: DeprecationWarning: DataFrameGroupBy.apply operated on the grouping columns. This behavior is deprecated, and in a future version of pandas the grouping columns will be excluded from the operation. Either pass `include_groups=False` to exclude the groupings or explicitly select the grouping columns after groupby to silence this warning.\n",
      "  credit_debit = trxn_df.groupby('prism_consumer_id').apply(lambda group: group.loc[group[\"credit_or_debit\"] == \"CREDIT\", \"amount\"].sum()\n"
     ]
    }
   ],
   "source": [
    "credit_debit = trxn_df.groupby('prism_consumer_id').apply(lambda group: group.loc[group[\"credit_or_debit\"] == \"CREDIT\", \"amount\"].sum()\n",
    "                                                               - group.loc[group[\"credit_or_debit\"] == \"DEBIT\", \"amount\"].sum())"
   ]
  },
  {
   "cell_type": "code",
   "execution_count": 13,
   "id": "b99ac832-762c-4edc-900f-c4f38e298942",
   "metadata": {},
   "outputs": [
    {
     "data": {
      "text/plain": [
       "1.643182347946055e-26"
      ]
     },
     "execution_count": 13,
     "metadata": {},
     "output_type": "execute_result"
    }
   ],
   "source": [
    "cons_credit_minus_debit_df = cons_df_no_na.merge(pd.DataFrame(credit_debit).reset_index().rename(columns={0: \"credit_minus_debit\"}), left_on='prism_consumer_id', right_on='prism_consumer_id')\n",
    "cons_credit_minus_debit_dq0 = cons_credit_minus_debit_df[cons_credit_minus_debit_df[\"DQ_TARGET\"] == 0.0]\n",
    "cons_credit_minus_debit_dq1 = cons_credit_minus_debit_df[cons_credit_minus_debit_df[\"DQ_TARGET\"] == 1.0]\n",
    "scipy.stats.ks_2samp(cons_credit_minus_debit_dq0[\"credit_minus_debit\"], cons_credit_minus_debit_dq1[\"credit_minus_debit\"]).pvalue"
   ]
  },
  {
   "cell_type": "code",
   "execution_count": 14,
   "id": "a30b0251-b24e-442d-a59d-d6b92980ba87",
   "metadata": {},
   "outputs": [
    {
     "data": {
      "image/png": "[encoded data removed]",
      "text/plain": [
       "<Figure size 640x480 with 1 Axes>"
      ]
     },
     "metadata": {},
     "output_type": "display_data"
    }
   ],
   "source": [
    "plt.hist(cons_credit_minus_debit_dq0[\"credit_minus_debit\"], bins=30, alpha=0.5, density=True, label=\"DQ0\")\n",
    "plt.hist(cons_credit_minus_debit_dq1[\"credit_minus_debit\"], bins=30, alpha=0.5, density=True, label=\"DQ1\")\n",
    "\n",
    "# Add labels and legend\n",
    "plt.xlim(-100000, 100000)\n",
    "plt.xlabel('Value')\n",
    "plt.ylabel('Frequency')\n",
    "plt.title('')\n",
    "plt.legend()\n",
    "plt.show()"
   ]
  },
  {
   "cell_type": "markdown",
   "id": "6a19453c-b409-4108-b172-980a9edd4439",
   "metadata": {},
   "source": [
    "## Week 2"
   ]
  },
  {
   "cell_type": "markdown",
   "id": "e072649e-e89d-4717-9239-762f36c7d62f",
   "metadata": {},
   "source": [
    "**New balance features**\n",
    "- percent change in balance from earliest date to latest date\n",
    "- account balance less than 0\n",
    "  \n",
    "**New income features**\n",
    "- number of income transactions\n",
    "- standard deviation of income\n",
    "- number of income sources"
   ]
  },
  {
   "cell_type": "code",
   "execution_count": 99,
   "id": "6e4155a6-92f2-42b3-ba8f-ac1a4b6e1ce8",
   "metadata": {},
   "outputs": [],
   "source": [
    "# should determine the consumers that don't appear in acct_df or trxn_df, remove them from training data"
   ]
  },
  {
   "cell_type": "code",
   "execution_count": 97,
   "id": "af423315-f5e2-4f54-b89b-6de8b3ed7f5b",
   "metadata": {},
   "outputs": [
    {
     "data": {
      "text/plain": [
       "15000"
      ]
     },
     "execution_count": 97,
     "metadata": {},
     "output_type": "execute_result"
    }
   ],
   "source": [
    "len(cons_df.prism_consumer_id.unique())"
   ]
  },
  {
   "cell_type": "code",
   "execution_count": 98,
   "id": "ab8224b9-2315-435c-a7b1-2c86ddb65b6f",
   "metadata": {},
   "outputs": [
    {
     "data": {
      "text/plain": [
       "14492"
      ]
     },
     "execution_count": 98,
     "metadata": {},
     "output_type": "execute_result"
    }
   ],
   "source": [
    "len(trxn_df.prism_consumer_id.unique())"
   ]
  },
  {
   "cell_type": "code",
   "execution_count": 96,
   "id": "255ca97e-3cc9-4cd5-a03f-56ab7137e6c9",
   "metadata": {},
   "outputs": [
    {
     "data": {
      "text/plain": [
       "13009"
      ]
     },
     "execution_count": 96,
     "metadata": {},
     "output_type": "execute_result"
    }
   ],
   "source": [
    "len(acct_df.prism_consumer_id.unique())"
   ]
  },
  {
   "cell_type": "code",
   "execution_count": 230,
   "id": "b4dcbea2-cb7c-4814-b251-fc7d4a800da3",
   "metadata": {
    "scrolled": true
   },
   "outputs": [],
   "source": [
    "def calc_balance_delta(rand_cons):\n",
    "    # rand_cons = acct_df.sample(n=1).prism_consumer_id.values[0]\n",
    "    rand_cons_acct_df = acct_df[acct_df.prism_consumer_id == rand_cons]\n",
    "    rand_cons_trxn_df = trxn_df[trxn_df.prism_consumer_id == rand_cons].sort_values(by='posted_date')\n",
    "    \n",
    "    avg_balance_date = np.mean(rand_cons_acct_df.balance_date)\n",
    "    balance = sum(rand_cons_acct_df.balance)\n",
    "    \n",
    "    before_balance_date_df = rand_cons_trxn_df[rand_cons_trxn_df.posted_date <= avg_balance_date]\n",
    "    after_balance_date_df = rand_cons_trxn_df[rand_cons_trxn_df.posted_date > avg_balance_date]\n",
    "    \n",
    "    initial_balance = balance + sum(before_balance_date_df[before_balance_date_df.credit_or_debit == \"DEBIT\"].amount) - \\\n",
    "                               sum(before_balance_date_df[before_balance_date_df.credit_or_debit == \"CREDIT\"].amount) \n",
    "    ending_balance = balance + sum(after_balance_date_df[after_balance_date_df.credit_or_debit == \"CREDIT\"].amount) - \\\n",
    "                               sum(after_balance_date_df[after_balance_date_df.credit_or_debit == \"DEBIT\"].amount) \n",
    "    if initial_balance == 0:\n",
    "        return 1\n",
    "    else:\n",
    "        return ((ending_balance - initial_balance) / initial_balance)"
   ]
  },
  {
   "cell_type": "code",
   "execution_count": 231,
   "id": "9a2f2618-f079-47a6-b679-b639931665b1",
   "metadata": {},
   "outputs": [
    {
     "data": {
      "text/plain": [
       "0       -0.379272\n",
       "1        3.245659\n",
       "2        0.203075\n",
       "3        0.481150\n",
       "4       -1.421784\n",
       "           ...   \n",
       "14995    1.000000\n",
       "14996    0.147716\n",
       "14997    1.000000\n",
       "14998    1.000000\n",
       "14999    0.174805\n",
       "Name: prism_consumer_id, Length: 15000, dtype: float64"
      ]
     },
     "execution_count": 231,
     "metadata": {},
     "output_type": "execute_result"
    }
   ],
   "source": [
    "# growth in balance for each consumer\n",
    "balance_deltas = cons_df['prism_consumer_id'].apply(calc_balance_delta)"
   ]
  },
  {
   "cell_type": "code",
   "execution_count": 213,
   "id": "ebfaf6fa-4b0c-4066-8c52-93ab9d1b3ccb",
   "metadata": {
    "scrolled": true
   },
   "outputs": [
    {
     "name": "stdout",
     "output_type": "stream",
     "text": [
      "23.11567379988438\n"
     ]
    },
    {
     "data": {
      "text/html": [
       "<div>\n",
       "<style scoped>\n",
       "    .dataframe tbody tr th:only-of-type {\n",
       "        vertical-align: middle;\n",
       "    }\n",
       "\n",
       "    .dataframe tbody tr th {\n",
       "        vertical-align: top;\n",
       "    }\n",
       "\n",
       "    .dataframe thead th {\n",
       "        text-align: right;\n",
       "    }\n",
       "</style>\n",
       "<table border=\"1\" class=\"dataframe\">\n",
       "  <thead>\n",
       "    <tr style=\"text-align: right;\">\n",
       "      <th></th>\n",
       "      <th>prism_consumer_id</th>\n",
       "      <th>prism_transaction_id</th>\n",
       "      <th>category</th>\n",
       "      <th>amount</th>\n",
       "      <th>credit_or_debit</th>\n",
       "      <th>posted_date</th>\n",
       "    </tr>\n",
       "  </thead>\n",
       "  <tbody>\n",
       "    <tr>\n",
       "      <th>1749899</th>\n",
       "      <td>9772</td>\n",
       "      <td>1747887</td>\n",
       "      <td>2</td>\n",
       "      <td>100.00</td>\n",
       "      <td>CREDIT</td>\n",
       "      <td>2023-04-08</td>\n",
       "    </tr>\n",
       "    <tr>\n",
       "      <th>1749952</th>\n",
       "      <td>9772</td>\n",
       "      <td>1747940</td>\n",
       "      <td>19</td>\n",
       "      <td>40.00</td>\n",
       "      <td>DEBIT</td>\n",
       "      <td>2023-04-08</td>\n",
       "    </tr>\n",
       "    <tr>\n",
       "      <th>1749953</th>\n",
       "      <td>9772</td>\n",
       "      <td>1747941</td>\n",
       "      <td>16</td>\n",
       "      <td>1.87</td>\n",
       "      <td>DEBIT</td>\n",
       "      <td>2023-04-09</td>\n",
       "    </tr>\n",
       "    <tr>\n",
       "      <th>1749954</th>\n",
       "      <td>9772</td>\n",
       "      <td>1747942</td>\n",
       "      <td>40</td>\n",
       "      <td>1.50</td>\n",
       "      <td>DEBIT</td>\n",
       "      <td>2023-04-11</td>\n",
       "    </tr>\n",
       "    <tr>\n",
       "      <th>1749955</th>\n",
       "      <td>9772</td>\n",
       "      <td>1747943</td>\n",
       "      <td>14</td>\n",
       "      <td>12.44</td>\n",
       "      <td>DEBIT</td>\n",
       "      <td>2023-04-12</td>\n",
       "    </tr>\n",
       "    <tr>\n",
       "      <th>...</th>\n",
       "      <td>...</td>\n",
       "      <td>...</td>\n",
       "      <td>...</td>\n",
       "      <td>...</td>\n",
       "      <td>...</td>\n",
       "      <td>...</td>\n",
       "    </tr>\n",
       "    <tr>\n",
       "      <th>1750037</th>\n",
       "      <td>9772</td>\n",
       "      <td>1748025</td>\n",
       "      <td>14</td>\n",
       "      <td>34.47</td>\n",
       "      <td>DEBIT</td>\n",
       "      <td>2023-06-27</td>\n",
       "    </tr>\n",
       "    <tr>\n",
       "      <th>1750038</th>\n",
       "      <td>9772</td>\n",
       "      <td>1748026</td>\n",
       "      <td>27</td>\n",
       "      <td>4.00</td>\n",
       "      <td>DEBIT</td>\n",
       "      <td>2023-06-28</td>\n",
       "    </tr>\n",
       "    <tr>\n",
       "      <th>1750039</th>\n",
       "      <td>9772</td>\n",
       "      <td>1748027</td>\n",
       "      <td>14</td>\n",
       "      <td>24.92</td>\n",
       "      <td>DEBIT</td>\n",
       "      <td>2023-06-29</td>\n",
       "    </tr>\n",
       "    <tr>\n",
       "      <th>1750040</th>\n",
       "      <td>9772</td>\n",
       "      <td>1748028</td>\n",
       "      <td>14</td>\n",
       "      <td>13.73</td>\n",
       "      <td>DEBIT</td>\n",
       "      <td>2023-06-30</td>\n",
       "    </tr>\n",
       "    <tr>\n",
       "      <th>1750041</th>\n",
       "      <td>9772</td>\n",
       "      <td>1748029</td>\n",
       "      <td>4</td>\n",
       "      <td>7.65</td>\n",
       "      <td>DEBIT</td>\n",
       "      <td>2023-07-02</td>\n",
       "    </tr>\n",
       "  </tbody>\n",
       "</table>\n",
       "<p>182 rows × 6 columns</p>\n",
       "</div>"
      ],
      "text/plain": [
       "         prism_consumer_id  prism_transaction_id  category  amount  \\\n",
       "1749899               9772               1747887         2  100.00   \n",
       "1749952               9772               1747940        19   40.00   \n",
       "1749953               9772               1747941        16    1.87   \n",
       "1749954               9772               1747942        40    1.50   \n",
       "1749955               9772               1747943        14   12.44   \n",
       "...                    ...                   ...       ...     ...   \n",
       "1750037               9772               1748025        14   34.47   \n",
       "1750038               9772               1748026        27    4.00   \n",
       "1750039               9772               1748027        14   24.92   \n",
       "1750040               9772               1748028        14   13.73   \n",
       "1750041               9772               1748029         4    7.65   \n",
       "\n",
       "        credit_or_debit posted_date  \n",
       "1749899          CREDIT  2023-04-08  \n",
       "1749952           DEBIT  2023-04-08  \n",
       "1749953           DEBIT  2023-04-09  \n",
       "1749954           DEBIT  2023-04-11  \n",
       "1749955           DEBIT  2023-04-12  \n",
       "...                 ...         ...  \n",
       "1750037           DEBIT  2023-06-27  \n",
       "1750038           DEBIT  2023-06-28  \n",
       "1750039           DEBIT  2023-06-29  \n",
       "1750040           DEBIT  2023-06-30  \n",
       "1750041           DEBIT  2023-07-02  \n",
       "\n",
       "[182 rows x 6 columns]"
      ]
     },
     "metadata": {},
     "output_type": "display_data"
    },
    {
     "data": {
      "text/html": [
       "<div>\n",
       "<style scoped>\n",
       "    .dataframe tbody tr th:only-of-type {\n",
       "        vertical-align: middle;\n",
       "    }\n",
       "\n",
       "    .dataframe tbody tr th {\n",
       "        vertical-align: top;\n",
       "    }\n",
       "\n",
       "    .dataframe thead th {\n",
       "        text-align: right;\n",
       "    }\n",
       "</style>\n",
       "<table border=\"1\" class=\"dataframe\">\n",
       "  <thead>\n",
       "    <tr style=\"text-align: right;\">\n",
       "      <th></th>\n",
       "      <th>prism_consumer_id</th>\n",
       "      <th>prism_transaction_id</th>\n",
       "      <th>category</th>\n",
       "      <th>amount</th>\n",
       "      <th>credit_or_debit</th>\n",
       "      <th>posted_date</th>\n",
       "    </tr>\n",
       "  </thead>\n",
       "  <tbody>\n",
       "  </tbody>\n",
       "</table>\n",
       "</div>"
      ],
      "text/plain": [
       "Empty DataFrame\n",
       "Columns: [prism_consumer_id, prism_transaction_id, category, amount, credit_or_debit, posted_date]\n",
       "Index: []"
      ]
     },
     "metadata": {},
     "output_type": "display_data"
    }
   ],
   "source": [
    "rand_cons = acct_df.sample(n=1).prism_consumer_id.values[0]\n",
    "rand_cons_acct_df = acct_df[acct_df.prism_consumer_id == rand_cons]\n",
    "rand_cons_trxn_df = trxn_df[trxn_df.prism_consumer_id == rand_cons].sort_values(by='posted_date')\n",
    "\n",
    "avg_balance_date = np.mean(rand_cons_acct_df.balance_date)\n",
    "balance = sum(rand_cons_acct_df.balance)\n",
    "\n",
    "before_balance_date_df = rand_cons_trxn_df[rand_cons_trxn_df.posted_date <= avg_balance_date]\n",
    "after_balance_date_df = rand_cons_trxn_df[rand_cons_trxn_df.posted_date > avg_balance_date]\n",
    "\n",
    "initial_balance = balance + sum(before_balance_date_df[before_balance_date_df.credit_or_debit == \"DEBIT\"].amount) - \\\n",
    "                           sum(before_balance_date_df[before_balance_date_df.credit_or_debit == \"CREDIT\"].amount) \n",
    "ending_balance = balance + sum(after_balance_date_df[after_balance_date_df.credit_or_debit == \"CREDIT\"].amount) - \\\n",
    "                           sum(after_balance_date_df[after_balance_date_df.credit_or_debit == \"DEBIT\"].amount) \n",
    "print((ending_balance - initial_balance) / initial_balance)\n",
    "display(before_balance_date_df, after_balance_date_df)"
   ]
  },
  {
   "cell_type": "code",
   "execution_count": 235,
   "id": "0fb42bab-e9d8-4381-b653-4dac64c44305",
   "metadata": {},
   "outputs": [],
   "source": [
    "# number of \"income\" sources for each consumer\n",
    "num_income_sources = trxn_df[trxn_df.credit_or_debit == 'CREDIT'].groupby('prism_consumer_id')['category'].nunique()"
   ]
  },
  {
   "cell_type": "code",
   "execution_count": 236,
   "id": "a54e274a-041d-4681-b66e-aa51605ad5af",
   "metadata": {},
   "outputs": [
    {
     "data": {
      "text/plain": [
       "prism_consumer_id\n",
       "0         494.177258\n",
       "1         383.271173\n",
       "2         609.314103\n",
       "3         844.130789\n",
       "4         368.114382\n",
       "            ...     \n",
       "14995     329.312758\n",
       "14996    1076.542076\n",
       "14997    2448.997302\n",
       "14998    1701.940647\n",
       "14999     394.697351\n",
       "Name: amount, Length: 14476, dtype: float64"
      ]
     },
     "execution_count": 236,
     "metadata": {},
     "output_type": "execute_result"
    }
   ],
   "source": [
    "# standard deviation of inflows\n",
    "std_income = trxn_df[trxn_df.credit_or_debit == 'CREDIT'].groupby('prism_consumer_id')['amount'].std()"
   ]
  },
  {
   "cell_type": "markdown",
   "id": "9e10fa5a-d0ea-476c-b2dc-56a037ac2bc8",
   "metadata": {},
   "source": [
    "**NEXT STEPS**\n",
    "- begin considering category nuances\n",
    "- more specific time recurrence"
   ]
  }
 ],
 "metadata": {
  "kernelspec": {
   "display_name": "Python 3 (ipykernel)",
   "language": "python",
   "name": "python3"
  },
  "language_info": {
   "codemirror_mode": {
    "name": "ipython",
    "version": 3
   },
   "file_extension": ".py",
   "mimetype": "text/x-python",
   "name": "python",
   "nbconvert_exporter": "python",
   "pygments_lexer": "ipython3",
   "version": "3.11.9"
  }
 },
 "nbformat": 4,
 "nbformat_minor": 5
}
