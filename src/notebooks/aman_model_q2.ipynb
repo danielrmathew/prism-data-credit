{
 "cells": [
  {
   "cell_type": "code",
   "execution_count": 1,
   "id": "9d6e5a0f-66ba-45de-ad4d-acaaf343d82e",
   "metadata": {},
   "outputs": [],
   "source": [
    "import pandas as pd\n",
    "pd.options.display.float_format = '{:,.4f}'.format\n",
    "import numpy as np\n",
    "import matplotlib.pyplot as plt\n",
    "import matplotlib.cm as cm\n",
    "import re\n",
    "from functools import reduce\n",
    "from sklearn.preprocessing import StandardScaler\n",
    "\n",
    "\n",
    "from sklearn.model_selection import train_test_split\n",
    "from sklearn.linear_model import LogisticRegression\n",
    "from sklearn.metrics import roc_auc_score, accuracy_score, confusion_matrix, classification_report, log_loss\n",
    "from scipy.stats import ks_2samp"
   ]
  },
  {
   "cell_type": "code",
   "execution_count": 2,
   "id": "3ee87f75-5a2f-4a2d-b341-829d00dad3cb",
   "metadata": {},
   "outputs": [],
   "source": [
    "acctDF = pd.read_parquet('../../data/q2-ucsd-acctDF.pqt')\n",
    "acctDF['balance_date'] = pd.to_datetime(acctDF['balance_date'])\n",
    "\n",
    "consDF_all = pd.read_parquet('../../data/q2-ucsd-consDF.pqt')\n",
    "\n",
    "consDF = consDF_all.dropna()\n",
    "trxnDF = pd.read_parquet('../../data/q2-ucsd-trxnDF.pqt')\n",
    "trxnDF['posted_date'] = pd.to_datetime(trxnDF['posted_date'])\n",
    "\n",
    "cat_map = pd.read_csv('../../data/q2-ucsd-cat-map.csv')\n",
    "cat_dict = cat_map.set_index('category_id')['category'].to_dict()"
   ]
  },
  {
   "cell_type": "code",
   "execution_count": null,
   "id": "ace47593-d16d-405a-adad-075b5c753267",
   "metadata": {},
   "outputs": [],
   "source": []
  },
  {
   "cell_type": "code",
   "execution_count": null,
   "id": "1db1082e-4dc5-4580-9636-d4b3894eb72d",
   "metadata": {},
   "outputs": [],
   "source": []
  },
  {
   "cell_type": "code",
   "execution_count": 3,
   "id": "166d9d3f-5265-4a3b-b256-f5c24282434e",
   "metadata": {},
   "outputs": [
    {
     "data": {
      "text/html": [
       "<div>\n",
       "<style scoped>\n",
       "    .dataframe tbody tr th:only-of-type {\n",
       "        vertical-align: middle;\n",
       "    }\n",
       "\n",
       "    .dataframe tbody tr th {\n",
       "        vertical-align: top;\n",
       "    }\n",
       "\n",
       "    .dataframe thead th {\n",
       "        text-align: right;\n",
       "    }\n",
       "</style>\n",
       "<table border=\"1\" class=\"dataframe\">\n",
       "  <thead>\n",
       "    <tr style=\"text-align: right;\">\n",
       "      <th></th>\n",
       "      <th>prism_consumer_id</th>\n",
       "      <th>balance_date</th>\n",
       "      <th>account_type</th>\n",
       "      <th>balance</th>\n",
       "    </tr>\n",
       "  </thead>\n",
       "  <tbody>\n",
       "    <tr>\n",
       "      <th>0</th>\n",
       "      <td>0</td>\n",
       "      <td>2021-08-31</td>\n",
       "      <td>CHECKING</td>\n",
       "      <td>294.6700</td>\n",
       "    </tr>\n",
       "    <tr>\n",
       "      <th>1</th>\n",
       "      <td>1</td>\n",
       "      <td>2021-06-30</td>\n",
       "      <td>CHECKING</td>\n",
       "      <td>91.2400</td>\n",
       "    </tr>\n",
       "    <tr>\n",
       "      <th>2</th>\n",
       "      <td>10</td>\n",
       "      <td>2022-01-31</td>\n",
       "      <td>CHECKING</td>\n",
       "      <td>822.7500</td>\n",
       "    </tr>\n",
       "    <tr>\n",
       "      <th>3</th>\n",
       "      <td>100</td>\n",
       "      <td>2021-04-30</td>\n",
       "      <td>CHECKING</td>\n",
       "      <td>802.4000</td>\n",
       "    </tr>\n",
       "    <tr>\n",
       "      <th>4</th>\n",
       "      <td>1000</td>\n",
       "      <td>2023-01-31</td>\n",
       "      <td>CHECKING</td>\n",
       "      <td>95.2300</td>\n",
       "    </tr>\n",
       "  </tbody>\n",
       "</table>\n",
       "</div>"
      ],
      "text/plain": [
       "  prism_consumer_id balance_date account_type  balance\n",
       "0                 0   2021-08-31     CHECKING 294.6700\n",
       "1                 1   2021-06-30     CHECKING  91.2400\n",
       "2                10   2022-01-31     CHECKING 822.7500\n",
       "3               100   2021-04-30     CHECKING 802.4000\n",
       "4              1000   2023-01-31     CHECKING  95.2300"
      ]
     },
     "execution_count": 3,
     "metadata": {},
     "output_type": "execute_result"
    }
   ],
   "source": [
    "check_acct_totals = acctDF[acctDF.account_type == 'CHECKING'].groupby(['prism_consumer_id', 'balance_date']).sum()\n",
    "check_acct_totals = check_acct_totals.reset_index()\n",
    "check_acct_totals = check_acct_totals.drop(axis=1,labels='prism_account_id')\n",
    "check_acct_totals.head()"
   ]
  },
  {
   "cell_type": "code",
   "execution_count": null,
   "id": "23ed89e9-d1f6-46ac-bac9-4d21dfa96e31",
   "metadata": {},
   "outputs": [],
   "source": []
  },
  {
   "cell_type": "code",
   "execution_count": 4,
   "id": "338f4c1f-74b5-4b3e-bc22-953e5e6bc07b",
   "metadata": {},
   "outputs": [],
   "source": [
    "def calc_balances_all(check_acct_totals, trxnDF):\n",
    "    # Merge transactions with account balances\n",
    "    merged = trxnDF.merge(\n",
    "        check_acct_totals[['prism_consumer_id', 'balance_date', 'balance']], \n",
    "        on='prism_consumer_id', how='left'\n",
    "    )\n",
    "\n",
    "    # Identify pre and post transactions\n",
    "    merged['is_pre'] = merged['posted_date'] <= merged['balance_date']\n",
    "\n",
    "    # Set adjustment values based on pre/post period\n",
    "    merged['adjustment'] = 0.0\n",
    "    merged.loc[merged['is_pre'] & (merged['credit_or_debit'] == 'CREDIT'), 'adjustment'] = -merged['amount']\n",
    "    merged.loc[merged['is_pre'] & (merged['credit_or_debit'] == 'DEBIT'), 'adjustment'] = merged['amount']\n",
    "    merged.loc[~merged['is_pre'] & (merged['credit_or_debit'] == 'CREDIT'), 'adjustment'] = merged['amount']\n",
    "    merged.loc[~merged['is_pre'] & (merged['credit_or_debit'] == 'DEBIT'), 'adjustment'] = -merged['amount']\n",
    "\n",
    "    # Pre-balance transactions: Sort descending and apply reverse cumsum\n",
    "    pre_trans = merged[merged['is_pre']].sort_values(by=['prism_consumer_id', 'posted_date'], ascending=[True, False])\n",
    "    pre_trans['curr_balance'] = pre_trans.groupby('prism_consumer_id')['adjustment'].cumsum() + pre_trans.groupby('prism_consumer_id')['balance'].transform('first')\n",
    "\n",
    "    # Post-balance transactions: Sort ascending and apply forward cumsum\n",
    "    post_trans = merged[~merged['is_pre']].sort_values(by=['prism_consumer_id', 'posted_date'], ascending=[True, True])\n",
    "    post_trans['curr_balance'] = post_trans.groupby('prism_consumer_id')['adjustment'].cumsum() + post_trans.groupby('prism_consumer_id')['balance'].transform('first')\n",
    "\n",
    "    # Combine results\n",
    "    result = pd.concat([pre_trans, post_trans]).sort_values(by=['prism_consumer_id', 'posted_date'])\n",
    "\n",
    "    return result[['prism_consumer_id', 'prism_transaction_id', 'category', 'amount', 'credit_or_debit', 'posted_date', 'curr_balance']].sort_values(by='posted_date', ascending=False)\n",
    "\n"
   ]
  },
  {
   "cell_type": "code",
   "execution_count": 5,
   "id": "0506d96f-3b23-48d6-8959-5763e435f6a6",
   "metadata": {},
   "outputs": [],
   "source": [
    "balanceDF = calc_balances_all(check_acct_totals, trxnDF)\n",
    "balanceDF['category'] = balanceDF.category.apply(lambda x: cat_dict[x])"
   ]
  },
  {
   "cell_type": "code",
   "execution_count": null,
   "id": "ca93c3cd-8e13-47d0-81c7-1e62afbb208f",
   "metadata": {},
   "outputs": [],
   "source": []
  },
  {
   "cell_type": "code",
   "execution_count": 6,
   "id": "a3b68842-14eb-4cda-9536-3f9ed10d528f",
   "metadata": {},
   "outputs": [
    {
     "data": {
      "text/html": [
       "<div>\n",
       "<style scoped>\n",
       "    .dataframe tbody tr th:only-of-type {\n",
       "        vertical-align: middle;\n",
       "    }\n",
       "\n",
       "    .dataframe tbody tr th {\n",
       "        vertical-align: top;\n",
       "    }\n",
       "\n",
       "    .dataframe thead th {\n",
       "        text-align: right;\n",
       "    }\n",
       "</style>\n",
       "<table border=\"1\" class=\"dataframe\">\n",
       "  <thead>\n",
       "    <tr style=\"text-align: right;\">\n",
       "      <th></th>\n",
       "      <th>prism_consumer_id</th>\n",
       "      <th>prism_transaction_id</th>\n",
       "      <th>category</th>\n",
       "      <th>amount</th>\n",
       "      <th>credit_or_debit</th>\n",
       "      <th>posted_date</th>\n",
       "      <th>curr_balance</th>\n",
       "    </tr>\n",
       "  </thead>\n",
       "  <tbody>\n",
       "    <tr>\n",
       "      <th>2518565</th>\n",
       "      <td>8144</td>\n",
       "      <td>2486689</td>\n",
       "      <td>PAYCHECK</td>\n",
       "      <td>95.1300</td>\n",
       "      <td>CREDIT</td>\n",
       "      <td>2024-05-06</td>\n",
       "      <td>-66.3800</td>\n",
       "    </tr>\n",
       "    <tr>\n",
       "      <th>2518585</th>\n",
       "      <td>8144</td>\n",
       "      <td>2486709</td>\n",
       "      <td>AUTOMOTIVE</td>\n",
       "      <td>4.0400</td>\n",
       "      <td>DEBIT</td>\n",
       "      <td>2024-05-06</td>\n",
       "      <td>87.6600</td>\n",
       "    </tr>\n",
       "    <tr>\n",
       "      <th>2518578</th>\n",
       "      <td>8144</td>\n",
       "      <td>2486702</td>\n",
       "      <td>EXTERNAL_TRANSFER</td>\n",
       "      <td>150.0000</td>\n",
       "      <td>DEBIT</td>\n",
       "      <td>2024-05-06</td>\n",
       "      <td>83.6200</td>\n",
       "    </tr>\n",
       "    <tr>\n",
       "      <th>2518582</th>\n",
       "      <td>8144</td>\n",
       "      <td>2486706</td>\n",
       "      <td>AUTOMOTIVE</td>\n",
       "      <td>12.3200</td>\n",
       "      <td>DEBIT</td>\n",
       "      <td>2024-05-03</td>\n",
       "      <td>117.7600</td>\n",
       "    </tr>\n",
       "    <tr>\n",
       "      <th>2518568</th>\n",
       "      <td>8144</td>\n",
       "      <td>2486692</td>\n",
       "      <td>ATM_CASH</td>\n",
       "      <td>83.0000</td>\n",
       "      <td>DEBIT</td>\n",
       "      <td>2024-05-03</td>\n",
       "      <td>105.4400</td>\n",
       "    </tr>\n",
       "  </tbody>\n",
       "</table>\n",
       "</div>"
      ],
      "text/plain": [
       "        prism_consumer_id prism_transaction_id           category   amount  \\\n",
       "2518565              8144              2486689           PAYCHECK  95.1300   \n",
       "2518585              8144              2486709         AUTOMOTIVE   4.0400   \n",
       "2518578              8144              2486702  EXTERNAL_TRANSFER 150.0000   \n",
       "2518582              8144              2486706         AUTOMOTIVE  12.3200   \n",
       "2518568              8144              2486692           ATM_CASH  83.0000   \n",
       "\n",
       "        credit_or_debit posted_date  curr_balance  \n",
       "2518565          CREDIT  2024-05-06      -66.3800  \n",
       "2518585           DEBIT  2024-05-06       87.6600  \n",
       "2518578           DEBIT  2024-05-06       83.6200  \n",
       "2518582           DEBIT  2024-05-03      117.7600  \n",
       "2518568           DEBIT  2024-05-03      105.4400  "
      ]
     },
     "execution_count": 6,
     "metadata": {},
     "output_type": "execute_result"
    }
   ],
   "source": [
    "# cat_dict = cat_map.set_index('category_id')['category'].to_dict()\n",
    "# balanceDF['cat_name'] = balanceDF.category.apply(lambda x: cat_dict[x])\n",
    "\n",
    "balanceDF.head()"
   ]
  },
  {
   "cell_type": "code",
   "execution_count": null,
   "id": "d222dcb5-5c6e-48f1-a8c1-af254715f341",
   "metadata": {},
   "outputs": [],
   "source": []
  },
  {
   "cell_type": "markdown",
   "id": "683318ef-0eb3-4498-857a-806d4ea52554",
   "metadata": {},
   "source": [
    "### Feature Gen"
   ]
  },
  {
   "cell_type": "code",
   "execution_count": 7,
   "id": "940b4163-3aa2-4bf4-bdf5-03c22e61e186",
   "metadata": {},
   "outputs": [],
   "source": [
    "cat_mappings = dict(zip(cat_map['category_id'], cat_map['category']))\n",
    "trxcat_mappings = dict(zip(cat_map['category_id'], cat_map['category']))\n",
    "trxnDF['category_id'] = trxnDF.category\n",
    "trxnDF.category = trxnDF.category.replace(cat_mappings)"
   ]
  },
  {
   "cell_type": "code",
   "execution_count": 8,
   "id": "10b55623-5bd4-4a6e-8acf-801337b93ab8",
   "metadata": {},
   "outputs": [],
   "source": [
    "def filter_time_window(df, days=None, months=None, years=None):\n",
    "    def filter_group(group):\n",
    "        latest_date = group['posted_date'].max()  # Get latest transaction date per consumer\n",
    "        cutoff_date = latest_date - pd.DateOffset(days=days or 0, months=months or 0, years=years or 0)\n",
    "        return group[group['posted_date'] >= cutoff_date]  # Filter transactions\n",
    "\n",
    "    return df.groupby('prism_consumer_id', group_keys=False).apply(filter_group)"
   ]
  },
  {
   "cell_type": "code",
   "execution_count": 9,
   "id": "0012a009-5b3c-4dd2-b31e-c4ec41fcc690",
   "metadata": {},
   "outputs": [],
   "source": [
    "def compute_balance_delta(balance_filtered, label):\n",
    "    # Get last balance per consumer\n",
    "    last_balance = balance_filtered.groupby('prism_consumer_id')['curr_balance'].last().reset_index()\n",
    "    last_balance = last_balance.rename(columns={'curr_balance': 'curr_balance_last'})\n",
    "    \n",
    "    # Get earliest balance in the filtered dataset\n",
    "    first_balance = balance_filtered.groupby('prism_consumer_id')['curr_balance'].first().reset_index()\n",
    "    first_balance = first_balance.rename(columns={'curr_balance': 'curr_balance_first'})\n",
    "    \n",
    "    # Merge and compute balance delta\n",
    "    df_merged = last_balance.merge(first_balance, on='prism_consumer_id', how='left')\n",
    "    df_merged[f'balance_delta_{label}'] = df_merged['curr_balance_last'] - df_merged['curr_balance_first']\n",
    "    \n",
    "    # Keep only relevant columns\n",
    "    return df_merged[['prism_consumer_id', f'balance_delta_{label}']]\n"
   ]
  },
  {
   "cell_type": "code",
   "execution_count": 10,
   "id": "953525a5-d518-4984-aeee-ab6f250b6b68",
   "metadata": {},
   "outputs": [],
   "source": [
    "def generate_category_features(trxnDF, cat_map, categories):\n",
    "    \"\"\"\n",
    "    Generates transaction-based features for each selected category over multiple time windows.\n",
    "    \n",
    "    Parameters:\n",
    "        trxnDF (pd.DataFrame): DataFrame containing transaction data.\n",
    "        cat_map (pd.DataFrame): DataFrame mapping category IDs to category names.\n",
    "        categories (str or list): One or more transaction categories to filter.\n",
    "\n",
    "    Returns:\n",
    "        pd.DataFrame: Aggregated features per prism_consumer_id.\n",
    "    \"\"\"\n",
    "    if isinstance(categories, str):\n",
    "        categories = [categories]\n",
    "\n",
    "    # trxnDF = trxnDF.merge(cat_map, left_on='category', right_on='category_id', how='left')\n",
    "    # trxnDF['category'] = trxnDF['category_y']\n",
    "    # trxnDF = trxnDF.drop(columns=['category_id', 'category_y'])\n",
    "\n",
    "    trxnDF['posted_date'] = pd.to_datetime(trxnDF['posted_date'])\n",
    "\n",
    "    time_windows = {\n",
    "        'overall': None,\n",
    "        'last_14_days': 14,\n",
    "        'last_30_days': 30,\n",
    "        'last_3_months': 90,\n",
    "        'last_6_months': 180,\n",
    "        'last_year': 365\n",
    "    }\n",
    "\n",
    "    features_dict = {}\n",
    "\n",
    "    for category in categories:\n",
    "        # filter transactions for the current category\n",
    "        filtered_trxn = trxnDF[trxnDF['category'] == category].copy()\n",
    "\n",
    "        # get last posted date per consumer\n",
    "        last_posted_dates = filtered_trxn.groupby('prism_consumer_id')['posted_date'].max()\n",
    "\n",
    "        for window_name, days in time_windows.items():\n",
    "            if days is None:\n",
    "                df_time_filtered = filtered_trxn\n",
    "            else:\n",
    "                # consumer-specific time filters\n",
    "                df_time_filtered = filtered_trxn.merge(last_posted_dates, on='prism_consumer_id', suffixes=('', '_latest'))\n",
    "                df_time_filtered = df_time_filtered[df_time_filtered['posted_date'] >= (df_time_filtered['posted_date_latest'] - pd.Timedelta(days=days))]\n",
    "                df_time_filtered = df_time_filtered.drop(columns=['posted_date_latest'])\n",
    "\n",
    "            # aggregate features\n",
    "            agg_features = df_time_filtered.groupby('prism_consumer_id')['amount'].agg(\n",
    "                mean='mean',\n",
    "                median='median',\n",
    "                std='std',\n",
    "                max='max',\n",
    "                min='min',\n",
    "                count='count'\n",
    "            )\n",
    "\n",
    "            # total transaction count per consumer in the time window\n",
    "            total_trxn_counts = trxnDF.groupby('prism_consumer_id')['amount'].count()\n",
    "\n",
    "            # compute percentage of transactions in this category for the time window\n",
    "            percentage_trxn = (agg_features['count'] / total_trxn_counts).fillna(0)\n",
    "            percentage_trxn = percentage_trxn.rename(f\"{category}_{window_name}_percent\")\n",
    "\n",
    "            agg_features = agg_features.rename(columns=lambda x: f\"{category}_{window_name}_{x}\")\n",
    "\n",
    "            features_dict[f\"{category}_{window_name}\"] = pd.concat([agg_features, percentage_trxn], axis=1)\n",
    "\n",
    "\n",
    "    final_features = pd.concat(features_dict.values(), axis=1).fillna(0)\n",
    "    return final_features\n"
   ]
  },
  {
   "cell_type": "code",
   "execution_count": 11,
   "id": "e41ab0c3-a294-4552-8eca-d957b0427954",
   "metadata": {},
   "outputs": [],
   "source": [
    "def compute_threshold_stats(df, thresholds, cat_label):\n",
    "    # Count total gambling transactions\n",
    "    counts = df.groupby('prism_consumer_id').size().reset_index(name=f'{cat_label}_count')\n",
    "\n",
    "    # Check thresholds\n",
    "    threshold_flags = df.groupby('prism_consumer_id')['amount'].agg(lambda x: [any(x >= t) for t in thresholds]).apply(pd.Series)\n",
    "    threshold_flags.columns = [f'{cat_label}_over_{t}' for t in thresholds]\n",
    "    threshold_flags = threshold_flags.astype(bool)  # Convert to True/False\n",
    "\n",
    "    # Merge counts and flags\n",
    "    result = counts.merge(threshold_flags, on='prism_consumer_id', how='left')\n",
    "\n",
    "    return result\n"
   ]
  },
  {
   "cell_type": "code",
   "execution_count": null,
   "id": "ab5b5011-5305-411b-8260-eac46b566377",
   "metadata": {},
   "outputs": [],
   "source": []
  },
  {
   "cell_type": "code",
   "execution_count": 12,
   "id": "23e019cf-e752-43cd-8e32-1228da6032b9",
   "metadata": {},
   "outputs": [],
   "source": [
    "# creating relevant outflows df with only expenses\n",
    "debits_not_expenses = ['SELF_TRANSFER', 'ATM_CASH']\n",
    "credits_not_income = ['SELF_TRANSFER', 'LOAN', 'REFUND'] # maybe TAX\n",
    "\n",
    "outflows_agg_df = trxnDF[(trxnDF.credit_or_debit == 'DEBIT') & (~trxnDF['category'].isin(debits_not_expenses))] \\\n",
    "                        .groupby('prism_consumer_id')['amount'].agg(['mean', 'std', 'median', 'min', 'max'])\n",
    "outflows_agg_df.columns = ['outflows_amt_' + col for col in outflows_agg_df.columns]\n",
    "\n",
    "inflows_agg_df = trxnDF[(trxnDF.credit_or_debit == 'CREDIT') & (~trxnDF['category'].isin(credits_not_income))] \\\n",
    "                        .groupby('prism_consumer_id')['amount'].agg(['mean', 'std', 'median', 'min', 'max'])\n",
    "inflows_agg_df.columns = ['inflows_amt_' + col for col in inflows_agg_df.columns]"
   ]
  },
  {
   "cell_type": "code",
   "execution_count": null,
   "id": "a98338d6-e783-4e2c-8e39-bc31f45aad91",
   "metadata": {},
   "outputs": [],
   "source": []
  },
  {
   "cell_type": "code",
   "execution_count": 13,
   "id": "f18dab66-8b5b-4314-877b-dc08029300c3",
   "metadata": {},
   "outputs": [
    {
     "name": "stderr",
     "output_type": "stream",
     "text": [
      "/tmp/ipykernel_395/4222159680.py:7: DeprecationWarning: DataFrameGroupBy.apply operated on the grouping columns. This behavior is deprecated, and in a future version of pandas the grouping columns will be excluded from the operation. Either pass `include_groups=False` to exclude the groupings or explicitly select the grouping columns after groupby to silence this warning.\n",
      "  return df.groupby('prism_consumer_id', group_keys=False).apply(filter_group)\n",
      "/tmp/ipykernel_395/4222159680.py:7: DeprecationWarning: DataFrameGroupBy.apply operated on the grouping columns. This behavior is deprecated, and in a future version of pandas the grouping columns will be excluded from the operation. Either pass `include_groups=False` to exclude the groupings or explicitly select the grouping columns after groupby to silence this warning.\n",
      "  return df.groupby('prism_consumer_id', group_keys=False).apply(filter_group)\n",
      "/tmp/ipykernel_395/4222159680.py:7: DeprecationWarning: DataFrameGroupBy.apply operated on the grouping columns. This behavior is deprecated, and in a future version of pandas the grouping columns will be excluded from the operation. Either pass `include_groups=False` to exclude the groupings or explicitly select the grouping columns after groupby to silence this warning.\n",
      "  return df.groupby('prism_consumer_id', group_keys=False).apply(filter_group)\n",
      "/tmp/ipykernel_395/4222159680.py:7: DeprecationWarning: DataFrameGroupBy.apply operated on the grouping columns. This behavior is deprecated, and in a future version of pandas the grouping columns will be excluded from the operation. Either pass `include_groups=False` to exclude the groupings or explicitly select the grouping columns after groupby to silence this warning.\n",
      "  return df.groupby('prism_consumer_id', group_keys=False).apply(filter_group)\n",
      "/tmp/ipykernel_395/4222159680.py:7: DeprecationWarning: DataFrameGroupBy.apply operated on the grouping columns. This behavior is deprecated, and in a future version of pandas the grouping columns will be excluded from the operation. Either pass `include_groups=False` to exclude the groupings or explicitly select the grouping columns after groupby to silence this warning.\n",
      "  return df.groupby('prism_consumer_id', group_keys=False).apply(filter_group)\n"
     ]
    },
    {
     "name": "stdout",
     "output_type": "stream",
     "text": [
      "CPU times: user 48.5 s, sys: 3.21 s, total: 51.7 s\n",
      "Wall time: 51.8 s\n"
     ]
    },
    {
     "data": {
      "text/plain": [
       "(12000, 31)"
      ]
     },
     "execution_count": 13,
     "metadata": {},
     "output_type": "execute_result"
    }
   ],
   "source": [
    "%%time\n",
    "\n",
    "balance_ftrs = balanceDF.groupby('prism_consumer_id')['curr_balance'].agg(['mean', 'std', 'median', 'min', 'max'])\n",
    "balance_ftrs.columns = ['balance_' + x for x in balance_ftrs.columns]\n",
    "balance_last_14_days = filter_time_window(balanceDF, days=14)\n",
    "balance_last_30_days = filter_time_window(balanceDF, days=30)\n",
    "balance_last_3_months = filter_time_window(balanceDF, months=1)\n",
    "balance_last_6_months = filter_time_window(balanceDF, months=6)\n",
    "balance_last_year = filter_time_window(balanceDF, years=1)\n",
    "\n",
    "balance_last_14_days_metrics = balance_last_14_days.groupby('prism_consumer_id')['amount'].agg(['mean', 'std', 'median', 'min', 'max'])\n",
    "balance_last_14_days_metrics.columns = ['balance_last_14_days_' + x for x in balance_last_14_days_metrics.columns]\n",
    "\n",
    "balance_last_30_days_metrics = balance_last_30_days.groupby('prism_consumer_id')['amount'].agg(['mean', 'std', 'median', 'min', 'max'])\n",
    "balance_last_30_days_metrics.columns = ['balance_last_30_days_' + x for x in balance_last_30_days_metrics.columns]\n",
    "\n",
    "balance_last_3_months_metrics = balance_last_3_months.groupby('prism_consumer_id')['amount'].agg(['mean', 'std', 'median', 'min', 'max'])\n",
    "balance_last_3_months_metrics.columns = ['balance_last_3_months_' + x for x in balance_last_3_months_metrics.columns]\n",
    "\n",
    "balance_last_6_months_metrics = balance_last_6_months.groupby('prism_consumer_id')['amount'].agg(['mean', 'std', 'median', 'min', 'max'])\n",
    "balance_last_6_months_metrics.columns = ['balance_last_6_months_' + x for x in balance_last_6_months_metrics.columns]\n",
    "\n",
    "balance_last_year_metrics = balance_last_year.groupby('prism_consumer_id')['amount'].agg(['mean', 'std', 'median', 'min', 'max'])\n",
    "balance_last_year_metrics.columns = ['balance_last_1_year_' + x for x in balance_last_year_metrics.columns]\n",
    "\n",
    "balance_dfs = [consDF[['prism_consumer_id']], balance_ftrs, balance_last_14_days_metrics, balance_last_30_days_metrics, balance_last_3_months_metrics, balance_last_6_months_metrics, balance_last_year_metrics]\n",
    "balance_ftrs = reduce(lambda left, right: pd.merge(left, right, on='prism_consumer_id', how='left'), balance_dfs)\n",
    "\n",
    "balance_ftrs.shape"
   ]
  },
  {
   "cell_type": "code",
   "execution_count": 14,
   "id": "1a419d83-95ee-4ad5-a8bb-9fabcd958173",
   "metadata": {},
   "outputs": [
    {
     "name": "stdout",
     "output_type": "stream",
     "text": [
      "CPU times: user 1.86 s, sys: 232 ms, total: 2.09 s\n",
      "Wall time: 2.09 s\n"
     ]
    }
   ],
   "source": [
    "%%time\n",
    "\n",
    "# balance_deltas\n",
    "balance_delta_overall = compute_balance_delta(balanceDF, 'overall')\n",
    "balance_delta_14d = compute_balance_delta(balance_last_14_days, '14d')\n",
    "balance_delta_30d = compute_balance_delta(balance_last_30_days, '30d')\n",
    "balance_delta_3m = compute_balance_delta(balance_last_3_months, '3m')\n",
    "balance_delta_6m = compute_balance_delta(balance_last_6_months, '6m')\n",
    "balance_delta_1y = compute_balance_delta(balance_last_year, '1y')\n",
    "\n",
    "\n",
    "balance_deltas_dfs = [consDF[['prism_consumer_id']], balance_delta_overall, balance_delta_14d, balance_delta_30d, balance_delta_3m, balance_delta_6m, balance_delta_1y]\n",
    "balance_deltas_ftrs = reduce(lambda left, right: pd.merge(left, right, on='prism_consumer_id', how='left'), balance_deltas_dfs)\n",
    "\n"
   ]
  },
  {
   "cell_type": "code",
   "execution_count": null,
   "id": "3dd80378-dd0c-433a-b2cd-06a3f2ae1600",
   "metadata": {},
   "outputs": [],
   "source": []
  },
  {
   "cell_type": "code",
   "execution_count": 15,
   "id": "c7044812-c2a6-4e73-9abc-ecc0d911edec",
   "metadata": {},
   "outputs": [
    {
     "name": "stderr",
     "output_type": "stream",
     "text": [
      "/tmp/ipykernel_395/4222159680.py:7: DeprecationWarning: DataFrameGroupBy.apply operated on the grouping columns. This behavior is deprecated, and in a future version of pandas the grouping columns will be excluded from the operation. Either pass `include_groups=False` to exclude the groupings or explicitly select the grouping columns after groupby to silence this warning.\n",
      "  return df.groupby('prism_consumer_id', group_keys=False).apply(filter_group)\n",
      "/tmp/ipykernel_395/4222159680.py:7: DeprecationWarning: DataFrameGroupBy.apply operated on the grouping columns. This behavior is deprecated, and in a future version of pandas the grouping columns will be excluded from the operation. Either pass `include_groups=False` to exclude the groupings or explicitly select the grouping columns after groupby to silence this warning.\n",
      "  return df.groupby('prism_consumer_id', group_keys=False).apply(filter_group)\n",
      "/tmp/ipykernel_395/4222159680.py:7: DeprecationWarning: DataFrameGroupBy.apply operated on the grouping columns. This behavior is deprecated, and in a future version of pandas the grouping columns will be excluded from the operation. Either pass `include_groups=False` to exclude the groupings or explicitly select the grouping columns after groupby to silence this warning.\n",
      "  return df.groupby('prism_consumer_id', group_keys=False).apply(filter_group)\n",
      "/tmp/ipykernel_395/4222159680.py:7: DeprecationWarning: DataFrameGroupBy.apply operated on the grouping columns. This behavior is deprecated, and in a future version of pandas the grouping columns will be excluded from the operation. Either pass `include_groups=False` to exclude the groupings or explicitly select the grouping columns after groupby to silence this warning.\n",
      "  return df.groupby('prism_consumer_id', group_keys=False).apply(filter_group)\n",
      "/tmp/ipykernel_395/4222159680.py:7: DeprecationWarning: DataFrameGroupBy.apply operated on the grouping columns. This behavior is deprecated, and in a future version of pandas the grouping columns will be excluded from the operation. Either pass `include_groups=False` to exclude the groupings or explicitly select the grouping columns after groupby to silence this warning.\n",
      "  return df.groupby('prism_consumer_id', group_keys=False).apply(filter_group)\n"
     ]
    }
   ],
   "source": [
    "trxn_df_last_14_days = filter_time_window(trxnDF, days=14)\n",
    "trxn_df_last_30_days = filter_time_window(trxnDF, days=30)\n",
    "trxn_df_last_3_months = filter_time_window(trxnDF, months=3)\n",
    "trxn_df_last_6_months = filter_time_window(trxnDF, months=6)\n",
    "trxn_df_last_year = filter_time_window(trxnDF, years=1)\n",
    "\n",
    "debits_df = trxnDF[trxnDF.credit_or_debit == 'DEBIT']\n",
    "credits_df = trxnDF[trxnDF.credit_or_debit == 'CREDIT']\n",
    "\n",
    "debits_df_last_14_days = trxn_df_last_14_days[trxn_df_last_14_days.credit_or_debit == 'DEBIT']\n",
    "debits_df_last_30_days = trxn_df_last_30_days[trxn_df_last_30_days.credit_or_debit == 'DEBIT']\n",
    "debits_df_last_3_months = trxn_df_last_3_months[trxn_df_last_3_months.credit_or_debit == 'DEBIT']\n",
    "debits_df_last_6_months = trxn_df_last_6_months[trxn_df_last_6_months.credit_or_debit == 'DEBIT']\n",
    "debits_df_last_year = trxn_df_last_year[trxn_df_last_year.credit_or_debit == 'DEBIT']\n",
    "\n",
    "credits_df_last_14_days = trxn_df_last_14_days[trxn_df_last_14_days.credit_or_debit == 'CREDIT']\n",
    "credits_df_last_30_days = trxn_df_last_30_days[trxn_df_last_30_days.credit_or_debit == 'CREDIT']\n",
    "credits_df_last_3_months = trxn_df_last_3_months[trxn_df_last_3_months.credit_or_debit == 'CREDIT']\n",
    "credits_df_last_6_months = trxn_df_last_6_months[trxn_df_last_6_months.credit_or_debit == 'CREDIT']\n",
    "credits_df_last_year = trxn_df_last_year[trxn_df_last_year.credit_or_debit == 'CREDIT']"
   ]
  },
  {
   "cell_type": "code",
   "execution_count": 16,
   "id": "ff7b69dd-8498-461a-880b-d5d4164273e1",
   "metadata": {},
   "outputs": [
    {
     "name": "stdout",
     "output_type": "stream",
     "text": [
      "CPU times: user 3.64 s, sys: 368 ms, total: 4.01 s\n",
      "Wall time: 4.01 s\n"
     ]
    },
    {
     "data": {
      "text/plain": [
       "((12000, 31), (12000, 31))"
      ]
     },
     "execution_count": 16,
     "metadata": {},
     "output_type": "execute_result"
    }
   ],
   "source": [
    "%%time\n",
    "\n",
    "debits_not_expenses = ['SELF_TRANSFER', 'ATM_CASH']\n",
    "credits_not_income = ['SELF_TRANSFER', 'LOAN', 'REFUND'] # maybe TAX\n",
    "\n",
    "\n",
    "# creating filtered window transactions dfs\n",
    "\n",
    "# creating windowed expenses aggregate metrics\n",
    "outflows_ftrs = debits_df[~debits_df['category'].isin(debits_not_expenses)] \\\n",
    "                        .groupby('prism_consumer_id')['amount'].agg(['mean', 'std', 'median', 'min', 'max'])\n",
    "outflows_ftrs.columns = ['outflows_amt_' + col for col in outflows_ftrs.columns]\n",
    "\n",
    "outflows_last_14_days_agg_df = debits_df_last_14_days[~debits_df_last_14_days['category'].isin(debits_not_expenses)] \\\n",
    "                        .groupby('prism_consumer_id')['amount'].agg(['mean', 'std', 'median', 'min', 'max'])\n",
    "outflows_last_14_days_agg_df.columns = ['outflows_amt_last_14_days_' + col for col in outflows_last_14_days_agg_df.columns]\n",
    "\n",
    "outflows_last_30_days_agg_df = debits_df_last_30_days[~debits_df_last_30_days['category'].isin(debits_not_expenses)] \\\n",
    "                        .groupby('prism_consumer_id')['amount'].agg(['mean', 'std', 'median', 'min', 'max'])\n",
    "outflows_last_30_days_agg_df.columns = ['outflows_amt_last_30_days_' + col for col in outflows_last_30_days_agg_df.columns]\n",
    "\n",
    "outflows_last_3_months_agg_df = debits_df_last_3_months[~debits_df_last_3_months['category'].isin(debits_not_expenses)] \\\n",
    "                        .groupby('prism_consumer_id')['amount'].agg(['mean', 'std', 'median', 'min', 'max'])\n",
    "outflows_last_3_months_agg_df.columns = ['outflows_amt_last_3_months_' + col for col in outflows_last_3_months_agg_df.columns]\n",
    "\n",
    "outflows_last_6_months_agg_df = debits_df_last_6_months[~debits_df_last_6_months['category'].isin(debits_not_expenses)] \\\n",
    "                        .groupby('prism_consumer_id')['amount'].agg(['mean', 'std', 'median', 'min', 'max'])\n",
    "outflows_last_6_months_agg_df.columns = ['outflows_amt_last_6_months_' + col for col in outflows_last_6_months_agg_df.columns]\n",
    "\n",
    "outflows_last_year_agg_df = debits_df_last_year[~debits_df_last_year['category'].isin(debits_not_expenses)] \\\n",
    "                        .groupby('prism_consumer_id')['amount'].agg(['mean', 'std', 'median', 'min', 'max'])\n",
    "outflows_last_year_agg_df.columns = ['outflows_amt_last_year_' + col for col in outflows_last_year_agg_df.columns]\n",
    "\n",
    "outflows_df = [consDF[['prism_consumer_id']], outflows_ftrs, outflows_last_14_days_agg_df, outflows_last_30_days_agg_df, outflows_last_3_months_agg_df, outflows_last_6_months_agg_df, outflows_last_year_agg_df]\n",
    "outflows_ftrs = reduce(lambda left, right: pd.merge(left, right, on='prism_consumer_id', how='left'), outflows_df)\n",
    "\n",
    "# inflows\n",
    "inflows_ftrs = credits_df[~credits_df['category'].isin(credits_not_income)] \\\n",
    "                        .groupby('prism_consumer_id')['amount'].agg(['mean', 'std', 'median', 'min', 'max'])\n",
    "inflows_ftrs.columns = ['outflows_amt_' + col for col in inflows_ftrs.columns]\n",
    "\n",
    "inflows_last_14_days_agg_df = credits_df_last_14_days[~credits_df_last_14_days['category'].isin(credits_not_income)] \\\n",
    "                .groupby('prism_consumer_id')['amount'].agg(['mean', 'std', 'median', 'min', 'max'])\n",
    "inflows_last_14_days_agg_df.columns = ['inflows_amt_last_14_days_' + col for col in inflows_last_14_days_agg_df.columns]\n",
    "\n",
    "inflows_last_30_days_agg_df = credits_df_last_30_days[~credits_df_last_30_days['category'].isin(credits_not_income)] \\\n",
    "                .groupby('prism_consumer_id')['amount'].agg(['mean', 'std', 'median', 'min', 'max'])\n",
    "inflows_last_30_days_agg_df.columns = ['inflows_amt_last_30_days_' + col for col in inflows_last_30_days_agg_df.columns]\n",
    "\n",
    "inflows_last_3_months_agg_df = credits_df_last_3_months[~credits_df_last_3_months['category'].isin(credits_not_income)] \\\n",
    "                .groupby('prism_consumer_id')['amount'].agg(['mean', 'std', 'median', 'min', 'max'])\n",
    "inflows_last_3_months_agg_df.columns = ['inflows_amt_last_3_months_' + col for col in inflows_last_3_months_agg_df.columns]\n",
    "\n",
    "inflows_last_6_months_agg_df = credits_df_last_6_months[~credits_df_last_6_months['category'].isin(credits_not_income)] \\\n",
    "                .groupby('prism_consumer_id')['amount'].agg(['mean', 'std', 'median', 'min', 'max'])\n",
    "inflows_last_6_months_agg_df.columns = ['inflows_amt_last_6_months_' + col for col in inflows_last_6_months_agg_df.columns]\n",
    "\n",
    "inflows_last_year_agg_df = credits_df_last_year[~credits_df_last_year['category'].isin(credits_not_income)] \\\n",
    "                .groupby('prism_consumer_id')['amount'].agg(['mean', 'std', 'median', 'min', 'max'])\n",
    "inflows_last_year_agg_df.columns = ['inflows_amt_last_year_' + col for col in inflows_last_year_agg_df.columns]\n",
    "\n",
    "inflows_df = [consDF[['prism_consumer_id']], inflows_ftrs, inflows_last_14_days_agg_df, inflows_last_30_days_agg_df, inflows_last_3_months_agg_df, inflows_last_6_months_agg_df, inflows_last_year_agg_df]\n",
    "inflows_ftrs = reduce(lambda left, right: pd.merge(left, right, on='prism_consumer_id', how='left'), inflows_df)\n",
    "\n",
    "outflows_ftrs.shape, inflows_ftrs.shape"
   ]
  },
  {
   "cell_type": "code",
   "execution_count": null,
   "id": "eaddda07-0ef4-42cb-b053-c3ea8bc845bc",
   "metadata": {},
   "outputs": [],
   "source": []
  },
  {
   "cell_type": "code",
   "execution_count": null,
   "id": "6e2e10cc-b435-486b-b5a4-23637d5f190a",
   "metadata": {},
   "outputs": [],
   "source": []
  },
  {
   "cell_type": "code",
   "execution_count": null,
   "id": "0bd875ef-359f-42e3-a87d-76c9a0f84185",
   "metadata": {},
   "outputs": [],
   "source": []
  },
  {
   "cell_type": "code",
   "execution_count": null,
   "id": "fe2935e6-9bc3-4b93-af76-aaec70bbf30a",
   "metadata": {},
   "outputs": [],
   "source": []
  },
  {
   "cell_type": "code",
   "execution_count": null,
   "id": "39b5873e-ece1-494f-9d53-577dc7245693",
   "metadata": {},
   "outputs": [],
   "source": []
  },
  {
   "cell_type": "code",
   "execution_count": 17,
   "id": "4b6d1457-f528-487c-a602-736713e0544c",
   "metadata": {},
   "outputs": [],
   "source": [
    "cat_map.category.unique()\n",
    "\n",
    "cat_ok = ['SELF_TRANSFER', 'EXTERNAL_TRANSFER', 'DEPOSIT', 'PAYCHECK',\n",
    "       'MISCELLANEOUS', 'PAYCHECK_PLACEHOLDER', 'REFUND',\n",
    "       'INVESTMENT_INCOME', 'OTHER_BENEFITS', \n",
    "       'SMALL_DOLLAR_ADVANCE', 'TAX', 'LOAN', 'INSURANCE',\n",
    "       'FOOD_AND_BEVERAGES', 'UNCATEGORIZED', 'GENERAL_MERCHANDISE',\n",
    "       'AUTOMOTIVE', 'GROCERIES', 'ATM_CASH', 'ENTERTAINMENT', 'TRAVEL',\n",
    "       'ESSENTIAL_SERVICES', 'ACCOUNT_FEES', 'HOME_IMPROVEMENT',\n",
    "       'OVERDRAFT', 'CREDIT_CARD_PAYMENT', 'HEALTHCARE_MEDICAL', 'PETS',\n",
    "       'EDUCATION', 'GIFTS_DONATIONS', 'BILLS_UTILITIES', 'MORTGAGE',\n",
    "       'RENT', 'BNPL', 'AUTO_LOAN',\n",
    "       'BANKING_CATCH_ALL', 'DEBT', 'FITNESS', 'TRANSPORATION', 'LEGAL',\n",
    "       'GOVERNMENT_SERVICES', 'RISK_CATCH_ALL', 'RTO_LTO', 'INVESTMENT',\n",
    "       'GAMBLING', 'CORPORATE_PAYMENTS', 'TIME_OR_STUFF', 'PENSION']"
   ]
  },
  {
   "cell_type": "code",
   "execution_count": 18,
   "id": "8f520310-9b53-419b-a66c-dd67e0016522",
   "metadata": {},
   "outputs": [
    {
     "name": "stdout",
     "output_type": "stream",
     "text": [
      "CPU times: user 1min 40s, sys: 13.8 s, total: 1min 53s\n",
      "Wall time: 1min 54s\n"
     ]
    },
    {
     "data": {
      "text/plain": [
       "(14492, 2016)"
      ]
     },
     "execution_count": 18,
     "metadata": {},
     "output_type": "execute_result"
    }
   ],
   "source": [
    "%%time\n",
    "\n",
    "category_features = generate_category_features(trxnDF, cat_map, cat_ok)\n",
    "category_features.shape"
   ]
  },
  {
   "cell_type": "code",
   "execution_count": null,
   "id": "f7a7106d-2c44-40a7-be41-eda79381bd1a",
   "metadata": {},
   "outputs": [],
   "source": []
  },
  {
   "cell_type": "code",
   "execution_count": null,
   "id": "f22ced46-de09-43c1-8b06-8fc27f433ec3",
   "metadata": {},
   "outputs": [],
   "source": []
  },
  {
   "cell_type": "code",
   "execution_count": 19,
   "id": "96502e1d-3ed2-438e-8ba7-02e0f2d3c736",
   "metadata": {},
   "outputs": [
    {
     "name": "stderr",
     "output_type": "stream",
     "text": [
      "/tmp/ipykernel_395/4222159680.py:7: DeprecationWarning: DataFrameGroupBy.apply operated on the grouping columns. This behavior is deprecated, and in a future version of pandas the grouping columns will be excluded from the operation. Either pass `include_groups=False` to exclude the groupings or explicitly select the grouping columns after groupby to silence this warning.\n",
      "  return df.groupby('prism_consumer_id', group_keys=False).apply(filter_group)\n",
      "/tmp/ipykernel_395/4222159680.py:7: DeprecationWarning: DataFrameGroupBy.apply operated on the grouping columns. This behavior is deprecated, and in a future version of pandas the grouping columns will be excluded from the operation. Either pass `include_groups=False` to exclude the groupings or explicitly select the grouping columns after groupby to silence this warning.\n",
      "  return df.groupby('prism_consumer_id', group_keys=False).apply(filter_group)\n",
      "/tmp/ipykernel_395/4222159680.py:7: DeprecationWarning: DataFrameGroupBy.apply operated on the grouping columns. This behavior is deprecated, and in a future version of pandas the grouping columns will be excluded from the operation. Either pass `include_groups=False` to exclude the groupings or explicitly select the grouping columns after groupby to silence this warning.\n",
      "  return df.groupby('prism_consumer_id', group_keys=False).apply(filter_group)\n"
     ]
    },
    {
     "name": "stdout",
     "output_type": "stream",
     "text": [
      "CPU times: user 4.18 s, sys: 56.2 ms, total: 4.24 s\n",
      "Wall time: 4.23 s\n"
     ]
    },
    {
     "data": {
      "text/plain": [
       "(12000, 21)"
      ]
     },
     "execution_count": 19,
     "metadata": {},
     "output_type": "execute_result"
    }
   ],
   "source": [
    "%%time\n",
    "\n",
    "gambling_df_all = balanceDF[balanceDF['category'] == 'GAMBLING']\n",
    "gambling_thresholds = [50, 100, 500, 1000]\n",
    "\n",
    "# Filter for different time periods\n",
    "gambling_last_month = filter_time_window(gambling_df_all, months=1)\n",
    "gambling_last_6m = filter_time_window(gambling_df_all, months=6)\n",
    "gambling_last_year = filter_time_window(gambling_df_all, years=1)\n",
    "\n",
    "gambling_stats_all = compute_threshold_stats(gambling_df_all, gambling_thresholds, 'all')\n",
    "gambling_stats_month = compute_threshold_stats(gambling_last_month, gambling_thresholds, '1m')\n",
    "gambling_stats_6m = compute_threshold_stats(gambling_last_6m, gambling_thresholds, '6m')\n",
    "gambling_stats_year = compute_threshold_stats(gambling_last_year, gambling_thresholds, '1y')\n",
    "\n",
    "gambling_df = [consDF[['prism_consumer_id']], gambling_stats_all, gambling_stats_month, gambling_stats_6m, gambling_stats_year]\n",
    "gambling_ftrs = reduce(lambda left, right: pd.merge(left, right, on='prism_consumer_id', how='left'), gambling_df)\n",
    "\n",
    "gambling_ftrs.shape"
   ]
  },
  {
   "cell_type": "code",
   "execution_count": null,
   "id": "9510fc1d-3180-4a67-ac9b-32068feb4d2a",
   "metadata": {},
   "outputs": [],
   "source": []
  },
  {
   "cell_type": "code",
   "execution_count": 20,
   "id": "3fde1781-ac29-4afc-a7c3-8f86cd5125fe",
   "metadata": {},
   "outputs": [
    {
     "data": {
      "text/plain": [
       "(12000, 2144)"
      ]
     },
     "execution_count": 20,
     "metadata": {},
     "output_type": "execute_result"
    }
   ],
   "source": [
    "feature_dfs = [consDF[['prism_consumer_id', 'DQ_TARGET']], balance_ftrs, balance_deltas_ftrs, category_features, outflows_ftrs, inflows_ftrs, inflows_agg_df, outflows_agg_df, gambling_ftrs,]\n",
    "features_all = reduce(lambda left, right: pd.merge(left, right, on='prism_consumer_id', how='left'), feature_dfs)\n",
    "\n",
    "features_all.shape"
   ]
  },
  {
   "cell_type": "code",
   "execution_count": null,
   "id": "3ffcc773-9082-461d-956f-8ca7fcf486d1",
   "metadata": {},
   "outputs": [],
   "source": []
  },
  {
   "cell_type": "code",
   "execution_count": null,
   "id": "98492ef8-77bb-48f3-a26b-3fdb604cd223",
   "metadata": {},
   "outputs": [],
   "source": []
  },
  {
   "cell_type": "markdown",
   "id": "9521345a-593e-4b72-9ec0-a700dc057574",
   "metadata": {},
   "source": [
    "## Model Training"
   ]
  },
  {
   "cell_type": "code",
   "execution_count": 21,
   "id": "b11e50fa-25bf-4c22-a13f-48fac32f312f",
   "metadata": {},
   "outputs": [],
   "source": [
    "import time\n",
    "from sklearn.preprocessing import StandardScaler\n",
    "from sklearn.ensemble import RandomForestClassifier\n",
    "\n",
    "from sklearn.model_selection import train_test_split\n",
    "from sklearn.metrics import roc_auc_score, accuracy_score, precision_score, recall_score, f1_score, confusion_matrix\n",
    "\n",
    "from sklearn.linear_model import LogisticRegression\n",
    "from sklearn.ensemble import HistGradientBoostingClassifier\n",
    "from catboost import CatBoostClassifier # pip install\n",
    "from lightgbm import LGBMClassifier\n",
    "from xgboost import XGBClassifier # pip install\n",
    "\n",
    "import matplotlib.pyplot as plt\n",
    "import seaborn as sns"
   ]
  },
  {
   "cell_type": "code",
   "execution_count": null,
   "id": "23d2e01b-d556-440c-9893-3f0d45b897f1",
   "metadata": {},
   "outputs": [],
   "source": []
  },
  {
   "cell_type": "markdown",
   "id": "8fb59b98-311d-4409-adb6-38d66c29aa3f",
   "metadata": {},
   "source": [
    "### Check to include scoring exclusions"
   ]
  },
  {
   "cell_type": "code",
   "execution_count": null,
   "id": "41687966-dde4-40b8-9686-9eff705d8296",
   "metadata": {},
   "outputs": [],
   "source": []
  },
  {
   "cell_type": "code",
   "execution_count": 22,
   "id": "aa9059bb-eb66-4ab2-8c2e-59328f18ba47",
   "metadata": {},
   "outputs": [],
   "source": [
    "trxn_counts = trxnDF.groupby('prism_consumer_id')['prism_transaction_id'].count()\n",
    "cons_at_least_2_trxns = set(trxn_counts[trxn_counts >= 2].index)\n",
    "\n",
    "balance_sum = acctDF.groupby('prism_consumer_id')['balance'].sum()\n",
    "cons_non_zero_balances = set(balance_sum[balance_sum != 0].index)\n",
    "\n",
    "credit_debit_counts = trxnDF.groupby('prism_consumer_id')['credit_or_debit'].value_counts().unstack(fill_value=0)\n",
    "credit_debit_counts.columns = ['num_credits', 'num_debits']\n",
    "cons_non_zero_credits = set(credit_debit_counts[credit_debit_counts.num_credits > 0].index)\n",
    "cons_non_zero_debits = set(credit_debit_counts[credit_debit_counts.num_debits > 0].index)\n",
    "cons_has_both_credits_debits = set(credit_debit_counts[((credit_debit_counts.num_credits > 0) & (credit_debit_counts.num_debits > 0))].index)"
   ]
  },
  {
   "cell_type": "code",
   "execution_count": 23,
   "id": "5b6bdbc3-fd08-4f7e-a7ee-dc99e3cc04cc",
   "metadata": {},
   "outputs": [],
   "source": [
    "kept_cons = cons_at_least_2_trxns & cons_non_zero_balances & cons_has_both_credits_debits"
   ]
  },
  {
   "cell_type": "code",
   "execution_count": 24,
   "id": "8432a4d1-4dde-423b-a7f5-f794d8d135f1",
   "metadata": {},
   "outputs": [],
   "source": [
    "features_cons_kept = features_all[features_all.prism_consumer_id.isin(kept_cons)]"
   ]
  },
  {
   "cell_type": "code",
   "execution_count": null,
   "id": "c4e8ad83-506d-4f7e-89ef-6f3aea6fa964",
   "metadata": {},
   "outputs": [],
   "source": []
  },
  {
   "cell_type": "code",
   "execution_count": 25,
   "id": "1f76e3be-3b6c-4840-9451-a5ad71331e5a",
   "metadata": {},
   "outputs": [
    {
     "name": "stdout",
     "output_type": "stream",
     "text": [
      "(9825, 2143)\n"
     ]
    },
    {
     "data": {
      "text/html": [
       "<div>\n",
       "<style scoped>\n",
       "    .dataframe tbody tr th:only-of-type {\n",
       "        vertical-align: middle;\n",
       "    }\n",
       "\n",
       "    .dataframe tbody tr th {\n",
       "        vertical-align: top;\n",
       "    }\n",
       "\n",
       "    .dataframe thead th {\n",
       "        text-align: right;\n",
       "    }\n",
       "</style>\n",
       "<table border=\"1\" class=\"dataframe\">\n",
       "  <thead>\n",
       "    <tr style=\"text-align: right;\">\n",
       "      <th></th>\n",
       "      <th>DQ_TARGET</th>\n",
       "      <th>balance_mean</th>\n",
       "      <th>balance_std</th>\n",
       "      <th>balance_median</th>\n",
       "      <th>balance_min</th>\n",
       "      <th>balance_max</th>\n",
       "      <th>balance_last_14_days_mean</th>\n",
       "      <th>balance_last_14_days_std</th>\n",
       "      <th>balance_last_14_days_median</th>\n",
       "      <th>balance_last_14_days_min</th>\n",
       "      <th>...</th>\n",
       "      <th>6m_count</th>\n",
       "      <th>6m_over_50</th>\n",
       "      <th>6m_over_100</th>\n",
       "      <th>6m_over_500</th>\n",
       "      <th>6m_over_1000</th>\n",
       "      <th>1y_count</th>\n",
       "      <th>1y_over_50</th>\n",
       "      <th>1y_over_100</th>\n",
       "      <th>1y_over_500</th>\n",
       "      <th>1y_over_1000</th>\n",
       "    </tr>\n",
       "  </thead>\n",
       "  <tbody>\n",
       "    <tr>\n",
       "      <th>0</th>\n",
       "      <td>0.0000</td>\n",
       "      <td>-0.0898</td>\n",
       "      <td>-0.1871</td>\n",
       "      <td>-0.0821</td>\n",
       "      <td>0.1067</td>\n",
       "      <td>-0.1815</td>\n",
       "      <td>-0.0481</td>\n",
       "      <td>-0.0564</td>\n",
       "      <td>-0.0255</td>\n",
       "      <td>-0.0331</td>\n",
       "      <td>...</td>\n",
       "      <td>NaN</td>\n",
       "      <td>NaN</td>\n",
       "      <td>NaN</td>\n",
       "      <td>NaN</td>\n",
       "      <td>NaN</td>\n",
       "      <td>NaN</td>\n",
       "      <td>NaN</td>\n",
       "      <td>NaN</td>\n",
       "      <td>NaN</td>\n",
       "      <td>NaN</td>\n",
       "    </tr>\n",
       "    <tr>\n",
       "      <th>1</th>\n",
       "      <td>0.0000</td>\n",
       "      <td>-0.2186</td>\n",
       "      <td>-0.1621</td>\n",
       "      <td>-0.1917</td>\n",
       "      <td>-0.0472</td>\n",
       "      <td>-0.2508</td>\n",
       "      <td>-0.0390</td>\n",
       "      <td>-0.0525</td>\n",
       "      <td>-0.0182</td>\n",
       "      <td>-0.0360</td>\n",
       "      <td>...</td>\n",
       "      <td>NaN</td>\n",
       "      <td>NaN</td>\n",
       "      <td>NaN</td>\n",
       "      <td>NaN</td>\n",
       "      <td>NaN</td>\n",
       "      <td>NaN</td>\n",
       "      <td>NaN</td>\n",
       "      <td>NaN</td>\n",
       "      <td>NaN</td>\n",
       "      <td>NaN</td>\n",
       "    </tr>\n",
       "    <tr>\n",
       "      <th>2</th>\n",
       "      <td>0.0000</td>\n",
       "      <td>-0.0680</td>\n",
       "      <td>-0.0366</td>\n",
       "      <td>-0.1200</td>\n",
       "      <td>0.0437</td>\n",
       "      <td>-0.1205</td>\n",
       "      <td>-0.0388</td>\n",
       "      <td>-0.0268</td>\n",
       "      <td>-0.0241</td>\n",
       "      <td>-0.0358</td>\n",
       "      <td>...</td>\n",
       "      <td>NaN</td>\n",
       "      <td>NaN</td>\n",
       "      <td>NaN</td>\n",
       "      <td>NaN</td>\n",
       "      <td>NaN</td>\n",
       "      <td>NaN</td>\n",
       "      <td>NaN</td>\n",
       "      <td>NaN</td>\n",
       "      <td>NaN</td>\n",
       "      <td>NaN</td>\n",
       "    </tr>\n",
       "    <tr>\n",
       "      <th>3</th>\n",
       "      <td>0.0000</td>\n",
       "      <td>-0.2302</td>\n",
       "      <td>-0.0873</td>\n",
       "      <td>-0.2005</td>\n",
       "      <td>-0.2681</td>\n",
       "      <td>-0.2097</td>\n",
       "      <td>-0.0424</td>\n",
       "      <td>-0.0481</td>\n",
       "      <td>-0.0243</td>\n",
       "      <td>-0.0253</td>\n",
       "      <td>...</td>\n",
       "      <td>NaN</td>\n",
       "      <td>NaN</td>\n",
       "      <td>NaN</td>\n",
       "      <td>NaN</td>\n",
       "      <td>NaN</td>\n",
       "      <td>NaN</td>\n",
       "      <td>NaN</td>\n",
       "      <td>NaN</td>\n",
       "      <td>NaN</td>\n",
       "      <td>NaN</td>\n",
       "    </tr>\n",
       "    <tr>\n",
       "      <th>4</th>\n",
       "      <td>0.0000</td>\n",
       "      <td>-0.0648</td>\n",
       "      <td>-0.2182</td>\n",
       "      <td>-0.0475</td>\n",
       "      <td>0.1123</td>\n",
       "      <td>-0.1947</td>\n",
       "      <td>-0.0424</td>\n",
       "      <td>-0.0573</td>\n",
       "      <td>-0.0246</td>\n",
       "      <td>-0.0361</td>\n",
       "      <td>...</td>\n",
       "      <td>-0.2092</td>\n",
       "      <td>0.8035</td>\n",
       "      <td>1.0151</td>\n",
       "      <td>-0.4198</td>\n",
       "      <td>-0.2525</td>\n",
       "      <td>-0.2119</td>\n",
       "      <td>0.8035</td>\n",
       "      <td>1.0132</td>\n",
       "      <td>-0.4213</td>\n",
       "      <td>-0.2525</td>\n",
       "    </tr>\n",
       "  </tbody>\n",
       "</table>\n",
       "<p>5 rows × 2143 columns</p>\n",
       "</div>"
      ],
      "text/plain": [
       "   DQ_TARGET  balance_mean  balance_std  balance_median  balance_min  \\\n",
       "0     0.0000       -0.0898      -0.1871         -0.0821       0.1067   \n",
       "1     0.0000       -0.2186      -0.1621         -0.1917      -0.0472   \n",
       "2     0.0000       -0.0680      -0.0366         -0.1200       0.0437   \n",
       "3     0.0000       -0.2302      -0.0873         -0.2005      -0.2681   \n",
       "4     0.0000       -0.0648      -0.2182         -0.0475       0.1123   \n",
       "\n",
       "   balance_max  balance_last_14_days_mean  balance_last_14_days_std  \\\n",
       "0      -0.1815                    -0.0481                   -0.0564   \n",
       "1      -0.2508                    -0.0390                   -0.0525   \n",
       "2      -0.1205                    -0.0388                   -0.0268   \n",
       "3      -0.2097                    -0.0424                   -0.0481   \n",
       "4      -0.1947                    -0.0424                   -0.0573   \n",
       "\n",
       "   balance_last_14_days_median  balance_last_14_days_min  ...  6m_count  \\\n",
       "0                      -0.0255                   -0.0331  ...       NaN   \n",
       "1                      -0.0182                   -0.0360  ...       NaN   \n",
       "2                      -0.0241                   -0.0358  ...       NaN   \n",
       "3                      -0.0243                   -0.0253  ...       NaN   \n",
       "4                      -0.0246                   -0.0361  ...   -0.2092   \n",
       "\n",
       "   6m_over_50  6m_over_100  6m_over_500  6m_over_1000  1y_count  1y_over_50  \\\n",
       "0         NaN          NaN          NaN           NaN       NaN         NaN   \n",
       "1         NaN          NaN          NaN           NaN       NaN         NaN   \n",
       "2         NaN          NaN          NaN           NaN       NaN         NaN   \n",
       "3         NaN          NaN          NaN           NaN       NaN         NaN   \n",
       "4      0.8035       1.0151      -0.4198       -0.2525   -0.2119      0.8035   \n",
       "\n",
       "   1y_over_100  1y_over_500  1y_over_1000  \n",
       "0          NaN          NaN           NaN  \n",
       "1          NaN          NaN           NaN  \n",
       "2          NaN          NaN           NaN  \n",
       "3          NaN          NaN           NaN  \n",
       "4       1.0132      -0.4213       -0.2525  \n",
       "\n",
       "[5 rows x 2143 columns]"
      ]
     },
     "execution_count": 25,
     "metadata": {},
     "output_type": "execute_result"
    }
   ],
   "source": [
    "# data = features_all.copy().drop(labels='prism_consumer_id', axis=1)                ## catboost 0.767, light / hist ~0.75\n",
    "data = features_cons_kept.copy().drop(labels='prism_consumer_id', axis=1)\n",
    "\n",
    "binary_cols = [col for col in data.columns if data[col].nunique() == 2 and sorted(data[col].unique()) == [0, 1]]\n",
    "continuous_cols = [col for col in data.columns if col not in binary_cols]\n",
    "\n",
    "scaler = StandardScaler()\n",
    "data[continuous_cols] = scaler.fit_transform(data[continuous_cols])\n",
    "\n",
    "print(data.shape)\n",
    "data.head()"
   ]
  },
  {
   "cell_type": "code",
   "execution_count": null,
   "id": "66c33e04-89b1-4456-9a8d-4871fe5f7bad",
   "metadata": {},
   "outputs": [],
   "source": []
  },
  {
   "cell_type": "code",
   "execution_count": 26,
   "id": "67723888-d336-454d-8be9-3574ef2ece62",
   "metadata": {},
   "outputs": [],
   "source": [
    "### WILL NEED BETTER FIX THAN THIS ###\n",
    "\n",
    "data.fillna(0, inplace=True)"
   ]
  },
  {
   "cell_type": "code",
   "execution_count": null,
   "id": "bea7540a-e8b9-4949-98bc-991722a89b9c",
   "metadata": {},
   "outputs": [],
   "source": []
  },
  {
   "cell_type": "code",
   "execution_count": null,
   "id": "4adadcfd-4e8b-4b1f-b132-8ce554bf48ed",
   "metadata": {},
   "outputs": [],
   "source": []
  },
  {
   "cell_type": "code",
   "execution_count": 27,
   "id": "04667611-628f-4a41-97e4-b03255a2021f",
   "metadata": {},
   "outputs": [],
   "source": [
    "def fit_model(X_train, y_train, model_type='log_reg'):\n",
    "    \"\"\"\n",
    "    Fits a machine learning model based on the specified type.\n",
    "    \"\"\"\n",
    "\n",
    "    ###############################\n",
    "    ## MODEL TRAIN BY MODEL TYPE ##\n",
    "    ###############################\n",
    "    start = time.time()\n",
    "    if model_type == 'log_reg':\n",
    "        model = LogisticRegression(max_iter=1000, n_jobs=-1).fit(X_train, y_train) # TODO: hyperparameter config\n",
    "\n",
    "    finish = time.time()\n",
    "    training_time = finish-start\n",
    "    print(f'Training Time = {training_time:.4f} seconds')\n",
    "    return model\n",
    "\n",
    "def predict(X, y, model, le=None):\n",
    "    \"\"\"\n",
    "    Makes predictions using the trained model and evaluates accuracy.\n",
    "    \"\"\"\n",
    "    preds = model.predict(X)\n",
    "    try: \n",
    "        preds_proba = model.predict_proba(X)\n",
    "        return preds, preds_proba[:, 1]\n",
    "    except:\n",
    "        return preds\n",
    "\n",
    "def evaluate_model(y, y_pred, y_pred_proba):\n",
    "    # train metrics\n",
    "    roc_auc = roc_auc_score(y, y_pred_proba)\n",
    "    accuracy = accuracy_score(y, y_pred)\n",
    "    \n",
    "    print(f\"ROC AUC Score: {roc_auc:.4f}\")\n",
    "    print(f\"Accuracy: {accuracy:.4f}\")\n",
    "    print(\"\\nConfusion Matrix:\")\n",
    "    print(confusion_matrix(y, y_pred))\n",
    "    print(\"\\nClassification Report:\")\n",
    "    print(classification_report(y, y_pred))\n",
    "\n",
    "    return {'Accuracy': accuracy, 'ROC_AUC': roc_auc}\n",
    "\n",
    "def pipeline(X, y, model_type='log_reg'):\n",
    "    X_train, X_test, y_train, y_test = train_test_split(X, y, test_size=0.25, random_state=42, stratify=y)\n",
    "    model = fit_model(X_train, y_train, model_type)\n",
    "    y_train_pred, y_train_prob = predict(X_train, y_train, model)\n",
    "    y_test_pred, y_test_prob = predict(X_test, y_test, model)\n",
    "\n",
    "    print(\"##### TRAIN METRICS #####\")\n",
    "    train_metrics = evaluate_model(y_train, y_train_pred, y_train_prob)\n",
    "    print(\"##### TEST METRICS #####\")\n",
    "    test_metrics = evaluate_model(y_test, y_test_pred, y_test_prob)\n",
    "    \n",
    "    return  train_metrics, test_metrics"
   ]
  },
  {
   "cell_type": "code",
   "execution_count": 28,
   "id": "61a7c64b-28c7-43ec-812c-7bf4ea361cbf",
   "metadata": {},
   "outputs": [],
   "source": [
    "def train_and_evaluate(X_train, y_train, X_test, y_test, model_type):\n",
    "    \"\"\"Trains and evaluates the specified model.\"\"\"\n",
    "    models = {\n",
    "        \"HistGB\": HistGradientBoostingClassifier(),\n",
    "        \"CatBoost\": CatBoostClassifier(verbose=0),\n",
    "        \"LightGBM\": LGBMClassifier(),\n",
    "        \"XGBoost\": XGBClassifier(use_label_encoder=False, eval_metric='logloss'),\n",
    "        \"LogisticRegression\": LogisticRegression()\n",
    "    }\n",
    "    \n",
    "    if model_type not in models:\n",
    "        raise ValueError(f\"Unsupported model type: {model_type}. Choose from {list(models.keys())}\")\n",
    "    \n",
    "    model = models[model_type]\n",
    "\n",
    "    # Train model and track training time\n",
    "    start = time.time()\n",
    "    model.fit(X_train, y_train)\n",
    "    end = time.time()\n",
    "    \n",
    "    print(f\"Training Time: {end - start:.4f} seconds\")\n",
    "\n",
    "    # Predictions\n",
    "    start_pred = time.time()\n",
    "    y_pred = model.predict(X_test)\n",
    "    y_prob = model.predict_proba(X_test)[:, 1] if hasattr(model, \"predict_proba\") else y_pred\n",
    "    end_pred = time.time()\n",
    "\n",
    "    print(f\"Prediction Time: {end_pred - start_pred:.4f} seconds\")\n",
    "\n",
    "\n",
    "    # Evaluation Metrics\n",
    "    metrics = {\n",
    "        \"ROC_AUC\": roc_auc_score(y_test, y_prob),\n",
    "        \"Accuracy\": accuracy_score(y_test, y_pred),\n",
    "        \"Precision\": precision_score(y_test, y_pred),\n",
    "        \"Recall\": recall_score(y_test, y_pred),\n",
    "        \"F1-Score\": f1_score(y_test, y_pred),\n",
    "        \"Confusion Matrix\": confusion_matrix(y_test, y_pred)\n",
    "    }\n",
    "\n",
    "    # Print Metrics\n",
    "    print(f'{model_type} metrics:')\n",
    "    for metric, value in metrics.items():\n",
    "        print(f\"\\t{metric}: {value}\")\n",
    "\n",
    "    # Confusion Matrix\n",
    "    cm = confusion_matrix(y_test, y_pred)\n",
    "    \n",
    "    # Plot Confusion Matrix\n",
    "    plt.figure(figsize=(6, 5))\n",
    "    sns.heatmap(cm, annot=True, fmt=\"d\", cmap=\"Blues\", xticklabels=[\"Negative\", \"Positive\"], yticklabels=[\"Negative\", \"Positive\"])\n",
    "    plt.xlabel(\"Predicted Label\")\n",
    "    plt.ylabel(\"True Label\")\n",
    "    plt.title(f\"Confusion Matrix ({model_type})\")\n",
    "    plt.show()\n",
    "\n",
    "    return model, metrics\n"
   ]
  },
  {
   "cell_type": "code",
   "execution_count": null,
   "id": "d443af4d-44a2-4546-a18a-2558b09a3d4f",
   "metadata": {},
   "outputs": [],
   "source": []
  },
  {
   "cell_type": "code",
   "execution_count": 29,
   "id": "76675a61-bb34-49e9-a2e1-ad7b04fb4c48",
   "metadata": {},
   "outputs": [],
   "source": [
    "X = data.drop(columns=[\"DQ_TARGET\"])\n",
    "y = data['DQ_TARGET']\n",
    "\n",
    "X_train, X_test, y_train, y_test = train_test_split(X, y, test_size=0.25, random_state=42,)"
   ]
  },
  {
   "cell_type": "code",
   "execution_count": 30,
   "id": "9ccc03bb-1ee4-463b-8fe0-e29dcb44f6f8",
   "metadata": {},
   "outputs": [
    {
     "data": {
      "text/plain": [
       "(9825, 2143)"
      ]
     },
     "execution_count": 30,
     "metadata": {},
     "output_type": "execute_result"
    }
   ],
   "source": [
    "data.shape"
   ]
  },
  {
   "cell_type": "code",
   "execution_count": null,
   "id": "b5fb2b9c-f2ff-4965-b31f-92c18e1c5f9a",
   "metadata": {},
   "outputs": [],
   "source": []
  },
  {
   "cell_type": "markdown",
   "id": "f362e591-df04-4d35-9261-6b22c74e365a",
   "metadata": {},
   "source": [
    "#### SMOTE Data"
   ]
  },
  {
   "cell_type": "code",
   "execution_count": 31,
   "id": "03862d12-3848-494f-bf47-af701e587ff2",
   "metadata": {},
   "outputs": [],
   "source": [
    "# !pip install imbalanced-learn"
   ]
  },
  {
   "cell_type": "code",
   "execution_count": 32,
   "id": "39f261c6-aa29-4bee-bf01-b6dbfe4318f8",
   "metadata": {},
   "outputs": [],
   "source": [
    "from imblearn.over_sampling import SMOTE\n",
    "from imblearn.under_sampling import RandomUnderSampler\n",
    "from imblearn.pipeline import Pipeline\n",
    "\n",
    "from collections import Counter\n",
    "import pandas as pd"
   ]
  },
  {
   "cell_type": "code",
   "execution_count": 33,
   "id": "466402c1-b6ec-4af3-8877-64f9c8b5b169",
   "metadata": {},
   "outputs": [],
   "source": [
    "from sklearn.metrics import roc_curve, auc"
   ]
  },
  {
   "cell_type": "code",
   "execution_count": 34,
   "id": "33746d5a-9259-4a65-842f-64a4357a0d2a",
   "metadata": {},
   "outputs": [
    {
     "name": "stdout",
     "output_type": "stream",
     "text": [
      "Original class distribution: Counter({0.0: 6732, 1.0: 636}) Percent DQ: 8.63%\n"
     ]
    }
   ],
   "source": [
    "orig_count = Counter(y_train)\n",
    "print(\"Original class distribution:\", orig_count, \n",
    "      \"Percent DQ:\", f\"{100 * orig_count[1.0] / (orig_count[1.0] + orig_count[0.0]):.2f}%\")"
   ]
  },
  {
   "cell_type": "code",
   "execution_count": 35,
   "id": "a7c6e21f-5559-4085-96df-35a6ae9d3cbd",
   "metadata": {},
   "outputs": [],
   "source": [
    "# X_resampled, y_resampled = smote.fit_resample(X_train, y_train)\n",
    "# data_smote = pd.DataFrame(X_resampled, columns=X.columns)\n",
    "# data_smote['target_column'] = y_resampled\n",
    "\n",
    "# Check class counts\n",
    "count_0, count_1 = y_train.value_counts()[0], y_train.value_counts()[1]\n",
    "new_0 = int(0.8 * count_0)  # Target count for balancing\n",
    "new_1 = int(2.5* count_1)\n",
    "\n",
    "# Ensure SMOTE does not create more than the original number of samples\n",
    "smote = SMOTE(sampling_strategy={1: new_1},)\n",
    "\n",
    "# Undersampling the majority class to match the new minority class count\n",
    "under = RandomUnderSampler(sampling_strategy={0: new_0},)\n",
    "\n",
    "# Combine SMOTE & Undersampling in a pipeline\n",
    "resample_pipeline = Pipeline(steps=[('smote', smote), ('under', under)])\n",
    "\n",
    "# Apply resampling\n",
    "X_resampled, y_resampled = resample_pipeline.fit_resample(X_train, y_train)"
   ]
  },
  {
   "cell_type": "code",
   "execution_count": 36,
   "id": "97faf563-7752-4edb-85ad-3ccde644214f",
   "metadata": {},
   "outputs": [
    {
     "name": "stdout",
     "output_type": "stream",
     "text": [
      "Original class distribution: Counter({0.0: 5385, 1.0: 1590}) Percent DQ: 22.80%\n"
     ]
    }
   ],
   "source": [
    "end_count = Counter(y_resampled)\n",
    "print(\"Original class distribution:\", end_count, \n",
    "      \"Percent DQ:\", f\"{100 * end_count[1.0] / (end_count[1.0] + end_count[0.0]):.2f}%\")"
   ]
  },
  {
   "cell_type": "code",
   "execution_count": null,
   "id": "e5978d09-1207-4a6e-b0fa-918f5cc3b758",
   "metadata": {},
   "outputs": [],
   "source": []
  },
  {
   "cell_type": "code",
   "execution_count": 37,
   "id": "d72f6a3a-4b8c-406e-8a69-79fbbaef3635",
   "metadata": {},
   "outputs": [],
   "source": [
    "X_train, X_validation, y_train, y_validation = train_test_split(X_resampled, y_resampled, test_size=0.25,)"
   ]
  },
  {
   "cell_type": "code",
   "execution_count": 38,
   "id": "f5b448ff-2424-45bd-a5b1-9433c1ed6efb",
   "metadata": {},
   "outputs": [
    {
     "name": "stdout",
     "output_type": "stream",
     "text": [
      "Training Time = 4.8030 seconds\n"
     ]
    }
   ],
   "source": [
    "lr = fit_model(X_train, y_train, 'log_reg')\n",
    "y_train_pred, y_train_prob = predict(X_train, y_train, lr)\n",
    "y_validation_pred, y_validation_prob = predict(X_validation, y_validation, lr)\n",
    "y_test_pred, y_test_prob = predict(X_test, y_test, lr)"
   ]
  },
  {
   "cell_type": "code",
   "execution_count": 39,
   "id": "8c2787b4-4e9f-404d-93ae-bfdef2f8659a",
   "metadata": {},
   "outputs": [
    {
     "name": "stdout",
     "output_type": "stream",
     "text": [
      "ROC AUC Score: 0.9644\n",
      "Accuracy: 0.9145\n",
      "\n",
      "Confusion Matrix:\n",
      "[[3854  182]\n",
      " [ 265  930]]\n",
      "\n",
      "Classification Report:\n",
      "              precision    recall  f1-score   support\n",
      "\n",
      "         0.0       0.94      0.95      0.95      4036\n",
      "         1.0       0.84      0.78      0.81      1195\n",
      "\n",
      "    accuracy                           0.91      5231\n",
      "   macro avg       0.89      0.87      0.88      5231\n",
      "weighted avg       0.91      0.91      0.91      5231\n",
      "\n"
     ]
    }
   ],
   "source": [
    "lr_train_metrics = evaluate_model(y_train, y_train_pred, y_train_prob)"
   ]
  },
  {
   "cell_type": "code",
   "execution_count": 40,
   "id": "7c896e3b-f6a2-4b60-bd84-a286088793de",
   "metadata": {},
   "outputs": [
    {
     "name": "stdout",
     "output_type": "stream",
     "text": [
      "ROC AUC Score: 0.8515\n",
      "Accuracy: 0.8171\n",
      "\n",
      "Confusion Matrix:\n",
      "[[1180  169]\n",
      " [ 150  245]]\n",
      "\n",
      "Classification Report:\n",
      "              precision    recall  f1-score   support\n",
      "\n",
      "         0.0       0.89      0.87      0.88      1349\n",
      "         1.0       0.59      0.62      0.61       395\n",
      "\n",
      "    accuracy                           0.82      1744\n",
      "   macro avg       0.74      0.75      0.74      1744\n",
      "weighted avg       0.82      0.82      0.82      1744\n",
      "\n"
     ]
    }
   ],
   "source": [
    "lr_validation_metrics = evaluate_model(y_validation, y_validation_pred, y_validation_prob)"
   ]
  },
  {
   "cell_type": "code",
   "execution_count": 41,
   "id": "99579cd4-381f-4a9b-9de3-3738e7089ef2",
   "metadata": {},
   "outputs": [
    {
     "name": "stdout",
     "output_type": "stream",
     "text": [
      "ROC AUC Score: 0.6958\n",
      "Accuracy: 0.8156\n",
      "\n",
      "Confusion Matrix:\n",
      "[[1941  310]\n",
      " [ 143   63]]\n",
      "\n",
      "Classification Report:\n",
      "              precision    recall  f1-score   support\n",
      "\n",
      "         0.0       0.93      0.86      0.90      2251\n",
      "         1.0       0.17      0.31      0.22       206\n",
      "\n",
      "    accuracy                           0.82      2457\n",
      "   macro avg       0.55      0.58      0.56      2457\n",
      "weighted avg       0.87      0.82      0.84      2457\n",
      "\n"
     ]
    }
   ],
   "source": [
    "lr_test_metrics = evaluate_model(y_test, y_test_pred, y_test_prob)"
   ]
  },
  {
   "cell_type": "code",
   "execution_count": null,
   "id": "247bbdb6-ecd1-465e-a312-edafe8265b0f",
   "metadata": {},
   "outputs": [],
   "source": []
  },
  {
   "cell_type": "markdown",
   "id": "cbb9c195-0734-43f5-a9ca-ed0c54700db5",
   "metadata": {},
   "source": [
    "### Feature Selection (L1 Lasso)"
   ]
  },
  {
   "cell_type": "code",
   "execution_count": 42,
   "id": "0c72a0a6-b44c-467d-a018-90e599c1889d",
   "metadata": {},
   "outputs": [],
   "source": [
    "from sklearn.feature_selection import SelectFromModel, RFE"
   ]
  },
  {
   "cell_type": "code",
   "execution_count": 43,
   "id": "a71b9c46-59ca-460e-8ffa-a109f3f21ecf",
   "metadata": {},
   "outputs": [
    {
     "data": {
      "text/html": [
       "<style>#sk-container-id-1 {\n",
       "  /* Definition of color scheme common for light and dark mode */\n",
       "  --sklearn-color-text: black;\n",
       "  --sklearn-color-line: gray;\n",
       "  /* Definition of color scheme for unfitted estimators */\n",
       "  --sklearn-color-unfitted-level-0: #fff5e6;\n",
       "  --sklearn-color-unfitted-level-1: #f6e4d2;\n",
       "  --sklearn-color-unfitted-level-2: #ffe0b3;\n",
       "  --sklearn-color-unfitted-level-3: chocolate;\n",
       "  /* Definition of color scheme for fitted estimators */\n",
       "  --sklearn-color-fitted-level-0: #f0f8ff;\n",
       "  --sklearn-color-fitted-level-1: #d4ebff;\n",
       "  --sklearn-color-fitted-level-2: #b3dbfd;\n",
       "  --sklearn-color-fitted-level-3: cornflowerblue;\n",
       "\n",
       "  /* Specific color for light theme */\n",
       "  --sklearn-color-text-on-default-background: var(--sg-text-color, var(--theme-code-foreground, var(--jp-content-font-color1, black)));\n",
       "  --sklearn-color-background: var(--sg-background-color, var(--theme-background, var(--jp-layout-color0, white)));\n",
       "  --sklearn-color-border-box: var(--sg-text-color, var(--theme-code-foreground, var(--jp-content-font-color1, black)));\n",
       "  --sklearn-color-icon: #696969;\n",
       "\n",
       "  @media (prefers-color-scheme: dark) {\n",
       "    /* Redefinition of color scheme for dark theme */\n",
       "    --sklearn-color-text-on-default-background: var(--sg-text-color, var(--theme-code-foreground, var(--jp-content-font-color1, white)));\n",
       "    --sklearn-color-background: var(--sg-background-color, var(--theme-background, var(--jp-layout-color0, #111)));\n",
       "    --sklearn-color-border-box: var(--sg-text-color, var(--theme-code-foreground, var(--jp-content-font-color1, white)));\n",
       "    --sklearn-color-icon: #878787;\n",
       "  }\n",
       "}\n",
       "\n",
       "#sk-container-id-1 {\n",
       "  color: var(--sklearn-color-text);\n",
       "}\n",
       "\n",
       "#sk-container-id-1 pre {\n",
       "  padding: 0;\n",
       "}\n",
       "\n",
       "#sk-container-id-1 input.sk-hidden--visually {\n",
       "  border: 0;\n",
       "  clip: rect(1px 1px 1px 1px);\n",
       "  clip: rect(1px, 1px, 1px, 1px);\n",
       "  height: 1px;\n",
       "  margin: -1px;\n",
       "  overflow: hidden;\n",
       "  padding: 0;\n",
       "  position: absolute;\n",
       "  width: 1px;\n",
       "}\n",
       "\n",
       "#sk-container-id-1 div.sk-dashed-wrapped {\n",
       "  border: 1px dashed var(--sklearn-color-line);\n",
       "  margin: 0 0.4em 0.5em 0.4em;\n",
       "  box-sizing: border-box;\n",
       "  padding-bottom: 0.4em;\n",
       "  background-color: var(--sklearn-color-background);\n",
       "}\n",
       "\n",
       "#sk-container-id-1 div.sk-container {\n",
       "  /* jupyter's `normalize.less` sets `[hidden] { display: none; }`\n",
       "     but bootstrap.min.css set `[hidden] { display: none !important; }`\n",
       "     so we also need the `!important` here to be able to override the\n",
       "     default hidden behavior on the sphinx rendered scikit-learn.org.\n",
       "     See: https://github.com/scikit-learn/scikit-learn/issues/21755 */\n",
       "  display: inline-block !important;\n",
       "  position: relative;\n",
       "}\n",
       "\n",
       "#sk-container-id-1 div.sk-text-repr-fallback {\n",
       "  display: none;\n",
       "}\n",
       "\n",
       "div.sk-parallel-item,\n",
       "div.sk-serial,\n",
       "div.sk-item {\n",
       "  /* draw centered vertical line to link estimators */\n",
       "  background-image: linear-gradient(var(--sklearn-color-text-on-default-background), var(--sklearn-color-text-on-default-background));\n",
       "  background-size: 2px 100%;\n",
       "  background-repeat: no-repeat;\n",
       "  background-position: center center;\n",
       "}\n",
       "\n",
       "/* Parallel-specific style estimator block */\n",
       "\n",
       "#sk-container-id-1 div.sk-parallel-item::after {\n",
       "  content: \"\";\n",
       "  width: 100%;\n",
       "  border-bottom: 2px solid var(--sklearn-color-text-on-default-background);\n",
       "  flex-grow: 1;\n",
       "}\n",
       "\n",
       "#sk-container-id-1 div.sk-parallel {\n",
       "  display: flex;\n",
       "  align-items: stretch;\n",
       "  justify-content: center;\n",
       "  background-color: var(--sklearn-color-background);\n",
       "  position: relative;\n",
       "}\n",
       "\n",
       "#sk-container-id-1 div.sk-parallel-item {\n",
       "  display: flex;\n",
       "  flex-direction: column;\n",
       "}\n",
       "\n",
       "#sk-container-id-1 div.sk-parallel-item:first-child::after {\n",
       "  align-self: flex-end;\n",
       "  width: 50%;\n",
       "}\n",
       "\n",
       "#sk-container-id-1 div.sk-parallel-item:last-child::after {\n",
       "  align-self: flex-start;\n",
       "  width: 50%;\n",
       "}\n",
       "\n",
       "#sk-container-id-1 div.sk-parallel-item:only-child::after {\n",
       "  width: 0;\n",
       "}\n",
       "\n",
       "/* Serial-specific style estimator block */\n",
       "\n",
       "#sk-container-id-1 div.sk-serial {\n",
       "  display: flex;\n",
       "  flex-direction: column;\n",
       "  align-items: center;\n",
       "  background-color: var(--sklearn-color-background);\n",
       "  padding-right: 1em;\n",
       "  padding-left: 1em;\n",
       "}\n",
       "\n",
       "\n",
       "/* Toggleable style: style used for estimator/Pipeline/ColumnTransformer box that is\n",
       "clickable and can be expanded/collapsed.\n",
       "- Pipeline and ColumnTransformer use this feature and define the default style\n",
       "- Estimators will overwrite some part of the style using the `sk-estimator` class\n",
       "*/\n",
       "\n",
       "/* Pipeline and ColumnTransformer style (default) */\n",
       "\n",
       "#sk-container-id-1 div.sk-toggleable {\n",
       "  /* Default theme specific background. It is overwritten whether we have a\n",
       "  specific estimator or a Pipeline/ColumnTransformer */\n",
       "  background-color: var(--sklearn-color-background);\n",
       "}\n",
       "\n",
       "/* Toggleable label */\n",
       "#sk-container-id-1 label.sk-toggleable__label {\n",
       "  cursor: pointer;\n",
       "  display: block;\n",
       "  width: 100%;\n",
       "  margin-bottom: 0;\n",
       "  padding: 0.5em;\n",
       "  box-sizing: border-box;\n",
       "  text-align: center;\n",
       "}\n",
       "\n",
       "#sk-container-id-1 label.sk-toggleable__label-arrow:before {\n",
       "  /* Arrow on the left of the label */\n",
       "  content: \"▸\";\n",
       "  float: left;\n",
       "  margin-right: 0.25em;\n",
       "  color: var(--sklearn-color-icon);\n",
       "}\n",
       "\n",
       "#sk-container-id-1 label.sk-toggleable__label-arrow:hover:before {\n",
       "  color: var(--sklearn-color-text);\n",
       "}\n",
       "\n",
       "/* Toggleable content - dropdown */\n",
       "\n",
       "#sk-container-id-1 div.sk-toggleable__content {\n",
       "  max-height: 0;\n",
       "  max-width: 0;\n",
       "  overflow: hidden;\n",
       "  text-align: left;\n",
       "  /* unfitted */\n",
       "  background-color: var(--sklearn-color-unfitted-level-0);\n",
       "}\n",
       "\n",
       "#sk-container-id-1 div.sk-toggleable__content.fitted {\n",
       "  /* fitted */\n",
       "  background-color: var(--sklearn-color-fitted-level-0);\n",
       "}\n",
       "\n",
       "#sk-container-id-1 div.sk-toggleable__content pre {\n",
       "  margin: 0.2em;\n",
       "  border-radius: 0.25em;\n",
       "  color: var(--sklearn-color-text);\n",
       "  /* unfitted */\n",
       "  background-color: var(--sklearn-color-unfitted-level-0);\n",
       "}\n",
       "\n",
       "#sk-container-id-1 div.sk-toggleable__content.fitted pre {\n",
       "  /* unfitted */\n",
       "  background-color: var(--sklearn-color-fitted-level-0);\n",
       "}\n",
       "\n",
       "#sk-container-id-1 input.sk-toggleable__control:checked~div.sk-toggleable__content {\n",
       "  /* Expand drop-down */\n",
       "  max-height: 200px;\n",
       "  max-width: 100%;\n",
       "  overflow: auto;\n",
       "}\n",
       "\n",
       "#sk-container-id-1 input.sk-toggleable__control:checked~label.sk-toggleable__label-arrow:before {\n",
       "  content: \"▾\";\n",
       "}\n",
       "\n",
       "/* Pipeline/ColumnTransformer-specific style */\n",
       "\n",
       "#sk-container-id-1 div.sk-label input.sk-toggleable__control:checked~label.sk-toggleable__label {\n",
       "  color: var(--sklearn-color-text);\n",
       "  background-color: var(--sklearn-color-unfitted-level-2);\n",
       "}\n",
       "\n",
       "#sk-container-id-1 div.sk-label.fitted input.sk-toggleable__control:checked~label.sk-toggleable__label {\n",
       "  background-color: var(--sklearn-color-fitted-level-2);\n",
       "}\n",
       "\n",
       "/* Estimator-specific style */\n",
       "\n",
       "/* Colorize estimator box */\n",
       "#sk-container-id-1 div.sk-estimator input.sk-toggleable__control:checked~label.sk-toggleable__label {\n",
       "  /* unfitted */\n",
       "  background-color: var(--sklearn-color-unfitted-level-2);\n",
       "}\n",
       "\n",
       "#sk-container-id-1 div.sk-estimator.fitted input.sk-toggleable__control:checked~label.sk-toggleable__label {\n",
       "  /* fitted */\n",
       "  background-color: var(--sklearn-color-fitted-level-2);\n",
       "}\n",
       "\n",
       "#sk-container-id-1 div.sk-label label.sk-toggleable__label,\n",
       "#sk-container-id-1 div.sk-label label {\n",
       "  /* The background is the default theme color */\n",
       "  color: var(--sklearn-color-text-on-default-background);\n",
       "}\n",
       "\n",
       "/* On hover, darken the color of the background */\n",
       "#sk-container-id-1 div.sk-label:hover label.sk-toggleable__label {\n",
       "  color: var(--sklearn-color-text);\n",
       "  background-color: var(--sklearn-color-unfitted-level-2);\n",
       "}\n",
       "\n",
       "/* Label box, darken color on hover, fitted */\n",
       "#sk-container-id-1 div.sk-label.fitted:hover label.sk-toggleable__label.fitted {\n",
       "  color: var(--sklearn-color-text);\n",
       "  background-color: var(--sklearn-color-fitted-level-2);\n",
       "}\n",
       "\n",
       "/* Estimator label */\n",
       "\n",
       "#sk-container-id-1 div.sk-label label {\n",
       "  font-family: monospace;\n",
       "  font-weight: bold;\n",
       "  display: inline-block;\n",
       "  line-height: 1.2em;\n",
       "}\n",
       "\n",
       "#sk-container-id-1 div.sk-label-container {\n",
       "  text-align: center;\n",
       "}\n",
       "\n",
       "/* Estimator-specific */\n",
       "#sk-container-id-1 div.sk-estimator {\n",
       "  font-family: monospace;\n",
       "  border: 1px dotted var(--sklearn-color-border-box);\n",
       "  border-radius: 0.25em;\n",
       "  box-sizing: border-box;\n",
       "  margin-bottom: 0.5em;\n",
       "  /* unfitted */\n",
       "  background-color: var(--sklearn-color-unfitted-level-0);\n",
       "}\n",
       "\n",
       "#sk-container-id-1 div.sk-estimator.fitted {\n",
       "  /* fitted */\n",
       "  background-color: var(--sklearn-color-fitted-level-0);\n",
       "}\n",
       "\n",
       "/* on hover */\n",
       "#sk-container-id-1 div.sk-estimator:hover {\n",
       "  /* unfitted */\n",
       "  background-color: var(--sklearn-color-unfitted-level-2);\n",
       "}\n",
       "\n",
       "#sk-container-id-1 div.sk-estimator.fitted:hover {\n",
       "  /* fitted */\n",
       "  background-color: var(--sklearn-color-fitted-level-2);\n",
       "}\n",
       "\n",
       "/* Specification for estimator info (e.g. \"i\" and \"?\") */\n",
       "\n",
       "/* Common style for \"i\" and \"?\" */\n",
       "\n",
       ".sk-estimator-doc-link,\n",
       "a:link.sk-estimator-doc-link,\n",
       "a:visited.sk-estimator-doc-link {\n",
       "  float: right;\n",
       "  font-size: smaller;\n",
       "  line-height: 1em;\n",
       "  font-family: monospace;\n",
       "  background-color: var(--sklearn-color-background);\n",
       "  border-radius: 1em;\n",
       "  height: 1em;\n",
       "  width: 1em;\n",
       "  text-decoration: none !important;\n",
       "  margin-left: 1ex;\n",
       "  /* unfitted */\n",
       "  border: var(--sklearn-color-unfitted-level-1) 1pt solid;\n",
       "  color: var(--sklearn-color-unfitted-level-1);\n",
       "}\n",
       "\n",
       ".sk-estimator-doc-link.fitted,\n",
       "a:link.sk-estimator-doc-link.fitted,\n",
       "a:visited.sk-estimator-doc-link.fitted {\n",
       "  /* fitted */\n",
       "  border: var(--sklearn-color-fitted-level-1) 1pt solid;\n",
       "  color: var(--sklearn-color-fitted-level-1);\n",
       "}\n",
       "\n",
       "/* On hover */\n",
       "div.sk-estimator:hover .sk-estimator-doc-link:hover,\n",
       ".sk-estimator-doc-link:hover,\n",
       "div.sk-label-container:hover .sk-estimator-doc-link:hover,\n",
       ".sk-estimator-doc-link:hover {\n",
       "  /* unfitted */\n",
       "  background-color: var(--sklearn-color-unfitted-level-3);\n",
       "  color: var(--sklearn-color-background);\n",
       "  text-decoration: none;\n",
       "}\n",
       "\n",
       "div.sk-estimator.fitted:hover .sk-estimator-doc-link.fitted:hover,\n",
       ".sk-estimator-doc-link.fitted:hover,\n",
       "div.sk-label-container:hover .sk-estimator-doc-link.fitted:hover,\n",
       ".sk-estimator-doc-link.fitted:hover {\n",
       "  /* fitted */\n",
       "  background-color: var(--sklearn-color-fitted-level-3);\n",
       "  color: var(--sklearn-color-background);\n",
       "  text-decoration: none;\n",
       "}\n",
       "\n",
       "/* Span, style for the box shown on hovering the info icon */\n",
       ".sk-estimator-doc-link span {\n",
       "  display: none;\n",
       "  z-index: 9999;\n",
       "  position: relative;\n",
       "  font-weight: normal;\n",
       "  right: .2ex;\n",
       "  padding: .5ex;\n",
       "  margin: .5ex;\n",
       "  width: min-content;\n",
       "  min-width: 20ex;\n",
       "  max-width: 50ex;\n",
       "  color: var(--sklearn-color-text);\n",
       "  box-shadow: 2pt 2pt 4pt #999;\n",
       "  /* unfitted */\n",
       "  background: var(--sklearn-color-unfitted-level-0);\n",
       "  border: .5pt solid var(--sklearn-color-unfitted-level-3);\n",
       "}\n",
       "\n",
       ".sk-estimator-doc-link.fitted span {\n",
       "  /* fitted */\n",
       "  background: var(--sklearn-color-fitted-level-0);\n",
       "  border: var(--sklearn-color-fitted-level-3);\n",
       "}\n",
       "\n",
       ".sk-estimator-doc-link:hover span {\n",
       "  display: block;\n",
       "}\n",
       "\n",
       "/* \"?\"-specific style due to the `<a>` HTML tag */\n",
       "\n",
       "#sk-container-id-1 a.estimator_doc_link {\n",
       "  float: right;\n",
       "  font-size: 1rem;\n",
       "  line-height: 1em;\n",
       "  font-family: monospace;\n",
       "  background-color: var(--sklearn-color-background);\n",
       "  border-radius: 1rem;\n",
       "  height: 1rem;\n",
       "  width: 1rem;\n",
       "  text-decoration: none;\n",
       "  /* unfitted */\n",
       "  color: var(--sklearn-color-unfitted-level-1);\n",
       "  border: var(--sklearn-color-unfitted-level-1) 1pt solid;\n",
       "}\n",
       "\n",
       "#sk-container-id-1 a.estimator_doc_link.fitted {\n",
       "  /* fitted */\n",
       "  border: var(--sklearn-color-fitted-level-1) 1pt solid;\n",
       "  color: var(--sklearn-color-fitted-level-1);\n",
       "}\n",
       "\n",
       "/* On hover */\n",
       "#sk-container-id-1 a.estimator_doc_link:hover {\n",
       "  /* unfitted */\n",
       "  background-color: var(--sklearn-color-unfitted-level-3);\n",
       "  color: var(--sklearn-color-background);\n",
       "  text-decoration: none;\n",
       "}\n",
       "\n",
       "#sk-container-id-1 a.estimator_doc_link.fitted:hover {\n",
       "  /* fitted */\n",
       "  background-color: var(--sklearn-color-fitted-level-3);\n",
       "}\n",
       "</style><div id=\"sk-container-id-1\" class=\"sk-top-container\"><div class=\"sk-text-repr-fallback\"><pre>LogisticRegression(C=0.1, penalty=&#x27;l1&#x27;, solver=&#x27;liblinear&#x27;)</pre><b>In a Jupyter environment, please rerun this cell to show the HTML representation or trust the notebook. <br />On GitHub, the HTML representation is unable to render, please try loading this page with nbviewer.org.</b></div><div class=\"sk-container\" hidden><div class=\"sk-item\"><div class=\"sk-estimator fitted sk-toggleable\"><input class=\"sk-toggleable__control sk-hidden--visually\" id=\"sk-estimator-id-1\" type=\"checkbox\" checked><label for=\"sk-estimator-id-1\" class=\"sk-toggleable__label fitted sk-toggleable__label-arrow fitted\">&nbsp;&nbsp;LogisticRegression<a class=\"sk-estimator-doc-link fitted\" rel=\"noreferrer\" target=\"_blank\" href=\"https://scikit-learn.org/1.4/modules/generated/sklearn.linear_model.LogisticRegression.html\">?<span>Documentation for LogisticRegression</span></a><span class=\"sk-estimator-doc-link fitted\">i<span>Fitted</span></span></label><div class=\"sk-toggleable__content fitted\"><pre>LogisticRegression(C=0.1, penalty=&#x27;l1&#x27;, solver=&#x27;liblinear&#x27;)</pre></div> </div></div></div></div>"
      ],
      "text/plain": [
       "LogisticRegression(C=0.1, penalty='l1', solver='liblinear')"
      ]
     },
     "execution_count": 43,
     "metadata": {},
     "output_type": "execute_result"
    }
   ],
   "source": [
    "model_l1 = LogisticRegression(penalty='l1', solver='liblinear', C=0.1) # can test different Cs\n",
    "model_l1.fit(X_train, y_train)"
   ]
  },
  {
   "cell_type": "code",
   "execution_count": 44,
   "id": "b3f64f27-69c0-4652-a8ab-1ab645dfbc58",
   "metadata": {},
   "outputs": [],
   "source": [
    "selector = SelectFromModel(model_l1, prefit=True, threshold=-np.inf, max_features=50)\n",
    "top_50 = list(X_train.columns[selector.get_support()])\n",
    "selector = SelectFromModel(model_l1, prefit=True, threshold=-np.inf, max_features=100)\n",
    "top_100 = list(X_train.columns[selector.get_support()])\n",
    "selector = SelectFromModel(model_l1, prefit=True, threshold=-np.inf, max_features=200)\n",
    "top_200 = list(X_train.columns[selector.get_support()])\n",
    "X_50_train = X_train[top_50]\n",
    "X_50_validation = X_validation[top_50]\n",
    "X_50_test = X_test[top_50]\n",
    "X_100_train = X_train[top_100]\n",
    "X_100_validation = X_validation[top_100]\n",
    "X_100_test = X_test[top_100]\n",
    "X_200_train = X_train[top_200]\n",
    "X_200_validation = X_validation[top_200]\n",
    "X_200_test = X_test[top_200]"
   ]
  },
  {
   "cell_type": "code",
   "execution_count": null,
   "id": "c26aa6a0-12ee-4ada-adcf-be96d7bd9729",
   "metadata": {},
   "outputs": [],
   "source": []
  },
  {
   "cell_type": "code",
   "execution_count": null,
   "id": "46fc3ff8-04cb-4302-9c25-c478c6953f91",
   "metadata": {},
   "outputs": [],
   "source": []
  },
  {
   "cell_type": "code",
   "execution_count": 45,
   "id": "c1ad6882-ac95-4694-9d2d-3027f7fa77cb",
   "metadata": {},
   "outputs": [],
   "source": [
    "# model, results = train_and_evaluate(X_50_train, y_train, X_50_validation, y_validation, model_type=\"LogisticRegression\")"
   ]
  },
  {
   "cell_type": "code",
   "execution_count": 46,
   "id": "e5054879-216c-4941-b920-6928e0708be3",
   "metadata": {},
   "outputs": [],
   "source": [
    "# model, results = train_and_evaluate(X_50_train, y_train, X_50_test, y_test, model_type=\"LogisticRegression\")"
   ]
  },
  {
   "cell_type": "code",
   "execution_count": null,
   "id": "963e5970-3b5c-4f51-8b7f-7b3b18e08d49",
   "metadata": {},
   "outputs": [],
   "source": []
  },
  {
   "cell_type": "code",
   "execution_count": 47,
   "id": "9fdaf64a-fb3e-4173-98ef-36583f9b1d7f",
   "metadata": {},
   "outputs": [],
   "source": [
    "# model, results = train_and_evaluate(X_100_train, y_train, X_100_validation, y_validation, model_type=\"LogisticRegression\")"
   ]
  },
  {
   "cell_type": "code",
   "execution_count": 48,
   "id": "a494c86e-358d-4178-83a3-3497a4bf109c",
   "metadata": {},
   "outputs": [],
   "source": [
    "# model, results = train_and_evaluate(X_100_train, y_train, X_100_test, y_test, model_type=\"LogisticRegression\")"
   ]
  },
  {
   "cell_type": "code",
   "execution_count": null,
   "id": "f44a8bab-4a48-4b05-ac5d-6b8f0a3cdd27",
   "metadata": {},
   "outputs": [],
   "source": []
  },
  {
   "cell_type": "code",
   "execution_count": 49,
   "id": "ed230f01-1bd0-4ea6-99ef-31041c778d2b",
   "metadata": {},
   "outputs": [],
   "source": [
    "# model, results = train_and_evaluate(X_200_train, y_train, X_200_validation, y_validation, model_type=\"LogisticRegression\")"
   ]
  },
  {
   "cell_type": "code",
   "execution_count": 50,
   "id": "2b18b4f7-01a0-4704-a371-a4b07d1bcb66",
   "metadata": {},
   "outputs": [],
   "source": [
    "# model, results = train_and_evaluate(X_200_train, y_train, X_200_test, y_test, model_type=\"LogisticRegression\")"
   ]
  },
  {
   "cell_type": "code",
   "execution_count": null,
   "id": "5324cdf0-8135-41e4-88b5-2903879278a4",
   "metadata": {},
   "outputs": [],
   "source": []
  },
  {
   "cell_type": "code",
   "execution_count": 51,
   "id": "a3369bf2-a7e2-4e78-944f-3b7cce1faa96",
   "metadata": {},
   "outputs": [],
   "source": [
    "# model, results = train_and_evaluate(X_100_train, y_train, X_100_validation, y_validation, model_type=\"HistGB\")"
   ]
  },
  {
   "cell_type": "code",
   "execution_count": 52,
   "id": "beea7b79-d8c7-4f98-b19f-2722468f7aea",
   "metadata": {},
   "outputs": [
    {
     "name": "stdout",
     "output_type": "stream",
     "text": [
      "Training Time: 0.5941 seconds\n",
      "Prediction Time: 0.0162 seconds\n",
      "HistGB metrics:\n",
      "\tROC_AUC: 0.7740572690454728\n",
      "\tAccuracy: 0.9084249084249084\n",
      "\tPrecision: 0.3698630136986301\n",
      "\tRecall: 0.13106796116504854\n",
      "\tF1-Score: 0.1935483870967742\n",
      "\tConfusion Matrix: [[2205   46]\n",
      " [ 179   27]]\n"
     ]
    },
    {
     "data": {
      "image/png": "[encoded data removed]",
      "text/plain": [
       "<Figure size 600x500 with 2 Axes>"
      ]
     },
     "metadata": {},
     "output_type": "display_data"
    }
   ],
   "source": [
    "model, results = train_and_evaluate(X_100_train, y_train, X_100_test, y_test, model_type=\"HistGB\")"
   ]
  },
  {
   "cell_type": "code",
   "execution_count": 53,
   "id": "936429f0-f8f7-4c91-8a63-523ec3914c5b",
   "metadata": {},
   "outputs": [],
   "source": [
    "# model, results = train_and_evaluate(X_200_train, y_train, X_200_validation, y_validation, model_type=\"HistGB\")"
   ]
  },
  {
   "cell_type": "code",
   "execution_count": 54,
   "id": "efe7357e-1805-47ad-a043-3562606cd6ae",
   "metadata": {},
   "outputs": [
    {
     "name": "stdout",
     "output_type": "stream",
     "text": [
      "Training Time: 0.8768 seconds\n",
      "Prediction Time: 0.0207 seconds\n",
      "HistGB metrics:\n",
      "\tROC_AUC: 0.7667811069945181\n",
      "\tAccuracy: 0.9067969067969068\n",
      "\tPrecision: 0.3230769230769231\n",
      "\tRecall: 0.10194174757281553\n",
      "\tF1-Score: 0.15498154981549817\n",
      "\tConfusion Matrix: [[2207   44]\n",
      " [ 185   21]]\n"
     ]
    },
    {
     "data": {
      "image/png": "[encoded data removed]",
      "text/plain": [
       "<Figure size 600x500 with 2 Axes>"
      ]
     },
     "metadata": {},
     "output_type": "display_data"
    }
   ],
   "source": [
    "model, results = train_and_evaluate(X_200_train, y_train, X_200_test, y_test, model_type=\"HistGB\")"
   ]
  },
  {
   "cell_type": "code",
   "execution_count": null,
   "id": "20560aac-38f2-455b-b289-0172a51be00d",
   "metadata": {},
   "outputs": [],
   "source": []
  },
  {
   "cell_type": "code",
   "execution_count": null,
   "id": "d06ab5a6-5824-4647-96c1-abf755e15945",
   "metadata": {},
   "outputs": [],
   "source": []
  },
  {
   "cell_type": "code",
   "execution_count": 55,
   "id": "36059aed-649a-4032-b0e7-e05099966dca",
   "metadata": {},
   "outputs": [],
   "source": [
    "# model, results = train_and_evaluate(X_100_train, y_train, X_100_validation, y_validation, model_type=\"LightGBM\")"
   ]
  },
  {
   "cell_type": "code",
   "execution_count": 56,
   "id": "a4ccf533-13d7-4709-8644-d158b4cb7f3a",
   "metadata": {},
   "outputs": [
    {
     "name": "stdout",
     "output_type": "stream",
     "text": [
      "[LightGBM] [Info] Number of positive: 1195, number of negative: 4036\n",
      "[LightGBM] [Info] Auto-choosing col-wise multi-threading, the overhead of testing was 0.001986 seconds.\n",
      "You can set `force_col_wise=true` to remove the overhead.\n",
      "[LightGBM] [Info] Total Bins 23216\n",
      "[LightGBM] [Info] Number of data points in the train set: 5231, number of used features: 100\n",
      "[LightGBM] [Info] [binary:BoostFromScore]: pavg=0.228446 -> initscore=-1.217108\n",
      "[LightGBM] [Info] Start training from score -1.217108\n",
      "Training Time: 0.3821 seconds\n",
      "Prediction Time: 0.0121 seconds\n",
      "LightGBM metrics:\n",
      "\tROC_AUC: 0.7704968234182867\n",
      "\tAccuracy: 0.91005291005291\n",
      "\tPrecision: 0.38461538461538464\n",
      "\tRecall: 0.12135922330097088\n",
      "\tF1-Score: 0.18450184501845018\n",
      "\tConfusion Matrix: [[2211   40]\n",
      " [ 181   25]]\n"
     ]
    },
    {
     "data": {
      "image/png": "[encoded data removed]",
      "text/plain": [
       "<Figure size 600x500 with 2 Axes>"
      ]
     },
     "metadata": {},
     "output_type": "display_data"
    }
   ],
   "source": [
    "model, results = train_and_evaluate(X_100_train, y_train, X_100_test, y_test, model_type=\"LightGBM\")"
   ]
  },
  {
   "cell_type": "code",
   "execution_count": 57,
   "id": "b4a5848f-7ca9-4376-951e-23f4b913730c",
   "metadata": {},
   "outputs": [],
   "source": [
    "# model, results = train_and_evaluate(X_200_train, y_train, X_200_validation, y_validation, model_type=\"LightGBM\")"
   ]
  },
  {
   "cell_type": "code",
   "execution_count": 58,
   "id": "c01b3c3f-fe7a-4408-8734-6ab4d1d765d1",
   "metadata": {},
   "outputs": [
    {
     "name": "stdout",
     "output_type": "stream",
     "text": [
      "[LightGBM] [Info] Number of positive: 1195, number of negative: 4036\n",
      "[LightGBM] [Info] Auto-choosing col-wise multi-threading, the overhead of testing was 0.004604 seconds.\n",
      "You can set `force_col_wise=true` to remove the overhead.\n",
      "[LightGBM] [Info] Total Bins 42562\n",
      "[LightGBM] [Info] Number of data points in the train set: 5231, number of used features: 200\n",
      "[LightGBM] [Info] [binary:BoostFromScore]: pavg=0.228446 -> initscore=-1.217108\n",
      "[LightGBM] [Info] Start training from score -1.217108\n",
      "Training Time: 0.5949 seconds\n",
      "Prediction Time: 0.0166 seconds\n",
      "LightGBM metrics:\n",
      "\tROC_AUC: 0.7721142275493524\n",
      "\tAccuracy: 0.9072039072039072\n",
      "\tPrecision: 0.2962962962962963\n",
      "\tRecall: 0.07766990291262135\n",
      "\tF1-Score: 0.12307692307692308\n",
      "\tConfusion Matrix: [[2213   38]\n",
      " [ 190   16]]\n"
     ]
    },
    {
     "data": {
      "image/png": "[encoded data removed]",
      "text/plain": [
       "<Figure size 600x500 with 2 Axes>"
      ]
     },
     "metadata": {},
     "output_type": "display_data"
    }
   ],
   "source": [
    "model, results = train_and_evaluate(X_200_train, y_train, X_200_test, y_test, model_type=\"LightGBM\")"
   ]
  },
  {
   "cell_type": "code",
   "execution_count": 59,
   "id": "1c203c2d-a81d-41a8-8ce0-e9f9118cca70",
   "metadata": {},
   "outputs": [],
   "source": [
    "# model, results = train_and_evaluate(X_50_train, y_train, X_50_validation, y_validation, model_type=\"HistGB\")"
   ]
  },
  {
   "cell_type": "code",
   "execution_count": 60,
   "id": "fcd9df7a-cbaa-4929-8d0e-2875d0dcef9d",
   "metadata": {},
   "outputs": [
    {
     "name": "stdout",
     "output_type": "stream",
     "text": [
      "Training Time: 0.4799 seconds\n",
      "Prediction Time: 0.0157 seconds\n",
      "HistGB metrics:\n",
      "\tROC_AUC: 0.7379740611508153\n",
      "\tAccuracy: 0.9047619047619048\n",
      "\tPrecision: 0.325\n",
      "\tRecall: 0.1262135922330097\n",
      "\tF1-Score: 0.18181818181818182\n",
      "\tConfusion Matrix: [[2197   54]\n",
      " [ 180   26]]\n"
     ]
    },
    {
     "data": {
      "image/png": "[encoded data removed]",
      "text/plain": [
       "<Figure size 600x500 with 2 Axes>"
      ]
     },
     "metadata": {},
     "output_type": "display_data"
    }
   ],
   "source": [
    "model, results = train_and_evaluate(X_50_train, y_train, X_50_test, y_test, model_type=\"HistGB\")"
   ]
  },
  {
   "cell_type": "code",
   "execution_count": 61,
   "id": "d45349ce-7dea-475b-adf5-0c1313995d2e",
   "metadata": {},
   "outputs": [
    {
     "data": {
      "text/plain": [
       "['SELF_TRANSFER_last_14_days_count',\n",
       " 'SELF_TRANSFER_last_30_days_median',\n",
       " 'SELF_TRANSFER_last_3_months_percent',\n",
       " 'EXTERNAL_TRANSFER_last_14_days_percent',\n",
       " 'EXTERNAL_TRANSFER_last_3_months_percent',\n",
       " 'DEPOSIT_last_14_days_percent',\n",
       " 'DEPOSIT_last_30_days_count',\n",
       " 'DEPOSIT_last_3_months_percent',\n",
       " 'PAYCHECK_last_14_days_percent',\n",
       " 'PAYCHECK_last_6_months_percent',\n",
       " 'MISCELLANEOUS_last_14_days_percent',\n",
       " 'MISCELLANEOUS_last_3_months_percent',\n",
       " 'MISCELLANEOUS_last_6_months_percent',\n",
       " 'REFUND_last_30_days_percent',\n",
       " 'TAX_last_14_days_percent',\n",
       " 'LOAN_last_3_months_percent',\n",
       " 'INSURANCE_overall_min',\n",
       " 'INSURANCE_overall_count',\n",
       " 'INSURANCE_last_14_days_std',\n",
       " 'INSURANCE_last_14_days_count',\n",
       " 'INSURANCE_last_3_months_count',\n",
       " 'INSURANCE_last_year_min',\n",
       " 'INSURANCE_last_year_count',\n",
       " 'FOOD_AND_BEVERAGES_last_3_months_percent',\n",
       " 'FOOD_AND_BEVERAGES_last_6_months_count',\n",
       " 'GENERAL_MERCHANDISE_last_14_days_median',\n",
       " 'GENERAL_MERCHANDISE_last_3_months_percent',\n",
       " 'AUTOMOTIVE_overall_percent',\n",
       " 'AUTOMOTIVE_last_year_percent',\n",
       " 'GROCERIES_last_3_months_median',\n",
       " 'ENTERTAINMENT_last_14_days_percent',\n",
       " 'ENTERTAINMENT_last_30_days_median',\n",
       " 'TRAVEL_last_14_days_std',\n",
       " 'TRAVEL_last_6_months_min',\n",
       " 'ACCOUNT_FEES_last_3_months_percent',\n",
       " 'HEALTHCARE_MEDICAL_overall_count',\n",
       " 'HEALTHCARE_MEDICAL_last_14_days_min',\n",
       " 'HEALTHCARE_MEDICAL_last_3_months_percent',\n",
       " 'PETS_last_year_min',\n",
       " 'GIFTS_DONATIONS_last_30_days_std',\n",
       " 'GIFTS_DONATIONS_last_30_days_max',\n",
       " 'BILLS_UTILITIES_last_30_days_percent',\n",
       " 'BANKING_CATCH_ALL_last_14_days_percent',\n",
       " 'BANKING_CATCH_ALL_last_6_months_percent',\n",
       " 'FITNESS_last_30_days_count',\n",
       " 'TRANSPORATION_last_6_months_max',\n",
       " 'RTO_LTO_last_30_days_count',\n",
       " 'outflows_amt_last_30_days_max',\n",
       " 'outflows_amt_last_6_months_max',\n",
       " 'inflows_amt_last_30_days_median']"
      ]
     },
     "execution_count": 61,
     "metadata": {},
     "output_type": "execute_result"
    }
   ],
   "source": [
    "top_50"
   ]
  },
  {
   "cell_type": "code",
   "execution_count": null,
   "id": "8e6df707-8176-4ac3-ae39-444d589de0d4",
   "metadata": {},
   "outputs": [],
   "source": []
  },
  {
   "cell_type": "code",
   "execution_count": null,
   "id": "84df4efa-4715-43da-b395-b211707f7070",
   "metadata": {},
   "outputs": [],
   "source": []
  },
  {
   "cell_type": "code",
   "execution_count": 68,
   "id": "b58a5850-1322-44bd-8ea7-651612b1ad97",
   "metadata": {
    "scrolled": true
   },
   "outputs": [
    {
     "name": "stdout",
     "output_type": "stream",
     "text": [
      "##### HistGB Output #####\n",
      "Training Time: 0.8859 seconds\n",
      "Prediction Time: 0.0204 seconds\n",
      "HistGB metrics:\n",
      "\tROC_AUC: 0.7667811069945181\n",
      "\tAccuracy: 0.9067969067969068\n",
      "\tPrecision: 0.3230769230769231\n",
      "\tRecall: 0.10194174757281553\n",
      "\tF1-Score: 0.15498154981549817\n",
      "\tConfusion Matrix: [[2207   44]\n",
      " [ 185   21]]\n"
     ]
    },
    {
     "data": {
      "image/png": "[encoded data removed]",
      "text/plain": [
       "<Figure size 600x500 with 2 Axes>"
      ]
     },
     "metadata": {},
     "output_type": "display_data"
    },
    {
     "name": "stdout",
     "output_type": "stream",
     "text": [
      "##### CatBoost Output #####\n",
      "Training Time: 8.4782 seconds\n",
      "Prediction Time: 0.0198 seconds\n",
      "CatBoost metrics:\n",
      "\tROC_AUC: 0.7765566975626798\n",
      "\tAccuracy: 0.9133089133089133\n",
      "\tPrecision: 0.3870967741935484\n",
      "\tRecall: 0.05825242718446602\n",
      "\tF1-Score: 0.10126582278481013\n",
      "\tConfusion Matrix: [[2232   19]\n",
      " [ 194   12]]\n"
     ]
    },
    {
     "data": {
      "image/png": "[encoded data removed]",
      "text/plain": [
       "<Figure size 600x500 with 2 Axes>"
      ]
     },
     "metadata": {},
     "output_type": "display_data"
    },
    {
     "name": "stdout",
     "output_type": "stream",
     "text": [
      "##### LightGBM Output #####\n",
      "[LightGBM] [Info] Number of positive: 1195, number of negative: 4036\n",
      "[LightGBM] [Info] Auto-choosing col-wise multi-threading, the overhead of testing was 0.005357 seconds.\n",
      "You can set `force_col_wise=true` to remove the overhead.\n",
      "[LightGBM] [Info] Total Bins 42562\n",
      "[LightGBM] [Info] Number of data points in the train set: 5231, number of used features: 200\n",
      "[LightGBM] [Info] [binary:BoostFromScore]: pavg=0.228446 -> initscore=-1.217108\n",
      "[LightGBM] [Info] Start training from score -1.217108\n",
      "Training Time: 0.6191 seconds\n",
      "Prediction Time: 0.0173 seconds\n",
      "LightGBM metrics:\n",
      "\tROC_AUC: 0.7721142275493524\n",
      "\tAccuracy: 0.9072039072039072\n",
      "\tPrecision: 0.2962962962962963\n",
      "\tRecall: 0.07766990291262135\n",
      "\tF1-Score: 0.12307692307692308\n",
      "\tConfusion Matrix: [[2213   38]\n",
      " [ 190   16]]\n"
     ]
    },
    {
     "data": {
      "image/png": "[encoded data removed]",
      "text/plain": [
       "<Figure size 600x500 with 2 Axes>"
      ]
     },
     "metadata": {},
     "output_type": "display_data"
    },
    {
     "name": "stdout",
     "output_type": "stream",
     "text": [
      "##### XGBoost Output #####\n"
     ]
    },
    {
     "name": "stderr",
     "output_type": "stream",
     "text": [
      "/home/akar/.local/lib/python3.11/site-packages/xgboost/core.py:158: UserWarning: [22:11:46] WARNING: /workspace/src/learner.cc:740: \n",
      "Parameters: { \"use_label_encoder\" } are not used.\n",
      "\n",
      "  warnings.warn(smsg, UserWarning)\n"
     ]
    },
    {
     "name": "stdout",
     "output_type": "stream",
     "text": [
      "Training Time: 0.9541 seconds\n",
      "Prediction Time: 0.0603 seconds\n",
      "XGBoost metrics:\n",
      "\tROC_AUC: 0.7620324084657089\n",
      "\tAccuracy: 0.908017908017908\n",
      "\tPrecision: 0.3484848484848485\n",
      "\tRecall: 0.11165048543689321\n",
      "\tF1-Score: 0.16911764705882354\n",
      "\tConfusion Matrix: [[2208   43]\n",
      " [ 183   23]]\n"
     ]
    },
    {
     "data": {
      "image/png": "[encoded data removed]",
      "text/plain": [
       "<Figure size 600x500 with 2 Axes>"
      ]
     },
     "metadata": {},
     "output_type": "display_data"
    },
    {
     "name": "stdout",
     "output_type": "stream",
     "text": [
      "##### LogisticRegression Output #####\n",
      "Training Time: 7.1187 seconds\n",
      "Prediction Time: 0.2933 seconds\n",
      "LogisticRegression metrics:\n",
      "\tROC_AUC: 0.7350001940884957\n",
      "\tAccuracy: 0.8522588522588522\n",
      "\tPrecision: 0.23389830508474577\n",
      "\tRecall: 0.33495145631067963\n",
      "\tF1-Score: 0.2754491017964072\n",
      "\tConfusion Matrix: [[2025  226]\n",
      " [ 137   69]]\n"
     ]
    },
    {
     "data": {
      "image/png": "[encoded data removed]",
      "text/plain": [
       "<Figure size 600x500 with 2 Axes>"
      ]
     },
     "metadata": {},
     "output_type": "display_data"
    },
    {
     "data": {
      "image/png": "[encoded data removed]",
      "text/plain": [
       "<Figure size 1000x700 with 1 Axes>"
      ]
     },
     "metadata": {},
     "output_type": "display_data"
    }
   ],
   "source": [
    "model_types = [\"HistGB\", \"CatBoost\", \"LightGBM\", \"XGBoost\", \"LogisticRegression\"]\n",
    "eval_data = {}\n",
    "roc_data = {}\n",
    "\n",
    "X_test_eval = X_200_test\n",
    "\n",
    "for model_type in model_types:\n",
    "    print(f'##### {model_type} Output #####')\n",
    "    model, results = train_and_evaluate(X_200_train, y_train, X_test_eval, y_test, model_type)\n",
    "    del results['Confusion Matrix']\n",
    "    eval_data[model_type] = results\n",
    "    \n",
    "    # Get ROC Curve\n",
    "    if hasattr(model, \"predict_proba\"):\n",
    "        y_prob = model.predict_proba(X_test_eval)[:, 1]\n",
    "    else:\n",
    "        y_prob = model.decision_function(X_test_eval) if hasattr(model, \"decision_function\") else model.predict(X_test_eval)\n",
    "    \n",
    "    fpr, tpr, _ = roc_curve(y_test, y_prob)\n",
    "    roc_auc = auc(fpr, tpr)\n",
    "    \n",
    "    roc_data[model_type] = (fpr, tpr, roc_auc)\n",
    "\n",
    "eval_data = pd.DataFrame(eval_data)\n",
    "\n",
    "# Plot all ROC curves at once\n",
    "plt.figure(figsize=(10, 7))\n",
    "for model_type, (fpr, tpr, roc_auc) in roc_data.items():\n",
    "    plt.plot(fpr, tpr, label=f'{model_type} (AUC = {roc_auc:.2f})')\n",
    "\n",
    "# Plot settings\n",
    "plt.plot([0, 1], [0, 1], linestyle='--', color='gray', label='Random Guess')\n",
    "plt.xlabel('False Positive Rate')\n",
    "plt.ylabel('True Positive Rate')\n",
    "plt.title('ROC Curves of Different Models')\n",
    "plt.legend()\n",
    "plt.grid()\n",
    "plt.show()"
   ]
  },
  {
   "cell_type": "code",
   "execution_count": null,
   "id": "1fd19753-80e4-496e-ad7d-fa7e3f0d33a8",
   "metadata": {},
   "outputs": [],
   "source": []
  },
  {
   "cell_type": "markdown",
   "id": "cd164afd-de59-4a42-855f-45fd16f8877e",
   "metadata": {},
   "source": [
    "### Hyper Parameter Tuning (Catboost, LightGBM, and HistGB)"
   ]
  },
  {
   "cell_type": "code",
   "execution_count": 63,
   "id": "1da44aaf-a40f-4538-a574-513ce04f2ecd",
   "metadata": {},
   "outputs": [],
   "source": [
    "from sklearn.model_selection import RandomizedSearchCV\n",
    "from catboost import CatBoostClassifier, CatBoostRegressor\n",
    "from lightgbm import LGBMClassifier, LGBMRegressor\n",
    "from sklearn.ensemble import HistGradientBoostingClassifier, HistGradientBoostingRegressor\n",
    "import numpy as np\n"
   ]
  },
  {
   "cell_type": "code",
   "execution_count": 64,
   "id": "4760cae7-ab02-4270-9cc6-cd170552ac6a",
   "metadata": {},
   "outputs": [],
   "source": [
    "def tune_model(X, y, model_type=\"lightgbm\", task=\"classification\", n_iter=50, cv=5, scoring=None, random_state=42):\n",
    "    \"\"\"\n",
    "    Perform hyperparameter tuning using RandomizedSearchCV.\n",
    "    \n",
    "    Parameters:\n",
    "        X (pd.DataFrame or np.array): Feature matrix.\n",
    "        y (pd.Series or np.array): Target variable.\n",
    "        model_type (str): \"catboost\", \"lightgbm\", or \"histgb\".\n",
    "        task (str): \"classification\" or \"regression\".\n",
    "        n_iter (int): Number of parameter combinations to try.\n",
    "        cv (int): Number of cross-validation folds.\n",
    "        scoring (str or None): Scoring metric for RandomizedSearchCV.\n",
    "        random_state (int): Random seed for reproducibility.\n",
    "\n",
    "    Returns:\n",
    "        best_model: Best fitted model after tuning.\n",
    "        best_params: Best hyperparameters.\n",
    "    \"\"\"\n",
    "\n",
    "    # Define model-specific hyperparameter grids\n",
    "    param_grid = {}\n",
    "\n",
    "    if model_type == \"catboost\":\n",
    "        model = CatBoostClassifier(verbose=0, random_seed=random_state) if task == \"classification\" else CatBoostRegressor(verbose=0, random_seed=random_state)\n",
    "        param_grid = {\n",
    "            \"iterations\": np.arange(100, 1000, 100),\n",
    "            \"depth\": np.arange(4, 12, 1),\n",
    "            \"learning_rate\": np.linspace(0.01, 0.3, 10),\n",
    "            \"l2_leaf_reg\": np.logspace(-3, 2, 6),\n",
    "            \"border_count\": [32, 64, 128],\n",
    "        }\n",
    "\n",
    "    elif model_type == \"lightgbm\":\n",
    "        model = LGBMClassifier(random_state=random_state) if task == \"classification\" else LGBMRegressor(random_state=random_state)\n",
    "        param_grid = {\n",
    "            \"num_leaves\": np.arange(10, 150, 10),\n",
    "            \"learning_rate\": np.linspace(0.01, 0.3, 10),\n",
    "            \"n_estimators\": np.arange(50, 500, 50),\n",
    "            \"max_depth\": np.arange(3, 12, 1),\n",
    "            \"min_child_samples\": np.arange(5, 50, 5),\n",
    "            \"subsample\": np.linspace(0.5, 1.0, 5),\n",
    "            \"colsample_bytree\": np.linspace(0.5, 1.0, 5),\n",
    "            \"reg_alpha\": np.logspace(-3, 1, 5),\n",
    "            \"reg_lambda\": np.logspace(-3, 1, 5),\n",
    "        }\n",
    "\n",
    "    elif model_type == \"histgb\":\n",
    "        model = HistGradientBoostingClassifier(random_state=random_state) if task == \"classification\" else HistGradientBoostingRegressor(random_state=random_state)\n",
    "        param_grid = {\n",
    "            \"learning_rate\": [0.1, 0.5, 1, 5],\n",
    "            \"max_iter\": np.arange(50, 550, 100),\n",
    "            \"max_leaf_nodes\": np.arange(10, 50, 10),\n",
    "            \"min_samples_leaf\": np.arange(5, 50, 10),\n",
    "            \"l2_regularization\": np.logspace(-3, 1, 5),\n",
    "            \"max_bins\": [32, 64, 128, 255],\n",
    "        }\n",
    "\n",
    "    else:\n",
    "        raise ValueError(\"Invalid model_type. Choose from 'catboost', 'lightgbm', or 'histgb'.\")\n",
    "\n",
    "    # Perform Randomized Search\n",
    "    random_search = RandomizedSearchCV(\n",
    "        model,\n",
    "        param_distributions=param_grid,\n",
    "        n_iter=n_iter,\n",
    "        cv=cv,\n",
    "        scoring=scoring,\n",
    "        random_state=random_state,\n",
    "        n_jobs=-1,\n",
    "        verbose=1\n",
    "    )\n",
    "\n",
    "    random_search.fit(X, y)\n",
    "\n",
    "    # Return the best model and best parameters\n",
    "    return random_search.best_estimator_, random_search.best_params_\n"
   ]
  },
  {
   "cell_type": "code",
   "execution_count": null,
   "id": "d0700abe-c639-4372-83ed-ca89b0f3aa7a",
   "metadata": {},
   "outputs": [],
   "source": []
  },
  {
   "cell_type": "code",
   "execution_count": 69,
   "id": "1c116c4c-0fd8-4506-ae4e-f9331e5fae55",
   "metadata": {},
   "outputs": [
    {
     "name": "stdout",
     "output_type": "stream",
     "text": [
      "Fitting 3 folds for each of 10 candidates, totalling 30 fits\n"
     ]
    }
   ],
   "source": [
    "best_model, best_params = tune_model(X_200_validation, y_validation, model_type=\"catboost\", task=\"classification\", n_iter=10, cv=3, scoring=\"roc_auc\")"
   ]
  },
  {
   "cell_type": "code",
   "execution_count": null,
   "id": "300eb1aa-04f1-44f5-9f4b-ce6f1884476a",
   "metadata": {},
   "outputs": [],
   "source": [
    "best_model, best_params = tune_model(X, y, model_type=\"histgb\", task=\"classification\", n_iter=30, cv=3, scoring=\"roc_auc\")\n"
   ]
  },
  {
   "cell_type": "code",
   "execution_count": null,
   "id": "9b9fb15c-3326-479f-9a9c-2fcb03a70213",
   "metadata": {},
   "outputs": [],
   "source": [
    "best_model, best_params = tune_model(X, y, model_type=\"lightgbm\", task=\"classification\", n_iter=30, cv=3, scoring=\"roc_auc\")\n"
   ]
  },
  {
   "cell_type": "code",
   "execution_count": null,
   "id": "0784f733-c2d2-4d01-8b76-6aacfda3d11a",
   "metadata": {},
   "outputs": [],
   "source": []
  },
  {
   "cell_type": "code",
   "execution_count": null,
   "id": "784057b1-7b0a-4c54-aa89-7cee4516715d",
   "metadata": {},
   "outputs": [],
   "source": [
    "2+2"
   ]
  },
  {
   "cell_type": "code",
   "execution_count": null,
   "id": "928bdaa9-0833-4dfb-8a3b-e04ab9d3d9ba",
   "metadata": {},
   "outputs": [],
   "source": [
    "best_model"
   ]
  },
  {
   "cell_type": "code",
   "execution_count": null,
   "id": "ef80e96f-e2f2-4215-8d35-8812f0c397ca",
   "metadata": {},
   "outputs": [],
   "source": [
    "best_params"
   ]
  },
  {
   "cell_type": "code",
   "execution_count": null,
   "id": "5d35637d-999f-48cf-924b-c7658d971b3c",
   "metadata": {},
   "outputs": [],
   "source": []
  },
  {
   "cell_type": "code",
   "execution_count": null,
   "id": "ec55bc6d-f222-47db-a78b-fdf4ada7e9e6",
   "metadata": {},
   "outputs": [],
   "source": []
  },
  {
   "cell_type": "code",
   "execution_count": null,
   "id": "308ca273-c831-41d7-9bd2-2ff75fdc67df",
   "metadata": {},
   "outputs": [],
   "source": []
  },
  {
   "cell_type": "code",
   "execution_count": null,
   "id": "2d95943f-fe13-485b-b419-5a5eb68e4169",
   "metadata": {},
   "outputs": [],
   "source": [
    "top_200[10:]"
   ]
  },
  {
   "cell_type": "markdown",
   "id": "5460a222-8a61-406a-8e9d-8039305037d2",
   "metadata": {},
   "source": [
    "# Extra Visualization"
   ]
  },
  {
   "cell_type": "code",
   "execution_count": null,
   "id": "b0ef311c-c2e5-42a0-9440-5beee1f5fa97",
   "metadata": {},
   "outputs": [],
   "source": [
    "def plot_binned_bad_rate(df, feature, target, bins=10, method='quantile'):\n",
    "    \"\"\"\n",
    "    Plots the binned bad rate for a given feature.\n",
    "    \n",
    "    Parameters:\n",
    "        df (pd.DataFrame): The input dataframe.\n",
    "        feature (str): The numeric column to be binned.\n",
    "        target (str): The binary target column (1 = bad, 0 = good).\n",
    "        bins (int or list): Number of bins (if int) or custom bin edges (if list).\n",
    "        method (str): 'quantile' for equal-sized bins, 'uniform' for equal-width bins.\n",
    "    \n",
    "    Returns:\n",
    "        None\n",
    "    \"\"\"\n",
    "    df = df[[feature, target]].dropna()\n",
    "    \n",
    "    # Binning\n",
    "    if method == 'quantile':\n",
    "        df['bin'] = pd.qcut(df[feature], q=bins, duplicates='drop')\n",
    "    else:  # 'uniform' binning\n",
    "        df['bin'] = pd.cut(df[feature], bins=bins)\n",
    "    \n",
    "    # Compute bad rate\n",
    "    bad_rate = df.groupby('bin')[target].mean()\n",
    "    \n",
    "    # Plot\n",
    "    plt.figure(figsize=(10, 6))\n",
    "    bad_rate.plot(kind='bar', color='skyblue', edgecolor='black')\n",
    "    \n",
    "    plt.xlabel(f'Binned {feature}')\n",
    "    plt.ylabel('Bad Rate')\n",
    "    plt.title(f'Binned Bad Rate Plot for {feature}')\n",
    "    plt.xticks(rotation=45)\n",
    "    plt.grid(axis='y', linestyle='--', alpha=0.7)\n",
    "    \n",
    "    plt.show()\n"
   ]
  },
  {
   "cell_type": "code",
   "execution_count": null,
   "id": "9535eaa5-e042-4933-91f6-4e6a64046170",
   "metadata": {},
   "outputs": [],
   "source": [
    "plot_binned_bad_rate(data, feature='PAYCHECK_overall_median', target='DQ_TARGET')"
   ]
  },
  {
   "cell_type": "code",
   "execution_count": null,
   "id": "6e37ac27-35fa-4b80-a87d-877510293e98",
   "metadata": {},
   "outputs": [],
   "source": []
  },
  {
   "cell_type": "code",
   "execution_count": null,
   "id": "77e213c5-1002-4605-9f1a-f89facd56e17",
   "metadata": {},
   "outputs": [],
   "source": [
    "from sklearn.inspection import partial_dependence, PartialDependenceDisplay\n",
    "\n",
    "def plot_partial_dependence(model, X, feature, feature_names=None):\n",
    "    \"\"\"\n",
    "    Plots the Partial Dependence Plot (PDP) for a given feature.\n",
    "    \n",
    "    Parameters:\n",
    "        model: Trained machine learning model.\n",
    "        X (pd.DataFrame or np.array): Feature dataset.\n",
    "        feature (int or str): Index (if array) or name (if DataFrame) of the feature to plot.\n",
    "        feature_names (list, optional): List of feature names if X is a NumPy array.\n",
    "    \n",
    "    Returns:\n",
    "        None\n",
    "    \"\"\"\n",
    "    if isinstance(X, np.ndarray) and feature_names is None:\n",
    "        raise ValueError(\"If X is a NumPy array, feature_names must be provided.\")\n",
    "    \n",
    "    features = [feature] if isinstance(feature, int) else [X.columns.get_loc(feature)]\n",
    "    \n",
    "    # Compute Partial Dependence\n",
    "    pd_result = partial_dependence(model, X, features)\n",
    "    \n",
    "    # Extract values\n",
    "    feature_values = pd_result['values'][0]\n",
    "    pd_values = pd_result['average'][0]\n",
    "    \n",
    "    # Plot\n",
    "    plt.figure(figsize=(8, 5))\n",
    "    plt.plot(feature_values, pd_values, marker='o', linestyle='-', color='blue')\n",
    "    plt.xlabel(feature if isinstance(feature, str) else feature_names[feature])\n",
    "    plt.ylabel(\"Partial Dependence\")\n",
    "    plt.title(f\"Partial Dependence Plot for {feature}\")\n",
    "    plt.grid(True)\n",
    "    plt.show()"
   ]
  },
  {
   "cell_type": "code",
   "execution_count": null,
   "id": "d7b186ca-3826-4dca-b24f-d11f4a78d7e9",
   "metadata": {},
   "outputs": [],
   "source": []
  },
  {
   "cell_type": "code",
   "execution_count": null,
   "id": "2b221b6c-80b2-4861-9da8-6444459a14f3",
   "metadata": {},
   "outputs": [],
   "source": [
    "model, results = train_and_evaluate(X_200_train, y_train, X_200_test, y_test, model_type=\"HistGB\")"
   ]
  },
  {
   "cell_type": "code",
   "execution_count": null,
   "id": "b35efa15-dbe8-4df7-bd5d-0ca78aeb240e",
   "metadata": {},
   "outputs": [],
   "source": [
    "# plot_partial_dependence(model, pd.concat([X_200_train, X_200_validation, X_200_test], axis=0), \"balance_delta_overall\", feature_names=None)\n",
    "# balance_mean\n",
    "plot_partial_dependence(model, X_200_test, \"PAYCHECK_overall_median\", feature_names=None)"
   ]
  },
  {
   "cell_type": "markdown",
   "id": "62fa078c-5110-46de-9bbb-8371ed3cc74c",
   "metadata": {},
   "source": [
    "essentially illustrates what values of balance_mean are associated with predicting deliquency (1 or 0)"
   ]
  },
  {
   "cell_type": "code",
   "execution_count": null,
   "id": "f293abd2-a23f-403f-a8dd-fa03a51f2273",
   "metadata": {},
   "outputs": [],
   "source": [
    "plot_partial_dependence(model, X_200_test, \"GAMBLING_last_30_days_percent\", feature_names=None)"
   ]
  },
  {
   "cell_type": "code",
   "execution_count": null,
   "id": "94c3eedb-62c7-42d2-a8bc-d731849ddfb3",
   "metadata": {},
   "outputs": [],
   "source": [
    "plot_partial_dependence(model, X_200_test, \"SELF_TRANSFER_overall_median\", feature_names=None)"
   ]
  },
  {
   "cell_type": "code",
   "execution_count": null,
   "id": "c32bd6e2-ab9f-4edf-a5f4-a6991bd64cc1",
   "metadata": {},
   "outputs": [],
   "source": []
  },
  {
   "cell_type": "code",
   "execution_count": null,
   "id": "795fb0a8-b7b0-45fd-ad59-d080816aeeb8",
   "metadata": {},
   "outputs": [],
   "source": [
    "for top_200_i in top_200[:10]:\n",
    "    plot_partial_dependence(model, X_200_test, top_200_i, feature_names=None)"
   ]
  },
  {
   "cell_type": "code",
   "execution_count": null,
   "id": "3ffc4f5e-8a81-4ee7-87e5-fb4f412ae17b",
   "metadata": {},
   "outputs": [],
   "source": []
  },
  {
   "cell_type": "code",
   "execution_count": null,
   "id": "6b02e8ca-2542-4911-bf72-d0d34865b79f",
   "metadata": {},
   "outputs": [],
   "source": []
  },
  {
   "cell_type": "code",
   "execution_count": null,
   "id": "01020565-7672-4fd7-9344-ca18395f237b",
   "metadata": {},
   "outputs": [],
   "source": []
  },
  {
   "cell_type": "markdown",
   "id": "49c8b2af-c778-4807-8eb4-863946505415",
   "metadata": {},
   "source": [
    "### Feature Selection (Embedded Method)"
   ]
  },
  {
   "cell_type": "code",
   "execution_count": null,
   "id": "61509572-4f84-41c2-9718-af86dca1c2ad",
   "metadata": {},
   "outputs": [],
   "source": [
    "rf = RandomForestClassifier()\n",
    "# rf.fit(X_train, y_train)\n",
    "\n",
    "rf = RandomForestClassifier(\n",
    "    n_estimators=300,        # More trees for stability (100-500 is a good range)\n",
    "    max_depth=15,            # Limit depth to avoid overfitting (None allows full growth)\n",
    "    min_samples_split=5,      # Require at least 5 samples to split a node (prevents overfitting)\n",
    "    min_samples_leaf=2,       # Minimum of 2 samples per leaf for better generalization\n",
    "    max_features='sqrt',      # Use sqrt(features) at each split (good balance of performance)\n",
    "    bootstrap=True,           # Bootstrap sampling (default, helps with variance reduction)\n",
    "    random_state=42,          # For reproducibility\n",
    "    n_jobs=-1                 # Use all CPU cores for faster training\n",
    ")\n",
    "\n",
    "rf.fit(X_resampled, y_resampled)"
   ]
  },
  {
   "cell_type": "code",
   "execution_count": null,
   "id": "b0cf7bc3-7cf4-4102-9cca-89c11073ffb8",
   "metadata": {},
   "outputs": [],
   "source": []
  },
  {
   "cell_type": "code",
   "execution_count": null,
   "id": "04d7611f-4f6b-4932-92f5-c00cd92abd2a",
   "metadata": {},
   "outputs": [],
   "source": []
  },
  {
   "cell_type": "code",
   "execution_count": null,
   "id": "55246219-481d-44d9-ae63-8499a05e1bbb",
   "metadata": {},
   "outputs": [],
   "source": [
    "feature_importances = rf.feature_importances_\n",
    "importance_df = pd.DataFrame({\"Feature\": X.columns, \"Importance\": feature_importances})\n",
    "importance_df['Importance_Abs'] = importance_df.Importance.apply(lambda x: abs(x))\n",
    "\n",
    "\n",
    "# Sort by importance (descending order)\n",
    "importance_df = importance_df.sort_values(by=\"Importance_Abs\", ascending=False)\n",
    "importance_df.head(10)"
   ]
  },
  {
   "cell_type": "code",
   "execution_count": null,
   "id": "07603813-c499-414b-8dc2-51a55a59a9b8",
   "metadata": {},
   "outputs": [],
   "source": []
  },
  {
   "cell_type": "code",
   "execution_count": null,
   "id": "ea08f207-4637-4188-8b6a-d3676e9149b4",
   "metadata": {},
   "outputs": [],
   "source": [
    "top_100_ftrs = importance_df.Feature.values[:100]\n",
    "\n",
    "X_100 = X_train[top_100_ftrs]\n",
    "X_100_test = X_test[top_100_ftrs]\n",
    "\n",
    "X_100.shape, y_train.shape"
   ]
  },
  {
   "cell_type": "code",
   "execution_count": null,
   "id": "cc8cf370-8268-404d-8243-7348007284e7",
   "metadata": {},
   "outputs": [],
   "source": [
    "X_100_train, X_100_validation, y_100_train, y_100_validation = train_test_split(X_100, y_train, test_size=0.25,)"
   ]
  },
  {
   "cell_type": "code",
   "execution_count": null,
   "id": "92245913-5b71-4c70-bcd2-60cfff96fcbf",
   "metadata": {},
   "outputs": [],
   "source": []
  },
  {
   "cell_type": "code",
   "execution_count": null,
   "id": "0066f19e-8991-4d4d-87f2-a6433c63a63a",
   "metadata": {},
   "outputs": [],
   "source": [
    "lr_100_train_metrics, lr_100_test_metrics = pipeline(X_100, y_train)"
   ]
  },
  {
   "cell_type": "code",
   "execution_count": null,
   "id": "b9ce5576-9d8d-402b-a797-d90a30a47de0",
   "metadata": {},
   "outputs": [],
   "source": []
  },
  {
   "cell_type": "code",
   "execution_count": null,
   "id": "c7bd2432-bc3f-498d-be59-446b9e603419",
   "metadata": {},
   "outputs": [],
   "source": []
  },
  {
   "cell_type": "markdown",
   "id": "e6a20e15-6ccc-4d0f-9309-e0f36cb9237d",
   "metadata": {},
   "source": [
    "### More Models"
   ]
  },
  {
   "cell_type": "code",
   "execution_count": 372,
   "id": "a09a3608-f89e-4128-aeea-bce083246cc3",
   "metadata": {},
   "outputs": [
    {
     "name": "stdout",
     "output_type": "stream",
     "text": [
      "Training Time: 8.6668 seconds\n",
      "Prediction Time: 0.1608 seconds\n",
      "HistGB metrics:\n",
      "\tROC_AUC: 0.7420727811420397\n",
      "\tAccuracy: 0.9083333333333333\n",
      "\tPrecision: 0.36065573770491804\n",
      "\tRecall: 0.08527131782945736\n",
      "\tF1-Score: 0.13793103448275862\n",
      "\tConfusion Matrix: [[2703   39]\n",
      " [ 236   22]]\n"
     ]
    },
    {
     "data": {
      "image/png": "[encoded data removed]",
      "text/plain": [
       "<Figure size 600x500 with 2 Axes>"
      ]
     },
     "metadata": {},
     "output_type": "display_data"
    }
   ],
   "source": [
    "model, results = train_and_evaluate(X_resampled, y_resampled, X_test, y_test, model_type=\"HistGB\")"
   ]
  },
  {
   "cell_type": "code",
   "execution_count": 373,
   "id": "f90a0ba1-9cb6-422c-858c-e6cea3cb56ca",
   "metadata": {},
   "outputs": [
    {
     "name": "stdout",
     "output_type": "stream",
     "text": [
      "Training Time: 0.5888 seconds\n",
      "Prediction Time: 0.0194 seconds\n",
      "HistGB metrics:\n",
      "\tROC_AUC: 0.732802684624475\n",
      "\tAccuracy: 0.9043333333333333\n",
      "\tPrecision: 0.32098765432098764\n",
      "\tRecall: 0.10077519379844961\n",
      "\tF1-Score: 0.15339233038348082\n",
      "\tConfusion Matrix: [[2687   55]\n",
      " [ 232   26]]\n"
     ]
    },
    {
     "data": {
      "image/png": "[encoded data removed]",
      "text/plain": [
       "<Figure size 600x500 with 2 Axes>"
      ]
     },
     "metadata": {},
     "output_type": "display_data"
    }
   ],
   "source": [
    "model, results = train_and_evaluate(X_100_train, y_100_train, X_100_test, y_test, model_type=\"HistGB\")"
   ]
  },
  {
   "cell_type": "code",
   "execution_count": 374,
   "id": "1582bdfa-d382-4903-b9d3-de580f30a73d",
   "metadata": {},
   "outputs": [
    {
     "name": "stdout",
     "output_type": "stream",
     "text": [
      "[LightGBM] [Info] Number of positive: 862, number of negative: 3692\n",
      "[LightGBM] [Info] Auto-choosing col-wise multi-threading, the overhead of testing was 0.002508 seconds.\n",
      "You can set `force_col_wise=true` to remove the overhead.\n",
      "[LightGBM] [Info] Total Bins 16943\n",
      "[LightGBM] [Info] Number of data points in the train set: 4554, number of used features: 100\n",
      "[LightGBM] [Info] [binary:BoostFromScore]: pavg=0.189284 -> initscore=-1.454668\n",
      "[LightGBM] [Info] Start training from score -1.454668\n",
      "Training Time: 0.3272 seconds\n",
      "Prediction Time: 0.0143 seconds\n",
      "LightGBM metrics:\n",
      "\tROC_AUC: 0.736575464070248\n",
      "\tAccuracy: 0.905\n",
      "\tPrecision: 0.3291139240506329\n",
      "\tRecall: 0.10077519379844961\n",
      "\tF1-Score: 0.1543026706231454\n",
      "\tConfusion Matrix: [[2689   53]\n",
      " [ 232   26]]\n"
     ]
    },
    {
     "data": {
      "image/png": "[encoded data removed]",
      "text/plain": [
       "<Figure size 600x500 with 2 Axes>"
      ]
     },
     "metadata": {},
     "output_type": "display_data"
    }
   ],
   "source": [
    "model, results = train_and_evaluate(X_100_train, y_100_train, X_100_test, y_test, model_type=\"LightGBM\")"
   ]
  },
  {
   "cell_type": "code",
   "execution_count": null,
   "id": "d1d7ae44-49ed-410f-b89b-57c63af55aa7",
   "metadata": {},
   "outputs": [],
   "source": []
  },
  {
   "cell_type": "code",
   "execution_count": null,
   "id": "2f06dbe5-9fa0-4b37-9962-1bf8d3354857",
   "metadata": {},
   "outputs": [],
   "source": []
  },
  {
   "cell_type": "code",
   "execution_count": null,
   "id": "6f0bf742-6219-483a-b29b-14e0cbff3be7",
   "metadata": {},
   "outputs": [],
   "source": []
  },
  {
   "cell_type": "code",
   "execution_count": null,
   "id": "279b464b-28a7-4342-8982-0ecad65aed2a",
   "metadata": {},
   "outputs": [],
   "source": []
  },
  {
   "cell_type": "code",
   "execution_count": null,
   "id": "13ae04c3-a085-4f40-8cef-21ea702f081d",
   "metadata": {},
   "outputs": [],
   "source": []
  },
  {
   "cell_type": "code",
   "execution_count": null,
   "id": "c1caebae-5024-4117-80a1-094e2d4e6bae",
   "metadata": {},
   "outputs": [],
   "source": []
  },
  {
   "cell_type": "code",
   "execution_count": null,
   "id": "1e1e0ee2-f070-4716-8e90-b202bc2fb8ee",
   "metadata": {},
   "outputs": [],
   "source": []
  },
  {
   "cell_type": "code",
   "execution_count": null,
   "id": "92f033ce-4b39-4f74-85de-8272aa87f1d6",
   "metadata": {},
   "outputs": [],
   "source": []
  },
  {
   "cell_type": "code",
   "execution_count": null,
   "id": "170c3d58-67a3-4f14-a595-78b98bc05dcf",
   "metadata": {},
   "outputs": [],
   "source": []
  },
  {
   "cell_type": "code",
   "execution_count": null,
   "id": "884c7c0e-0ac9-4c6d-ace6-6ac619adce96",
   "metadata": {},
   "outputs": [],
   "source": []
  },
  {
   "cell_type": "code",
   "execution_count": null,
   "id": "707b9b57-a93a-4908-b0c7-daec2cc3723d",
   "metadata": {},
   "outputs": [],
   "source": []
  }
 ],
 "metadata": {
  "kernelspec": {
   "display_name": "Python 3 (ipykernel)",
   "language": "python",
   "name": "python3"
  },
  "language_info": {
   "codemirror_mode": {
    "name": "ipython",
    "version": 3
   },
   "file_extension": ".py",
   "mimetype": "text/x-python",
   "name": "python",
   "nbconvert_exporter": "python",
   "pygments_lexer": "ipython3",
   "version": "3.11.9"
  }
 },
 "nbformat": 4,
 "nbformat_minor": 5
}
