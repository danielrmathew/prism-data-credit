{
 "cells": [
  {
   "cell_type": "code",
   "execution_count": 115,
   "id": "85086790-f73c-4f11-b6b5-9f30020ee476",
   "metadata": {},
   "outputs": [],
   "source": [
    "import pandas as pd\n",
    "import numpy as np\n",
    "import matplotlib.pyplot as plt"
   ]
  },
  {
   "cell_type": "markdown",
   "id": "8b3c89ac-9dba-4073-8df8-178b0762e0ee",
   "metadata": {},
   "source": [
    "## Week 1"
   ]
  },
  {
   "cell_type": "code",
   "execution_count": 24,
   "id": "303033a3-6fd7-474b-b72f-aa1a18fd309d",
   "metadata": {
    "scrolled": true
   },
   "outputs": [
    {
     "data": {
      "text/html": [
       "<div>\n",
       "<style scoped>\n",
       "    .dataframe tbody tr th:only-of-type {\n",
       "        vertical-align: middle;\n",
       "    }\n",
       "\n",
       "    .dataframe tbody tr th {\n",
       "        vertical-align: top;\n",
       "    }\n",
       "\n",
       "    .dataframe thead th {\n",
       "        text-align: right;\n",
       "    }\n",
       "</style>\n",
       "<table border=\"1\" class=\"dataframe\">\n",
       "  <thead>\n",
       "    <tr style=\"text-align: right;\">\n",
       "      <th></th>\n",
       "      <th>prism_consumer_id</th>\n",
       "      <th>prism_account_id</th>\n",
       "      <th>memo</th>\n",
       "      <th>amount</th>\n",
       "      <th>posted_date</th>\n",
       "      <th>category</th>\n",
       "    </tr>\n",
       "  </thead>\n",
       "  <tbody>\n",
       "    <tr>\n",
       "      <th>0</th>\n",
       "      <td>0</td>\n",
       "      <td>acc_0</td>\n",
       "      <td>PAYCHECK</td>\n",
       "      <td>2477.02</td>\n",
       "      <td>2022-03-18</td>\n",
       "      <td>PAYCHECK</td>\n",
       "    </tr>\n",
       "    <tr>\n",
       "      <th>1</th>\n",
       "      <td>0</td>\n",
       "      <td>acc_0</td>\n",
       "      <td>EXTERNAL_TRANSFER</td>\n",
       "      <td>100.00</td>\n",
       "      <td>2022-10-25</td>\n",
       "      <td>EXTERNAL_TRANSFER</td>\n",
       "    </tr>\n",
       "    <tr>\n",
       "      <th>2</th>\n",
       "      <td>0</td>\n",
       "      <td>acc_0</td>\n",
       "      <td>MISCELLANEOUS</td>\n",
       "      <td>6.29</td>\n",
       "      <td>2022-08-26</td>\n",
       "      <td>MISCELLANEOUS</td>\n",
       "    </tr>\n",
       "    <tr>\n",
       "      <th>3</th>\n",
       "      <td>0</td>\n",
       "      <td>acc_0</td>\n",
       "      <td>EXTERNAL_TRANSFER</td>\n",
       "      <td>277.00</td>\n",
       "      <td>2022-06-03</td>\n",
       "      <td>EXTERNAL_TRANSFER</td>\n",
       "    </tr>\n",
       "    <tr>\n",
       "      <th>4</th>\n",
       "      <td>0</td>\n",
       "      <td>acc_0</td>\n",
       "      <td>EXTERNAL_TRANSFER</td>\n",
       "      <td>100.00</td>\n",
       "      <td>2022-07-29</td>\n",
       "      <td>EXTERNAL_TRANSFER</td>\n",
       "    </tr>\n",
       "  </tbody>\n",
       "</table>\n",
       "</div>"
      ],
      "text/plain": [
       "   prism_consumer_id prism_account_id               memo   amount posted_date  \\\n",
       "0                  0            acc_0           PAYCHECK  2477.02  2022-03-18   \n",
       "1                  0            acc_0  EXTERNAL_TRANSFER   100.00  2022-10-25   \n",
       "2                  0            acc_0      MISCELLANEOUS     6.29  2022-08-26   \n",
       "3                  0            acc_0  EXTERNAL_TRANSFER   277.00  2022-06-03   \n",
       "4                  0            acc_0  EXTERNAL_TRANSFER   100.00  2022-07-29   \n",
       "\n",
       "            category  \n",
       "0           PAYCHECK  \n",
       "1  EXTERNAL_TRANSFER  \n",
       "2      MISCELLANEOUS  \n",
       "3  EXTERNAL_TRANSFER  \n",
       "4  EXTERNAL_TRANSFER  "
      ]
     },
     "metadata": {},
     "output_type": "display_data"
    },
    {
     "data": {
      "text/html": [
       "<div>\n",
       "<style scoped>\n",
       "    .dataframe tbody tr th:only-of-type {\n",
       "        vertical-align: middle;\n",
       "    }\n",
       "\n",
       "    .dataframe tbody tr th {\n",
       "        vertical-align: top;\n",
       "    }\n",
       "\n",
       "    .dataframe thead th {\n",
       "        text-align: right;\n",
       "    }\n",
       "</style>\n",
       "<table border=\"1\" class=\"dataframe\">\n",
       "  <thead>\n",
       "    <tr style=\"text-align: right;\">\n",
       "      <th></th>\n",
       "      <th>prism_consumer_id</th>\n",
       "      <th>prism_account_id</th>\n",
       "      <th>memo</th>\n",
       "      <th>amount</th>\n",
       "      <th>posted_date</th>\n",
       "      <th>category</th>\n",
       "    </tr>\n",
       "  </thead>\n",
       "  <tbody>\n",
       "    <tr>\n",
       "      <th>0</th>\n",
       "      <td>0</td>\n",
       "      <td>acc_0</td>\n",
       "      <td>LOAN</td>\n",
       "      <td>900.60</td>\n",
       "      <td>2022-07-05</td>\n",
       "      <td>LOAN</td>\n",
       "    </tr>\n",
       "    <tr>\n",
       "      <th>1</th>\n",
       "      <td>0</td>\n",
       "      <td>acc_0</td>\n",
       "      <td>ATM_CASH</td>\n",
       "      <td>80.00</td>\n",
       "      <td>2022-03-25</td>\n",
       "      <td>ATM_CASH</td>\n",
       "    </tr>\n",
       "    <tr>\n",
       "      <th>2</th>\n",
       "      <td>0</td>\n",
       "      <td>acc_0</td>\n",
       "      <td>TST* Casa Del Rio - Exp Fairlawn OH 09/24</td>\n",
       "      <td>18.42</td>\n",
       "      <td>2022-09-26</td>\n",
       "      <td>FOOD_AND_BEVERAGES</td>\n",
       "    </tr>\n",
       "    <tr>\n",
       "      <th>3</th>\n",
       "      <td>0</td>\n",
       "      <td>acc_0</td>\n",
       "      <td>LOAN</td>\n",
       "      <td>634.00</td>\n",
       "      <td>2023-01-10</td>\n",
       "      <td>LOAN</td>\n",
       "    </tr>\n",
       "    <tr>\n",
       "      <th>4</th>\n",
       "      <td>0</td>\n",
       "      <td>acc_0</td>\n",
       "      <td>Buffalo Wild Wings</td>\n",
       "      <td>26.47</td>\n",
       "      <td>2022-09-12</td>\n",
       "      <td>FOOD_AND_BEVERAGES</td>\n",
       "    </tr>\n",
       "  </tbody>\n",
       "</table>\n",
       "</div>"
      ],
      "text/plain": [
       "   prism_consumer_id prism_account_id  \\\n",
       "0                  0            acc_0   \n",
       "1                  0            acc_0   \n",
       "2                  0            acc_0   \n",
       "3                  0            acc_0   \n",
       "4                  0            acc_0   \n",
       "\n",
       "                                        memo  amount posted_date  \\\n",
       "0                                       LOAN  900.60  2022-07-05   \n",
       "1                                   ATM_CASH   80.00  2022-03-25   \n",
       "2  TST* Casa Del Rio - Exp Fairlawn OH 09/24   18.42  2022-09-26   \n",
       "3                                       LOAN  634.00  2023-01-10   \n",
       "4                         Buffalo Wild Wings   26.47  2022-09-12   \n",
       "\n",
       "             category  \n",
       "0                LOAN  \n",
       "1            ATM_CASH  \n",
       "2  FOOD_AND_BEVERAGES  \n",
       "3                LOAN  \n",
       "4  FOOD_AND_BEVERAGES  "
      ]
     },
     "metadata": {},
     "output_type": "display_data"
    }
   ],
   "source": [
    "inflows = pd.read_parquet('../data/ucsd-inflows.pqt')\n",
    "outflows = pd.read_parquet('../data/ucsd-outflows.pqt')\n",
    "\n",
    "display(inflows.head(), outflows.head())"
   ]
  },
  {
   "cell_type": "code",
   "execution_count": 25,
   "id": "995ae958-c7eb-4391-806a-5190bf98b0e4",
   "metadata": {},
   "outputs": [],
   "source": [
    "outflows.posted_date = pd.to_datetime(outflows.posted_date)"
   ]
  },
  {
   "cell_type": "markdown",
   "id": "791ccfba-cca6-43eb-a20e-b53dea55a13f",
   "metadata": {},
   "source": [
    "I create a subset of `outflows` that doesn't include rows where `memo == category` because these are the rows that we train our model on to predict `category`."
   ]
  },
  {
   "cell_type": "code",
   "execution_count": 4,
   "id": "ff58c9a1-2816-403c-b7f1-1a8265fb7d7b",
   "metadata": {
    "scrolled": true
   },
   "outputs": [
    {
     "data": {
      "text/html": [
       "<div>\n",
       "<style scoped>\n",
       "    .dataframe tbody tr th:only-of-type {\n",
       "        vertical-align: middle;\n",
       "    }\n",
       "\n",
       "    .dataframe tbody tr th {\n",
       "        vertical-align: top;\n",
       "    }\n",
       "\n",
       "    .dataframe thead th {\n",
       "        text-align: right;\n",
       "    }\n",
       "</style>\n",
       "<table border=\"1\" class=\"dataframe\">\n",
       "  <thead>\n",
       "    <tr style=\"text-align: right;\">\n",
       "      <th></th>\n",
       "      <th>prism_consumer_id</th>\n",
       "      <th>prism_account_id</th>\n",
       "      <th>memo</th>\n",
       "      <th>amount</th>\n",
       "      <th>posted_date</th>\n",
       "      <th>category</th>\n",
       "    </tr>\n",
       "  </thead>\n",
       "  <tbody>\n",
       "    <tr>\n",
       "      <th>0</th>\n",
       "      <td>0</td>\n",
       "      <td>acc_0</td>\n",
       "      <td>TST* Casa Del Rio - Exp Fairlawn OH 09/24</td>\n",
       "      <td>18.42</td>\n",
       "      <td>2022-09-26</td>\n",
       "      <td>FOOD_AND_BEVERAGES</td>\n",
       "    </tr>\n",
       "    <tr>\n",
       "      <th>1</th>\n",
       "      <td>0</td>\n",
       "      <td>acc_0</td>\n",
       "      <td>Buffalo Wild Wings</td>\n",
       "      <td>26.47</td>\n",
       "      <td>2022-09-12</td>\n",
       "      <td>FOOD_AND_BEVERAGES</td>\n",
       "    </tr>\n",
       "    <tr>\n",
       "      <th>2</th>\n",
       "      <td>0</td>\n",
       "      <td>acc_0</td>\n",
       "      <td>Oculus CA 04/16</td>\n",
       "      <td>11.73</td>\n",
       "      <td>2022-04-18</td>\n",
       "      <td>GENERAL_MERCHANDISE</td>\n",
       "    </tr>\n",
       "    <tr>\n",
       "      <th>3</th>\n",
       "      <td>0</td>\n",
       "      <td>acc_0</td>\n",
       "      <td>LOS GIRASOLES STOW OH 03/08</td>\n",
       "      <td>30.04</td>\n",
       "      <td>2022-03-09</td>\n",
       "      <td>FOOD_AND_BEVERAGES</td>\n",
       "    </tr>\n",
       "    <tr>\n",
       "      <th>4</th>\n",
       "      <td>0</td>\n",
       "      <td>acc_0</td>\n",
       "      <td>BUZZIS LAUNDRY 1 OH 03/28</td>\n",
       "      <td>4.16</td>\n",
       "      <td>2022-03-29</td>\n",
       "      <td>GENERAL_MERCHANDISE</td>\n",
       "    </tr>\n",
       "  </tbody>\n",
       "</table>\n",
       "</div>"
      ],
      "text/plain": [
       "   prism_consumer_id prism_account_id  \\\n",
       "0                  0            acc_0   \n",
       "1                  0            acc_0   \n",
       "2                  0            acc_0   \n",
       "3                  0            acc_0   \n",
       "4                  0            acc_0   \n",
       "\n",
       "                                        memo  amount posted_date  \\\n",
       "0  TST* Casa Del Rio - Exp Fairlawn OH 09/24   18.42  2022-09-26   \n",
       "1                         Buffalo Wild Wings   26.47  2022-09-12   \n",
       "2                            Oculus CA 04/16   11.73  2022-04-18   \n",
       "3                LOS GIRASOLES STOW OH 03/08   30.04  2022-03-09   \n",
       "4                  BUZZIS LAUNDRY 1 OH 03/28    4.16  2022-03-29   \n",
       "\n",
       "              category  \n",
       "0   FOOD_AND_BEVERAGES  \n",
       "1   FOOD_AND_BEVERAGES  \n",
       "2  GENERAL_MERCHANDISE  \n",
       "3   FOOD_AND_BEVERAGES  \n",
       "4  GENERAL_MERCHANDISE  "
      ]
     },
     "execution_count": 4,
     "metadata": {},
     "output_type": "execute_result"
    }
   ],
   "source": [
    "outflows_with_memo = outflows[~(outflows.memo == outflows.category)].reset_index().drop(columns='index')\n",
    "outflows_with_memo.head()"
   ]
  },
  {
   "cell_type": "markdown",
   "id": "a7ca93cf-a9db-4c1f-97fe-dd267aac5cbd",
   "metadata": {},
   "source": [
    "#### EDA"
   ]
  },
  {
   "cell_type": "markdown",
   "id": "dd8b7590-20eb-4a24-90fb-f2fcc7f79e10",
   "metadata": {},
   "source": [
    "## WEEK 2 - Train Test Split"
   ]
  },
  {
   "cell_type": "code",
   "execution_count": 17,
   "id": "61269160-ed58-42f4-8960-22f86433686b",
   "metadata": {},
   "outputs": [],
   "source": [
    "from sklearn.model_selection import train_test_split"
   ]
  },
  {
   "cell_type": "markdown",
   "id": "cb8fe866-1472-435e-8cf2-c5b70c2150a3",
   "metadata": {},
   "source": [
    "#### Sample by consumer instead of transaction to avoid sampling bias"
   ]
  },
  {
   "cell_type": "markdown",
   "id": "18f20a52-9cc0-4187-852b-b5568fbbb6b2",
   "metadata": {},
   "source": [
    "**From here on out, I only work with `outflows_with_memo` because that is the subset of the data we were told to work with.** This doesn't include rows where `memo == category`, and thereby includes rows that are pivotal to our prediction task."
   ]
  },
  {
   "cell_type": "code",
   "execution_count": 18,
   "id": "2dc1797a-c5e8-40be-88ae-7804db980a8e",
   "metadata": {},
   "outputs": [],
   "source": [
    "def dataset_split(dataset):\n",
    "    # get unique consumer ids\n",
    "    ids = dataset.prism_consumer_id.unique()\n",
    "    train_ids, test_ids = train_test_split(ids, test_size=0.25)\n",
    "\n",
    "    # split customer_ids into train and test sets\n",
    "    train = dataset[dataset['prism_consumer_id'].isin(train_ids)]\n",
    "    test = dataset[dataset['prism_consumer_id'].isin(test_ids)]\n",
    "\n",
    "    return train, test"
   ]
  },
  {
   "cell_type": "code",
   "execution_count": 7,
   "id": "7ea336d3-9400-4969-8d53-abaad86d280f",
   "metadata": {},
   "outputs": [],
   "source": [
    "outflows_memo_train, outflows_memo_test = dataset_split(outflows_with_memo)"
   ]
  },
  {
   "cell_type": "markdown",
   "id": "44628dfd-033d-46d7-88d8-16faaa8fca23",
   "metadata": {},
   "source": [
    "For the subset of outflows that doesn't have the category given in the memo"
   ]
  },
  {
   "cell_type": "code",
   "execution_count": 8,
   "id": "38b4a45b-6894-4eb2-aae2-3b5bc6966b4e",
   "metadata": {},
   "outputs": [
    {
     "name": "stdout",
     "output_type": "stream",
     "text": [
      "# of unique IDS: 2952, # of unique train IDS: 2214, # of unique test IDS: 738\n"
     ]
    }
   ],
   "source": [
    "print(f'# of unique IDS: {len(outflows_with_memo.prism_consumer_id.unique())}, # of unique train IDS: {len(outflows_memo_train.prism_consumer_id.unique())}, # of unique test IDS: {len(outflows_memo_test.prism_consumer_id.unique())}')"
   ]
  },
  {
   "cell_type": "code",
   "execution_count": 11,
   "id": "0bd8d00f-9b3b-40a7-a302-6434c91126a1",
   "metadata": {},
   "outputs": [
    {
     "data": {
      "text/html": [
       "<div>\n",
       "<style scoped>\n",
       "    .dataframe tbody tr th:only-of-type {\n",
       "        vertical-align: middle;\n",
       "    }\n",
       "\n",
       "    .dataframe tbody tr th {\n",
       "        vertical-align: top;\n",
       "    }\n",
       "\n",
       "    .dataframe thead th {\n",
       "        text-align: right;\n",
       "    }\n",
       "</style>\n",
       "<table border=\"1\" class=\"dataframe\">\n",
       "  <thead>\n",
       "    <tr style=\"text-align: right;\">\n",
       "      <th></th>\n",
       "      <th>prism_consumer_id</th>\n",
       "      <th>amount</th>\n",
       "      <th>posted_date</th>\n",
       "    </tr>\n",
       "  </thead>\n",
       "  <tbody>\n",
       "    <tr>\n",
       "      <th>count</th>\n",
       "      <td>1306452.00000</td>\n",
       "      <td>1306452.00000</td>\n",
       "      <td>1306452.00000</td>\n",
       "    </tr>\n",
       "    <tr>\n",
       "      <th>mean</th>\n",
       "      <td>3182.59410</td>\n",
       "      <td>53.89793</td>\n",
       "      <td>.5f</td>\n",
       "    </tr>\n",
       "    <tr>\n",
       "      <th>min</th>\n",
       "      <td>0.00000</td>\n",
       "      <td>0.00000</td>\n",
       "      <td>.5f</td>\n",
       "    </tr>\n",
       "    <tr>\n",
       "      <th>25%</th>\n",
       "      <td>1501.00000</td>\n",
       "      <td>9.00000</td>\n",
       "      <td>.5f</td>\n",
       "    </tr>\n",
       "    <tr>\n",
       "      <th>50%</th>\n",
       "      <td>3421.00000</td>\n",
       "      <td>19.47000</td>\n",
       "      <td>.5f</td>\n",
       "    </tr>\n",
       "    <tr>\n",
       "      <th>75%</th>\n",
       "      <td>4787.00000</td>\n",
       "      <td>42.58000</td>\n",
       "      <td>.5f</td>\n",
       "    </tr>\n",
       "    <tr>\n",
       "      <th>max</th>\n",
       "      <td>5943.00000</td>\n",
       "      <td>280171.35000</td>\n",
       "      <td>.5f</td>\n",
       "    </tr>\n",
       "    <tr>\n",
       "      <th>std</th>\n",
       "      <td>1801.11219</td>\n",
       "      <td>635.18547</td>\n",
       "      <td>nan</td>\n",
       "    </tr>\n",
       "  </tbody>\n",
       "</table>\n",
       "</div>"
      ],
      "text/plain": [
       "      prism_consumer_id         amount    posted_date\n",
       "count     1306452.00000  1306452.00000  1306452.00000\n",
       "mean         3182.59410       53.89793            .5f\n",
       "min             0.00000        0.00000            .5f\n",
       "25%          1501.00000        9.00000            .5f\n",
       "50%          3421.00000       19.47000            .5f\n",
       "75%          4787.00000       42.58000            .5f\n",
       "max          5943.00000   280171.35000            .5f\n",
       "std          1801.11219      635.18547            nan"
      ]
     },
     "execution_count": 11,
     "metadata": {},
     "output_type": "execute_result"
    }
   ],
   "source": [
    "outflows_with_memo.describe().apply(lambda s: s.apply('{0:.5f}'.format))"
   ]
  },
  {
   "cell_type": "code",
   "execution_count": 12,
   "id": "8e480aff-f673-4f8a-af5c-1d792aa72648",
   "metadata": {},
   "outputs": [
    {
     "data": {
      "text/html": [
       "<div>\n",
       "<style scoped>\n",
       "    .dataframe tbody tr th:only-of-type {\n",
       "        vertical-align: middle;\n",
       "    }\n",
       "\n",
       "    .dataframe tbody tr th {\n",
       "        vertical-align: top;\n",
       "    }\n",
       "\n",
       "    .dataframe thead th {\n",
       "        text-align: right;\n",
       "    }\n",
       "</style>\n",
       "<table border=\"1\" class=\"dataframe\">\n",
       "  <thead>\n",
       "    <tr style=\"text-align: right;\">\n",
       "      <th></th>\n",
       "      <th>prism_consumer_id</th>\n",
       "      <th>amount</th>\n",
       "      <th>posted_date</th>\n",
       "    </tr>\n",
       "  </thead>\n",
       "  <tbody>\n",
       "    <tr>\n",
       "      <th>count</th>\n",
       "      <td>983268.00000</td>\n",
       "      <td>983268.00000</td>\n",
       "      <td>983268.00000</td>\n",
       "    </tr>\n",
       "    <tr>\n",
       "      <th>mean</th>\n",
       "      <td>3165.28376</td>\n",
       "      <td>54.79010</td>\n",
       "      <td>.5f</td>\n",
       "    </tr>\n",
       "    <tr>\n",
       "      <th>min</th>\n",
       "      <td>0.00000</td>\n",
       "      <td>0.00000</td>\n",
       "      <td>.5f</td>\n",
       "    </tr>\n",
       "    <tr>\n",
       "      <th>25%</th>\n",
       "      <td>1437.00000</td>\n",
       "      <td>9.00000</td>\n",
       "      <td>.5f</td>\n",
       "    </tr>\n",
       "    <tr>\n",
       "      <th>50%</th>\n",
       "      <td>3384.00000</td>\n",
       "      <td>19.48000</td>\n",
       "      <td>.5f</td>\n",
       "    </tr>\n",
       "    <tr>\n",
       "      <th>75%</th>\n",
       "      <td>4828.00000</td>\n",
       "      <td>42.54000</td>\n",
       "      <td>.5f</td>\n",
       "    </tr>\n",
       "    <tr>\n",
       "      <th>max</th>\n",
       "      <td>5940.00000</td>\n",
       "      <td>279412.00000</td>\n",
       "      <td>.5f</td>\n",
       "    </tr>\n",
       "    <tr>\n",
       "      <th>std</th>\n",
       "      <td>1820.39865</td>\n",
       "      <td>659.81185</td>\n",
       "      <td>nan</td>\n",
       "    </tr>\n",
       "  </tbody>\n",
       "</table>\n",
       "</div>"
      ],
      "text/plain": [
       "      prism_consumer_id        amount   posted_date\n",
       "count      983268.00000  983268.00000  983268.00000\n",
       "mean         3165.28376      54.79010           .5f\n",
       "min             0.00000       0.00000           .5f\n",
       "25%          1437.00000       9.00000           .5f\n",
       "50%          3384.00000      19.48000           .5f\n",
       "75%          4828.00000      42.54000           .5f\n",
       "max          5940.00000  279412.00000           .5f\n",
       "std          1820.39865     659.81185           nan"
      ]
     },
     "execution_count": 12,
     "metadata": {},
     "output_type": "execute_result"
    }
   ],
   "source": [
    "outflows_memo_train.describe().apply(lambda s: s.apply('{0:.5f}'.format))"
   ]
  },
  {
   "cell_type": "code",
   "execution_count": 13,
   "id": "1c5773cf-8147-4b21-99bd-8a0db4d410bc",
   "metadata": {},
   "outputs": [
    {
     "data": {
      "text/html": [
       "<div>\n",
       "<style scoped>\n",
       "    .dataframe tbody tr th:only-of-type {\n",
       "        vertical-align: middle;\n",
       "    }\n",
       "\n",
       "    .dataframe tbody tr th {\n",
       "        vertical-align: top;\n",
       "    }\n",
       "\n",
       "    .dataframe thead th {\n",
       "        text-align: right;\n",
       "    }\n",
       "</style>\n",
       "<table border=\"1\" class=\"dataframe\">\n",
       "  <thead>\n",
       "    <tr style=\"text-align: right;\">\n",
       "      <th></th>\n",
       "      <th>prism_consumer_id</th>\n",
       "      <th>amount</th>\n",
       "      <th>posted_date</th>\n",
       "    </tr>\n",
       "  </thead>\n",
       "  <tbody>\n",
       "    <tr>\n",
       "      <th>count</th>\n",
       "      <td>323184.00000</td>\n",
       "      <td>323184.00000</td>\n",
       "      <td>323184.00000</td>\n",
       "    </tr>\n",
       "    <tr>\n",
       "      <th>mean</th>\n",
       "      <td>3235.25978</td>\n",
       "      <td>51.18357</td>\n",
       "      <td>.5f</td>\n",
       "    </tr>\n",
       "    <tr>\n",
       "      <th>min</th>\n",
       "      <td>2.00000</td>\n",
       "      <td>0.00000</td>\n",
       "      <td>.5f</td>\n",
       "    </tr>\n",
       "    <tr>\n",
       "      <th>25%</th>\n",
       "      <td>1653.00000</td>\n",
       "      <td>9.00000</td>\n",
       "      <td>.5f</td>\n",
       "    </tr>\n",
       "    <tr>\n",
       "      <th>50%</th>\n",
       "      <td>3513.00000</td>\n",
       "      <td>19.45000</td>\n",
       "      <td>.5f</td>\n",
       "    </tr>\n",
       "    <tr>\n",
       "      <th>75%</th>\n",
       "      <td>4648.00000</td>\n",
       "      <td>42.68000</td>\n",
       "      <td>.5f</td>\n",
       "    </tr>\n",
       "    <tr>\n",
       "      <th>max</th>\n",
       "      <td>5943.00000</td>\n",
       "      <td>280171.35000</td>\n",
       "      <td>.5f</td>\n",
       "    </tr>\n",
       "    <tr>\n",
       "      <th>std</th>\n",
       "      <td>1740.06515</td>\n",
       "      <td>553.55676</td>\n",
       "      <td>nan</td>\n",
       "    </tr>\n",
       "  </tbody>\n",
       "</table>\n",
       "</div>"
      ],
      "text/plain": [
       "      prism_consumer_id        amount   posted_date\n",
       "count      323184.00000  323184.00000  323184.00000\n",
       "mean         3235.25978      51.18357           .5f\n",
       "min             2.00000       0.00000           .5f\n",
       "25%          1653.00000       9.00000           .5f\n",
       "50%          3513.00000      19.45000           .5f\n",
       "75%          4648.00000      42.68000           .5f\n",
       "max          5943.00000  280171.35000           .5f\n",
       "std          1740.06515     553.55676           nan"
      ]
     },
     "execution_count": 13,
     "metadata": {},
     "output_type": "execute_result"
    }
   ],
   "source": [
    "outflows_memo_test.describe().apply(lambda s: s.apply('{0:.5f}'.format))"
   ]
  },
  {
   "cell_type": "markdown",
   "id": "21459ddf-2bd8-43b6-b404-a34f7aeab433",
   "metadata": {},
   "source": [
    "#### TODO include statistical tests to ensure distributions are similar"
   ]
  },
  {
   "cell_type": "code",
   "execution_count": null,
   "id": "da63e441-92b2-4480-b842-640c94268e5b",
   "metadata": {},
   "outputs": [],
   "source": []
  },
  {
   "cell_type": "code",
   "execution_count": null,
   "id": "1ea38d47-6cc1-44b5-aa03-679ee2bb8eba",
   "metadata": {},
   "outputs": [],
   "source": []
  },
  {
   "cell_type": "code",
   "execution_count": null,
   "id": "cb9f3145-1012-4aa7-a162-a8c90f8afca6",
   "metadata": {},
   "outputs": [],
   "source": []
  },
  {
   "cell_type": "markdown",
   "id": "71efded3-6f85-4ac3-9700-99251bd4d8cb",
   "metadata": {},
   "source": [
    "## WEEK 3 - Memo Cleaning"
   ]
  },
  {
   "cell_type": "code",
   "execution_count": 9,
   "id": "0de64dc6-bdea-47ed-81fb-bc489fff0043",
   "metadata": {},
   "outputs": [],
   "source": [
    "import re"
   ]
  },
  {
   "cell_type": "code",
   "execution_count": 10,
   "id": "699ba22b-8a21-4cea-8651-a5194cd88775",
   "metadata": {},
   "outputs": [
    {
     "data": {
      "text/html": [
       "<div>\n",
       "<style scoped>\n",
       "    .dataframe tbody tr th:only-of-type {\n",
       "        vertical-align: middle;\n",
       "    }\n",
       "\n",
       "    .dataframe tbody tr th {\n",
       "        vertical-align: top;\n",
       "    }\n",
       "\n",
       "    .dataframe thead th {\n",
       "        text-align: right;\n",
       "    }\n",
       "</style>\n",
       "<table border=\"1\" class=\"dataframe\">\n",
       "  <thead>\n",
       "    <tr style=\"text-align: right;\">\n",
       "      <th></th>\n",
       "      <th>prism_consumer_id</th>\n",
       "      <th>prism_account_id</th>\n",
       "      <th>memo</th>\n",
       "      <th>amount</th>\n",
       "      <th>posted_date</th>\n",
       "      <th>category</th>\n",
       "    </tr>\n",
       "  </thead>\n",
       "  <tbody>\n",
       "    <tr>\n",
       "      <th>0</th>\n",
       "      <td>0</td>\n",
       "      <td>acc_0</td>\n",
       "      <td>TST* Casa Del Rio - Exp Fairlawn OH 09/24</td>\n",
       "      <td>18.42</td>\n",
       "      <td>2022-09-26</td>\n",
       "      <td>FOOD_AND_BEVERAGES</td>\n",
       "    </tr>\n",
       "    <tr>\n",
       "      <th>1</th>\n",
       "      <td>0</td>\n",
       "      <td>acc_0</td>\n",
       "      <td>Buffalo Wild Wings</td>\n",
       "      <td>26.47</td>\n",
       "      <td>2022-09-12</td>\n",
       "      <td>FOOD_AND_BEVERAGES</td>\n",
       "    </tr>\n",
       "    <tr>\n",
       "      <th>2</th>\n",
       "      <td>0</td>\n",
       "      <td>acc_0</td>\n",
       "      <td>Oculus CA 04/16</td>\n",
       "      <td>11.73</td>\n",
       "      <td>2022-04-18</td>\n",
       "      <td>GENERAL_MERCHANDISE</td>\n",
       "    </tr>\n",
       "    <tr>\n",
       "      <th>3</th>\n",
       "      <td>0</td>\n",
       "      <td>acc_0</td>\n",
       "      <td>LOS GIRASOLES STOW OH 03/08</td>\n",
       "      <td>30.04</td>\n",
       "      <td>2022-03-09</td>\n",
       "      <td>FOOD_AND_BEVERAGES</td>\n",
       "    </tr>\n",
       "    <tr>\n",
       "      <th>4</th>\n",
       "      <td>0</td>\n",
       "      <td>acc_0</td>\n",
       "      <td>BUZZIS LAUNDRY 1 OH 03/28</td>\n",
       "      <td>4.16</td>\n",
       "      <td>2022-03-29</td>\n",
       "      <td>GENERAL_MERCHANDISE</td>\n",
       "    </tr>\n",
       "  </tbody>\n",
       "</table>\n",
       "</div>"
      ],
      "text/plain": [
       "   prism_consumer_id prism_account_id  \\\n",
       "0                  0            acc_0   \n",
       "1                  0            acc_0   \n",
       "2                  0            acc_0   \n",
       "3                  0            acc_0   \n",
       "4                  0            acc_0   \n",
       "\n",
       "                                        memo  amount posted_date  \\\n",
       "0  TST* Casa Del Rio - Exp Fairlawn OH 09/24   18.42  2022-09-26   \n",
       "1                         Buffalo Wild Wings   26.47  2022-09-12   \n",
       "2                            Oculus CA 04/16   11.73  2022-04-18   \n",
       "3                LOS GIRASOLES STOW OH 03/08   30.04  2022-03-09   \n",
       "4                  BUZZIS LAUNDRY 1 OH 03/28    4.16  2022-03-29   \n",
       "\n",
       "              category  \n",
       "0   FOOD_AND_BEVERAGES  \n",
       "1   FOOD_AND_BEVERAGES  \n",
       "2  GENERAL_MERCHANDISE  \n",
       "3   FOOD_AND_BEVERAGES  \n",
       "4  GENERAL_MERCHANDISE  "
      ]
     },
     "execution_count": 10,
     "metadata": {},
     "output_type": "execute_result"
    }
   ],
   "source": [
    "outflows_with_memo.head()"
   ]
  },
  {
   "cell_type": "markdown",
   "id": "86631e42-1db7-42fd-9f4a-e152912a3c33",
   "metadata": {},
   "source": [
    "#### Memo cleaning steps:\n",
    "- did more complex preprocessing first \n",
    "    - lemmatizer? (might not be good for this because it could stem words it shouldn't\n",
    "    - same thing for stop words\n",
    "    - remove dates (regex search mm/yy) and location addresses\n",
    "    - get rid of email addresses -- TODO \n",
    "    - trans 1 @ $1.00 -- TODO\n",
    "- simple preprocessing\n",
    "    - lowercase \n",
    "    - remove punctuation (,-*#_')\n",
    "    - remove XXXX, even amount of X's\n",
    "    - remove purchase authorized on\n",
    "    - remove purchase, checkcard\n",
    "- should not preprocess memos that are the same category"
   ]
  },
  {
   "cell_type": "code",
   "execution_count": 11,
   "id": "4b457b57-8e56-4fc6-a360-c269433100d0",
   "metadata": {
    "scrolled": true
   },
   "outputs": [],
   "source": [
    "# memos[memos.str.contains('@')].values[:1000]"
   ]
  },
  {
   "cell_type": "code",
   "execution_count": 12,
   "id": "113070f9-e8ca-490d-8898-fb52e44b1123",
   "metadata": {
    "scrolled": true
   },
   "outputs": [],
   "source": [
    "# # looking at \n",
    "# test = memos.str.replace(r'trans \\d+ @ \\$\\d+\\.\\d{2}', 'testing', regex=True)\n",
    "# test[(test.str.contains('@'))].values[:1000]"
   ]
  },
  {
   "cell_type": "code",
   "execution_count": 13,
   "id": "c24f1b2a-5d9e-42fe-85e3-9c7a38e07ecd",
   "metadata": {
    "scrolled": true
   },
   "outputs": [],
   "source": [
    "# memos[(memos.str.contains('@'))].values[:1000]"
   ]
  },
  {
   "cell_type": "code",
   "execution_count": 24,
   "id": "9771c072-6aa0-4419-a1d3-bac53e177a8e",
   "metadata": {},
   "outputs": [],
   "source": [
    "# my memo function\n",
    "def clean_memos(memos):\n",
    "    pattern_X = r'\\b\\w*x{2,}\\w*\\b'\n",
    "    pattern_dates = r'\\b(0[1-9]|1[0-2])(\\/|-)[0-9]{2}\\b'\n",
    "    pattern_special = r\"[,'*#_-]\"\n",
    "\n",
    "    state_abbreviations = [\n",
    "        \"al\", \"ak\", \"az\", \"ar\", \"ca\", \"co\", \"ct\", \"de\", \"fl\", \"ga\", \n",
    "        \"hi\", \"id\", \"il\", \"in\", \"ia\", \"ks\", \"ky\", \"la\", \"me\", \"md\", \n",
    "        \"ma\", \"mi\", \"mn\", \"ms\", \"mo\", \"mt\", \"ne\", \"nv\", \"nh\", \"nj\", \n",
    "        \"nm\", \"ny\", \"nc\", \"nd\", \"oh\", \"ok\", \"or\", \"pa\", \"ri\", \"sc\", \n",
    "        \"sd\", \"tn\", \"tx\", \"ut\", \"vt\", \"va\", \"wa\", \"wv\", \"wi\", \"wy\"\n",
    "    ]\n",
    "    pattern_state = r' (' + '|'.join(state_abbreviations) + r')\\b'\n",
    "    pattern_street = r'(street|st|road|rd|blvd|avenue|ave|highway|hwy)\\b'\n",
    "\n",
    "    cleaned_memos = (\n",
    "        memos.str.lower()\n",
    "            .str.replace(pattern_X, '', regex=True)                  # removing XXXX                        \n",
    "            .str.replace(pattern_dates, '', regex=True)              # removing dates\n",
    "            .str.replace(pattern_special, ' ', regex=True)            # removing unnecessary special characters\n",
    "            .str.replace(r'~', ' ', regex=True)                       # removing ~ (can't include in character class above)\n",
    "            .str.replace('purchase.* authorized on', '', regex=True) # removing common phrase\n",
    "            .str.replace('checkcard', '')                            # removing common phrase\n",
    "            .str.replace(pattern_state, '', regex=True)              # removing states\n",
    "            .str.strip()\n",
    "            .str.replace(pattern_street ,'', regex=True)\n",
    "            .str.strip()\n",
    "    )\n",
    "\n",
    "    cleaned_memos = cleaned_memos.reset_index().drop(columns='index').squeeze()\n",
    "\n",
    "    return cleaned_memos"
   ]
  },
  {
   "cell_type": "code",
   "execution_count": 20,
   "id": "aa764d04-9b54-493e-a019-c344d6e926ac",
   "metadata": {},
   "outputs": [],
   "source": [
    "# aman's memo function\n",
    "def clean_memo(memo):\n",
    "    sw = ['payment', 'transaction', 'deposit', 'withdrawal', 'transfer', 'credit', 'debit', 'refund', 'fee', 'charge', 'purchase', 'atm', 'checkcard']\n",
    "\n",
    "    memo = memo.lower()\n",
    "\n",
    "    memo = re.sub(r'[0-9]{3,}', '', memo) # remove instances of numbers more than 3 repeated\n",
    "    \n",
    "    memo = re.sub(r'x{3,}', '', memo) # remove the X's (ex. #XXXX)\n",
    "    memo = re.sub(r'^#[a-z0-9]+', '', memo) # remove the #smth @ start of memo\n",
    "    memo = re.sub(r'(www\\.|\\.com)', '', memo) # removing any links or urls\n",
    "\n",
    "    memo = re.sub(r'[0-9x]{2}((-|/)[0-9x]{2,4}){1,2}', '', memo) # remove dates\n",
    "\n",
    "    memo = re.sub(r'[^\\w\\s-]', ' ', memo)  # replace special characters with single space\n",
    "    memo = re.sub(r'([a-z]+)\\s{0,1}-\\s{0,1}([a-z]+)', r'\\1\\2', memo) # replace '-' w/ ''\n",
    "    memo = re.sub(r'\\s+', ' ', memo)  # remove multiple spaces\n",
    "\n",
    "    # location\n",
    "    state_abbreviations = [\n",
    "        \"al\", \"ak\", \"az\", \"ar\", \"ca\", \"co\", \"ct\", \"de\", \"fl\", \"ga\", \n",
    "        \"hi\", \"id\", \"il\", \"in\", \"ia\", \"ks\", \"ky\", \"la\", \"me\", \"md\", \n",
    "        \"ma\", \"mi\", \"mn\", \"ms\", \"mo\", \"mt\", \"ne\", \"nv\", \"nh\", \"nj\", \n",
    "        \"nm\", \"ny\", \"nc\", \"nd\", \"oh\", \"ok\", \"or\", \"pa\", \"ri\", \"sc\", \n",
    "        \"sd\", \"tn\", \"tx\", \"ut\", \"vt\", \"va\", \"wa\", \"wv\", \"wi\", \"wy\"\n",
    "    ]\n",
    "    state_pattern = r' (' + '|'.join(state_abbreviations) + r')\\b'\n",
    "    \n",
    "    memo = re.sub(r'(street|st|road|rd|blvd|avenue|ave|highway|hwy)\\b', '', memo)\n",
    "    memo = memo.strip()\n",
    "    memo = re.sub(state_pattern, '', memo)\n",
    "    memo = memo.strip()\n",
    "\n",
    "    merchant_map = {'wal walmart': 'walmart', 'walmart walmart': 'walmart', 'wal mart': 'walmart'}\n",
    "\n",
    "    if memo in merchant_map: return merchant_map[memo]\n",
    "    return memo"
   ]
  },
  {
   "cell_type": "code",
   "execution_count": 6,
   "id": "a031af2b-ba34-45b9-8f95-59d7d82a54ee",
   "metadata": {
    "scrolled": true
   },
   "outputs": [
    {
     "data": {
      "text/html": [
       "<div>\n",
       "<style scoped>\n",
       "    .dataframe tbody tr th:only-of-type {\n",
       "        vertical-align: middle;\n",
       "    }\n",
       "\n",
       "    .dataframe tbody tr th {\n",
       "        vertical-align: top;\n",
       "    }\n",
       "\n",
       "    .dataframe thead th {\n",
       "        text-align: right;\n",
       "    }\n",
       "</style>\n",
       "<table border=\"1\" class=\"dataframe\">\n",
       "  <thead>\n",
       "    <tr style=\"text-align: right;\">\n",
       "      <th></th>\n",
       "      <th>prism_consumer_id</th>\n",
       "      <th>prism_account_id</th>\n",
       "      <th>memo</th>\n",
       "      <th>amount</th>\n",
       "      <th>posted_date</th>\n",
       "      <th>category</th>\n",
       "    </tr>\n",
       "  </thead>\n",
       "  <tbody>\n",
       "    <tr>\n",
       "      <th>0</th>\n",
       "      <td>0</td>\n",
       "      <td>acc_0</td>\n",
       "      <td>TST* Casa Del Rio - Exp Fairlawn OH 09/24</td>\n",
       "      <td>18.42</td>\n",
       "      <td>2022-09-26</td>\n",
       "      <td>FOOD_AND_BEVERAGES</td>\n",
       "    </tr>\n",
       "    <tr>\n",
       "      <th>1</th>\n",
       "      <td>0</td>\n",
       "      <td>acc_0</td>\n",
       "      <td>Buffalo Wild Wings</td>\n",
       "      <td>26.47</td>\n",
       "      <td>2022-09-12</td>\n",
       "      <td>FOOD_AND_BEVERAGES</td>\n",
       "    </tr>\n",
       "    <tr>\n",
       "      <th>2</th>\n",
       "      <td>0</td>\n",
       "      <td>acc_0</td>\n",
       "      <td>Oculus CA 04/16</td>\n",
       "      <td>11.73</td>\n",
       "      <td>2022-04-18</td>\n",
       "      <td>GENERAL_MERCHANDISE</td>\n",
       "    </tr>\n",
       "    <tr>\n",
       "      <th>3</th>\n",
       "      <td>0</td>\n",
       "      <td>acc_0</td>\n",
       "      <td>LOS GIRASOLES STOW OH 03/08</td>\n",
       "      <td>30.04</td>\n",
       "      <td>2022-03-09</td>\n",
       "      <td>FOOD_AND_BEVERAGES</td>\n",
       "    </tr>\n",
       "    <tr>\n",
       "      <th>4</th>\n",
       "      <td>0</td>\n",
       "      <td>acc_0</td>\n",
       "      <td>BUZZIS LAUNDRY 1 OH 03/28</td>\n",
       "      <td>4.16</td>\n",
       "      <td>2022-03-29</td>\n",
       "      <td>GENERAL_MERCHANDISE</td>\n",
       "    </tr>\n",
       "  </tbody>\n",
       "</table>\n",
       "</div>"
      ],
      "text/plain": [
       "   prism_consumer_id prism_account_id  \\\n",
       "0                  0            acc_0   \n",
       "1                  0            acc_0   \n",
       "2                  0            acc_0   \n",
       "3                  0            acc_0   \n",
       "4                  0            acc_0   \n",
       "\n",
       "                                        memo  amount posted_date  \\\n",
       "0  TST* Casa Del Rio - Exp Fairlawn OH 09/24   18.42  2022-09-26   \n",
       "1                         Buffalo Wild Wings   26.47  2022-09-12   \n",
       "2                            Oculus CA 04/16   11.73  2022-04-18   \n",
       "3                LOS GIRASOLES STOW OH 03/08   30.04  2022-03-09   \n",
       "4                  BUZZIS LAUNDRY 1 OH 03/28    4.16  2022-03-29   \n",
       "\n",
       "              category  \n",
       "0   FOOD_AND_BEVERAGES  \n",
       "1   FOOD_AND_BEVERAGES  \n",
       "2  GENERAL_MERCHANDISE  \n",
       "3   FOOD_AND_BEVERAGES  \n",
       "4  GENERAL_MERCHANDISE  "
      ]
     },
     "execution_count": 6,
     "metadata": {},
     "output_type": "execute_result"
    }
   ],
   "source": [
    "outflows_with_memo.head()"
   ]
  },
  {
   "cell_type": "code",
   "execution_count": null,
   "id": "1ccc067c-f4e3-4c8b-83c7-4f25821e6947",
   "metadata": {},
   "outputs": [],
   "source": []
  },
  {
   "cell_type": "code",
   "execution_count": 25,
   "id": "a9c5ab0f-ffd5-4fd4-8fb8-fb4cf53ce1f1",
   "metadata": {},
   "outputs": [
    {
     "data": {
      "text/plain": [
       "0                             t  casa del rio   exp fairlawn\n",
       "1                                         buffalo wild wings\n",
       "2                                                     oculus\n",
       "3                                         los girasoles stow\n",
       "4                                           buzzis laundry 1\n",
       "                                 ...                        \n",
       "1306447    debit ca withdrawal purchaseamazon prime ti40l...\n",
       "1306448    pos withdrawalaz lot quiktrip   e indian schoo...\n",
       "1306449    pos withdrawalwal mart    e mckellips  mesa  c...\n",
       "1306450    withdrawal salt river projetype: online pmt:sa...\n",
       "1306451    pos withdrawalfrys food drg  1 435 s. e mesa  ...\n",
       "Name: memo, Length: 1306452, dtype: object"
      ]
     },
     "execution_count": 25,
     "metadata": {},
     "output_type": "execute_result"
    }
   ],
   "source": [
    "# replacing special characters with space\n",
    "cleaned_memos_state_street = clean_memos(outflows_with_memo.memo)\n",
    "cleaned_memos_state_street"
   ]
  },
  {
   "cell_type": "code",
   "execution_count": 23,
   "id": "5076a0e5-58fd-4ff0-b7af-ba0baf56899b",
   "metadata": {},
   "outputs": [
    {
     "data": {
      "text/plain": [
       "0                  TST* Casa Del Rio - Exp Fairlawn OH 09/24\n",
       "1                                         Buffalo Wild Wings\n",
       "2                                            Oculus CA 04/16\n",
       "3                                LOS GIRASOLES STOW OH 03/08\n",
       "4                                  BUZZIS LAUNDRY 1 OH 03/28\n",
       "                                 ...                        \n",
       "1306447    DEBIT CARD WITHDRAWAL PURCHASEAmazon Prime*TI4...\n",
       "1306448    POS WITHDRAWALAZ LOT QUIKTRIP XXXX XXXX E INDI...\n",
       "1306449    POS WITHDRAWALWAL-MART #XXXX XXXX E MCKELLIPS ...\n",
       "1306450    WITHDRAWAL Salt River ProjeTYPE: ONLINE PMT CO...\n",
       "1306451    POS WITHDRAWALFRYS-FOOD-DRG #1 435 S. E MESA A...\n",
       "Name: memo, Length: 1306452, dtype: object"
      ]
     },
     "execution_count": 23,
     "metadata": {},
     "output_type": "execute_result"
    }
   ],
   "source": [
    "outflows_with_memo.memo"
   ]
  },
  {
   "cell_type": "code",
   "execution_count": 18,
   "id": "ab28157f-61be-4719-8903-f4763d29409c",
   "metadata": {},
   "outputs": [
    {
     "data": {
      "text/plain": [
       "'pos withdrawalfrysfooddrg 1 435 s. e mesa  ca 15   mcc'"
      ]
     },
     "execution_count": 18,
     "metadata": {},
     "output_type": "execute_result"
    }
   ],
   "source": [
    "cleaned_memos_state_street.iloc[-1]"
   ]
  },
  {
   "cell_type": "code",
   "execution_count": 136,
   "id": "7b7c6dea-47b9-43b5-82f1-19a04be7c072",
   "metadata": {},
   "outputs": [],
   "source": [
    "outflows_with_memo['cleaned_memo'] = cleaned_memos"
   ]
  },
  {
   "cell_type": "code",
   "execution_count": 26,
   "id": "1f7c168e-323b-4cc7-b679-0095b2056f54",
   "metadata": {},
   "outputs": [],
   "source": [
    "outflows_cleaned_state_street = outflows_with_memo.copy(deep=True)\n",
    "outflows_cleaned_state_street['cleaned_memo'] = cleaned_memos_state_street"
   ]
  },
  {
   "cell_type": "code",
   "execution_count": 24,
   "id": "a0066e29-db03-41d8-86a5-6e216a311e62",
   "metadata": {},
   "outputs": [],
   "source": [
    "memos = outflows_with_memo.memo\n",
    "cleaned_memos = outflows_with_memo.cleaned_memo\n",
    "# cleaned_memos_aman = outflows_with_memo.aman_clean_memo"
   ]
  },
  {
   "cell_type": "code",
   "execution_count": 25,
   "id": "f1fe05e5-ab7f-4309-9fec-49bb3ba7d519",
   "metadata": {},
   "outputs": [
    {
     "data": {
      "text/plain": [
       "(528766, 307409)"
      ]
     },
     "execution_count": 25,
     "metadata": {},
     "output_type": "execute_result"
    }
   ],
   "source": [
    "memos.unique().__len__(), cleaned_memos.unique().__len__(), #cleaned_memos_aman.unique().__len__(),"
   ]
  },
  {
   "cell_type": "code",
   "execution_count": 27,
   "id": "07846635-0cf9-4fe8-ad06-5d7bcf82d5ff",
   "metadata": {},
   "outputs": [
    {
     "data": {
      "text/plain": [
       "304624"
      ]
     },
     "execution_count": 27,
     "metadata": {},
     "output_type": "execute_result"
    }
   ],
   "source": [
    "# removing state and street suffix and replacing special characters with space resulted\n",
    "# in more unique memos than just removing state and replacing special characters with empty character\n",
    "cleaned_memos_state_street.unique().__len__()"
   ]
  },
  {
   "cell_type": "code",
   "execution_count": 26,
   "id": "4d875387-da7c-42c4-a2ce-5601e2ca11dc",
   "metadata": {},
   "outputs": [],
   "source": [
    "memos_counts = memos.value_counts()\n",
    "cleaned_memos_counts = cleaned_memos.value_counts()\n",
    "# cleaned_memos_aman_counts = cleaned_memos_aman.value_counts()"
   ]
  },
  {
   "cell_type": "code",
   "execution_count": null,
   "id": "fd709070-a862-4162-9a9f-39817acec235",
   "metadata": {},
   "outputs": [],
   "source": [
    "z"
   ]
  },
  {
   "cell_type": "code",
   "execution_count": 27,
   "id": "ee698c2d-e638-4036-831e-b8692fe655ee",
   "metadata": {},
   "outputs": [
    {
     "data": {
      "text/plain": [
       "memo\n",
       "Amazon                                                                               31725\n",
       "Walmart                                                                              31619\n",
       "McDonald's                                                                           22670\n",
       "Starbucks                                                                            12777\n",
       "7-Eleven                                                                             11675\n",
       "                                                                                     ...  \n",
       "Doordash Kazu Sushi Bu                                                                   1\n",
       "Par Gators Dockside -                                                                    1\n",
       "Chilis Mandarin                                                                          1\n",
       "Chilis Bay Meadows                                                                       1\n",
       "POS WITHDRAWALWAL-MART #XXXX XXXX E MCKELLIPS RD MESA AZ  Card 15 #XXXX  MCC XXXX        1\n",
       "Name: count, Length: 528766, dtype: int64"
      ]
     },
     "execution_count": 27,
     "metadata": {},
     "output_type": "execute_result"
    }
   ],
   "source": [
    "memos_counts"
   ]
  },
  {
   "cell_type": "code",
   "execution_count": 28,
   "id": "529edb0f-dccb-4e97-82f6-197c9225d21c",
   "metadata": {
    "scrolled": true
   },
   "outputs": [
    {
     "data": {
      "text/plain": [
       "cleaned_memo\n",
       "walmart                                                          32099\n",
       "amazon                                                           31737\n",
       "mcdonalds                                                        27598\n",
       "starbucks                                                        12823\n",
       "7eleven                                                          11821\n",
       "                                                                 ...  \n",
       "lobby bar lake charles la  card                                      1\n",
       "total wine and friendswood tx  card                                  1\n",
       "victoria bridal houston tx  card                                     1\n",
       "liquor hu  fm  baytown tx  card                                      1\n",
       "pos withdrawalwalmart   e mckellips rd mesa az  card 15   mcc        1\n",
       "Name: count, Length: 307409, dtype: int64"
      ]
     },
     "execution_count": 28,
     "metadata": {},
     "output_type": "execute_result"
    }
   ],
   "source": [
    "cleaned_memos_counts"
   ]
  },
  {
   "cell_type": "code",
   "execution_count": 29,
   "id": "0a880026-50d7-4777-aff7-7e3bc5a9e4b6",
   "metadata": {},
   "outputs": [],
   "source": [
    "# cleaned_memos_aman_counts"
   ]
  },
  {
   "cell_type": "code",
   "execution_count": 30,
   "id": "01bf5559-7eca-4b92-b5d0-44813574a593",
   "metadata": {},
   "outputs": [],
   "source": [
    "counts = memos_counts.value_counts()[1:10]\n",
    "cleaned_counts = cleaned_memos_counts.value_counts()[1:10]\n",
    "# cleaned_aman_counts = cleaned_memos_aman_counts.value_counts()[1:10]"
   ]
  },
  {
   "cell_type": "code",
   "execution_count": 31,
   "id": "15af6af0-df37-453a-a8a1-dc87d9a4dc11",
   "metadata": {
    "scrolled": true
   },
   "outputs": [
    {
     "data": {
      "image/png": "[encoded data removed]",
      "text/plain": [
       "<Figure size 1200x600 with 1 Axes>"
      ]
     },
     "metadata": {},
     "output_type": "display_data"
    }
   ],
   "source": [
    "plt.figure(figsize=(12, 6))\n",
    "plt.bar(counts.index - 0.2, counts.values, width=0.4, label='Original Memos', color='red')\n",
    "plt.bar(cleaned_counts.index + 0.2, cleaned_counts.values, width=0.4, label='Cleaned Memos', color='blue')\n",
    "# plt.bar(cleaned_aman_counts.index, cleaned_aman_counts.values, width=0.4, label='Cleaned Memos Aman', color='green')\n",
    "\n",
    "plt.xlabel('Occurrence')\n",
    "plt.ylabel('Total Amount')\n",
    "plt.title('Amount of Memos by Occurrence')\n",
    "plt.xticks(counts.index)\n",
    "plt.legend()\n",
    "plt.show()"
   ]
  },
  {
   "cell_type": "code",
   "execution_count": 32,
   "id": "0724dc90-a421-4e29-afe1-91370f15403a",
   "metadata": {},
   "outputs": [
    {
     "data": {
      "text/plain": [
       "443287"
      ]
     },
     "execution_count": 32,
     "metadata": {},
     "output_type": "execute_result"
    }
   ],
   "source": [
    "(memos_counts == 1).sum()"
   ]
  },
  {
   "cell_type": "code",
   "execution_count": 33,
   "id": "7a110318-1bc4-428d-aa70-10ef7e0ce924",
   "metadata": {},
   "outputs": [
    {
     "data": {
      "text/plain": [
       "214737"
      ]
     },
     "execution_count": 33,
     "metadata": {},
     "output_type": "execute_result"
    }
   ],
   "source": [
    "(cleaned_memos_counts == 1).sum()"
   ]
  },
  {
   "cell_type": "markdown",
   "id": "dbe510d5-c8d8-4787-8e47-30ad654b23d3",
   "metadata": {},
   "source": [
    "## Week 4"
   ]
  },
  {
   "cell_type": "code",
   "execution_count": 34,
   "id": "6a86dd9b-f25f-4571-9864-934c2165aa40",
   "metadata": {},
   "outputs": [
    {
     "data": {
      "text/html": [
       "<div>\n",
       "<style scoped>\n",
       "    .dataframe tbody tr th:only-of-type {\n",
       "        vertical-align: middle;\n",
       "    }\n",
       "\n",
       "    .dataframe tbody tr th {\n",
       "        vertical-align: top;\n",
       "    }\n",
       "\n",
       "    .dataframe thead th {\n",
       "        text-align: right;\n",
       "    }\n",
       "</style>\n",
       "<table border=\"1\" class=\"dataframe\">\n",
       "  <thead>\n",
       "    <tr style=\"text-align: right;\">\n",
       "      <th></th>\n",
       "      <th>prism_consumer_id</th>\n",
       "      <th>prism_account_id</th>\n",
       "      <th>memo</th>\n",
       "      <th>amount</th>\n",
       "      <th>posted_date</th>\n",
       "      <th>category</th>\n",
       "      <th>cleaned_memo</th>\n",
       "    </tr>\n",
       "  </thead>\n",
       "  <tbody>\n",
       "    <tr>\n",
       "      <th>0</th>\n",
       "      <td>0</td>\n",
       "      <td>acc_0</td>\n",
       "      <td>TST* Casa Del Rio - Exp Fairlawn OH 09/24</td>\n",
       "      <td>18.42</td>\n",
       "      <td>2022-09-26</td>\n",
       "      <td>FOOD_AND_BEVERAGES</td>\n",
       "      <td>tst casa del rio  exp fairlawn oh</td>\n",
       "    </tr>\n",
       "    <tr>\n",
       "      <th>1</th>\n",
       "      <td>0</td>\n",
       "      <td>acc_0</td>\n",
       "      <td>Buffalo Wild Wings</td>\n",
       "      <td>26.47</td>\n",
       "      <td>2022-09-12</td>\n",
       "      <td>FOOD_AND_BEVERAGES</td>\n",
       "      <td>buffalo wild wings</td>\n",
       "    </tr>\n",
       "    <tr>\n",
       "      <th>2</th>\n",
       "      <td>0</td>\n",
       "      <td>acc_0</td>\n",
       "      <td>Oculus CA 04/16</td>\n",
       "      <td>11.73</td>\n",
       "      <td>2022-04-18</td>\n",
       "      <td>GENERAL_MERCHANDISE</td>\n",
       "      <td>oculus ca</td>\n",
       "    </tr>\n",
       "    <tr>\n",
       "      <th>3</th>\n",
       "      <td>0</td>\n",
       "      <td>acc_0</td>\n",
       "      <td>LOS GIRASOLES STOW OH 03/08</td>\n",
       "      <td>30.04</td>\n",
       "      <td>2022-03-09</td>\n",
       "      <td>FOOD_AND_BEVERAGES</td>\n",
       "      <td>los girasoles stow oh</td>\n",
       "    </tr>\n",
       "    <tr>\n",
       "      <th>4</th>\n",
       "      <td>0</td>\n",
       "      <td>acc_0</td>\n",
       "      <td>BUZZIS LAUNDRY 1 OH 03/28</td>\n",
       "      <td>4.16</td>\n",
       "      <td>2022-03-29</td>\n",
       "      <td>GENERAL_MERCHANDISE</td>\n",
       "      <td>buzzis laundry 1 oh</td>\n",
       "    </tr>\n",
       "  </tbody>\n",
       "</table>\n",
       "</div>"
      ],
      "text/plain": [
       "   prism_consumer_id prism_account_id  \\\n",
       "0                  0            acc_0   \n",
       "1                  0            acc_0   \n",
       "2                  0            acc_0   \n",
       "3                  0            acc_0   \n",
       "4                  0            acc_0   \n",
       "\n",
       "                                        memo  amount posted_date  \\\n",
       "0  TST* Casa Del Rio - Exp Fairlawn OH 09/24   18.42  2022-09-26   \n",
       "1                         Buffalo Wild Wings   26.47  2022-09-12   \n",
       "2                            Oculus CA 04/16   11.73  2022-04-18   \n",
       "3                LOS GIRASOLES STOW OH 03/08   30.04  2022-03-09   \n",
       "4                  BUZZIS LAUNDRY 1 OH 03/28    4.16  2022-03-29   \n",
       "\n",
       "              category                       cleaned_memo  \n",
       "0   FOOD_AND_BEVERAGES  tst casa del rio  exp fairlawn oh  \n",
       "1   FOOD_AND_BEVERAGES                 buffalo wild wings  \n",
       "2  GENERAL_MERCHANDISE                          oculus ca  \n",
       "3   FOOD_AND_BEVERAGES              los girasoles stow oh  \n",
       "4  GENERAL_MERCHANDISE                buzzis laundry 1 oh  "
      ]
     },
     "execution_count": 34,
     "metadata": {},
     "output_type": "execute_result"
    }
   ],
   "source": [
    "outflows_with_memo.head()"
   ]
  },
  {
   "cell_type": "markdown",
   "id": "6488c8ca-9597-4191-a434-fbdc2bd60e10",
   "metadata": {},
   "source": [
    "### Creating Features"
   ]
  },
  {
   "cell_type": "markdown",
   "id": "854b6cf2-ee55-4c4e-b1e6-bef8df39f160",
   "metadata": {},
   "source": [
    "#### TF-IDF"
   ]
  },
  {
   "cell_type": "code",
   "execution_count": 28,
   "id": "310f2e11-d38b-4cc6-9824-988f7a076371",
   "metadata": {},
   "outputs": [],
   "source": [
    "from sklearn.feature_extraction.text import TfidfVectorizer"
   ]
  },
  {
   "cell_type": "code",
   "execution_count": 29,
   "id": "dd2c70cd-f2c9-4617-9282-1ffe25237de9",
   "metadata": {},
   "outputs": [],
   "source": [
    "def get_tfidf_features(dataset, max_features):\n",
    "    cleaned_memos = dataset.cleaned_memo\n",
    "    vectorizer = TfidfVectorizer(max_features=max_features)\n",
    "    tfidf = vectorizer.fit_transform(cleaned_memos)\n",
    "    \n",
    "    tfidf_df = pd.DataFrame.sparse.from_spmatrix(tfidf)\n",
    "    tfidf_df.columns = 'tfidf_' + vectorizer.get_feature_names_out()\n",
    "    \n",
    "    return tfidf_df"
   ]
  },
  {
   "cell_type": "markdown",
   "id": "39e00412-b333-40b0-886f-9f59ff814874",
   "metadata": {},
   "source": [
    "#### Dates and Amounts"
   ]
  },
  {
   "cell_type": "markdown",
   "id": "e3a21fda-82b6-4d4c-a48b-c67351905de1",
   "metadata": {},
   "source": [
    "**Date Features**\n",
    "- month of year -- charges change by month (increase in food_and_beverages in summer, general_merchandise during holidays, travel)\n",
    "- day of week -- charges change by day (weekend may see more food spending, weekday for groceries)\n",
    "- day of month -- beginning of month charges (rent) vs middle of month charges (utilities) vs end of month (credit card?)"
   ]
  },
  {
   "cell_type": "code",
   "execution_count": 30,
   "id": "12715e10-613c-4f88-9cb1-3603b568b089",
   "metadata": {},
   "outputs": [],
   "source": [
    "from sklearn.preprocessing import OneHotEncoder"
   ]
  },
  {
   "cell_type": "code",
   "execution_count": 31,
   "id": "6f7bddd2-b9e6-48a4-8731-383d6d43fe2d",
   "metadata": {},
   "outputs": [],
   "source": [
    "def get_date_features(dataset):\n",
    "    posted_date = dataset.posted_date\n",
    "    date_features = pd.DataFrame()\n",
    "    \n",
    "    date_features['month'] = 'month_' + posted_date.dt.month.astype(str)\n",
    "    date_features['weekday'] = 'weekday_' + posted_date.dt.weekday.astype(str)\n",
    "    date_features['day_of_month'] = 'day_of_month_' + posted_date.dt.day.astype(str)\n",
    "\n",
    "    date_enc = OneHotEncoder(drop='first', handle_unknown='ignore')\n",
    "    date_one_hot = date_enc.fit_transform(date_features)\n",
    "\n",
    "    date_columns = np.concatenate([feature[1:] for feature in date_enc.categories_])\n",
    "    date_one_hot_df = pd.DataFrame.sparse.from_spmatrix(date_one_hot, columns=date_columns)\n",
    "\n",
    "    return date_one_hot_df"
   ]
  },
  {
   "cell_type": "markdown",
   "id": "5fbb219a-7252-47a8-9bce-e42dbca4a5ba",
   "metadata": {},
   "source": [
    "**Amount Features**\n",
    "- is even amount (x.00)\n",
    "- bin the amounts based on size\n",
    "    - potentially by category as well?"
   ]
  },
  {
   "cell_type": "code",
   "execution_count": 32,
   "id": "4ca127fc-687e-4b63-9261-1b36ced1d756",
   "metadata": {},
   "outputs": [],
   "source": [
    "def get_amount_features(dataset):\n",
    "    amount = dataset.amount\n",
    "\n",
    "    amount_features = pd.DataFrame()\n",
    "    amount_features['is_even'] = amount.apply(lambda x: 'amount_even' if x % 1 == 0 else 'amount_odd')\n",
    "    amount_features['decile_amounts'] = pd.qcut(amount, q=10, labels=['decile_0', 'decile_1', 'decile_2', 'decile_3', 'decile_4', 'decile_5', 'decile_6', 'decile_7', 'decile_8', 'decile_9'])\n",
    "\n",
    "    amount_enc = OneHotEncoder(drop='first', handle_unknown='ignore')\n",
    "    amount_one_hot = amount_enc.fit_transform(amount_features)\n",
    "\n",
    "    amount_columns = np.concatenate([feature[1:] for feature in amount_enc.categories_])\n",
    "    amount_one_hot_df = pd.DataFrame.sparse.from_spmatrix(amount_one_hot, columns=amount_columns)\n",
    "    \n",
    "    return amount_one_hot_df"
   ]
  },
  {
   "cell_type": "markdown",
   "id": "605bc8ad-5761-453b-bcb9-a012e03b7ba8",
   "metadata": {},
   "source": [
    "### Putting Features Together"
   ]
  },
  {
   "cell_type": "code",
   "execution_count": 20,
   "id": "e94fcf7c-4090-4475-844a-72da148c6ebd",
   "metadata": {},
   "outputs": [],
   "source": [
    "def get_features_df(dataset, tfidf_max_features):\n",
    "    tfidf_df = get_tfidf_features(dataset, tfidf_max_features)\n",
    "    date_df = get_date_features(dataset)\n",
    "    amount_df = get_amount_features(dataset)\n",
    "\n",
    "    features_df =  pd.concat([tfidf_df, date_df, amount_df, dataset[['prism_consumer_id', 'category']]], axis=1)\n",
    "    return features_df"
   ]
  },
  {
   "cell_type": "code",
   "execution_count": 21,
   "id": "571ca049-ee7a-4a64-823d-7a61f82a75c2",
   "metadata": {},
   "outputs": [],
   "source": [
    "def train_test_split_features(features_df):\n",
    "    train_df, test_df = dataset_split(features_df)\n",
    "    \n",
    "    X_train = train_df.iloc[:, 8:]\n",
    "    y_train = train_df['category']\n",
    "    X_test = test_df.iloc[:, 8:]\n",
    "    y_test = test_df['category']\n",
    "\n",
    "    X_train.columns = X_train.columns.astype(str)\n",
    "    X_test.columns = X_test.columns.astype(str)\n",
    "\n",
    "    return X_train, y_train, X_test, y_test"
   ]
  },
  {
   "cell_type": "code",
   "execution_count": 22,
   "id": "8ab63f46-a7e9-4463-89b0-a72571578073",
   "metadata": {
    "scrolled": true
   },
   "outputs": [],
   "source": [
    "# features df for memo with basic cleaning\n",
    "# features_df = get_features_df(outflows_with_memo, tfidf_max_features=5000)\n",
    "features_df = pd.read_pickle('../data/features_data.pkl')\n",
    "X_train, y_train, X_test, y_test = train_test_split_features(features_df)"
   ]
  },
  {
   "cell_type": "code",
   "execution_count": 132,
   "id": "e1b83838-505a-418f-85c0-da6163804539",
   "metadata": {},
   "outputs": [],
   "source": [
    "# features df for memo with basic cleaning + states removed\n",
    "features_df_state = get_features_df(outflows_cleaned_state, tfidf_max_features=5000)\n",
    "X_train, y_train, X_test, y_test = train_test_split_features(features_df_state)"
   ]
  },
  {
   "cell_type": "code",
   "execution_count": 43,
   "id": "6642c47a-13e1-4fec-b1d9-e7f8206839b4",
   "metadata": {},
   "outputs": [],
   "source": [
    "# features df for memo with basic cleaning + states removed + streets removed + special characters replaced with space\n",
    "features_df_state_street = get_features_df(outflows_cleaned_state_street, tfidf_max_features=5000)\n",
    "X_train, y_train, X_test, y_test = train_test_split_features(features_df_state_street)"
   ]
  },
  {
   "cell_type": "markdown",
   "id": "dcc5e06a-b48d-4bb7-909a-b16bd94875c2",
   "metadata": {},
   "source": [
    "### Training Models"
   ]
  },
  {
   "cell_type": "code",
   "execution_count": 44,
   "id": "336bd028-4659-4286-81d1-3a6c13b38eba",
   "metadata": {},
   "outputs": [],
   "source": [
    "from sklearn.linear_model import LogisticRegression\n",
    "from xgboost import XGBClassifier\n",
    "from sklearn.preprocessing import LabelEncoder\n",
    "from sklearn.metrics import confusion_matrix\n",
    "import seaborn as sns"
   ]
  },
  {
   "cell_type": "markdown",
   "id": "89e1492f-3a2d-48ca-bad6-0ac524cb92fe",
   "metadata": {},
   "source": [
    "#### Logistic Regression"
   ]
  },
  {
   "cell_type": "code",
   "execution_count": 45,
   "id": "af338ebf-6b8d-4c4d-b395-dec86ef76f05",
   "metadata": {},
   "outputs": [],
   "source": [
    "def fit_model(X_train, y_train, model_type):\n",
    "    if model_type == 'log_reg':\n",
    "        model = LogisticRegression(max_iter=1000, random_state=0, n_jobs=-1).fit(X_train, y_train)\n",
    "    elif model_type == 'xgboost':\n",
    "        le = LabelEncoder()\n",
    "        y_train_encoded = le.fit_transform(y_train)\n",
    "\n",
    "        # hyperparameters to consider: n_estimators, max_depth, learning_rate\n",
    "        model = XGBClassifier(objective='multi:softmax')\n",
    "        model.fit(X_train, y_train_encoded)\n",
    "\n",
    "        return model, le\n",
    "\n",
    "    return model"
   ]
  },
  {
   "cell_type": "code",
   "execution_count": 46,
   "id": "969bfa81-269c-4e55-a487-c6c985c36c12",
   "metadata": {},
   "outputs": [],
   "source": [
    "def predict(X, y, model, le=None):\n",
    "    if isinstance(model, LogisticRegression) or isinstance(model, LinearSVC):\n",
    "        preds = model.predict(X)\n",
    "    elif isinstance(model, XGBClassifier):\n",
    "        preds_encoded = model.predict(X)\n",
    "        preds = le.inverse_transform(preds_encoded)\n",
    "    \n",
    "    print(f\"Accuracy: {(preds == y).mean():.3f}\")\n",
    "    \n",
    "    return preds"
   ]
  },
  {
   "cell_type": "code",
   "execution_count": 47,
   "id": "1910a1c9-427f-4dd7-b266-a4aa363d367f",
   "metadata": {
    "scrolled": true
   },
   "outputs": [],
   "source": [
    "# for i in range(len(coef_df)):\n",
    "#     display(coef_df.iloc[i].abs().sort_values(ascending=False).iloc[:10])"
   ]
  },
  {
   "cell_type": "markdown",
   "id": "5cba5ad4-5f08-47f7-897d-a2852c08421e",
   "metadata": {},
   "source": [
    "**Accuracy by category**"
   ]
  },
  {
   "cell_type": "code",
   "execution_count": 48,
   "id": "83cefd95-1c22-42b2-8118-9e09797650e5",
   "metadata": {},
   "outputs": [],
   "source": [
    "def make_confusion_matrix(y, preds):\n",
    "    conf_matrix = confusion_matrix(y, preds, labels=y.unique(), normalize='pred')\n",
    "    classes = y.value_counts().sort_values(ascending=False).index\n",
    "    conf_matrix_df = pd.DataFrame(conf_matrix, index=classes, columns=classes)\n",
    "\n",
    "    fig, ax1 = plt.subplots(1, 1, figsize=(7, 7))\n",
    "    \n",
    "    sns.heatmap(conf_matrix_df, annot=True, fmt=\".3f\", cmap=\"YlGnBu\", cbar=True, \n",
    "                linewidths=0.5, linecolor='gray', square=True, annot_kws={\"size\": 8}, ax=ax1)\n",
    "    ax1.set_title('Precision')\n",
    "    ax1.set_xlabel('Predicted Labels')\n",
    "    ax1.set_ylabel('True Labels')\n",
    "\n",
    "    plt.show()"
   ]
  },
  {
   "cell_type": "code",
   "execution_count": 51,
   "id": "85a5a807-a845-4fc9-864f-165cc841c635",
   "metadata": {},
   "outputs": [
    {
     "name": "stdout",
     "output_type": "stream",
     "text": [
      "CPU times: user 1.48 s, sys: 365 ms, total: 1.85 s\n",
      "Wall time: 1min 6s\n"
     ]
    }
   ],
   "source": [
    "%%time\n",
    "# 500  tfidf  - 61 s - Train accuracy: 0.873, Test accuracy: 0.863\n",
    "# 750  tfidf  - 62 s - Train accuracy: 0.895, Test accuracy: 0.889\n",
    "# 1000 tfidf - 63 s - Train accuracy: 0.911, Test accuracy: 0.906\n",
    "# 2000 tfidf - 66 s - Train accuracy: 0.938, Test accuracy: 0.927\n",
    "# 3000 tfidf - 77 s - Train accuracy: 0.952, Test accuracy: 0.939\n",
    "# 5000 tfidf - 68 s - Train accuracy: 0.964, Test accuracy: 0.946\n",
    "log_reg = fit_model(X_train, y_train, 'log_reg')"
   ]
  },
  {
   "cell_type": "code",
   "execution_count": 110,
   "id": "1a0ce93b-6edb-4290-8ddd-5275e214b165",
   "metadata": {},
   "outputs": [
    {
     "name": "stdout",
     "output_type": "stream",
     "text": [
      "CPU times: user 1.3 s, sys: 337 ms, total: 1.64 s\n",
      "Wall time: 1min 15s\n"
     ]
    }
   ],
   "source": [
    "%%time\n",
    "# 5000 tfidf - 75 s - Train accuracy: 0.961, Test accuracy: 0.941\n",
    "log_reg_state = fit_model(X_train, y_train, 'log_reg')"
   ]
  },
  {
   "cell_type": "code",
   "execution_count": null,
   "id": "1615cbd2-f349-4638-b0ab-ed013a5b80eb",
   "metadata": {},
   "outputs": [],
   "source": [
    "%%time\n",
    "# 5000 tfidf - \n",
    "log_reg_state_street = fit_model(X_train, y_train, 'log_reg')"
   ]
  },
  {
   "cell_type": "code",
   "execution_count": null,
   "id": "0104b0e4-1f7c-4220-b2a4-8db4b38d318a",
   "metadata": {},
   "outputs": [],
   "source": [
    "%%time\n",
    "preds_train = predict(X_train, y_train, log_reg_state_street)"
   ]
  },
  {
   "cell_type": "code",
   "execution_count": null,
   "id": "358e8f24-18bb-40f1-9343-c0ab4e21bccd",
   "metadata": {},
   "outputs": [],
   "source": [
    "%%time\n",
    "preds_test = predict(X_test, y_test, log_reg_state_street)"
   ]
  },
  {
   "cell_type": "code",
   "execution_count": 54,
   "id": "58c3fc8a-599c-42c7-b068-c0adcfce38c5",
   "metadata": {},
   "outputs": [],
   "source": [
    "# preds_train_aman = predict(X_train, y_train, log_reg)"
   ]
  },
  {
   "cell_type": "code",
   "execution_count": 55,
   "id": "9e2375b2-477c-4835-bdf4-b48fcbffc9ec",
   "metadata": {},
   "outputs": [],
   "source": [
    "# preds_test_aman = predict(X_test, y_test, log_reg)"
   ]
  },
  {
   "cell_type": "code",
   "execution_count": 113,
   "id": "5f1be67c-41d7-4267-af70-ff6062441504",
   "metadata": {},
   "outputs": [
    {
     "data": {
      "image/png": "[encoded data removed]",
      "text/plain": [
       "<Figure size 700x700 with 2 Axes>"
      ]
     },
     "metadata": {},
     "output_type": "display_data"
    }
   ],
   "source": [
    "make_confusion_matrix(y_train, preds_train)"
   ]
  },
  {
   "cell_type": "code",
   "execution_count": 57,
   "id": "664e0eb6-4ef6-4411-93ce-a98e73905b7a",
   "metadata": {},
   "outputs": [
    {
     "data": {
      "image/png": "[encoded data removed]",
      "text/plain": [
       "<Figure size 700x700 with 2 Axes>"
      ]
     },
     "metadata": {},
     "output_type": "display_data"
    }
   ],
   "source": [
    "make_confusion_matrix(y_train, preds_train)"
   ]
  },
  {
   "cell_type": "code",
   "execution_count": 114,
   "id": "3878de15-264e-476b-bd0d-6db94aef448c",
   "metadata": {},
   "outputs": [
    {
     "data": {
      "image/png": "[encoded data removed]",
      "text/plain": [
       "<Figure size 700x700 with 2 Axes>"
      ]
     },
     "metadata": {},
     "output_type": "display_data"
    }
   ],
   "source": [
    "make_confusion_matrix(y_test, preds_test) # state "
   ]
  },
  {
   "cell_type": "code",
   "execution_count": 59,
   "id": "971e0be0-c5b2-443d-be20-776f08e9a861",
   "metadata": {},
   "outputs": [
    {
     "data": {
      "image/png": "[encoded data removed]",
      "text/plain": [
       "<Figure size 700x700 with 2 Axes>"
      ]
     },
     "metadata": {},
     "output_type": "display_data"
    }
   ],
   "source": [
    "make_confusion_matrix(y_test, preds_test)\n",
    "# the precision in Overdraft seems to perform the worst across models\n",
    "# did it again with 5000 tfidf and it did good on overdraft but .894 on mortgage"
   ]
  },
  {
   "cell_type": "code",
   "execution_count": null,
   "id": "d28be321-b0cc-4b69-a378-d018c29ba27c",
   "metadata": {},
   "outputs": [],
   "source": [
    "make_confusion_matrix(y_train, preds_train) # state street "
   ]
  },
  {
   "cell_type": "code",
   "execution_count": null,
   "id": "61d86bc7-da57-47ad-97c2-8ed933c93d73",
   "metadata": {},
   "outputs": [],
   "source": [
    "make_confusion_matrix(y_test, preds_test) # state street"
   ]
  },
  {
   "cell_type": "code",
   "execution_count": 56,
   "id": "34a75adc-20fe-4688-8ec6-e2ed055adb3f",
   "metadata": {},
   "outputs": [],
   "source": [
    "# make_confusion_matrix(y_train, preds_train_aman)"
   ]
  },
  {
   "cell_type": "code",
   "execution_count": 58,
   "id": "fab7be3a-bc73-4790-8b43-b5e73c9155f8",
   "metadata": {},
   "outputs": [],
   "source": [
    "# make_confusion_matrix(y_test, preds_test_aman)"
   ]
  },
  {
   "cell_type": "code",
   "execution_count": null,
   "id": "66133271-4944-4664-a241-6eb1aa9b9ed3",
   "metadata": {},
   "outputs": [],
   "source": [
    "bst, le = fit_model(X_train, y_train, 'xgboost')"
   ]
  },
  {
   "cell_type": "code",
   "execution_count": null,
   "id": "04f05552-beb3-4474-a7b8-d6529db3eaf3",
   "metadata": {},
   "outputs": [],
   "source": [
    "predict(X_train, y_train, bst, le)"
   ]
  },
  {
   "cell_type": "code",
   "execution_count": null,
   "id": "2d9ca685-780d-4baa-bddb-ca812bf6693a",
   "metadata": {},
   "outputs": [],
   "source": [
    "%%time\n",
    "\n",
    "log_reg, preds_train, preds_test = fit_and_predict(X_train, y_train, X_test, y_test, model_type='log_reg')"
   ]
  },
  {
   "cell_type": "code",
   "execution_count": null,
   "id": "46335e18-fa3d-4b76-994a-4dea5cba704b",
   "metadata": {},
   "outputs": [],
   "source": [
    "make_confusion_matrices(y_train, preds_train, y_test, preds_test)"
   ]
  },
  {
   "cell_type": "markdown",
   "id": "b5387ec9-0970-463c-94b1-a9debef68539",
   "metadata": {},
   "source": [
    "#### Gradient Boosting (XGBoost)"
   ]
  },
  {
   "cell_type": "code",
   "execution_count": 39,
   "id": "4f170a0c-b539-4d0c-ade8-8c5c05cee027",
   "metadata": {},
   "outputs": [
    {
     "name": "stdout",
     "output_type": "stream",
     "text": [
      "Defaulting to user installation because normal site-packages is not writeable\n",
      "Collecting xgboost\n",
      "  Downloading xgboost-2.1.2-py3-none-manylinux_2_28_x86_64.whl.metadata (2.1 kB)\n",
      "Requirement already satisfied: numpy in /opt/conda/lib/python3.11/site-packages (from xgboost) (1.26.4)\n",
      "Requirement already satisfied: nvidia-nccl-cu12 in /opt/conda/lib/python3.11/site-packages (from xgboost) (2.19.3)\n",
      "Requirement already satisfied: scipy in /opt/conda/lib/python3.11/site-packages (from xgboost) (1.13.0)\n",
      "Downloading xgboost-2.1.2-py3-none-manylinux_2_28_x86_64.whl (153.9 MB)\n",
      "\u001b[2K   \u001b[90m━━━━━━━━━━━━━━━━━━━━━━━━━━━━━━━━━━━━━━━━\u001b[0m \u001b[32m153.9/153.9 MB\u001b[0m \u001b[31m24.1 MB/s\u001b[0m eta \u001b[36m0:00:00\u001b[0m00:01\u001b[0m00:01\u001b[0m\n",
      "\u001b[?25hInstalling collected packages: xgboost\n",
      "Successfully installed xgboost-2.1.2\n"
     ]
    }
   ],
   "source": [
    "# !pip install xgboost"
   ]
  },
  {
   "cell_type": "code",
   "execution_count": null,
   "id": "94a41a92-1afa-4e3d-b8ff-64f3fa5bbd90",
   "metadata": {},
   "outputs": [],
   "source": [
    "# 30ish seconds\n",
    "bst, preds_train_bst, preds_test_bst = fit_and_predict(X_train, y_train, X_test, y_test, model_type='xgboost')"
   ]
  },
  {
   "cell_type": "code",
   "execution_count": null,
   "id": "2aaec3f1-4d14-4fbd-bedf-6ee585ff897b",
   "metadata": {},
   "outputs": [],
   "source": [
    "# 'Train accuracy: 0.7301464661398314, Test accuracy: 0.7111407249466951' ------ basic xgboost w/ 50 features"
   ]
  },
  {
   "cell_type": "code",
   "execution_count": null,
   "id": "b320f480-b71c-45be-84b7-cf8b2a7e8a66",
   "metadata": {},
   "outputs": [],
   "source": [
    "make_confusion_matrices(y_train, preds_train_bst, y_test, preds_test_bst)"
   ]
  },
  {
   "cell_type": "code",
   "execution_count": null,
   "id": "130b0384-6c89-4501-8601-2f944c776fe5",
   "metadata": {},
   "outputs": [],
   "source": [
    "# testing how many tfidf features xgboost can handle\n",
    "X_train, y_train, X_test, y_test = train_test_split_features(outflows_with_memo, tfidf_max_features=750)"
   ]
  },
  {
   "cell_type": "code",
   "execution_count": null,
   "id": "2c5a65d4-be02-4ef2-82c4-b97eabee1ee9",
   "metadata": {},
   "outputs": [],
   "source": [
    "# 200 tfidf - 53 seconds - Train accuracy: 0.817, Test accuracy: 0.800\n",
    "# 400 tfidf - 87 seconds - Train accuracy: 0.866, Test accuracy: 0.848\n",
    "# 500 tfidf - 101 seconds - Train accuracy: 0.876, Test accuracy: 0.863\n",
    "# 750 tfidf - 376 seconds - Train accuracy: 0.8941, Test accuracy: 0.882\n",
    "bst, preds_train_bst, preds_test_bst = fit_and_predict(X_train, y_train, X_test, y_test, model_type='xgboost')"
   ]
  },
  {
   "cell_type": "code",
   "execution_count": null,
   "id": "a2248063-6a01-4443-bef1-ef40510196b0",
   "metadata": {},
   "outputs": [],
   "source": [
    "make_confusion_matrices(y_train, preds_train_bst, y_test, preds_test_bst)"
   ]
  },
  {
   "cell_type": "markdown",
   "id": "17ff8172-2148-45a0-b8b1-57955ccb6123",
   "metadata": {},
   "source": [
    "## Week 5"
   ]
  },
  {
   "cell_type": "code",
   "execution_count": null,
   "id": "a83abfaf-5af8-4384-8cef-2b81e9f1f20f",
   "metadata": {
    "scrolled": true
   },
   "outputs": [],
   "source": [
    "# !pip install --upgrade transformers datasets evaluate accelerate"
   ]
  },
  {
   "cell_type": "code",
   "execution_count": 19,
   "id": "6bd8321b-0473-4e9e-a887-0aaff9ebb95e",
   "metadata": {
    "scrolled": true
   },
   "outputs": [
    {
     "name": "stderr",
     "output_type": "stream",
     "text": [
      "2024-11-08 17:38:36.476944: E external/local_xla/xla/stream_executor/cuda/cuda_dnn.cc:9261] Unable to register cuDNN factory: Attempting to register factory for plugin cuDNN when one has already been registered\n",
      "2024-11-08 17:38:36.477011: E external/local_xla/xla/stream_executor/cuda/cuda_fft.cc:607] Unable to register cuFFT factory: Attempting to register factory for plugin cuFFT when one has already been registered\n",
      "2024-11-08 17:38:36.478841: E external/local_xla/xla/stream_executor/cuda/cuda_blas.cc:1515] Unable to register cuBLAS factory: Attempting to register factory for plugin cuBLAS when one has already been registered\n",
      "2024-11-08 17:38:36.490582: I tensorflow/core/platform/cpu_feature_guard.cc:182] This TensorFlow binary is optimized to use available CPU instructions in performance-critical operations.\n",
      "To enable the following instructions: AVX2 AVX512F FMA, in other operations, rebuild TensorFlow with the appropriate compiler flags.\n"
     ]
    }
   ],
   "source": [
    "from transformers import AutoTokenizer\n",
    "from transformers import DataCollatorWithPadding\n",
    "from transformers import AutoModelForSequenceClassification, TrainingArguments, Trainer\n",
    "import evaluate\n",
    "import torch"
   ]
  },
  {
   "cell_type": "code",
   "execution_count": 20,
   "id": "b7481de4-145e-4e72-9690-6a839c460d1d",
   "metadata": {},
   "outputs": [],
   "source": [
    "tokenizer = AutoTokenizer.from_pretrained(\"distilbert/distilbert-base-uncased\")\n",
    "accuracy = evaluate.load('accuracy')\n",
    "data_collator = DataCollatorWithPadding(tokenizer=tokenizer)"
   ]
  },
  {
   "cell_type": "code",
   "execution_count": 21,
   "id": "a819c830-7089-4ca2-acb7-c5fdf96b1656",
   "metadata": {},
   "outputs": [],
   "source": [
    "unique_categories = outflows_with_memo.category.unique()\n",
    "id2label = {i : unique_categories[i] for i in range(len(unique_categories))}\n",
    "label2id = {unique_categories[i] : i for i in range(len(unique_categories))}"
   ]
  },
  {
   "cell_type": "code",
   "execution_count": 22,
   "id": "6f79f3b1-c96a-4089-965e-ba1f1fd7e39f",
   "metadata": {},
   "outputs": [],
   "source": [
    "cleaned_memo_list = list(outflows_with_memo.cleaned_memo)\n",
    "categories_encoded = [label2id[cat] for cat in outflows_with_memo.category]"
   ]
  },
  {
   "cell_type": "code",
   "execution_count": 23,
   "id": "d5b0234a-4a56-45e2-829e-b65b547cb59c",
   "metadata": {},
   "outputs": [],
   "source": [
    "X_train, X_test, y_train, y_test = train_test_split(cleaned_memo_list, categories_encoded, test_size=0.25)"
   ]
  },
  {
   "cell_type": "code",
   "execution_count": 24,
   "id": "1080d92c-bd1f-4632-842d-d8e4001bbbcb",
   "metadata": {},
   "outputs": [],
   "source": [
    "X_train_tokenized = tokenizer(X_train, truncation=True, padding=True)\n",
    "X_test_tokenized = tokenizer(X_test, truncation=True, padding=True)"
   ]
  },
  {
   "cell_type": "code",
   "execution_count": 25,
   "id": "d229b45f-7ac2-4e63-b088-34ced10f2c62",
   "metadata": {},
   "outputs": [],
   "source": [
    "class MemoDataset(torch.utils.data.Dataset):\n",
    "    def __init__(self, encodings, labels):\n",
    "        self.encodings = encodings\n",
    "        self.labels = labels\n",
    "\n",
    "    def __getitem__(self, idx):\n",
    "        item = {key: torch.tensor(val[idx]) for key, val in self.encodings.items()}\n",
    "        item['labels'] = torch.tensor(self.labels[idx])\n",
    "        return item\n",
    "\n",
    "    def __len__(self):\n",
    "        return len(self.labels)"
   ]
  },
  {
   "cell_type": "code",
   "execution_count": 26,
   "id": "f330f9fe-bb46-49c5-bba3-56e096b09fb1",
   "metadata": {},
   "outputs": [],
   "source": [
    "train_dataset = MemoDataset(X_train_tokenized, y_train)\n",
    "test_dataset = MemoDataset(X_test_tokenized, y_test)"
   ]
  },
  {
   "cell_type": "code",
   "execution_count": 27,
   "id": "178b4650-a606-4517-8fd5-8fa79724d7ce",
   "metadata": {},
   "outputs": [],
   "source": [
    "device = torch.device(\"cuda\" if torch.cuda.is_available() else \"cpu\")"
   ]
  },
  {
   "cell_type": "code",
   "execution_count": 32,
   "id": "9ccd4c6f-163d-463c-ae24-65729245db29",
   "metadata": {},
   "outputs": [],
   "source": [
    "model = AutoModelForSequenceClassification.from_pretrained(\n",
    "    'bert/checkpoint-7656', num_labels=9, id2label=id2label, label2id=label2id\n",
    ").to(device)"
   ]
  },
  {
   "cell_type": "code",
   "execution_count": 33,
   "id": "21d7e484-cbe6-42a7-a1ec-3db103924f05",
   "metadata": {},
   "outputs": [],
   "source": [
    "# model = AutoModelForSequenceClassification.from_pretrained(\n",
    "#     \"distilbert/distilbert-base-uncased\", num_labels=9, id2label=id2label, label2id=label2id\n",
    "# ).to(device)"
   ]
  },
  {
   "cell_type": "code",
   "execution_count": 34,
   "id": "cd4eead5-ec35-408f-8c13-74b748ae5c03",
   "metadata": {},
   "outputs": [],
   "source": [
    "def compute_metrics(eval_pred):\n",
    "    predictions, labels = eval_pred\n",
    "    predictions = np.argmax(predictions, axis=1)\n",
    "    return accuracy.compute(predictions=predictions, references=labels)"
   ]
  },
  {
   "cell_type": "code",
   "execution_count": 20,
   "id": "f2568b4d-c644-4af6-890d-fe4af32630f5",
   "metadata": {},
   "outputs": [
    {
     "name": "stderr",
     "output_type": "stream",
     "text": [
      "Detected kernel version 3.10.0, which is below the recommended minimum of 5.5.0; this can cause the process to hang. It is recommended to upgrade the kernel to the minimum version or higher.\n"
     ]
    },
    {
     "data": {
      "text/html": [
       "\n",
       "    <div>\n",
       "      \n",
       "      <progress value='7656' max='7656' style='width:300px; height:20px; vertical-align: middle;'></progress>\n",
       "      [7656/7656 2:09:40, Epoch 2/2]\n",
       "    </div>\n",
       "    <table border=\"1\" class=\"dataframe\">\n",
       "  <thead>\n",
       " <tr style=\"text-align: left;\">\n",
       "      <th>Epoch</th>\n",
       "      <th>Training Loss</th>\n",
       "      <th>Validation Loss</th>\n",
       "      <th>Accuracy</th>\n",
       "    </tr>\n",
       "  </thead>\n",
       "  <tbody>\n",
       "    <tr>\n",
       "      <td>1</td>\n",
       "      <td>0.072300</td>\n",
       "      <td>0.055678</td>\n",
       "      <td>0.982453</td>\n",
       "    </tr>\n",
       "    <tr>\n",
       "      <td>2</td>\n",
       "      <td>0.045100</td>\n",
       "      <td>0.045146</td>\n",
       "      <td>0.986433</td>\n",
       "    </tr>\n",
       "  </tbody>\n",
       "</table><p>"
      ],
      "text/plain": [
       "<IPython.core.display.HTML object>"
      ]
     },
     "metadata": {},
     "output_type": "display_data"
    },
    {
     "data": {
      "text/plain": [
       "TrainOutput(global_step=7656, training_loss=0.09350552859102047, metrics={'train_runtime': 7782.5855, 'train_samples_per_second': 251.803, 'train_steps_per_second': 0.984, 'total_flos': 3.650988561012778e+16, 'train_loss': 0.09350552859102047, 'epoch': 2.0})"
      ]
     },
     "execution_count": 20,
     "metadata": {},
     "output_type": "execute_result"
    }
   ],
   "source": [
    "training_args = TrainingArguments(\n",
    "    output_dir=\"bert\",\n",
    "    learning_rate=2e-5,\n",
    "    per_device_train_batch_size=256,\n",
    "    per_device_eval_batch_size=256,\n",
    "    num_train_epochs=2,\n",
    "    weight_decay=0.01,\n",
    "    eval_strategy=\"epoch\",\n",
    "    save_strategy=\"epoch\",\n",
    "    load_best_model_at_end=True,\n",
    "    push_to_hub=False,\n",
    ")\n",
    "\n",
    "trainer = Trainer(\n",
    "    model=model,\n",
    "    args=training_args,\n",
    "    train_dataset=train_dataset,\n",
    "    eval_dataset=test_dataset,\n",
    "    processing_class=tokenizer,\n",
    "    data_collator=data_collator,\n",
    "    compute_metrics=compute_metrics,\n",
    ")\n",
    "\n",
    "trainer.train()"
   ]
  },
  {
   "cell_type": "code",
   "execution_count": 36,
   "id": "3e32a185-0e77-4194-bc31-62dd3adc00d4",
   "metadata": {},
   "outputs": [],
   "source": [
    "# trainer.predict(test_dataset)"
   ]
  },
  {
   "cell_type": "code",
   "execution_count": 37,
   "id": "d072553b-d764-488c-8dc2-c7d8e591b33e",
   "metadata": {},
   "outputs": [],
   "source": [
    "from transformers import TextClassificationPipeline"
   ]
  },
  {
   "cell_type": "code",
   "execution_count": 38,
   "id": "172369fa-8428-421a-a77d-54b96b738830",
   "metadata": {},
   "outputs": [],
   "source": [
    "pipe = TextClassificationPipeline(model=model, tokenizer=tokenizer, device='cuda')"
   ]
  },
  {
   "cell_type": "code",
   "execution_count": 53,
   "id": "6513acf7-996b-4178-a427-307d0259c9e8",
   "metadata": {},
   "outputs": [
    {
     "data": {
      "text/plain": [
       "326613"
      ]
     },
     "execution_count": 53,
     "metadata": {},
     "output_type": "execute_result"
    }
   ],
   "source": [
    "len(X_test)"
   ]
  },
  {
   "cell_type": "code",
   "execution_count": 79,
   "id": "750cb008-eabf-4180-98ec-60f8994cdf2d",
   "metadata": {},
   "outputs": [
    {
     "name": "stdout",
     "output_type": "stream",
     "text": [
      "CPU times: user 1h 13min 56s, sys: 38.9 s, total: 1h 14min 35s\n",
      "Wall time: 1h 14min 35s\n"
     ]
    }
   ],
   "source": [
    "%%time\n",
    "preds_train = pipe(X_train)\n",
    "preds_train = [dct['label'] for dct in preds_train]"
   ]
  },
  {
   "cell_type": "code",
   "execution_count": 78,
   "id": "1d25044a-5b47-4e7b-aa8e-f5ed36cda3f4",
   "metadata": {},
   "outputs": [
    {
     "name": "stdout",
     "output_type": "stream",
     "text": [
      "CPU times: user 25min 4s, sys: 13.7 s, total: 25min 18s\n",
      "Wall time: 25min 18s\n"
     ]
    }
   ],
   "source": [
    "%%time\n",
    "# 677 ms for 100 predictions\n",
    "# 4.73 s for 1000 predictions\n",
    "# 46.2 s for 10000 predictions\n",
    "# 8 min for test set in train step above\n",
    "preds_test = pipe(X_test)\n",
    "preds_test = [dct['label'] for dct in preds_test]"
   ]
  },
  {
   "cell_type": "code",
   "execution_count": 58,
   "id": "621e097b-18ff-4475-8914-df5eea1810fc",
   "metadata": {},
   "outputs": [
    {
     "data": {
      "text/plain": [
       "326613"
      ]
     },
     "execution_count": 58,
     "metadata": {},
     "output_type": "execute_result"
    }
   ],
   "source": [
    "len(preds_test)"
   ]
  },
  {
   "cell_type": "code",
   "execution_count": 59,
   "id": "05928b97-e69e-4dbe-a628-bd73ba115a68",
   "metadata": {},
   "outputs": [
    {
     "name": "stdout",
     "output_type": "stream",
     "text": [
      "CPU times: user 9.51 ms, sys: 15.2 ms, total: 24.7 ms\n",
      "Wall time: 23.6 ms\n"
     ]
    },
    {
     "data": {
      "text/plain": [
       "[{'label': 'GENERAL_MERCHANDISE', 'score': 0.9998961687088013}]"
      ]
     },
     "execution_count": 59,
     "metadata": {},
     "output_type": "execute_result"
    }
   ],
   "source": [
    "%%time\n",
    "pipe(X_test[0])"
   ]
  },
  {
   "cell_type": "code",
   "execution_count": 39,
   "id": "43896252-c385-4028-a701-e6663fc31ea2",
   "metadata": {
    "scrolled": true
   },
   "outputs": [],
   "source": [
    "preds_test = pipe(X_test)\n",
    "preds_test = [dct['label'] for dct in preds_test]"
   ]
  },
  {
   "cell_type": "code",
   "execution_count": 61,
   "id": "8baba98f-b969-431e-961e-a2f8baede31e",
   "metadata": {
    "scrolled": true
   },
   "outputs": [
    {
     "data": {
      "text/plain": [
       "['GENERAL_MERCHANDISE',\n",
       " 'FOOD_AND_BEVERAGES',\n",
       " 'GROCERIES',\n",
       " 'GENERAL_MERCHANDISE',\n",
       " 'FOOD_AND_BEVERAGES',\n",
       " 'GENERAL_MERCHANDISE',\n",
       " 'GENERAL_MERCHANDISE',\n",
       " 'GENERAL_MERCHANDISE',\n",
       " 'FOOD_AND_BEVERAGES',\n",
       " 'GROCERIES',\n",
       " 'GENERAL_MERCHANDISE',\n",
       " 'FOOD_AND_BEVERAGES',\n",
       " 'FOOD_AND_BEVERAGES',\n",
       " 'GENERAL_MERCHANDISE',\n",
       " 'FOOD_AND_BEVERAGES',\n",
       " 'FOOD_AND_BEVERAGES',\n",
       " 'GROCERIES',\n",
       " 'GENERAL_MERCHANDISE',\n",
       " 'GROCERIES',\n",
       " 'GENERAL_MERCHANDISE',\n",
       " 'FOOD_AND_BEVERAGES',\n",
       " 'GENERAL_MERCHANDISE',\n",
       " 'FOOD_AND_BEVERAGES',\n",
       " 'FOOD_AND_BEVERAGES',\n",
       " 'FOOD_AND_BEVERAGES',\n",
       " 'FOOD_AND_BEVERAGES',\n",
       " 'GROCERIES',\n",
       " 'TRAVEL',\n",
       " 'FOOD_AND_BEVERAGES',\n",
       " 'GENERAL_MERCHANDISE',\n",
       " 'GENERAL_MERCHANDISE',\n",
       " 'GENERAL_MERCHANDISE',\n",
       " 'FOOD_AND_BEVERAGES',\n",
       " 'GENERAL_MERCHANDISE',\n",
       " 'GENERAL_MERCHANDISE',\n",
       " 'GROCERIES',\n",
       " 'FOOD_AND_BEVERAGES',\n",
       " 'GENERAL_MERCHANDISE',\n",
       " 'GENERAL_MERCHANDISE',\n",
       " 'GENERAL_MERCHANDISE',\n",
       " 'PETS',\n",
       " 'GENERAL_MERCHANDISE',\n",
       " 'GENERAL_MERCHANDISE',\n",
       " 'GROCERIES',\n",
       " 'GROCERIES',\n",
       " 'FOOD_AND_BEVERAGES',\n",
       " 'FOOD_AND_BEVERAGES',\n",
       " 'FOOD_AND_BEVERAGES',\n",
       " 'GROCERIES',\n",
       " 'FOOD_AND_BEVERAGES',\n",
       " 'GENERAL_MERCHANDISE',\n",
       " 'FOOD_AND_BEVERAGES',\n",
       " 'GROCERIES',\n",
       " 'FOOD_AND_BEVERAGES',\n",
       " 'TRAVEL',\n",
       " 'GENERAL_MERCHANDISE',\n",
       " 'GENERAL_MERCHANDISE',\n",
       " 'FOOD_AND_BEVERAGES',\n",
       " 'FOOD_AND_BEVERAGES',\n",
       " 'FOOD_AND_BEVERAGES',\n",
       " 'FOOD_AND_BEVERAGES',\n",
       " 'FOOD_AND_BEVERAGES',\n",
       " 'FOOD_AND_BEVERAGES',\n",
       " 'TRAVEL',\n",
       " 'GENERAL_MERCHANDISE',\n",
       " 'GENERAL_MERCHANDISE',\n",
       " 'GROCERIES',\n",
       " 'FOOD_AND_BEVERAGES',\n",
       " 'TRAVEL',\n",
       " 'FOOD_AND_BEVERAGES',\n",
       " 'FOOD_AND_BEVERAGES',\n",
       " 'GENERAL_MERCHANDISE',\n",
       " 'FOOD_AND_BEVERAGES',\n",
       " 'TRAVEL',\n",
       " 'GENERAL_MERCHANDISE',\n",
       " 'GROCERIES',\n",
       " 'FOOD_AND_BEVERAGES',\n",
       " 'FOOD_AND_BEVERAGES',\n",
       " 'GENERAL_MERCHANDISE',\n",
       " 'GENERAL_MERCHANDISE',\n",
       " 'GENERAL_MERCHANDISE',\n",
       " 'GENERAL_MERCHANDISE',\n",
       " 'FOOD_AND_BEVERAGES',\n",
       " 'GENERAL_MERCHANDISE',\n",
       " 'FOOD_AND_BEVERAGES',\n",
       " 'FOOD_AND_BEVERAGES',\n",
       " 'FOOD_AND_BEVERAGES',\n",
       " 'FOOD_AND_BEVERAGES',\n",
       " 'FOOD_AND_BEVERAGES',\n",
       " 'FOOD_AND_BEVERAGES',\n",
       " 'FOOD_AND_BEVERAGES',\n",
       " 'FOOD_AND_BEVERAGES',\n",
       " 'TRAVEL',\n",
       " 'FOOD_AND_BEVERAGES',\n",
       " 'GENERAL_MERCHANDISE',\n",
       " 'GENERAL_MERCHANDISE',\n",
       " 'GENERAL_MERCHANDISE',\n",
       " 'GENERAL_MERCHANDISE',\n",
       " 'GENERAL_MERCHANDISE',\n",
       " 'FOOD_AND_BEVERAGES',\n",
       " 'GROCERIES',\n",
       " 'FOOD_AND_BEVERAGES',\n",
       " 'FOOD_AND_BEVERAGES',\n",
       " 'GENERAL_MERCHANDISE',\n",
       " 'GENERAL_MERCHANDISE',\n",
       " 'GENERAL_MERCHANDISE',\n",
       " 'GROCERIES',\n",
       " 'GENERAL_MERCHANDISE',\n",
       " 'GROCERIES',\n",
       " 'GENERAL_MERCHANDISE',\n",
       " 'GENERAL_MERCHANDISE',\n",
       " 'GENERAL_MERCHANDISE',\n",
       " 'FOOD_AND_BEVERAGES',\n",
       " 'FOOD_AND_BEVERAGES',\n",
       " 'FOOD_AND_BEVERAGES',\n",
       " 'GENERAL_MERCHANDISE',\n",
       " 'FOOD_AND_BEVERAGES',\n",
       " 'FOOD_AND_BEVERAGES',\n",
       " 'GROCERIES',\n",
       " 'GENERAL_MERCHANDISE',\n",
       " 'GENERAL_MERCHANDISE',\n",
       " 'FOOD_AND_BEVERAGES',\n",
       " 'FOOD_AND_BEVERAGES',\n",
       " 'TRAVEL',\n",
       " 'FOOD_AND_BEVERAGES',\n",
       " 'FOOD_AND_BEVERAGES',\n",
       " 'GENERAL_MERCHANDISE',\n",
       " 'FOOD_AND_BEVERAGES',\n",
       " 'GENERAL_MERCHANDISE',\n",
       " 'GENERAL_MERCHANDISE',\n",
       " 'FOOD_AND_BEVERAGES',\n",
       " 'FOOD_AND_BEVERAGES',\n",
       " 'GENERAL_MERCHANDISE',\n",
       " 'GENERAL_MERCHANDISE',\n",
       " 'GROCERIES',\n",
       " 'GENERAL_MERCHANDISE',\n",
       " 'GENERAL_MERCHANDISE',\n",
       " 'FOOD_AND_BEVERAGES',\n",
       " 'FOOD_AND_BEVERAGES',\n",
       " 'GENERAL_MERCHANDISE',\n",
       " 'GENERAL_MERCHANDISE',\n",
       " 'FOOD_AND_BEVERAGES',\n",
       " 'FOOD_AND_BEVERAGES',\n",
       " 'FOOD_AND_BEVERAGES',\n",
       " 'GROCERIES',\n",
       " 'GROCERIES',\n",
       " 'RENT',\n",
       " 'GENERAL_MERCHANDISE',\n",
       " 'GENERAL_MERCHANDISE',\n",
       " 'GROCERIES',\n",
       " 'GENERAL_MERCHANDISE',\n",
       " 'FOOD_AND_BEVERAGES',\n",
       " 'GROCERIES',\n",
       " 'GENERAL_MERCHANDISE',\n",
       " 'GENERAL_MERCHANDISE',\n",
       " 'GENERAL_MERCHANDISE',\n",
       " 'FOOD_AND_BEVERAGES',\n",
       " 'GROCERIES',\n",
       " 'GROCERIES',\n",
       " 'RENT',\n",
       " 'FOOD_AND_BEVERAGES',\n",
       " 'GENERAL_MERCHANDISE',\n",
       " 'FOOD_AND_BEVERAGES',\n",
       " 'GENERAL_MERCHANDISE',\n",
       " 'FOOD_AND_BEVERAGES',\n",
       " 'FOOD_AND_BEVERAGES',\n",
       " 'GENERAL_MERCHANDISE',\n",
       " 'GROCERIES',\n",
       " 'FOOD_AND_BEVERAGES',\n",
       " 'FOOD_AND_BEVERAGES',\n",
       " 'GROCERIES',\n",
       " 'FOOD_AND_BEVERAGES',\n",
       " 'GROCERIES',\n",
       " 'GENERAL_MERCHANDISE',\n",
       " 'GENERAL_MERCHANDISE',\n",
       " 'FOOD_AND_BEVERAGES',\n",
       " 'FOOD_AND_BEVERAGES',\n",
       " 'GENERAL_MERCHANDISE',\n",
       " 'FOOD_AND_BEVERAGES',\n",
       " 'FOOD_AND_BEVERAGES',\n",
       " 'GROCERIES',\n",
       " 'GROCERIES',\n",
       " 'FOOD_AND_BEVERAGES',\n",
       " 'FOOD_AND_BEVERAGES',\n",
       " 'FOOD_AND_BEVERAGES',\n",
       " 'GROCERIES',\n",
       " 'GROCERIES',\n",
       " 'GROCERIES',\n",
       " 'FOOD_AND_BEVERAGES',\n",
       " 'FOOD_AND_BEVERAGES',\n",
       " 'FOOD_AND_BEVERAGES',\n",
       " 'GENERAL_MERCHANDISE',\n",
       " 'FOOD_AND_BEVERAGES',\n",
       " 'FOOD_AND_BEVERAGES',\n",
       " 'GENERAL_MERCHANDISE',\n",
       " 'OVERDRAFT',\n",
       " 'GENERAL_MERCHANDISE',\n",
       " 'GENERAL_MERCHANDISE',\n",
       " 'GENERAL_MERCHANDISE',\n",
       " 'GENERAL_MERCHANDISE',\n",
       " 'GROCERIES',\n",
       " 'FOOD_AND_BEVERAGES',\n",
       " 'FOOD_AND_BEVERAGES',\n",
       " 'GENERAL_MERCHANDISE',\n",
       " 'TRAVEL',\n",
       " 'GENERAL_MERCHANDISE',\n",
       " 'GENERAL_MERCHANDISE',\n",
       " 'GROCERIES',\n",
       " 'GENERAL_MERCHANDISE',\n",
       " 'GENERAL_MERCHANDISE',\n",
       " 'GENERAL_MERCHANDISE',\n",
       " 'GROCERIES',\n",
       " 'FOOD_AND_BEVERAGES',\n",
       " 'FOOD_AND_BEVERAGES',\n",
       " 'GENERAL_MERCHANDISE',\n",
       " 'GROCERIES',\n",
       " 'FOOD_AND_BEVERAGES',\n",
       " 'GENERAL_MERCHANDISE',\n",
       " 'GROCERIES',\n",
       " 'GENERAL_MERCHANDISE',\n",
       " 'GENERAL_MERCHANDISE',\n",
       " 'OVERDRAFT',\n",
       " 'GROCERIES',\n",
       " 'GROCERIES',\n",
       " 'GENERAL_MERCHANDISE',\n",
       " 'GROCERIES',\n",
       " 'FOOD_AND_BEVERAGES',\n",
       " 'TRAVEL',\n",
       " 'FOOD_AND_BEVERAGES',\n",
       " 'TRAVEL',\n",
       " 'GENERAL_MERCHANDISE',\n",
       " 'FOOD_AND_BEVERAGES',\n",
       " 'GENERAL_MERCHANDISE',\n",
       " 'FOOD_AND_BEVERAGES',\n",
       " 'FOOD_AND_BEVERAGES',\n",
       " 'FOOD_AND_BEVERAGES',\n",
       " 'FOOD_AND_BEVERAGES',\n",
       " 'FOOD_AND_BEVERAGES',\n",
       " 'GENERAL_MERCHANDISE',\n",
       " 'FOOD_AND_BEVERAGES',\n",
       " 'GROCERIES',\n",
       " 'GENERAL_MERCHANDISE',\n",
       " 'GENERAL_MERCHANDISE',\n",
       " 'GROCERIES',\n",
       " 'GENERAL_MERCHANDISE',\n",
       " 'GENERAL_MERCHANDISE',\n",
       " 'GROCERIES',\n",
       " 'GENERAL_MERCHANDISE',\n",
       " 'FOOD_AND_BEVERAGES',\n",
       " 'GROCERIES',\n",
       " 'FOOD_AND_BEVERAGES',\n",
       " 'FOOD_AND_BEVERAGES',\n",
       " 'GENERAL_MERCHANDISE',\n",
       " 'FOOD_AND_BEVERAGES',\n",
       " 'FOOD_AND_BEVERAGES',\n",
       " 'GENERAL_MERCHANDISE',\n",
       " 'GROCERIES',\n",
       " 'GENERAL_MERCHANDISE',\n",
       " 'GENERAL_MERCHANDISE',\n",
       " 'FOOD_AND_BEVERAGES',\n",
       " 'FOOD_AND_BEVERAGES',\n",
       " 'TRAVEL',\n",
       " 'FOOD_AND_BEVERAGES',\n",
       " 'GENERAL_MERCHANDISE',\n",
       " 'FOOD_AND_BEVERAGES',\n",
       " 'FOOD_AND_BEVERAGES',\n",
       " 'GENERAL_MERCHANDISE',\n",
       " 'GROCERIES',\n",
       " 'FOOD_AND_BEVERAGES',\n",
       " 'GROCERIES',\n",
       " 'FOOD_AND_BEVERAGES',\n",
       " 'FOOD_AND_BEVERAGES',\n",
       " 'GENERAL_MERCHANDISE',\n",
       " 'GENERAL_MERCHANDISE',\n",
       " 'FOOD_AND_BEVERAGES',\n",
       " 'FOOD_AND_BEVERAGES',\n",
       " 'GROCERIES',\n",
       " 'GROCERIES',\n",
       " 'GENERAL_MERCHANDISE',\n",
       " 'GENERAL_MERCHANDISE',\n",
       " 'GROCERIES',\n",
       " 'TRAVEL',\n",
       " 'FOOD_AND_BEVERAGES',\n",
       " 'FOOD_AND_BEVERAGES',\n",
       " 'GROCERIES',\n",
       " 'FOOD_AND_BEVERAGES',\n",
       " 'GENERAL_MERCHANDISE',\n",
       " 'GENERAL_MERCHANDISE',\n",
       " 'FOOD_AND_BEVERAGES',\n",
       " 'GENERAL_MERCHANDISE',\n",
       " 'FOOD_AND_BEVERAGES',\n",
       " 'TRAVEL',\n",
       " 'FOOD_AND_BEVERAGES',\n",
       " 'GENERAL_MERCHANDISE',\n",
       " 'TRAVEL',\n",
       " 'GENERAL_MERCHANDISE',\n",
       " 'GENERAL_MERCHANDISE',\n",
       " 'FOOD_AND_BEVERAGES',\n",
       " 'GENERAL_MERCHANDISE',\n",
       " 'GENERAL_MERCHANDISE',\n",
       " 'GENERAL_MERCHANDISE',\n",
       " 'FOOD_AND_BEVERAGES',\n",
       " 'FOOD_AND_BEVERAGES',\n",
       " 'GENERAL_MERCHANDISE',\n",
       " 'GROCERIES',\n",
       " 'GENERAL_MERCHANDISE',\n",
       " 'GENERAL_MERCHANDISE',\n",
       " 'GENERAL_MERCHANDISE',\n",
       " 'FOOD_AND_BEVERAGES',\n",
       " 'GENERAL_MERCHANDISE',\n",
       " 'FOOD_AND_BEVERAGES',\n",
       " 'FOOD_AND_BEVERAGES',\n",
       " 'FOOD_AND_BEVERAGES',\n",
       " 'GENERAL_MERCHANDISE',\n",
       " 'FOOD_AND_BEVERAGES',\n",
       " 'FOOD_AND_BEVERAGES',\n",
       " 'FOOD_AND_BEVERAGES',\n",
       " 'GENERAL_MERCHANDISE',\n",
       " 'FOOD_AND_BEVERAGES',\n",
       " 'TRAVEL',\n",
       " 'GENERAL_MERCHANDISE',\n",
       " 'GROCERIES',\n",
       " 'FOOD_AND_BEVERAGES',\n",
       " 'GROCERIES',\n",
       " 'GENERAL_MERCHANDISE',\n",
       " 'GENERAL_MERCHANDISE',\n",
       " 'GENERAL_MERCHANDISE',\n",
       " 'GENERAL_MERCHANDISE',\n",
       " 'GENERAL_MERCHANDISE',\n",
       " 'GENERAL_MERCHANDISE',\n",
       " 'GENERAL_MERCHANDISE',\n",
       " 'GROCERIES',\n",
       " 'FOOD_AND_BEVERAGES',\n",
       " 'TRAVEL',\n",
       " 'TRAVEL',\n",
       " 'FOOD_AND_BEVERAGES',\n",
       " 'GENERAL_MERCHANDISE',\n",
       " 'GENERAL_MERCHANDISE',\n",
       " 'GROCERIES',\n",
       " 'GENERAL_MERCHANDISE',\n",
       " 'GROCERIES',\n",
       " 'GENERAL_MERCHANDISE',\n",
       " 'FOOD_AND_BEVERAGES',\n",
       " 'GENERAL_MERCHANDISE',\n",
       " 'GENERAL_MERCHANDISE',\n",
       " 'GROCERIES',\n",
       " 'GENERAL_MERCHANDISE',\n",
       " 'GENERAL_MERCHANDISE',\n",
       " 'GENERAL_MERCHANDISE',\n",
       " 'FOOD_AND_BEVERAGES',\n",
       " 'GENERAL_MERCHANDISE',\n",
       " 'GENERAL_MERCHANDISE',\n",
       " 'FOOD_AND_BEVERAGES',\n",
       " 'GENERAL_MERCHANDISE',\n",
       " 'FOOD_AND_BEVERAGES',\n",
       " 'TRAVEL',\n",
       " 'GENERAL_MERCHANDISE',\n",
       " 'GENERAL_MERCHANDISE',\n",
       " 'GENERAL_MERCHANDISE',\n",
       " 'FOOD_AND_BEVERAGES',\n",
       " 'GENERAL_MERCHANDISE',\n",
       " 'TRAVEL',\n",
       " 'FOOD_AND_BEVERAGES',\n",
       " 'GENERAL_MERCHANDISE',\n",
       " 'GENERAL_MERCHANDISE',\n",
       " 'FOOD_AND_BEVERAGES',\n",
       " 'FOOD_AND_BEVERAGES',\n",
       " 'GROCERIES',\n",
       " 'TRAVEL',\n",
       " 'FOOD_AND_BEVERAGES',\n",
       " 'FOOD_AND_BEVERAGES',\n",
       " 'FOOD_AND_BEVERAGES',\n",
       " 'FOOD_AND_BEVERAGES',\n",
       " 'EDUCATION',\n",
       " 'GROCERIES',\n",
       " 'GENERAL_MERCHANDISE',\n",
       " 'FOOD_AND_BEVERAGES',\n",
       " 'FOOD_AND_BEVERAGES',\n",
       " 'FOOD_AND_BEVERAGES',\n",
       " 'GENERAL_MERCHANDISE',\n",
       " 'GENERAL_MERCHANDISE',\n",
       " 'FOOD_AND_BEVERAGES',\n",
       " 'GENERAL_MERCHANDISE',\n",
       " 'GROCERIES',\n",
       " 'FOOD_AND_BEVERAGES',\n",
       " 'GENERAL_MERCHANDISE',\n",
       " 'GROCERIES',\n",
       " 'GROCERIES',\n",
       " 'GENERAL_MERCHANDISE',\n",
       " 'GROCERIES',\n",
       " 'GROCERIES',\n",
       " 'FOOD_AND_BEVERAGES',\n",
       " 'GROCERIES',\n",
       " 'PETS',\n",
       " 'FOOD_AND_BEVERAGES',\n",
       " 'GENERAL_MERCHANDISE',\n",
       " 'GENERAL_MERCHANDISE',\n",
       " 'GROCERIES',\n",
       " 'FOOD_AND_BEVERAGES',\n",
       " 'FOOD_AND_BEVERAGES',\n",
       " 'FOOD_AND_BEVERAGES',\n",
       " 'GENERAL_MERCHANDISE',\n",
       " 'FOOD_AND_BEVERAGES',\n",
       " 'GENERAL_MERCHANDISE',\n",
       " 'GENERAL_MERCHANDISE',\n",
       " 'FOOD_AND_BEVERAGES',\n",
       " 'GROCERIES',\n",
       " 'GENERAL_MERCHANDISE',\n",
       " 'FOOD_AND_BEVERAGES',\n",
       " 'TRAVEL',\n",
       " 'GENERAL_MERCHANDISE',\n",
       " 'GROCERIES',\n",
       " 'GENERAL_MERCHANDISE',\n",
       " 'GENERAL_MERCHANDISE',\n",
       " 'FOOD_AND_BEVERAGES',\n",
       " 'GROCERIES',\n",
       " 'GENERAL_MERCHANDISE',\n",
       " 'GENERAL_MERCHANDISE',\n",
       " 'TRAVEL',\n",
       " 'TRAVEL',\n",
       " 'FOOD_AND_BEVERAGES',\n",
       " 'GENERAL_MERCHANDISE',\n",
       " 'GENERAL_MERCHANDISE',\n",
       " 'FOOD_AND_BEVERAGES',\n",
       " 'GENERAL_MERCHANDISE',\n",
       " 'GENERAL_MERCHANDISE',\n",
       " 'GENERAL_MERCHANDISE',\n",
       " 'FOOD_AND_BEVERAGES',\n",
       " 'GENERAL_MERCHANDISE',\n",
       " 'FOOD_AND_BEVERAGES',\n",
       " 'FOOD_AND_BEVERAGES',\n",
       " 'GENERAL_MERCHANDISE',\n",
       " 'GENERAL_MERCHANDISE',\n",
       " 'GENERAL_MERCHANDISE',\n",
       " 'GENERAL_MERCHANDISE',\n",
       " 'FOOD_AND_BEVERAGES',\n",
       " 'GROCERIES',\n",
       " 'GROCERIES',\n",
       " 'GENERAL_MERCHANDISE',\n",
       " 'GENERAL_MERCHANDISE',\n",
       " 'GENERAL_MERCHANDISE',\n",
       " 'TRAVEL',\n",
       " 'FOOD_AND_BEVERAGES',\n",
       " 'GENERAL_MERCHANDISE',\n",
       " 'GROCERIES',\n",
       " 'GROCERIES',\n",
       " 'FOOD_AND_BEVERAGES',\n",
       " 'FOOD_AND_BEVERAGES',\n",
       " 'FOOD_AND_BEVERAGES',\n",
       " 'FOOD_AND_BEVERAGES',\n",
       " 'GROCERIES',\n",
       " 'FOOD_AND_BEVERAGES',\n",
       " 'FOOD_AND_BEVERAGES',\n",
       " 'FOOD_AND_BEVERAGES',\n",
       " 'FOOD_AND_BEVERAGES',\n",
       " 'FOOD_AND_BEVERAGES',\n",
       " 'GENERAL_MERCHANDISE',\n",
       " 'GENERAL_MERCHANDISE',\n",
       " 'PETS',\n",
       " 'GENERAL_MERCHANDISE',\n",
       " 'FOOD_AND_BEVERAGES',\n",
       " 'GENERAL_MERCHANDISE',\n",
       " 'FOOD_AND_BEVERAGES',\n",
       " 'GENERAL_MERCHANDISE',\n",
       " 'FOOD_AND_BEVERAGES',\n",
       " 'GROCERIES',\n",
       " 'GENERAL_MERCHANDISE',\n",
       " 'GENERAL_MERCHANDISE',\n",
       " 'FOOD_AND_BEVERAGES',\n",
       " 'FOOD_AND_BEVERAGES',\n",
       " 'GROCERIES',\n",
       " 'GROCERIES',\n",
       " 'FOOD_AND_BEVERAGES',\n",
       " 'GENERAL_MERCHANDISE',\n",
       " 'FOOD_AND_BEVERAGES',\n",
       " 'GENERAL_MERCHANDISE',\n",
       " 'GENERAL_MERCHANDISE',\n",
       " 'FOOD_AND_BEVERAGES',\n",
       " 'GENERAL_MERCHANDISE',\n",
       " 'GENERAL_MERCHANDISE',\n",
       " 'FOOD_AND_BEVERAGES',\n",
       " 'GENERAL_MERCHANDISE',\n",
       " 'GROCERIES',\n",
       " 'GENERAL_MERCHANDISE',\n",
       " 'FOOD_AND_BEVERAGES',\n",
       " 'GENERAL_MERCHANDISE',\n",
       " 'TRAVEL',\n",
       " 'GENERAL_MERCHANDISE',\n",
       " 'FOOD_AND_BEVERAGES',\n",
       " 'GENERAL_MERCHANDISE',\n",
       " 'FOOD_AND_BEVERAGES',\n",
       " 'FOOD_AND_BEVERAGES',\n",
       " 'FOOD_AND_BEVERAGES',\n",
       " 'GENERAL_MERCHANDISE',\n",
       " 'OVERDRAFT',\n",
       " 'FOOD_AND_BEVERAGES',\n",
       " 'FOOD_AND_BEVERAGES',\n",
       " 'GENERAL_MERCHANDISE',\n",
       " 'GENERAL_MERCHANDISE',\n",
       " 'GENERAL_MERCHANDISE',\n",
       " 'GROCERIES',\n",
       " 'GENERAL_MERCHANDISE',\n",
       " 'GENERAL_MERCHANDISE',\n",
       " 'GENERAL_MERCHANDISE',\n",
       " 'GENERAL_MERCHANDISE',\n",
       " 'GENERAL_MERCHANDISE',\n",
       " 'GROCERIES',\n",
       " 'EDUCATION',\n",
       " 'GENERAL_MERCHANDISE',\n",
       " 'FOOD_AND_BEVERAGES',\n",
       " 'FOOD_AND_BEVERAGES',\n",
       " 'GENERAL_MERCHANDISE',\n",
       " 'GENERAL_MERCHANDISE',\n",
       " 'FOOD_AND_BEVERAGES',\n",
       " 'FOOD_AND_BEVERAGES',\n",
       " 'FOOD_AND_BEVERAGES',\n",
       " 'GENERAL_MERCHANDISE',\n",
       " 'GROCERIES',\n",
       " 'GROCERIES',\n",
       " 'GENERAL_MERCHANDISE',\n",
       " 'GENERAL_MERCHANDISE',\n",
       " 'GENERAL_MERCHANDISE',\n",
       " 'FOOD_AND_BEVERAGES',\n",
       " 'GROCERIES',\n",
       " 'GROCERIES',\n",
       " 'GENERAL_MERCHANDISE',\n",
       " 'FOOD_AND_BEVERAGES',\n",
       " 'GENERAL_MERCHANDISE',\n",
       " 'FOOD_AND_BEVERAGES',\n",
       " 'GENERAL_MERCHANDISE',\n",
       " 'GROCERIES',\n",
       " 'GENERAL_MERCHANDISE',\n",
       " 'FOOD_AND_BEVERAGES',\n",
       " 'GENERAL_MERCHANDISE',\n",
       " 'GROCERIES',\n",
       " 'FOOD_AND_BEVERAGES',\n",
       " 'FOOD_AND_BEVERAGES',\n",
       " 'GENERAL_MERCHANDISE',\n",
       " 'FOOD_AND_BEVERAGES',\n",
       " 'FOOD_AND_BEVERAGES',\n",
       " 'FOOD_AND_BEVERAGES',\n",
       " 'FOOD_AND_BEVERAGES',\n",
       " 'GENERAL_MERCHANDISE',\n",
       " 'FOOD_AND_BEVERAGES',\n",
       " 'FOOD_AND_BEVERAGES',\n",
       " 'GENERAL_MERCHANDISE',\n",
       " 'FOOD_AND_BEVERAGES',\n",
       " 'GROCERIES',\n",
       " 'FOOD_AND_BEVERAGES',\n",
       " 'GROCERIES',\n",
       " 'FOOD_AND_BEVERAGES',\n",
       " 'GENERAL_MERCHANDISE',\n",
       " 'FOOD_AND_BEVERAGES',\n",
       " 'FOOD_AND_BEVERAGES',\n",
       " 'GENERAL_MERCHANDISE',\n",
       " 'GENERAL_MERCHANDISE',\n",
       " 'GROCERIES',\n",
       " 'GENERAL_MERCHANDISE',\n",
       " 'GROCERIES',\n",
       " 'GENERAL_MERCHANDISE',\n",
       " 'GROCERIES',\n",
       " 'GENERAL_MERCHANDISE',\n",
       " 'FOOD_AND_BEVERAGES',\n",
       " 'GENERAL_MERCHANDISE',\n",
       " 'GENERAL_MERCHANDISE',\n",
       " 'GROCERIES',\n",
       " 'FOOD_AND_BEVERAGES',\n",
       " 'GROCERIES',\n",
       " 'GENERAL_MERCHANDISE',\n",
       " 'GROCERIES',\n",
       " 'GENERAL_MERCHANDISE',\n",
       " 'GROCERIES',\n",
       " 'FOOD_AND_BEVERAGES',\n",
       " 'GENERAL_MERCHANDISE',\n",
       " 'FOOD_AND_BEVERAGES',\n",
       " 'FOOD_AND_BEVERAGES',\n",
       " 'GROCERIES',\n",
       " 'GROCERIES',\n",
       " 'GROCERIES',\n",
       " 'FOOD_AND_BEVERAGES',\n",
       " 'FOOD_AND_BEVERAGES',\n",
       " 'GENERAL_MERCHANDISE',\n",
       " 'GENERAL_MERCHANDISE',\n",
       " 'GENERAL_MERCHANDISE',\n",
       " 'GENERAL_MERCHANDISE',\n",
       " 'GENERAL_MERCHANDISE',\n",
       " 'GROCERIES',\n",
       " 'FOOD_AND_BEVERAGES',\n",
       " 'GENERAL_MERCHANDISE',\n",
       " 'GROCERIES',\n",
       " 'GENERAL_MERCHANDISE',\n",
       " 'GENERAL_MERCHANDISE',\n",
       " 'GROCERIES',\n",
       " 'GROCERIES',\n",
       " 'GROCERIES',\n",
       " 'GROCERIES',\n",
       " 'GENERAL_MERCHANDISE',\n",
       " 'FOOD_AND_BEVERAGES',\n",
       " 'GROCERIES',\n",
       " 'GENERAL_MERCHANDISE',\n",
       " 'FOOD_AND_BEVERAGES',\n",
       " 'GENERAL_MERCHANDISE',\n",
       " 'GENERAL_MERCHANDISE',\n",
       " 'GROCERIES',\n",
       " 'GENERAL_MERCHANDISE',\n",
       " 'FOOD_AND_BEVERAGES',\n",
       " 'GENERAL_MERCHANDISE',\n",
       " 'FOOD_AND_BEVERAGES',\n",
       " 'FOOD_AND_BEVERAGES',\n",
       " 'FOOD_AND_BEVERAGES',\n",
       " 'FOOD_AND_BEVERAGES',\n",
       " 'GENERAL_MERCHANDISE',\n",
       " 'GENERAL_MERCHANDISE',\n",
       " 'GENERAL_MERCHANDISE',\n",
       " 'FOOD_AND_BEVERAGES',\n",
       " 'GENERAL_MERCHANDISE',\n",
       " 'GENERAL_MERCHANDISE',\n",
       " 'GENERAL_MERCHANDISE',\n",
       " 'FOOD_AND_BEVERAGES',\n",
       " 'GENERAL_MERCHANDISE',\n",
       " 'FOOD_AND_BEVERAGES',\n",
       " 'TRAVEL',\n",
       " 'GENERAL_MERCHANDISE',\n",
       " 'FOOD_AND_BEVERAGES',\n",
       " 'GROCERIES',\n",
       " 'GENERAL_MERCHANDISE',\n",
       " 'GROCERIES',\n",
       " 'FOOD_AND_BEVERAGES',\n",
       " 'GENERAL_MERCHANDISE',\n",
       " 'GENERAL_MERCHANDISE',\n",
       " 'GENERAL_MERCHANDISE',\n",
       " 'GENERAL_MERCHANDISE',\n",
       " 'FOOD_AND_BEVERAGES',\n",
       " 'GROCERIES',\n",
       " 'GROCERIES',\n",
       " 'GROCERIES',\n",
       " 'FOOD_AND_BEVERAGES',\n",
       " 'GENERAL_MERCHANDISE',\n",
       " 'FOOD_AND_BEVERAGES',\n",
       " 'GENERAL_MERCHANDISE',\n",
       " 'GROCERIES',\n",
       " 'GENERAL_MERCHANDISE',\n",
       " 'GENERAL_MERCHANDISE',\n",
       " 'GROCERIES',\n",
       " 'GENERAL_MERCHANDISE',\n",
       " 'GENERAL_MERCHANDISE',\n",
       " 'GENERAL_MERCHANDISE',\n",
       " 'FOOD_AND_BEVERAGES',\n",
       " 'GROCERIES',\n",
       " 'GENERAL_MERCHANDISE',\n",
       " 'GROCERIES',\n",
       " 'GENERAL_MERCHANDISE',\n",
       " 'FOOD_AND_BEVERAGES',\n",
       " 'FOOD_AND_BEVERAGES',\n",
       " 'GENERAL_MERCHANDISE',\n",
       " 'GENERAL_MERCHANDISE',\n",
       " 'FOOD_AND_BEVERAGES',\n",
       " 'FOOD_AND_BEVERAGES',\n",
       " 'GENERAL_MERCHANDISE',\n",
       " 'FOOD_AND_BEVERAGES',\n",
       " 'TRAVEL',\n",
       " 'FOOD_AND_BEVERAGES',\n",
       " 'GROCERIES',\n",
       " 'GENERAL_MERCHANDISE',\n",
       " 'FOOD_AND_BEVERAGES',\n",
       " 'FOOD_AND_BEVERAGES',\n",
       " 'FOOD_AND_BEVERAGES',\n",
       " 'GENERAL_MERCHANDISE',\n",
       " 'GROCERIES',\n",
       " 'GENERAL_MERCHANDISE',\n",
       " 'TRAVEL',\n",
       " 'GENERAL_MERCHANDISE',\n",
       " 'GROCERIES',\n",
       " 'GENERAL_MERCHANDISE',\n",
       " 'FOOD_AND_BEVERAGES',\n",
       " 'TRAVEL',\n",
       " 'PETS',\n",
       " 'FOOD_AND_BEVERAGES',\n",
       " 'FOOD_AND_BEVERAGES',\n",
       " 'GROCERIES',\n",
       " 'FOOD_AND_BEVERAGES',\n",
       " 'GENERAL_MERCHANDISE',\n",
       " 'FOOD_AND_BEVERAGES',\n",
       " 'GROCERIES',\n",
       " 'GENERAL_MERCHANDISE',\n",
       " 'GENERAL_MERCHANDISE',\n",
       " 'FOOD_AND_BEVERAGES',\n",
       " 'GENERAL_MERCHANDISE',\n",
       " 'TRAVEL',\n",
       " 'FOOD_AND_BEVERAGES',\n",
       " 'GENERAL_MERCHANDISE',\n",
       " 'GROCERIES',\n",
       " 'GENERAL_MERCHANDISE',\n",
       " 'GENERAL_MERCHANDISE',\n",
       " 'GROCERIES',\n",
       " 'GENERAL_MERCHANDISE',\n",
       " 'FOOD_AND_BEVERAGES',\n",
       " 'FOOD_AND_BEVERAGES',\n",
       " 'FOOD_AND_BEVERAGES',\n",
       " 'GENERAL_MERCHANDISE',\n",
       " 'TRAVEL',\n",
       " 'FOOD_AND_BEVERAGES',\n",
       " 'FOOD_AND_BEVERAGES',\n",
       " 'GENERAL_MERCHANDISE',\n",
       " 'FOOD_AND_BEVERAGES',\n",
       " 'GENERAL_MERCHANDISE',\n",
       " 'GROCERIES',\n",
       " 'TRAVEL',\n",
       " 'GROCERIES',\n",
       " 'GENERAL_MERCHANDISE',\n",
       " 'FOOD_AND_BEVERAGES',\n",
       " 'GENERAL_MERCHANDISE',\n",
       " 'GROCERIES',\n",
       " 'FOOD_AND_BEVERAGES',\n",
       " 'FOOD_AND_BEVERAGES',\n",
       " 'GENERAL_MERCHANDISE',\n",
       " 'TRAVEL',\n",
       " 'GROCERIES',\n",
       " 'FOOD_AND_BEVERAGES',\n",
       " 'FOOD_AND_BEVERAGES',\n",
       " 'FOOD_AND_BEVERAGES',\n",
       " 'FOOD_AND_BEVERAGES',\n",
       " 'GENERAL_MERCHANDISE',\n",
       " 'GROCERIES',\n",
       " 'FOOD_AND_BEVERAGES',\n",
       " 'GENERAL_MERCHANDISE',\n",
       " 'FOOD_AND_BEVERAGES',\n",
       " 'FOOD_AND_BEVERAGES',\n",
       " 'FOOD_AND_BEVERAGES',\n",
       " 'FOOD_AND_BEVERAGES',\n",
       " 'FOOD_AND_BEVERAGES',\n",
       " 'FOOD_AND_BEVERAGES',\n",
       " 'GENERAL_MERCHANDISE',\n",
       " 'FOOD_AND_BEVERAGES',\n",
       " 'FOOD_AND_BEVERAGES',\n",
       " 'FOOD_AND_BEVERAGES',\n",
       " 'TRAVEL',\n",
       " 'FOOD_AND_BEVERAGES',\n",
       " 'GENERAL_MERCHANDISE',\n",
       " 'GENERAL_MERCHANDISE',\n",
       " 'FOOD_AND_BEVERAGES',\n",
       " 'FOOD_AND_BEVERAGES',\n",
       " 'FOOD_AND_BEVERAGES',\n",
       " 'FOOD_AND_BEVERAGES',\n",
       " 'GENERAL_MERCHANDISE',\n",
       " 'GENERAL_MERCHANDISE',\n",
       " 'GENERAL_MERCHANDISE',\n",
       " 'GENERAL_MERCHANDISE',\n",
       " 'FOOD_AND_BEVERAGES',\n",
       " 'FOOD_AND_BEVERAGES',\n",
       " 'GENERAL_MERCHANDISE',\n",
       " 'GENERAL_MERCHANDISE',\n",
       " 'GROCERIES',\n",
       " 'GROCERIES',\n",
       " 'GENERAL_MERCHANDISE',\n",
       " 'GROCERIES',\n",
       " 'GROCERIES',\n",
       " 'FOOD_AND_BEVERAGES',\n",
       " 'TRAVEL',\n",
       " 'GROCERIES',\n",
       " 'GROCERIES',\n",
       " 'FOOD_AND_BEVERAGES',\n",
       " 'GROCERIES',\n",
       " 'FOOD_AND_BEVERAGES',\n",
       " 'FOOD_AND_BEVERAGES',\n",
       " 'FOOD_AND_BEVERAGES',\n",
       " 'GROCERIES',\n",
       " 'FOOD_AND_BEVERAGES',\n",
       " 'TRAVEL',\n",
       " 'GENERAL_MERCHANDISE',\n",
       " 'GENERAL_MERCHANDISE',\n",
       " 'GROCERIES',\n",
       " 'FOOD_AND_BEVERAGES',\n",
       " 'GENERAL_MERCHANDISE',\n",
       " 'GROCERIES',\n",
       " 'GENERAL_MERCHANDISE',\n",
       " 'TRAVEL',\n",
       " 'GROCERIES',\n",
       " 'GENERAL_MERCHANDISE',\n",
       " 'GENERAL_MERCHANDISE',\n",
       " 'GROCERIES',\n",
       " 'EDUCATION',\n",
       " 'GROCERIES',\n",
       " 'GENERAL_MERCHANDISE',\n",
       " 'GROCERIES',\n",
       " 'GENERAL_MERCHANDISE',\n",
       " 'GROCERIES',\n",
       " 'GROCERIES',\n",
       " 'FOOD_AND_BEVERAGES',\n",
       " 'FOOD_AND_BEVERAGES',\n",
       " 'GENERAL_MERCHANDISE',\n",
       " 'PETS',\n",
       " 'GENERAL_MERCHANDISE',\n",
       " 'FOOD_AND_BEVERAGES',\n",
       " 'GROCERIES',\n",
       " 'GENERAL_MERCHANDISE',\n",
       " 'GENERAL_MERCHANDISE',\n",
       " 'FOOD_AND_BEVERAGES',\n",
       " 'FOOD_AND_BEVERAGES',\n",
       " 'GENERAL_MERCHANDISE',\n",
       " 'GROCERIES',\n",
       " 'FOOD_AND_BEVERAGES',\n",
       " 'GROCERIES',\n",
       " 'GENERAL_MERCHANDISE',\n",
       " 'GROCERIES',\n",
       " 'GENERAL_MERCHANDISE',\n",
       " 'GROCERIES',\n",
       " 'GENERAL_MERCHANDISE',\n",
       " 'FOOD_AND_BEVERAGES',\n",
       " 'GROCERIES',\n",
       " 'FOOD_AND_BEVERAGES',\n",
       " 'FOOD_AND_BEVERAGES',\n",
       " 'GROCERIES',\n",
       " 'GROCERIES',\n",
       " 'GENERAL_MERCHANDISE',\n",
       " 'GROCERIES',\n",
       " 'GENERAL_MERCHANDISE',\n",
       " 'EDUCATION',\n",
       " 'FOOD_AND_BEVERAGES',\n",
       " 'GROCERIES',\n",
       " 'GENERAL_MERCHANDISE',\n",
       " 'FOOD_AND_BEVERAGES',\n",
       " 'GENERAL_MERCHANDISE',\n",
       " 'GENERAL_MERCHANDISE',\n",
       " 'FOOD_AND_BEVERAGES',\n",
       " 'GENERAL_MERCHANDISE',\n",
       " 'FOOD_AND_BEVERAGES',\n",
       " 'TRAVEL',\n",
       " 'GENERAL_MERCHANDISE',\n",
       " 'FOOD_AND_BEVERAGES',\n",
       " 'FOOD_AND_BEVERAGES',\n",
       " 'GROCERIES',\n",
       " 'TRAVEL',\n",
       " 'GENERAL_MERCHANDISE',\n",
       " 'GENERAL_MERCHANDISE',\n",
       " 'GROCERIES',\n",
       " 'FOOD_AND_BEVERAGES',\n",
       " 'GROCERIES',\n",
       " 'TRAVEL',\n",
       " 'FOOD_AND_BEVERAGES',\n",
       " 'GROCERIES',\n",
       " 'GROCERIES',\n",
       " 'FOOD_AND_BEVERAGES',\n",
       " 'GROCERIES',\n",
       " 'FOOD_AND_BEVERAGES',\n",
       " 'GENERAL_MERCHANDISE',\n",
       " 'GENERAL_MERCHANDISE',\n",
       " 'FOOD_AND_BEVERAGES',\n",
       " 'GROCERIES',\n",
       " 'GENERAL_MERCHANDISE',\n",
       " 'GENERAL_MERCHANDISE',\n",
       " 'FOOD_AND_BEVERAGES',\n",
       " 'GENERAL_MERCHANDISE',\n",
       " 'TRAVEL',\n",
       " 'GENERAL_MERCHANDISE',\n",
       " 'PETS',\n",
       " 'FOOD_AND_BEVERAGES',\n",
       " 'FOOD_AND_BEVERAGES',\n",
       " 'GROCERIES',\n",
       " 'GENERAL_MERCHANDISE',\n",
       " 'FOOD_AND_BEVERAGES',\n",
       " 'GENERAL_MERCHANDISE',\n",
       " 'TRAVEL',\n",
       " 'GENERAL_MERCHANDISE',\n",
       " 'FOOD_AND_BEVERAGES',\n",
       " 'GENERAL_MERCHANDISE',\n",
       " 'GENERAL_MERCHANDISE',\n",
       " 'GENERAL_MERCHANDISE',\n",
       " 'GENERAL_MERCHANDISE',\n",
       " 'GENERAL_MERCHANDISE',\n",
       " 'GENERAL_MERCHANDISE',\n",
       " 'GROCERIES',\n",
       " 'GENERAL_MERCHANDISE',\n",
       " 'GENERAL_MERCHANDISE',\n",
       " 'FOOD_AND_BEVERAGES',\n",
       " 'FOOD_AND_BEVERAGES',\n",
       " 'GENERAL_MERCHANDISE',\n",
       " 'GENERAL_MERCHANDISE',\n",
       " 'GROCERIES',\n",
       " 'GENERAL_MERCHANDISE',\n",
       " 'GENERAL_MERCHANDISE',\n",
       " 'FOOD_AND_BEVERAGES',\n",
       " 'FOOD_AND_BEVERAGES',\n",
       " 'FOOD_AND_BEVERAGES',\n",
       " 'GENERAL_MERCHANDISE',\n",
       " 'GENERAL_MERCHANDISE',\n",
       " 'GENERAL_MERCHANDISE',\n",
       " 'GROCERIES',\n",
       " 'FOOD_AND_BEVERAGES',\n",
       " 'GROCERIES',\n",
       " 'GENERAL_MERCHANDISE',\n",
       " 'GENERAL_MERCHANDISE',\n",
       " 'FOOD_AND_BEVERAGES',\n",
       " 'GENERAL_MERCHANDISE',\n",
       " 'GROCERIES',\n",
       " 'GENERAL_MERCHANDISE',\n",
       " 'FOOD_AND_BEVERAGES',\n",
       " 'GENERAL_MERCHANDISE',\n",
       " 'FOOD_AND_BEVERAGES',\n",
       " 'GROCERIES',\n",
       " 'GENERAL_MERCHANDISE',\n",
       " 'GENERAL_MERCHANDISE',\n",
       " 'GENERAL_MERCHANDISE',\n",
       " 'GENERAL_MERCHANDISE',\n",
       " 'FOOD_AND_BEVERAGES',\n",
       " 'FOOD_AND_BEVERAGES',\n",
       " 'FOOD_AND_BEVERAGES',\n",
       " 'GENERAL_MERCHANDISE',\n",
       " 'GENERAL_MERCHANDISE',\n",
       " 'GENERAL_MERCHANDISE',\n",
       " 'GROCERIES',\n",
       " 'GROCERIES',\n",
       " 'GENERAL_MERCHANDISE',\n",
       " 'GENERAL_MERCHANDISE',\n",
       " 'GROCERIES',\n",
       " 'GENERAL_MERCHANDISE',\n",
       " 'PETS',\n",
       " 'GENERAL_MERCHANDISE',\n",
       " 'GENERAL_MERCHANDISE',\n",
       " 'GENERAL_MERCHANDISE',\n",
       " 'GENERAL_MERCHANDISE',\n",
       " 'FOOD_AND_BEVERAGES',\n",
       " 'FOOD_AND_BEVERAGES',\n",
       " 'GROCERIES',\n",
       " 'FOOD_AND_BEVERAGES',\n",
       " 'FOOD_AND_BEVERAGES',\n",
       " 'FOOD_AND_BEVERAGES',\n",
       " 'GROCERIES',\n",
       " 'GENERAL_MERCHANDISE',\n",
       " 'GENERAL_MERCHANDISE',\n",
       " 'GENERAL_MERCHANDISE',\n",
       " 'GENERAL_MERCHANDISE',\n",
       " 'GENERAL_MERCHANDISE',\n",
       " 'GENERAL_MERCHANDISE',\n",
       " 'GROCERIES',\n",
       " 'GENERAL_MERCHANDISE',\n",
       " 'GENERAL_MERCHANDISE',\n",
       " 'GROCERIES',\n",
       " 'FOOD_AND_BEVERAGES',\n",
       " 'GROCERIES',\n",
       " 'GENERAL_MERCHANDISE',\n",
       " 'GENERAL_MERCHANDISE',\n",
       " 'FOOD_AND_BEVERAGES',\n",
       " 'GENERAL_MERCHANDISE',\n",
       " 'GENERAL_MERCHANDISE',\n",
       " 'FOOD_AND_BEVERAGES',\n",
       " 'GENERAL_MERCHANDISE',\n",
       " 'GROCERIES',\n",
       " 'GROCERIES',\n",
       " 'TRAVEL',\n",
       " 'FOOD_AND_BEVERAGES',\n",
       " 'GENERAL_MERCHANDISE',\n",
       " 'TRAVEL',\n",
       " 'GENERAL_MERCHANDISE',\n",
       " 'GENERAL_MERCHANDISE',\n",
       " 'GENERAL_MERCHANDISE',\n",
       " 'GROCERIES',\n",
       " 'FOOD_AND_BEVERAGES',\n",
       " 'GENERAL_MERCHANDISE',\n",
       " 'TRAVEL',\n",
       " 'GENERAL_MERCHANDISE',\n",
       " 'GENERAL_MERCHANDISE',\n",
       " 'GROCERIES',\n",
       " 'TRAVEL',\n",
       " 'GENERAL_MERCHANDISE',\n",
       " 'GENERAL_MERCHANDISE',\n",
       " 'GENERAL_MERCHANDISE',\n",
       " 'GENERAL_MERCHANDISE',\n",
       " 'GENERAL_MERCHANDISE',\n",
       " 'FOOD_AND_BEVERAGES',\n",
       " 'GENERAL_MERCHANDISE',\n",
       " 'GENERAL_MERCHANDISE',\n",
       " 'FOOD_AND_BEVERAGES',\n",
       " 'TRAVEL',\n",
       " 'FOOD_AND_BEVERAGES',\n",
       " 'FOOD_AND_BEVERAGES',\n",
       " 'GENERAL_MERCHANDISE',\n",
       " 'GENERAL_MERCHANDISE',\n",
       " 'FOOD_AND_BEVERAGES',\n",
       " 'FOOD_AND_BEVERAGES',\n",
       " 'GENERAL_MERCHANDISE',\n",
       " 'GENERAL_MERCHANDISE',\n",
       " 'GENERAL_MERCHANDISE',\n",
       " 'GENERAL_MERCHANDISE',\n",
       " 'GENERAL_MERCHANDISE',\n",
       " 'GENERAL_MERCHANDISE',\n",
       " 'GENERAL_MERCHANDISE',\n",
       " 'GENERAL_MERCHANDISE',\n",
       " 'GROCERIES',\n",
       " 'GROCERIES',\n",
       " 'FOOD_AND_BEVERAGES',\n",
       " 'GENERAL_MERCHANDISE',\n",
       " 'FOOD_AND_BEVERAGES',\n",
       " 'GROCERIES',\n",
       " 'GROCERIES',\n",
       " 'FOOD_AND_BEVERAGES',\n",
       " 'FOOD_AND_BEVERAGES',\n",
       " 'FOOD_AND_BEVERAGES',\n",
       " 'FOOD_AND_BEVERAGES',\n",
       " 'FOOD_AND_BEVERAGES',\n",
       " ...]"
      ]
     },
     "execution_count": 61,
     "metadata": {},
     "output_type": "execute_result"
    }
   ],
   "source": [
    "y_test_cats = [id2label[cat_id] for cat_id in y_test]\n",
    "y_test_cats"
   ]
  },
  {
   "cell_type": "code",
   "execution_count": 63,
   "id": "457a3b71-e8f6-4fad-8239-c0eeb35188e5",
   "metadata": {},
   "outputs": [],
   "source": [
    "# make_confusion_matrices(y_test=y_test_cats, preds_test=preds_test)"
   ]
  },
  {
   "cell_type": "markdown",
   "id": "fb90b48e-a974-4e15-8c6c-e2159270596c",
   "metadata": {},
   "source": [
    "## Week 6"
   ]
  },
  {
   "cell_type": "code",
   "execution_count": 64,
   "id": "4de07223-6bf2-4681-9fe1-f35699f4bb7f",
   "metadata": {},
   "outputs": [],
   "source": [
    "from sklearn.svm import LinearSVC"
   ]
  },
  {
   "cell_type": "code",
   "execution_count": 150,
   "id": "5127f58b-d457-4a08-bffd-007e9b431d67",
   "metadata": {},
   "outputs": [],
   "source": [
    "# parameters to mess around with: C, class_weight (class_weight bad)\n",
    "svm = LinearSVC(C=0.5, dual='auto', random_state=0)"
   ]
  },
  {
   "cell_type": "code",
   "execution_count": null,
   "id": "23e01747-d65f-4d70-b476-a9d0ac6b9bed",
   "metadata": {},
   "outputs": [],
   "source": [
    "%%time\n",
    "# 5000 tfidf features, C=1.0, 2min 39s, Train accuracy: 0.964, Test Accuracy: 0.946\n",
    "# 5000 tfidf features, C=0.5, \n",
    "svm.fit(X_train, y_train)"
   ]
  },
  {
   "cell_type": "code",
   "execution_count": 67,
   "id": "6d47ea87-0bbb-42cb-830b-ed9d8ca35ecd",
   "metadata": {},
   "outputs": [
    {
     "name": "stdout",
     "output_type": "stream",
     "text": [
      "Accuracy: 0.964\n",
      "CPU times: user 520 ms, sys: 202 ms, total: 721 ms\n",
      "Wall time: 720 ms\n"
     ]
    }
   ],
   "source": [
    "%%time\n",
    "preds_train = predict(X_train, y_train, svm)"
   ]
  },
  {
   "cell_type": "code",
   "execution_count": 68,
   "id": "636873ed-27ab-44ca-9bb8-f762eee5bff2",
   "metadata": {},
   "outputs": [
    {
     "name": "stdout",
     "output_type": "stream",
     "text": [
      "Accuracy: 0.946\n",
      "CPU times: user 336 ms, sys: 76 ms, total: 412 ms\n",
      "Wall time: 411 ms\n"
     ]
    }
   ],
   "source": [
    "%%time\n",
    "preds_test = predict(X_test, y_test, svm)"
   ]
  },
  {
   "cell_type": "code",
   "execution_count": 69,
   "id": "fc637d77-41db-4a91-b73f-f3454c5b4cab",
   "metadata": {},
   "outputs": [
    {
     "data": {
      "image/png": "[encoded data removed]",
      "text/plain": [
       "<Figure size 700x700 with 2 Axes>"
      ]
     },
     "metadata": {},
     "output_type": "display_data"
    }
   ],
   "source": [
    "make_confusion_matrix(y_train, preds_train)"
   ]
  },
  {
   "cell_type": "code",
   "execution_count": 70,
   "id": "9e1cd40a-dcbc-4742-b6f0-a0e5d38e4834",
   "metadata": {},
   "outputs": [
    {
     "data": {
      "image/png": "[encoded data removed]",
      "text/plain": [
       "<Figure size 700x700 with 2 Axes>"
      ]
     },
     "metadata": {},
     "output_type": "display_data"
    }
   ],
   "source": [
    "make_confusion_matrix(y_test, preds_test)\n",
    "# may need to have some more regularization, overdraft doing worse than other categories in test set, 4000 tfidf features\n",
    "# on 5000 tfidf features, overdraft is at 0.89 and mortgage is worse at 0.715"
   ]
  },
  {
   "cell_type": "code",
   "execution_count": 69,
   "id": "c0c6f58a-067b-4304-8ead-0ac0d0b71526",
   "metadata": {},
   "outputs": [],
   "source": [
    "# balanced mode is very bad on the categories that don't appear that much\n",
    "svm_balanced = LinearSVC(class_weight='balanced', dual='auto', random_state=0)"
   ]
  },
  {
   "cell_type": "code",
   "execution_count": 70,
   "id": "298b0af8-3568-4670-a60d-a80cc0298b56",
   "metadata": {},
   "outputs": [
    {
     "data": {
      "text/html": [
       "<style>#sk-container-id-2 {\n",
       "  /* Definition of color scheme common for light and dark mode */\n",
       "  --sklearn-color-text: black;\n",
       "  --sklearn-color-line: gray;\n",
       "  /* Definition of color scheme for unfitted estimators */\n",
       "  --sklearn-color-unfitted-level-0: #fff5e6;\n",
       "  --sklearn-color-unfitted-level-1: #f6e4d2;\n",
       "  --sklearn-color-unfitted-level-2: #ffe0b3;\n",
       "  --sklearn-color-unfitted-level-3: chocolate;\n",
       "  /* Definition of color scheme for fitted estimators */\n",
       "  --sklearn-color-fitted-level-0: #f0f8ff;\n",
       "  --sklearn-color-fitted-level-1: #d4ebff;\n",
       "  --sklearn-color-fitted-level-2: #b3dbfd;\n",
       "  --sklearn-color-fitted-level-3: cornflowerblue;\n",
       "\n",
       "  /* Specific color for light theme */\n",
       "  --sklearn-color-text-on-default-background: var(--sg-text-color, var(--theme-code-foreground, var(--jp-content-font-color1, black)));\n",
       "  --sklearn-color-background: var(--sg-background-color, var(--theme-background, var(--jp-layout-color0, white)));\n",
       "  --sklearn-color-border-box: var(--sg-text-color, var(--theme-code-foreground, var(--jp-content-font-color1, black)));\n",
       "  --sklearn-color-icon: #696969;\n",
       "\n",
       "  @media (prefers-color-scheme: dark) {\n",
       "    /* Redefinition of color scheme for dark theme */\n",
       "    --sklearn-color-text-on-default-background: var(--sg-text-color, var(--theme-code-foreground, var(--jp-content-font-color1, white)));\n",
       "    --sklearn-color-background: var(--sg-background-color, var(--theme-background, var(--jp-layout-color0, #111)));\n",
       "    --sklearn-color-border-box: var(--sg-text-color, var(--theme-code-foreground, var(--jp-content-font-color1, white)));\n",
       "    --sklearn-color-icon: #878787;\n",
       "  }\n",
       "}\n",
       "\n",
       "#sk-container-id-2 {\n",
       "  color: var(--sklearn-color-text);\n",
       "}\n",
       "\n",
       "#sk-container-id-2 pre {\n",
       "  padding: 0;\n",
       "}\n",
       "\n",
       "#sk-container-id-2 input.sk-hidden--visually {\n",
       "  border: 0;\n",
       "  clip: rect(1px 1px 1px 1px);\n",
       "  clip: rect(1px, 1px, 1px, 1px);\n",
       "  height: 1px;\n",
       "  margin: -1px;\n",
       "  overflow: hidden;\n",
       "  padding: 0;\n",
       "  position: absolute;\n",
       "  width: 1px;\n",
       "}\n",
       "\n",
       "#sk-container-id-2 div.sk-dashed-wrapped {\n",
       "  border: 1px dashed var(--sklearn-color-line);\n",
       "  margin: 0 0.4em 0.5em 0.4em;\n",
       "  box-sizing: border-box;\n",
       "  padding-bottom: 0.4em;\n",
       "  background-color: var(--sklearn-color-background);\n",
       "}\n",
       "\n",
       "#sk-container-id-2 div.sk-container {\n",
       "  /* jupyter's `normalize.less` sets `[hidden] { display: none; }`\n",
       "     but bootstrap.min.css set `[hidden] { display: none !important; }`\n",
       "     so we also need the `!important` here to be able to override the\n",
       "     default hidden behavior on the sphinx rendered scikit-learn.org.\n",
       "     See: https://github.com/scikit-learn/scikit-learn/issues/21755 */\n",
       "  display: inline-block !important;\n",
       "  position: relative;\n",
       "}\n",
       "\n",
       "#sk-container-id-2 div.sk-text-repr-fallback {\n",
       "  display: none;\n",
       "}\n",
       "\n",
       "div.sk-parallel-item,\n",
       "div.sk-serial,\n",
       "div.sk-item {\n",
       "  /* draw centered vertical line to link estimators */\n",
       "  background-image: linear-gradient(var(--sklearn-color-text-on-default-background), var(--sklearn-color-text-on-default-background));\n",
       "  background-size: 2px 100%;\n",
       "  background-repeat: no-repeat;\n",
       "  background-position: center center;\n",
       "}\n",
       "\n",
       "/* Parallel-specific style estimator block */\n",
       "\n",
       "#sk-container-id-2 div.sk-parallel-item::after {\n",
       "  content: \"\";\n",
       "  width: 100%;\n",
       "  border-bottom: 2px solid var(--sklearn-color-text-on-default-background);\n",
       "  flex-grow: 1;\n",
       "}\n",
       "\n",
       "#sk-container-id-2 div.sk-parallel {\n",
       "  display: flex;\n",
       "  align-items: stretch;\n",
       "  justify-content: center;\n",
       "  background-color: var(--sklearn-color-background);\n",
       "  position: relative;\n",
       "}\n",
       "\n",
       "#sk-container-id-2 div.sk-parallel-item {\n",
       "  display: flex;\n",
       "  flex-direction: column;\n",
       "}\n",
       "\n",
       "#sk-container-id-2 div.sk-parallel-item:first-child::after {\n",
       "  align-self: flex-end;\n",
       "  width: 50%;\n",
       "}\n",
       "\n",
       "#sk-container-id-2 div.sk-parallel-item:last-child::after {\n",
       "  align-self: flex-start;\n",
       "  width: 50%;\n",
       "}\n",
       "\n",
       "#sk-container-id-2 div.sk-parallel-item:only-child::after {\n",
       "  width: 0;\n",
       "}\n",
       "\n",
       "/* Serial-specific style estimator block */\n",
       "\n",
       "#sk-container-id-2 div.sk-serial {\n",
       "  display: flex;\n",
       "  flex-direction: column;\n",
       "  align-items: center;\n",
       "  background-color: var(--sklearn-color-background);\n",
       "  padding-right: 1em;\n",
       "  padding-left: 1em;\n",
       "}\n",
       "\n",
       "\n",
       "/* Toggleable style: style used for estimator/Pipeline/ColumnTransformer box that is\n",
       "clickable and can be expanded/collapsed.\n",
       "- Pipeline and ColumnTransformer use this feature and define the default style\n",
       "- Estimators will overwrite some part of the style using the `sk-estimator` class\n",
       "*/\n",
       "\n",
       "/* Pipeline and ColumnTransformer style (default) */\n",
       "\n",
       "#sk-container-id-2 div.sk-toggleable {\n",
       "  /* Default theme specific background. It is overwritten whether we have a\n",
       "  specific estimator or a Pipeline/ColumnTransformer */\n",
       "  background-color: var(--sklearn-color-background);\n",
       "}\n",
       "\n",
       "/* Toggleable label */\n",
       "#sk-container-id-2 label.sk-toggleable__label {\n",
       "  cursor: pointer;\n",
       "  display: block;\n",
       "  width: 100%;\n",
       "  margin-bottom: 0;\n",
       "  padding: 0.5em;\n",
       "  box-sizing: border-box;\n",
       "  text-align: center;\n",
       "}\n",
       "\n",
       "#sk-container-id-2 label.sk-toggleable__label-arrow:before {\n",
       "  /* Arrow on the left of the label */\n",
       "  content: \"▸\";\n",
       "  float: left;\n",
       "  margin-right: 0.25em;\n",
       "  color: var(--sklearn-color-icon);\n",
       "}\n",
       "\n",
       "#sk-container-id-2 label.sk-toggleable__label-arrow:hover:before {\n",
       "  color: var(--sklearn-color-text);\n",
       "}\n",
       "\n",
       "/* Toggleable content - dropdown */\n",
       "\n",
       "#sk-container-id-2 div.sk-toggleable__content {\n",
       "  max-height: 0;\n",
       "  max-width: 0;\n",
       "  overflow: hidden;\n",
       "  text-align: left;\n",
       "  /* unfitted */\n",
       "  background-color: var(--sklearn-color-unfitted-level-0);\n",
       "}\n",
       "\n",
       "#sk-container-id-2 div.sk-toggleable__content.fitted {\n",
       "  /* fitted */\n",
       "  background-color: var(--sklearn-color-fitted-level-0);\n",
       "}\n",
       "\n",
       "#sk-container-id-2 div.sk-toggleable__content pre {\n",
       "  margin: 0.2em;\n",
       "  border-radius: 0.25em;\n",
       "  color: var(--sklearn-color-text);\n",
       "  /* unfitted */\n",
       "  background-color: var(--sklearn-color-unfitted-level-0);\n",
       "}\n",
       "\n",
       "#sk-container-id-2 div.sk-toggleable__content.fitted pre {\n",
       "  /* unfitted */\n",
       "  background-color: var(--sklearn-color-fitted-level-0);\n",
       "}\n",
       "\n",
       "#sk-container-id-2 input.sk-toggleable__control:checked~div.sk-toggleable__content {\n",
       "  /* Expand drop-down */\n",
       "  max-height: 200px;\n",
       "  max-width: 100%;\n",
       "  overflow: auto;\n",
       "}\n",
       "\n",
       "#sk-container-id-2 input.sk-toggleable__control:checked~label.sk-toggleable__label-arrow:before {\n",
       "  content: \"▾\";\n",
       "}\n",
       "\n",
       "/* Pipeline/ColumnTransformer-specific style */\n",
       "\n",
       "#sk-container-id-2 div.sk-label input.sk-toggleable__control:checked~label.sk-toggleable__label {\n",
       "  color: var(--sklearn-color-text);\n",
       "  background-color: var(--sklearn-color-unfitted-level-2);\n",
       "}\n",
       "\n",
       "#sk-container-id-2 div.sk-label.fitted input.sk-toggleable__control:checked~label.sk-toggleable__label {\n",
       "  background-color: var(--sklearn-color-fitted-level-2);\n",
       "}\n",
       "\n",
       "/* Estimator-specific style */\n",
       "\n",
       "/* Colorize estimator box */\n",
       "#sk-container-id-2 div.sk-estimator input.sk-toggleable__control:checked~label.sk-toggleable__label {\n",
       "  /* unfitted */\n",
       "  background-color: var(--sklearn-color-unfitted-level-2);\n",
       "}\n",
       "\n",
       "#sk-container-id-2 div.sk-estimator.fitted input.sk-toggleable__control:checked~label.sk-toggleable__label {\n",
       "  /* fitted */\n",
       "  background-color: var(--sklearn-color-fitted-level-2);\n",
       "}\n",
       "\n",
       "#sk-container-id-2 div.sk-label label.sk-toggleable__label,\n",
       "#sk-container-id-2 div.sk-label label {\n",
       "  /* The background is the default theme color */\n",
       "  color: var(--sklearn-color-text-on-default-background);\n",
       "}\n",
       "\n",
       "/* On hover, darken the color of the background */\n",
       "#sk-container-id-2 div.sk-label:hover label.sk-toggleable__label {\n",
       "  color: var(--sklearn-color-text);\n",
       "  background-color: var(--sklearn-color-unfitted-level-2);\n",
       "}\n",
       "\n",
       "/* Label box, darken color on hover, fitted */\n",
       "#sk-container-id-2 div.sk-label.fitted:hover label.sk-toggleable__label.fitted {\n",
       "  color: var(--sklearn-color-text);\n",
       "  background-color: var(--sklearn-color-fitted-level-2);\n",
       "}\n",
       "\n",
       "/* Estimator label */\n",
       "\n",
       "#sk-container-id-2 div.sk-label label {\n",
       "  font-family: monospace;\n",
       "  font-weight: bold;\n",
       "  display: inline-block;\n",
       "  line-height: 1.2em;\n",
       "}\n",
       "\n",
       "#sk-container-id-2 div.sk-label-container {\n",
       "  text-align: center;\n",
       "}\n",
       "\n",
       "/* Estimator-specific */\n",
       "#sk-container-id-2 div.sk-estimator {\n",
       "  font-family: monospace;\n",
       "  border: 1px dotted var(--sklearn-color-border-box);\n",
       "  border-radius: 0.25em;\n",
       "  box-sizing: border-box;\n",
       "  margin-bottom: 0.5em;\n",
       "  /* unfitted */\n",
       "  background-color: var(--sklearn-color-unfitted-level-0);\n",
       "}\n",
       "\n",
       "#sk-container-id-2 div.sk-estimator.fitted {\n",
       "  /* fitted */\n",
       "  background-color: var(--sklearn-color-fitted-level-0);\n",
       "}\n",
       "\n",
       "/* on hover */\n",
       "#sk-container-id-2 div.sk-estimator:hover {\n",
       "  /* unfitted */\n",
       "  background-color: var(--sklearn-color-unfitted-level-2);\n",
       "}\n",
       "\n",
       "#sk-container-id-2 div.sk-estimator.fitted:hover {\n",
       "  /* fitted */\n",
       "  background-color: var(--sklearn-color-fitted-level-2);\n",
       "}\n",
       "\n",
       "/* Specification for estimator info (e.g. \"i\" and \"?\") */\n",
       "\n",
       "/* Common style for \"i\" and \"?\" */\n",
       "\n",
       ".sk-estimator-doc-link,\n",
       "a:link.sk-estimator-doc-link,\n",
       "a:visited.sk-estimator-doc-link {\n",
       "  float: right;\n",
       "  font-size: smaller;\n",
       "  line-height: 1em;\n",
       "  font-family: monospace;\n",
       "  background-color: var(--sklearn-color-background);\n",
       "  border-radius: 1em;\n",
       "  height: 1em;\n",
       "  width: 1em;\n",
       "  text-decoration: none !important;\n",
       "  margin-left: 1ex;\n",
       "  /* unfitted */\n",
       "  border: var(--sklearn-color-unfitted-level-1) 1pt solid;\n",
       "  color: var(--sklearn-color-unfitted-level-1);\n",
       "}\n",
       "\n",
       ".sk-estimator-doc-link.fitted,\n",
       "a:link.sk-estimator-doc-link.fitted,\n",
       "a:visited.sk-estimator-doc-link.fitted {\n",
       "  /* fitted */\n",
       "  border: var(--sklearn-color-fitted-level-1) 1pt solid;\n",
       "  color: var(--sklearn-color-fitted-level-1);\n",
       "}\n",
       "\n",
       "/* On hover */\n",
       "div.sk-estimator:hover .sk-estimator-doc-link:hover,\n",
       ".sk-estimator-doc-link:hover,\n",
       "div.sk-label-container:hover .sk-estimator-doc-link:hover,\n",
       ".sk-estimator-doc-link:hover {\n",
       "  /* unfitted */\n",
       "  background-color: var(--sklearn-color-unfitted-level-3);\n",
       "  color: var(--sklearn-color-background);\n",
       "  text-decoration: none;\n",
       "}\n",
       "\n",
       "div.sk-estimator.fitted:hover .sk-estimator-doc-link.fitted:hover,\n",
       ".sk-estimator-doc-link.fitted:hover,\n",
       "div.sk-label-container:hover .sk-estimator-doc-link.fitted:hover,\n",
       ".sk-estimator-doc-link.fitted:hover {\n",
       "  /* fitted */\n",
       "  background-color: var(--sklearn-color-fitted-level-3);\n",
       "  color: var(--sklearn-color-background);\n",
       "  text-decoration: none;\n",
       "}\n",
       "\n",
       "/* Span, style for the box shown on hovering the info icon */\n",
       ".sk-estimator-doc-link span {\n",
       "  display: none;\n",
       "  z-index: 9999;\n",
       "  position: relative;\n",
       "  font-weight: normal;\n",
       "  right: .2ex;\n",
       "  padding: .5ex;\n",
       "  margin: .5ex;\n",
       "  width: min-content;\n",
       "  min-width: 20ex;\n",
       "  max-width: 50ex;\n",
       "  color: var(--sklearn-color-text);\n",
       "  box-shadow: 2pt 2pt 4pt #999;\n",
       "  /* unfitted */\n",
       "  background: var(--sklearn-color-unfitted-level-0);\n",
       "  border: .5pt solid var(--sklearn-color-unfitted-level-3);\n",
       "}\n",
       "\n",
       ".sk-estimator-doc-link.fitted span {\n",
       "  /* fitted */\n",
       "  background: var(--sklearn-color-fitted-level-0);\n",
       "  border: var(--sklearn-color-fitted-level-3);\n",
       "}\n",
       "\n",
       ".sk-estimator-doc-link:hover span {\n",
       "  display: block;\n",
       "}\n",
       "\n",
       "/* \"?\"-specific style due to the `<a>` HTML tag */\n",
       "\n",
       "#sk-container-id-2 a.estimator_doc_link {\n",
       "  float: right;\n",
       "  font-size: 1rem;\n",
       "  line-height: 1em;\n",
       "  font-family: monospace;\n",
       "  background-color: var(--sklearn-color-background);\n",
       "  border-radius: 1rem;\n",
       "  height: 1rem;\n",
       "  width: 1rem;\n",
       "  text-decoration: none;\n",
       "  /* unfitted */\n",
       "  color: var(--sklearn-color-unfitted-level-1);\n",
       "  border: var(--sklearn-color-unfitted-level-1) 1pt solid;\n",
       "}\n",
       "\n",
       "#sk-container-id-2 a.estimator_doc_link.fitted {\n",
       "  /* fitted */\n",
       "  border: var(--sklearn-color-fitted-level-1) 1pt solid;\n",
       "  color: var(--sklearn-color-fitted-level-1);\n",
       "}\n",
       "\n",
       "/* On hover */\n",
       "#sk-container-id-2 a.estimator_doc_link:hover {\n",
       "  /* unfitted */\n",
       "  background-color: var(--sklearn-color-unfitted-level-3);\n",
       "  color: var(--sklearn-color-background);\n",
       "  text-decoration: none;\n",
       "}\n",
       "\n",
       "#sk-container-id-2 a.estimator_doc_link.fitted:hover {\n",
       "  /* fitted */\n",
       "  background-color: var(--sklearn-color-fitted-level-3);\n",
       "}\n",
       "</style><div id=\"sk-container-id-2\" class=\"sk-top-container\"><div class=\"sk-text-repr-fallback\"><pre>LinearSVC(class_weight=&#x27;balanced&#x27;, dual=&#x27;auto&#x27;, random_state=0)</pre><b>In a Jupyter environment, please rerun this cell to show the HTML representation or trust the notebook. <br />On GitHub, the HTML representation is unable to render, please try loading this page with nbviewer.org.</b></div><div class=\"sk-container\" hidden><div class=\"sk-item\"><div class=\"sk-estimator fitted sk-toggleable\"><input class=\"sk-toggleable__control sk-hidden--visually\" id=\"sk-estimator-id-2\" type=\"checkbox\" checked><label for=\"sk-estimator-id-2\" class=\"sk-toggleable__label fitted sk-toggleable__label-arrow fitted\">&nbsp;&nbsp;LinearSVC<a class=\"sk-estimator-doc-link fitted\" rel=\"noreferrer\" target=\"_blank\" href=\"https://scikit-learn.org/1.4/modules/generated/sklearn.svm.LinearSVC.html\">?<span>Documentation for LinearSVC</span></a><span class=\"sk-estimator-doc-link fitted\">i<span>Fitted</span></span></label><div class=\"sk-toggleable__content fitted\"><pre>LinearSVC(class_weight=&#x27;balanced&#x27;, dual=&#x27;auto&#x27;, random_state=0)</pre></div> </div></div></div></div>"
      ],
      "text/plain": [
       "LinearSVC(class_weight='balanced', dual='auto', random_state=0)"
      ]
     },
     "execution_count": 70,
     "metadata": {},
     "output_type": "execute_result"
    }
   ],
   "source": [
    "svm_balanced.fit(X_train, y_train)"
   ]
  },
  {
   "cell_type": "code",
   "execution_count": 71,
   "id": "64d7bcab-e5a6-45aa-8d0f-5b3ae738ea31",
   "metadata": {},
   "outputs": [
    {
     "name": "stdout",
     "output_type": "stream",
     "text": [
      "Accuracy: 0.950\n",
      "CPU times: user 1.01 s, sys: 109 ms, total: 1.12 s\n",
      "Wall time: 1.12 s\n"
     ]
    }
   ],
   "source": [
    "%%time\n",
    "preds_train = predict(X_train, y_train, svm_balanced)"
   ]
  },
  {
   "cell_type": "code",
   "execution_count": 72,
   "id": "6d8122a9-32d8-4c19-be9b-c0da712148e5",
   "metadata": {},
   "outputs": [
    {
     "data": {
      "image/png": "[encoded data removed]",
      "text/plain": [
       "<Figure size 700x700 with 2 Axes>"
      ]
     },
     "metadata": {},
     "output_type": "display_data"
    }
   ],
   "source": [
    "make_confusion_matrix(y_train, preds_train)"
   ]
  },
  {
   "cell_type": "code",
   "execution_count": 73,
   "id": "e508ff81-ff29-45cb-ba88-26a1b97c5fde",
   "metadata": {},
   "outputs": [
    {
     "name": "stdout",
     "output_type": "stream",
     "text": [
      "Accuracy: 0.929\n",
      "CPU times: user 373 ms, sys: 23 ms, total: 396 ms\n",
      "Wall time: 394 ms\n"
     ]
    }
   ],
   "source": [
    "%%time\n",
    "preds_test = predict(X_test, y_test, svm_balanced)"
   ]
  },
  {
   "cell_type": "code",
   "execution_count": 74,
   "id": "c0d9cbbd-4ddd-4957-a0a2-157943d075a6",
   "metadata": {},
   "outputs": [
    {
     "data": {
      "image/png": "[encoded data removed]",
      "text/plain": [
       "<Figure size 700x700 with 2 Axes>"
      ]
     },
     "metadata": {},
     "output_type": "display_data"
    }
   ],
   "source": [
    "make_confusion_matrix(y_test, preds_test)\n",
    "# may need to have some more regularization, overdraft doing worse than other categories in test set"
   ]
  },
  {
   "cell_type": "code",
   "execution_count": null,
   "id": "b736cbfb-ca44-4030-a2dd-88a900cf91ac",
   "metadata": {},
   "outputs": [],
   "source": []
  },
  {
   "cell_type": "markdown",
   "id": "c8d48571-a3d7-4434-a02a-6ea9176c503b",
   "metadata": {},
   "source": [
    "## Week 7"
   ]
  },
  {
   "cell_type": "code",
   "execution_count": 34,
   "id": "03fe0550-6f52-4733-b67a-fded6a0e9d58",
   "metadata": {},
   "outputs": [],
   "source": [
    "# setting pandas df to display floats with 2 decimals\n",
    "pd.options.display.float_format = '{:,.2f}'.format"
   ]
  },
  {
   "cell_type": "code",
   "execution_count": 26,
   "id": "f648ad45-5ed5-4fd9-9598-b60c7c11f45f",
   "metadata": {},
   "outputs": [
    {
     "data": {
      "text/html": [
       "<div>\n",
       "<style scoped>\n",
       "    .dataframe tbody tr th:only-of-type {\n",
       "        vertical-align: middle;\n",
       "    }\n",
       "\n",
       "    .dataframe tbody tr th {\n",
       "        vertical-align: top;\n",
       "    }\n",
       "\n",
       "    .dataframe thead th {\n",
       "        text-align: right;\n",
       "    }\n",
       "</style>\n",
       "<table border=\"1\" class=\"dataframe\">\n",
       "  <thead>\n",
       "    <tr style=\"text-align: right;\">\n",
       "      <th></th>\n",
       "      <th>prism_consumer_id</th>\n",
       "      <th>prism_account_id</th>\n",
       "      <th>memo</th>\n",
       "      <th>amount</th>\n",
       "      <th>posted_date</th>\n",
       "      <th>category</th>\n",
       "    </tr>\n",
       "  </thead>\n",
       "  <tbody>\n",
       "    <tr>\n",
       "      <th>0</th>\n",
       "      <td>0</td>\n",
       "      <td>acc_0</td>\n",
       "      <td>PAYCHECK</td>\n",
       "      <td>2477.02</td>\n",
       "      <td>2022-03-18</td>\n",
       "      <td>PAYCHECK</td>\n",
       "    </tr>\n",
       "    <tr>\n",
       "      <th>1</th>\n",
       "      <td>0</td>\n",
       "      <td>acc_0</td>\n",
       "      <td>EXTERNAL_TRANSFER</td>\n",
       "      <td>100.00</td>\n",
       "      <td>2022-10-25</td>\n",
       "      <td>EXTERNAL_TRANSFER</td>\n",
       "    </tr>\n",
       "    <tr>\n",
       "      <th>2</th>\n",
       "      <td>0</td>\n",
       "      <td>acc_0</td>\n",
       "      <td>MISCELLANEOUS</td>\n",
       "      <td>6.29</td>\n",
       "      <td>2022-08-26</td>\n",
       "      <td>MISCELLANEOUS</td>\n",
       "    </tr>\n",
       "    <tr>\n",
       "      <th>3</th>\n",
       "      <td>0</td>\n",
       "      <td>acc_0</td>\n",
       "      <td>EXTERNAL_TRANSFER</td>\n",
       "      <td>277.00</td>\n",
       "      <td>2022-06-03</td>\n",
       "      <td>EXTERNAL_TRANSFER</td>\n",
       "    </tr>\n",
       "    <tr>\n",
       "      <th>4</th>\n",
       "      <td>0</td>\n",
       "      <td>acc_0</td>\n",
       "      <td>EXTERNAL_TRANSFER</td>\n",
       "      <td>100.00</td>\n",
       "      <td>2022-07-29</td>\n",
       "      <td>EXTERNAL_TRANSFER</td>\n",
       "    </tr>\n",
       "  </tbody>\n",
       "</table>\n",
       "</div>"
      ],
      "text/plain": [
       "   prism_consumer_id prism_account_id               memo   amount posted_date  \\\n",
       "0                  0            acc_0           PAYCHECK  2477.02  2022-03-18   \n",
       "1                  0            acc_0  EXTERNAL_TRANSFER   100.00  2022-10-25   \n",
       "2                  0            acc_0      MISCELLANEOUS     6.29  2022-08-26   \n",
       "3                  0            acc_0  EXTERNAL_TRANSFER   277.00  2022-06-03   \n",
       "4                  0            acc_0  EXTERNAL_TRANSFER   100.00  2022-07-29   \n",
       "\n",
       "            category  \n",
       "0           PAYCHECK  \n",
       "1  EXTERNAL_TRANSFER  \n",
       "2      MISCELLANEOUS  \n",
       "3  EXTERNAL_TRANSFER  \n",
       "4  EXTERNAL_TRANSFER  "
      ]
     },
     "execution_count": 26,
     "metadata": {},
     "output_type": "execute_result"
    }
   ],
   "source": [
    "inflows.head()"
   ]
  },
  {
   "cell_type": "code",
   "execution_count": 27,
   "id": "e984a405-e6d3-4758-a3f2-ba810bafe397",
   "metadata": {},
   "outputs": [],
   "source": [
    "# replacing category for PAYCHECK_PLACEHOLDER with PAYCHECK, effectively the same category\n",
    "inflows.loc[inflows.category == 'PAYCHECK_PLACEHOLDER', 'category'] = 'PAYCHECK'"
   ]
  },
  {
   "cell_type": "markdown",
   "id": "43609b1c-75e7-40e8-8a86-a0d08895c8c5",
   "metadata": {},
   "source": [
    "**Consumer-level statistics about inflows**\n",
    "- Average inflow amount per consumer\n",
    "- Total inflow amount per consumer\n",
    "- Number of inflows per consumer"
   ]
  },
  {
   "cell_type": "code",
   "execution_count": 37,
   "id": "1a364062-6a8d-4a38-948f-092962c340dd",
   "metadata": {},
   "outputs": [
    {
     "data": {
      "text/html": [
       "<div>\n",
       "<style scoped>\n",
       "    .dataframe tbody tr th:only-of-type {\n",
       "        vertical-align: middle;\n",
       "    }\n",
       "\n",
       "    .dataframe tbody tr th {\n",
       "        vertical-align: top;\n",
       "    }\n",
       "\n",
       "    .dataframe thead th {\n",
       "        text-align: right;\n",
       "    }\n",
       "</style>\n",
       "<table border=\"1\" class=\"dataframe\">\n",
       "  <thead>\n",
       "    <tr style=\"text-align: right;\">\n",
       "      <th></th>\n",
       "      <th>mean</th>\n",
       "      <th>sum</th>\n",
       "      <th>count</th>\n",
       "    </tr>\n",
       "    <tr>\n",
       "      <th>prism_consumer_id</th>\n",
       "      <th></th>\n",
       "      <th></th>\n",
       "      <th></th>\n",
       "    </tr>\n",
       "  </thead>\n",
       "  <tbody>\n",
       "    <tr>\n",
       "      <th>0</th>\n",
       "      <td>1,212.22</td>\n",
       "      <td>110,312.43</td>\n",
       "      <td>91</td>\n",
       "    </tr>\n",
       "    <tr>\n",
       "      <th>2</th>\n",
       "      <td>3,094.15</td>\n",
       "      <td>349,639.03</td>\n",
       "      <td>113</td>\n",
       "    </tr>\n",
       "    <tr>\n",
       "      <th>4</th>\n",
       "      <td>3,043.14</td>\n",
       "      <td>462,557.90</td>\n",
       "      <td>152</td>\n",
       "    </tr>\n",
       "    <tr>\n",
       "      <th>7</th>\n",
       "      <td>1,939.64</td>\n",
       "      <td>250,214.09</td>\n",
       "      <td>129</td>\n",
       "    </tr>\n",
       "    <tr>\n",
       "      <th>9</th>\n",
       "      <td>574.25</td>\n",
       "      <td>215,342.01</td>\n",
       "      <td>375</td>\n",
       "    </tr>\n",
       "  </tbody>\n",
       "</table>\n",
       "</div>"
      ],
      "text/plain": [
       "                      mean        sum  count\n",
       "prism_consumer_id                           \n",
       "0                 1,212.22 110,312.43     91\n",
       "2                 3,094.15 349,639.03    113\n",
       "4                 3,043.14 462,557.90    152\n",
       "7                 1,939.64 250,214.09    129\n",
       "9                   574.25 215,342.01    375"
      ]
     },
     "execution_count": 37,
     "metadata": {},
     "output_type": "execute_result"
    }
   ],
   "source": [
    "inflow_stats = inflows.groupby('prism_consumer_id')['amount'].agg(['mean', 'sum', 'count'])\n",
    "inflow_stats.head()"
   ]
  },
  {
   "cell_type": "code",
   "execution_count": 50,
   "id": "e6a288f6-ae1a-4e63-b694-c2503eebddf3",
   "metadata": {},
   "outputs": [
    {
     "data": {
      "image/png": "[encoded data removed]",
      "text/plain": [
       "<Figure size 1500x700 with 3 Axes>"
      ]
     },
     "metadata": {},
     "output_type": "display_data"
    }
   ],
   "source": [
    "fig, ax = plt.subplots(1, 3, figsize=(15,7))\n",
    "\n",
    "ax[0].hist(inflow_stats['count'])\n",
    "ax[0].set_title('Distribution of Average Inflow Amounts')\n",
    "ax[0].set_xlabel('Amount')\n",
    "ax[0].set_ylabel('Frequency')\n",
    "\n",
    "ax[1].hist(inflow_stats['mean'])\n",
    "ax[1].set_title('Distribution of Sum of Inflow Amounts')\n",
    "ax[1].set_xlabel('Amount')\n",
    "ax[1].set_ylabel('Frequency')\n",
    "\n",
    "ax[2].hist(inflow_stats['sum'])\n",
    "ax[2].set_title('Distribution of Count of Inflows')\n",
    "ax[2].set_xlabel('Count')\n",
    "ax[2].set_ylabel('Frequency')\n",
    "\n",
    "plt.show()"
   ]
  },
  {
   "cell_type": "markdown",
   "id": "2276abb4-92d6-4d3e-a85a-f52a552dc0de",
   "metadata": {},
   "source": [
    "**What are the major sources of income?**"
   ]
  },
  {
   "cell_type": "code",
   "execution_count": 85,
   "id": "952e84c9-7cf4-4a69-8933-3ba23178c938",
   "metadata": {},
   "outputs": [],
   "source": [
    "income_cats = ['EXTERNAL_TRANSFER', 'DEPOSIT', 'PAYCHECK', 'INVESTMENT_INCOME', 'OTHER_BENEFITS', 'UNEMPLOYMENT_BENEFITS']"
   ]
  },
  {
   "cell_type": "code",
   "execution_count": 86,
   "id": "a433dbe0-6435-4522-adb0-df70ad7354ed",
   "metadata": {},
   "outputs": [],
   "source": [
    "income_inflows = inflows[inflows.category.isin(income_cats)]"
   ]
  },
  {
   "cell_type": "code",
   "execution_count": 109,
   "id": "b524c1d4-0734-4912-a59d-1a1f06f76220",
   "metadata": {},
   "outputs": [
    {
     "data": {
      "text/plain": [
       "((513115, 6), (304097, 6))"
      ]
     },
     "execution_count": 109,
     "metadata": {},
     "output_type": "execute_result"
    }
   ],
   "source": [
    "inflows.shape, income_inflows.shape"
   ]
  },
  {
   "cell_type": "code",
   "execution_count": 108,
   "id": "dcb17443-fff1-47b0-85d1-ede60375576f",
   "metadata": {},
   "outputs": [
    {
     "data": {
      "text/html": [
       "<div>\n",
       "<style scoped>\n",
       "    .dataframe tbody tr th:only-of-type {\n",
       "        vertical-align: middle;\n",
       "    }\n",
       "\n",
       "    .dataframe tbody tr th {\n",
       "        vertical-align: top;\n",
       "    }\n",
       "\n",
       "    .dataframe thead th {\n",
       "        text-align: right;\n",
       "    }\n",
       "</style>\n",
       "<table border=\"1\" class=\"dataframe\">\n",
       "  <thead>\n",
       "    <tr style=\"text-align: right;\">\n",
       "      <th></th>\n",
       "      <th>sum</th>\n",
       "      <th>count</th>\n",
       "    </tr>\n",
       "    <tr>\n",
       "      <th>category</th>\n",
       "      <th></th>\n",
       "      <th></th>\n",
       "    </tr>\n",
       "  </thead>\n",
       "  <tbody>\n",
       "    <tr>\n",
       "      <th>PAYCHECK</th>\n",
       "      <td>89,724,682.02</td>\n",
       "      <td>59225</td>\n",
       "    </tr>\n",
       "    <tr>\n",
       "      <th>EXTERNAL_TRANSFER</th>\n",
       "      <td>81,586,232.14</td>\n",
       "      <td>156533</td>\n",
       "    </tr>\n",
       "    <tr>\n",
       "      <th>DEPOSIT</th>\n",
       "      <td>66,602,343.60</td>\n",
       "      <td>61345</td>\n",
       "    </tr>\n",
       "    <tr>\n",
       "      <th>MISCELLANEOUS</th>\n",
       "      <td>52,594,312.59</td>\n",
       "      <td>55648</td>\n",
       "    </tr>\n",
       "    <tr>\n",
       "      <th>SELF_TRANSFER</th>\n",
       "      <td>48,301,522.92</td>\n",
       "      <td>110437</td>\n",
       "    </tr>\n",
       "    <tr>\n",
       "      <th>OTHER_BENEFITS</th>\n",
       "      <td>12,175,837.46</td>\n",
       "      <td>7708</td>\n",
       "    </tr>\n",
       "    <tr>\n",
       "      <th>INVESTMENT_INCOME</th>\n",
       "      <td>6,887,278.35</td>\n",
       "      <td>17325</td>\n",
       "    </tr>\n",
       "    <tr>\n",
       "      <th>TAX</th>\n",
       "      <td>5,619,601.78</td>\n",
       "      <td>3405</td>\n",
       "    </tr>\n",
       "    <tr>\n",
       "      <th>REFUND</th>\n",
       "      <td>5,406,440.27</td>\n",
       "      <td>23220</td>\n",
       "    </tr>\n",
       "    <tr>\n",
       "      <th>LOAN</th>\n",
       "      <td>4,231,710.73</td>\n",
       "      <td>2513</td>\n",
       "    </tr>\n",
       "    <tr>\n",
       "      <th>SMALL_DOLLAR_ADVANCE</th>\n",
       "      <td>1,906,595.47</td>\n",
       "      <td>13621</td>\n",
       "    </tr>\n",
       "    <tr>\n",
       "      <th>UNEMPLOYMENT_BENEFITS</th>\n",
       "      <td>1,610,419.79</td>\n",
       "      <td>1961</td>\n",
       "    </tr>\n",
       "    <tr>\n",
       "      <th>INSURANCE</th>\n",
       "      <td>338,514.02</td>\n",
       "      <td>174</td>\n",
       "    </tr>\n",
       "  </tbody>\n",
       "</table>\n",
       "</div>"
      ],
      "text/plain": [
       "                                sum   count\n",
       "category                                   \n",
       "PAYCHECK              89,724,682.02   59225\n",
       "EXTERNAL_TRANSFER     81,586,232.14  156533\n",
       "DEPOSIT               66,602,343.60   61345\n",
       "MISCELLANEOUS         52,594,312.59   55648\n",
       "SELF_TRANSFER         48,301,522.92  110437\n",
       "OTHER_BENEFITS        12,175,837.46    7708\n",
       "INVESTMENT_INCOME      6,887,278.35   17325\n",
       "TAX                    5,619,601.78    3405\n",
       "REFUND                 5,406,440.27   23220\n",
       "LOAN                   4,231,710.73    2513\n",
       "SMALL_DOLLAR_ADVANCE   1,906,595.47   13621\n",
       "UNEMPLOYMENT_BENEFITS  1,610,419.79    1961\n",
       "INSURANCE                338,514.02     174"
      ]
     },
     "execution_count": 108,
     "metadata": {},
     "output_type": "execute_result"
    }
   ],
   "source": [
    "# across the entire dataset, sum and count of inflows\n",
    "inflows.groupby('category')['amount'].agg(['sum', 'count']).sort_values(by='sum', ascending=False)"
   ]
  },
  {
   "cell_type": "code",
   "execution_count": 111,
   "id": "40c9b568-58af-4cac-bd01-9adb7ad5d9f5",
   "metadata": {},
   "outputs": [
    {
     "data": {
      "text/html": [
       "<div>\n",
       "<style scoped>\n",
       "    .dataframe tbody tr th:only-of-type {\n",
       "        vertical-align: middle;\n",
       "    }\n",
       "\n",
       "    .dataframe tbody tr th {\n",
       "        vertical-align: top;\n",
       "    }\n",
       "\n",
       "    .dataframe thead th {\n",
       "        text-align: right;\n",
       "    }\n",
       "</style>\n",
       "<table border=\"1\" class=\"dataframe\">\n",
       "  <thead>\n",
       "    <tr style=\"text-align: right;\">\n",
       "      <th></th>\n",
       "      <th>sum</th>\n",
       "      <th>count</th>\n",
       "    </tr>\n",
       "    <tr>\n",
       "      <th>category</th>\n",
       "      <th></th>\n",
       "      <th></th>\n",
       "    </tr>\n",
       "  </thead>\n",
       "  <tbody>\n",
       "    <tr>\n",
       "      <th>PAYCHECK</th>\n",
       "      <td>89,724,682.02</td>\n",
       "      <td>59225</td>\n",
       "    </tr>\n",
       "    <tr>\n",
       "      <th>EXTERNAL_TRANSFER</th>\n",
       "      <td>81,586,232.14</td>\n",
       "      <td>156533</td>\n",
       "    </tr>\n",
       "    <tr>\n",
       "      <th>DEPOSIT</th>\n",
       "      <td>66,602,343.60</td>\n",
       "      <td>61345</td>\n",
       "    </tr>\n",
       "    <tr>\n",
       "      <th>OTHER_BENEFITS</th>\n",
       "      <td>12,175,837.46</td>\n",
       "      <td>7708</td>\n",
       "    </tr>\n",
       "    <tr>\n",
       "      <th>INVESTMENT_INCOME</th>\n",
       "      <td>6,887,278.35</td>\n",
       "      <td>17325</td>\n",
       "    </tr>\n",
       "    <tr>\n",
       "      <th>UNEMPLOYMENT_BENEFITS</th>\n",
       "      <td>1,610,419.79</td>\n",
       "      <td>1961</td>\n",
       "    </tr>\n",
       "  </tbody>\n",
       "</table>\n",
       "</div>"
      ],
      "text/plain": [
       "                                sum   count\n",
       "category                                   \n",
       "PAYCHECK              89,724,682.02   59225\n",
       "EXTERNAL_TRANSFER     81,586,232.14  156533\n",
       "DEPOSIT               66,602,343.60   61345\n",
       "OTHER_BENEFITS        12,175,837.46    7708\n",
       "INVESTMENT_INCOME      6,887,278.35   17325\n",
       "UNEMPLOYMENT_BENEFITS  1,610,419.79    1961"
      ]
     },
     "execution_count": 111,
     "metadata": {},
     "output_type": "execute_result"
    }
   ],
   "source": [
    "# sum and count of inflows that are likely income\n",
    "income_inflows.groupby('category')['amount'].agg(['sum', 'count']).sort_values(by='sum', ascending=False)"
   ]
  },
  {
   "cell_type": "markdown",
   "id": "d8c2a8aa-4d3e-429b-b253-e5e15a9c2175",
   "metadata": {},
   "source": [
    "Below, I get the top sources of income by breaking it down by consumer first, and then aggregating across the dataset. The rationale behind this is that while across the entire dataset, `PAYCHECK` and `EXTERNAL_TRANSFER` have the highest amounts, it might not be the case that for a single consumer, these are their major sources of income. So I find the top sources of income for each consumer, and then sum and count up those sources to get a better idea."
   ]
  },
  {
   "cell_type": "code",
   "execution_count": 103,
   "id": "bf8ab215-c752-4430-a004-0fa530430bcc",
   "metadata": {},
   "outputs": [],
   "source": [
    "# getting top sources of income but retrieved by consumers rather than across the whole dataset, and then aggregated\n",
    "def get_top_income_sources(inflows, num_sources=1):\n",
    "    consumer_cat_amounts = inflows.groupby(['prism_consumer_id', 'category'], as_index=False)[['amount']].sum()\n",
    "    consumer_cat_amounts_sorted = consumer_cat_amounts.sort_values(\n",
    "                                    by=['prism_consumer_id', 'amount'], \n",
    "                                    ascending=[True, False]\n",
    "                                ).reset_index(drop=True)\n",
    "    return consumer_cat_amounts_sorted.groupby('prism_consumer_id').head(num_sources) \\\n",
    "                                      .groupby('category')['amount'].agg(['sum', 'count']) \\\n",
    "                                      .sort_values(by='sum', ascending=False)"
   ]
  },
  {
   "cell_type": "code",
   "execution_count": 112,
   "id": "8267b76f-5e05-4c8b-ac40-fe15eed53ea4",
   "metadata": {},
   "outputs": [
    {
     "data": {
      "text/html": [
       "<div>\n",
       "<style scoped>\n",
       "    .dataframe tbody tr th:only-of-type {\n",
       "        vertical-align: middle;\n",
       "    }\n",
       "\n",
       "    .dataframe tbody tr th {\n",
       "        vertical-align: top;\n",
       "    }\n",
       "\n",
       "    .dataframe thead th {\n",
       "        text-align: right;\n",
       "    }\n",
       "</style>\n",
       "<table border=\"1\" class=\"dataframe\">\n",
       "  <thead>\n",
       "    <tr style=\"text-align: right;\">\n",
       "      <th></th>\n",
       "      <th>sum</th>\n",
       "      <th>count</th>\n",
       "    </tr>\n",
       "    <tr>\n",
       "      <th>category</th>\n",
       "      <th></th>\n",
       "      <th></th>\n",
       "    </tr>\n",
       "  </thead>\n",
       "  <tbody>\n",
       "    <tr>\n",
       "      <th>PAYCHECK</th>\n",
       "      <td>69,067,273.05</td>\n",
       "      <td>1274</td>\n",
       "    </tr>\n",
       "    <tr>\n",
       "      <th>EXTERNAL_TRANSFER</th>\n",
       "      <td>48,663,260.43</td>\n",
       "      <td>431</td>\n",
       "    </tr>\n",
       "    <tr>\n",
       "      <th>DEPOSIT</th>\n",
       "      <td>35,167,802.12</td>\n",
       "      <td>362</td>\n",
       "    </tr>\n",
       "    <tr>\n",
       "      <th>MISCELLANEOUS</th>\n",
       "      <td>30,100,469.08</td>\n",
       "      <td>500</td>\n",
       "    </tr>\n",
       "    <tr>\n",
       "      <th>SELF_TRANSFER</th>\n",
       "      <td>18,576,791.51</td>\n",
       "      <td>177</td>\n",
       "    </tr>\n",
       "    <tr>\n",
       "      <th>OTHER_BENEFITS</th>\n",
       "      <td>6,401,265.55</td>\n",
       "      <td>156</td>\n",
       "    </tr>\n",
       "    <tr>\n",
       "      <th>INVESTMENT_INCOME</th>\n",
       "      <td>1,323,765.04</td>\n",
       "      <td>12</td>\n",
       "    </tr>\n",
       "    <tr>\n",
       "      <th>REFUND</th>\n",
       "      <td>885,897.16</td>\n",
       "      <td>34</td>\n",
       "    </tr>\n",
       "    <tr>\n",
       "      <th>UNEMPLOYMENT_BENEFITS</th>\n",
       "      <td>269,033.73</td>\n",
       "      <td>5</td>\n",
       "    </tr>\n",
       "    <tr>\n",
       "      <th>LOAN</th>\n",
       "      <td>234,040.71</td>\n",
       "      <td>4</td>\n",
       "    </tr>\n",
       "    <tr>\n",
       "      <th>SMALL_DOLLAR_ADVANCE</th>\n",
       "      <td>194,254.45</td>\n",
       "      <td>10</td>\n",
       "    </tr>\n",
       "    <tr>\n",
       "      <th>INSURANCE</th>\n",
       "      <td>155,195.98</td>\n",
       "      <td>2</td>\n",
       "    </tr>\n",
       "    <tr>\n",
       "      <th>TAX</th>\n",
       "      <td>101,198.16</td>\n",
       "      <td>7</td>\n",
       "    </tr>\n",
       "  </tbody>\n",
       "</table>\n",
       "</div>"
      ],
      "text/plain": [
       "                                sum  count\n",
       "category                                  \n",
       "PAYCHECK              69,067,273.05   1274\n",
       "EXTERNAL_TRANSFER     48,663,260.43    431\n",
       "DEPOSIT               35,167,802.12    362\n",
       "MISCELLANEOUS         30,100,469.08    500\n",
       "SELF_TRANSFER         18,576,791.51    177\n",
       "OTHER_BENEFITS         6,401,265.55    156\n",
       "INVESTMENT_INCOME      1,323,765.04     12\n",
       "REFUND                   885,897.16     34\n",
       "UNEMPLOYMENT_BENEFITS    269,033.73      5\n",
       "LOAN                     234,040.71      4\n",
       "SMALL_DOLLAR_ADVANCE     194,254.45     10\n",
       "INSURANCE                155,195.98      2\n",
       "TAX                      101,198.16      7"
      ]
     },
     "execution_count": 112,
     "metadata": {},
     "output_type": "execute_result"
    }
   ],
   "source": [
    "# looking at the number 1 source of income for each consumer (number 1 determined by amount), it looks like PAYCHECK has the highest amount\n",
    "# and occurs the most when looking at all inflows categories\n",
    "get_top_income_sources(inflows)"
   ]
  },
  {
   "cell_type": "code",
   "execution_count": 105,
   "id": "28487d89-6252-4ae9-a55c-4616546261b8",
   "metadata": {},
   "outputs": [
    {
     "data": {
      "text/html": [
       "<div>\n",
       "<style scoped>\n",
       "    .dataframe tbody tr th:only-of-type {\n",
       "        vertical-align: middle;\n",
       "    }\n",
       "\n",
       "    .dataframe tbody tr th {\n",
       "        vertical-align: top;\n",
       "    }\n",
       "\n",
       "    .dataframe thead th {\n",
       "        text-align: right;\n",
       "    }\n",
       "</style>\n",
       "<table border=\"1\" class=\"dataframe\">\n",
       "  <thead>\n",
       "    <tr style=\"text-align: right;\">\n",
       "      <th></th>\n",
       "      <th>sum</th>\n",
       "      <th>count</th>\n",
       "    </tr>\n",
       "    <tr>\n",
       "      <th>category</th>\n",
       "      <th></th>\n",
       "      <th></th>\n",
       "    </tr>\n",
       "  </thead>\n",
       "  <tbody>\n",
       "    <tr>\n",
       "      <th>PAYCHECK</th>\n",
       "      <td>86,304,379.79</td>\n",
       "      <td>1851</td>\n",
       "    </tr>\n",
       "    <tr>\n",
       "      <th>EXTERNAL_TRANSFER</th>\n",
       "      <td>76,788,728.05</td>\n",
       "      <td>1857</td>\n",
       "    </tr>\n",
       "    <tr>\n",
       "      <th>DEPOSIT</th>\n",
       "      <td>60,582,600.50</td>\n",
       "      <td>1449</td>\n",
       "    </tr>\n",
       "    <tr>\n",
       "      <th>MISCELLANEOUS</th>\n",
       "      <td>47,575,985.46</td>\n",
       "      <td>1241</td>\n",
       "    </tr>\n",
       "    <tr>\n",
       "      <th>SELF_TRANSFER</th>\n",
       "      <td>44,456,725.60</td>\n",
       "      <td>1005</td>\n",
       "    </tr>\n",
       "    <tr>\n",
       "      <th>OTHER_BENEFITS</th>\n",
       "      <td>10,754,831.79</td>\n",
       "      <td>329</td>\n",
       "    </tr>\n",
       "    <tr>\n",
       "      <th>INVESTMENT_INCOME</th>\n",
       "      <td>4,162,584.62</td>\n",
       "      <td>168</td>\n",
       "    </tr>\n",
       "    <tr>\n",
       "      <th>REFUND</th>\n",
       "      <td>2,992,197.57</td>\n",
       "      <td>269</td>\n",
       "    </tr>\n",
       "    <tr>\n",
       "      <th>TAX</th>\n",
       "      <td>2,433,325.61</td>\n",
       "      <td>297</td>\n",
       "    </tr>\n",
       "    <tr>\n",
       "      <th>LOAN</th>\n",
       "      <td>2,158,930.64</td>\n",
       "      <td>97</td>\n",
       "    </tr>\n",
       "    <tr>\n",
       "      <th>SMALL_DOLLAR_ADVANCE</th>\n",
       "      <td>1,253,084.25</td>\n",
       "      <td>210</td>\n",
       "    </tr>\n",
       "    <tr>\n",
       "      <th>UNEMPLOYMENT_BENEFITS</th>\n",
       "      <td>1,191,529.40</td>\n",
       "      <td>47</td>\n",
       "    </tr>\n",
       "    <tr>\n",
       "      <th>INSURANCE</th>\n",
       "      <td>254,997.54</td>\n",
       "      <td>7</td>\n",
       "    </tr>\n",
       "  </tbody>\n",
       "</table>\n",
       "</div>"
      ],
      "text/plain": [
       "                                sum  count\n",
       "category                                  \n",
       "PAYCHECK              86,304,379.79   1851\n",
       "EXTERNAL_TRANSFER     76,788,728.05   1857\n",
       "DEPOSIT               60,582,600.50   1449\n",
       "MISCELLANEOUS         47,575,985.46   1241\n",
       "SELF_TRANSFER         44,456,725.60   1005\n",
       "OTHER_BENEFITS        10,754,831.79    329\n",
       "INVESTMENT_INCOME      4,162,584.62    168\n",
       "REFUND                 2,992,197.57    269\n",
       "TAX                    2,433,325.61    297\n",
       "LOAN                   2,158,930.64     97\n",
       "SMALL_DOLLAR_ADVANCE   1,253,084.25    210\n",
       "UNEMPLOYMENT_BENEFITS  1,191,529.40     47\n",
       "INSURANCE                254,997.54      7"
      ]
     },
     "execution_count": 105,
     "metadata": {},
     "output_type": "execute_result"
    }
   ],
   "source": [
    "# When looking at the top 3 sources of income, it is no longer as clear. EXTERNAL_TRANSFER now appears more than PAYCHECK, and is much closer in amount.\n",
    "# DEPOSIT also went up considerably.\n",
    "get_top_income_sources(inflows, 3)"
   ]
  },
  {
   "cell_type": "code",
   "execution_count": 106,
   "id": "0d6f96df-98f6-49e4-8ca5-0b744a4b6864",
   "metadata": {},
   "outputs": [
    {
     "data": {
      "text/html": [
       "<div>\n",
       "<style scoped>\n",
       "    .dataframe tbody tr th:only-of-type {\n",
       "        vertical-align: middle;\n",
       "    }\n",
       "\n",
       "    .dataframe tbody tr th {\n",
       "        vertical-align: top;\n",
       "    }\n",
       "\n",
       "    .dataframe thead th {\n",
       "        text-align: right;\n",
       "    }\n",
       "</style>\n",
       "<table border=\"1\" class=\"dataframe\">\n",
       "  <thead>\n",
       "    <tr style=\"text-align: right;\">\n",
       "      <th></th>\n",
       "      <th>sum</th>\n",
       "      <th>count</th>\n",
       "    </tr>\n",
       "    <tr>\n",
       "      <th>category</th>\n",
       "      <th></th>\n",
       "      <th></th>\n",
       "    </tr>\n",
       "  </thead>\n",
       "  <tbody>\n",
       "    <tr>\n",
       "      <th>PAYCHECK</th>\n",
       "      <td>75,400,428.27</td>\n",
       "      <td>1492</td>\n",
       "    </tr>\n",
       "    <tr>\n",
       "      <th>EXTERNAL_TRANSFER</th>\n",
       "      <td>56,036,688.50</td>\n",
       "      <td>697</td>\n",
       "    </tr>\n",
       "    <tr>\n",
       "      <th>DEPOSIT</th>\n",
       "      <td>40,166,199.84</td>\n",
       "      <td>536</td>\n",
       "    </tr>\n",
       "    <tr>\n",
       "      <th>OTHER_BENEFITS</th>\n",
       "      <td>7,468,128.46</td>\n",
       "      <td>196</td>\n",
       "    </tr>\n",
       "    <tr>\n",
       "      <th>INVESTMENT_INCOME</th>\n",
       "      <td>1,589,384.00</td>\n",
       "      <td>38</td>\n",
       "    </tr>\n",
       "    <tr>\n",
       "      <th>UNEMPLOYMENT_BENEFITS</th>\n",
       "      <td>294,031.73</td>\n",
       "      <td>8</td>\n",
       "    </tr>\n",
       "  </tbody>\n",
       "</table>\n",
       "</div>"
      ],
      "text/plain": [
       "                                sum  count\n",
       "category                                  \n",
       "PAYCHECK              75,400,428.27   1492\n",
       "EXTERNAL_TRANSFER     56,036,688.50    697\n",
       "DEPOSIT               40,166,199.84    536\n",
       "OTHER_BENEFITS         7,468,128.46    196\n",
       "INVESTMENT_INCOME      1,589,384.00     38\n",
       "UNEMPLOYMENT_BENEFITS    294,031.73      8"
      ]
     },
     "execution_count": 106,
     "metadata": {},
     "output_type": "execute_result"
    }
   ],
   "source": [
    "# When limiting the transactions to categories that can actually be income, each of the counts of categories went up because other categories were \n",
    "# removed, so they moved up in the list.\n",
    "get_top_income_sources(income_inflows)"
   ]
  },
  {
   "cell_type": "code",
   "execution_count": 107,
   "id": "bee826eb-d289-4922-b054-8ebaf498db1c",
   "metadata": {},
   "outputs": [
    {
     "data": {
      "text/html": [
       "<div>\n",
       "<style scoped>\n",
       "    .dataframe tbody tr th:only-of-type {\n",
       "        vertical-align: middle;\n",
       "    }\n",
       "\n",
       "    .dataframe tbody tr th {\n",
       "        vertical-align: top;\n",
       "    }\n",
       "\n",
       "    .dataframe thead th {\n",
       "        text-align: right;\n",
       "    }\n",
       "</style>\n",
       "<table border=\"1\" class=\"dataframe\">\n",
       "  <thead>\n",
       "    <tr style=\"text-align: right;\">\n",
       "      <th></th>\n",
       "      <th>sum</th>\n",
       "      <th>count</th>\n",
       "    </tr>\n",
       "    <tr>\n",
       "      <th>category</th>\n",
       "      <th></th>\n",
       "      <th></th>\n",
       "    </tr>\n",
       "  </thead>\n",
       "  <tbody>\n",
       "    <tr>\n",
       "      <th>PAYCHECK</th>\n",
       "      <td>89,261,190.78</td>\n",
       "      <td>2121</td>\n",
       "    </tr>\n",
       "    <tr>\n",
       "      <th>EXTERNAL_TRANSFER</th>\n",
       "      <td>80,938,789.15</td>\n",
       "      <td>2633</td>\n",
       "    </tr>\n",
       "    <tr>\n",
       "      <th>DEPOSIT</th>\n",
       "      <td>65,802,733.55</td>\n",
       "      <td>2459</td>\n",
       "    </tr>\n",
       "    <tr>\n",
       "      <th>OTHER_BENEFITS</th>\n",
       "      <td>11,724,800.36</td>\n",
       "      <td>397</td>\n",
       "    </tr>\n",
       "    <tr>\n",
       "      <th>INVESTMENT_INCOME</th>\n",
       "      <td>6,023,017.70</td>\n",
       "      <td>556</td>\n",
       "    </tr>\n",
       "    <tr>\n",
       "      <th>UNEMPLOYMENT_BENEFITS</th>\n",
       "      <td>1,367,898.02</td>\n",
       "      <td>76</td>\n",
       "    </tr>\n",
       "  </tbody>\n",
       "</table>\n",
       "</div>"
      ],
      "text/plain": [
       "                                sum  count\n",
       "category                                  \n",
       "PAYCHECK              89,261,190.78   2121\n",
       "EXTERNAL_TRANSFER     80,938,789.15   2633\n",
       "DEPOSIT               65,802,733.55   2459\n",
       "OTHER_BENEFITS        11,724,800.36    397\n",
       "INVESTMENT_INCOME      6,023,017.70    556\n",
       "UNEMPLOYMENT_BENEFITS  1,367,898.02     76"
      ]
     },
     "execution_count": 107,
     "metadata": {},
     "output_type": "execute_result"
    }
   ],
   "source": [
    "# As seen in the other comparison, EXTERNAL_TRANSFER and DEPOSIT occurs much more than PAYCHECK.\n",
    "get_top_income_sources(income_inflows, 3)"
   ]
  },
  {
   "cell_type": "markdown",
   "id": "b4e72e22-a6f5-4f70-a2a8-3df50e2b78e5",
   "metadata": {},
   "source": [
    "These patterns can likely be explained by the nature of the categories. The fact that `PAYCHECK` still dominates in amount but begins to lose out in number of appearances to `EXTERNAL_TRANSFER` and `DEPOSIT` could be because direct deposit paychecks tend to be larger than external transfers like Venmo, Zelle, etc. They are larger because paychecks come from higher-paying jobs like in engineering and corporate but income coming from Venmo and Zelle are likely under the table jobs that don't get paid as much"
   ]
  }
 ],
 "metadata": {
  "kernelspec": {
   "display_name": "Python 3 (ipykernel)",
   "language": "python",
   "name": "python3"
  },
  "language_info": {
   "codemirror_mode": {
    "name": "ipython",
    "version": 3
   },
   "file_extension": ".py",
   "mimetype": "text/x-python",
   "name": "python",
   "nbconvert_exporter": "python",
   "pygments_lexer": "ipython3",
   "version": "3.11.9"
  }
 },
 "nbformat": 4,
 "nbformat_minor": 5
}
