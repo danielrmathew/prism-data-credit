{
 "cells": [
  {
   "cell_type": "code",
   "execution_count": 1,
   "id": "a7eea8e9-8acc-43e9-944d-fe7b9f7550f2",
   "metadata": {},
   "outputs": [],
   "source": [
    "import pandas as pd\n",
    "pd.options.display.float_format = '{:,.4f}'.format\n",
    "import numpy as np\n",
    "import matplotlib.pyplot as plt\n",
    "import re\n",
    "from sklearn.feature_extraction.text import TfidfVectorizer\n",
    "from sklearn.preprocessing import OneHotEncoder\n",
    "from sklearn.metrics import confusion_matrix\n",
    "import seaborn as sns\n",
    "import time\n",
    "import plotly.express as px"
   ]
  },
  {
   "cell_type": "code",
   "execution_count": 2,
   "id": "7fc09b08-eb77-4225-8ae0-21de34aff741",
   "metadata": {},
   "outputs": [
    {
     "name": "stderr",
     "output_type": "stream",
     "text": [
      "2024-11-28 20:21:07.531080: E external/local_xla/xla/stream_executor/cuda/cuda_dnn.cc:9261] Unable to register cuDNN factory: Attempting to register factory for plugin cuDNN when one has already been registered\n",
      "2024-11-28 20:21:07.531149: E external/local_xla/xla/stream_executor/cuda/cuda_fft.cc:607] Unable to register cuFFT factory: Attempting to register factory for plugin cuFFT when one has already been registered\n",
      "2024-11-28 20:21:07.533076: E external/local_xla/xla/stream_executor/cuda/cuda_blas.cc:1515] Unable to register cuBLAS factory: Attempting to register factory for plugin cuBLAS when one has already been registered\n",
      "2024-11-28 20:21:07.545451: I tensorflow/core/platform/cpu_feature_guard.cc:182] This TensorFlow binary is optimized to use available CPU instructions in performance-critical operations.\n",
      "To enable the following instructions: AVX2 FMA, in other operations, rebuild TensorFlow with the appropriate compiler flags.\n"
     ]
    },
    {
     "name": "stdout",
     "output_type": "stream",
     "text": [
      "Num GPUs Available:  1\n",
      "CUDA available: True\n",
      "GPU in use: 0\n"
     ]
    }
   ],
   "source": [
    "import tensorflow as tf\n",
    "\n",
    "print(\"Num GPUs Available: \", len(tf.config.experimental.list_physical_devices('GPU')))\n",
    "\n",
    "import torch\n",
    "print(\"CUDA available:\", torch.cuda.is_available())\n",
    "\n",
    "print(\"GPU in use:\", torch.cuda.current_device())\n",
    "torch.cuda.empty_cache()"
   ]
  },
  {
   "cell_type": "code",
   "execution_count": null,
   "id": "7bb504c4-03fb-429e-a1fd-9a18ec936e45",
   "metadata": {},
   "outputs": [],
   "source": []
  },
  {
   "cell_type": "markdown",
   "id": "e4e83487-7366-468f-ab23-62224109b5b8",
   "metadata": {},
   "source": [
    "# Reading Data + EDA"
   ]
  },
  {
   "cell_type": "code",
   "execution_count": 24,
   "id": "13c0789c-9f8b-4bfc-bf25-84d8ebf5d804",
   "metadata": {},
   "outputs": [],
   "source": [
    "inflows = pd.read_parquet('../../data/ucsd-inflows.pqt')\n",
    "inflows.category = inflows.category.apply(lambda x: 'PAYCHECK' if x == 'PAYCHECK_PLACEHOLDER' else x)\n",
    "inflows.posted_date = pd.to_datetime(inflows['posted_date'])"
   ]
  },
  {
   "cell_type": "code",
   "execution_count": 25,
   "id": "eb190982-28dd-4b57-9a74-a552d6091f43",
   "metadata": {},
   "outputs": [
    {
     "data": {
      "text/html": [
       "<div>\n",
       "<style scoped>\n",
       "    .dataframe tbody tr th:only-of-type {\n",
       "        vertical-align: middle;\n",
       "    }\n",
       "\n",
       "    .dataframe tbody tr th {\n",
       "        vertical-align: top;\n",
       "    }\n",
       "\n",
       "    .dataframe thead th {\n",
       "        text-align: right;\n",
       "    }\n",
       "</style>\n",
       "<table border=\"1\" class=\"dataframe\">\n",
       "  <thead>\n",
       "    <tr style=\"text-align: right;\">\n",
       "      <th></th>\n",
       "      <th>prism_consumer_id</th>\n",
       "      <th>prism_account_id</th>\n",
       "      <th>memo</th>\n",
       "      <th>amount</th>\n",
       "      <th>posted_date</th>\n",
       "      <th>category</th>\n",
       "    </tr>\n",
       "  </thead>\n",
       "  <tbody>\n",
       "    <tr>\n",
       "      <th>0</th>\n",
       "      <td>0</td>\n",
       "      <td>acc_0</td>\n",
       "      <td>PAYCHECK</td>\n",
       "      <td>2,477.0200</td>\n",
       "      <td>2022-03-18</td>\n",
       "      <td>PAYCHECK</td>\n",
       "    </tr>\n",
       "    <tr>\n",
       "      <th>1</th>\n",
       "      <td>0</td>\n",
       "      <td>acc_0</td>\n",
       "      <td>EXTERNAL_TRANSFER</td>\n",
       "      <td>100.0000</td>\n",
       "      <td>2022-10-25</td>\n",
       "      <td>EXTERNAL_TRANSFER</td>\n",
       "    </tr>\n",
       "    <tr>\n",
       "      <th>2</th>\n",
       "      <td>0</td>\n",
       "      <td>acc_0</td>\n",
       "      <td>MISCELLANEOUS</td>\n",
       "      <td>6.2900</td>\n",
       "      <td>2022-08-26</td>\n",
       "      <td>MISCELLANEOUS</td>\n",
       "    </tr>\n",
       "    <tr>\n",
       "      <th>3</th>\n",
       "      <td>0</td>\n",
       "      <td>acc_0</td>\n",
       "      <td>EXTERNAL_TRANSFER</td>\n",
       "      <td>277.0000</td>\n",
       "      <td>2022-06-03</td>\n",
       "      <td>EXTERNAL_TRANSFER</td>\n",
       "    </tr>\n",
       "    <tr>\n",
       "      <th>4</th>\n",
       "      <td>0</td>\n",
       "      <td>acc_0</td>\n",
       "      <td>EXTERNAL_TRANSFER</td>\n",
       "      <td>100.0000</td>\n",
       "      <td>2022-07-29</td>\n",
       "      <td>EXTERNAL_TRANSFER</td>\n",
       "    </tr>\n",
       "  </tbody>\n",
       "</table>\n",
       "</div>"
      ],
      "text/plain": [
       "   prism_consumer_id prism_account_id               memo     amount  \\\n",
       "0                  0            acc_0           PAYCHECK 2,477.0200   \n",
       "1                  0            acc_0  EXTERNAL_TRANSFER   100.0000   \n",
       "2                  0            acc_0      MISCELLANEOUS     6.2900   \n",
       "3                  0            acc_0  EXTERNAL_TRANSFER   277.0000   \n",
       "4                  0            acc_0  EXTERNAL_TRANSFER   100.0000   \n",
       "\n",
       "  posted_date           category  \n",
       "0  2022-03-18           PAYCHECK  \n",
       "1  2022-10-25  EXTERNAL_TRANSFER  \n",
       "2  2022-08-26      MISCELLANEOUS  \n",
       "3  2022-06-03  EXTERNAL_TRANSFER  \n",
       "4  2022-07-29  EXTERNAL_TRANSFER  "
      ]
     },
     "execution_count": 25,
     "metadata": {},
     "output_type": "execute_result"
    }
   ],
   "source": [
    "inflows.head()"
   ]
  },
  {
   "cell_type": "code",
   "execution_count": 26,
   "id": "962f795a-b04e-4480-902a-647cf0460c2e",
   "metadata": {},
   "outputs": [],
   "source": [
    "# Check values add up\n",
    "\n",
    "# inflows['category_check'] = inflows.category.apply(lambda x: 'PAYCHECK' if x == 'PAYCHECK_PLACEHOLDER' else x)\n",
    "# inflows.category.value_counts().loc[['PAYCHECK', 'PAYCHECK_PLACEHOLDER']].sum() == inflows.category_check.value_counts().loc[['PAYCHECK']].values[0]"
   ]
  },
  {
   "cell_type": "code",
   "execution_count": null,
   "id": "f9b91c36-e232-4966-9f20-e44e3b8b377a",
   "metadata": {},
   "outputs": [],
   "source": []
  },
  {
   "cell_type": "markdown",
   "id": "92bbe55d-02d9-496c-b283-b6006d7d6a9b",
   "metadata": {},
   "source": [
    "#### Transactions Per Consumer"
   ]
  },
  {
   "cell_type": "code",
   "execution_count": 27,
   "id": "25840898-8776-4cbd-a073-fa5f3c4d5725",
   "metadata": {},
   "outputs": [
    {
     "data": {
      "text/html": [
       "<div>\n",
       "<style scoped>\n",
       "    .dataframe tbody tr th:only-of-type {\n",
       "        vertical-align: middle;\n",
       "    }\n",
       "\n",
       "    .dataframe tbody tr th {\n",
       "        vertical-align: top;\n",
       "    }\n",
       "\n",
       "    .dataframe thead th {\n",
       "        text-align: right;\n",
       "    }\n",
       "</style>\n",
       "<table border=\"1\" class=\"dataframe\">\n",
       "  <thead>\n",
       "    <tr style=\"text-align: right;\">\n",
       "      <th></th>\n",
       "      <th>category</th>\n",
       "    </tr>\n",
       "    <tr>\n",
       "      <th>prism_consumer_id</th>\n",
       "      <th></th>\n",
       "    </tr>\n",
       "  </thead>\n",
       "  <tbody>\n",
       "    <tr>\n",
       "      <th>0</th>\n",
       "      <td>91</td>\n",
       "    </tr>\n",
       "    <tr>\n",
       "      <th>2</th>\n",
       "      <td>113</td>\n",
       "    </tr>\n",
       "    <tr>\n",
       "      <th>4</th>\n",
       "      <td>152</td>\n",
       "    </tr>\n",
       "    <tr>\n",
       "      <th>7</th>\n",
       "      <td>129</td>\n",
       "    </tr>\n",
       "    <tr>\n",
       "      <th>9</th>\n",
       "      <td>375</td>\n",
       "    </tr>\n",
       "  </tbody>\n",
       "</table>\n",
       "</div>"
      ],
      "text/plain": [
       "                   category\n",
       "prism_consumer_id          \n",
       "0                        91\n",
       "2                       113\n",
       "4                       152\n",
       "7                       129\n",
       "9                       375"
      ]
     },
     "execution_count": 27,
     "metadata": {},
     "output_type": "execute_result"
    }
   ],
   "source": [
    "inflows_consumer_cnt = inflows.groupby('prism_consumer_id').count()[['category']]\n",
    "inflows_consumer_cnt.head()"
   ]
  },
  {
   "cell_type": "code",
   "execution_count": 28,
   "id": "ad3c99ee-6312-45f4-90d0-c126b5d0590b",
   "metadata": {},
   "outputs": [
    {
     "name": "stdout",
     "output_type": "stream",
     "text": [
      "Average # of transactions per consumer: 172.5336\n"
     ]
    }
   ],
   "source": [
    "print(f'Average # of transactions per consumer: {inflows_consumer_cnt.category.mean():.4f}')"
   ]
  },
  {
   "cell_type": "code",
   "execution_count": null,
   "id": "95114139-b018-4087-83a6-3406864a7757",
   "metadata": {},
   "outputs": [],
   "source": []
  },
  {
   "cell_type": "markdown",
   "id": "1a466900-070c-41b8-8599-a650d7d59dca",
   "metadata": {},
   "source": [
    "#### Sum of Inflows by Consumer"
   ]
  },
  {
   "cell_type": "code",
   "execution_count": 29,
   "id": "bda5a0ae-9fb4-4403-866e-2fd449820eb4",
   "metadata": {},
   "outputs": [
    {
     "data": {
      "text/html": [
       "<div>\n",
       "<style scoped>\n",
       "    .dataframe tbody tr th:only-of-type {\n",
       "        vertical-align: middle;\n",
       "    }\n",
       "\n",
       "    .dataframe tbody tr th {\n",
       "        vertical-align: top;\n",
       "    }\n",
       "\n",
       "    .dataframe thead th {\n",
       "        text-align: right;\n",
       "    }\n",
       "</style>\n",
       "<table border=\"1\" class=\"dataframe\">\n",
       "  <thead>\n",
       "    <tr style=\"text-align: right;\">\n",
       "      <th></th>\n",
       "      <th>amount</th>\n",
       "    </tr>\n",
       "    <tr>\n",
       "      <th>prism_consumer_id</th>\n",
       "      <th></th>\n",
       "    </tr>\n",
       "  </thead>\n",
       "  <tbody>\n",
       "    <tr>\n",
       "      <th>0</th>\n",
       "      <td>110,312.4300</td>\n",
       "    </tr>\n",
       "    <tr>\n",
       "      <th>2</th>\n",
       "      <td>349,639.0300</td>\n",
       "    </tr>\n",
       "    <tr>\n",
       "      <th>4</th>\n",
       "      <td>462,557.9000</td>\n",
       "    </tr>\n",
       "    <tr>\n",
       "      <th>7</th>\n",
       "      <td>250,214.0900</td>\n",
       "    </tr>\n",
       "    <tr>\n",
       "      <th>9</th>\n",
       "      <td>215,342.0100</td>\n",
       "    </tr>\n",
       "  </tbody>\n",
       "</table>\n",
       "</div>"
      ],
      "text/plain": [
       "                        amount\n",
       "prism_consumer_id             \n",
       "0                 110,312.4300\n",
       "2                 349,639.0300\n",
       "4                 462,557.9000\n",
       "7                 250,214.0900\n",
       "9                 215,342.0100"
      ]
     },
     "execution_count": 29,
     "metadata": {},
     "output_type": "execute_result"
    }
   ],
   "source": [
    "inflows_consumer_sum = inflows.groupby('prism_consumer_id')[['amount']].sum()\n",
    "\n",
    "inflows_consumer_sum.head()"
   ]
  },
  {
   "cell_type": "code",
   "execution_count": 30,
   "id": "d2a8b720-c5d4-4cd5-b5d7-17f515a981db",
   "metadata": {},
   "outputs": [
    {
     "name": "stdout",
     "output_type": "stream",
     "text": [
      "Average inflow sum per consumer: $126760.4207\n"
     ]
    }
   ],
   "source": [
    "print(f'Average inflow sum per consumer: ${inflows_consumer_sum.amount.mean():.4f}')"
   ]
  },
  {
   "cell_type": "code",
   "execution_count": null,
   "id": "f14127bc-cef2-484b-b9b0-892b1b28ce2c",
   "metadata": {},
   "outputs": [],
   "source": []
  },
  {
   "cell_type": "markdown",
   "id": "642adbc9-81cd-47ff-858d-4b711413551c",
   "metadata": {},
   "source": [
    "#### Income Estimates"
   ]
  },
  {
   "cell_type": "code",
   "execution_count": 31,
   "id": "1c1d1a50-7af0-4781-bf23-6d8a4dde0840",
   "metadata": {
    "scrolled": true
   },
   "outputs": [
    {
     "data": {
      "text/plain": [
       "category\n",
       "EXTERNAL_TRANSFER        156533\n",
       "SELF_TRANSFER            110437\n",
       "DEPOSIT                   61345\n",
       "PAYCHECK                  59225\n",
       "MISCELLANEOUS             55648\n",
       "REFUND                    23220\n",
       "INVESTMENT_INCOME         17325\n",
       "SMALL_DOLLAR_ADVANCE      13621\n",
       "OTHER_BENEFITS             7708\n",
       "TAX                        3405\n",
       "LOAN                       2513\n",
       "UNEMPLOYMENT_BENEFITS      1961\n",
       "INSURANCE                   174\n",
       "Name: count, dtype: int64"
      ]
     },
     "execution_count": 31,
     "metadata": {},
     "output_type": "execute_result"
    }
   ],
   "source": [
    "inflows.category.value_counts()"
   ]
  },
  {
   "cell_type": "code",
   "execution_count": 32,
   "id": "41cc1999-01f9-466c-a792-a21ffd3ee890",
   "metadata": {},
   "outputs": [],
   "source": [
    "# relevant income categories\n",
    "income_cats = ['EXTERNAL_TRANSFER', 'DEPOSIT', 'PAYCHECK', 'INVESTMENT_INCOME', 'OTHER_BENEFITS', 'UNEMPLOYMENT_BENEFITS']\n",
    "inflows_rel = inflows[inflows.category.isin(income_cats)]"
   ]
  },
  {
   "cell_type": "code",
   "execution_count": 33,
   "id": "79830032-1cf7-4543-8c5e-73172167d37e",
   "metadata": {},
   "outputs": [
    {
     "name": "stdout",
     "output_type": "stream",
     "text": [
      "Originally 513115 records, Now 304097 records\n"
     ]
    }
   ],
   "source": [
    "print(f'Originally {inflows.shape[0]} records, Now {inflows_rel.shape[0]} records')"
   ]
  },
  {
   "cell_type": "code",
   "execution_count": null,
   "id": "d1acdaff-3504-4eb1-bcbf-8a6a7d211560",
   "metadata": {},
   "outputs": [],
   "source": []
  },
  {
   "cell_type": "code",
   "execution_count": 34,
   "id": "45a63a47-89c4-4af7-a28a-96ce5441bce2",
   "metadata": {},
   "outputs": [
    {
     "name": "stdout",
     "output_type": "stream",
     "text": [
      "Average rough income sum per consumer: $87154.2950\n",
      "Median rough income sum per consumer: $37786.2100\n"
     ]
    }
   ],
   "source": [
    "inflows_rel_consumer_sum = inflows_rel.groupby('prism_consumer_id')[['amount']].sum()\n",
    "\n",
    "print(f'Average rough income sum per consumer: ${inflows_rel_consumer_sum.amount.mean():.4f}')\n",
    "print(f'Median rough income sum per consumer: ${inflows_rel_consumer_sum.amount.median():.4f}')"
   ]
  },
  {
   "cell_type": "code",
   "execution_count": null,
   "id": "a3304bbe-f2af-46cc-85ec-233b477095dc",
   "metadata": {},
   "outputs": [],
   "source": []
  },
  {
   "cell_type": "code",
   "execution_count": 35,
   "id": "f7e3cd87-2c26-4947-9ade-200a879b59d3",
   "metadata": {},
   "outputs": [
    {
     "data": {
      "application/vnd.plotly.v1+json": {
       "config": {
        "plotlyServerURL": "https://plot.ly"
       },
       "data": [
        {
         "branchvalues": "total",
         "domain": {
          "x": [
           0,
           1
          ],
          "y": [
           0,
           1
          ]
         },
         "hovertemplate": "labels=%{label}<br>amount=%{value}<br>parent=%{parent}<br>id=%{id}<extra></extra>",
         "ids": [
          "DEPOSIT",
          "EXTERNAL_TRANSFER",
          "INVESTMENT_INCOME",
          "OTHER_BENEFITS",
          "PAYCHECK",
          "UNEMPLOYMENT_BENEFITS"
         ],
         "labels": [
          "DEPOSIT",
          "EXTERNAL_TRANSFER",
          "INVESTMENT_INCOME",
          "OTHER_BENEFITS",
          "PAYCHECK",
          "UNEMPLOYMENT_BENEFITS"
         ],
         "name": "",
         "parents": [
          "",
          "",
          "",
          "",
          "",
          ""
         ],
         "type": "sunburst",
         "values": [
          66602343.6,
          81586232.14,
          6887278.35,
          12175837.46,
          89724682.02,
          1610419.79
         ]
        }
       ],
       "layout": {
        "height": 400,
        "legend": {
         "tracegroupgap": 0
        },
        "template": {
         "data": {
          "bar": [
           {
            "error_x": {
             "color": "#2a3f5f"
            },
            "error_y": {
             "color": "#2a3f5f"
            },
            "marker": {
             "line": {
              "color": "#E5ECF6",
              "width": 0.5
             },
             "pattern": {
              "fillmode": "overlay",
              "size": 10,
              "solidity": 0.2
             }
            },
            "type": "bar"
           }
          ],
          "barpolar": [
           {
            "marker": {
             "line": {
              "color": "#E5ECF6",
              "width": 0.5
             },
             "pattern": {
              "fillmode": "overlay",
              "size": 10,
              "solidity": 0.2
             }
            },
            "type": "barpolar"
           }
          ],
          "carpet": [
           {
            "aaxis": {
             "endlinecolor": "#2a3f5f",
             "gridcolor": "white",
             "linecolor": "white",
             "minorgridcolor": "white",
             "startlinecolor": "#2a3f5f"
            },
            "baxis": {
             "endlinecolor": "#2a3f5f",
             "gridcolor": "white",
             "linecolor": "white",
             "minorgridcolor": "white",
             "startlinecolor": "#2a3f5f"
            },
            "type": "carpet"
           }
          ],
          "choropleth": [
           {
            "colorbar": {
             "outlinewidth": 0,
             "ticks": ""
            },
            "type": "choropleth"
           }
          ],
          "contour": [
           {
            "colorbar": {
             "outlinewidth": 0,
             "ticks": ""
            },
            "colorscale": [
             [
              0,
              "#0d0887"
             ],
             [
              0.1111111111111111,
              "#46039f"
             ],
             [
              0.2222222222222222,
              "#7201a8"
             ],
             [
              0.3333333333333333,
              "#9c179e"
             ],
             [
              0.4444444444444444,
              "#bd3786"
             ],
             [
              0.5555555555555556,
              "#d8576b"
             ],
             [
              0.6666666666666666,
              "#ed7953"
             ],
             [
              0.7777777777777778,
              "#fb9f3a"
             ],
             [
              0.8888888888888888,
              "#fdca26"
             ],
             [
              1,
              "#f0f921"
             ]
            ],
            "type": "contour"
           }
          ],
          "contourcarpet": [
           {
            "colorbar": {
             "outlinewidth": 0,
             "ticks": ""
            },
            "type": "contourcarpet"
           }
          ],
          "heatmap": [
           {
            "colorbar": {
             "outlinewidth": 0,
             "ticks": ""
            },
            "colorscale": [
             [
              0,
              "#0d0887"
             ],
             [
              0.1111111111111111,
              "#46039f"
             ],
             [
              0.2222222222222222,
              "#7201a8"
             ],
             [
              0.3333333333333333,
              "#9c179e"
             ],
             [
              0.4444444444444444,
              "#bd3786"
             ],
             [
              0.5555555555555556,
              "#d8576b"
             ],
             [
              0.6666666666666666,
              "#ed7953"
             ],
             [
              0.7777777777777778,
              "#fb9f3a"
             ],
             [
              0.8888888888888888,
              "#fdca26"
             ],
             [
              1,
              "#f0f921"
             ]
            ],
            "type": "heatmap"
           }
          ],
          "heatmapgl": [
           {
            "colorbar": {
             "outlinewidth": 0,
             "ticks": ""
            },
            "colorscale": [
             [
              0,
              "#0d0887"
             ],
             [
              0.1111111111111111,
              "#46039f"
             ],
             [
              0.2222222222222222,
              "#7201a8"
             ],
             [
              0.3333333333333333,
              "#9c179e"
             ],
             [
              0.4444444444444444,
              "#bd3786"
             ],
             [
              0.5555555555555556,
              "#d8576b"
             ],
             [
              0.6666666666666666,
              "#ed7953"
             ],
             [
              0.7777777777777778,
              "#fb9f3a"
             ],
             [
              0.8888888888888888,
              "#fdca26"
             ],
             [
              1,
              "#f0f921"
             ]
            ],
            "type": "heatmapgl"
           }
          ],
          "histogram": [
           {
            "marker": {
             "pattern": {
              "fillmode": "overlay",
              "size": 10,
              "solidity": 0.2
             }
            },
            "type": "histogram"
           }
          ],
          "histogram2d": [
           {
            "colorbar": {
             "outlinewidth": 0,
             "ticks": ""
            },
            "colorscale": [
             [
              0,
              "#0d0887"
             ],
             [
              0.1111111111111111,
              "#46039f"
             ],
             [
              0.2222222222222222,
              "#7201a8"
             ],
             [
              0.3333333333333333,
              "#9c179e"
             ],
             [
              0.4444444444444444,
              "#bd3786"
             ],
             [
              0.5555555555555556,
              "#d8576b"
             ],
             [
              0.6666666666666666,
              "#ed7953"
             ],
             [
              0.7777777777777778,
              "#fb9f3a"
             ],
             [
              0.8888888888888888,
              "#fdca26"
             ],
             [
              1,
              "#f0f921"
             ]
            ],
            "type": "histogram2d"
           }
          ],
          "histogram2dcontour": [
           {
            "colorbar": {
             "outlinewidth": 0,
             "ticks": ""
            },
            "colorscale": [
             [
              0,
              "#0d0887"
             ],
             [
              0.1111111111111111,
              "#46039f"
             ],
             [
              0.2222222222222222,
              "#7201a8"
             ],
             [
              0.3333333333333333,
              "#9c179e"
             ],
             [
              0.4444444444444444,
              "#bd3786"
             ],
             [
              0.5555555555555556,
              "#d8576b"
             ],
             [
              0.6666666666666666,
              "#ed7953"
             ],
             [
              0.7777777777777778,
              "#fb9f3a"
             ],
             [
              0.8888888888888888,
              "#fdca26"
             ],
             [
              1,
              "#f0f921"
             ]
            ],
            "type": "histogram2dcontour"
           }
          ],
          "mesh3d": [
           {
            "colorbar": {
             "outlinewidth": 0,
             "ticks": ""
            },
            "type": "mesh3d"
           }
          ],
          "parcoords": [
           {
            "line": {
             "colorbar": {
              "outlinewidth": 0,
              "ticks": ""
             }
            },
            "type": "parcoords"
           }
          ],
          "pie": [
           {
            "automargin": true,
            "type": "pie"
           }
          ],
          "scatter": [
           {
            "fillpattern": {
             "fillmode": "overlay",
             "size": 10,
             "solidity": 0.2
            },
            "type": "scatter"
           }
          ],
          "scatter3d": [
           {
            "line": {
             "colorbar": {
              "outlinewidth": 0,
              "ticks": ""
             }
            },
            "marker": {
             "colorbar": {
              "outlinewidth": 0,
              "ticks": ""
             }
            },
            "type": "scatter3d"
           }
          ],
          "scattercarpet": [
           {
            "marker": {
             "colorbar": {
              "outlinewidth": 0,
              "ticks": ""
             }
            },
            "type": "scattercarpet"
           }
          ],
          "scattergeo": [
           {
            "marker": {
             "colorbar": {
              "outlinewidth": 0,
              "ticks": ""
             }
            },
            "type": "scattergeo"
           }
          ],
          "scattergl": [
           {
            "marker": {
             "colorbar": {
              "outlinewidth": 0,
              "ticks": ""
             }
            },
            "type": "scattergl"
           }
          ],
          "scattermapbox": [
           {
            "marker": {
             "colorbar": {
              "outlinewidth": 0,
              "ticks": ""
             }
            },
            "type": "scattermapbox"
           }
          ],
          "scatterpolar": [
           {
            "marker": {
             "colorbar": {
              "outlinewidth": 0,
              "ticks": ""
             }
            },
            "type": "scatterpolar"
           }
          ],
          "scatterpolargl": [
           {
            "marker": {
             "colorbar": {
              "outlinewidth": 0,
              "ticks": ""
             }
            },
            "type": "scatterpolargl"
           }
          ],
          "scatterternary": [
           {
            "marker": {
             "colorbar": {
              "outlinewidth": 0,
              "ticks": ""
             }
            },
            "type": "scatterternary"
           }
          ],
          "surface": [
           {
            "colorbar": {
             "outlinewidth": 0,
             "ticks": ""
            },
            "colorscale": [
             [
              0,
              "#0d0887"
             ],
             [
              0.1111111111111111,
              "#46039f"
             ],
             [
              0.2222222222222222,
              "#7201a8"
             ],
             [
              0.3333333333333333,
              "#9c179e"
             ],
             [
              0.4444444444444444,
              "#bd3786"
             ],
             [
              0.5555555555555556,
              "#d8576b"
             ],
             [
              0.6666666666666666,
              "#ed7953"
             ],
             [
              0.7777777777777778,
              "#fb9f3a"
             ],
             [
              0.8888888888888888,
              "#fdca26"
             ],
             [
              1,
              "#f0f921"
             ]
            ],
            "type": "surface"
           }
          ],
          "table": [
           {
            "cells": {
             "fill": {
              "color": "#EBF0F8"
             },
             "line": {
              "color": "white"
             }
            },
            "header": {
             "fill": {
              "color": "#C8D4E3"
             },
             "line": {
              "color": "white"
             }
            },
            "type": "table"
           }
          ]
         },
         "layout": {
          "annotationdefaults": {
           "arrowcolor": "#2a3f5f",
           "arrowhead": 0,
           "arrowwidth": 1
          },
          "autotypenumbers": "strict",
          "coloraxis": {
           "colorbar": {
            "outlinewidth": 0,
            "ticks": ""
           }
          },
          "colorscale": {
           "diverging": [
            [
             0,
             "#8e0152"
            ],
            [
             0.1,
             "#c51b7d"
            ],
            [
             0.2,
             "#de77ae"
            ],
            [
             0.3,
             "#f1b6da"
            ],
            [
             0.4,
             "#fde0ef"
            ],
            [
             0.5,
             "#f7f7f7"
            ],
            [
             0.6,
             "#e6f5d0"
            ],
            [
             0.7,
             "#b8e186"
            ],
            [
             0.8,
             "#7fbc41"
            ],
            [
             0.9,
             "#4d9221"
            ],
            [
             1,
             "#276419"
            ]
           ],
           "sequential": [
            [
             0,
             "#0d0887"
            ],
            [
             0.1111111111111111,
             "#46039f"
            ],
            [
             0.2222222222222222,
             "#7201a8"
            ],
            [
             0.3333333333333333,
             "#9c179e"
            ],
            [
             0.4444444444444444,
             "#bd3786"
            ],
            [
             0.5555555555555556,
             "#d8576b"
            ],
            [
             0.6666666666666666,
             "#ed7953"
            ],
            [
             0.7777777777777778,
             "#fb9f3a"
            ],
            [
             0.8888888888888888,
             "#fdca26"
            ],
            [
             1,
             "#f0f921"
            ]
           ],
           "sequentialminus": [
            [
             0,
             "#0d0887"
            ],
            [
             0.1111111111111111,
             "#46039f"
            ],
            [
             0.2222222222222222,
             "#7201a8"
            ],
            [
             0.3333333333333333,
             "#9c179e"
            ],
            [
             0.4444444444444444,
             "#bd3786"
            ],
            [
             0.5555555555555556,
             "#d8576b"
            ],
            [
             0.6666666666666666,
             "#ed7953"
            ],
            [
             0.7777777777777778,
             "#fb9f3a"
            ],
            [
             0.8888888888888888,
             "#fdca26"
            ],
            [
             1,
             "#f0f921"
            ]
           ]
          },
          "colorway": [
           "#636efa",
           "#EF553B",
           "#00cc96",
           "#ab63fa",
           "#FFA15A",
           "#19d3f3",
           "#FF6692",
           "#B6E880",
           "#FF97FF",
           "#FECB52"
          ],
          "font": {
           "color": "#2a3f5f"
          },
          "geo": {
           "bgcolor": "white",
           "lakecolor": "white",
           "landcolor": "#E5ECF6",
           "showlakes": true,
           "showland": true,
           "subunitcolor": "white"
          },
          "hoverlabel": {
           "align": "left"
          },
          "hovermode": "closest",
          "mapbox": {
           "style": "light"
          },
          "paper_bgcolor": "white",
          "plot_bgcolor": "#E5ECF6",
          "polar": {
           "angularaxis": {
            "gridcolor": "white",
            "linecolor": "white",
            "ticks": ""
           },
           "bgcolor": "#E5ECF6",
           "radialaxis": {
            "gridcolor": "white",
            "linecolor": "white",
            "ticks": ""
           }
          },
          "scene": {
           "xaxis": {
            "backgroundcolor": "#E5ECF6",
            "gridcolor": "white",
            "gridwidth": 2,
            "linecolor": "white",
            "showbackground": true,
            "ticks": "",
            "zerolinecolor": "white"
           },
           "yaxis": {
            "backgroundcolor": "#E5ECF6",
            "gridcolor": "white",
            "gridwidth": 2,
            "linecolor": "white",
            "showbackground": true,
            "ticks": "",
            "zerolinecolor": "white"
           },
           "zaxis": {
            "backgroundcolor": "#E5ECF6",
            "gridcolor": "white",
            "gridwidth": 2,
            "linecolor": "white",
            "showbackground": true,
            "ticks": "",
            "zerolinecolor": "white"
           }
          },
          "shapedefaults": {
           "line": {
            "color": "#2a3f5f"
           }
          },
          "ternary": {
           "aaxis": {
            "gridcolor": "white",
            "linecolor": "white",
            "ticks": ""
           },
           "baxis": {
            "gridcolor": "white",
            "linecolor": "white",
            "ticks": ""
           },
           "bgcolor": "#E5ECF6",
           "caxis": {
            "gridcolor": "white",
            "linecolor": "white",
            "ticks": ""
           }
          },
          "title": {
           "x": 0.05
          },
          "xaxis": {
           "automargin": true,
           "gridcolor": "white",
           "linecolor": "white",
           "ticks": "",
           "title": {
            "standoff": 15
           },
           "zerolinecolor": "white",
           "zerolinewidth": 2
          },
          "yaxis": {
           "automargin": true,
           "gridcolor": "white",
           "linecolor": "white",
           "ticks": "",
           "title": {
            "standoff": 15
           },
           "zerolinecolor": "white",
           "zerolinewidth": 2
          }
         }
        },
        "title": {
         "text": "Major Sources of Income"
        },
        "width": 400
       }
      },
      "text/html": [
       "<div>                            <div id=\"811c60ee-b973-412b-8625-fbf43990dbbc\" class=\"plotly-graph-div\" style=\"height:400px; width:400px;\"></div>            <script type=\"text/javascript\">                require([\"plotly\"], function(Plotly) {                    window.PLOTLYENV=window.PLOTLYENV || {};                                    if (document.getElementById(\"811c60ee-b973-412b-8625-fbf43990dbbc\")) {                    Plotly.newPlot(                        \"811c60ee-b973-412b-8625-fbf43990dbbc\",                        [{\"branchvalues\":\"total\",\"domain\":{\"x\":[0.0,1.0],\"y\":[0.0,1.0]},\"hovertemplate\":\"labels=%{label}\\u003cbr\\u003eamount=%{value}\\u003cbr\\u003eparent=%{parent}\\u003cbr\\u003eid=%{id}\\u003cextra\\u003e\\u003c\\u002fextra\\u003e\",\"ids\":[\"DEPOSIT\",\"EXTERNAL_TRANSFER\",\"INVESTMENT_INCOME\",\"OTHER_BENEFITS\",\"PAYCHECK\",\"UNEMPLOYMENT_BENEFITS\"],\"labels\":[\"DEPOSIT\",\"EXTERNAL_TRANSFER\",\"INVESTMENT_INCOME\",\"OTHER_BENEFITS\",\"PAYCHECK\",\"UNEMPLOYMENT_BENEFITS\"],\"name\":\"\",\"parents\":[\"\",\"\",\"\",\"\",\"\",\"\"],\"values\":[66602343.6,81586232.14,6887278.35,12175837.46,89724682.02,1610419.79],\"type\":\"sunburst\"}],                        {\"template\":{\"data\":{\"histogram2dcontour\":[{\"type\":\"histogram2dcontour\",\"colorbar\":{\"outlinewidth\":0,\"ticks\":\"\"},\"colorscale\":[[0.0,\"#0d0887\"],[0.1111111111111111,\"#46039f\"],[0.2222222222222222,\"#7201a8\"],[0.3333333333333333,\"#9c179e\"],[0.4444444444444444,\"#bd3786\"],[0.5555555555555556,\"#d8576b\"],[0.6666666666666666,\"#ed7953\"],[0.7777777777777778,\"#fb9f3a\"],[0.8888888888888888,\"#fdca26\"],[1.0,\"#f0f921\"]]}],\"choropleth\":[{\"type\":\"choropleth\",\"colorbar\":{\"outlinewidth\":0,\"ticks\":\"\"}}],\"histogram2d\":[{\"type\":\"histogram2d\",\"colorbar\":{\"outlinewidth\":0,\"ticks\":\"\"},\"colorscale\":[[0.0,\"#0d0887\"],[0.1111111111111111,\"#46039f\"],[0.2222222222222222,\"#7201a8\"],[0.3333333333333333,\"#9c179e\"],[0.4444444444444444,\"#bd3786\"],[0.5555555555555556,\"#d8576b\"],[0.6666666666666666,\"#ed7953\"],[0.7777777777777778,\"#fb9f3a\"],[0.8888888888888888,\"#fdca26\"],[1.0,\"#f0f921\"]]}],\"heatmap\":[{\"type\":\"heatmap\",\"colorbar\":{\"outlinewidth\":0,\"ticks\":\"\"},\"colorscale\":[[0.0,\"#0d0887\"],[0.1111111111111111,\"#46039f\"],[0.2222222222222222,\"#7201a8\"],[0.3333333333333333,\"#9c179e\"],[0.4444444444444444,\"#bd3786\"],[0.5555555555555556,\"#d8576b\"],[0.6666666666666666,\"#ed7953\"],[0.7777777777777778,\"#fb9f3a\"],[0.8888888888888888,\"#fdca26\"],[1.0,\"#f0f921\"]]}],\"heatmapgl\":[{\"type\":\"heatmapgl\",\"colorbar\":{\"outlinewidth\":0,\"ticks\":\"\"},\"colorscale\":[[0.0,\"#0d0887\"],[0.1111111111111111,\"#46039f\"],[0.2222222222222222,\"#7201a8\"],[0.3333333333333333,\"#9c179e\"],[0.4444444444444444,\"#bd3786\"],[0.5555555555555556,\"#d8576b\"],[0.6666666666666666,\"#ed7953\"],[0.7777777777777778,\"#fb9f3a\"],[0.8888888888888888,\"#fdca26\"],[1.0,\"#f0f921\"]]}],\"contourcarpet\":[{\"type\":\"contourcarpet\",\"colorbar\":{\"outlinewidth\":0,\"ticks\":\"\"}}],\"contour\":[{\"type\":\"contour\",\"colorbar\":{\"outlinewidth\":0,\"ticks\":\"\"},\"colorscale\":[[0.0,\"#0d0887\"],[0.1111111111111111,\"#46039f\"],[0.2222222222222222,\"#7201a8\"],[0.3333333333333333,\"#9c179e\"],[0.4444444444444444,\"#bd3786\"],[0.5555555555555556,\"#d8576b\"],[0.6666666666666666,\"#ed7953\"],[0.7777777777777778,\"#fb9f3a\"],[0.8888888888888888,\"#fdca26\"],[1.0,\"#f0f921\"]]}],\"surface\":[{\"type\":\"surface\",\"colorbar\":{\"outlinewidth\":0,\"ticks\":\"\"},\"colorscale\":[[0.0,\"#0d0887\"],[0.1111111111111111,\"#46039f\"],[0.2222222222222222,\"#7201a8\"],[0.3333333333333333,\"#9c179e\"],[0.4444444444444444,\"#bd3786\"],[0.5555555555555556,\"#d8576b\"],[0.6666666666666666,\"#ed7953\"],[0.7777777777777778,\"#fb9f3a\"],[0.8888888888888888,\"#fdca26\"],[1.0,\"#f0f921\"]]}],\"mesh3d\":[{\"type\":\"mesh3d\",\"colorbar\":{\"outlinewidth\":0,\"ticks\":\"\"}}],\"scatter\":[{\"fillpattern\":{\"fillmode\":\"overlay\",\"size\":10,\"solidity\":0.2},\"type\":\"scatter\"}],\"parcoords\":[{\"type\":\"parcoords\",\"line\":{\"colorbar\":{\"outlinewidth\":0,\"ticks\":\"\"}}}],\"scatterpolargl\":[{\"type\":\"scatterpolargl\",\"marker\":{\"colorbar\":{\"outlinewidth\":0,\"ticks\":\"\"}}}],\"bar\":[{\"error_x\":{\"color\":\"#2a3f5f\"},\"error_y\":{\"color\":\"#2a3f5f\"},\"marker\":{\"line\":{\"color\":\"#E5ECF6\",\"width\":0.5},\"pattern\":{\"fillmode\":\"overlay\",\"size\":10,\"solidity\":0.2}},\"type\":\"bar\"}],\"scattergeo\":[{\"type\":\"scattergeo\",\"marker\":{\"colorbar\":{\"outlinewidth\":0,\"ticks\":\"\"}}}],\"scatterpolar\":[{\"type\":\"scatterpolar\",\"marker\":{\"colorbar\":{\"outlinewidth\":0,\"ticks\":\"\"}}}],\"histogram\":[{\"marker\":{\"pattern\":{\"fillmode\":\"overlay\",\"size\":10,\"solidity\":0.2}},\"type\":\"histogram\"}],\"scattergl\":[{\"type\":\"scattergl\",\"marker\":{\"colorbar\":{\"outlinewidth\":0,\"ticks\":\"\"}}}],\"scatter3d\":[{\"type\":\"scatter3d\",\"line\":{\"colorbar\":{\"outlinewidth\":0,\"ticks\":\"\"}},\"marker\":{\"colorbar\":{\"outlinewidth\":0,\"ticks\":\"\"}}}],\"scattermapbox\":[{\"type\":\"scattermapbox\",\"marker\":{\"colorbar\":{\"outlinewidth\":0,\"ticks\":\"\"}}}],\"scatterternary\":[{\"type\":\"scatterternary\",\"marker\":{\"colorbar\":{\"outlinewidth\":0,\"ticks\":\"\"}}}],\"scattercarpet\":[{\"type\":\"scattercarpet\",\"marker\":{\"colorbar\":{\"outlinewidth\":0,\"ticks\":\"\"}}}],\"carpet\":[{\"aaxis\":{\"endlinecolor\":\"#2a3f5f\",\"gridcolor\":\"white\",\"linecolor\":\"white\",\"minorgridcolor\":\"white\",\"startlinecolor\":\"#2a3f5f\"},\"baxis\":{\"endlinecolor\":\"#2a3f5f\",\"gridcolor\":\"white\",\"linecolor\":\"white\",\"minorgridcolor\":\"white\",\"startlinecolor\":\"#2a3f5f\"},\"type\":\"carpet\"}],\"table\":[{\"cells\":{\"fill\":{\"color\":\"#EBF0F8\"},\"line\":{\"color\":\"white\"}},\"header\":{\"fill\":{\"color\":\"#C8D4E3\"},\"line\":{\"color\":\"white\"}},\"type\":\"table\"}],\"barpolar\":[{\"marker\":{\"line\":{\"color\":\"#E5ECF6\",\"width\":0.5},\"pattern\":{\"fillmode\":\"overlay\",\"size\":10,\"solidity\":0.2}},\"type\":\"barpolar\"}],\"pie\":[{\"automargin\":true,\"type\":\"pie\"}]},\"layout\":{\"autotypenumbers\":\"strict\",\"colorway\":[\"#636efa\",\"#EF553B\",\"#00cc96\",\"#ab63fa\",\"#FFA15A\",\"#19d3f3\",\"#FF6692\",\"#B6E880\",\"#FF97FF\",\"#FECB52\"],\"font\":{\"color\":\"#2a3f5f\"},\"hovermode\":\"closest\",\"hoverlabel\":{\"align\":\"left\"},\"paper_bgcolor\":\"white\",\"plot_bgcolor\":\"#E5ECF6\",\"polar\":{\"bgcolor\":\"#E5ECF6\",\"angularaxis\":{\"gridcolor\":\"white\",\"linecolor\":\"white\",\"ticks\":\"\"},\"radialaxis\":{\"gridcolor\":\"white\",\"linecolor\":\"white\",\"ticks\":\"\"}},\"ternary\":{\"bgcolor\":\"#E5ECF6\",\"aaxis\":{\"gridcolor\":\"white\",\"linecolor\":\"white\",\"ticks\":\"\"},\"baxis\":{\"gridcolor\":\"white\",\"linecolor\":\"white\",\"ticks\":\"\"},\"caxis\":{\"gridcolor\":\"white\",\"linecolor\":\"white\",\"ticks\":\"\"}},\"coloraxis\":{\"colorbar\":{\"outlinewidth\":0,\"ticks\":\"\"}},\"colorscale\":{\"sequential\":[[0.0,\"#0d0887\"],[0.1111111111111111,\"#46039f\"],[0.2222222222222222,\"#7201a8\"],[0.3333333333333333,\"#9c179e\"],[0.4444444444444444,\"#bd3786\"],[0.5555555555555556,\"#d8576b\"],[0.6666666666666666,\"#ed7953\"],[0.7777777777777778,\"#fb9f3a\"],[0.8888888888888888,\"#fdca26\"],[1.0,\"#f0f921\"]],\"sequentialminus\":[[0.0,\"#0d0887\"],[0.1111111111111111,\"#46039f\"],[0.2222222222222222,\"#7201a8\"],[0.3333333333333333,\"#9c179e\"],[0.4444444444444444,\"#bd3786\"],[0.5555555555555556,\"#d8576b\"],[0.6666666666666666,\"#ed7953\"],[0.7777777777777778,\"#fb9f3a\"],[0.8888888888888888,\"#fdca26\"],[1.0,\"#f0f921\"]],\"diverging\":[[0,\"#8e0152\"],[0.1,\"#c51b7d\"],[0.2,\"#de77ae\"],[0.3,\"#f1b6da\"],[0.4,\"#fde0ef\"],[0.5,\"#f7f7f7\"],[0.6,\"#e6f5d0\"],[0.7,\"#b8e186\"],[0.8,\"#7fbc41\"],[0.9,\"#4d9221\"],[1,\"#276419\"]]},\"xaxis\":{\"gridcolor\":\"white\",\"linecolor\":\"white\",\"ticks\":\"\",\"title\":{\"standoff\":15},\"zerolinecolor\":\"white\",\"automargin\":true,\"zerolinewidth\":2},\"yaxis\":{\"gridcolor\":\"white\",\"linecolor\":\"white\",\"ticks\":\"\",\"title\":{\"standoff\":15},\"zerolinecolor\":\"white\",\"automargin\":true,\"zerolinewidth\":2},\"scene\":{\"xaxis\":{\"backgroundcolor\":\"#E5ECF6\",\"gridcolor\":\"white\",\"linecolor\":\"white\",\"showbackground\":true,\"ticks\":\"\",\"zerolinecolor\":\"white\",\"gridwidth\":2},\"yaxis\":{\"backgroundcolor\":\"#E5ECF6\",\"gridcolor\":\"white\",\"linecolor\":\"white\",\"showbackground\":true,\"ticks\":\"\",\"zerolinecolor\":\"white\",\"gridwidth\":2},\"zaxis\":{\"backgroundcolor\":\"#E5ECF6\",\"gridcolor\":\"white\",\"linecolor\":\"white\",\"showbackground\":true,\"ticks\":\"\",\"zerolinecolor\":\"white\",\"gridwidth\":2}},\"shapedefaults\":{\"line\":{\"color\":\"#2a3f5f\"}},\"annotationdefaults\":{\"arrowcolor\":\"#2a3f5f\",\"arrowhead\":0,\"arrowwidth\":1},\"geo\":{\"bgcolor\":\"white\",\"landcolor\":\"#E5ECF6\",\"subunitcolor\":\"white\",\"showland\":true,\"showlakes\":true,\"lakecolor\":\"white\"},\"title\":{\"x\":0.05},\"mapbox\":{\"style\":\"light\"}}},\"legend\":{\"tracegroupgap\":0},\"title\":{\"text\":\"Major Sources of Income\"},\"height\":400,\"width\":400},                        {\"responsive\": true}                    ).then(function(){\n",
       "                            \n",
       "var gd = document.getElementById('811c60ee-b973-412b-8625-fbf43990dbbc');\n",
       "var x = new MutationObserver(function (mutations, observer) {{\n",
       "        var display = window.getComputedStyle(gd).display;\n",
       "        if (!display || display === 'none') {{\n",
       "            console.log([gd, 'removed!']);\n",
       "            Plotly.purge(gd);\n",
       "            observer.disconnect();\n",
       "        }}\n",
       "}});\n",
       "\n",
       "// Listen for the removal of the full notebook cells\n",
       "var notebookContainer = gd.closest('#notebook-container');\n",
       "if (notebookContainer) {{\n",
       "    x.observe(notebookContainer, {childList: true});\n",
       "}}\n",
       "\n",
       "// Listen for the clearing of the current output cell\n",
       "var outputEl = gd.closest('.output');\n",
       "if (outputEl) {{\n",
       "    x.observe(outputEl, {childList: true});\n",
       "}}\n",
       "\n",
       "                        })                };                });            </script>        </div>"
      ]
     },
     "metadata": {},
     "output_type": "display_data"
    }
   ],
   "source": [
    "sunburst_income = px.sunburst(\n",
    "    inflows_rel,\n",
    "    path=[\"category\"], \n",
    "    values=\"amount\",\n",
    "    title=\"Major Sources of Income\",\n",
    "    width=400, height=400\n",
    ")\n",
    "\n",
    "sunburst_income.write_html('../../result/sunburst_income_sources.html')\n",
    "sunburst_income.show()\n"
   ]
  },
  {
   "cell_type": "code",
   "execution_count": null,
   "id": "8c69ea81-b6d7-4900-b8f2-a8978998992b",
   "metadata": {},
   "outputs": [],
   "source": []
  },
  {
   "cell_type": "code",
   "execution_count": null,
   "id": "c6e8122d-680e-40e0-8cdf-27c25e3c8789",
   "metadata": {},
   "outputs": [],
   "source": []
  },
  {
   "cell_type": "markdown",
   "id": "749e81de-754f-4dc7-8b3c-da16d9d86a4b",
   "metadata": {},
   "source": [
    "# Recognizing Regularity with Timing and Amount"
   ]
  },
  {
   "cell_type": "code",
   "execution_count": 36,
   "id": "cebfd3a5-acc7-4dc5-9dd8-3d8d1cd7d4a1",
   "metadata": {},
   "outputs": [
    {
     "data": {
      "text/html": [
       "<div>\n",
       "<style scoped>\n",
       "    .dataframe tbody tr th:only-of-type {\n",
       "        vertical-align: middle;\n",
       "    }\n",
       "\n",
       "    .dataframe tbody tr th {\n",
       "        vertical-align: top;\n",
       "    }\n",
       "\n",
       "    .dataframe thead th {\n",
       "        text-align: right;\n",
       "    }\n",
       "</style>\n",
       "<table border=\"1\" class=\"dataframe\">\n",
       "  <thead>\n",
       "    <tr style=\"text-align: right;\">\n",
       "      <th></th>\n",
       "      <th>prism_consumer_id</th>\n",
       "      <th>prism_account_id</th>\n",
       "      <th>memo</th>\n",
       "      <th>amount</th>\n",
       "      <th>posted_date</th>\n",
       "      <th>category</th>\n",
       "    </tr>\n",
       "  </thead>\n",
       "  <tbody>\n",
       "    <tr>\n",
       "      <th>0</th>\n",
       "      <td>0</td>\n",
       "      <td>acc_0</td>\n",
       "      <td>PAYCHECK</td>\n",
       "      <td>2,477.0200</td>\n",
       "      <td>2022-03-18</td>\n",
       "      <td>PAYCHECK</td>\n",
       "    </tr>\n",
       "    <tr>\n",
       "      <th>1</th>\n",
       "      <td>0</td>\n",
       "      <td>acc_0</td>\n",
       "      <td>EXTERNAL_TRANSFER</td>\n",
       "      <td>100.0000</td>\n",
       "      <td>2022-10-25</td>\n",
       "      <td>EXTERNAL_TRANSFER</td>\n",
       "    </tr>\n",
       "    <tr>\n",
       "      <th>3</th>\n",
       "      <td>0</td>\n",
       "      <td>acc_0</td>\n",
       "      <td>EXTERNAL_TRANSFER</td>\n",
       "      <td>277.0000</td>\n",
       "      <td>2022-06-03</td>\n",
       "      <td>EXTERNAL_TRANSFER</td>\n",
       "    </tr>\n",
       "    <tr>\n",
       "      <th>4</th>\n",
       "      <td>0</td>\n",
       "      <td>acc_0</td>\n",
       "      <td>EXTERNAL_TRANSFER</td>\n",
       "      <td>100.0000</td>\n",
       "      <td>2022-07-29</td>\n",
       "      <td>EXTERNAL_TRANSFER</td>\n",
       "    </tr>\n",
       "    <tr>\n",
       "      <th>5</th>\n",
       "      <td>0</td>\n",
       "      <td>acc_0</td>\n",
       "      <td>EXTERNAL_TRANSFER</td>\n",
       "      <td>100.0000</td>\n",
       "      <td>2022-12-23</td>\n",
       "      <td>EXTERNAL_TRANSFER</td>\n",
       "    </tr>\n",
       "  </tbody>\n",
       "</table>\n",
       "</div>"
      ],
      "text/plain": [
       "   prism_consumer_id prism_account_id               memo     amount  \\\n",
       "0                  0            acc_0           PAYCHECK 2,477.0200   \n",
       "1                  0            acc_0  EXTERNAL_TRANSFER   100.0000   \n",
       "3                  0            acc_0  EXTERNAL_TRANSFER   277.0000   \n",
       "4                  0            acc_0  EXTERNAL_TRANSFER   100.0000   \n",
       "5                  0            acc_0  EXTERNAL_TRANSFER   100.0000   \n",
       "\n",
       "  posted_date           category  \n",
       "0  2022-03-18           PAYCHECK  \n",
       "1  2022-10-25  EXTERNAL_TRANSFER  \n",
       "3  2022-06-03  EXTERNAL_TRANSFER  \n",
       "4  2022-07-29  EXTERNAL_TRANSFER  \n",
       "5  2022-12-23  EXTERNAL_TRANSFER  "
      ]
     },
     "execution_count": 36,
     "metadata": {},
     "output_type": "execute_result"
    }
   ],
   "source": [
    "inflows_rel.head()"
   ]
  },
  {
   "cell_type": "code",
   "execution_count": 37,
   "id": "2ce3daf6-e49b-4013-9772-4a2c5e23aa5d",
   "metadata": {},
   "outputs": [
    {
     "data": {
      "text/plain": [
       "7"
      ]
     },
     "execution_count": 37,
     "metadata": {},
     "output_type": "execute_result"
    }
   ],
   "source": [
    "inflows_rel.memo.nunique()"
   ]
  },
  {
   "cell_type": "code",
   "execution_count": 93,
   "id": "30704f9c-a832-4470-bd7c-edcd16e2bfa7",
   "metadata": {},
   "outputs": [],
   "source": [
    "def inflows_freq(data, consumer_id):\n",
    "    \"\"\"\n",
    "    Identifies recurring inflows for a specific consumer in a dataset.\n",
    "\n",
    "    Parameters:\n",
    "    - dataset (pd.DataFrame): A dataframe containing consumer inflows with columns:\n",
    "        ['consumer_id', 'account_id', 'memo', 'amount', 'posted_date']\n",
    "    - consumer_id (int): The ID of the consumer to analyze.\n",
    "\n",
    "    Returns:\n",
    "    - pd.DataFrame: A dataframe with the following columns for recurring inflows:\n",
    "        ['memo', 'avg_amount', 'frequency']\n",
    "    \"\"\"\n",
    "    # Filter dataset for the specific consumer\n",
    "    consumer_data = data[data['prism_consumer_id'] == consumer_id]\n",
    "    \n",
    "    # Ensure posted_date is datetime\n",
    "    # consumer_data['posted_date'] = pd.to_datetime(consumer_data['posted_date'])\n",
    "    \n",
    "    # Group by memo to analyze recurring patterns for each category\n",
    "    recurring_transactions = []\n",
    "    reoccurrences = {}\n",
    "    \n",
    "    for memo, group in consumer_data.groupby('memo'):\n",
    "        group = group.sort_values('posted_date')\n",
    "        \n",
    "        # Calculate time differences between consecutive transactions\n",
    "        group['time_diff'] = group['posted_date'].diff().dt.days\n",
    "        \n",
    "        # Define frequency tolerances\n",
    "        frequency_mapping = {\n",
    "            'weekly': (6, 8),\n",
    "            '2 weeks': (12, 16),\n",
    "            'monthly': (27, 34)\n",
    "        }\n",
    "        \n",
    "        # Check for recurring patterns\n",
    "        for freq, (lower, upper) in frequency_mapping.items():\n",
    "            freq_group = group[(group['time_diff'] >= lower) & (group['time_diff'] <= upper)]\n",
    "            \n",
    "            if not freq_group.empty:\n",
    "                # Calculate average amount\n",
    "                avg_amount = freq_group['amount'].mean()\n",
    "                \n",
    "                # Check if all amounts fall within 20% of the average\n",
    "                within_20_percent = freq_group['amount'].apply(\n",
    "                    lambda x: abs(x - avg_amount) <= 0.2 * avg_amount\n",
    "                ).all()\n",
    "                \n",
    "                if within_20_percent:\n",
    "                    recurring_transactions.append({\n",
    "                        'memo': memo,\n",
    "                        'avg_amount': round(avg_amount, 2),\n",
    "                        'frequency': freq\n",
    "                    })\n",
    "                    # Add indices of recurring transactions to the dictionary\n",
    "                    reoccurrences[memo] = freq_group.index.tolist()\n",
    "                    display(freq_group)\n",
    "\n",
    "    \n",
    "    # Create output dataframe\n",
    "    recurring_df = pd.DataFrame(recurring_transactions)\n",
    "    \n",
    "    return recurring_df, reoccurrences"
   ]
  },
  {
   "cell_type": "code",
   "execution_count": 94,
   "id": "b041940c-54dc-4d2a-81e4-7c1e3f4d7236",
   "metadata": {},
   "outputs": [
    {
     "data": {
      "text/html": [
       "<div>\n",
       "<style scoped>\n",
       "    .dataframe tbody tr th:only-of-type {\n",
       "        vertical-align: middle;\n",
       "    }\n",
       "\n",
       "    .dataframe tbody tr th {\n",
       "        vertical-align: top;\n",
       "    }\n",
       "\n",
       "    .dataframe thead th {\n",
       "        text-align: right;\n",
       "    }\n",
       "</style>\n",
       "<table border=\"1\" class=\"dataframe\">\n",
       "  <thead>\n",
       "    <tr style=\"text-align: right;\">\n",
       "      <th></th>\n",
       "      <th>prism_consumer_id</th>\n",
       "      <th>prism_account_id</th>\n",
       "      <th>memo</th>\n",
       "      <th>amount</th>\n",
       "      <th>posted_date</th>\n",
       "      <th>category</th>\n",
       "      <th>time_diff</th>\n",
       "    </tr>\n",
       "  </thead>\n",
       "  <tbody>\n",
       "    <tr>\n",
       "      <th>8952</th>\n",
       "      <td>100</td>\n",
       "      <td>acc_284</td>\n",
       "      <td>DEPOSIT</td>\n",
       "      <td>126.4700</td>\n",
       "      <td>2020-07-24</td>\n",
       "      <td>DEPOSIT</td>\n",
       "      <td>7.0000</td>\n",
       "    </tr>\n",
       "  </tbody>\n",
       "</table>\n",
       "</div>"
      ],
      "text/plain": [
       "      prism_consumer_id prism_account_id     memo   amount posted_date  \\\n",
       "8952                100          acc_284  DEPOSIT 126.4700  2020-07-24   \n",
       "\n",
       "     category  time_diff  \n",
       "8952  DEPOSIT     7.0000  "
      ]
     },
     "metadata": {},
     "output_type": "display_data"
    },
    {
     "data": {
      "text/html": [
       "<div>\n",
       "<style scoped>\n",
       "    .dataframe tbody tr th:only-of-type {\n",
       "        vertical-align: middle;\n",
       "    }\n",
       "\n",
       "    .dataframe tbody tr th {\n",
       "        vertical-align: top;\n",
       "    }\n",
       "\n",
       "    .dataframe thead th {\n",
       "        text-align: right;\n",
       "    }\n",
       "</style>\n",
       "<table border=\"1\" class=\"dataframe\">\n",
       "  <thead>\n",
       "    <tr style=\"text-align: right;\">\n",
       "      <th></th>\n",
       "      <th>prism_consumer_id</th>\n",
       "      <th>prism_account_id</th>\n",
       "      <th>memo</th>\n",
       "      <th>amount</th>\n",
       "      <th>posted_date</th>\n",
       "      <th>category</th>\n",
       "      <th>time_diff</th>\n",
       "    </tr>\n",
       "  </thead>\n",
       "  <tbody>\n",
       "    <tr>\n",
       "      <th>9001</th>\n",
       "      <td>100</td>\n",
       "      <td>acc_283</td>\n",
       "      <td>DEPOSIT</td>\n",
       "      <td>5,336.4900</td>\n",
       "      <td>2021-04-26</td>\n",
       "      <td>DEPOSIT</td>\n",
       "      <td>14.0000</td>\n",
       "    </tr>\n",
       "  </tbody>\n",
       "</table>\n",
       "</div>"
      ],
      "text/plain": [
       "      prism_consumer_id prism_account_id     memo     amount posted_date  \\\n",
       "9001                100          acc_283  DEPOSIT 5,336.4900  2021-04-26   \n",
       "\n",
       "     category  time_diff  \n",
       "9001  DEPOSIT    14.0000  "
      ]
     },
     "metadata": {},
     "output_type": "display_data"
    },
    {
     "data": {
      "text/html": [
       "<div>\n",
       "<style scoped>\n",
       "    .dataframe tbody tr th:only-of-type {\n",
       "        vertical-align: middle;\n",
       "    }\n",
       "\n",
       "    .dataframe tbody tr th {\n",
       "        vertical-align: top;\n",
       "    }\n",
       "\n",
       "    .dataframe thead th {\n",
       "        text-align: right;\n",
       "    }\n",
       "</style>\n",
       "<table border=\"1\" class=\"dataframe\">\n",
       "  <thead>\n",
       "    <tr style=\"text-align: right;\">\n",
       "      <th></th>\n",
       "      <th>prism_consumer_id</th>\n",
       "      <th>prism_account_id</th>\n",
       "      <th>memo</th>\n",
       "      <th>amount</th>\n",
       "      <th>posted_date</th>\n",
       "      <th>category</th>\n",
       "      <th>time_diff</th>\n",
       "    </tr>\n",
       "  </thead>\n",
       "  <tbody>\n",
       "    <tr>\n",
       "      <th>8829</th>\n",
       "      <td>100</td>\n",
       "      <td>acc_283</td>\n",
       "      <td>INVESTMENT_INCOME</td>\n",
       "      <td>0.0400</td>\n",
       "      <td>2020-09-25</td>\n",
       "      <td>INVESTMENT_INCOME</td>\n",
       "      <td>8.0000</td>\n",
       "    </tr>\n",
       "  </tbody>\n",
       "</table>\n",
       "</div>"
      ],
      "text/plain": [
       "      prism_consumer_id prism_account_id               memo  amount  \\\n",
       "8829                100          acc_283  INVESTMENT_INCOME  0.0400   \n",
       "\n",
       "     posted_date           category  time_diff  \n",
       "8829  2020-09-25  INVESTMENT_INCOME     8.0000  "
      ]
     },
     "metadata": {},
     "output_type": "display_data"
    },
    {
     "data": {
      "text/html": [
       "<div>\n",
       "<style scoped>\n",
       "    .dataframe tbody tr th:only-of-type {\n",
       "        vertical-align: middle;\n",
       "    }\n",
       "\n",
       "    .dataframe tbody tr th {\n",
       "        vertical-align: top;\n",
       "    }\n",
       "\n",
       "    .dataframe thead th {\n",
       "        text-align: right;\n",
       "    }\n",
       "</style>\n",
       "<table border=\"1\" class=\"dataframe\">\n",
       "  <thead>\n",
       "    <tr style=\"text-align: right;\">\n",
       "      <th></th>\n",
       "      <th>prism_consumer_id</th>\n",
       "      <th>prism_account_id</th>\n",
       "      <th>memo</th>\n",
       "      <th>amount</th>\n",
       "      <th>posted_date</th>\n",
       "      <th>category</th>\n",
       "      <th>time_diff</th>\n",
       "    </tr>\n",
       "  </thead>\n",
       "  <tbody>\n",
       "    <tr>\n",
       "      <th>8965</th>\n",
       "      <td>100</td>\n",
       "      <td>acc_288</td>\n",
       "      <td>INVESTMENT_INCOME</td>\n",
       "      <td>0.0200</td>\n",
       "      <td>2021-04-30</td>\n",
       "      <td>INVESTMENT_INCOME</td>\n",
       "      <td>30.0000</td>\n",
       "    </tr>\n",
       "    <tr>\n",
       "      <th>9076</th>\n",
       "      <td>100</td>\n",
       "      <td>acc_288</td>\n",
       "      <td>INVESTMENT_INCOME</td>\n",
       "      <td>0.0300</td>\n",
       "      <td>2021-05-28</td>\n",
       "      <td>INVESTMENT_INCOME</td>\n",
       "      <td>28.0000</td>\n",
       "    </tr>\n",
       "  </tbody>\n",
       "</table>\n",
       "</div>"
      ],
      "text/plain": [
       "      prism_consumer_id prism_account_id               memo  amount  \\\n",
       "8965                100          acc_288  INVESTMENT_INCOME  0.0200   \n",
       "9076                100          acc_288  INVESTMENT_INCOME  0.0300   \n",
       "\n",
       "     posted_date           category  time_diff  \n",
       "8965  2021-04-30  INVESTMENT_INCOME    30.0000  \n",
       "9076  2021-05-28  INVESTMENT_INCOME    28.0000  "
      ]
     },
     "metadata": {},
     "output_type": "display_data"
    },
    {
     "data": {
      "text/html": [
       "<div>\n",
       "<style scoped>\n",
       "    .dataframe tbody tr th:only-of-type {\n",
       "        vertical-align: middle;\n",
       "    }\n",
       "\n",
       "    .dataframe tbody tr th {\n",
       "        vertical-align: top;\n",
       "    }\n",
       "\n",
       "    .dataframe thead th {\n",
       "        text-align: right;\n",
       "    }\n",
       "</style>\n",
       "<table border=\"1\" class=\"dataframe\">\n",
       "  <thead>\n",
       "    <tr style=\"text-align: right;\">\n",
       "      <th></th>\n",
       "      <th>prism_consumer_id</th>\n",
       "      <th>prism_account_id</th>\n",
       "      <th>memo</th>\n",
       "      <th>amount</th>\n",
       "      <th>posted_date</th>\n",
       "      <th>category</th>\n",
       "      <th>time_diff</th>\n",
       "    </tr>\n",
       "  </thead>\n",
       "  <tbody>\n",
       "    <tr>\n",
       "      <th>8898</th>\n",
       "      <td>100</td>\n",
       "      <td>acc_283</td>\n",
       "      <td>OTHER_BENEFITS</td>\n",
       "      <td>2,286.9600</td>\n",
       "      <td>2020-07-30</td>\n",
       "      <td>OTHER_BENEFITS</td>\n",
       "      <td>30.0000</td>\n",
       "    </tr>\n",
       "    <tr>\n",
       "      <th>8940</th>\n",
       "      <td>100</td>\n",
       "      <td>acc_283</td>\n",
       "      <td>OTHER_BENEFITS</td>\n",
       "      <td>2,286.9600</td>\n",
       "      <td>2020-08-31</td>\n",
       "      <td>OTHER_BENEFITS</td>\n",
       "      <td>32.0000</td>\n",
       "    </tr>\n",
       "    <tr>\n",
       "      <th>8993</th>\n",
       "      <td>100</td>\n",
       "      <td>acc_283</td>\n",
       "      <td>OTHER_BENEFITS</td>\n",
       "      <td>2,286.9600</td>\n",
       "      <td>2020-09-30</td>\n",
       "      <td>OTHER_BENEFITS</td>\n",
       "      <td>30.0000</td>\n",
       "    </tr>\n",
       "    <tr>\n",
       "      <th>8969</th>\n",
       "      <td>100</td>\n",
       "      <td>acc_283</td>\n",
       "      <td>OTHER_BENEFITS</td>\n",
       "      <td>2,286.9600</td>\n",
       "      <td>2020-10-29</td>\n",
       "      <td>OTHER_BENEFITS</td>\n",
       "      <td>29.0000</td>\n",
       "    </tr>\n",
       "    <tr>\n",
       "      <th>8851</th>\n",
       "      <td>100</td>\n",
       "      <td>acc_283</td>\n",
       "      <td>OTHER_BENEFITS</td>\n",
       "      <td>2,286.9600</td>\n",
       "      <td>2020-11-30</td>\n",
       "      <td>OTHER_BENEFITS</td>\n",
       "      <td>32.0000</td>\n",
       "    </tr>\n",
       "    <tr>\n",
       "      <th>8856</th>\n",
       "      <td>100</td>\n",
       "      <td>acc_283</td>\n",
       "      <td>OTHER_BENEFITS</td>\n",
       "      <td>2,316.1800</td>\n",
       "      <td>2020-12-30</td>\n",
       "      <td>OTHER_BENEFITS</td>\n",
       "      <td>30.0000</td>\n",
       "    </tr>\n",
       "    <tr>\n",
       "      <th>8943</th>\n",
       "      <td>100</td>\n",
       "      <td>acc_283</td>\n",
       "      <td>OTHER_BENEFITS</td>\n",
       "      <td>2,316.1800</td>\n",
       "      <td>2021-01-29</td>\n",
       "      <td>OTHER_BENEFITS</td>\n",
       "      <td>30.0000</td>\n",
       "    </tr>\n",
       "    <tr>\n",
       "      <th>8935</th>\n",
       "      <td>100</td>\n",
       "      <td>acc_283</td>\n",
       "      <td>OTHER_BENEFITS</td>\n",
       "      <td>2,316.1800</td>\n",
       "      <td>2021-02-26</td>\n",
       "      <td>OTHER_BENEFITS</td>\n",
       "      <td>28.0000</td>\n",
       "    </tr>\n",
       "    <tr>\n",
       "      <th>8944</th>\n",
       "      <td>100</td>\n",
       "      <td>acc_283</td>\n",
       "      <td>OTHER_BENEFITS</td>\n",
       "      <td>2,316.1800</td>\n",
       "      <td>2021-03-31</td>\n",
       "      <td>OTHER_BENEFITS</td>\n",
       "      <td>33.0000</td>\n",
       "    </tr>\n",
       "    <tr>\n",
       "      <th>9057</th>\n",
       "      <td>100</td>\n",
       "      <td>acc_283</td>\n",
       "      <td>OTHER_BENEFITS</td>\n",
       "      <td>2,316.1800</td>\n",
       "      <td>2021-04-29</td>\n",
       "      <td>OTHER_BENEFITS</td>\n",
       "      <td>29.0000</td>\n",
       "    </tr>\n",
       "    <tr>\n",
       "      <th>8836</th>\n",
       "      <td>100</td>\n",
       "      <td>acc_283</td>\n",
       "      <td>OTHER_BENEFITS</td>\n",
       "      <td>2,269.3800</td>\n",
       "      <td>2021-05-28</td>\n",
       "      <td>OTHER_BENEFITS</td>\n",
       "      <td>29.0000</td>\n",
       "    </tr>\n",
       "  </tbody>\n",
       "</table>\n",
       "</div>"
      ],
      "text/plain": [
       "      prism_consumer_id prism_account_id            memo     amount  \\\n",
       "8898                100          acc_283  OTHER_BENEFITS 2,286.9600   \n",
       "8940                100          acc_283  OTHER_BENEFITS 2,286.9600   \n",
       "8993                100          acc_283  OTHER_BENEFITS 2,286.9600   \n",
       "8969                100          acc_283  OTHER_BENEFITS 2,286.9600   \n",
       "8851                100          acc_283  OTHER_BENEFITS 2,286.9600   \n",
       "8856                100          acc_283  OTHER_BENEFITS 2,316.1800   \n",
       "8943                100          acc_283  OTHER_BENEFITS 2,316.1800   \n",
       "8935                100          acc_283  OTHER_BENEFITS 2,316.1800   \n",
       "8944                100          acc_283  OTHER_BENEFITS 2,316.1800   \n",
       "9057                100          acc_283  OTHER_BENEFITS 2,316.1800   \n",
       "8836                100          acc_283  OTHER_BENEFITS 2,269.3800   \n",
       "\n",
       "     posted_date        category  time_diff  \n",
       "8898  2020-07-30  OTHER_BENEFITS    30.0000  \n",
       "8940  2020-08-31  OTHER_BENEFITS    32.0000  \n",
       "8993  2020-09-30  OTHER_BENEFITS    30.0000  \n",
       "8969  2020-10-29  OTHER_BENEFITS    29.0000  \n",
       "8851  2020-11-30  OTHER_BENEFITS    32.0000  \n",
       "8856  2020-12-30  OTHER_BENEFITS    30.0000  \n",
       "8943  2021-01-29  OTHER_BENEFITS    30.0000  \n",
       "8935  2021-02-26  OTHER_BENEFITS    28.0000  \n",
       "8944  2021-03-31  OTHER_BENEFITS    33.0000  \n",
       "9057  2021-04-29  OTHER_BENEFITS    29.0000  \n",
       "8836  2021-05-28  OTHER_BENEFITS    29.0000  "
      ]
     },
     "metadata": {},
     "output_type": "display_data"
    },
    {
     "data": {
      "text/html": [
       "<div>\n",
       "<style scoped>\n",
       "    .dataframe tbody tr th:only-of-type {\n",
       "        vertical-align: middle;\n",
       "    }\n",
       "\n",
       "    .dataframe tbody tr th {\n",
       "        vertical-align: top;\n",
       "    }\n",
       "\n",
       "    .dataframe thead th {\n",
       "        text-align: right;\n",
       "    }\n",
       "</style>\n",
       "<table border=\"1\" class=\"dataframe\">\n",
       "  <thead>\n",
       "    <tr style=\"text-align: right;\">\n",
       "      <th></th>\n",
       "      <th>prism_consumer_id</th>\n",
       "      <th>prism_account_id</th>\n",
       "      <th>memo</th>\n",
       "      <th>amount</th>\n",
       "      <th>posted_date</th>\n",
       "      <th>category</th>\n",
       "      <th>time_diff</th>\n",
       "    </tr>\n",
       "  </thead>\n",
       "  <tbody>\n",
       "    <tr>\n",
       "      <th>8834</th>\n",
       "      <td>100</td>\n",
       "      <td>acc_284</td>\n",
       "      <td>PAYCHECK</td>\n",
       "      <td>166.0300</td>\n",
       "      <td>2021-01-14</td>\n",
       "      <td>PAYCHECK</td>\n",
       "      <td>28.0000</td>\n",
       "    </tr>\n",
       "  </tbody>\n",
       "</table>\n",
       "</div>"
      ],
      "text/plain": [
       "      prism_consumer_id prism_account_id      memo   amount posted_date  \\\n",
       "8834                100          acc_284  PAYCHECK 166.0300  2021-01-14   \n",
       "\n",
       "      category  time_diff  \n",
       "8834  PAYCHECK    28.0000  "
      ]
     },
     "metadata": {},
     "output_type": "display_data"
    }
   ],
   "source": [
    "curr_id = inflows_rel.prism_consumer_id.sample(1).values[0]\n",
    "curr_id = 100\n",
    "\n",
    "inflows_reg, inflows_rec = inflows_freq(inflows_rel, curr_id)"
   ]
  },
  {
   "cell_type": "code",
   "execution_count": 95,
   "id": "4e474ef7-5b44-4af2-a308-b64cc73a7176",
   "metadata": {},
   "outputs": [
    {
     "data": {
      "text/html": [
       "<div>\n",
       "<style scoped>\n",
       "    .dataframe tbody tr th:only-of-type {\n",
       "        vertical-align: middle;\n",
       "    }\n",
       "\n",
       "    .dataframe tbody tr th {\n",
       "        vertical-align: top;\n",
       "    }\n",
       "\n",
       "    .dataframe thead th {\n",
       "        text-align: right;\n",
       "    }\n",
       "</style>\n",
       "<table border=\"1\" class=\"dataframe\">\n",
       "  <thead>\n",
       "    <tr style=\"text-align: right;\">\n",
       "      <th></th>\n",
       "      <th>memo</th>\n",
       "      <th>avg_amount</th>\n",
       "      <th>frequency</th>\n",
       "    </tr>\n",
       "  </thead>\n",
       "  <tbody>\n",
       "    <tr>\n",
       "      <th>0</th>\n",
       "      <td>DEPOSIT</td>\n",
       "      <td>126.4700</td>\n",
       "      <td>weekly</td>\n",
       "    </tr>\n",
       "    <tr>\n",
       "      <th>1</th>\n",
       "      <td>DEPOSIT</td>\n",
       "      <td>5,336.4900</td>\n",
       "      <td>2 weeks</td>\n",
       "    </tr>\n",
       "    <tr>\n",
       "      <th>2</th>\n",
       "      <td>INVESTMENT_INCOME</td>\n",
       "      <td>0.0400</td>\n",
       "      <td>weekly</td>\n",
       "    </tr>\n",
       "    <tr>\n",
       "      <th>3</th>\n",
       "      <td>INVESTMENT_INCOME</td>\n",
       "      <td>0.0200</td>\n",
       "      <td>monthly</td>\n",
       "    </tr>\n",
       "    <tr>\n",
       "      <th>4</th>\n",
       "      <td>OTHER_BENEFITS</td>\n",
       "      <td>2,298.6400</td>\n",
       "      <td>monthly</td>\n",
       "    </tr>\n",
       "    <tr>\n",
       "      <th>5</th>\n",
       "      <td>PAYCHECK</td>\n",
       "      <td>166.0300</td>\n",
       "      <td>monthly</td>\n",
       "    </tr>\n",
       "  </tbody>\n",
       "</table>\n",
       "</div>"
      ],
      "text/plain": [
       "                memo  avg_amount frequency\n",
       "0            DEPOSIT    126.4700    weekly\n",
       "1            DEPOSIT  5,336.4900   2 weeks\n",
       "2  INVESTMENT_INCOME      0.0400    weekly\n",
       "3  INVESTMENT_INCOME      0.0200   monthly\n",
       "4     OTHER_BENEFITS  2,298.6400   monthly\n",
       "5           PAYCHECK    166.0300   monthly"
      ]
     },
     "execution_count": 95,
     "metadata": {},
     "output_type": "execute_result"
    }
   ],
   "source": [
    "inflows_reg"
   ]
  },
  {
   "cell_type": "code",
   "execution_count": 96,
   "id": "a7da0c87-8a79-4533-89f6-bf2c1dced215",
   "metadata": {},
   "outputs": [
    {
     "data": {
      "text/plain": [
       "{'DEPOSIT': [9001],\n",
       " 'INVESTMENT_INCOME': [8965, 9076],\n",
       " 'OTHER_BENEFITS': [8898,\n",
       "  8940,\n",
       "  8993,\n",
       "  8969,\n",
       "  8851,\n",
       "  8856,\n",
       "  8943,\n",
       "  8935,\n",
       "  8944,\n",
       "  9057,\n",
       "  8836],\n",
       " 'PAYCHECK': [8834]}"
      ]
     },
     "execution_count": 96,
     "metadata": {},
     "output_type": "execute_result"
    }
   ],
   "source": [
    "inflows_rec"
   ]
  },
  {
   "cell_type": "code",
   "execution_count": 97,
   "id": "cee870c0-48b3-450b-b261-9cbbe67a0da7",
   "metadata": {},
   "outputs": [
    {
     "data": {
      "text/html": [
       "<div>\n",
       "<style scoped>\n",
       "    .dataframe tbody tr th:only-of-type {\n",
       "        vertical-align: middle;\n",
       "    }\n",
       "\n",
       "    .dataframe tbody tr th {\n",
       "        vertical-align: top;\n",
       "    }\n",
       "\n",
       "    .dataframe thead th {\n",
       "        text-align: right;\n",
       "    }\n",
       "</style>\n",
       "<table border=\"1\" class=\"dataframe\">\n",
       "  <thead>\n",
       "    <tr style=\"text-align: right;\">\n",
       "      <th></th>\n",
       "      <th>prism_consumer_id</th>\n",
       "      <th>prism_account_id</th>\n",
       "      <th>memo</th>\n",
       "      <th>amount</th>\n",
       "      <th>posted_date</th>\n",
       "      <th>category</th>\n",
       "    </tr>\n",
       "  </thead>\n",
       "  <tbody>\n",
       "    <tr>\n",
       "      <th>8898</th>\n",
       "      <td>100</td>\n",
       "      <td>acc_283</td>\n",
       "      <td>OTHER_BENEFITS</td>\n",
       "      <td>2,286.9600</td>\n",
       "      <td>2020-07-30</td>\n",
       "      <td>OTHER_BENEFITS</td>\n",
       "    </tr>\n",
       "    <tr>\n",
       "      <th>8940</th>\n",
       "      <td>100</td>\n",
       "      <td>acc_283</td>\n",
       "      <td>OTHER_BENEFITS</td>\n",
       "      <td>2,286.9600</td>\n",
       "      <td>2020-08-31</td>\n",
       "      <td>OTHER_BENEFITS</td>\n",
       "    </tr>\n",
       "    <tr>\n",
       "      <th>8993</th>\n",
       "      <td>100</td>\n",
       "      <td>acc_283</td>\n",
       "      <td>OTHER_BENEFITS</td>\n",
       "      <td>2,286.9600</td>\n",
       "      <td>2020-09-30</td>\n",
       "      <td>OTHER_BENEFITS</td>\n",
       "    </tr>\n",
       "    <tr>\n",
       "      <th>8969</th>\n",
       "      <td>100</td>\n",
       "      <td>acc_283</td>\n",
       "      <td>OTHER_BENEFITS</td>\n",
       "      <td>2,286.9600</td>\n",
       "      <td>2020-10-29</td>\n",
       "      <td>OTHER_BENEFITS</td>\n",
       "    </tr>\n",
       "    <tr>\n",
       "      <th>8851</th>\n",
       "      <td>100</td>\n",
       "      <td>acc_283</td>\n",
       "      <td>OTHER_BENEFITS</td>\n",
       "      <td>2,286.9600</td>\n",
       "      <td>2020-11-30</td>\n",
       "      <td>OTHER_BENEFITS</td>\n",
       "    </tr>\n",
       "    <tr>\n",
       "      <th>8856</th>\n",
       "      <td>100</td>\n",
       "      <td>acc_283</td>\n",
       "      <td>OTHER_BENEFITS</td>\n",
       "      <td>2,316.1800</td>\n",
       "      <td>2020-12-30</td>\n",
       "      <td>OTHER_BENEFITS</td>\n",
       "    </tr>\n",
       "    <tr>\n",
       "      <th>8943</th>\n",
       "      <td>100</td>\n",
       "      <td>acc_283</td>\n",
       "      <td>OTHER_BENEFITS</td>\n",
       "      <td>2,316.1800</td>\n",
       "      <td>2021-01-29</td>\n",
       "      <td>OTHER_BENEFITS</td>\n",
       "    </tr>\n",
       "    <tr>\n",
       "      <th>8935</th>\n",
       "      <td>100</td>\n",
       "      <td>acc_283</td>\n",
       "      <td>OTHER_BENEFITS</td>\n",
       "      <td>2,316.1800</td>\n",
       "      <td>2021-02-26</td>\n",
       "      <td>OTHER_BENEFITS</td>\n",
       "    </tr>\n",
       "    <tr>\n",
       "      <th>8944</th>\n",
       "      <td>100</td>\n",
       "      <td>acc_283</td>\n",
       "      <td>OTHER_BENEFITS</td>\n",
       "      <td>2,316.1800</td>\n",
       "      <td>2021-03-31</td>\n",
       "      <td>OTHER_BENEFITS</td>\n",
       "    </tr>\n",
       "    <tr>\n",
       "      <th>9057</th>\n",
       "      <td>100</td>\n",
       "      <td>acc_283</td>\n",
       "      <td>OTHER_BENEFITS</td>\n",
       "      <td>2,316.1800</td>\n",
       "      <td>2021-04-29</td>\n",
       "      <td>OTHER_BENEFITS</td>\n",
       "    </tr>\n",
       "    <tr>\n",
       "      <th>8836</th>\n",
       "      <td>100</td>\n",
       "      <td>acc_283</td>\n",
       "      <td>OTHER_BENEFITS</td>\n",
       "      <td>2,269.3800</td>\n",
       "      <td>2021-05-28</td>\n",
       "      <td>OTHER_BENEFITS</td>\n",
       "    </tr>\n",
       "  </tbody>\n",
       "</table>\n",
       "</div>"
      ],
      "text/plain": [
       "      prism_consumer_id prism_account_id            memo     amount  \\\n",
       "8898                100          acc_283  OTHER_BENEFITS 2,286.9600   \n",
       "8940                100          acc_283  OTHER_BENEFITS 2,286.9600   \n",
       "8993                100          acc_283  OTHER_BENEFITS 2,286.9600   \n",
       "8969                100          acc_283  OTHER_BENEFITS 2,286.9600   \n",
       "8851                100          acc_283  OTHER_BENEFITS 2,286.9600   \n",
       "8856                100          acc_283  OTHER_BENEFITS 2,316.1800   \n",
       "8943                100          acc_283  OTHER_BENEFITS 2,316.1800   \n",
       "8935                100          acc_283  OTHER_BENEFITS 2,316.1800   \n",
       "8944                100          acc_283  OTHER_BENEFITS 2,316.1800   \n",
       "9057                100          acc_283  OTHER_BENEFITS 2,316.1800   \n",
       "8836                100          acc_283  OTHER_BENEFITS 2,269.3800   \n",
       "\n",
       "     posted_date        category  \n",
       "8898  2020-07-30  OTHER_BENEFITS  \n",
       "8940  2020-08-31  OTHER_BENEFITS  \n",
       "8993  2020-09-30  OTHER_BENEFITS  \n",
       "8969  2020-10-29  OTHER_BENEFITS  \n",
       "8851  2020-11-30  OTHER_BENEFITS  \n",
       "8856  2020-12-30  OTHER_BENEFITS  \n",
       "8943  2021-01-29  OTHER_BENEFITS  \n",
       "8935  2021-02-26  OTHER_BENEFITS  \n",
       "8944  2021-03-31  OTHER_BENEFITS  \n",
       "9057  2021-04-29  OTHER_BENEFITS  \n",
       "8836  2021-05-28  OTHER_BENEFITS  "
      ]
     },
     "execution_count": 97,
     "metadata": {},
     "output_type": "execute_result"
    }
   ],
   "source": [
    "inflows.iloc[inflows_rec['OTHER_BENEFITS']]"
   ]
  },
  {
   "cell_type": "code",
   "execution_count": 90,
   "id": "a31cf991-9ea2-43e5-80a9-f8f7c582d0c5",
   "metadata": {},
   "outputs": [
    {
     "name": "stdout",
     "output_type": "stream",
     "text": [
      "DEPOSIT\n"
     ]
    },
    {
     "data": {
      "text/html": [
       "<div>\n",
       "<style scoped>\n",
       "    .dataframe tbody tr th:only-of-type {\n",
       "        vertical-align: middle;\n",
       "    }\n",
       "\n",
       "    .dataframe tbody tr th {\n",
       "        vertical-align: top;\n",
       "    }\n",
       "\n",
       "    .dataframe thead th {\n",
       "        text-align: right;\n",
       "    }\n",
       "</style>\n",
       "<table border=\"1\" class=\"dataframe\">\n",
       "  <thead>\n",
       "    <tr style=\"text-align: right;\">\n",
       "      <th></th>\n",
       "      <th>prism_consumer_id</th>\n",
       "      <th>prism_account_id</th>\n",
       "      <th>memo</th>\n",
       "      <th>amount</th>\n",
       "      <th>posted_date</th>\n",
       "      <th>category</th>\n",
       "    </tr>\n",
       "  </thead>\n",
       "  <tbody>\n",
       "    <tr>\n",
       "      <th>23</th>\n",
       "      <td>0</td>\n",
       "      <td>acc_0</td>\n",
       "      <td>DEPOSIT</td>\n",
       "      <td>537.5000</td>\n",
       "      <td>2022-08-08</td>\n",
       "      <td>DEPOSIT</td>\n",
       "    </tr>\n",
       "    <tr>\n",
       "      <th>49</th>\n",
       "      <td>0</td>\n",
       "      <td>acc_0</td>\n",
       "      <td>DEPOSIT</td>\n",
       "      <td>2,313.2000</td>\n",
       "      <td>2022-05-06</td>\n",
       "      <td>DEPOSIT</td>\n",
       "    </tr>\n",
       "    <tr>\n",
       "      <th>52</th>\n",
       "      <td>0</td>\n",
       "      <td>acc_0</td>\n",
       "      <td>DEPOSIT</td>\n",
       "      <td>524.4800</td>\n",
       "      <td>2022-09-12</td>\n",
       "      <td>DEPOSIT</td>\n",
       "    </tr>\n",
       "    <tr>\n",
       "      <th>91</th>\n",
       "      <td>2</td>\n",
       "      <td>acc_3</td>\n",
       "      <td>DEPOSIT</td>\n",
       "      <td>19.0000</td>\n",
       "      <td>2021-04-08</td>\n",
       "      <td>DEPOSIT</td>\n",
       "    </tr>\n",
       "    <tr>\n",
       "      <th>101</th>\n",
       "      <td>2</td>\n",
       "      <td>acc_3</td>\n",
       "      <td>DEPOSIT</td>\n",
       "      <td>320.0000</td>\n",
       "      <td>2021-10-25</td>\n",
       "      <td>DEPOSIT</td>\n",
       "    </tr>\n",
       "    <tr>\n",
       "      <th>...</th>\n",
       "      <td>...</td>\n",
       "      <td>...</td>\n",
       "      <td>...</td>\n",
       "      <td>...</td>\n",
       "      <td>...</td>\n",
       "      <td>...</td>\n",
       "    </tr>\n",
       "    <tr>\n",
       "      <th>512806</th>\n",
       "      <td>5940</td>\n",
       "      <td>acc_9523</td>\n",
       "      <td>DEPOSIT</td>\n",
       "      <td>225.0000</td>\n",
       "      <td>2023-01-24</td>\n",
       "      <td>DEPOSIT</td>\n",
       "    </tr>\n",
       "    <tr>\n",
       "      <th>512813</th>\n",
       "      <td>5940</td>\n",
       "      <td>acc_9523</td>\n",
       "      <td>DEPOSIT</td>\n",
       "      <td>20.0000</td>\n",
       "      <td>2023-01-31</td>\n",
       "      <td>DEPOSIT</td>\n",
       "    </tr>\n",
       "    <tr>\n",
       "      <th>512815</th>\n",
       "      <td>5940</td>\n",
       "      <td>acc_9523</td>\n",
       "      <td>DEPOSIT</td>\n",
       "      <td>275.0000</td>\n",
       "      <td>2023-01-31</td>\n",
       "      <td>DEPOSIT</td>\n",
       "    </tr>\n",
       "    <tr>\n",
       "      <th>512876</th>\n",
       "      <td>5941</td>\n",
       "      <td>acc_9524</td>\n",
       "      <td>DEPOSIT</td>\n",
       "      <td>130.0000</td>\n",
       "      <td>2022-08-18</td>\n",
       "      <td>DEPOSIT</td>\n",
       "    </tr>\n",
       "    <tr>\n",
       "      <th>513021</th>\n",
       "      <td>5941</td>\n",
       "      <td>acc_9524</td>\n",
       "      <td>DEPOSIT</td>\n",
       "      <td>26.7000</td>\n",
       "      <td>2022-12-05</td>\n",
       "      <td>DEPOSIT</td>\n",
       "    </tr>\n",
       "  </tbody>\n",
       "</table>\n",
       "<p>61345 rows × 6 columns</p>\n",
       "</div>"
      ],
      "text/plain": [
       "        prism_consumer_id prism_account_id     memo     amount posted_date  \\\n",
       "23                      0            acc_0  DEPOSIT   537.5000  2022-08-08   \n",
       "49                      0            acc_0  DEPOSIT 2,313.2000  2022-05-06   \n",
       "52                      0            acc_0  DEPOSIT   524.4800  2022-09-12   \n",
       "91                      2            acc_3  DEPOSIT    19.0000  2021-04-08   \n",
       "101                     2            acc_3  DEPOSIT   320.0000  2021-10-25   \n",
       "...                   ...              ...      ...        ...         ...   \n",
       "512806               5940         acc_9523  DEPOSIT   225.0000  2023-01-24   \n",
       "512813               5940         acc_9523  DEPOSIT    20.0000  2023-01-31   \n",
       "512815               5940         acc_9523  DEPOSIT   275.0000  2023-01-31   \n",
       "512876               5941         acc_9524  DEPOSIT   130.0000  2022-08-18   \n",
       "513021               5941         acc_9524  DEPOSIT    26.7000  2022-12-05   \n",
       "\n",
       "       category  \n",
       "23      DEPOSIT  \n",
       "49      DEPOSIT  \n",
       "52      DEPOSIT  \n",
       "91      DEPOSIT  \n",
       "101     DEPOSIT  \n",
       "...         ...  \n",
       "512806  DEPOSIT  \n",
       "512813  DEPOSIT  \n",
       "512815  DEPOSIT  \n",
       "512876  DEPOSIT  \n",
       "513021  DEPOSIT  \n",
       "\n",
       "[61345 rows x 6 columns]"
      ]
     },
     "metadata": {},
     "output_type": "display_data"
    },
    {
     "name": "stdout",
     "output_type": "stream",
     "text": [
      "EXTERNAL_TRANSFER\n"
     ]
    },
    {
     "data": {
      "text/html": [
       "<div>\n",
       "<style scoped>\n",
       "    .dataframe tbody tr th:only-of-type {\n",
       "        vertical-align: middle;\n",
       "    }\n",
       "\n",
       "    .dataframe tbody tr th {\n",
       "        vertical-align: top;\n",
       "    }\n",
       "\n",
       "    .dataframe thead th {\n",
       "        text-align: right;\n",
       "    }\n",
       "</style>\n",
       "<table border=\"1\" class=\"dataframe\">\n",
       "  <thead>\n",
       "    <tr style=\"text-align: right;\">\n",
       "      <th></th>\n",
       "      <th>prism_consumer_id</th>\n",
       "      <th>prism_account_id</th>\n",
       "      <th>memo</th>\n",
       "      <th>amount</th>\n",
       "      <th>posted_date</th>\n",
       "      <th>category</th>\n",
       "    </tr>\n",
       "  </thead>\n",
       "  <tbody>\n",
       "    <tr>\n",
       "      <th>1</th>\n",
       "      <td>0</td>\n",
       "      <td>acc_0</td>\n",
       "      <td>EXTERNAL_TRANSFER</td>\n",
       "      <td>100.0000</td>\n",
       "      <td>2022-10-25</td>\n",
       "      <td>EXTERNAL_TRANSFER</td>\n",
       "    </tr>\n",
       "    <tr>\n",
       "      <th>3</th>\n",
       "      <td>0</td>\n",
       "      <td>acc_0</td>\n",
       "      <td>EXTERNAL_TRANSFER</td>\n",
       "      <td>277.0000</td>\n",
       "      <td>2022-06-03</td>\n",
       "      <td>EXTERNAL_TRANSFER</td>\n",
       "    </tr>\n",
       "    <tr>\n",
       "      <th>4</th>\n",
       "      <td>0</td>\n",
       "      <td>acc_0</td>\n",
       "      <td>EXTERNAL_TRANSFER</td>\n",
       "      <td>100.0000</td>\n",
       "      <td>2022-07-29</td>\n",
       "      <td>EXTERNAL_TRANSFER</td>\n",
       "    </tr>\n",
       "    <tr>\n",
       "      <th>5</th>\n",
       "      <td>0</td>\n",
       "      <td>acc_0</td>\n",
       "      <td>EXTERNAL_TRANSFER</td>\n",
       "      <td>100.0000</td>\n",
       "      <td>2022-12-23</td>\n",
       "      <td>EXTERNAL_TRANSFER</td>\n",
       "    </tr>\n",
       "    <tr>\n",
       "      <th>8</th>\n",
       "      <td>0</td>\n",
       "      <td>acc_0</td>\n",
       "      <td>EXTERNAL_TRANSFER</td>\n",
       "      <td>75.0000</td>\n",
       "      <td>2022-03-23</td>\n",
       "      <td>EXTERNAL_TRANSFER</td>\n",
       "    </tr>\n",
       "    <tr>\n",
       "      <th>...</th>\n",
       "      <td>...</td>\n",
       "      <td>...</td>\n",
       "      <td>...</td>\n",
       "      <td>...</td>\n",
       "      <td>...</td>\n",
       "      <td>...</td>\n",
       "    </tr>\n",
       "    <tr>\n",
       "      <th>513110</th>\n",
       "      <td>5941</td>\n",
       "      <td>acc_9524</td>\n",
       "      <td>EXTERNAL_TRANSFER</td>\n",
       "      <td>8.6600</td>\n",
       "      <td>2023-01-21</td>\n",
       "      <td>EXTERNAL_TRANSFER</td>\n",
       "    </tr>\n",
       "    <tr>\n",
       "      <th>513111</th>\n",
       "      <td>5941</td>\n",
       "      <td>acc_9524</td>\n",
       "      <td>EXTERNAL_TRANSFER</td>\n",
       "      <td>267.1300</td>\n",
       "      <td>2023-01-23</td>\n",
       "      <td>EXTERNAL_TRANSFER</td>\n",
       "    </tr>\n",
       "    <tr>\n",
       "      <th>513112</th>\n",
       "      <td>5941</td>\n",
       "      <td>acc_9524</td>\n",
       "      <td>EXTERNAL_TRANSFER</td>\n",
       "      <td>2.0000</td>\n",
       "      <td>2023-01-24</td>\n",
       "      <td>EXTERNAL_TRANSFER</td>\n",
       "    </tr>\n",
       "    <tr>\n",
       "      <th>513113</th>\n",
       "      <td>5941</td>\n",
       "      <td>acc_9524</td>\n",
       "      <td>EXTERNAL_TRANSFER</td>\n",
       "      <td>207.1600</td>\n",
       "      <td>2023-01-24</td>\n",
       "      <td>EXTERNAL_TRANSFER</td>\n",
       "    </tr>\n",
       "    <tr>\n",
       "      <th>513114</th>\n",
       "      <td>5941</td>\n",
       "      <td>acc_9524</td>\n",
       "      <td>EXTERNAL_TRANSFER</td>\n",
       "      <td>281.7100</td>\n",
       "      <td>2023-01-25</td>\n",
       "      <td>EXTERNAL_TRANSFER</td>\n",
       "    </tr>\n",
       "  </tbody>\n",
       "</table>\n",
       "<p>156533 rows × 6 columns</p>\n",
       "</div>"
      ],
      "text/plain": [
       "        prism_consumer_id prism_account_id               memo   amount  \\\n",
       "1                       0            acc_0  EXTERNAL_TRANSFER 100.0000   \n",
       "3                       0            acc_0  EXTERNAL_TRANSFER 277.0000   \n",
       "4                       0            acc_0  EXTERNAL_TRANSFER 100.0000   \n",
       "5                       0            acc_0  EXTERNAL_TRANSFER 100.0000   \n",
       "8                       0            acc_0  EXTERNAL_TRANSFER  75.0000   \n",
       "...                   ...              ...                ...      ...   \n",
       "513110               5941         acc_9524  EXTERNAL_TRANSFER   8.6600   \n",
       "513111               5941         acc_9524  EXTERNAL_TRANSFER 267.1300   \n",
       "513112               5941         acc_9524  EXTERNAL_TRANSFER   2.0000   \n",
       "513113               5941         acc_9524  EXTERNAL_TRANSFER 207.1600   \n",
       "513114               5941         acc_9524  EXTERNAL_TRANSFER 281.7100   \n",
       "\n",
       "       posted_date           category  \n",
       "1       2022-10-25  EXTERNAL_TRANSFER  \n",
       "3       2022-06-03  EXTERNAL_TRANSFER  \n",
       "4       2022-07-29  EXTERNAL_TRANSFER  \n",
       "5       2022-12-23  EXTERNAL_TRANSFER  \n",
       "8       2022-03-23  EXTERNAL_TRANSFER  \n",
       "...            ...                ...  \n",
       "513110  2023-01-21  EXTERNAL_TRANSFER  \n",
       "513111  2023-01-23  EXTERNAL_TRANSFER  \n",
       "513112  2023-01-24  EXTERNAL_TRANSFER  \n",
       "513113  2023-01-24  EXTERNAL_TRANSFER  \n",
       "513114  2023-01-25  EXTERNAL_TRANSFER  \n",
       "\n",
       "[156533 rows x 6 columns]"
      ]
     },
     "metadata": {},
     "output_type": "display_data"
    },
    {
     "name": "stdout",
     "output_type": "stream",
     "text": [
      "INVESTMENT_INCOME\n"
     ]
    },
    {
     "data": {
      "text/html": [
       "<div>\n",
       "<style scoped>\n",
       "    .dataframe tbody tr th:only-of-type {\n",
       "        vertical-align: middle;\n",
       "    }\n",
       "\n",
       "    .dataframe tbody tr th {\n",
       "        vertical-align: top;\n",
       "    }\n",
       "\n",
       "    .dataframe thead th {\n",
       "        text-align: right;\n",
       "    }\n",
       "</style>\n",
       "<table border=\"1\" class=\"dataframe\">\n",
       "  <thead>\n",
       "    <tr style=\"text-align: right;\">\n",
       "      <th></th>\n",
       "      <th>prism_consumer_id</th>\n",
       "      <th>prism_account_id</th>\n",
       "      <th>memo</th>\n",
       "      <th>amount</th>\n",
       "      <th>posted_date</th>\n",
       "      <th>category</th>\n",
       "    </tr>\n",
       "  </thead>\n",
       "  <tbody>\n",
       "    <tr>\n",
       "      <th>7</th>\n",
       "      <td>0</td>\n",
       "      <td>acc_1</td>\n",
       "      <td>INVESTMENT_INCOME</td>\n",
       "      <td>0.0400</td>\n",
       "      <td>2023-01-20</td>\n",
       "      <td>INVESTMENT_INCOME</td>\n",
       "    </tr>\n",
       "    <tr>\n",
       "      <th>11</th>\n",
       "      <td>0</td>\n",
       "      <td>acc_1</td>\n",
       "      <td>INVESTMENT_INCOME</td>\n",
       "      <td>0.0400</td>\n",
       "      <td>2022-05-18</td>\n",
       "      <td>INVESTMENT_INCOME</td>\n",
       "    </tr>\n",
       "    <tr>\n",
       "      <th>14</th>\n",
       "      <td>0</td>\n",
       "      <td>acc_1</td>\n",
       "      <td>INVESTMENT_INCOME</td>\n",
       "      <td>0.0400</td>\n",
       "      <td>2022-02-17</td>\n",
       "      <td>INVESTMENT_INCOME</td>\n",
       "    </tr>\n",
       "    <tr>\n",
       "      <th>21</th>\n",
       "      <td>0</td>\n",
       "      <td>acc_1</td>\n",
       "      <td>INVESTMENT_INCOME</td>\n",
       "      <td>0.0400</td>\n",
       "      <td>2022-08-17</td>\n",
       "      <td>INVESTMENT_INCOME</td>\n",
       "    </tr>\n",
       "    <tr>\n",
       "      <th>43</th>\n",
       "      <td>0</td>\n",
       "      <td>acc_1</td>\n",
       "      <td>INVESTMENT_INCOME</td>\n",
       "      <td>0.0400</td>\n",
       "      <td>2022-03-17</td>\n",
       "      <td>INVESTMENT_INCOME</td>\n",
       "    </tr>\n",
       "    <tr>\n",
       "      <th>...</th>\n",
       "      <td>...</td>\n",
       "      <td>...</td>\n",
       "      <td>...</td>\n",
       "      <td>...</td>\n",
       "      <td>...</td>\n",
       "      <td>...</td>\n",
       "    </tr>\n",
       "    <tr>\n",
       "      <th>512757</th>\n",
       "      <td>5940</td>\n",
       "      <td>acc_9523</td>\n",
       "      <td>INVESTMENT_INCOME</td>\n",
       "      <td>0.0300</td>\n",
       "      <td>2022-12-31</td>\n",
       "      <td>INVESTMENT_INCOME</td>\n",
       "    </tr>\n",
       "    <tr>\n",
       "      <th>512801</th>\n",
       "      <td>5940</td>\n",
       "      <td>acc_9523</td>\n",
       "      <td>INVESTMENT_INCOME</td>\n",
       "      <td>288.3600</td>\n",
       "      <td>2023-01-20</td>\n",
       "      <td>INVESTMENT_INCOME</td>\n",
       "    </tr>\n",
       "    <tr>\n",
       "      <th>512814</th>\n",
       "      <td>5940</td>\n",
       "      <td>acc_9523</td>\n",
       "      <td>INVESTMENT_INCOME</td>\n",
       "      <td>0.0400</td>\n",
       "      <td>2023-01-31</td>\n",
       "      <td>INVESTMENT_INCOME</td>\n",
       "    </tr>\n",
       "    <tr>\n",
       "      <th>512817</th>\n",
       "      <td>5940</td>\n",
       "      <td>acc_9523</td>\n",
       "      <td>INVESTMENT_INCOME</td>\n",
       "      <td>228.7300</td>\n",
       "      <td>2023-02-01</td>\n",
       "      <td>INVESTMENT_INCOME</td>\n",
       "    </tr>\n",
       "    <tr>\n",
       "      <th>512900</th>\n",
       "      <td>5941</td>\n",
       "      <td>acc_9524</td>\n",
       "      <td>INVESTMENT_INCOME</td>\n",
       "      <td>1,239.5100</td>\n",
       "      <td>2022-08-31</td>\n",
       "      <td>INVESTMENT_INCOME</td>\n",
       "    </tr>\n",
       "  </tbody>\n",
       "</table>\n",
       "<p>17325 rows × 6 columns</p>\n",
       "</div>"
      ],
      "text/plain": [
       "        prism_consumer_id prism_account_id               memo     amount  \\\n",
       "7                       0            acc_1  INVESTMENT_INCOME     0.0400   \n",
       "11                      0            acc_1  INVESTMENT_INCOME     0.0400   \n",
       "14                      0            acc_1  INVESTMENT_INCOME     0.0400   \n",
       "21                      0            acc_1  INVESTMENT_INCOME     0.0400   \n",
       "43                      0            acc_1  INVESTMENT_INCOME     0.0400   \n",
       "...                   ...              ...                ...        ...   \n",
       "512757               5940         acc_9523  INVESTMENT_INCOME     0.0300   \n",
       "512801               5940         acc_9523  INVESTMENT_INCOME   288.3600   \n",
       "512814               5940         acc_9523  INVESTMENT_INCOME     0.0400   \n",
       "512817               5940         acc_9523  INVESTMENT_INCOME   228.7300   \n",
       "512900               5941         acc_9524  INVESTMENT_INCOME 1,239.5100   \n",
       "\n",
       "       posted_date           category  \n",
       "7       2023-01-20  INVESTMENT_INCOME  \n",
       "11      2022-05-18  INVESTMENT_INCOME  \n",
       "14      2022-02-17  INVESTMENT_INCOME  \n",
       "21      2022-08-17  INVESTMENT_INCOME  \n",
       "43      2022-03-17  INVESTMENT_INCOME  \n",
       "...            ...                ...  \n",
       "512757  2022-12-31  INVESTMENT_INCOME  \n",
       "512801  2023-01-20  INVESTMENT_INCOME  \n",
       "512814  2023-01-31  INVESTMENT_INCOME  \n",
       "512817  2023-02-01  INVESTMENT_INCOME  \n",
       "512900  2022-08-31  INVESTMENT_INCOME  \n",
       "\n",
       "[17325 rows x 6 columns]"
      ]
     },
     "metadata": {},
     "output_type": "display_data"
    },
    {
     "name": "stdout",
     "output_type": "stream",
     "text": [
      "OTHER_BENEFITS\n"
     ]
    },
    {
     "data": {
      "text/html": [
       "<div>\n",
       "<style scoped>\n",
       "    .dataframe tbody tr th:only-of-type {\n",
       "        vertical-align: middle;\n",
       "    }\n",
       "\n",
       "    .dataframe tbody tr th {\n",
       "        vertical-align: top;\n",
       "    }\n",
       "\n",
       "    .dataframe thead th {\n",
       "        text-align: right;\n",
       "    }\n",
       "</style>\n",
       "<table border=\"1\" class=\"dataframe\">\n",
       "  <thead>\n",
       "    <tr style=\"text-align: right;\">\n",
       "      <th></th>\n",
       "      <th>prism_consumer_id</th>\n",
       "      <th>prism_account_id</th>\n",
       "      <th>memo</th>\n",
       "      <th>amount</th>\n",
       "      <th>posted_date</th>\n",
       "      <th>category</th>\n",
       "    </tr>\n",
       "  </thead>\n",
       "  <tbody>\n",
       "    <tr>\n",
       "      <th>485</th>\n",
       "      <td>9</td>\n",
       "      <td>acc_18</td>\n",
       "      <td>OTHER_BENEFITS</td>\n",
       "      <td>1,763.7100</td>\n",
       "      <td>2021-04-01</td>\n",
       "      <td>OTHER_BENEFITS</td>\n",
       "    </tr>\n",
       "    <tr>\n",
       "      <th>517</th>\n",
       "      <td>9</td>\n",
       "      <td>acc_18</td>\n",
       "      <td>OTHER_BENEFITS</td>\n",
       "      <td>1,117.4300</td>\n",
       "      <td>2020-07-31</td>\n",
       "      <td>OTHER_BENEFITS</td>\n",
       "    </tr>\n",
       "    <tr>\n",
       "      <th>557</th>\n",
       "      <td>9</td>\n",
       "      <td>acc_18</td>\n",
       "      <td>OTHER_BENEFITS</td>\n",
       "      <td>1,117.4300</td>\n",
       "      <td>2020-10-01</td>\n",
       "      <td>OTHER_BENEFITS</td>\n",
       "    </tr>\n",
       "    <tr>\n",
       "      <th>571</th>\n",
       "      <td>9</td>\n",
       "      <td>acc_18</td>\n",
       "      <td>OTHER_BENEFITS</td>\n",
       "      <td>631.6700</td>\n",
       "      <td>2020-12-31</td>\n",
       "      <td>OTHER_BENEFITS</td>\n",
       "    </tr>\n",
       "    <tr>\n",
       "      <th>584</th>\n",
       "      <td>9</td>\n",
       "      <td>acc_18</td>\n",
       "      <td>OTHER_BENEFITS</td>\n",
       "      <td>1,763.7100</td>\n",
       "      <td>2021-04-30</td>\n",
       "      <td>OTHER_BENEFITS</td>\n",
       "    </tr>\n",
       "    <tr>\n",
       "      <th>...</th>\n",
       "      <td>...</td>\n",
       "      <td>...</td>\n",
       "      <td>...</td>\n",
       "      <td>...</td>\n",
       "      <td>...</td>\n",
       "      <td>...</td>\n",
       "    </tr>\n",
       "    <tr>\n",
       "      <th>508306</th>\n",
       "      <td>5892</td>\n",
       "      <td>acc_9475</td>\n",
       "      <td>OTHER_BENEFITS</td>\n",
       "      <td>1,678.0000</td>\n",
       "      <td>2022-11-17</td>\n",
       "      <td>OTHER_BENEFITS</td>\n",
       "    </tr>\n",
       "    <tr>\n",
       "      <th>508313</th>\n",
       "      <td>5892</td>\n",
       "      <td>acc_9475</td>\n",
       "      <td>OTHER_BENEFITS</td>\n",
       "      <td>152.6400</td>\n",
       "      <td>2022-12-01</td>\n",
       "      <td>OTHER_BENEFITS</td>\n",
       "    </tr>\n",
       "    <tr>\n",
       "      <th>508330</th>\n",
       "      <td>5892</td>\n",
       "      <td>acc_9475</td>\n",
       "      <td>OTHER_BENEFITS</td>\n",
       "      <td>165.9200</td>\n",
       "      <td>2022-12-30</td>\n",
       "      <td>OTHER_BENEFITS</td>\n",
       "    </tr>\n",
       "    <tr>\n",
       "      <th>510002</th>\n",
       "      <td>5910</td>\n",
       "      <td>acc_9493</td>\n",
       "      <td>OTHER_BENEFITS</td>\n",
       "      <td>5,172.5000</td>\n",
       "      <td>2021-04-07</td>\n",
       "      <td>OTHER_BENEFITS</td>\n",
       "    </tr>\n",
       "    <tr>\n",
       "      <th>511912</th>\n",
       "      <td>5929</td>\n",
       "      <td>acc_9512</td>\n",
       "      <td>OTHER_BENEFITS</td>\n",
       "      <td>255.0000</td>\n",
       "      <td>2021-04-07</td>\n",
       "      <td>OTHER_BENEFITS</td>\n",
       "    </tr>\n",
       "  </tbody>\n",
       "</table>\n",
       "<p>7708 rows × 6 columns</p>\n",
       "</div>"
      ],
      "text/plain": [
       "        prism_consumer_id prism_account_id            memo     amount  \\\n",
       "485                     9           acc_18  OTHER_BENEFITS 1,763.7100   \n",
       "517                     9           acc_18  OTHER_BENEFITS 1,117.4300   \n",
       "557                     9           acc_18  OTHER_BENEFITS 1,117.4300   \n",
       "571                     9           acc_18  OTHER_BENEFITS   631.6700   \n",
       "584                     9           acc_18  OTHER_BENEFITS 1,763.7100   \n",
       "...                   ...              ...             ...        ...   \n",
       "508306               5892         acc_9475  OTHER_BENEFITS 1,678.0000   \n",
       "508313               5892         acc_9475  OTHER_BENEFITS   152.6400   \n",
       "508330               5892         acc_9475  OTHER_BENEFITS   165.9200   \n",
       "510002               5910         acc_9493  OTHER_BENEFITS 5,172.5000   \n",
       "511912               5929         acc_9512  OTHER_BENEFITS   255.0000   \n",
       "\n",
       "       posted_date        category  \n",
       "485     2021-04-01  OTHER_BENEFITS  \n",
       "517     2020-07-31  OTHER_BENEFITS  \n",
       "557     2020-10-01  OTHER_BENEFITS  \n",
       "571     2020-12-31  OTHER_BENEFITS  \n",
       "584     2021-04-30  OTHER_BENEFITS  \n",
       "...            ...             ...  \n",
       "508306  2022-11-17  OTHER_BENEFITS  \n",
       "508313  2022-12-01  OTHER_BENEFITS  \n",
       "508330  2022-12-30  OTHER_BENEFITS  \n",
       "510002  2021-04-07  OTHER_BENEFITS  \n",
       "511912  2021-04-07  OTHER_BENEFITS  \n",
       "\n",
       "[7708 rows x 6 columns]"
      ]
     },
     "metadata": {},
     "output_type": "display_data"
    },
    {
     "name": "stdout",
     "output_type": "stream",
     "text": [
      "PAYCHECK\n"
     ]
    },
    {
     "data": {
      "text/html": [
       "<div>\n",
       "<style scoped>\n",
       "    .dataframe tbody tr th:only-of-type {\n",
       "        vertical-align: middle;\n",
       "    }\n",
       "\n",
       "    .dataframe tbody tr th {\n",
       "        vertical-align: top;\n",
       "    }\n",
       "\n",
       "    .dataframe thead th {\n",
       "        text-align: right;\n",
       "    }\n",
       "</style>\n",
       "<table border=\"1\" class=\"dataframe\">\n",
       "  <thead>\n",
       "    <tr style=\"text-align: right;\">\n",
       "      <th></th>\n",
       "      <th>prism_consumer_id</th>\n",
       "      <th>prism_account_id</th>\n",
       "      <th>memo</th>\n",
       "      <th>amount</th>\n",
       "      <th>posted_date</th>\n",
       "      <th>category</th>\n",
       "    </tr>\n",
       "  </thead>\n",
       "  <tbody>\n",
       "    <tr>\n",
       "      <th>0</th>\n",
       "      <td>0</td>\n",
       "      <td>acc_0</td>\n",
       "      <td>PAYCHECK</td>\n",
       "      <td>2,477.0200</td>\n",
       "      <td>2022-03-18</td>\n",
       "      <td>PAYCHECK</td>\n",
       "    </tr>\n",
       "    <tr>\n",
       "      <th>6</th>\n",
       "      <td>0</td>\n",
       "      <td>acc_0</td>\n",
       "      <td>PAYCHECK</td>\n",
       "      <td>2,547.3500</td>\n",
       "      <td>2023-02-03</td>\n",
       "      <td>PAYCHECK</td>\n",
       "    </tr>\n",
       "    <tr>\n",
       "      <th>16</th>\n",
       "      <td>0</td>\n",
       "      <td>acc_0</td>\n",
       "      <td>PAYCHECK</td>\n",
       "      <td>2,528.4000</td>\n",
       "      <td>2022-10-20</td>\n",
       "      <td>PAYCHECK</td>\n",
       "    </tr>\n",
       "    <tr>\n",
       "      <th>17</th>\n",
       "      <td>0</td>\n",
       "      <td>acc_0</td>\n",
       "      <td>PAYCHECK</td>\n",
       "      <td>2,547.3500</td>\n",
       "      <td>2023-01-20</td>\n",
       "      <td>PAYCHECK</td>\n",
       "    </tr>\n",
       "    <tr>\n",
       "      <th>25</th>\n",
       "      <td>0</td>\n",
       "      <td>acc_0</td>\n",
       "      <td>PAYCHECK</td>\n",
       "      <td>2,331.7100</td>\n",
       "      <td>2022-05-05</td>\n",
       "      <td>PAYCHECK</td>\n",
       "    </tr>\n",
       "    <tr>\n",
       "      <th>...</th>\n",
       "      <td>...</td>\n",
       "      <td>...</td>\n",
       "      <td>...</td>\n",
       "      <td>...</td>\n",
       "      <td>...</td>\n",
       "      <td>...</td>\n",
       "    </tr>\n",
       "    <tr>\n",
       "      <th>511992</th>\n",
       "      <td>5929</td>\n",
       "      <td>acc_9512</td>\n",
       "      <td>PAYCHECK</td>\n",
       "      <td>728.8900</td>\n",
       "      <td>2023-01-24</td>\n",
       "      <td>PAYCHECK</td>\n",
       "    </tr>\n",
       "    <tr>\n",
       "      <th>512713</th>\n",
       "      <td>5940</td>\n",
       "      <td>acc_9523</td>\n",
       "      <td>PAYCHECK</td>\n",
       "      <td>30.0000</td>\n",
       "      <td>2022-11-30</td>\n",
       "      <td>PAYCHECK</td>\n",
       "    </tr>\n",
       "    <tr>\n",
       "      <th>512750</th>\n",
       "      <td>5940</td>\n",
       "      <td>acc_9523</td>\n",
       "      <td>PAYCHECK</td>\n",
       "      <td>30.0000</td>\n",
       "      <td>2022-12-28</td>\n",
       "      <td>PAYCHECK</td>\n",
       "    </tr>\n",
       "    <tr>\n",
       "      <th>512782</th>\n",
       "      <td>5940</td>\n",
       "      <td>acc_9523</td>\n",
       "      <td>PAYCHECK</td>\n",
       "      <td>40.0000</td>\n",
       "      <td>2023-01-11</td>\n",
       "      <td>PAYCHECK</td>\n",
       "    </tr>\n",
       "    <tr>\n",
       "      <th>512810</th>\n",
       "      <td>5940</td>\n",
       "      <td>acc_9523</td>\n",
       "      <td>PAYCHECK</td>\n",
       "      <td>40.0000</td>\n",
       "      <td>2023-01-28</td>\n",
       "      <td>PAYCHECK</td>\n",
       "    </tr>\n",
       "  </tbody>\n",
       "</table>\n",
       "<p>33138 rows × 6 columns</p>\n",
       "</div>"
      ],
      "text/plain": [
       "        prism_consumer_id prism_account_id      memo     amount posted_date  \\\n",
       "0                       0            acc_0  PAYCHECK 2,477.0200  2022-03-18   \n",
       "6                       0            acc_0  PAYCHECK 2,547.3500  2023-02-03   \n",
       "16                      0            acc_0  PAYCHECK 2,528.4000  2022-10-20   \n",
       "17                      0            acc_0  PAYCHECK 2,547.3500  2023-01-20   \n",
       "25                      0            acc_0  PAYCHECK 2,331.7100  2022-05-05   \n",
       "...                   ...              ...       ...        ...         ...   \n",
       "511992               5929         acc_9512  PAYCHECK   728.8900  2023-01-24   \n",
       "512713               5940         acc_9523  PAYCHECK    30.0000  2022-11-30   \n",
       "512750               5940         acc_9523  PAYCHECK    30.0000  2022-12-28   \n",
       "512782               5940         acc_9523  PAYCHECK    40.0000  2023-01-11   \n",
       "512810               5940         acc_9523  PAYCHECK    40.0000  2023-01-28   \n",
       "\n",
       "        category  \n",
       "0       PAYCHECK  \n",
       "6       PAYCHECK  \n",
       "16      PAYCHECK  \n",
       "17      PAYCHECK  \n",
       "25      PAYCHECK  \n",
       "...          ...  \n",
       "511992  PAYCHECK  \n",
       "512713  PAYCHECK  \n",
       "512750  PAYCHECK  \n",
       "512782  PAYCHECK  \n",
       "512810  PAYCHECK  \n",
       "\n",
       "[33138 rows x 6 columns]"
      ]
     },
     "metadata": {},
     "output_type": "display_data"
    },
    {
     "name": "stdout",
     "output_type": "stream",
     "text": [
      "PAYCHECK_PLACEHOLDER\n"
     ]
    },
    {
     "data": {
      "text/html": [
       "<div>\n",
       "<style scoped>\n",
       "    .dataframe tbody tr th:only-of-type {\n",
       "        vertical-align: middle;\n",
       "    }\n",
       "\n",
       "    .dataframe tbody tr th {\n",
       "        vertical-align: top;\n",
       "    }\n",
       "\n",
       "    .dataframe thead th {\n",
       "        text-align: right;\n",
       "    }\n",
       "</style>\n",
       "<table border=\"1\" class=\"dataframe\">\n",
       "  <thead>\n",
       "    <tr style=\"text-align: right;\">\n",
       "      <th></th>\n",
       "      <th>prism_consumer_id</th>\n",
       "      <th>prism_account_id</th>\n",
       "      <th>memo</th>\n",
       "      <th>amount</th>\n",
       "      <th>posted_date</th>\n",
       "      <th>category</th>\n",
       "    </tr>\n",
       "  </thead>\n",
       "  <tbody>\n",
       "    <tr>\n",
       "      <th>48</th>\n",
       "      <td>0</td>\n",
       "      <td>acc_0</td>\n",
       "      <td>PAYCHECK_PLACEHOLDER</td>\n",
       "      <td>143.0000</td>\n",
       "      <td>2022-07-11</td>\n",
       "      <td>PAYCHECK</td>\n",
       "    </tr>\n",
       "    <tr>\n",
       "      <th>272</th>\n",
       "      <td>4</td>\n",
       "      <td>acc_5</td>\n",
       "      <td>PAYCHECK_PLACEHOLDER</td>\n",
       "      <td>15.9900</td>\n",
       "      <td>2022-03-25</td>\n",
       "      <td>PAYCHECK</td>\n",
       "    </tr>\n",
       "    <tr>\n",
       "      <th>345</th>\n",
       "      <td>4</td>\n",
       "      <td>acc_5</td>\n",
       "      <td>PAYCHECK_PLACEHOLDER</td>\n",
       "      <td>1,110.5100</td>\n",
       "      <td>2022-03-11</td>\n",
       "      <td>PAYCHECK</td>\n",
       "    </tr>\n",
       "    <tr>\n",
       "      <th>364</th>\n",
       "      <td>7</td>\n",
       "      <td>acc_14</td>\n",
       "      <td>PAYCHECK_PLACEHOLDER</td>\n",
       "      <td>5,792.0800</td>\n",
       "      <td>2022-10-06</td>\n",
       "      <td>PAYCHECK</td>\n",
       "    </tr>\n",
       "    <tr>\n",
       "      <th>367</th>\n",
       "      <td>7</td>\n",
       "      <td>acc_14</td>\n",
       "      <td>PAYCHECK_PLACEHOLDER</td>\n",
       "      <td>5,919.3400</td>\n",
       "      <td>2023-02-23</td>\n",
       "      <td>PAYCHECK</td>\n",
       "    </tr>\n",
       "    <tr>\n",
       "      <th>...</th>\n",
       "      <td>...</td>\n",
       "      <td>...</td>\n",
       "      <td>...</td>\n",
       "      <td>...</td>\n",
       "      <td>...</td>\n",
       "      <td>...</td>\n",
       "    </tr>\n",
       "    <tr>\n",
       "      <th>512777</th>\n",
       "      <td>5940</td>\n",
       "      <td>acc_9523</td>\n",
       "      <td>PAYCHECK_PLACEHOLDER</td>\n",
       "      <td>2,235.7100</td>\n",
       "      <td>2023-01-06</td>\n",
       "      <td>PAYCHECK</td>\n",
       "    </tr>\n",
       "    <tr>\n",
       "      <th>512786</th>\n",
       "      <td>5940</td>\n",
       "      <td>acc_9523</td>\n",
       "      <td>PAYCHECK_PLACEHOLDER</td>\n",
       "      <td>100.0000</td>\n",
       "      <td>2023-01-11</td>\n",
       "      <td>PAYCHECK</td>\n",
       "    </tr>\n",
       "    <tr>\n",
       "      <th>512800</th>\n",
       "      <td>5940</td>\n",
       "      <td>acc_9523</td>\n",
       "      <td>PAYCHECK_PLACEHOLDER</td>\n",
       "      <td>1,138.8700</td>\n",
       "      <td>2023-01-20</td>\n",
       "      <td>PAYCHECK</td>\n",
       "    </tr>\n",
       "    <tr>\n",
       "      <th>512807</th>\n",
       "      <td>5940</td>\n",
       "      <td>acc_9523</td>\n",
       "      <td>PAYCHECK_PLACEHOLDER</td>\n",
       "      <td>150.0000</td>\n",
       "      <td>2023-01-25</td>\n",
       "      <td>PAYCHECK</td>\n",
       "    </tr>\n",
       "    <tr>\n",
       "      <th>512811</th>\n",
       "      <td>5940</td>\n",
       "      <td>acc_9523</td>\n",
       "      <td>PAYCHECK_PLACEHOLDER</td>\n",
       "      <td>800.0000</td>\n",
       "      <td>2023-01-30</td>\n",
       "      <td>PAYCHECK</td>\n",
       "    </tr>\n",
       "  </tbody>\n",
       "</table>\n",
       "<p>26087 rows × 6 columns</p>\n",
       "</div>"
      ],
      "text/plain": [
       "        prism_consumer_id prism_account_id                  memo     amount  \\\n",
       "48                      0            acc_0  PAYCHECK_PLACEHOLDER   143.0000   \n",
       "272                     4            acc_5  PAYCHECK_PLACEHOLDER    15.9900   \n",
       "345                     4            acc_5  PAYCHECK_PLACEHOLDER 1,110.5100   \n",
       "364                     7           acc_14  PAYCHECK_PLACEHOLDER 5,792.0800   \n",
       "367                     7           acc_14  PAYCHECK_PLACEHOLDER 5,919.3400   \n",
       "...                   ...              ...                   ...        ...   \n",
       "512777               5940         acc_9523  PAYCHECK_PLACEHOLDER 2,235.7100   \n",
       "512786               5940         acc_9523  PAYCHECK_PLACEHOLDER   100.0000   \n",
       "512800               5940         acc_9523  PAYCHECK_PLACEHOLDER 1,138.8700   \n",
       "512807               5940         acc_9523  PAYCHECK_PLACEHOLDER   150.0000   \n",
       "512811               5940         acc_9523  PAYCHECK_PLACEHOLDER   800.0000   \n",
       "\n",
       "       posted_date  category  \n",
       "48      2022-07-11  PAYCHECK  \n",
       "272     2022-03-25  PAYCHECK  \n",
       "345     2022-03-11  PAYCHECK  \n",
       "364     2022-10-06  PAYCHECK  \n",
       "367     2023-02-23  PAYCHECK  \n",
       "...            ...       ...  \n",
       "512777  2023-01-06  PAYCHECK  \n",
       "512786  2023-01-11  PAYCHECK  \n",
       "512800  2023-01-20  PAYCHECK  \n",
       "512807  2023-01-25  PAYCHECK  \n",
       "512811  2023-01-30  PAYCHECK  \n",
       "\n",
       "[26087 rows x 6 columns]"
      ]
     },
     "metadata": {},
     "output_type": "display_data"
    },
    {
     "name": "stdout",
     "output_type": "stream",
     "text": [
      "UNEMPLOYMENT_BENEFITS\n"
     ]
    },
    {
     "data": {
      "text/html": [
       "<div>\n",
       "<style scoped>\n",
       "    .dataframe tbody tr th:only-of-type {\n",
       "        vertical-align: middle;\n",
       "    }\n",
       "\n",
       "    .dataframe tbody tr th {\n",
       "        vertical-align: top;\n",
       "    }\n",
       "\n",
       "    .dataframe thead th {\n",
       "        text-align: right;\n",
       "    }\n",
       "</style>\n",
       "<table border=\"1\" class=\"dataframe\">\n",
       "  <thead>\n",
       "    <tr style=\"text-align: right;\">\n",
       "      <th></th>\n",
       "      <th>prism_consumer_id</th>\n",
       "      <th>prism_account_id</th>\n",
       "      <th>memo</th>\n",
       "      <th>amount</th>\n",
       "      <th>posted_date</th>\n",
       "      <th>category</th>\n",
       "    </tr>\n",
       "  </thead>\n",
       "  <tbody>\n",
       "    <tr>\n",
       "      <th>507</th>\n",
       "      <td>9</td>\n",
       "      <td>acc_18</td>\n",
       "      <td>UNEMPLOYMENT_BENEFITS</td>\n",
       "      <td>535.0000</td>\n",
       "      <td>2021-02-03</td>\n",
       "      <td>UNEMPLOYMENT_BENEFITS</td>\n",
       "    </tr>\n",
       "    <tr>\n",
       "      <th>511</th>\n",
       "      <td>9</td>\n",
       "      <td>acc_18</td>\n",
       "      <td>UNEMPLOYMENT_BENEFITS</td>\n",
       "      <td>535.0000</td>\n",
       "      <td>2021-02-24</td>\n",
       "      <td>UNEMPLOYMENT_BENEFITS</td>\n",
       "    </tr>\n",
       "    <tr>\n",
       "      <th>525</th>\n",
       "      <td>9</td>\n",
       "      <td>acc_18</td>\n",
       "      <td>UNEMPLOYMENT_BENEFITS</td>\n",
       "      <td>2,140.0000</td>\n",
       "      <td>2021-05-05</td>\n",
       "      <td>UNEMPLOYMENT_BENEFITS</td>\n",
       "    </tr>\n",
       "    <tr>\n",
       "      <th>537</th>\n",
       "      <td>9</td>\n",
       "      <td>acc_18</td>\n",
       "      <td>UNEMPLOYMENT_BENEFITS</td>\n",
       "      <td>300.0000</td>\n",
       "      <td>2021-02-24</td>\n",
       "      <td>UNEMPLOYMENT_BENEFITS</td>\n",
       "    </tr>\n",
       "    <tr>\n",
       "      <th>546</th>\n",
       "      <td>9</td>\n",
       "      <td>acc_18</td>\n",
       "      <td>UNEMPLOYMENT_BENEFITS</td>\n",
       "      <td>535.0000</td>\n",
       "      <td>2021-01-20</td>\n",
       "      <td>UNEMPLOYMENT_BENEFITS</td>\n",
       "    </tr>\n",
       "    <tr>\n",
       "      <th>...</th>\n",
       "      <td>...</td>\n",
       "      <td>...</td>\n",
       "      <td>...</td>\n",
       "      <td>...</td>\n",
       "      <td>...</td>\n",
       "      <td>...</td>\n",
       "    </tr>\n",
       "    <tr>\n",
       "      <th>508429</th>\n",
       "      <td>5894</td>\n",
       "      <td>acc_9477</td>\n",
       "      <td>UNEMPLOYMENT_BENEFITS</td>\n",
       "      <td>300.0000</td>\n",
       "      <td>2021-08-16</td>\n",
       "      <td>UNEMPLOYMENT_BENEFITS</td>\n",
       "    </tr>\n",
       "    <tr>\n",
       "      <th>508432</th>\n",
       "      <td>5894</td>\n",
       "      <td>acc_9477</td>\n",
       "      <td>UNEMPLOYMENT_BENEFITS</td>\n",
       "      <td>119.0000</td>\n",
       "      <td>2021-08-25</td>\n",
       "      <td>UNEMPLOYMENT_BENEFITS</td>\n",
       "    </tr>\n",
       "    <tr>\n",
       "      <th>508434</th>\n",
       "      <td>5894</td>\n",
       "      <td>acc_9477</td>\n",
       "      <td>UNEMPLOYMENT_BENEFITS</td>\n",
       "      <td>300.0000</td>\n",
       "      <td>2021-08-30</td>\n",
       "      <td>UNEMPLOYMENT_BENEFITS</td>\n",
       "    </tr>\n",
       "    <tr>\n",
       "      <th>508435</th>\n",
       "      <td>5894</td>\n",
       "      <td>acc_9477</td>\n",
       "      <td>UNEMPLOYMENT_BENEFITS</td>\n",
       "      <td>202.0000</td>\n",
       "      <td>2021-09-08</td>\n",
       "      <td>UNEMPLOYMENT_BENEFITS</td>\n",
       "    </tr>\n",
       "    <tr>\n",
       "      <th>508436</th>\n",
       "      <td>5894</td>\n",
       "      <td>acc_9477</td>\n",
       "      <td>UNEMPLOYMENT_BENEFITS</td>\n",
       "      <td>300.0000</td>\n",
       "      <td>2021-09-13</td>\n",
       "      <td>UNEMPLOYMENT_BENEFITS</td>\n",
       "    </tr>\n",
       "  </tbody>\n",
       "</table>\n",
       "<p>1961 rows × 6 columns</p>\n",
       "</div>"
      ],
      "text/plain": [
       "        prism_consumer_id prism_account_id                   memo     amount  \\\n",
       "507                     9           acc_18  UNEMPLOYMENT_BENEFITS   535.0000   \n",
       "511                     9           acc_18  UNEMPLOYMENT_BENEFITS   535.0000   \n",
       "525                     9           acc_18  UNEMPLOYMENT_BENEFITS 2,140.0000   \n",
       "537                     9           acc_18  UNEMPLOYMENT_BENEFITS   300.0000   \n",
       "546                     9           acc_18  UNEMPLOYMENT_BENEFITS   535.0000   \n",
       "...                   ...              ...                    ...        ...   \n",
       "508429               5894         acc_9477  UNEMPLOYMENT_BENEFITS   300.0000   \n",
       "508432               5894         acc_9477  UNEMPLOYMENT_BENEFITS   119.0000   \n",
       "508434               5894         acc_9477  UNEMPLOYMENT_BENEFITS   300.0000   \n",
       "508435               5894         acc_9477  UNEMPLOYMENT_BENEFITS   202.0000   \n",
       "508436               5894         acc_9477  UNEMPLOYMENT_BENEFITS   300.0000   \n",
       "\n",
       "       posted_date               category  \n",
       "507     2021-02-03  UNEMPLOYMENT_BENEFITS  \n",
       "511     2021-02-24  UNEMPLOYMENT_BENEFITS  \n",
       "525     2021-05-05  UNEMPLOYMENT_BENEFITS  \n",
       "537     2021-02-24  UNEMPLOYMENT_BENEFITS  \n",
       "546     2021-01-20  UNEMPLOYMENT_BENEFITS  \n",
       "...            ...                    ...  \n",
       "508429  2021-08-16  UNEMPLOYMENT_BENEFITS  \n",
       "508432  2021-08-25  UNEMPLOYMENT_BENEFITS  \n",
       "508434  2021-08-30  UNEMPLOYMENT_BENEFITS  \n",
       "508435  2021-09-08  UNEMPLOYMENT_BENEFITS  \n",
       "508436  2021-09-13  UNEMPLOYMENT_BENEFITS  \n",
       "\n",
       "[1961 rows x 6 columns]"
      ]
     },
     "metadata": {},
     "output_type": "display_data"
    }
   ],
   "source": [
    "for memo, group in inflows_rel.groupby('memo'):\n",
    "    print(memo)\n",
    "    display(group)"
   ]
  },
  {
   "cell_type": "code",
   "execution_count": null,
   "id": "f5541447-8150-4c5e-9f98-4c44e511b7d0",
   "metadata": {},
   "outputs": [],
   "source": []
  },
  {
   "cell_type": "code",
   "execution_count": null,
   "id": "d56f1c06-d88b-43e4-b569-8301cd0babab",
   "metadata": {},
   "outputs": [],
   "source": []
  },
  {
   "cell_type": "code",
   "execution_count": null,
   "id": "90490ae1-c6aa-4be6-aabd-91c870c2abb2",
   "metadata": {},
   "outputs": [],
   "source": []
  },
  {
   "cell_type": "code",
   "execution_count": null,
   "id": "1029d1b4-43d4-4acf-a079-18f3e2d092dd",
   "metadata": {},
   "outputs": [],
   "source": []
  }
 ],
 "metadata": {
  "kernelspec": {
   "display_name": "Python 3 (ipykernel)",
   "language": "python",
   "name": "python3"
  },
  "language_info": {
   "codemirror_mode": {
    "name": "ipython",
    "version": 3
   },
   "file_extension": ".py",
   "mimetype": "text/x-python",
   "name": "python",
   "nbconvert_exporter": "python",
   "pygments_lexer": "ipython3",
   "version": "3.11.9"
  }
 },
 "nbformat": 4,
 "nbformat_minor": 5
}
