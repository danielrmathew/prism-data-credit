{
 "cells": [
  {
   "cell_type": "code",
   "execution_count": null,
   "id": "d5a25615-65ba-41ed-8783-36b46489d2c1",
   "metadata": {},
   "outputs": [],
   "source": [
    "# pip install tensorflow"
   ]
  },
  {
   "cell_type": "code",
   "execution_count": 2,
   "id": "5209f6cb-dda0-474f-bf3b-2f21b34b21ae",
   "metadata": {},
   "outputs": [],
   "source": [
    "import pandas as pd\n",
    "from sklearn.model_selection import train_test_split\n",
    "from sklearn.preprocessing import LabelEncoder\n",
    "import tensorflow as tf\n",
    "from tensorflow.keras.models import Sequential\n",
    "from tensorflow.keras.layers import Dense, Dropout\n",
    "from tensorflow.keras.utils import to_categorical"
   ]
  },
  {
   "cell_type": "code",
   "execution_count": 3,
   "id": "a6586408-cb42-4bae-acad-a4a00cf6fc3c",
   "metadata": {},
   "outputs": [
    {
     "data": {
      "text/html": [
       "<div>\n",
       "<style scoped>\n",
       "    .dataframe tbody tr th:only-of-type {\n",
       "        vertical-align: middle;\n",
       "    }\n",
       "\n",
       "    .dataframe tbody tr th {\n",
       "        vertical-align: top;\n",
       "    }\n",
       "\n",
       "    .dataframe thead th {\n",
       "        text-align: right;\n",
       "    }\n",
       "</style>\n",
       "<table border=\"1\" class=\"dataframe\">\n",
       "  <thead>\n",
       "    <tr style=\"text-align: right;\">\n",
       "      <th></th>\n",
       "      <th>prism_consumer_id</th>\n",
       "      <th>prism_account_id</th>\n",
       "      <th>memo</th>\n",
       "      <th>amount</th>\n",
       "      <th>posted_date</th>\n",
       "      <th>category</th>\n",
       "      <th>year</th>\n",
       "      <th>cleaned_memo</th>\n",
       "      <th>tfidf_21</th>\n",
       "      <th>tfidf_22</th>\n",
       "      <th>...</th>\n",
       "      <th>amount_odd</th>\n",
       "      <th>decile_1</th>\n",
       "      <th>decile_2</th>\n",
       "      <th>decile_3</th>\n",
       "      <th>decile_4</th>\n",
       "      <th>decile_5</th>\n",
       "      <th>decile_6</th>\n",
       "      <th>decile_7</th>\n",
       "      <th>decile_8</th>\n",
       "      <th>decile_9</th>\n",
       "    </tr>\n",
       "  </thead>\n",
       "  <tbody>\n",
       "    <tr>\n",
       "      <th>0</th>\n",
       "      <td>1603</td>\n",
       "      <td>acc_4444</td>\n",
       "      <td>VALLEY CENTER M. UTIL BILL XXXXXX XXXXXX 000 M...</td>\n",
       "      <td>277.21</td>\n",
       "      <td>2018-01-04</td>\n",
       "      <td>GENERAL_MERCHANDISE</td>\n",
       "      <td>2018</td>\n",
       "      <td>valley center m. util bill   000 magrath elle</td>\n",
       "      <td>0.0</td>\n",
       "      <td>0.0</td>\n",
       "      <td>...</td>\n",
       "      <td>1.0</td>\n",
       "      <td>0.0</td>\n",
       "      <td>0.0</td>\n",
       "      <td>0.0</td>\n",
       "      <td>0.0</td>\n",
       "      <td>0.0</td>\n",
       "      <td>0.0</td>\n",
       "      <td>0.0</td>\n",
       "      <td>0.0</td>\n",
       "      <td>1.0</td>\n",
       "    </tr>\n",
       "    <tr>\n",
       "      <th>1</th>\n",
       "      <td>1603</td>\n",
       "      <td>acc_4440</td>\n",
       "      <td>USPS PO XXXXXXXX XXXX ARN</td>\n",
       "      <td>291.20</td>\n",
       "      <td>2018-02-01</td>\n",
       "      <td>GENERAL_MERCHANDISE</td>\n",
       "      <td>2018</td>\n",
       "      <td>usps po   arn</td>\n",
       "      <td>0.0</td>\n",
       "      <td>0.0</td>\n",
       "      <td>...</td>\n",
       "      <td>1.0</td>\n",
       "      <td>0.0</td>\n",
       "      <td>0.0</td>\n",
       "      <td>0.0</td>\n",
       "      <td>0.0</td>\n",
       "      <td>0.0</td>\n",
       "      <td>0.0</td>\n",
       "      <td>0.0</td>\n",
       "      <td>0.0</td>\n",
       "      <td>1.0</td>\n",
       "    </tr>\n",
       "    <tr>\n",
       "      <th>2</th>\n",
       "      <td>1603</td>\n",
       "      <td>acc_4440</td>\n",
       "      <td>USPS PO XXXXXXXX XXXX ARN</td>\n",
       "      <td>6.70</td>\n",
       "      <td>2018-02-01</td>\n",
       "      <td>GENERAL_MERCHANDISE</td>\n",
       "      <td>2018</td>\n",
       "      <td>usps po   arn</td>\n",
       "      <td>0.0</td>\n",
       "      <td>0.0</td>\n",
       "      <td>...</td>\n",
       "      <td>1.0</td>\n",
       "      <td>1.0</td>\n",
       "      <td>0.0</td>\n",
       "      <td>0.0</td>\n",
       "      <td>0.0</td>\n",
       "      <td>0.0</td>\n",
       "      <td>0.0</td>\n",
       "      <td>0.0</td>\n",
       "      <td>0.0</td>\n",
       "      <td>0.0</td>\n",
       "    </tr>\n",
       "    <tr>\n",
       "      <th>3</th>\n",
       "      <td>1603</td>\n",
       "      <td>acc_4444</td>\n",
       "      <td>VALLEY CENTER M. UTIL BILL XXXXXX XXXXXX 000 M...</td>\n",
       "      <td>261.84</td>\n",
       "      <td>2018-02-06</td>\n",
       "      <td>GENERAL_MERCHANDISE</td>\n",
       "      <td>2018</td>\n",
       "      <td>valley center m. util bill   000 magrath elle</td>\n",
       "      <td>0.0</td>\n",
       "      <td>0.0</td>\n",
       "      <td>...</td>\n",
       "      <td>1.0</td>\n",
       "      <td>0.0</td>\n",
       "      <td>0.0</td>\n",
       "      <td>0.0</td>\n",
       "      <td>0.0</td>\n",
       "      <td>0.0</td>\n",
       "      <td>0.0</td>\n",
       "      <td>0.0</td>\n",
       "      <td>0.0</td>\n",
       "      <td>1.0</td>\n",
       "    </tr>\n",
       "    <tr>\n",
       "      <th>4</th>\n",
       "      <td>1603</td>\n",
       "      <td>acc_4444</td>\n",
       "      <td>SEARS PAYMENT PAYMENT XXXXXX XXXXXXXXXXXXXXX L...</td>\n",
       "      <td>79.00</td>\n",
       "      <td>2018-02-15</td>\n",
       "      <td>GENERAL_MERCHANDISE</td>\n",
       "      <td>2018</td>\n",
       "      <td>sears payment payment   lieschen magrath</td>\n",
       "      <td>0.0</td>\n",
       "      <td>0.0</td>\n",
       "      <td>...</td>\n",
       "      <td>0.0</td>\n",
       "      <td>0.0</td>\n",
       "      <td>0.0</td>\n",
       "      <td>0.0</td>\n",
       "      <td>0.0</td>\n",
       "      <td>0.0</td>\n",
       "      <td>0.0</td>\n",
       "      <td>0.0</td>\n",
       "      <td>1.0</td>\n",
       "      <td>0.0</td>\n",
       "    </tr>\n",
       "  </tbody>\n",
       "</table>\n",
       "<p>5 rows × 115 columns</p>\n",
       "</div>"
      ],
      "text/plain": [
       "   prism_consumer_id prism_account_id  \\\n",
       "0               1603         acc_4444   \n",
       "1               1603         acc_4440   \n",
       "2               1603         acc_4440   \n",
       "3               1603         acc_4444   \n",
       "4               1603         acc_4444   \n",
       "\n",
       "                                                memo  amount posted_date  \\\n",
       "0  VALLEY CENTER M. UTIL BILL XXXXXX XXXXXX 000 M...  277.21  2018-01-04   \n",
       "1                          USPS PO XXXXXXXX XXXX ARN  291.20  2018-02-01   \n",
       "2                          USPS PO XXXXXXXX XXXX ARN    6.70  2018-02-01   \n",
       "3  VALLEY CENTER M. UTIL BILL XXXXXX XXXXXX 000 M...  261.84  2018-02-06   \n",
       "4  SEARS PAYMENT PAYMENT XXXXXX XXXXXXXXXXXXXXX L...   79.00  2018-02-15   \n",
       "\n",
       "              category  year                                   cleaned_memo  \\\n",
       "0  GENERAL_MERCHANDISE  2018  valley center m. util bill   000 magrath elle   \n",
       "1  GENERAL_MERCHANDISE  2018                                  usps po   arn   \n",
       "2  GENERAL_MERCHANDISE  2018                                  usps po   arn   \n",
       "3  GENERAL_MERCHANDISE  2018  valley center m. util bill   000 magrath elle   \n",
       "4  GENERAL_MERCHANDISE  2018       sears payment payment   lieschen magrath   \n",
       "\n",
       "   tfidf_21  tfidf_22  ...  amount_odd  decile_1  decile_2  decile_3  \\\n",
       "0       0.0       0.0  ...         1.0       0.0       0.0       0.0   \n",
       "1       0.0       0.0  ...         1.0       0.0       0.0       0.0   \n",
       "2       0.0       0.0  ...         1.0       1.0       0.0       0.0   \n",
       "3       0.0       0.0  ...         1.0       0.0       0.0       0.0   \n",
       "4       0.0       0.0  ...         0.0       0.0       0.0       0.0   \n",
       "\n",
       "   decile_4  decile_5  decile_6  decile_7  decile_8  decile_9  \n",
       "0       0.0       0.0       0.0       0.0       0.0       1.0  \n",
       "1       0.0       0.0       0.0       0.0       0.0       1.0  \n",
       "2       0.0       0.0       0.0       0.0       0.0       0.0  \n",
       "3       0.0       0.0       0.0       0.0       0.0       1.0  \n",
       "4       0.0       0.0       0.0       0.0       1.0       0.0  \n",
       "\n",
       "[5 rows x 115 columns]"
      ]
     },
     "execution_count": 3,
     "metadata": {},
     "output_type": "execute_result"
    }
   ],
   "source": [
    "outflows = pd.read_csv('train_df.csv')\n",
    "outflows.head()"
   ]
  },
  {
   "cell_type": "code",
   "execution_count": 4,
   "id": "94ce083c-e785-4e78-be46-97e845582ba9",
   "metadata": {},
   "outputs": [
    {
     "data": {
      "text/plain": [
       "Index(['prism_consumer_id', 'prism_account_id', 'memo', 'amount',\n",
       "       'posted_date', 'category', 'year', 'cleaned_memo', 'tfidf_21',\n",
       "       'tfidf_22',\n",
       "       ...\n",
       "       'amount_odd', 'decile_1', 'decile_2', 'decile_3', 'decile_4',\n",
       "       'decile_5', 'decile_6', 'decile_7', 'decile_8', 'decile_9'],\n",
       "      dtype='object', length=115)"
      ]
     },
     "execution_count": 4,
     "metadata": {},
     "output_type": "execute_result"
    }
   ],
   "source": [
    "outflows.columns"
   ]
  },
  {
   "cell_type": "code",
   "execution_count": 5,
   "id": "4ff45951-5937-4b38-ab4d-ad83521bdb88",
   "metadata": {},
   "outputs": [],
   "source": [
    "X = outflows.iloc[:, 8:]\n",
    "y = outflows['category']"
   ]
  },
  {
   "cell_type": "code",
   "execution_count": 6,
   "id": "9db3192e-e9bb-4a84-8169-51e014de5177",
   "metadata": {},
   "outputs": [],
   "source": [
    "# Encode y\n",
    "label_encoder = LabelEncoder()\n",
    "y_encoded = label_encoder.fit_transform(y)\n",
    "y_categorical = to_categorical(y_encoded)"
   ]
  },
  {
   "cell_type": "code",
   "execution_count": 7,
   "id": "6a67cdd4-1d0e-4d98-b4fa-4503d7117577",
   "metadata": {},
   "outputs": [],
   "source": [
    "X_train, X_test, y_train, y_test = train_test_split(X, y_categorical, test_size=0.2, random_state=42)"
   ]
  },
  {
   "cell_type": "code",
   "execution_count": 8,
   "id": "552fc294-cdcd-4571-a734-f0dba76a7ba7",
   "metadata": {},
   "outputs": [],
   "source": [
    "# Reduce the number of features using PCA\n",
    "from sklearn.decomposition import PCA\n",
    "pca = PCA(n_components=50)  \n",
    "X_train = pca.fit_transform(X_train)\n",
    "X_test = pca.transform(X_test)"
   ]
  },
  {
   "cell_type": "code",
   "execution_count": 9,
   "id": "adb2a57b-574d-4729-9697-b740971798c5",
   "metadata": {},
   "outputs": [
    {
     "data": {
      "text/plain": [
       "20"
      ]
     },
     "execution_count": 9,
     "metadata": {},
     "output_type": "execute_result"
    }
   ],
   "source": [
    "# Clear memory before building the model\n",
    "import gc\n",
    "gc.collect()"
   ]
  },
  {
   "cell_type": "code",
   "execution_count": 9,
   "id": "049cfab8-0d3b-4a72-a22b-7142d396abca",
   "metadata": {},
   "outputs": [],
   "source": [
    "from tensorflow.keras.regularizers import l2"
   ]
  },
  {
   "cell_type": "code",
   "execution_count": 10,
   "id": "5372d0ab-4fcc-48aa-881f-61e80a1ede18",
   "metadata": {},
   "outputs": [],
   "source": [
    "from tensorflow.keras.callbacks import EarlyStopping\n",
    "early_stopping = EarlyStopping(monitor='val_loss', patience=5, restore_best_weights=True)"
   ]
  },
  {
   "cell_type": "code",
   "execution_count": 11,
   "id": "f121d7fc-95cb-4f52-abc1-e3531ff1f8b1",
   "metadata": {},
   "outputs": [],
   "source": [
    "# Define feedforward neural network \n",
    "model = Sequential([\n",
    "    Dense(16, activation='relu', input_shape=(X_train.shape[1],)), \n",
    "    Dense(y_train.shape[1], activation='softmax') \n",
    "])"
   ]
  },
  {
   "cell_type": "code",
   "execution_count": 14,
   "id": "b5756efd-fdbb-4911-9b04-8dfdeedc2c0c",
   "metadata": {},
   "outputs": [],
   "source": [
    "# Compile the model\n",
    "model.compile(optimizer='adam', loss='categorical_crossentropy', metrics=['accuracy'])"
   ]
  },
  {
   "cell_type": "code",
   "execution_count": 15,
   "id": "76a867ed-3765-44b3-9710-6f53b279b3b8",
   "metadata": {},
   "outputs": [
    {
     "name": "stdout",
     "output_type": "stream",
     "text": [
      "Epoch 1/10\n"
     ]
    },
    {
     "name": "stderr",
     "output_type": "stream",
     "text": [
      "2024-11-15 08:48:31.459763: I external/local_xla/xla/service/service.cc:168] XLA service 0x7efe9499aa10 initialized for platform CUDA (this does not guarantee that XLA will be used). Devices:\n",
      "2024-11-15 08:48:31.459792: I external/local_xla/xla/service/service.cc:176]   StreamExecutor device (0): NVIDIA GeForce GTX 1080 Ti, Compute Capability 6.1\n",
      "2024-11-15 08:48:31.459800: I external/local_xla/xla/service/service.cc:176]   StreamExecutor device (1): NVIDIA GeForce GTX 1080 Ti, Compute Capability 6.1\n",
      "2024-11-15 08:48:31.459806: I external/local_xla/xla/service/service.cc:176]   StreamExecutor device (2): NVIDIA GeForce GTX 1080 Ti, Compute Capability 6.1\n",
      "2024-11-15 08:48:31.459812: I external/local_xla/xla/service/service.cc:176]   StreamExecutor device (3): NVIDIA GeForce GTX 1080 Ti, Compute Capability 6.1\n",
      "2024-11-15 08:48:31.474226: I tensorflow/compiler/mlir/tensorflow/utils/dump_mlir_util.cc:269] disabling MLIR crash reproducer, set env var `MLIR_CRASH_REPRODUCER_DIRECTORY` to enable.\n",
      "2024-11-15 08:48:31.516752: I external/local_xla/xla/stream_executor/cuda/cuda_dnn.cc:454] Loaded cuDNN version 8902\n",
      "WARNING: All log messages before absl::InitializeLog() is called are written to STDERR\n",
      "I0000 00:00:1731689311.609718     731 device_compiler.h:186] Compiled cluster using XLA!  This line is logged at most once for the lifetime of the process.\n"
     ]
    },
    {
     "name": "stdout",
     "output_type": "stream",
     "text": [
      "32662/32662 [==============================] - 91s 3ms/step - loss: 1.0321 - accuracy: 0.5680 - val_loss: 1.0133 - val_accuracy: 0.5766\n",
      "Epoch 2/10\n",
      "32662/32662 [==============================] - 91s 3ms/step - loss: 0.9840 - accuracy: 0.5874 - val_loss: 0.9793 - val_accuracy: 0.5877\n",
      "Epoch 3/10\n",
      "32662/32662 [==============================] - 90s 3ms/step - loss: 0.9627 - accuracy: 0.5978 - val_loss: 0.9689 - val_accuracy: 0.5935\n",
      "Epoch 4/10\n",
      "32662/32662 [==============================] - 89s 3ms/step - loss: 0.9551 - accuracy: 0.6007 - val_loss: 0.9632 - val_accuracy: 0.5969\n",
      "Epoch 5/10\n",
      "32662/32662 [==============================] - 69s 2ms/step - loss: 0.9500 - accuracy: 0.6035 - val_loss: 0.9592 - val_accuracy: 0.5965\n",
      "Epoch 6/10\n",
      "32662/32662 [==============================] - 90s 3ms/step - loss: 0.9441 - accuracy: 0.6086 - val_loss: 0.9543 - val_accuracy: 0.6034\n",
      "Epoch 7/10\n",
      "32662/32662 [==============================] - 88s 3ms/step - loss: 0.9379 - accuracy: 0.6135 - val_loss: 0.9469 - val_accuracy: 0.6066\n",
      "Epoch 8/10\n",
      "32662/32662 [==============================] - 78s 2ms/step - loss: 0.9338 - accuracy: 0.6158 - val_loss: 0.9452 - val_accuracy: 0.6062\n",
      "Epoch 9/10\n",
      "32662/32662 [==============================] - 75s 2ms/step - loss: 0.9307 - accuracy: 0.6172 - val_loss: 0.9416 - val_accuracy: 0.6098\n",
      "Epoch 10/10\n",
      "32662/32662 [==============================] - 69s 2ms/step - loss: 0.9282 - accuracy: 0.6182 - val_loss: 0.9402 - val_accuracy: 0.6102\n"
     ]
    }
   ],
   "source": [
    "# Train the model\n",
    "history = model.fit(\n",
    "    X_train, y_train, \n",
    "    validation_data=(X_test, y_test), \n",
    "    epochs=10,  \n",
    "    batch_size=32 \n",
    ")"
   ]
  },
  {
   "cell_type": "code",
   "execution_count": 17,
   "id": "e082b11f-fb41-4ed9-849d-3b4d8ac10ed0",
   "metadata": {},
   "outputs": [
    {
     "name": "stdout",
     "output_type": "stream",
     "text": [
      "8166/8166 [==============================] - 9s 1ms/step - loss: 0.9402 - accuracy: 0.6102\n",
      "Test accuracy: 0.61\n"
     ]
    }
   ],
   "source": [
    "# Evaluate the model\n",
    "test_loss, test_accuracy = model.evaluate(X_test, y_test)\n",
    "print(f\"Test accuracy: {test_accuracy:.2f}\")"
   ]
  },
  {
   "cell_type": "code",
   "execution_count": 28,
   "id": "b55c5c60-0068-43c6-ac2b-347437f95cbb",
   "metadata": {},
   "outputs": [],
   "source": [
    "model1 = Sequential([\n",
    "    Dense(128, activation='relu', input_shape=(X_train.shape[1],)),\n",
    "    Dropout(0.4), #randomly disables neurons & reduces co-dependency to generalize better to unseen data\n",
    "    Dense(64, activation='relu'),\n",
    "    Dropout(0.4),\n",
    "    Dense(32, activation='relu'),\n",
    "    Dropout(0.3),\n",
    "    Dense(y_categorical.shape[1], activation='softmax')\n",
    "])"
   ]
  },
  {
   "cell_type": "code",
   "execution_count": 29,
   "id": "9d8dc56e-35f4-4768-a333-d66bc3c5a643",
   "metadata": {},
   "outputs": [],
   "source": [
    "# Compile model\n",
    "model1.compile(optimizer='adam', loss='categorical_crossentropy', metrics=['accuracy'])"
   ]
  },
  {
   "cell_type": "code",
   "execution_count": 30,
   "id": "959bcdbc-28d8-45f8-881e-4911c6a9e91b",
   "metadata": {},
   "outputs": [
    {
     "name": "stdout",
     "output_type": "stream",
     "text": [
      "Epoch 1/5\n",
      "32662/32662 [==============================] - 146s 4ms/step - loss: 0.9883 - accuracy: 0.5888 - val_loss: 0.9212 - val_accuracy: 0.6143\n",
      "Epoch 2/5\n",
      "32662/32662 [==============================] - 144s 4ms/step - loss: 0.9280 - accuracy: 0.6187 - val_loss: 0.8995 - val_accuracy: 0.6320\n",
      "Epoch 3/5\n",
      "32662/32662 [==============================] - 141s 4ms/step - loss: 0.9127 - accuracy: 0.6285 - val_loss: 0.8878 - val_accuracy: 0.6385\n",
      "Epoch 4/5\n",
      "32662/32662 [==============================] - 153s 5ms/step - loss: 0.9044 - accuracy: 0.6324 - val_loss: 0.8862 - val_accuracy: 0.6381\n",
      "Epoch 5/5\n",
      "32662/32662 [==============================] - 143s 4ms/step - loss: 0.8983 - accuracy: 0.6359 - val_loss: 0.8774 - val_accuracy: 0.6423\n"
     ]
    }
   ],
   "source": [
    "# Train the model\n",
    "history = model1.fit(\n",
    "    X_train, y_train,\n",
    "    epochs=5,\n",
    "    batch_size=32,\n",
    "    validation_data=(X_test, y_test),\n",
    "    callbacks=[early_stopping]\n",
    ")"
   ]
  },
  {
   "cell_type": "code",
   "execution_count": 19,
   "id": "b41ac286-a9c0-4a3e-a059-bda9745d9a10",
   "metadata": {},
   "outputs": [],
   "source": [
    "model = Sequential([\n",
    "    Dense(128, activation='relu', input_shape=(X_train.shape[1],), kernel_regularizer=l2(0.001)),\n",
    "    Dropout(0.4),\n",
    "    Dense(64, activation='relu', kernel_regularizer=l2(0.001)),\n",
    "    Dropout(0.4),\n",
    "    Dense(32, activation='relu', kernel_regularizer=l2(0.001)),\n",
    "    Dropout(0.3),\n",
    "    Dense(y_categorical.shape[1], activation='softmax')\n",
    "])"
   ]
  },
  {
   "cell_type": "code",
   "execution_count": 21,
   "id": "3b3f8203-60ec-482a-9db8-b11b8beb7ade",
   "metadata": {},
   "outputs": [],
   "source": [
    "# Compile model\n",
    "model.compile(optimizer='adam', loss='categorical_crossentropy', metrics=['accuracy'])"
   ]
  },
  {
   "cell_type": "code",
   "execution_count": 23,
   "id": "fa92f4e5-9032-458a-9ad6-970389c6fe29",
   "metadata": {},
   "outputs": [
    {
     "name": "stdout",
     "output_type": "stream",
     "text": [
      "Epoch 1/5\n",
      "32662/32662 [==============================] - 150s 5ms/step - loss: 1.0691 - accuracy: 0.5765 - val_loss: 1.0347 - val_accuracy: 0.5903\n",
      "Epoch 2/5\n",
      "32662/32662 [==============================] - 154s 5ms/step - loss: 1.0371 - accuracy: 0.5886 - val_loss: 1.0180 - val_accuracy: 0.5946\n",
      "Epoch 3/5\n",
      "32662/32662 [==============================] - 150s 5ms/step - loss: 1.0281 - accuracy: 0.5904 - val_loss: 1.0066 - val_accuracy: 0.5967\n",
      "Epoch 4/5\n",
      "32662/32662 [==============================] - 153s 5ms/step - loss: 1.0251 - accuracy: 0.5907 - val_loss: 1.0128 - val_accuracy: 0.5934\n",
      "Epoch 5/5\n",
      "32662/32662 [==============================] - 147s 4ms/step - loss: 1.0240 - accuracy: 0.5910 - val_loss: 1.0173 - val_accuracy: 0.5938\n"
     ]
    }
   ],
   "source": [
    "# Train the model\n",
    "history = model.fit(\n",
    "    X_train, y_train,\n",
    "    epochs=5,\n",
    "    batch_size=32,\n",
    "    validation_data=(X_test, y_test),\n",
    "    callbacks=[early_stopping]\n",
    ")"
   ]
  },
  {
   "cell_type": "code",
   "execution_count": 15,
   "id": "07ca3cdf-8704-4351-b3a7-1524f916128e",
   "metadata": {},
   "outputs": [],
   "source": [
    "from tensorflow.keras.callbacks import EarlyStopping, LearningRateScheduler\n",
    "from tensorflow.keras.layers import BatchNormalization"
   ]
  },
  {
   "cell_type": "code",
   "execution_count": 16,
   "id": "3557e469-c7f3-4f81-bfbc-835fd3b4f594",
   "metadata": {},
   "outputs": [],
   "source": [
    "from tensorflow.keras.optimizers import Adam"
   ]
  },
  {
   "cell_type": "code",
   "execution_count": 57,
   "id": "55ac80fe-14f7-473e-bebe-aea90da1269f",
   "metadata": {},
   "outputs": [],
   "source": [
    "# # Learning rate scheduler and early stopping callback\n",
    "\n",
    "# def lr_schedule(epoch, lr):\n",
    "#     if epoch < 10:\n",
    "#         return lr\n",
    "#     elif epoch < 20:\n",
    "#         return lr * 0.1\n",
    "#     else:\n",
    "#         return lr * 0.01\n",
    "        \n",
    "# lr_scheduler = LearningRateScheduler(lr_schedule)"
   ]
  },
  {
   "cell_type": "code",
   "execution_count": 11,
   "id": "5b58e7d7-11d7-4013-92e0-a6f01e552e39",
   "metadata": {},
   "outputs": [
    {
     "name": "stdout",
     "output_type": "stream",
     "text": [
      "WARNING:tensorflow:Mixed precision compatibility check (mixed_float16): WARNING\n",
      "Your GPUs may run slowly with dtype policy mixed_float16 because they do not have compute capability of at least 7.0. Your GPUs:\n",
      "  NVIDIA GeForce GTX 1080 Ti, compute capability 6.1 (x4)\n",
      "See https://developer.nvidia.com/cuda-gpus for a list of GPUs and their compute capabilities.\n",
      "If you will use compatible GPU(s) not attached to this host, e.g. by running a multi-worker model, you can ignore this warning. This message will only be logged once\n"
     ]
    },
    {
     "name": "stderr",
     "output_type": "stream",
     "text": [
      "2024-11-15 09:53:19.507400: I external/local_xla/xla/stream_executor/cuda/cuda_executor.cc:901] successful NUMA node read from SysFS had negative value (-1), but there must be at least one NUMA node, so returning NUMA node zero. See more at https://github.com/torvalds/linux/blob/v6.0/Documentation/ABI/testing/sysfs-bus-pci#L344-L355\n",
      "2024-11-15 09:53:19.507994: I external/local_xla/xla/stream_executor/cuda/cuda_executor.cc:901] successful NUMA node read from SysFS had negative value (-1), but there must be at least one NUMA node, so returning NUMA node zero. See more at https://github.com/torvalds/linux/blob/v6.0/Documentation/ABI/testing/sysfs-bus-pci#L344-L355\n",
      "2024-11-15 09:53:19.508558: I external/local_xla/xla/stream_executor/cuda/cuda_executor.cc:901] successful NUMA node read from SysFS had negative value (-1), but there must be at least one NUMA node, so returning NUMA node zero. See more at https://github.com/torvalds/linux/blob/v6.0/Documentation/ABI/testing/sysfs-bus-pci#L344-L355\n",
      "2024-11-15 09:53:19.509104: I external/local_xla/xla/stream_executor/cuda/cuda_executor.cc:901] successful NUMA node read from SysFS had negative value (-1), but there must be at least one NUMA node, so returning NUMA node zero. See more at https://github.com/torvalds/linux/blob/v6.0/Documentation/ABI/testing/sysfs-bus-pci#L344-L355\n",
      "2024-11-15 09:53:19.517087: I external/local_xla/xla/stream_executor/cuda/cuda_executor.cc:901] successful NUMA node read from SysFS had negative value (-1), but there must be at least one NUMA node, so returning NUMA node zero. See more at https://github.com/torvalds/linux/blob/v6.0/Documentation/ABI/testing/sysfs-bus-pci#L344-L355\n",
      "2024-11-15 09:53:19.517648: I external/local_xla/xla/stream_executor/cuda/cuda_executor.cc:901] successful NUMA node read from SysFS had negative value (-1), but there must be at least one NUMA node, so returning NUMA node zero. See more at https://github.com/torvalds/linux/blob/v6.0/Documentation/ABI/testing/sysfs-bus-pci#L344-L355\n",
      "2024-11-15 09:53:19.518188: I external/local_xla/xla/stream_executor/cuda/cuda_executor.cc:901] successful NUMA node read from SysFS had negative value (-1), but there must be at least one NUMA node, so returning NUMA node zero. See more at https://github.com/torvalds/linux/blob/v6.0/Documentation/ABI/testing/sysfs-bus-pci#L344-L355\n",
      "2024-11-15 09:53:19.518725: I external/local_xla/xla/stream_executor/cuda/cuda_executor.cc:901] successful NUMA node read from SysFS had negative value (-1), but there must be at least one NUMA node, so returning NUMA node zero. See more at https://github.com/torvalds/linux/blob/v6.0/Documentation/ABI/testing/sysfs-bus-pci#L344-L355\n",
      "2024-11-15 09:53:19.519259: I external/local_xla/xla/stream_executor/cuda/cuda_executor.cc:901] successful NUMA node read from SysFS had negative value (-1), but there must be at least one NUMA node, so returning NUMA node zero. See more at https://github.com/torvalds/linux/blob/v6.0/Documentation/ABI/testing/sysfs-bus-pci#L344-L355\n",
      "2024-11-15 09:53:19.519788: I external/local_xla/xla/stream_executor/cuda/cuda_executor.cc:901] successful NUMA node read from SysFS had negative value (-1), but there must be at least one NUMA node, so returning NUMA node zero. See more at https://github.com/torvalds/linux/blob/v6.0/Documentation/ABI/testing/sysfs-bus-pci#L344-L355\n",
      "2024-11-15 09:53:19.520332: I external/local_xla/xla/stream_executor/cuda/cuda_executor.cc:901] successful NUMA node read from SysFS had negative value (-1), but there must be at least one NUMA node, so returning NUMA node zero. See more at https://github.com/torvalds/linux/blob/v6.0/Documentation/ABI/testing/sysfs-bus-pci#L344-L355\n",
      "2024-11-15 09:53:19.520866: I external/local_xla/xla/stream_executor/cuda/cuda_executor.cc:901] successful NUMA node read from SysFS had negative value (-1), but there must be at least one NUMA node, so returning NUMA node zero. See more at https://github.com/torvalds/linux/blob/v6.0/Documentation/ABI/testing/sysfs-bus-pci#L344-L355\n",
      "2024-11-15 09:53:19.521652: I external/local_xla/xla/stream_executor/cuda/cuda_executor.cc:901] successful NUMA node read from SysFS had negative value (-1), but there must be at least one NUMA node, so returning NUMA node zero. See more at https://github.com/torvalds/linux/blob/v6.0/Documentation/ABI/testing/sysfs-bus-pci#L344-L355\n",
      "2024-11-15 09:53:19.522208: I external/local_xla/xla/stream_executor/cuda/cuda_executor.cc:901] successful NUMA node read from SysFS had negative value (-1), but there must be at least one NUMA node, so returning NUMA node zero. See more at https://github.com/torvalds/linux/blob/v6.0/Documentation/ABI/testing/sysfs-bus-pci#L344-L355\n",
      "2024-11-15 09:53:19.522753: I external/local_xla/xla/stream_executor/cuda/cuda_executor.cc:901] successful NUMA node read from SysFS had negative value (-1), but there must be at least one NUMA node, so returning NUMA node zero. See more at https://github.com/torvalds/linux/blob/v6.0/Documentation/ABI/testing/sysfs-bus-pci#L344-L355\n",
      "2024-11-15 09:53:19.523296: I external/local_xla/xla/stream_executor/cuda/cuda_executor.cc:901] successful NUMA node read from SysFS had negative value (-1), but there must be at least one NUMA node, so returning NUMA node zero. See more at https://github.com/torvalds/linux/blob/v6.0/Documentation/ABI/testing/sysfs-bus-pci#L344-L355\n"
     ]
    }
   ],
   "source": [
    "from tensorflow.keras.mixed_precision import set_global_policy\n",
    "set_global_policy('mixed_float16')"
   ]
  },
  {
   "cell_type": "code",
   "execution_count": 12,
   "id": "06370f38-f53b-40da-ae83-f4cece50ff05",
   "metadata": {},
   "outputs": [],
   "source": [
    "from sklearn.preprocessing import StandardScaler\n",
    "\n",
    "scaler = StandardScaler()\n",
    "X_train = scaler.fit_transform(X_train)\n",
    "X_test = scaler.transform(X_test)"
   ]
  },
  {
   "cell_type": "code",
   "execution_count": 74,
   "id": "572edea7-4b1f-4d2b-9b40-bf02cc22950e",
   "metadata": {},
   "outputs": [
    {
     "name": "stdout",
     "output_type": "stream",
     "text": [
      "Epoch 1/20\n",
      "8166/8166 [==============================] - 57s 7ms/step - loss: 0.9382 - accuracy: 0.6122 - val_loss: 0.8965 - val_accuracy: 0.6321\n",
      "Epoch 2/20\n",
      "8166/8166 [==============================] - 57s 7ms/step - loss: 0.8600 - accuracy: 0.6522 - val_loss: 0.8632 - val_accuracy: 0.6474\n",
      "Epoch 3/20\n",
      "8166/8166 [==============================] - 57s 7ms/step - loss: 0.8341 - accuracy: 0.6651 - val_loss: 0.8518 - val_accuracy: 0.6549\n",
      "Epoch 4/20\n",
      "8166/8166 [==============================] - 57s 7ms/step - loss: 0.8213 - accuracy: 0.6705 - val_loss: 0.8404 - val_accuracy: 0.6579\n",
      "Epoch 5/20\n",
      "8166/8166 [==============================] - 53s 6ms/step - loss: 0.8137 - accuracy: 0.6737 - val_loss: 0.8357 - val_accuracy: 0.6596\n",
      "Epoch 6/20\n",
      "8166/8166 [==============================] - 56s 7ms/step - loss: 0.8076 - accuracy: 0.6766 - val_loss: 0.8285 - val_accuracy: 0.6634\n",
      "Epoch 7/20\n",
      "8166/8166 [==============================] - 60s 7ms/step - loss: 0.8030 - accuracy: 0.6781 - val_loss: 0.8289 - val_accuracy: 0.6620\n",
      "Epoch 8/20\n",
      "8166/8166 [==============================] - 59s 7ms/step - loss: 0.7993 - accuracy: 0.6796 - val_loss: 0.8402 - val_accuracy: 0.6567\n",
      "Epoch 9/20\n",
      "8166/8166 [==============================] - 62s 8ms/step - loss: 0.7962 - accuracy: 0.6811 - val_loss: 0.8221 - val_accuracy: 0.6675\n",
      "Epoch 10/20\n",
      "8166/8166 [==============================] - 60s 7ms/step - loss: 0.7935 - accuracy: 0.6823 - val_loss: 0.8254 - val_accuracy: 0.6623\n",
      "Epoch 11/20\n",
      "8166/8166 [==============================] - 59s 7ms/step - loss: 0.7908 - accuracy: 0.6834 - val_loss: 0.8149 - val_accuracy: 0.6696\n",
      "Epoch 12/20\n",
      "8166/8166 [==============================] - 57s 7ms/step - loss: 0.7889 - accuracy: 0.6842 - val_loss: 0.8219 - val_accuracy: 0.6661\n",
      "Epoch 13/20\n",
      "8166/8166 [==============================] - 60s 7ms/step - loss: 0.7867 - accuracy: 0.6850 - val_loss: 0.8205 - val_accuracy: 0.6661\n",
      "Epoch 14/20\n",
      "8166/8166 [==============================] - 60s 7ms/step - loss: 0.7851 - accuracy: 0.6859 - val_loss: 0.8199 - val_accuracy: 0.6661\n",
      "Epoch 15/20\n",
      "8166/8166 [==============================] - 56s 7ms/step - loss: 0.7835 - accuracy: 0.6865 - val_loss: 0.8132 - val_accuracy: 0.6711\n",
      "Epoch 16/20\n",
      "8166/8166 [==============================] - 54s 7ms/step - loss: 0.7823 - accuracy: 0.6867 - val_loss: 0.8095 - val_accuracy: 0.6720\n",
      "Epoch 17/20\n",
      "8166/8166 [==============================] - 53s 6ms/step - loss: 0.7809 - accuracy: 0.6875 - val_loss: 0.8096 - val_accuracy: 0.6727\n",
      "Epoch 18/20\n",
      "8166/8166 [==============================] - 54s 7ms/step - loss: 0.7794 - accuracy: 0.6879 - val_loss: 0.8098 - val_accuracy: 0.6694\n",
      "Epoch 19/20\n",
      "8166/8166 [==============================] - 63s 8ms/step - loss: 0.7783 - accuracy: 0.6888 - val_loss: 0.8148 - val_accuracy: 0.6676\n",
      "Epoch 20/20\n",
      "8166/8166 [==============================] - 62s 8ms/step - loss: 0.7768 - accuracy: 0.6893 - val_loss: 0.8287 - val_accuracy: 0.6642\n"
     ]
    }
   ],
   "source": [
    "from tensorflow.keras.layers import LeakyReLU\n",
    "\n",
    "model = Sequential([\n",
    "    Dense(128, input_shape=(X_train.shape[1],)),\n",
    "    BatchNormalization(),\n",
    "    Dense(128, activation='tanh'),\n",
    "    Dense(64),\n",
    "    BatchNormalization(),\n",
    "    Dense(64, activation='tanh'),\n",
    "    Dense(y_train.shape[1], activation='softmax')\n",
    "])\n",
    "model.compile(optimizer=\"adam\", loss='categorical_crossentropy', metrics=['accuracy'])\n",
    "early_stopping = EarlyStopping(monitor='val_loss', patience=5, restore_best_weights=True)\n",
    "# Train model with larger batch size and mixed precision\n",
    "history = model.fit(\n",
    "    X_train, y_train,\n",
    "    validation_data=(X_test, y_test),\n",
    "    epochs=20,\n",
    "    batch_size=128,\n",
    "    callbacks=[early_stopping]\n",
    ")"
   ]
  },
  {
   "cell_type": "code",
   "execution_count": 25,
   "id": "3afb5457-1804-48a2-b29c-a9040544a309",
   "metadata": {},
   "outputs": [],
   "source": [
    "#using residual connections\n",
    "from tensorflow.keras.layers import Add, Input\n",
    "from tensorflow.keras.models import Model\n",
    "\n",
    "input_layer = Input(shape=(X_train.shape[1],))\n",
    "x = Dense(64, activation='relu')(input_layer)\n",
    "x = BatchNormalization()(x)\n",
    "x = Dense(64, activation='relu')(x)\n",
    "x = BatchNormalization()(x)\n",
    "residual = Dense(64)(input_layer)  # Skip connection, allows the output of a previous layer to bypass intermediate layers\n",
    "x = Add()([x, residual])\n",
    "x = Dense(32, activation='relu')(x)\n",
    "output = Dense(y_train.shape[1], activation='softmax')(x)\n",
    "\n",
    "model = Model(inputs=input_layer, outputs=output)\n",
    "model.compile(optimizer=\"adam\", loss='categorical_crossentropy', metrics=['accuracy'])"
   ]
  },
  {
   "cell_type": "code",
   "execution_count": 26,
   "id": "e61db1b1-5b29-4f80-9f0f-c468e43a5cdb",
   "metadata": {},
   "outputs": [
    {
     "name": "stdout",
     "output_type": "stream",
     "text": [
      "Epoch 1/5\n",
      "8166/8166 [==============================] - 277s 34ms/step - loss: 0.7413 - accuracy: 0.7106 - val_loss: 0.7129 - val_accuracy: 0.7185\n",
      "Epoch 2/5\n",
      "8166/8166 [==============================] - 265s 32ms/step - loss: 0.7065 - accuracy: 0.7208 - val_loss: 0.7022 - val_accuracy: 0.7219\n",
      "Epoch 3/5\n",
      "8166/8166 [==============================] - 263s 32ms/step - loss: 0.6987 - accuracy: 0.7235 - val_loss: 0.6980 - val_accuracy: 0.7235\n",
      "Epoch 4/5\n",
      "8166/8166 [==============================] - 261s 32ms/step - loss: 0.6944 - accuracy: 0.7250 - val_loss: 0.6973 - val_accuracy: 0.7241\n",
      "Epoch 5/5\n",
      "8166/8166 [==============================] - 261s 32ms/step - loss: 0.6917 - accuracy: 0.7256 - val_loss: 0.6938 - val_accuracy: 0.7251\n"
     ]
    }
   ],
   "source": [
    "history = model.fit(\n",
    "    X_train, y_train,\n",
    "    validation_data=(X_test, y_test),\n",
    "    epochs=5,\n",
    "    batch_size=128,\n",
    "    callbacks=[early_stopping]\n",
    ")"
   ]
  },
  {
   "cell_type": "code",
   "execution_count": 25,
   "id": "e367d210-e9f6-4f8e-b0ca-f7f6d0fd2e0b",
   "metadata": {},
   "outputs": [],
   "source": [
    "# from tensorflow.python.client import device_lib\n",
    "# print(device_lib.list_local_devices())"
   ]
  },
  {
   "cell_type": "code",
   "execution_count": 22,
   "id": "505869f3-14ba-49d8-a883-69385210c2c2",
   "metadata": {},
   "outputs": [],
   "source": [
    "#using residual connections\n",
    "from tensorflow.keras.layers import Add, Input\n",
    "from tensorflow.keras.models import Model\n",
    "\n",
    "input_layer = Input(shape=(X_train.shape[1],))\n",
    "x = Dense(64, activation='relu')(input_layer)\n",
    "x = BatchNormalization()(x)\n",
    "x = Dense(64, activation='relu')(x)\n",
    "x = BatchNormalization()(x)\n",
    "residual = Dense(64)(input_layer)  # Skip connection, allows the output of a previous layer to bypass intermediate layers\n",
    "x = Add()([x, residual])\n",
    "x = Dense(32, activation='relu')(x)\n",
    "output = Dense(y_train.shape[1], activation='softmax')(x)\n",
    "\n",
    "model = Model(inputs=input_layer, outputs=output)\n",
    "model.compile(optimizer=\"adam\", loss='categorical_crossentropy', metrics=['accuracy'])"
   ]
  },
  {
   "cell_type": "code",
   "execution_count": 23,
   "id": "f0609cf3-f70f-4fcd-9e10-922884202895",
   "metadata": {
    "scrolled": true
   },
   "outputs": [
    {
     "name": "stdout",
     "output_type": "stream",
     "text": [
      "Epoch 1/5\n",
      "8166/8166 [==============================] - 53s 6ms/step - loss: 0.9537 - accuracy: 0.6043 - val_loss: 0.9076 - val_accuracy: 0.6282 - lr: 0.0010\n",
      "Epoch 2/5\n",
      "8166/8166 [==============================] - 51s 6ms/step - loss: 0.8636 - accuracy: 0.6509 - val_loss: 0.8655 - val_accuracy: 0.6489 - lr: 0.0010\n",
      "Epoch 3/5\n",
      "8166/8166 [==============================] - 51s 6ms/step - loss: 0.8334 - accuracy: 0.6652 - val_loss: 0.8473 - val_accuracy: 0.6570 - lr: 0.0010\n",
      "Epoch 4/5\n",
      "8166/8166 [==============================] - 51s 6ms/step - loss: 0.8174 - accuracy: 0.6727 - val_loss: 0.8356 - val_accuracy: 0.6637 - lr: 0.0010\n",
      "Epoch 5/5\n",
      "8166/8166 [==============================] - 51s 6ms/step - loss: 0.8050 - accuracy: 0.6781 - val_loss: 0.8209 - val_accuracy: 0.6714 - lr: 0.0010\n"
     ]
    }
   ],
   "source": [
    "from tensorflow.keras.callbacks import ReduceLROnPlateau\n",
    "\n",
    "lr_scheduler = ReduceLROnPlateau(monitor='val_loss', factor=0.5, patience=3, min_lr=1e-6)\n",
    "history = model.fit(\n",
    "    X_train, y_train,\n",
    "    validation_data=(X_test, y_test),\n",
    "    epochs=5,\n",
    "    batch_size=128,\n",
    "    callbacks=[early_stopping, lr_scheduler]\n",
    ")"
   ]
  },
  {
   "cell_type": "code",
   "execution_count": 24,
   "id": "f1836668-50f0-4f09-99a0-5060ee51094c",
   "metadata": {},
   "outputs": [
    {
     "name": "stdout",
     "output_type": "stream",
     "text": [
      "8166/8166 [==============================] - 20s 2ms/step - loss: 0.8209 - accuracy: 0.6714\n",
      "Test accuracy: 0.67\n"
     ]
    }
   ],
   "source": [
    "# Evaluate the model\n",
    "test_loss, test_accuracy = model.evaluate(X_test, y_test)\n",
    "print(f\"Test accuracy: {test_accuracy:.2f}\")"
   ]
  },
  {
   "cell_type": "code",
   "execution_count": null,
   "id": "b1f126a5-52d1-4030-b7bb-db0e48828215",
   "metadata": {},
   "outputs": [],
   "source": []
  }
 ],
 "metadata": {
  "kernelspec": {
   "display_name": "Python 3 (ipykernel)",
   "language": "python",
   "name": "python3"
  },
  "language_info": {
   "codemirror_mode": {
    "name": "ipython",
    "version": 3
   },
   "file_extension": ".py",
   "mimetype": "text/x-python",
   "name": "python",
   "nbconvert_exporter": "python",
   "pygments_lexer": "ipython3",
   "version": "3.11.9"
  }
 },
 "nbformat": 4,
 "nbformat_minor": 5
}
