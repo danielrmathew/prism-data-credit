{
 "cells": [
  {
   "cell_type": "code",
   "execution_count": 1,
   "id": "174d0c66-0776-40df-bf46-8fa40d31d2eb",
   "metadata": {},
   "outputs": [],
   "source": [
    "import pandas as pd\n",
    "pd.options.display.float_format = '{:,.4f}'.format\n",
    "import numpy as np\n",
    "import matplotlib.pyplot as plt\n",
    "import re\n",
    "from sklearn.feature_extraction.text import TfidfVectorizer\n",
    "from sklearn.preprocessing import OneHotEncoder\n",
    "from sklearn.metrics import confusion_matrix\n",
    "import seaborn as sns\n",
    "import time"
   ]
  },
  {
   "cell_type": "code",
   "execution_count": 2,
   "id": "eb83541d-26f5-40b4-9b25-fcc9121ec9c1",
   "metadata": {},
   "outputs": [
    {
     "name": "stderr",
     "output_type": "stream",
     "text": [
      "2024-11-17 13:10:59.071520: E external/local_xla/xla/stream_executor/cuda/cuda_dnn.cc:9261] Unable to register cuDNN factory: Attempting to register factory for plugin cuDNN when one has already been registered\n",
      "2024-11-17 13:10:59.071543: E external/local_xla/xla/stream_executor/cuda/cuda_fft.cc:607] Unable to register cuFFT factory: Attempting to register factory for plugin cuFFT when one has already been registered\n",
      "2024-11-17 13:10:59.072671: E external/local_xla/xla/stream_executor/cuda/cuda_blas.cc:1515] Unable to register cuBLAS factory: Attempting to register factory for plugin cuBLAS when one has already been registered\n",
      "2024-11-17 13:10:59.078453: I tensorflow/core/platform/cpu_feature_guard.cc:182] This TensorFlow binary is optimized to use available CPU instructions in performance-critical operations.\n",
      "To enable the following instructions: AVX2 FMA, in other operations, rebuild TensorFlow with the appropriate compiler flags.\n"
     ]
    }
   ],
   "source": [
    "import tensorflow as tf"
   ]
  },
  {
   "cell_type": "code",
   "execution_count": 3,
   "id": "f60289a4-9788-469a-ac01-31b7714e8f91",
   "metadata": {},
   "outputs": [],
   "source": [
    "# !pip install tensorflow"
   ]
  },
  {
   "cell_type": "code",
   "execution_count": 4,
   "id": "4b48bdd9-f5cd-4991-adc6-2d7a2ef6af4f",
   "metadata": {},
   "outputs": [
    {
     "name": "stderr",
     "output_type": "stream",
     "text": [
      "2024-11-17 13:11:00.558819: I external/local_xla/xla/stream_executor/cuda/cuda_executor.cc:901] successful NUMA node read from SysFS had negative value (-1), but there must be at least one NUMA node, so returning NUMA node zero. See more at https://github.com/torvalds/linux/blob/v6.0/Documentation/ABI/testing/sysfs-bus-pci#L344-L355\n",
      "2024-11-17 13:11:00.568060: I external/local_xla/xla/stream_executor/cuda/cuda_executor.cc:901] successful NUMA node read from SysFS had negative value (-1), but there must be at least one NUMA node, so returning NUMA node zero. See more at https://github.com/torvalds/linux/blob/v6.0/Documentation/ABI/testing/sysfs-bus-pci#L344-L355\n",
      "2024-11-17 13:11:00.570485: I external/local_xla/xla/stream_executor/cuda/cuda_executor.cc:901] successful NUMA node read from SysFS had negative value (-1), but there must be at least one NUMA node, so returning NUMA node zero. See more at https://github.com/torvalds/linux/blob/v6.0/Documentation/ABI/testing/sysfs-bus-pci#L344-L355\n"
     ]
    },
    {
     "name": "stdout",
     "output_type": "stream",
     "text": [
      "Num GPUs Available:  1\n",
      "CUDA available: True\n"
     ]
    },
    {
     "ename": "DeferredCudaCallError",
     "evalue": "CUDA call failed lazily at initialization with error: device >= 0 && device < num_gpus INTERNAL ASSERT FAILED at \"../aten/src/ATen/cuda/CUDAContext.cpp\":50, please report a bug to PyTorch. device=1, num_gpus=\u0001\n\nCUDA call was originally invoked at:\n\n  File \"<frozen runpy>\", line 198, in _run_module_as_main\n  File \"<frozen runpy>\", line 88, in _run_code\n  File \"/opt/conda/lib/python3.11/site-packages/ipykernel_launcher.py\", line 18, in <module>\n    app.launch_new_instance()\n  File \"/opt/conda/lib/python3.11/site-packages/traitlets/config/application.py\", line 1075, in launch_instance\n    app.start()\n  File \"/opt/conda/lib/python3.11/site-packages/ipykernel/kernelapp.py\", line 739, in start\n    self.io_loop.start()\n  File \"/opt/conda/lib/python3.11/site-packages/tornado/platform/asyncio.py\", line 205, in start\n    self.asyncio_loop.run_forever()\n  File \"/opt/conda/lib/python3.11/asyncio/base_events.py\", line 608, in run_forever\n    self._run_once()\n  File \"/opt/conda/lib/python3.11/asyncio/base_events.py\", line 1936, in _run_once\n    handle._run()\n  File \"/opt/conda/lib/python3.11/asyncio/events.py\", line 84, in _run\n    self._context.run(self._callback, *self._args)\n  File \"/opt/conda/lib/python3.11/site-packages/ipykernel/kernelbase.py\", line 545, in dispatch_queue\n    await self.process_one()\n  File \"/opt/conda/lib/python3.11/site-packages/ipykernel/kernelbase.py\", line 534, in process_one\n    await dispatch(*args)\n  File \"/opt/conda/lib/python3.11/site-packages/ipykernel/kernelbase.py\", line 437, in dispatch_shell\n    await result\n  File \"/opt/conda/lib/python3.11/site-packages/ipykernel/ipkernel.py\", line 359, in execute_request\n    await super().execute_request(stream, ident, parent)\n  File \"/opt/conda/lib/python3.11/site-packages/ipykernel/kernelbase.py\", line 778, in execute_request\n    reply_content = await reply_content\n  File \"/opt/conda/lib/python3.11/site-packages/ipykernel/ipkernel.py\", line 446, in do_execute\n    res = shell.run_cell(\n  File \"/opt/conda/lib/python3.11/site-packages/ipykernel/zmqshell.py\", line 549, in run_cell\n    return super().run_cell(*args, **kwargs)\n  File \"/opt/conda/lib/python3.11/site-packages/IPython/core/interactiveshell.py\", line 3075, in run_cell\n    result = self._run_cell(\n  File \"/opt/conda/lib/python3.11/site-packages/IPython/core/interactiveshell.py\", line 3130, in _run_cell\n    result = runner(coro)\n  File \"/opt/conda/lib/python3.11/site-packages/IPython/core/async_helpers.py\", line 129, in _pseudo_sync_runner\n    coro.send(None)\n  File \"/opt/conda/lib/python3.11/site-packages/IPython/core/interactiveshell.py\", line 3334, in run_cell_async\n    has_raised = await self.run_ast_nodes(code_ast.body, cell_name,\n  File \"/opt/conda/lib/python3.11/site-packages/IPython/core/interactiveshell.py\", line 3517, in run_ast_nodes\n    if await self.run_code(code, result, async_=asy):\n  File \"/opt/conda/lib/python3.11/site-packages/IPython/core/interactiveshell.py\", line 3577, in run_code\n    exec(code_obj, self.user_global_ns, self.user_ns)\n  File \"/tmp/ipykernel_257/1295787704.py\", line 3, in <module>\n    import torch\n  File \"<frozen importlib._bootstrap>\", line 1176, in _find_and_load\n  File \"<frozen importlib._bootstrap>\", line 1147, in _find_and_load_unlocked\n  File \"<frozen importlib._bootstrap>\", line 690, in _load_unlocked\n  File \"<frozen importlib._bootstrap_external>\", line 940, in exec_module\n  File \"<frozen importlib._bootstrap>\", line 241, in _call_with_frames_removed\n  File \"/opt/conda/lib/python3.11/site-packages/torch/__init__.py\", line 1427, in <module>\n    _C._initExtension(manager_path())\n  File \"<frozen importlib._bootstrap>\", line 1176, in _find_and_load\n  File \"<frozen importlib._bootstrap>\", line 1147, in _find_and_load_unlocked\n  File \"<frozen importlib._bootstrap>\", line 690, in _load_unlocked\n  File \"<frozen importlib._bootstrap_external>\", line 940, in exec_module\n  File \"<frozen importlib._bootstrap>\", line 241, in _call_with_frames_removed\n  File \"/opt/conda/lib/python3.11/site-packages/torch/cuda/__init__.py\", line 247, in <module>\n    _lazy_call(_check_capability)\n  File \"/opt/conda/lib/python3.11/site-packages/torch/cuda/__init__.py\", line 244, in _lazy_call\n    _queued_calls.append((callable, traceback.format_stack()))\n",
     "output_type": "error",
     "traceback": [
      "\u001b[0;31m---------------------------------------------------------------------------\u001b[0m",
      "\u001b[0;31mRuntimeError\u001b[0m                              Traceback (most recent call last)",
      "File \u001b[0;32m/opt/conda/lib/python3.11/site-packages/torch/cuda/__init__.py:315\u001b[0m, in \u001b[0;36m_lazy_init\u001b[0;34m()\u001b[0m\n\u001b[1;32m    314\u001b[0m \u001b[38;5;28;01mtry\u001b[39;00m:\n\u001b[0;32m--> 315\u001b[0m     \u001b[43mqueued_call\u001b[49m\u001b[43m(\u001b[49m\u001b[43m)\u001b[49m\n\u001b[1;32m    316\u001b[0m \u001b[38;5;28;01mexcept\u001b[39;00m \u001b[38;5;167;01mException\u001b[39;00m \u001b[38;5;28;01mas\u001b[39;00m e:\n",
      "File \u001b[0;32m/opt/conda/lib/python3.11/site-packages/torch/cuda/__init__.py:183\u001b[0m, in \u001b[0;36m_check_capability\u001b[0;34m()\u001b[0m\n\u001b[1;32m    182\u001b[0m \u001b[38;5;28;01mfor\u001b[39;00m d \u001b[38;5;129;01min\u001b[39;00m \u001b[38;5;28mrange\u001b[39m(device_count()):\n\u001b[0;32m--> 183\u001b[0m     capability \u001b[38;5;241m=\u001b[39m \u001b[43mget_device_capability\u001b[49m\u001b[43m(\u001b[49m\u001b[43md\u001b[49m\u001b[43m)\u001b[49m\n\u001b[1;32m    184\u001b[0m     major \u001b[38;5;241m=\u001b[39m capability[\u001b[38;5;241m0\u001b[39m]\n",
      "File \u001b[0;32m/opt/conda/lib/python3.11/site-packages/torch/cuda/__init__.py:439\u001b[0m, in \u001b[0;36mget_device_capability\u001b[0;34m(device)\u001b[0m\n\u001b[1;32m    427\u001b[0m \u001b[38;5;250m\u001b[39m\u001b[38;5;124mr\u001b[39m\u001b[38;5;124;03m\"\"\"Get the cuda capability of a device.\u001b[39;00m\n\u001b[1;32m    428\u001b[0m \n\u001b[1;32m    429\u001b[0m \u001b[38;5;124;03mArgs:\u001b[39;00m\n\u001b[0;32m   (...)\u001b[0m\n\u001b[1;32m    437\u001b[0m \u001b[38;5;124;03m    tuple(int, int): the major and minor cuda capability of the device\u001b[39;00m\n\u001b[1;32m    438\u001b[0m \u001b[38;5;124;03m\"\"\"\u001b[39;00m\n\u001b[0;32m--> 439\u001b[0m prop \u001b[38;5;241m=\u001b[39m \u001b[43mget_device_properties\u001b[49m\u001b[43m(\u001b[49m\u001b[43mdevice\u001b[49m\u001b[43m)\u001b[49m\n\u001b[1;32m    440\u001b[0m \u001b[38;5;28;01mreturn\u001b[39;00m prop\u001b[38;5;241m.\u001b[39mmajor, prop\u001b[38;5;241m.\u001b[39mminor\n",
      "File \u001b[0;32m/opt/conda/lib/python3.11/site-packages/torch/cuda/__init__.py:457\u001b[0m, in \u001b[0;36mget_device_properties\u001b[0;34m(device)\u001b[0m\n\u001b[1;32m    456\u001b[0m     \u001b[38;5;28;01mraise\u001b[39;00m \u001b[38;5;167;01mAssertionError\u001b[39;00m(\u001b[38;5;124m\"\u001b[39m\u001b[38;5;124mInvalid device id\u001b[39m\u001b[38;5;124m\"\u001b[39m)\n\u001b[0;32m--> 457\u001b[0m \u001b[38;5;28;01mreturn\u001b[39;00m \u001b[43m_get_device_properties\u001b[49m\u001b[43m(\u001b[49m\u001b[43mdevice\u001b[49m\u001b[43m)\u001b[49m\n",
      "\u001b[0;31mRuntimeError\u001b[0m: device >= 0 && device < num_gpus INTERNAL ASSERT FAILED at \"../aten/src/ATen/cuda/CUDAContext.cpp\":50, please report a bug to PyTorch. device=1, num_gpus=\u0001",
      "\nThe above exception was the direct cause of the following exception:\n",
      "\u001b[0;31mDeferredCudaCallError\u001b[0m                     Traceback (most recent call last)",
      "Cell \u001b[0;32mIn[4], line 6\u001b[0m\n\u001b[1;32m      3\u001b[0m \u001b[38;5;28;01mimport\u001b[39;00m \u001b[38;5;21;01mtorch\u001b[39;00m\n\u001b[1;32m      4\u001b[0m \u001b[38;5;28mprint\u001b[39m(\u001b[38;5;124m\"\u001b[39m\u001b[38;5;124mCUDA available:\u001b[39m\u001b[38;5;124m\"\u001b[39m, torch\u001b[38;5;241m.\u001b[39mcuda\u001b[38;5;241m.\u001b[39mis_available())\n\u001b[0;32m----> 6\u001b[0m \u001b[38;5;28mprint\u001b[39m(\u001b[38;5;124m\"\u001b[39m\u001b[38;5;124mGPU in use:\u001b[39m\u001b[38;5;124m\"\u001b[39m, \u001b[43mtorch\u001b[49m\u001b[38;5;241;43m.\u001b[39;49m\u001b[43mcuda\u001b[49m\u001b[38;5;241;43m.\u001b[39;49m\u001b[43mcurrent_device\u001b[49m\u001b[43m(\u001b[49m\u001b[43m)\u001b[49m)\n\u001b[1;32m      7\u001b[0m torch\u001b[38;5;241m.\u001b[39mcuda\u001b[38;5;241m.\u001b[39mempty_cache()\n",
      "File \u001b[0;32m/opt/conda/lib/python3.11/site-packages/torch/cuda/__init__.py:787\u001b[0m, in \u001b[0;36mcurrent_device\u001b[0;34m()\u001b[0m\n\u001b[1;32m    785\u001b[0m \u001b[38;5;28;01mdef\u001b[39;00m \u001b[38;5;21mcurrent_device\u001b[39m() \u001b[38;5;241m-\u001b[39m\u001b[38;5;241m>\u001b[39m \u001b[38;5;28mint\u001b[39m:\n\u001b[1;32m    786\u001b[0m \u001b[38;5;250m    \u001b[39m\u001b[38;5;124mr\u001b[39m\u001b[38;5;124;03m\"\"\"Return the index of a currently selected device.\"\"\"\u001b[39;00m\n\u001b[0;32m--> 787\u001b[0m     \u001b[43m_lazy_init\u001b[49m\u001b[43m(\u001b[49m\u001b[43m)\u001b[49m\n\u001b[1;32m    788\u001b[0m     \u001b[38;5;28;01mreturn\u001b[39;00m torch\u001b[38;5;241m.\u001b[39m_C\u001b[38;5;241m.\u001b[39m_cuda_getDevice()\n",
      "File \u001b[0;32m/opt/conda/lib/python3.11/site-packages/torch/cuda/__init__.py:321\u001b[0m, in \u001b[0;36m_lazy_init\u001b[0;34m()\u001b[0m\n\u001b[1;32m    316\u001b[0m         \u001b[38;5;28;01mexcept\u001b[39;00m \u001b[38;5;167;01mException\u001b[39;00m \u001b[38;5;28;01mas\u001b[39;00m e:\n\u001b[1;32m    317\u001b[0m             msg \u001b[38;5;241m=\u001b[39m (\n\u001b[1;32m    318\u001b[0m                 \u001b[38;5;124mf\u001b[39m\u001b[38;5;124m\"\u001b[39m\u001b[38;5;124mCUDA call failed lazily at initialization with error: \u001b[39m\u001b[38;5;132;01m{\u001b[39;00m\u001b[38;5;28mstr\u001b[39m(e)\u001b[38;5;132;01m}\u001b[39;00m\u001b[38;5;130;01m\\n\u001b[39;00m\u001b[38;5;130;01m\\n\u001b[39;00m\u001b[38;5;124m\"\u001b[39m\n\u001b[1;32m    319\u001b[0m                 \u001b[38;5;124mf\u001b[39m\u001b[38;5;124m\"\u001b[39m\u001b[38;5;124mCUDA call was originally invoked at:\u001b[39m\u001b[38;5;130;01m\\n\u001b[39;00m\u001b[38;5;130;01m\\n\u001b[39;00m\u001b[38;5;132;01m{\u001b[39;00m\u001b[38;5;124m'\u001b[39m\u001b[38;5;124m'\u001b[39m\u001b[38;5;241m.\u001b[39mjoin(orig_traceback)\u001b[38;5;132;01m}\u001b[39;00m\u001b[38;5;124m\"\u001b[39m\n\u001b[1;32m    320\u001b[0m             )\n\u001b[0;32m--> 321\u001b[0m             \u001b[38;5;28;01mraise\u001b[39;00m DeferredCudaCallError(msg) \u001b[38;5;28;01mfrom\u001b[39;00m \u001b[38;5;21;01me\u001b[39;00m\n\u001b[1;32m    322\u001b[0m \u001b[38;5;28;01mfinally\u001b[39;00m:\n\u001b[1;32m    323\u001b[0m     \u001b[38;5;28mdelattr\u001b[39m(_tls, \u001b[38;5;124m\"\u001b[39m\u001b[38;5;124mis_initializing\u001b[39m\u001b[38;5;124m\"\u001b[39m)\n",
      "\u001b[0;31mDeferredCudaCallError\u001b[0m: CUDA call failed lazily at initialization with error: device >= 0 && device < num_gpus INTERNAL ASSERT FAILED at \"../aten/src/ATen/cuda/CUDAContext.cpp\":50, please report a bug to PyTorch. device=1, num_gpus=\u0001\n\nCUDA call was originally invoked at:\n\n  File \"<frozen runpy>\", line 198, in _run_module_as_main\n  File \"<frozen runpy>\", line 88, in _run_code\n  File \"/opt/conda/lib/python3.11/site-packages/ipykernel_launcher.py\", line 18, in <module>\n    app.launch_new_instance()\n  File \"/opt/conda/lib/python3.11/site-packages/traitlets/config/application.py\", line 1075, in launch_instance\n    app.start()\n  File \"/opt/conda/lib/python3.11/site-packages/ipykernel/kernelapp.py\", line 739, in start\n    self.io_loop.start()\n  File \"/opt/conda/lib/python3.11/site-packages/tornado/platform/asyncio.py\", line 205, in start\n    self.asyncio_loop.run_forever()\n  File \"/opt/conda/lib/python3.11/asyncio/base_events.py\", line 608, in run_forever\n    self._run_once()\n  File \"/opt/conda/lib/python3.11/asyncio/base_events.py\", line 1936, in _run_once\n    handle._run()\n  File \"/opt/conda/lib/python3.11/asyncio/events.py\", line 84, in _run\n    self._context.run(self._callback, *self._args)\n  File \"/opt/conda/lib/python3.11/site-packages/ipykernel/kernelbase.py\", line 545, in dispatch_queue\n    await self.process_one()\n  File \"/opt/conda/lib/python3.11/site-packages/ipykernel/kernelbase.py\", line 534, in process_one\n    await dispatch(*args)\n  File \"/opt/conda/lib/python3.11/site-packages/ipykernel/kernelbase.py\", line 437, in dispatch_shell\n    await result\n  File \"/opt/conda/lib/python3.11/site-packages/ipykernel/ipkernel.py\", line 359, in execute_request\n    await super().execute_request(stream, ident, parent)\n  File \"/opt/conda/lib/python3.11/site-packages/ipykernel/kernelbase.py\", line 778, in execute_request\n    reply_content = await reply_content\n  File \"/opt/conda/lib/python3.11/site-packages/ipykernel/ipkernel.py\", line 446, in do_execute\n    res = shell.run_cell(\n  File \"/opt/conda/lib/python3.11/site-packages/ipykernel/zmqshell.py\", line 549, in run_cell\n    return super().run_cell(*args, **kwargs)\n  File \"/opt/conda/lib/python3.11/site-packages/IPython/core/interactiveshell.py\", line 3075, in run_cell\n    result = self._run_cell(\n  File \"/opt/conda/lib/python3.11/site-packages/IPython/core/interactiveshell.py\", line 3130, in _run_cell\n    result = runner(coro)\n  File \"/opt/conda/lib/python3.11/site-packages/IPython/core/async_helpers.py\", line 129, in _pseudo_sync_runner\n    coro.send(None)\n  File \"/opt/conda/lib/python3.11/site-packages/IPython/core/interactiveshell.py\", line 3334, in run_cell_async\n    has_raised = await self.run_ast_nodes(code_ast.body, cell_name,\n  File \"/opt/conda/lib/python3.11/site-packages/IPython/core/interactiveshell.py\", line 3517, in run_ast_nodes\n    if await self.run_code(code, result, async_=asy):\n  File \"/opt/conda/lib/python3.11/site-packages/IPython/core/interactiveshell.py\", line 3577, in run_code\n    exec(code_obj, self.user_global_ns, self.user_ns)\n  File \"/tmp/ipykernel_257/1295787704.py\", line 3, in <module>\n    import torch\n  File \"<frozen importlib._bootstrap>\", line 1176, in _find_and_load\n  File \"<frozen importlib._bootstrap>\", line 1147, in _find_and_load_unlocked\n  File \"<frozen importlib._bootstrap>\", line 690, in _load_unlocked\n  File \"<frozen importlib._bootstrap_external>\", line 940, in exec_module\n  File \"<frozen importlib._bootstrap>\", line 241, in _call_with_frames_removed\n  File \"/opt/conda/lib/python3.11/site-packages/torch/__init__.py\", line 1427, in <module>\n    _C._initExtension(manager_path())\n  File \"<frozen importlib._bootstrap>\", line 1176, in _find_and_load\n  File \"<frozen importlib._bootstrap>\", line 1147, in _find_and_load_unlocked\n  File \"<frozen importlib._bootstrap>\", line 690, in _load_unlocked\n  File \"<frozen importlib._bootstrap_external>\", line 940, in exec_module\n  File \"<frozen importlib._bootstrap>\", line 241, in _call_with_frames_removed\n  File \"/opt/conda/lib/python3.11/site-packages/torch/cuda/__init__.py\", line 247, in <module>\n    _lazy_call(_check_capability)\n  File \"/opt/conda/lib/python3.11/site-packages/torch/cuda/__init__.py\", line 244, in _lazy_call\n    _queued_calls.append((callable, traceback.format_stack()))\n"
     ]
    }
   ],
   "source": [
    "print(\"Num GPUs Available: \", len(tf.config.experimental.list_physical_devices('GPU')))\n",
    "\n",
    "import torch\n",
    "print(\"CUDA available:\", torch.cuda.is_available())\n",
    "\n",
    "print(\"GPU in use:\", torch.cuda.current_device())\n",
    "torch.cuda.empty_cache()"
   ]
  },
  {
   "cell_type": "code",
   "execution_count": 5,
   "id": "78b1fc68-ff8b-4fb3-bc5b-9521398d1480",
   "metadata": {},
   "outputs": [],
   "source": [
    "def make_confusion_matrices(y_train, preds_train, y_test, preds_test):\n",
    "    \n",
    "    def make_conf_matrix(y, preds):\n",
    "        conf_matrix = confusion_matrix(y, preds, labels=y.unique(), normalize='pred')\n",
    "        classes = y.value_counts().sort_values(ascending=False).index\n",
    "        conf_matrix_df = pd.DataFrame(conf_matrix, index=classes, columns=classes)\n",
    "        return conf_matrix_df\n",
    "\n",
    "    fig, (ax1, ax2) = plt.subplots(2, 1, figsize=(7, 13))\n",
    "    conf_matrix_train = make_conf_matrix(y_train, preds_train)\n",
    "    sns.heatmap(conf_matrix_train, annot=True, fmt=\".3f\", cmap=\"YlGnBu\", cbar=True, \n",
    "                linewidths=0.5, linecolor='gray', square=True, annot_kws={\"size\": 8}, ax=ax1)\n",
    "    ax1.set_title('Train Precision')\n",
    "    ax1.set_xlabel('Predicted Labels')\n",
    "    ax1.set_ylabel('True Labels')\n",
    "    \n",
    "    conf_matrix_test = make_conf_matrix(y_test, preds_test)\n",
    "    sns.heatmap(conf_matrix_test, annot=True, fmt=\".3f\", cmap=\"YlGnBu\", cbar=True, \n",
    "                linewidths=0.5, linecolor='gray', square=True, annot_kws={\"size\": 8}, ax=ax2)\n",
    "    ax2.set_title('Test Precision')\n",
    "    ax2.set_xlabel('Predicted Labels')\n",
    "    ax2.set_ylabel('True Labels')\n",
    "\n",
    "    plt.tight_layout(rect=[0.0, 0.0, 1, 1])\n",
    "    plt.subplots_adjust(wspace=0.5, hspace=0.55)\n",
    "    plt.show()"
   ]
  },
  {
   "cell_type": "code",
   "execution_count": 6,
   "id": "02b5ddd7-7d21-43ab-b635-dd2c45a6dd83",
   "metadata": {},
   "outputs": [],
   "source": [
    "# inflows = pd.read_parquet('data/ucsd-inflows.pqt')\n",
    "# outflows = pd.read_parquet('data/ucsd-outflows.pqt')\n",
    "\n",
    "outflows = pd.read_parquet('../data/ucsd-outflows.pqt')"
   ]
  },
  {
   "cell_type": "code",
   "execution_count": 7,
   "id": "5998d07e-f23f-4970-82aa-7e8925835de6",
   "metadata": {},
   "outputs": [
    {
     "data": {
      "text/html": [
       "<div>\n",
       "<style scoped>\n",
       "    .dataframe tbody tr th:only-of-type {\n",
       "        vertical-align: middle;\n",
       "    }\n",
       "\n",
       "    .dataframe tbody tr th {\n",
       "        vertical-align: top;\n",
       "    }\n",
       "\n",
       "    .dataframe thead th {\n",
       "        text-align: right;\n",
       "    }\n",
       "</style>\n",
       "<table border=\"1\" class=\"dataframe\">\n",
       "  <thead>\n",
       "    <tr style=\"text-align: right;\">\n",
       "      <th></th>\n",
       "      <th>prism_consumer_id</th>\n",
       "      <th>prism_account_id</th>\n",
       "      <th>memo</th>\n",
       "      <th>amount</th>\n",
       "      <th>posted_date</th>\n",
       "      <th>category</th>\n",
       "    </tr>\n",
       "  </thead>\n",
       "  <tbody>\n",
       "    <tr>\n",
       "      <th>0</th>\n",
       "      <td>0</td>\n",
       "      <td>acc_0</td>\n",
       "      <td>TST* Casa Del Rio - Exp Fairlawn OH 09/24</td>\n",
       "      <td>18.4200</td>\n",
       "      <td>2022-09-26</td>\n",
       "      <td>FOOD_AND_BEVERAGES</td>\n",
       "    </tr>\n",
       "    <tr>\n",
       "      <th>1</th>\n",
       "      <td>0</td>\n",
       "      <td>acc_0</td>\n",
       "      <td>Buffalo Wild Wings</td>\n",
       "      <td>26.4700</td>\n",
       "      <td>2022-09-12</td>\n",
       "      <td>FOOD_AND_BEVERAGES</td>\n",
       "    </tr>\n",
       "    <tr>\n",
       "      <th>2</th>\n",
       "      <td>0</td>\n",
       "      <td>acc_0</td>\n",
       "      <td>Oculus CA 04/16</td>\n",
       "      <td>11.7300</td>\n",
       "      <td>2022-04-18</td>\n",
       "      <td>GENERAL_MERCHANDISE</td>\n",
       "    </tr>\n",
       "    <tr>\n",
       "      <th>3</th>\n",
       "      <td>0</td>\n",
       "      <td>acc_0</td>\n",
       "      <td>LOS GIRASOLES STOW OH 03/08</td>\n",
       "      <td>30.0400</td>\n",
       "      <td>2022-03-09</td>\n",
       "      <td>FOOD_AND_BEVERAGES</td>\n",
       "    </tr>\n",
       "    <tr>\n",
       "      <th>4</th>\n",
       "      <td>0</td>\n",
       "      <td>acc_0</td>\n",
       "      <td>BUZZIS LAUNDRY 1 OH 03/28</td>\n",
       "      <td>4.1600</td>\n",
       "      <td>2022-03-29</td>\n",
       "      <td>GENERAL_MERCHANDISE</td>\n",
       "    </tr>\n",
       "  </tbody>\n",
       "</table>\n",
       "</div>"
      ],
      "text/plain": [
       "   prism_consumer_id prism_account_id  \\\n",
       "0                  0            acc_0   \n",
       "1                  0            acc_0   \n",
       "2                  0            acc_0   \n",
       "3                  0            acc_0   \n",
       "4                  0            acc_0   \n",
       "\n",
       "                                        memo  amount posted_date  \\\n",
       "0  TST* Casa Del Rio - Exp Fairlawn OH 09/24 18.4200  2022-09-26   \n",
       "1                         Buffalo Wild Wings 26.4700  2022-09-12   \n",
       "2                            Oculus CA 04/16 11.7300  2022-04-18   \n",
       "3                LOS GIRASOLES STOW OH 03/08 30.0400  2022-03-09   \n",
       "4                  BUZZIS LAUNDRY 1 OH 03/28  4.1600  2022-03-29   \n",
       "\n",
       "              category  \n",
       "0   FOOD_AND_BEVERAGES  \n",
       "1   FOOD_AND_BEVERAGES  \n",
       "2  GENERAL_MERCHANDISE  \n",
       "3   FOOD_AND_BEVERAGES  \n",
       "4  GENERAL_MERCHANDISE  "
      ]
     },
     "execution_count": 7,
     "metadata": {},
     "output_type": "execute_result"
    }
   ],
   "source": [
    "relevant_of = outflows[outflows.category != outflows.memo].reset_index(drop=True)\n",
    "relevant_of.posted_date = pd.to_datetime(relevant_of.posted_date)\n",
    "relevant_of.head()"
   ]
  },
  {
   "cell_type": "code",
   "execution_count": null,
   "id": "8ed50749-47a9-42c4-8547-522116f474f7",
   "metadata": {},
   "outputs": [],
   "source": []
  },
  {
   "cell_type": "code",
   "execution_count": null,
   "id": "ced53407-c5c1-4e06-8065-6aa7fdd8f1a8",
   "metadata": {},
   "outputs": [],
   "source": []
  },
  {
   "cell_type": "markdown",
   "id": "eae95f08-bd62-467d-940f-5801ffb7f3d3",
   "metadata": {},
   "source": [
    "# Memo Cleaning"
   ]
  },
  {
   "cell_type": "code",
   "execution_count": 8,
   "id": "7539f2db-e7cd-4a6f-8386-464d06e9cbe1",
   "metadata": {},
   "outputs": [],
   "source": [
    "def clean_memo(memo):\n",
    "    sw = ['payment', 'transaction', 'deposit', 'withdrawal', 'transfer', 'credit', 'debit', 'refund', 'fee', 'charge', 'purchase', 'atm', 'checkcard']\n",
    "\n",
    "    memo = memo.lower()\n",
    "\n",
    "    memo = re.sub(r'[0-9]{3,}', '', memo) # remove instances of numbers more than 3 repeated\n",
    "    \n",
    "    memo = re.sub(r'x{3,}', '', memo) # remove the X's (ex. #XXXX)\n",
    "    memo = re.sub(r'^#[a-z0-9]+', '', memo) # remove the #smth @ start of memo\n",
    "    memo = re.sub(r'(www\\.|\\.com)', '', memo) # removing any links or urls\n",
    "\n",
    "    memo = re.sub(r'[0-9x]{2}((-|/)[0-9x]{2,4}){1,2}', '', memo) # remove dates\n",
    "\n",
    "    memo = re.sub(r'[^\\w\\s-]', ' ', memo)  # replace special characters with single space\n",
    "    memo = re.sub(r'([a-z]+)\\s{0,1}-\\s{0,1}([a-z]+)', r'\\1\\2', memo) # replace '-' w/ ''\n",
    "    memo = re.sub(r'\\s+', ' ', memo)  # remove multiple spaces\n",
    "\n",
    "    # location\n",
    "    state_abbreviations = [\n",
    "        \"al\", \"ak\", \"az\", \"ar\", \"ca\", \"co\", \"ct\", \"de\", \"fl\", \"ga\", \n",
    "        \"hi\", \"id\", \"il\", \"in\", \"ia\", \"ks\", \"ky\", \"la\", \"me\", \"md\", \n",
    "        \"ma\", \"mi\", \"mn\", \"ms\", \"mo\", \"mt\", \"ne\", \"nv\", \"nh\", \"nj\", \n",
    "        \"nm\", \"ny\", \"nc\", \"nd\", \"oh\", \"ok\", \"or\", \"pa\", \"ri\", \"sc\", \n",
    "        \"sd\", \"tn\", \"tx\", \"ut\", \"vt\", \"va\", \"wa\", \"wv\", \"wi\", \"wy\"\n",
    "    ]\n",
    "    state_pattern = r' (' + '|'.join(state_abbreviations) + r')\\b'\n",
    "    \n",
    "    memo = re.sub(r'(street|st|road|rd|blvd|avenue|ave|highway|hwy)\\b', '', memo)\n",
    "    memo = memo.strip()\n",
    "    memo = re.sub(state_pattern, '', memo)\n",
    "    memo = memo.strip()\n",
    "\n",
    "    merchant_map = {'wal walmart': 'walmart', 'walmart walmart': 'walmart', 'wal mart': 'walmart'}\n",
    "\n",
    "    if memo in merchant_map: return merchant_map[memo]\n",
    "    return memo"
   ]
  },
  {
   "cell_type": "code",
   "execution_count": null,
   "id": "62320e4a-eede-431d-9a5a-a8366146e82c",
   "metadata": {},
   "outputs": [],
   "source": []
  },
  {
   "cell_type": "code",
   "execution_count": 9,
   "id": "1871973c-2e24-45ca-ba94-581b30df9f68",
   "metadata": {},
   "outputs": [
    {
     "data": {
      "text/html": [
       "<div>\n",
       "<style scoped>\n",
       "    .dataframe tbody tr th:only-of-type {\n",
       "        vertical-align: middle;\n",
       "    }\n",
       "\n",
       "    .dataframe tbody tr th {\n",
       "        vertical-align: top;\n",
       "    }\n",
       "\n",
       "    .dataframe thead th {\n",
       "        text-align: right;\n",
       "    }\n",
       "</style>\n",
       "<table border=\"1\" class=\"dataframe\">\n",
       "  <thead>\n",
       "    <tr style=\"text-align: right;\">\n",
       "      <th></th>\n",
       "      <th>prism_consumer_id</th>\n",
       "      <th>prism_account_id</th>\n",
       "      <th>memo</th>\n",
       "      <th>amount</th>\n",
       "      <th>posted_date</th>\n",
       "      <th>category</th>\n",
       "      <th>clean_memo</th>\n",
       "    </tr>\n",
       "  </thead>\n",
       "  <tbody>\n",
       "    <tr>\n",
       "      <th>0</th>\n",
       "      <td>0</td>\n",
       "      <td>acc_0</td>\n",
       "      <td>TST* Casa Del Rio - Exp Fairlawn OH 09/24</td>\n",
       "      <td>18.4200</td>\n",
       "      <td>2022-09-26</td>\n",
       "      <td>FOOD_AND_BEVERAGES</td>\n",
       "      <td>t casa del rioexp fairlawn</td>\n",
       "    </tr>\n",
       "    <tr>\n",
       "      <th>1</th>\n",
       "      <td>0</td>\n",
       "      <td>acc_0</td>\n",
       "      <td>Buffalo Wild Wings</td>\n",
       "      <td>26.4700</td>\n",
       "      <td>2022-09-12</td>\n",
       "      <td>FOOD_AND_BEVERAGES</td>\n",
       "      <td>buffalo wild wings</td>\n",
       "    </tr>\n",
       "    <tr>\n",
       "      <th>2</th>\n",
       "      <td>0</td>\n",
       "      <td>acc_0</td>\n",
       "      <td>Oculus CA 04/16</td>\n",
       "      <td>11.7300</td>\n",
       "      <td>2022-04-18</td>\n",
       "      <td>GENERAL_MERCHANDISE</td>\n",
       "      <td>oculus</td>\n",
       "    </tr>\n",
       "    <tr>\n",
       "      <th>3</th>\n",
       "      <td>0</td>\n",
       "      <td>acc_0</td>\n",
       "      <td>LOS GIRASOLES STOW OH 03/08</td>\n",
       "      <td>30.0400</td>\n",
       "      <td>2022-03-09</td>\n",
       "      <td>FOOD_AND_BEVERAGES</td>\n",
       "      <td>los girasoles stow</td>\n",
       "    </tr>\n",
       "    <tr>\n",
       "      <th>4</th>\n",
       "      <td>0</td>\n",
       "      <td>acc_0</td>\n",
       "      <td>BUZZIS LAUNDRY 1 OH 03/28</td>\n",
       "      <td>4.1600</td>\n",
       "      <td>2022-03-29</td>\n",
       "      <td>GENERAL_MERCHANDISE</td>\n",
       "      <td>buzzis laundry 1</td>\n",
       "    </tr>\n",
       "  </tbody>\n",
       "</table>\n",
       "</div>"
      ],
      "text/plain": [
       "   prism_consumer_id prism_account_id  \\\n",
       "0                  0            acc_0   \n",
       "1                  0            acc_0   \n",
       "2                  0            acc_0   \n",
       "3                  0            acc_0   \n",
       "4                  0            acc_0   \n",
       "\n",
       "                                        memo  amount posted_date  \\\n",
       "0  TST* Casa Del Rio - Exp Fairlawn OH 09/24 18.4200  2022-09-26   \n",
       "1                         Buffalo Wild Wings 26.4700  2022-09-12   \n",
       "2                            Oculus CA 04/16 11.7300  2022-04-18   \n",
       "3                LOS GIRASOLES STOW OH 03/08 30.0400  2022-03-09   \n",
       "4                  BUZZIS LAUNDRY 1 OH 03/28  4.1600  2022-03-29   \n",
       "\n",
       "              category                  clean_memo  \n",
       "0   FOOD_AND_BEVERAGES  t casa del rioexp fairlawn  \n",
       "1   FOOD_AND_BEVERAGES          buffalo wild wings  \n",
       "2  GENERAL_MERCHANDISE                      oculus  \n",
       "3   FOOD_AND_BEVERAGES          los girasoles stow  \n",
       "4  GENERAL_MERCHANDISE            buzzis laundry 1  "
      ]
     },
     "execution_count": 9,
     "metadata": {},
     "output_type": "execute_result"
    }
   ],
   "source": [
    "relevant_of['clean_memo'] = relevant_of.apply(lambda row: clean_memo(row.memo) if row.memo != row.category else row.memo, axis=1)\n",
    "\n",
    "relevant_of.head()"
   ]
  },
  {
   "cell_type": "code",
   "execution_count": 10,
   "id": "65dc40eb-554d-453f-9d46-830edd6ede9d",
   "metadata": {},
   "outputs": [],
   "source": [
    "# vectorizer = TfidfVectorizer(max_features=1000, max_df=0.85)\n",
    "# tfidf = vectorizer.fit_transform(clean_data.clean_memo)\n",
    "# tfidf_df = pd.DataFrame.sparse.from_spmatrix(tfidf)\n",
    "# tfidf_df.columns = vectorizer.get_feature_names_out()"
   ]
  },
  {
   "cell_type": "code",
   "execution_count": null,
   "id": "ed5c031e-83e4-4017-aa7e-83e5f2995934",
   "metadata": {},
   "outputs": [],
   "source": []
  },
  {
   "cell_type": "code",
   "execution_count": null,
   "id": "ef364c1c-6486-4d0d-8d50-af90de401c6c",
   "metadata": {},
   "outputs": [],
   "source": []
  },
  {
   "cell_type": "code",
   "execution_count": 11,
   "id": "489b2c9f-4a80-4578-acd8-7cdcc49522d9",
   "metadata": {},
   "outputs": [],
   "source": [
    "def ftr_generation(data, num_bins=10, max_features=1000, max_df=0.85):\n",
    "    to_remove = ['prism_account_id', 'memo', 'amount', 'posted_date', 'clean_memo',]\n",
    "\n",
    "    # Binary data\n",
    "    data['is_weekend'] = (data.posted_date.dt.weekday >= 5).astype(int)\n",
    "    data['is_even_amount'] = data.amount.apply(lambda x: 1 if x % 1 == 0 and x % 5 == 0 else 0)\n",
    "\n",
    "    # tifidf data\n",
    "    vectorizer = TfidfVectorizer(max_features=max_features, max_df=max_df)\n",
    "    tfidf = vectorizer.fit_transform(data.clean_memo)\n",
    "    tfidf_df = pd.DataFrame.sparse.from_spmatrix(tfidf)\n",
    "    tfidf_df.columns = 'tfidf_' + vectorizer.get_feature_names_out()\n",
    "\n",
    "    # date data\n",
    "    date_data = pd.DataFrame()\n",
    "    date_data['month'] = 'month_' + data.posted_date.dt.month.astype(str)\n",
    "    date_data['weekday'] = 'weekday_' + data.posted_date.dt.weekday.astype(str)\n",
    "\n",
    "    date_enc = OneHotEncoder(drop='first', handle_unknown='ignore')\n",
    "    date_oh = date_enc.fit_transform(date_data)\n",
    "\n",
    "    cols = np.concatenate([typ[1:] for typ in date_enc.categories_])\n",
    "    date_ftrs = pd.DataFrame.sparse.from_spmatrix(date_oh, columns=cols)\n",
    "\n",
    "    # amount features\n",
    "    amount_data = pd.DataFrame()\n",
    "    amount_data['decile_amounts'] = pd.qcut(data.amount, q=10, labels=[f'bin_{num}' for num in range(1, num_bins + 1)])\n",
    "    \n",
    "    amount_enc = OneHotEncoder(drop='first', handle_unknown='ignore')\n",
    "    amount_oh = amount_enc.fit_transform(amount_data)\n",
    "\n",
    "    cols = np.concatenate([typ[1:] for typ in amount_enc.categories_])\n",
    "    amount_ftrs = pd.DataFrame.sparse.from_spmatrix(amount_oh, columns=cols)\n",
    "    \n",
    "\n",
    "    return pd.concat([data, amount_ftrs, date_ftrs, tfidf_df], axis=1).drop(columns=to_remove)"
   ]
  },
  {
   "cell_type": "code",
   "execution_count": 12,
   "id": "81ad315a-ec99-4298-89be-035f69b12715",
   "metadata": {},
   "outputs": [
    {
     "data": {
      "text/plain": [
       "{'FOOD_AND_BEVERAGES': 0,\n",
       " 'GENERAL_MERCHANDISE': 1,\n",
       " 'GROCERIES': 2,\n",
       " 'PETS': 3,\n",
       " 'TRAVEL': 4,\n",
       " 'MORTGAGE': 5,\n",
       " 'OVERDRAFT': 6,\n",
       " 'EDUCATION': 7,\n",
       " 'RENT': 8}"
      ]
     },
     "execution_count": 12,
     "metadata": {},
     "output_type": "execute_result"
    }
   ],
   "source": [
    "idmap = {relevant_of.category.unique()[i] : i for i in range(len(relevant_of.category.unique()))}\n",
    "idmap"
   ]
  },
  {
   "cell_type": "code",
   "execution_count": 13,
   "id": "9b429e5c-08b0-4948-ba1a-7fa60904688c",
   "metadata": {},
   "outputs": [],
   "source": [
    "reversemap = {value: key for key, value in idmap.items()}"
   ]
  },
  {
   "cell_type": "code",
   "execution_count": null,
   "id": "28d67c6b-e89b-46f6-93b2-17eac18a624f",
   "metadata": {},
   "outputs": [],
   "source": []
  },
  {
   "cell_type": "code",
   "execution_count": 14,
   "id": "0995a5a1-ea4e-4bef-acfc-0b084023e39d",
   "metadata": {},
   "outputs": [
    {
     "data": {
      "text/html": [
       "<div>\n",
       "<style scoped>\n",
       "    .dataframe tbody tr th:only-of-type {\n",
       "        vertical-align: middle;\n",
       "    }\n",
       "\n",
       "    .dataframe tbody tr th {\n",
       "        vertical-align: top;\n",
       "    }\n",
       "\n",
       "    .dataframe thead th {\n",
       "        text-align: right;\n",
       "    }\n",
       "</style>\n",
       "<table border=\"1\" class=\"dataframe\">\n",
       "  <thead>\n",
       "    <tr style=\"text-align: right;\">\n",
       "      <th></th>\n",
       "      <th>prism_consumer_id</th>\n",
       "      <th>category</th>\n",
       "      <th>is_weekend</th>\n",
       "      <th>is_even_amount</th>\n",
       "      <th>bin_10</th>\n",
       "      <th>bin_2</th>\n",
       "      <th>bin_3</th>\n",
       "      <th>bin_4</th>\n",
       "      <th>bin_5</th>\n",
       "      <th>bin_6</th>\n",
       "      <th>...</th>\n",
       "      <th>tfidf_world</th>\n",
       "      <th>tfidf_worth</th>\n",
       "      <th>tfidf_xfer</th>\n",
       "      <th>tfidf_xsolla</th>\n",
       "      <th>tfidf_york</th>\n",
       "      <th>tfidf_your</th>\n",
       "      <th>tfidf_youtube</th>\n",
       "      <th>tfidf_zaxby</th>\n",
       "      <th>tfidf_zelle</th>\n",
       "      <th>tfidf_zip</th>\n",
       "    </tr>\n",
       "  </thead>\n",
       "  <tbody>\n",
       "    <tr>\n",
       "      <th>0</th>\n",
       "      <td>0</td>\n",
       "      <td>FOOD_AND_BEVERAGES</td>\n",
       "      <td>0</td>\n",
       "      <td>0</td>\n",
       "      <td>0</td>\n",
       "      <td>0</td>\n",
       "      <td>0</td>\n",
       "      <td>0</td>\n",
       "      <td>1.0000</td>\n",
       "      <td>0</td>\n",
       "      <td>...</td>\n",
       "      <td>0</td>\n",
       "      <td>0</td>\n",
       "      <td>0</td>\n",
       "      <td>0</td>\n",
       "      <td>0</td>\n",
       "      <td>0</td>\n",
       "      <td>0</td>\n",
       "      <td>0</td>\n",
       "      <td>0</td>\n",
       "      <td>0</td>\n",
       "    </tr>\n",
       "    <tr>\n",
       "      <th>1</th>\n",
       "      <td>0</td>\n",
       "      <td>FOOD_AND_BEVERAGES</td>\n",
       "      <td>0</td>\n",
       "      <td>0</td>\n",
       "      <td>0</td>\n",
       "      <td>0</td>\n",
       "      <td>0</td>\n",
       "      <td>0</td>\n",
       "      <td>0</td>\n",
       "      <td>0</td>\n",
       "      <td>...</td>\n",
       "      <td>0</td>\n",
       "      <td>0</td>\n",
       "      <td>0</td>\n",
       "      <td>0</td>\n",
       "      <td>0</td>\n",
       "      <td>0</td>\n",
       "      <td>0</td>\n",
       "      <td>0</td>\n",
       "      <td>0</td>\n",
       "      <td>0</td>\n",
       "    </tr>\n",
       "    <tr>\n",
       "      <th>2</th>\n",
       "      <td>0</td>\n",
       "      <td>GENERAL_MERCHANDISE</td>\n",
       "      <td>0</td>\n",
       "      <td>0</td>\n",
       "      <td>0</td>\n",
       "      <td>0</td>\n",
       "      <td>0</td>\n",
       "      <td>1.0000</td>\n",
       "      <td>0</td>\n",
       "      <td>0</td>\n",
       "      <td>...</td>\n",
       "      <td>0</td>\n",
       "      <td>0</td>\n",
       "      <td>0</td>\n",
       "      <td>0</td>\n",
       "      <td>0</td>\n",
       "      <td>0</td>\n",
       "      <td>0</td>\n",
       "      <td>0</td>\n",
       "      <td>0</td>\n",
       "      <td>0</td>\n",
       "    </tr>\n",
       "    <tr>\n",
       "      <th>3</th>\n",
       "      <td>0</td>\n",
       "      <td>FOOD_AND_BEVERAGES</td>\n",
       "      <td>0</td>\n",
       "      <td>0</td>\n",
       "      <td>0</td>\n",
       "      <td>0</td>\n",
       "      <td>0</td>\n",
       "      <td>0</td>\n",
       "      <td>0</td>\n",
       "      <td>0</td>\n",
       "      <td>...</td>\n",
       "      <td>0</td>\n",
       "      <td>0</td>\n",
       "      <td>0</td>\n",
       "      <td>0</td>\n",
       "      <td>0</td>\n",
       "      <td>0</td>\n",
       "      <td>0</td>\n",
       "      <td>0</td>\n",
       "      <td>0</td>\n",
       "      <td>0</td>\n",
       "    </tr>\n",
       "    <tr>\n",
       "      <th>4</th>\n",
       "      <td>0</td>\n",
       "      <td>GENERAL_MERCHANDISE</td>\n",
       "      <td>0</td>\n",
       "      <td>0</td>\n",
       "      <td>0</td>\n",
       "      <td>1.0000</td>\n",
       "      <td>0</td>\n",
       "      <td>0</td>\n",
       "      <td>0</td>\n",
       "      <td>0</td>\n",
       "      <td>...</td>\n",
       "      <td>0</td>\n",
       "      <td>0</td>\n",
       "      <td>0</td>\n",
       "      <td>0</td>\n",
       "      <td>0</td>\n",
       "      <td>0</td>\n",
       "      <td>0</td>\n",
       "      <td>0</td>\n",
       "      <td>0</td>\n",
       "      <td>0</td>\n",
       "    </tr>\n",
       "  </tbody>\n",
       "</table>\n",
       "<p>5 rows × 1030 columns</p>\n",
       "</div>"
      ],
      "text/plain": [
       "   prism_consumer_id             category  is_weekend  is_even_amount  bin_10  \\\n",
       "0                  0   FOOD_AND_BEVERAGES           0               0       0   \n",
       "1                  0   FOOD_AND_BEVERAGES           0               0       0   \n",
       "2                  0  GENERAL_MERCHANDISE           0               0       0   \n",
       "3                  0   FOOD_AND_BEVERAGES           0               0       0   \n",
       "4                  0  GENERAL_MERCHANDISE           0               0       0   \n",
       "\n",
       "   bin_2  bin_3  bin_4  bin_5  bin_6  ...  tfidf_world  tfidf_worth  \\\n",
       "0      0      0      0 1.0000      0  ...            0            0   \n",
       "1      0      0      0      0      0  ...            0            0   \n",
       "2      0      0 1.0000      0      0  ...            0            0   \n",
       "3      0      0      0      0      0  ...            0            0   \n",
       "4 1.0000      0      0      0      0  ...            0            0   \n",
       "\n",
       "   tfidf_xfer  tfidf_xsolla  tfidf_york  tfidf_your  tfidf_youtube  \\\n",
       "0           0             0           0           0              0   \n",
       "1           0             0           0           0              0   \n",
       "2           0             0           0           0              0   \n",
       "3           0             0           0           0              0   \n",
       "4           0             0           0           0              0   \n",
       "\n",
       "   tfidf_zaxby  tfidf_zelle  tfidf_zip  \n",
       "0            0            0          0  \n",
       "1            0            0          0  \n",
       "2            0            0          0  \n",
       "3            0            0          0  \n",
       "4            0            0          0  \n",
       "\n",
       "[5 rows x 1030 columns]"
      ]
     },
     "execution_count": 14,
     "metadata": {},
     "output_type": "execute_result"
    }
   ],
   "source": [
    "model_ftrs = ftr_generation(relevant_of)\n",
    "model_ftrs.head() \n",
    "\n",
    "# 9 seconds"
   ]
  },
  {
   "cell_type": "code",
   "execution_count": 15,
   "id": "49a74bd4-339a-434d-bb14-32431dab95d5",
   "metadata": {},
   "outputs": [
    {
     "data": {
      "text/plain": [
       "(1306452, 1030)"
      ]
     },
     "execution_count": 15,
     "metadata": {},
     "output_type": "execute_result"
    }
   ],
   "source": [
    "# model_ftrs.drop(columns=['category'], inplace=True)\n",
    "\n",
    "model_ftrs.shape # 28 + 1 for category (daniel 57)"
   ]
  },
  {
   "cell_type": "code",
   "execution_count": null,
   "id": "06bdb681-09ff-4eb2-b16e-f1fbdef9bf3f",
   "metadata": {},
   "outputs": [],
   "source": []
  },
  {
   "cell_type": "code",
   "execution_count": 24,
   "id": "933db56c-c165-4a67-a152-1ba0b41c7665",
   "metadata": {},
   "outputs": [],
   "source": [
    "# is_weekend vs day_of_month"
   ]
  },
  {
   "cell_type": "markdown",
   "id": "94688e55-b8ae-4b03-be5c-f7dfcba177d9",
   "metadata": {},
   "source": [
    "# Sanity Check\n",
    "\n",
    "- \\# of rows should be **1306452**\n",
    "- 1028 ftrs = 1000 tfidf + 9 bins + 11 months + 6 days + is_even + is_weekend"
   ]
  },
  {
   "cell_type": "code",
   "execution_count": 25,
   "id": "6ed3431e-4223-4b6b-b7dc-4d9d536fcf1e",
   "metadata": {},
   "outputs": [
    {
     "data": {
      "text/plain": [
       "array(['prism_consumer_id', 'category', 'is_weekend', 'is_even_amount',\n",
       "       'bin_10', 'bin_2', 'bin_3', 'bin_4', 'bin_5', 'bin_6', 'bin_7',\n",
       "       'bin_8', 'bin_9', 'month_10', 'month_11', 'month_12', 'month_2',\n",
       "       'month_3', 'month_4', 'month_5', 'month_6', 'month_7', 'month_8',\n",
       "       'month_9', 'weekday_1', 'weekday_2', 'weekday_3', 'weekday_4'],\n",
       "      dtype=object)"
      ]
     },
     "execution_count": 25,
     "metadata": {},
     "output_type": "execute_result"
    }
   ],
   "source": [
    "model_ftrs.columns[:28].values"
   ]
  },
  {
   "cell_type": "code",
   "execution_count": null,
   "id": "07ec2ae8-abd9-4aaa-bfca-2a8b9e199a33",
   "metadata": {},
   "outputs": [],
   "source": []
  },
  {
   "cell_type": "markdown",
   "id": "faf06280-abdd-467a-80e4-660e25f8c4a8",
   "metadata": {},
   "source": [
    "# Train / Test Sets (by Consumer Sampling)"
   ]
  },
  {
   "cell_type": "code",
   "execution_count": null,
   "id": "e6605a3b-ac98-4ede-beb5-1933c649f2b9",
   "metadata": {},
   "outputs": [],
   "source": []
  },
  {
   "cell_type": "code",
   "execution_count": 26,
   "id": "807da7fb-8642-405c-9d18-3cc35ac196ad",
   "metadata": {},
   "outputs": [],
   "source": [
    "# test_df = pd.concat([relevant_of[['prism_consumer_id']], model_ftrs], axis=1)\n",
    "# train_df = pd.DataFrame(columns=test_df.columns)\n",
    "# to_add = []\n",
    "\n",
    "# ids = test_df.prism_consumer_id.unique()\n",
    "\n",
    "# for _ in range(training_size):\n",
    "#     curr_id = np.random.choice(ids)\n",
    "\n",
    "#     temp = test_df[test_df.prism_consumer_id == curr_id]\n",
    "#     if temp.shape[0] > 0:\n",
    "#         row = temp.sample(n=1,)\n",
    "#         test_df.drop(row.index, inplace=True)\n",
    "\n",
    "#     else:\n",
    "#         row = train_df[train_df.prism_consumer_id == curr_id].sample(n=1, replace=True)\n",
    "\n",
    "#     to_add.append(row)\n",
    "        "
   ]
  },
  {
   "cell_type": "markdown",
   "id": "52712852-dee6-454e-b273-2e8c8181809d",
   "metadata": {},
   "source": [
    "# Model Training"
   ]
  },
  {
   "cell_type": "code",
   "execution_count": 27,
   "id": "d2306ba5-5dbe-4c1d-b2cf-22dc740dc000",
   "metadata": {},
   "outputs": [],
   "source": [
    "from sklearn.model_selection import train_test_split\n",
    "from sklearn.preprocessing import StandardScaler\n",
    "from sklearn.linear_model import LogisticRegression\n",
    "from sklearn.metrics import accuracy_score, classification_report"
   ]
  },
  {
   "cell_type": "code",
   "execution_count": 28,
   "id": "c04b128d-05b6-44fe-982b-474f54c51fa8",
   "metadata": {},
   "outputs": [],
   "source": [
    "# model_ftrs.to_csv('model_ftrs_df.csv')"
   ]
  },
  {
   "cell_type": "code",
   "execution_count": 15,
   "id": "32653bf5-064f-4816-984a-ad8ea71b7800",
   "metadata": {},
   "outputs": [],
   "source": [
    "model_ftrs_sample = model_ftrs.sample(frac=0.3)\n",
    "ids = model_ftrs_sample.prism_consumer_id.unique()\n",
    "\n",
    "test_ratio = 0.25\n",
    "test_size = int(len(ids) * 0.25)\n",
    "\n",
    "test_ids = np.random.choice(ids, size=test_size, replace=False)\n",
    "\n",
    "train = model_ftrs_sample[~model_ftrs_sample.prism_consumer_id.isin(test_ids)]\n",
    "test = model_ftrs_sample[model_ftrs_sample.prism_consumer_id.isin(test_ids)]\n"
   ]
  },
  {
   "cell_type": "code",
   "execution_count": 30,
   "id": "e48adf87-d93f-43a0-b602-d4106ee4befb",
   "metadata": {},
   "outputs": [],
   "source": [
    "ids = model_ftrs.prism_consumer_id.unique()\n",
    "\n",
    "test_ratio = 0.25\n",
    "test_size = int(len(ids) * 0.25)\n",
    "\n",
    "test_ids = np.random.choice(ids, size=test_size, replace=False)"
   ]
  },
  {
   "cell_type": "code",
   "execution_count": 31,
   "id": "6f25eb91-1de2-4fe0-b9c5-1ffe9aa62ba6",
   "metadata": {},
   "outputs": [],
   "source": [
    "train = model_ftrs[~model_ftrs.prism_consumer_id.isin(test_ids)]\n",
    "test = model_ftrs[model_ftrs.prism_consumer_id.isin(test_ids)]"
   ]
  },
  {
   "cell_type": "code",
   "execution_count": 32,
   "id": "67a148be-b0b2-4ecb-bdb9-7af8bf37020b",
   "metadata": {},
   "outputs": [],
   "source": [
    "X_train = train.drop(columns=['prism_consumer_id', 'category'])\n",
    "y_train = train.category\n",
    "\n",
    "X_test = test.drop(columns=['prism_consumer_id', 'category'])\n",
    "y_test = test.category\n",
    "\n",
    "del train\n",
    "del test"
   ]
  },
  {
   "cell_type": "code",
   "execution_count": 20,
   "id": "fd0d9372-a7f5-49f8-85a2-f5f4b8cb8bf7",
   "metadata": {},
   "outputs": [
    {
     "data": {
      "text/plain": [
       "((984137, 1028), (984137,), (322315, 1028), (322315,))"
      ]
     },
     "execution_count": 20,
     "metadata": {},
     "output_type": "execute_result"
    }
   ],
   "source": [
    "X_train.shape, y_train.shape, X_test.shape, y_test.shape"
   ]
  },
  {
   "cell_type": "code",
   "execution_count": 22,
   "id": "08a533fe-d54c-4269-8f75-858966338ff3",
   "metadata": {},
   "outputs": [],
   "source": [
    "X_train_sparse = X_train.astype({col: pd.SparseDtype(X_train[col].dtype, fill_value=0) for col in X_train.columns})"
   ]
  },
  {
   "cell_type": "code",
   "execution_count": 23,
   "id": "ac9e0548-5a92-45e2-bfbe-cff9edec04aa",
   "metadata": {},
   "outputs": [
    {
     "data": {
      "text/plain": [
       "(965927, 1028)"
      ]
     },
     "execution_count": 23,
     "metadata": {},
     "output_type": "execute_result"
    }
   ],
   "source": [
    "X_train_sparse.shape"
   ]
  },
  {
   "cell_type": "code",
   "execution_count": null,
   "id": "fdd6c087-435c-4d64-98bb-d1e0e7e8eaba",
   "metadata": {},
   "outputs": [],
   "source": []
  },
  {
   "cell_type": "markdown",
   "id": "bc4870b3-6093-47e5-bef3-32573f82b6c7",
   "metadata": {},
   "source": [
    "# Logistic Regression"
   ]
  },
  {
   "cell_type": "code",
   "execution_count": null,
   "id": "28ad3cac-422c-4824-883f-7bc5b442a741",
   "metadata": {},
   "outputs": [],
   "source": []
  },
  {
   "cell_type": "code",
   "execution_count": 27,
   "id": "3c328c9c-95a3-457c-a41a-ddee47c0cd32",
   "metadata": {},
   "outputs": [
    {
     "data": {
      "text/html": [
       "<style>#sk-container-id-3 {\n",
       "  /* Definition of color scheme common for light and dark mode */\n",
       "  --sklearn-color-text: black;\n",
       "  --sklearn-color-line: gray;\n",
       "  /* Definition of color scheme for unfitted estimators */\n",
       "  --sklearn-color-unfitted-level-0: #fff5e6;\n",
       "  --sklearn-color-unfitted-level-1: #f6e4d2;\n",
       "  --sklearn-color-unfitted-level-2: #ffe0b3;\n",
       "  --sklearn-color-unfitted-level-3: chocolate;\n",
       "  /* Definition of color scheme for fitted estimators */\n",
       "  --sklearn-color-fitted-level-0: #f0f8ff;\n",
       "  --sklearn-color-fitted-level-1: #d4ebff;\n",
       "  --sklearn-color-fitted-level-2: #b3dbfd;\n",
       "  --sklearn-color-fitted-level-3: cornflowerblue;\n",
       "\n",
       "  /* Specific color for light theme */\n",
       "  --sklearn-color-text-on-default-background: var(--sg-text-color, var(--theme-code-foreground, var(--jp-content-font-color1, black)));\n",
       "  --sklearn-color-background: var(--sg-background-color, var(--theme-background, var(--jp-layout-color0, white)));\n",
       "  --sklearn-color-border-box: var(--sg-text-color, var(--theme-code-foreground, var(--jp-content-font-color1, black)));\n",
       "  --sklearn-color-icon: #696969;\n",
       "\n",
       "  @media (prefers-color-scheme: dark) {\n",
       "    /* Redefinition of color scheme for dark theme */\n",
       "    --sklearn-color-text-on-default-background: var(--sg-text-color, var(--theme-code-foreground, var(--jp-content-font-color1, white)));\n",
       "    --sklearn-color-background: var(--sg-background-color, var(--theme-background, var(--jp-layout-color0, #111)));\n",
       "    --sklearn-color-border-box: var(--sg-text-color, var(--theme-code-foreground, var(--jp-content-font-color1, white)));\n",
       "    --sklearn-color-icon: #878787;\n",
       "  }\n",
       "}\n",
       "\n",
       "#sk-container-id-3 {\n",
       "  color: var(--sklearn-color-text);\n",
       "}\n",
       "\n",
       "#sk-container-id-3 pre {\n",
       "  padding: 0;\n",
       "}\n",
       "\n",
       "#sk-container-id-3 input.sk-hidden--visually {\n",
       "  border: 0;\n",
       "  clip: rect(1px 1px 1px 1px);\n",
       "  clip: rect(1px, 1px, 1px, 1px);\n",
       "  height: 1px;\n",
       "  margin: -1px;\n",
       "  overflow: hidden;\n",
       "  padding: 0;\n",
       "  position: absolute;\n",
       "  width: 1px;\n",
       "}\n",
       "\n",
       "#sk-container-id-3 div.sk-dashed-wrapped {\n",
       "  border: 1px dashed var(--sklearn-color-line);\n",
       "  margin: 0 0.4em 0.5em 0.4em;\n",
       "  box-sizing: border-box;\n",
       "  padding-bottom: 0.4em;\n",
       "  background-color: var(--sklearn-color-background);\n",
       "}\n",
       "\n",
       "#sk-container-id-3 div.sk-container {\n",
       "  /* jupyter's `normalize.less` sets `[hidden] { display: none; }`\n",
       "     but bootstrap.min.css set `[hidden] { display: none !important; }`\n",
       "     so we also need the `!important` here to be able to override the\n",
       "     default hidden behavior on the sphinx rendered scikit-learn.org.\n",
       "     See: https://github.com/scikit-learn/scikit-learn/issues/21755 */\n",
       "  display: inline-block !important;\n",
       "  position: relative;\n",
       "}\n",
       "\n",
       "#sk-container-id-3 div.sk-text-repr-fallback {\n",
       "  display: none;\n",
       "}\n",
       "\n",
       "div.sk-parallel-item,\n",
       "div.sk-serial,\n",
       "div.sk-item {\n",
       "  /* draw centered vertical line to link estimators */\n",
       "  background-image: linear-gradient(var(--sklearn-color-text-on-default-background), var(--sklearn-color-text-on-default-background));\n",
       "  background-size: 2px 100%;\n",
       "  background-repeat: no-repeat;\n",
       "  background-position: center center;\n",
       "}\n",
       "\n",
       "/* Parallel-specific style estimator block */\n",
       "\n",
       "#sk-container-id-3 div.sk-parallel-item::after {\n",
       "  content: \"\";\n",
       "  width: 100%;\n",
       "  border-bottom: 2px solid var(--sklearn-color-text-on-default-background);\n",
       "  flex-grow: 1;\n",
       "}\n",
       "\n",
       "#sk-container-id-3 div.sk-parallel {\n",
       "  display: flex;\n",
       "  align-items: stretch;\n",
       "  justify-content: center;\n",
       "  background-color: var(--sklearn-color-background);\n",
       "  position: relative;\n",
       "}\n",
       "\n",
       "#sk-container-id-3 div.sk-parallel-item {\n",
       "  display: flex;\n",
       "  flex-direction: column;\n",
       "}\n",
       "\n",
       "#sk-container-id-3 div.sk-parallel-item:first-child::after {\n",
       "  align-self: flex-end;\n",
       "  width: 50%;\n",
       "}\n",
       "\n",
       "#sk-container-id-3 div.sk-parallel-item:last-child::after {\n",
       "  align-self: flex-start;\n",
       "  width: 50%;\n",
       "}\n",
       "\n",
       "#sk-container-id-3 div.sk-parallel-item:only-child::after {\n",
       "  width: 0;\n",
       "}\n",
       "\n",
       "/* Serial-specific style estimator block */\n",
       "\n",
       "#sk-container-id-3 div.sk-serial {\n",
       "  display: flex;\n",
       "  flex-direction: column;\n",
       "  align-items: center;\n",
       "  background-color: var(--sklearn-color-background);\n",
       "  padding-right: 1em;\n",
       "  padding-left: 1em;\n",
       "}\n",
       "\n",
       "\n",
       "/* Toggleable style: style used for estimator/Pipeline/ColumnTransformer box that is\n",
       "clickable and can be expanded/collapsed.\n",
       "- Pipeline and ColumnTransformer use this feature and define the default style\n",
       "- Estimators will overwrite some part of the style using the `sk-estimator` class\n",
       "*/\n",
       "\n",
       "/* Pipeline and ColumnTransformer style (default) */\n",
       "\n",
       "#sk-container-id-3 div.sk-toggleable {\n",
       "  /* Default theme specific background. It is overwritten whether we have a\n",
       "  specific estimator or a Pipeline/ColumnTransformer */\n",
       "  background-color: var(--sklearn-color-background);\n",
       "}\n",
       "\n",
       "/* Toggleable label */\n",
       "#sk-container-id-3 label.sk-toggleable__label {\n",
       "  cursor: pointer;\n",
       "  display: block;\n",
       "  width: 100%;\n",
       "  margin-bottom: 0;\n",
       "  padding: 0.5em;\n",
       "  box-sizing: border-box;\n",
       "  text-align: center;\n",
       "}\n",
       "\n",
       "#sk-container-id-3 label.sk-toggleable__label-arrow:before {\n",
       "  /* Arrow on the left of the label */\n",
       "  content: \"▸\";\n",
       "  float: left;\n",
       "  margin-right: 0.25em;\n",
       "  color: var(--sklearn-color-icon);\n",
       "}\n",
       "\n",
       "#sk-container-id-3 label.sk-toggleable__label-arrow:hover:before {\n",
       "  color: var(--sklearn-color-text);\n",
       "}\n",
       "\n",
       "/* Toggleable content - dropdown */\n",
       "\n",
       "#sk-container-id-3 div.sk-toggleable__content {\n",
       "  max-height: 0;\n",
       "  max-width: 0;\n",
       "  overflow: hidden;\n",
       "  text-align: left;\n",
       "  /* unfitted */\n",
       "  background-color: var(--sklearn-color-unfitted-level-0);\n",
       "}\n",
       "\n",
       "#sk-container-id-3 div.sk-toggleable__content.fitted {\n",
       "  /* fitted */\n",
       "  background-color: var(--sklearn-color-fitted-level-0);\n",
       "}\n",
       "\n",
       "#sk-container-id-3 div.sk-toggleable__content pre {\n",
       "  margin: 0.2em;\n",
       "  border-radius: 0.25em;\n",
       "  color: var(--sklearn-color-text);\n",
       "  /* unfitted */\n",
       "  background-color: var(--sklearn-color-unfitted-level-0);\n",
       "}\n",
       "\n",
       "#sk-container-id-3 div.sk-toggleable__content.fitted pre {\n",
       "  /* unfitted */\n",
       "  background-color: var(--sklearn-color-fitted-level-0);\n",
       "}\n",
       "\n",
       "#sk-container-id-3 input.sk-toggleable__control:checked~div.sk-toggleable__content {\n",
       "  /* Expand drop-down */\n",
       "  max-height: 200px;\n",
       "  max-width: 100%;\n",
       "  overflow: auto;\n",
       "}\n",
       "\n",
       "#sk-container-id-3 input.sk-toggleable__control:checked~label.sk-toggleable__label-arrow:before {\n",
       "  content: \"▾\";\n",
       "}\n",
       "\n",
       "/* Pipeline/ColumnTransformer-specific style */\n",
       "\n",
       "#sk-container-id-3 div.sk-label input.sk-toggleable__control:checked~label.sk-toggleable__label {\n",
       "  color: var(--sklearn-color-text);\n",
       "  background-color: var(--sklearn-color-unfitted-level-2);\n",
       "}\n",
       "\n",
       "#sk-container-id-3 div.sk-label.fitted input.sk-toggleable__control:checked~label.sk-toggleable__label {\n",
       "  background-color: var(--sklearn-color-fitted-level-2);\n",
       "}\n",
       "\n",
       "/* Estimator-specific style */\n",
       "\n",
       "/* Colorize estimator box */\n",
       "#sk-container-id-3 div.sk-estimator input.sk-toggleable__control:checked~label.sk-toggleable__label {\n",
       "  /* unfitted */\n",
       "  background-color: var(--sklearn-color-unfitted-level-2);\n",
       "}\n",
       "\n",
       "#sk-container-id-3 div.sk-estimator.fitted input.sk-toggleable__control:checked~label.sk-toggleable__label {\n",
       "  /* fitted */\n",
       "  background-color: var(--sklearn-color-fitted-level-2);\n",
       "}\n",
       "\n",
       "#sk-container-id-3 div.sk-label label.sk-toggleable__label,\n",
       "#sk-container-id-3 div.sk-label label {\n",
       "  /* The background is the default theme color */\n",
       "  color: var(--sklearn-color-text-on-default-background);\n",
       "}\n",
       "\n",
       "/* On hover, darken the color of the background */\n",
       "#sk-container-id-3 div.sk-label:hover label.sk-toggleable__label {\n",
       "  color: var(--sklearn-color-text);\n",
       "  background-color: var(--sklearn-color-unfitted-level-2);\n",
       "}\n",
       "\n",
       "/* Label box, darken color on hover, fitted */\n",
       "#sk-container-id-3 div.sk-label.fitted:hover label.sk-toggleable__label.fitted {\n",
       "  color: var(--sklearn-color-text);\n",
       "  background-color: var(--sklearn-color-fitted-level-2);\n",
       "}\n",
       "\n",
       "/* Estimator label */\n",
       "\n",
       "#sk-container-id-3 div.sk-label label {\n",
       "  font-family: monospace;\n",
       "  font-weight: bold;\n",
       "  display: inline-block;\n",
       "  line-height: 1.2em;\n",
       "}\n",
       "\n",
       "#sk-container-id-3 div.sk-label-container {\n",
       "  text-align: center;\n",
       "}\n",
       "\n",
       "/* Estimator-specific */\n",
       "#sk-container-id-3 div.sk-estimator {\n",
       "  font-family: monospace;\n",
       "  border: 1px dotted var(--sklearn-color-border-box);\n",
       "  border-radius: 0.25em;\n",
       "  box-sizing: border-box;\n",
       "  margin-bottom: 0.5em;\n",
       "  /* unfitted */\n",
       "  background-color: var(--sklearn-color-unfitted-level-0);\n",
       "}\n",
       "\n",
       "#sk-container-id-3 div.sk-estimator.fitted {\n",
       "  /* fitted */\n",
       "  background-color: var(--sklearn-color-fitted-level-0);\n",
       "}\n",
       "\n",
       "/* on hover */\n",
       "#sk-container-id-3 div.sk-estimator:hover {\n",
       "  /* unfitted */\n",
       "  background-color: var(--sklearn-color-unfitted-level-2);\n",
       "}\n",
       "\n",
       "#sk-container-id-3 div.sk-estimator.fitted:hover {\n",
       "  /* fitted */\n",
       "  background-color: var(--sklearn-color-fitted-level-2);\n",
       "}\n",
       "\n",
       "/* Specification for estimator info (e.g. \"i\" and \"?\") */\n",
       "\n",
       "/* Common style for \"i\" and \"?\" */\n",
       "\n",
       ".sk-estimator-doc-link,\n",
       "a:link.sk-estimator-doc-link,\n",
       "a:visited.sk-estimator-doc-link {\n",
       "  float: right;\n",
       "  font-size: smaller;\n",
       "  line-height: 1em;\n",
       "  font-family: monospace;\n",
       "  background-color: var(--sklearn-color-background);\n",
       "  border-radius: 1em;\n",
       "  height: 1em;\n",
       "  width: 1em;\n",
       "  text-decoration: none !important;\n",
       "  margin-left: 1ex;\n",
       "  /* unfitted */\n",
       "  border: var(--sklearn-color-unfitted-level-1) 1pt solid;\n",
       "  color: var(--sklearn-color-unfitted-level-1);\n",
       "}\n",
       "\n",
       ".sk-estimator-doc-link.fitted,\n",
       "a:link.sk-estimator-doc-link.fitted,\n",
       "a:visited.sk-estimator-doc-link.fitted {\n",
       "  /* fitted */\n",
       "  border: var(--sklearn-color-fitted-level-1) 1pt solid;\n",
       "  color: var(--sklearn-color-fitted-level-1);\n",
       "}\n",
       "\n",
       "/* On hover */\n",
       "div.sk-estimator:hover .sk-estimator-doc-link:hover,\n",
       ".sk-estimator-doc-link:hover,\n",
       "div.sk-label-container:hover .sk-estimator-doc-link:hover,\n",
       ".sk-estimator-doc-link:hover {\n",
       "  /* unfitted */\n",
       "  background-color: var(--sklearn-color-unfitted-level-3);\n",
       "  color: var(--sklearn-color-background);\n",
       "  text-decoration: none;\n",
       "}\n",
       "\n",
       "div.sk-estimator.fitted:hover .sk-estimator-doc-link.fitted:hover,\n",
       ".sk-estimator-doc-link.fitted:hover,\n",
       "div.sk-label-container:hover .sk-estimator-doc-link.fitted:hover,\n",
       ".sk-estimator-doc-link.fitted:hover {\n",
       "  /* fitted */\n",
       "  background-color: var(--sklearn-color-fitted-level-3);\n",
       "  color: var(--sklearn-color-background);\n",
       "  text-decoration: none;\n",
       "}\n",
       "\n",
       "/* Span, style for the box shown on hovering the info icon */\n",
       ".sk-estimator-doc-link span {\n",
       "  display: none;\n",
       "  z-index: 9999;\n",
       "  position: relative;\n",
       "  font-weight: normal;\n",
       "  right: .2ex;\n",
       "  padding: .5ex;\n",
       "  margin: .5ex;\n",
       "  width: min-content;\n",
       "  min-width: 20ex;\n",
       "  max-width: 50ex;\n",
       "  color: var(--sklearn-color-text);\n",
       "  box-shadow: 2pt 2pt 4pt #999;\n",
       "  /* unfitted */\n",
       "  background: var(--sklearn-color-unfitted-level-0);\n",
       "  border: .5pt solid var(--sklearn-color-unfitted-level-3);\n",
       "}\n",
       "\n",
       ".sk-estimator-doc-link.fitted span {\n",
       "  /* fitted */\n",
       "  background: var(--sklearn-color-fitted-level-0);\n",
       "  border: var(--sklearn-color-fitted-level-3);\n",
       "}\n",
       "\n",
       ".sk-estimator-doc-link:hover span {\n",
       "  display: block;\n",
       "}\n",
       "\n",
       "/* \"?\"-specific style due to the `<a>` HTML tag */\n",
       "\n",
       "#sk-container-id-3 a.estimator_doc_link {\n",
       "  float: right;\n",
       "  font-size: 1rem;\n",
       "  line-height: 1em;\n",
       "  font-family: monospace;\n",
       "  background-color: var(--sklearn-color-background);\n",
       "  border-radius: 1rem;\n",
       "  height: 1rem;\n",
       "  width: 1rem;\n",
       "  text-decoration: none;\n",
       "  /* unfitted */\n",
       "  color: var(--sklearn-color-unfitted-level-1);\n",
       "  border: var(--sklearn-color-unfitted-level-1) 1pt solid;\n",
       "}\n",
       "\n",
       "#sk-container-id-3 a.estimator_doc_link.fitted {\n",
       "  /* fitted */\n",
       "  border: var(--sklearn-color-fitted-level-1) 1pt solid;\n",
       "  color: var(--sklearn-color-fitted-level-1);\n",
       "}\n",
       "\n",
       "/* On hover */\n",
       "#sk-container-id-3 a.estimator_doc_link:hover {\n",
       "  /* unfitted */\n",
       "  background-color: var(--sklearn-color-unfitted-level-3);\n",
       "  color: var(--sklearn-color-background);\n",
       "  text-decoration: none;\n",
       "}\n",
       "\n",
       "#sk-container-id-3 a.estimator_doc_link.fitted:hover {\n",
       "  /* fitted */\n",
       "  background-color: var(--sklearn-color-fitted-level-3);\n",
       "}\n",
       "</style><div id=\"sk-container-id-3\" class=\"sk-top-container\"><div class=\"sk-text-repr-fallback\"><pre>LogisticRegression(l1_ratio=0.5, n_jobs=-1, random_state=42, solver=&#x27;saga&#x27;)</pre><b>In a Jupyter environment, please rerun this cell to show the HTML representation or trust the notebook. <br />On GitHub, the HTML representation is unable to render, please try loading this page with nbviewer.org.</b></div><div class=\"sk-container\" hidden><div class=\"sk-item\"><div class=\"sk-estimator  sk-toggleable\"><input class=\"sk-toggleable__control sk-hidden--visually\" id=\"sk-estimator-id-3\" type=\"checkbox\" checked><label for=\"sk-estimator-id-3\" class=\"sk-toggleable__label  sk-toggleable__label-arrow \">&nbsp;&nbsp;LogisticRegression<a class=\"sk-estimator-doc-link \" rel=\"noreferrer\" target=\"_blank\" href=\"https://scikit-learn.org/1.4/modules/generated/sklearn.linear_model.LogisticRegression.html\">?<span>Documentation for LogisticRegression</span></a><span class=\"sk-estimator-doc-link \">i<span>Not fitted</span></span></label><div class=\"sk-toggleable__content \"><pre>LogisticRegression(l1_ratio=0.5, n_jobs=-1, random_state=42, solver=&#x27;saga&#x27;)</pre></div> </div></div></div></div>"
      ],
      "text/plain": [
       "LogisticRegression(l1_ratio=0.5, n_jobs=-1, random_state=42, solver='saga')"
      ]
     },
     "execution_count": 27,
     "metadata": {},
     "output_type": "execute_result"
    }
   ],
   "source": [
    "lr = LogisticRegression(max_iter=100, random_state=42, n_jobs=-1, solver='saga', l1_ratio=0.5)\n",
    "# lr.to('cuda')\n",
    "lr"
   ]
  },
  {
   "cell_type": "code",
   "execution_count": 28,
   "id": "eccf316a-0e64-41ae-b36b-5ec98268e5a3",
   "metadata": {},
   "outputs": [
    {
     "name": "stderr",
     "output_type": "stream",
     "text": [
      "/opt/conda/lib/python3.11/site-packages/sklearn/linear_model/_logistic.py:1175: UserWarning: l1_ratio parameter is only used when penalty is 'elasticnet'. Got (penalty=l2)\n",
      "  warnings.warn(\n",
      "/opt/conda/lib/python3.11/site-packages/sklearn/linear_model/_sag.py:350: ConvergenceWarning: The max_iter was reached which means the coef_ did not converge\n",
      "  warnings.warn(\n"
     ]
    },
    {
     "data": {
      "text/html": [
       "<style>#sk-container-id-4 {\n",
       "  /* Definition of color scheme common for light and dark mode */\n",
       "  --sklearn-color-text: black;\n",
       "  --sklearn-color-line: gray;\n",
       "  /* Definition of color scheme for unfitted estimators */\n",
       "  --sklearn-color-unfitted-level-0: #fff5e6;\n",
       "  --sklearn-color-unfitted-level-1: #f6e4d2;\n",
       "  --sklearn-color-unfitted-level-2: #ffe0b3;\n",
       "  --sklearn-color-unfitted-level-3: chocolate;\n",
       "  /* Definition of color scheme for fitted estimators */\n",
       "  --sklearn-color-fitted-level-0: #f0f8ff;\n",
       "  --sklearn-color-fitted-level-1: #d4ebff;\n",
       "  --sklearn-color-fitted-level-2: #b3dbfd;\n",
       "  --sklearn-color-fitted-level-3: cornflowerblue;\n",
       "\n",
       "  /* Specific color for light theme */\n",
       "  --sklearn-color-text-on-default-background: var(--sg-text-color, var(--theme-code-foreground, var(--jp-content-font-color1, black)));\n",
       "  --sklearn-color-background: var(--sg-background-color, var(--theme-background, var(--jp-layout-color0, white)));\n",
       "  --sklearn-color-border-box: var(--sg-text-color, var(--theme-code-foreground, var(--jp-content-font-color1, black)));\n",
       "  --sklearn-color-icon: #696969;\n",
       "\n",
       "  @media (prefers-color-scheme: dark) {\n",
       "    /* Redefinition of color scheme for dark theme */\n",
       "    --sklearn-color-text-on-default-background: var(--sg-text-color, var(--theme-code-foreground, var(--jp-content-font-color1, white)));\n",
       "    --sklearn-color-background: var(--sg-background-color, var(--theme-background, var(--jp-layout-color0, #111)));\n",
       "    --sklearn-color-border-box: var(--sg-text-color, var(--theme-code-foreground, var(--jp-content-font-color1, white)));\n",
       "    --sklearn-color-icon: #878787;\n",
       "  }\n",
       "}\n",
       "\n",
       "#sk-container-id-4 {\n",
       "  color: var(--sklearn-color-text);\n",
       "}\n",
       "\n",
       "#sk-container-id-4 pre {\n",
       "  padding: 0;\n",
       "}\n",
       "\n",
       "#sk-container-id-4 input.sk-hidden--visually {\n",
       "  border: 0;\n",
       "  clip: rect(1px 1px 1px 1px);\n",
       "  clip: rect(1px, 1px, 1px, 1px);\n",
       "  height: 1px;\n",
       "  margin: -1px;\n",
       "  overflow: hidden;\n",
       "  padding: 0;\n",
       "  position: absolute;\n",
       "  width: 1px;\n",
       "}\n",
       "\n",
       "#sk-container-id-4 div.sk-dashed-wrapped {\n",
       "  border: 1px dashed var(--sklearn-color-line);\n",
       "  margin: 0 0.4em 0.5em 0.4em;\n",
       "  box-sizing: border-box;\n",
       "  padding-bottom: 0.4em;\n",
       "  background-color: var(--sklearn-color-background);\n",
       "}\n",
       "\n",
       "#sk-container-id-4 div.sk-container {\n",
       "  /* jupyter's `normalize.less` sets `[hidden] { display: none; }`\n",
       "     but bootstrap.min.css set `[hidden] { display: none !important; }`\n",
       "     so we also need the `!important` here to be able to override the\n",
       "     default hidden behavior on the sphinx rendered scikit-learn.org.\n",
       "     See: https://github.com/scikit-learn/scikit-learn/issues/21755 */\n",
       "  display: inline-block !important;\n",
       "  position: relative;\n",
       "}\n",
       "\n",
       "#sk-container-id-4 div.sk-text-repr-fallback {\n",
       "  display: none;\n",
       "}\n",
       "\n",
       "div.sk-parallel-item,\n",
       "div.sk-serial,\n",
       "div.sk-item {\n",
       "  /* draw centered vertical line to link estimators */\n",
       "  background-image: linear-gradient(var(--sklearn-color-text-on-default-background), var(--sklearn-color-text-on-default-background));\n",
       "  background-size: 2px 100%;\n",
       "  background-repeat: no-repeat;\n",
       "  background-position: center center;\n",
       "}\n",
       "\n",
       "/* Parallel-specific style estimator block */\n",
       "\n",
       "#sk-container-id-4 div.sk-parallel-item::after {\n",
       "  content: \"\";\n",
       "  width: 100%;\n",
       "  border-bottom: 2px solid var(--sklearn-color-text-on-default-background);\n",
       "  flex-grow: 1;\n",
       "}\n",
       "\n",
       "#sk-container-id-4 div.sk-parallel {\n",
       "  display: flex;\n",
       "  align-items: stretch;\n",
       "  justify-content: center;\n",
       "  background-color: var(--sklearn-color-background);\n",
       "  position: relative;\n",
       "}\n",
       "\n",
       "#sk-container-id-4 div.sk-parallel-item {\n",
       "  display: flex;\n",
       "  flex-direction: column;\n",
       "}\n",
       "\n",
       "#sk-container-id-4 div.sk-parallel-item:first-child::after {\n",
       "  align-self: flex-end;\n",
       "  width: 50%;\n",
       "}\n",
       "\n",
       "#sk-container-id-4 div.sk-parallel-item:last-child::after {\n",
       "  align-self: flex-start;\n",
       "  width: 50%;\n",
       "}\n",
       "\n",
       "#sk-container-id-4 div.sk-parallel-item:only-child::after {\n",
       "  width: 0;\n",
       "}\n",
       "\n",
       "/* Serial-specific style estimator block */\n",
       "\n",
       "#sk-container-id-4 div.sk-serial {\n",
       "  display: flex;\n",
       "  flex-direction: column;\n",
       "  align-items: center;\n",
       "  background-color: var(--sklearn-color-background);\n",
       "  padding-right: 1em;\n",
       "  padding-left: 1em;\n",
       "}\n",
       "\n",
       "\n",
       "/* Toggleable style: style used for estimator/Pipeline/ColumnTransformer box that is\n",
       "clickable and can be expanded/collapsed.\n",
       "- Pipeline and ColumnTransformer use this feature and define the default style\n",
       "- Estimators will overwrite some part of the style using the `sk-estimator` class\n",
       "*/\n",
       "\n",
       "/* Pipeline and ColumnTransformer style (default) */\n",
       "\n",
       "#sk-container-id-4 div.sk-toggleable {\n",
       "  /* Default theme specific background. It is overwritten whether we have a\n",
       "  specific estimator or a Pipeline/ColumnTransformer */\n",
       "  background-color: var(--sklearn-color-background);\n",
       "}\n",
       "\n",
       "/* Toggleable label */\n",
       "#sk-container-id-4 label.sk-toggleable__label {\n",
       "  cursor: pointer;\n",
       "  display: block;\n",
       "  width: 100%;\n",
       "  margin-bottom: 0;\n",
       "  padding: 0.5em;\n",
       "  box-sizing: border-box;\n",
       "  text-align: center;\n",
       "}\n",
       "\n",
       "#sk-container-id-4 label.sk-toggleable__label-arrow:before {\n",
       "  /* Arrow on the left of the label */\n",
       "  content: \"▸\";\n",
       "  float: left;\n",
       "  margin-right: 0.25em;\n",
       "  color: var(--sklearn-color-icon);\n",
       "}\n",
       "\n",
       "#sk-container-id-4 label.sk-toggleable__label-arrow:hover:before {\n",
       "  color: var(--sklearn-color-text);\n",
       "}\n",
       "\n",
       "/* Toggleable content - dropdown */\n",
       "\n",
       "#sk-container-id-4 div.sk-toggleable__content {\n",
       "  max-height: 0;\n",
       "  max-width: 0;\n",
       "  overflow: hidden;\n",
       "  text-align: left;\n",
       "  /* unfitted */\n",
       "  background-color: var(--sklearn-color-unfitted-level-0);\n",
       "}\n",
       "\n",
       "#sk-container-id-4 div.sk-toggleable__content.fitted {\n",
       "  /* fitted */\n",
       "  background-color: var(--sklearn-color-fitted-level-0);\n",
       "}\n",
       "\n",
       "#sk-container-id-4 div.sk-toggleable__content pre {\n",
       "  margin: 0.2em;\n",
       "  border-radius: 0.25em;\n",
       "  color: var(--sklearn-color-text);\n",
       "  /* unfitted */\n",
       "  background-color: var(--sklearn-color-unfitted-level-0);\n",
       "}\n",
       "\n",
       "#sk-container-id-4 div.sk-toggleable__content.fitted pre {\n",
       "  /* unfitted */\n",
       "  background-color: var(--sklearn-color-fitted-level-0);\n",
       "}\n",
       "\n",
       "#sk-container-id-4 input.sk-toggleable__control:checked~div.sk-toggleable__content {\n",
       "  /* Expand drop-down */\n",
       "  max-height: 200px;\n",
       "  max-width: 100%;\n",
       "  overflow: auto;\n",
       "}\n",
       "\n",
       "#sk-container-id-4 input.sk-toggleable__control:checked~label.sk-toggleable__label-arrow:before {\n",
       "  content: \"▾\";\n",
       "}\n",
       "\n",
       "/* Pipeline/ColumnTransformer-specific style */\n",
       "\n",
       "#sk-container-id-4 div.sk-label input.sk-toggleable__control:checked~label.sk-toggleable__label {\n",
       "  color: var(--sklearn-color-text);\n",
       "  background-color: var(--sklearn-color-unfitted-level-2);\n",
       "}\n",
       "\n",
       "#sk-container-id-4 div.sk-label.fitted input.sk-toggleable__control:checked~label.sk-toggleable__label {\n",
       "  background-color: var(--sklearn-color-fitted-level-2);\n",
       "}\n",
       "\n",
       "/* Estimator-specific style */\n",
       "\n",
       "/* Colorize estimator box */\n",
       "#sk-container-id-4 div.sk-estimator input.sk-toggleable__control:checked~label.sk-toggleable__label {\n",
       "  /* unfitted */\n",
       "  background-color: var(--sklearn-color-unfitted-level-2);\n",
       "}\n",
       "\n",
       "#sk-container-id-4 div.sk-estimator.fitted input.sk-toggleable__control:checked~label.sk-toggleable__label {\n",
       "  /* fitted */\n",
       "  background-color: var(--sklearn-color-fitted-level-2);\n",
       "}\n",
       "\n",
       "#sk-container-id-4 div.sk-label label.sk-toggleable__label,\n",
       "#sk-container-id-4 div.sk-label label {\n",
       "  /* The background is the default theme color */\n",
       "  color: var(--sklearn-color-text-on-default-background);\n",
       "}\n",
       "\n",
       "/* On hover, darken the color of the background */\n",
       "#sk-container-id-4 div.sk-label:hover label.sk-toggleable__label {\n",
       "  color: var(--sklearn-color-text);\n",
       "  background-color: var(--sklearn-color-unfitted-level-2);\n",
       "}\n",
       "\n",
       "/* Label box, darken color on hover, fitted */\n",
       "#sk-container-id-4 div.sk-label.fitted:hover label.sk-toggleable__label.fitted {\n",
       "  color: var(--sklearn-color-text);\n",
       "  background-color: var(--sklearn-color-fitted-level-2);\n",
       "}\n",
       "\n",
       "/* Estimator label */\n",
       "\n",
       "#sk-container-id-4 div.sk-label label {\n",
       "  font-family: monospace;\n",
       "  font-weight: bold;\n",
       "  display: inline-block;\n",
       "  line-height: 1.2em;\n",
       "}\n",
       "\n",
       "#sk-container-id-4 div.sk-label-container {\n",
       "  text-align: center;\n",
       "}\n",
       "\n",
       "/* Estimator-specific */\n",
       "#sk-container-id-4 div.sk-estimator {\n",
       "  font-family: monospace;\n",
       "  border: 1px dotted var(--sklearn-color-border-box);\n",
       "  border-radius: 0.25em;\n",
       "  box-sizing: border-box;\n",
       "  margin-bottom: 0.5em;\n",
       "  /* unfitted */\n",
       "  background-color: var(--sklearn-color-unfitted-level-0);\n",
       "}\n",
       "\n",
       "#sk-container-id-4 div.sk-estimator.fitted {\n",
       "  /* fitted */\n",
       "  background-color: var(--sklearn-color-fitted-level-0);\n",
       "}\n",
       "\n",
       "/* on hover */\n",
       "#sk-container-id-4 div.sk-estimator:hover {\n",
       "  /* unfitted */\n",
       "  background-color: var(--sklearn-color-unfitted-level-2);\n",
       "}\n",
       "\n",
       "#sk-container-id-4 div.sk-estimator.fitted:hover {\n",
       "  /* fitted */\n",
       "  background-color: var(--sklearn-color-fitted-level-2);\n",
       "}\n",
       "\n",
       "/* Specification for estimator info (e.g. \"i\" and \"?\") */\n",
       "\n",
       "/* Common style for \"i\" and \"?\" */\n",
       "\n",
       ".sk-estimator-doc-link,\n",
       "a:link.sk-estimator-doc-link,\n",
       "a:visited.sk-estimator-doc-link {\n",
       "  float: right;\n",
       "  font-size: smaller;\n",
       "  line-height: 1em;\n",
       "  font-family: monospace;\n",
       "  background-color: var(--sklearn-color-background);\n",
       "  border-radius: 1em;\n",
       "  height: 1em;\n",
       "  width: 1em;\n",
       "  text-decoration: none !important;\n",
       "  margin-left: 1ex;\n",
       "  /* unfitted */\n",
       "  border: var(--sklearn-color-unfitted-level-1) 1pt solid;\n",
       "  color: var(--sklearn-color-unfitted-level-1);\n",
       "}\n",
       "\n",
       ".sk-estimator-doc-link.fitted,\n",
       "a:link.sk-estimator-doc-link.fitted,\n",
       "a:visited.sk-estimator-doc-link.fitted {\n",
       "  /* fitted */\n",
       "  border: var(--sklearn-color-fitted-level-1) 1pt solid;\n",
       "  color: var(--sklearn-color-fitted-level-1);\n",
       "}\n",
       "\n",
       "/* On hover */\n",
       "div.sk-estimator:hover .sk-estimator-doc-link:hover,\n",
       ".sk-estimator-doc-link:hover,\n",
       "div.sk-label-container:hover .sk-estimator-doc-link:hover,\n",
       ".sk-estimator-doc-link:hover {\n",
       "  /* unfitted */\n",
       "  background-color: var(--sklearn-color-unfitted-level-3);\n",
       "  color: var(--sklearn-color-background);\n",
       "  text-decoration: none;\n",
       "}\n",
       "\n",
       "div.sk-estimator.fitted:hover .sk-estimator-doc-link.fitted:hover,\n",
       ".sk-estimator-doc-link.fitted:hover,\n",
       "div.sk-label-container:hover .sk-estimator-doc-link.fitted:hover,\n",
       ".sk-estimator-doc-link.fitted:hover {\n",
       "  /* fitted */\n",
       "  background-color: var(--sklearn-color-fitted-level-3);\n",
       "  color: var(--sklearn-color-background);\n",
       "  text-decoration: none;\n",
       "}\n",
       "\n",
       "/* Span, style for the box shown on hovering the info icon */\n",
       ".sk-estimator-doc-link span {\n",
       "  display: none;\n",
       "  z-index: 9999;\n",
       "  position: relative;\n",
       "  font-weight: normal;\n",
       "  right: .2ex;\n",
       "  padding: .5ex;\n",
       "  margin: .5ex;\n",
       "  width: min-content;\n",
       "  min-width: 20ex;\n",
       "  max-width: 50ex;\n",
       "  color: var(--sklearn-color-text);\n",
       "  box-shadow: 2pt 2pt 4pt #999;\n",
       "  /* unfitted */\n",
       "  background: var(--sklearn-color-unfitted-level-0);\n",
       "  border: .5pt solid var(--sklearn-color-unfitted-level-3);\n",
       "}\n",
       "\n",
       ".sk-estimator-doc-link.fitted span {\n",
       "  /* fitted */\n",
       "  background: var(--sklearn-color-fitted-level-0);\n",
       "  border: var(--sklearn-color-fitted-level-3);\n",
       "}\n",
       "\n",
       ".sk-estimator-doc-link:hover span {\n",
       "  display: block;\n",
       "}\n",
       "\n",
       "/* \"?\"-specific style due to the `<a>` HTML tag */\n",
       "\n",
       "#sk-container-id-4 a.estimator_doc_link {\n",
       "  float: right;\n",
       "  font-size: 1rem;\n",
       "  line-height: 1em;\n",
       "  font-family: monospace;\n",
       "  background-color: var(--sklearn-color-background);\n",
       "  border-radius: 1rem;\n",
       "  height: 1rem;\n",
       "  width: 1rem;\n",
       "  text-decoration: none;\n",
       "  /* unfitted */\n",
       "  color: var(--sklearn-color-unfitted-level-1);\n",
       "  border: var(--sklearn-color-unfitted-level-1) 1pt solid;\n",
       "}\n",
       "\n",
       "#sk-container-id-4 a.estimator_doc_link.fitted {\n",
       "  /* fitted */\n",
       "  border: var(--sklearn-color-fitted-level-1) 1pt solid;\n",
       "  color: var(--sklearn-color-fitted-level-1);\n",
       "}\n",
       "\n",
       "/* On hover */\n",
       "#sk-container-id-4 a.estimator_doc_link:hover {\n",
       "  /* unfitted */\n",
       "  background-color: var(--sklearn-color-unfitted-level-3);\n",
       "  color: var(--sklearn-color-background);\n",
       "  text-decoration: none;\n",
       "}\n",
       "\n",
       "#sk-container-id-4 a.estimator_doc_link.fitted:hover {\n",
       "  /* fitted */\n",
       "  background-color: var(--sklearn-color-fitted-level-3);\n",
       "}\n",
       "</style><div id=\"sk-container-id-4\" class=\"sk-top-container\"><div class=\"sk-text-repr-fallback\"><pre>LogisticRegression(l1_ratio=0.5, n_jobs=-1, random_state=42, solver=&#x27;saga&#x27;)</pre><b>In a Jupyter environment, please rerun this cell to show the HTML representation or trust the notebook. <br />On GitHub, the HTML representation is unable to render, please try loading this page with nbviewer.org.</b></div><div class=\"sk-container\" hidden><div class=\"sk-item\"><div class=\"sk-estimator fitted sk-toggleable\"><input class=\"sk-toggleable__control sk-hidden--visually\" id=\"sk-estimator-id-4\" type=\"checkbox\" checked><label for=\"sk-estimator-id-4\" class=\"sk-toggleable__label fitted sk-toggleable__label-arrow fitted\">&nbsp;&nbsp;LogisticRegression<a class=\"sk-estimator-doc-link fitted\" rel=\"noreferrer\" target=\"_blank\" href=\"https://scikit-learn.org/1.4/modules/generated/sklearn.linear_model.LogisticRegression.html\">?<span>Documentation for LogisticRegression</span></a><span class=\"sk-estimator-doc-link fitted\">i<span>Fitted</span></span></label><div class=\"sk-toggleable__content fitted\"><pre>LogisticRegression(l1_ratio=0.5, n_jobs=-1, random_state=42, solver=&#x27;saga&#x27;)</pre></div> </div></div></div></div>"
      ],
      "text/plain": [
       "LogisticRegression(l1_ratio=0.5, n_jobs=-1, random_state=42, solver='saga')"
      ]
     },
     "execution_count": 28,
     "metadata": {},
     "output_type": "execute_result"
    }
   ],
   "source": [
    "lr.fit(X_train_sparse, y_train) # Increase max_iter if needed -- never converges\n"
   ]
  },
  {
   "cell_type": "code",
   "execution_count": null,
   "id": "fb7fee9b-eeb8-47bb-8bde-6a433cb48d19",
   "metadata": {},
   "outputs": [],
   "source": []
  },
  {
   "cell_type": "code",
   "execution_count": 29,
   "id": "09683e5d-b07a-4e66-a8a1-789f0827819d",
   "metadata": {},
   "outputs": [
    {
     "name": "stderr",
     "output_type": "stream",
     "text": [
      "/opt/conda/lib/python3.11/site-packages/sklearn/utils/validation.py:869: UserWarning: pandas.DataFrame with sparse columns found.It will be converted to a dense numpy array.\n",
      "  warnings.warn(\n",
      "/opt/conda/lib/python3.11/site-packages/sklearn/utils/validation.py:869: UserWarning: pandas.DataFrame with sparse columns found.It will be converted to a dense numpy array.\n",
      "  warnings.warn(\n"
     ]
    }
   ],
   "source": [
    "y_pred = lr.predict(X_test)\n",
    "y_pred_train = lr.predict(X_train)"
   ]
  },
  {
   "cell_type": "code",
   "execution_count": 30,
   "id": "ac13a341-3b39-413f-af90-5ae2e7d7cbcb",
   "metadata": {},
   "outputs": [
    {
     "data": {
      "text/plain": [
       "0.9003068790837677"
      ]
     },
     "execution_count": 30,
     "metadata": {},
     "output_type": "execute_result"
    }
   ],
   "source": [
    "test_acc = (y_test == y_pred).mean()\n",
    "test_acc"
   ]
  },
  {
   "cell_type": "code",
   "execution_count": 31,
   "id": "975f1d11-6c5d-4b27-9f1a-af2d4b53c215",
   "metadata": {},
   "outputs": [
    {
     "data": {
      "text/plain": [
       "0.9094372556104137"
      ]
     },
     "execution_count": 31,
     "metadata": {},
     "output_type": "execute_result"
    }
   ],
   "source": [
    "train_acc = (y_train == y_pred_train).mean()\n",
    "train_acc"
   ]
  },
  {
   "cell_type": "code",
   "execution_count": 32,
   "id": "86f01e2c-f0ac-49d6-8742-a68067e2033b",
   "metadata": {},
   "outputs": [
    {
     "data": {
      "image/png": "[encoded data removed]",
      "text/plain": [
       "<Figure size 700x1300 with 4 Axes>"
      ]
     },
     "metadata": {},
     "output_type": "display_data"
    }
   ],
   "source": [
    "make_confusion_matrices(y_train, y_pred_train, y_test, y_pred)"
   ]
  },
  {
   "cell_type": "code",
   "execution_count": null,
   "id": "ea27b011-0448-492f-8047-685d72825325",
   "metadata": {},
   "outputs": [],
   "source": []
  },
  {
   "cell_type": "code",
   "execution_count": null,
   "id": "f12904ae-6403-4756-94c4-a03f2a65bdce",
   "metadata": {},
   "outputs": [],
   "source": []
  },
  {
   "cell_type": "markdown",
   "id": "863ccab2-b5e5-454e-b2b7-ca1b78b12f24",
   "metadata": {},
   "source": [
    "# Naive Bayes Classifier"
   ]
  },
  {
   "cell_type": "markdown",
   "id": "26720c6e-0485-4f32-a62d-0fc8a0e8276a",
   "metadata": {},
   "source": [
    "### Sci-kit learn multnomial naive bayes"
   ]
  },
  {
   "cell_type": "code",
   "execution_count": 24,
   "id": "92b11def-7d5a-4768-894b-d93572f0badb",
   "metadata": {},
   "outputs": [],
   "source": [
    "from sklearn.naive_bayes import MultinomialNB\n",
    "from sklearn.metrics import accuracy_score, classification_report, confusion_matrix"
   ]
  },
  {
   "cell_type": "code",
   "execution_count": 34,
   "id": "5b386c66-04f9-4d7c-8d9e-e469914bd958",
   "metadata": {},
   "outputs": [],
   "source": [
    "model = MultinomialNB(fit_prior=True, alpha=5)"
   ]
  },
  {
   "cell_type": "code",
   "execution_count": 35,
   "id": "b38a9e35-fc61-4360-872f-25fac6c0090f",
   "metadata": {},
   "outputs": [
    {
     "name": "stderr",
     "output_type": "stream",
     "text": [
      "/opt/conda/lib/python3.11/site-packages/sklearn/utils/validation.py:869: UserWarning: pandas.DataFrame with sparse columns found.It will be converted to a dense numpy array.\n",
      "  warnings.warn(\n"
     ]
    },
    {
     "name": "stdout",
     "output_type": "stream",
     "text": [
      "Training Time: 327.3077 seconds\n"
     ]
    }
   ],
   "source": [
    "start = time.time()  \n",
    "model.fit(X_train, y_train)\n",
    "end = time.time()  \n",
    "\n",
    "print(f\"Training Time: {end - start:.4f} seconds\")"
   ]
  },
  {
   "cell_type": "code",
   "execution_count": 36,
   "id": "574f30ff-f551-4295-afda-365984af0804",
   "metadata": {},
   "outputs": [
    {
     "name": "stderr",
     "output_type": "stream",
     "text": [
      "/opt/conda/lib/python3.11/site-packages/sklearn/utils/validation.py:869: UserWarning: pandas.DataFrame with sparse columns found.It will be converted to a dense numpy array.\n",
      "  warnings.warn(\n",
      "/opt/conda/lib/python3.11/site-packages/sklearn/utils/validation.py:869: UserWarning: pandas.DataFrame with sparse columns found.It will be converted to a dense numpy array.\n",
      "  warnings.warn(\n"
     ]
    },
    {
     "name": "stdout",
     "output_type": "stream",
     "text": [
      "Prediction Time on 1306452 rows: 7.9671 seconds\n",
      "163981.835104 records per second\n"
     ]
    }
   ],
   "source": [
    "start = time.time()  \n",
    "\n",
    "test_pred = model.predict(X_test)\n",
    "train_pred = model.predict(X_train)\n",
    "end = time.time()  \n",
    "\n",
    "print(f\"Prediction Time on {X_test.shape[0] + X_train.shape[0]} rows: {end - start:.4f} seconds\")\n",
    "print(f'{((X_test.shape[0] + X_train.shape[0]) / (end - start)):4f} records per second')"
   ]
  },
  {
   "cell_type": "code",
   "execution_count": 37,
   "id": "9f2e770d-580f-4443-9939-3d5599ffb4dd",
   "metadata": {},
   "outputs": [
    {
     "name": "stdout",
     "output_type": "stream",
     "text": [
      "Train Accuracy = 0.8868, Test Accuracy = 0.8815\n"
     ]
    }
   ],
   "source": [
    "test_acc = accuracy_score(y_test, test_pred)\n",
    "train_acc = accuracy_score(y_train, train_pred)\n",
    "\n",
    "print(f'Train Accuracy = {train_acc:.4f}, Test Accuracy = {test_acc:.4f}')"
   ]
  },
  {
   "cell_type": "markdown",
   "id": "a6e63390-52cc-456e-8032-db0e79bd15e7",
   "metadata": {},
   "source": [
    "Tests:\n",
    "\n",
    "- fit_prior **True** / False:\n",
    "   - Train Accuracy = 0.8872, Test Accuracy = 0.8761\n",
    "   - Train Accuracy = 0.7831, Test Accuracy = 0.7467\n",
    "<be>\n",
    "- default alpha / 0.1 / 0.5 / **5** / 10: (increased training time w/ > alpha\n",
    "   - Train Accuracy = 0.8864, Test Accuracy = 0.8813 | Train Accuracy = 0.8878, Test Accuracy = 0.8794\n",
    "   - Train Accuracy = 0.8868, Test Accuracy = 0.8809\n",
    "   - Train Accuracy = 0.8865, Test Accuracy = 0.8812\n",
    "   - Train Accuracy = 0.8860, Test Accuracy = 0.8818\n",
    "   - Train Accuracy = 0.8848, Test Accuracy = 0.8825 | Train Accuracy = 0.8861, Test Accuracy = 0.8793\n",
    "\n"
   ]
  },
  {
   "cell_type": "code",
   "execution_count": 38,
   "id": "52ffd5ae-546d-41bc-9e66-166070372ffd",
   "metadata": {},
   "outputs": [
    {
     "data": {
      "image/png": "[encoded data removed]",
      "text/plain": [
       "<Figure size 700x1300 with 4 Axes>"
      ]
     },
     "metadata": {},
     "output_type": "display_data"
    }
   ],
   "source": [
    "make_confusion_matrices(y_train, train_pred, y_test, test_pred)"
   ]
  },
  {
   "cell_type": "code",
   "execution_count": null,
   "id": "fc6317cf-a9d4-4572-88cc-aa58536c84f8",
   "metadata": {},
   "outputs": [],
   "source": []
  },
  {
   "cell_type": "markdown",
   "id": "138496a3-cf11-4555-8633-e2cb0ebffebe",
   "metadata": {},
   "source": [
    "#### Ensemble Method --- long training, similar accurcay -- not worth"
   ]
  },
  {
   "cell_type": "code",
   "execution_count": 61,
   "id": "c7d244c9-0277-47e8-8266-0eb4168428f8",
   "metadata": {},
   "outputs": [],
   "source": [
    "from sklearn.ensemble import BaggingClassifier\n",
    "from sklearn.naive_bayes import GaussianNB\n",
    "\n",
    "model = BaggingClassifier(estimator=MultinomialNB(fit_prior=True, alpha=1), n_estimators=10)"
   ]
  },
  {
   "cell_type": "code",
   "execution_count": 62,
   "id": "da1f39cf-bb9c-4b23-a99d-5626abf6f162",
   "metadata": {},
   "outputs": [
    {
     "name": "stderr",
     "output_type": "stream",
     "text": [
      "/opt/conda/lib/python3.11/site-packages/sklearn/utils/validation.py:869: UserWarning: pandas.DataFrame with sparse columns found.It will be converted to a dense numpy array.\n",
      "  warnings.warn(\n"
     ]
    }
   ],
   "source": [
    "start = time.time()  \n",
    "model.fit(X_train, y_train)\n",
    "end = time.time()  \n",
    "\n",
    "print(f\"Training Time on {X_train.shape[0]} rows: {end - start:.4f} seconds\")"
   ]
  },
  {
   "cell_type": "code",
   "execution_count": 64,
   "id": "40847b82-0b46-4ad3-bc47-350c7e7966a5",
   "metadata": {},
   "outputs": [
    {
     "name": "stderr",
     "output_type": "stream",
     "text": [
      "/opt/conda/lib/python3.11/site-packages/sklearn/utils/validation.py:869: UserWarning: pandas.DataFrame with sparse columns found.It will be converted to a dense numpy array.\n",
      "  warnings.warn(\n",
      "/opt/conda/lib/python3.11/site-packages/sklearn/utils/validation.py:869: UserWarning: pandas.DataFrame with sparse columns found.It will be converted to a dense numpy array.\n",
      "  warnings.warn(\n"
     ]
    },
    {
     "name": "stdout",
     "output_type": "stream",
     "text": [
      "Prediction Time on 1306452 rows: 87.7398 seconds\n",
      "14890.074841 records per second\n"
     ]
    }
   ],
   "source": [
    "start = time.time()  \n",
    "\n",
    "test_pred = model.predict(X_test)\n",
    "train_pred = model.predict(X_train)\n",
    "end = time.time()  \n",
    "\n",
    "print(f\"Prediction Time on {X_test.shape[0] + X_train.shape[0]} rows: {end - start:.4f} seconds\")\n",
    "print(f'{((X_test.shape[0] + X_train.shape[0]) / (end - start)):4f} records per second')"
   ]
  },
  {
   "cell_type": "code",
   "execution_count": 65,
   "id": "a416f2fd-b8c2-40f9-88d6-9a9d98903fbd",
   "metadata": {},
   "outputs": [
    {
     "name": "stdout",
     "output_type": "stream",
     "text": [
      "Train Accuracy = 0.8878, Test Accuracy = 0.8792\n"
     ]
    }
   ],
   "source": [
    "test_acc = accuracy_score(y_test, test_pred)\n",
    "train_acc = accuracy_score(y_train, train_pred)\n",
    "\n",
    "print(f'Train Accuracy = {train_acc:.4f}, Test Accuracy = {test_acc:.4f}')"
   ]
  },
  {
   "cell_type": "code",
   "execution_count": null,
   "id": "69778ecb-7266-46a6-8411-69c50ebc8045",
   "metadata": {},
   "outputs": [],
   "source": []
  },
  {
   "cell_type": "code",
   "execution_count": null,
   "id": "7de534c6-4be0-43f5-966e-c9b6381c6c4d",
   "metadata": {},
   "outputs": [],
   "source": []
  },
  {
   "cell_type": "markdown",
   "id": "4e5286dc-5ad7-458a-9b44-cc3d2f94cd5c",
   "metadata": {},
   "source": [
    "### NLTK"
   ]
  },
  {
   "cell_type": "code",
   "execution_count": 60,
   "id": "4919e518-10fa-4a09-82f3-bc359dc96767",
   "metadata": {},
   "outputs": [],
   "source": [
    "import nltk\n",
    "from nltk.corpus import stopwords\n",
    "from nltk.tokenize import word_tokenize\n",
    "from nltk.stem import WordNetLemmatizer\n"
   ]
  },
  {
   "cell_type": "code",
   "execution_count": 69,
   "id": "44a7e41f-e927-4bdb-b010-0305fc2abbfd",
   "metadata": {},
   "outputs": [],
   "source": [
    "# nltk.download('stopwords')\n",
    "# nltk.download('punkt')\n",
    "# nltk.download('wordnet')\n",
    "# nltk.download('punkt_tab')"
   ]
  },
  {
   "cell_type": "code",
   "execution_count": null,
   "id": "8a8859a0-0c8a-44b1-9d8a-7ed51f91fe5c",
   "metadata": {},
   "outputs": [],
   "source": []
  },
  {
   "cell_type": "code",
   "execution_count": 64,
   "id": "1e65742e-fa64-4c35-9094-4bb89235e83d",
   "metadata": {},
   "outputs": [
    {
     "data": {
      "text/html": [
       "<div>\n",
       "<style scoped>\n",
       "    .dataframe tbody tr th:only-of-type {\n",
       "        vertical-align: middle;\n",
       "    }\n",
       "\n",
       "    .dataframe tbody tr th {\n",
       "        vertical-align: top;\n",
       "    }\n",
       "\n",
       "    .dataframe thead th {\n",
       "        text-align: right;\n",
       "    }\n",
       "</style>\n",
       "<table border=\"1\" class=\"dataframe\">\n",
       "  <thead>\n",
       "    <tr style=\"text-align: right;\">\n",
       "      <th></th>\n",
       "      <th>prism_consumer_id</th>\n",
       "      <th>prism_account_id</th>\n",
       "      <th>memo</th>\n",
       "      <th>amount</th>\n",
       "      <th>posted_date</th>\n",
       "      <th>category</th>\n",
       "      <th>clean_memo</th>\n",
       "      <th>is_weekend</th>\n",
       "      <th>is_even_amount</th>\n",
       "    </tr>\n",
       "  </thead>\n",
       "  <tbody>\n",
       "    <tr>\n",
       "      <th>0</th>\n",
       "      <td>0</td>\n",
       "      <td>acc_0</td>\n",
       "      <td>TST* Casa Del Rio - Exp Fairlawn OH 09/24</td>\n",
       "      <td>18.4200</td>\n",
       "      <td>2022-09-26</td>\n",
       "      <td>FOOD_AND_BEVERAGES</td>\n",
       "      <td>t casa del rioexp fairlawn</td>\n",
       "      <td>0</td>\n",
       "      <td>0</td>\n",
       "    </tr>\n",
       "    <tr>\n",
       "      <th>1</th>\n",
       "      <td>0</td>\n",
       "      <td>acc_0</td>\n",
       "      <td>Buffalo Wild Wings</td>\n",
       "      <td>26.4700</td>\n",
       "      <td>2022-09-12</td>\n",
       "      <td>FOOD_AND_BEVERAGES</td>\n",
       "      <td>buffalo wild wings</td>\n",
       "      <td>0</td>\n",
       "      <td>0</td>\n",
       "    </tr>\n",
       "    <tr>\n",
       "      <th>2</th>\n",
       "      <td>0</td>\n",
       "      <td>acc_0</td>\n",
       "      <td>Oculus CA 04/16</td>\n",
       "      <td>11.7300</td>\n",
       "      <td>2022-04-18</td>\n",
       "      <td>GENERAL_MERCHANDISE</td>\n",
       "      <td>oculus</td>\n",
       "      <td>0</td>\n",
       "      <td>0</td>\n",
       "    </tr>\n",
       "    <tr>\n",
       "      <th>3</th>\n",
       "      <td>0</td>\n",
       "      <td>acc_0</td>\n",
       "      <td>LOS GIRASOLES STOW OH 03/08</td>\n",
       "      <td>30.0400</td>\n",
       "      <td>2022-03-09</td>\n",
       "      <td>FOOD_AND_BEVERAGES</td>\n",
       "      <td>los girasoles stow</td>\n",
       "      <td>0</td>\n",
       "      <td>0</td>\n",
       "    </tr>\n",
       "    <tr>\n",
       "      <th>4</th>\n",
       "      <td>0</td>\n",
       "      <td>acc_0</td>\n",
       "      <td>BUZZIS LAUNDRY 1 OH 03/28</td>\n",
       "      <td>4.1600</td>\n",
       "      <td>2022-03-29</td>\n",
       "      <td>GENERAL_MERCHANDISE</td>\n",
       "      <td>buzzis laundry 1</td>\n",
       "      <td>0</td>\n",
       "      <td>0</td>\n",
       "    </tr>\n",
       "  </tbody>\n",
       "</table>\n",
       "</div>"
      ],
      "text/plain": [
       "   prism_consumer_id prism_account_id  \\\n",
       "0                  0            acc_0   \n",
       "1                  0            acc_0   \n",
       "2                  0            acc_0   \n",
       "3                  0            acc_0   \n",
       "4                  0            acc_0   \n",
       "\n",
       "                                        memo  amount posted_date  \\\n",
       "0  TST* Casa Del Rio - Exp Fairlawn OH 09/24 18.4200  2022-09-26   \n",
       "1                         Buffalo Wild Wings 26.4700  2022-09-12   \n",
       "2                            Oculus CA 04/16 11.7300  2022-04-18   \n",
       "3                LOS GIRASOLES STOW OH 03/08 30.0400  2022-03-09   \n",
       "4                  BUZZIS LAUNDRY 1 OH 03/28  4.1600  2022-03-29   \n",
       "\n",
       "              category                  clean_memo  is_weekend  is_even_amount  \n",
       "0   FOOD_AND_BEVERAGES  t casa del rioexp fairlawn           0               0  \n",
       "1   FOOD_AND_BEVERAGES          buffalo wild wings           0               0  \n",
       "2  GENERAL_MERCHANDISE                      oculus           0               0  \n",
       "3   FOOD_AND_BEVERAGES          los girasoles stow           0               0  \n",
       "4  GENERAL_MERCHANDISE            buzzis laundry 1           0               0  "
      ]
     },
     "execution_count": 64,
     "metadata": {},
     "output_type": "execute_result"
    }
   ],
   "source": [
    "relevant_of.head()"
   ]
  },
  {
   "cell_type": "code",
   "execution_count": 65,
   "id": "abfda8e9-85d4-4def-b6f7-d1c5173dd290",
   "metadata": {},
   "outputs": [],
   "source": [
    "sw = set(stopwords.words('english'))\n",
    "lem = WordNetLemmatizer()"
   ]
  },
  {
   "cell_type": "code",
   "execution_count": 70,
   "id": "0e1546e9-b320-44a7-b125-d04c91b7f0fe",
   "metadata": {},
   "outputs": [
    {
     "data": {
      "text/plain": [
       "['t', 'casa', 'del', 'rioexp', 'fairlawn']"
      ]
     },
     "execution_count": 70,
     "metadata": {},
     "output_type": "execute_result"
    }
   ],
   "source": [
    "tks = word_tokenize(relevant_of.clean_memo.values[0])\n",
    "tks"
   ]
  },
  {
   "cell_type": "code",
   "execution_count": 72,
   "id": "c28f57d6-33bd-438d-9855-515b04dbf9de",
   "metadata": {},
   "outputs": [
    {
     "data": {
      "text/plain": [
       "['casa', 'del', 'rioexp', 'fairlawn']"
      ]
     },
     "execution_count": 72,
     "metadata": {},
     "output_type": "execute_result"
    }
   ],
   "source": [
    "tks = [word for word in tks if word.isalpha() and word not in sw]\n",
    "tks"
   ]
  },
  {
   "cell_type": "code",
   "execution_count": 73,
   "id": "748ba1ff-49bb-498a-97b8-5787ee5ea22a",
   "metadata": {},
   "outputs": [
    {
     "data": {
      "text/plain": [
       "['casa', 'del', 'rioexp', 'fairlawn']"
      ]
     },
     "execution_count": 73,
     "metadata": {},
     "output_type": "execute_result"
    }
   ],
   "source": [
    "lem_txt = [lem.lemmatize(word) for word in tks]\n",
    "lem_txt"
   ]
  },
  {
   "cell_type": "code",
   "execution_count": 76,
   "id": "747ae279-c490-4181-a52e-9047588fcba5",
   "metadata": {},
   "outputs": [],
   "source": [
    "relevant_of_copy = relevant_of.sample(frac=0.2)"
   ]
  },
  {
   "cell_type": "code",
   "execution_count": 79,
   "id": "bd707071-c8e6-4695-bba5-c58cab5278bb",
   "metadata": {},
   "outputs": [],
   "source": [
    "def preprocess_text(text):\n",
    "    # Tokenize\n",
    "    tokens = word_tokenize(text.lower())  # Lowercase and tokenize\n",
    "    # Remove stopwords and non-alphabetic tokens\n",
    "    tokens = [word for word in tokens if word.isalpha() and word not in sw]\n",
    "    # Lemmatize tokens\n",
    "    lemmatized_text = [lem.lemmatize(word) for word in tokens]\n",
    "    # Join back into a single string\n",
    "    return ' '.join(lemmatized_text)\n"
   ]
  },
  {
   "cell_type": "code",
   "execution_count": 82,
   "id": "c08842cf-cfd7-4b4c-9c19-c5579e7c413b",
   "metadata": {},
   "outputs": [],
   "source": [
    "relevant_of_copy['clean_memo_nltk'] = relevant_of_copy.clean_memo.apply(preprocess_text)"
   ]
  },
  {
   "cell_type": "code",
   "execution_count": 83,
   "id": "b5fa5f3a-8e64-4b31-91e7-c991ced6f331",
   "metadata": {},
   "outputs": [
    {
     "data": {
      "text/html": [
       "<div>\n",
       "<style scoped>\n",
       "    .dataframe tbody tr th:only-of-type {\n",
       "        vertical-align: middle;\n",
       "    }\n",
       "\n",
       "    .dataframe tbody tr th {\n",
       "        vertical-align: top;\n",
       "    }\n",
       "\n",
       "    .dataframe thead th {\n",
       "        text-align: right;\n",
       "    }\n",
       "</style>\n",
       "<table border=\"1\" class=\"dataframe\">\n",
       "  <thead>\n",
       "    <tr style=\"text-align: right;\">\n",
       "      <th></th>\n",
       "      <th>prism_consumer_id</th>\n",
       "      <th>prism_account_id</th>\n",
       "      <th>memo</th>\n",
       "      <th>amount</th>\n",
       "      <th>posted_date</th>\n",
       "      <th>category</th>\n",
       "      <th>clean_memo</th>\n",
       "      <th>is_weekend</th>\n",
       "      <th>is_even_amount</th>\n",
       "      <th>clean_memo_nltk</th>\n",
       "    </tr>\n",
       "  </thead>\n",
       "  <tbody>\n",
       "    <tr>\n",
       "      <th>1029351</th>\n",
       "      <td>4950</td>\n",
       "      <td>acc_8533</td>\n",
       "      <td>STARBUCKS STORE XXXXX GREENVILLE SC :00</td>\n",
       "      <td>4.2700</td>\n",
       "      <td>2021-04-12</td>\n",
       "      <td>FOOD_AND_BEVERAGES</td>\n",
       "      <td>starbucks store greenville 00</td>\n",
       "      <td>0</td>\n",
       "      <td>0</td>\n",
       "      <td>starbucks store greenville</td>\n",
       "    </tr>\n",
       "    <tr>\n",
       "      <th>252102</th>\n",
       "      <td>1196</td>\n",
       "      <td>acc_3377</td>\n",
       "      <td>Schnucks Markets</td>\n",
       "      <td>5.4700</td>\n",
       "      <td>2022-11-23</td>\n",
       "      <td>GROCERIES</td>\n",
       "      <td>schnucks markets</td>\n",
       "      <td>0</td>\n",
       "      <td>0</td>\n",
       "      <td>schnucks market</td>\n",
       "    </tr>\n",
       "    <tr>\n",
       "      <th>74574</th>\n",
       "      <td>378</td>\n",
       "      <td>acc_1121</td>\n",
       "      <td>Point Of Sale Withdrawal OAKRIDGE HARDWARE</td>\n",
       "      <td>67.2000</td>\n",
       "      <td>2021-10-24</td>\n",
       "      <td>GENERAL_MERCHANDISE</td>\n",
       "      <td>point of sale withdrawal oakridge hardware</td>\n",
       "      <td>1</td>\n",
       "      <td>0</td>\n",
       "      <td>point sale withdrawal oakridge hardware</td>\n",
       "    </tr>\n",
       "    <tr>\n",
       "      <th>44563</th>\n",
       "      <td>200</td>\n",
       "      <td>acc_589</td>\n",
       "      <td>Vacci Pizza Cucina Flvacci</td>\n",
       "      <td>15.4000</td>\n",
       "      <td>2022-07-08</td>\n",
       "      <td>FOOD_AND_BEVERAGES</td>\n",
       "      <td>vacci pizza cucina flvacci</td>\n",
       "      <td>0</td>\n",
       "      <td>0</td>\n",
       "      <td>vacci pizza cucina flvacci</td>\n",
       "    </tr>\n",
       "    <tr>\n",
       "      <th>178395</th>\n",
       "      <td>865</td>\n",
       "      <td>acc_2495</td>\n",
       "      <td>PepsiCo</td>\n",
       "      <td>1.7500</td>\n",
       "      <td>2023-05-18</td>\n",
       "      <td>FOOD_AND_BEVERAGES</td>\n",
       "      <td>pepsico</td>\n",
       "      <td>0</td>\n",
       "      <td>0</td>\n",
       "      <td>pepsico</td>\n",
       "    </tr>\n",
       "  </tbody>\n",
       "</table>\n",
       "</div>"
      ],
      "text/plain": [
       "         prism_consumer_id prism_account_id  \\\n",
       "1029351               4950         acc_8533   \n",
       "252102                1196         acc_3377   \n",
       "74574                  378         acc_1121   \n",
       "44563                  200          acc_589   \n",
       "178395                 865         acc_2495   \n",
       "\n",
       "                                               memo  amount posted_date  \\\n",
       "1029351     STARBUCKS STORE XXXXX GREENVILLE SC :00  4.2700  2021-04-12   \n",
       "252102                             Schnucks Markets  5.4700  2022-11-23   \n",
       "74574    Point Of Sale Withdrawal OAKRIDGE HARDWARE 67.2000  2021-10-24   \n",
       "44563                    Vacci Pizza Cucina Flvacci 15.4000  2022-07-08   \n",
       "178395                                      PepsiCo  1.7500  2023-05-18   \n",
       "\n",
       "                    category                                  clean_memo  \\\n",
       "1029351   FOOD_AND_BEVERAGES               starbucks store greenville 00   \n",
       "252102             GROCERIES                            schnucks markets   \n",
       "74574    GENERAL_MERCHANDISE  point of sale withdrawal oakridge hardware   \n",
       "44563     FOOD_AND_BEVERAGES                  vacci pizza cucina flvacci   \n",
       "178395    FOOD_AND_BEVERAGES                                     pepsico   \n",
       "\n",
       "         is_weekend  is_even_amount                          clean_memo_nltk  \n",
       "1029351           0               0               starbucks store greenville  \n",
       "252102            0               0                          schnucks market  \n",
       "74574             1               0  point sale withdrawal oakridge hardware  \n",
       "44563             0               0               vacci pizza cucina flvacci  \n",
       "178395            0               0                                  pepsico  "
      ]
     },
     "execution_count": 83,
     "metadata": {},
     "output_type": "execute_result"
    }
   ],
   "source": [
    "relevant_of_copy.head()"
   ]
  },
  {
   "cell_type": "code",
   "execution_count": null,
   "id": "66d18867-2f4b-4948-b5d5-af9a07ee0614",
   "metadata": {},
   "outputs": [],
   "source": []
  },
  {
   "cell_type": "code",
   "execution_count": null,
   "id": "20f41ea6-2fa3-44a8-af11-cb415b530ba4",
   "metadata": {},
   "outputs": [],
   "source": []
  },
  {
   "cell_type": "code",
   "execution_count": null,
   "id": "49efcd3f-f6b4-4bdf-a4ff-7429254b56f3",
   "metadata": {},
   "outputs": [],
   "source": []
  },
  {
   "cell_type": "code",
   "execution_count": 94,
   "id": "6a89fe24-742f-41b9-9dd2-d84b976daa12",
   "metadata": {},
   "outputs": [],
   "source": [
    "ids = model_ftrs.prism_consumer_id.unique()\n",
    "\n",
    "test_ratio = 0.25\n",
    "test_size = int(len(ids) * 0.25)\n",
    "\n",
    "test_ids = np.random.choice(ids, size=test_size, replace=False)"
   ]
  },
  {
   "cell_type": "code",
   "execution_count": 95,
   "id": "0e16b567-f6f1-409d-8ba4-f63af4eb1222",
   "metadata": {},
   "outputs": [],
   "source": [
    "train = model_ftrs[~model_ftrs.prism_consumer_id.isin(test_ids)]\n",
    "test = model_ftrs[model_ftrs.prism_consumer_id.isin(test_ids)]"
   ]
  },
  {
   "cell_type": "code",
   "execution_count": 97,
   "id": "8f28d5b8-3cf1-482c-9425-94864c10dd3a",
   "metadata": {},
   "outputs": [
    {
     "data": {
      "text/html": [
       "<div>\n",
       "<style scoped>\n",
       "    .dataframe tbody tr th:only-of-type {\n",
       "        vertical-align: middle;\n",
       "    }\n",
       "\n",
       "    .dataframe tbody tr th {\n",
       "        vertical-align: top;\n",
       "    }\n",
       "\n",
       "    .dataframe thead th {\n",
       "        text-align: right;\n",
       "    }\n",
       "</style>\n",
       "<table border=\"1\" class=\"dataframe\">\n",
       "  <thead>\n",
       "    <tr style=\"text-align: right;\">\n",
       "      <th></th>\n",
       "      <th>prism_consumer_id</th>\n",
       "      <th>category</th>\n",
       "      <th>is_weekend</th>\n",
       "      <th>is_even_amount</th>\n",
       "      <th>clean_memo_nltk</th>\n",
       "      <th>bin_10</th>\n",
       "      <th>bin_2</th>\n",
       "      <th>bin_3</th>\n",
       "      <th>bin_4</th>\n",
       "      <th>bin_5</th>\n",
       "      <th>...</th>\n",
       "      <th>tfidf_world</th>\n",
       "      <th>tfidf_worth</th>\n",
       "      <th>tfidf_xfer</th>\n",
       "      <th>tfidf_xsolla</th>\n",
       "      <th>tfidf_york</th>\n",
       "      <th>tfidf_youtube</th>\n",
       "      <th>tfidf_zaxby</th>\n",
       "      <th>tfidf_zelle</th>\n",
       "      <th>tfidf_zip</th>\n",
       "      <th>tfidf_zynga</th>\n",
       "    </tr>\n",
       "  </thead>\n",
       "  <tbody>\n",
       "    <tr>\n",
       "      <th>0</th>\n",
       "      <td>0</td>\n",
       "      <td>FOOD_AND_BEVERAGES</td>\n",
       "      <td>0</td>\n",
       "      <td>0</td>\n",
       "      <td>casa del rioexp fairlawn</td>\n",
       "      <td>0</td>\n",
       "      <td>0</td>\n",
       "      <td>0</td>\n",
       "      <td>0</td>\n",
       "      <td>1.0000</td>\n",
       "      <td>...</td>\n",
       "      <td>0</td>\n",
       "      <td>0</td>\n",
       "      <td>0</td>\n",
       "      <td>0</td>\n",
       "      <td>0</td>\n",
       "      <td>0</td>\n",
       "      <td>0</td>\n",
       "      <td>0</td>\n",
       "      <td>0</td>\n",
       "      <td>0</td>\n",
       "    </tr>\n",
       "    <tr>\n",
       "      <th>1</th>\n",
       "      <td>0</td>\n",
       "      <td>FOOD_AND_BEVERAGES</td>\n",
       "      <td>0</td>\n",
       "      <td>0</td>\n",
       "      <td>buffalo wild wing</td>\n",
       "      <td>0</td>\n",
       "      <td>0</td>\n",
       "      <td>0</td>\n",
       "      <td>0</td>\n",
       "      <td>0</td>\n",
       "      <td>...</td>\n",
       "      <td>0</td>\n",
       "      <td>0</td>\n",
       "      <td>0</td>\n",
       "      <td>0</td>\n",
       "      <td>0</td>\n",
       "      <td>0</td>\n",
       "      <td>0</td>\n",
       "      <td>0</td>\n",
       "      <td>0</td>\n",
       "      <td>0</td>\n",
       "    </tr>\n",
       "    <tr>\n",
       "      <th>2</th>\n",
       "      <td>0</td>\n",
       "      <td>GENERAL_MERCHANDISE</td>\n",
       "      <td>0</td>\n",
       "      <td>0</td>\n",
       "      <td>oculus</td>\n",
       "      <td>0</td>\n",
       "      <td>0</td>\n",
       "      <td>0</td>\n",
       "      <td>1.0000</td>\n",
       "      <td>0</td>\n",
       "      <td>...</td>\n",
       "      <td>0</td>\n",
       "      <td>0</td>\n",
       "      <td>0</td>\n",
       "      <td>0</td>\n",
       "      <td>0</td>\n",
       "      <td>0</td>\n",
       "      <td>0</td>\n",
       "      <td>0</td>\n",
       "      <td>0</td>\n",
       "      <td>0</td>\n",
       "    </tr>\n",
       "    <tr>\n",
       "      <th>3</th>\n",
       "      <td>0</td>\n",
       "      <td>FOOD_AND_BEVERAGES</td>\n",
       "      <td>0</td>\n",
       "      <td>0</td>\n",
       "      <td>los girasoles stow</td>\n",
       "      <td>0</td>\n",
       "      <td>0</td>\n",
       "      <td>0</td>\n",
       "      <td>0</td>\n",
       "      <td>0</td>\n",
       "      <td>...</td>\n",
       "      <td>0</td>\n",
       "      <td>0</td>\n",
       "      <td>0</td>\n",
       "      <td>0</td>\n",
       "      <td>0</td>\n",
       "      <td>0</td>\n",
       "      <td>0</td>\n",
       "      <td>0</td>\n",
       "      <td>0</td>\n",
       "      <td>0</td>\n",
       "    </tr>\n",
       "    <tr>\n",
       "      <th>4</th>\n",
       "      <td>0</td>\n",
       "      <td>GENERAL_MERCHANDISE</td>\n",
       "      <td>0</td>\n",
       "      <td>0</td>\n",
       "      <td>buzzis laundry</td>\n",
       "      <td>0</td>\n",
       "      <td>1.0000</td>\n",
       "      <td>0</td>\n",
       "      <td>0</td>\n",
       "      <td>0</td>\n",
       "      <td>...</td>\n",
       "      <td>0</td>\n",
       "      <td>0</td>\n",
       "      <td>0</td>\n",
       "      <td>0</td>\n",
       "      <td>0</td>\n",
       "      <td>0</td>\n",
       "      <td>0</td>\n",
       "      <td>0</td>\n",
       "      <td>0</td>\n",
       "      <td>0</td>\n",
       "    </tr>\n",
       "  </tbody>\n",
       "</table>\n",
       "<p>5 rows × 1031 columns</p>\n",
       "</div>"
      ],
      "text/plain": [
       "   prism_consumer_id             category  is_weekend  is_even_amount  \\\n",
       "0                  0   FOOD_AND_BEVERAGES           0               0   \n",
       "1                  0   FOOD_AND_BEVERAGES           0               0   \n",
       "2                  0  GENERAL_MERCHANDISE           0               0   \n",
       "3                  0   FOOD_AND_BEVERAGES           0               0   \n",
       "4                  0  GENERAL_MERCHANDISE           0               0   \n",
       "\n",
       "            clean_memo_nltk  bin_10  bin_2  bin_3  bin_4  bin_5  ...  \\\n",
       "0  casa del rioexp fairlawn       0      0      0      0 1.0000  ...   \n",
       "1         buffalo wild wing       0      0      0      0      0  ...   \n",
       "2                    oculus       0      0      0 1.0000      0  ...   \n",
       "3        los girasoles stow       0      0      0      0      0  ...   \n",
       "4            buzzis laundry       0 1.0000      0      0      0  ...   \n",
       "\n",
       "   tfidf_world  tfidf_worth  tfidf_xfer  tfidf_xsolla  tfidf_york  \\\n",
       "0            0            0           0             0           0   \n",
       "1            0            0           0             0           0   \n",
       "2            0            0           0             0           0   \n",
       "3            0            0           0             0           0   \n",
       "4            0            0           0             0           0   \n",
       "\n",
       "   tfidf_youtube  tfidf_zaxby  tfidf_zelle  tfidf_zip  tfidf_zynga  \n",
       "0              0            0            0          0            0  \n",
       "1              0            0            0          0            0  \n",
       "2              0            0            0          0            0  \n",
       "3              0            0            0          0            0  \n",
       "4              0            0            0          0            0  \n",
       "\n",
       "[5 rows x 1031 columns]"
      ]
     },
     "execution_count": 97,
     "metadata": {},
     "output_type": "execute_result"
    }
   ],
   "source": [
    "train.head()"
   ]
  },
  {
   "cell_type": "code",
   "execution_count": 99,
   "id": "140dae03-ba07-4357-9b1a-0be09250a5a1",
   "metadata": {},
   "outputs": [],
   "source": [
    "X_train = train.drop(columns=['prism_consumer_id', 'category', 'clean_memo_nltk'])\n",
    "y_train = train.category\n",
    "\n",
    "X_test = test.drop(columns=['prism_consumer_id', 'category','clean_memo_nltk'])\n",
    "y_test = test.category\n",
    "\n",
    "del train\n",
    "del test"
   ]
  },
  {
   "cell_type": "code",
   "execution_count": null,
   "id": "e1172b51-3c84-43e7-989f-7512684c9c40",
   "metadata": {},
   "outputs": [],
   "source": []
  },
  {
   "cell_type": "markdown",
   "id": "2bc52c7a-8689-4cbe-b95e-05649a21b0da",
   "metadata": {},
   "source": [
    "# XGBoost"
   ]
  },
  {
   "cell_type": "code",
   "execution_count": 21,
   "id": "f0f25e3e-35a5-4da8-8009-e1b88711231f",
   "metadata": {},
   "outputs": [],
   "source": [
    "# !pip install xgboost"
   ]
  },
  {
   "cell_type": "code",
   "execution_count": 22,
   "id": "822b7a95-fab6-4983-9419-24669d225877",
   "metadata": {},
   "outputs": [],
   "source": [
    "from xgboost import XGBClassifier\n",
    "from sklearn.metrics import accuracy_score, classification_report, confusion_matrix"
   ]
  },
  {
   "cell_type": "code",
   "execution_count": 23,
   "id": "3d603d7b-5127-4037-b339-dc8d3d843803",
   "metadata": {},
   "outputs": [],
   "source": [
    "xgboost = XGBClassifier(min_child_weight=10, gamma=1, subsample=0.8, colsample_bytree=0.8, max_depth=5)"
   ]
  },
  {
   "cell_type": "code",
   "execution_count": 24,
   "id": "c836023b-1117-48f8-9697-4d11c2183e45",
   "metadata": {},
   "outputs": [],
   "source": [
    "y_train_labels = [idmap[cat] for cat in y_train]"
   ]
  },
  {
   "cell_type": "code",
   "execution_count": 25,
   "id": "526b5485-b5e2-40a4-8a6f-16be6fb6e71a",
   "metadata": {},
   "outputs": [],
   "source": [
    "y_test_labels = [idmap[cat] for cat in y_test]"
   ]
  },
  {
   "cell_type": "code",
   "execution_count": 26,
   "id": "7aeaebc6-1f70-4d1a-9ce8-dd479faf4ec9",
   "metadata": {},
   "outputs": [
    {
     "name": "stderr",
     "output_type": "stream",
     "text": [
      "/home/akar/.local/lib/python3.11/site-packages/xgboost/data.py:575: UserWarning: Sparse arrays from pandas are converted into dense.\n",
      "  warnings.warn(\"Sparse arrays from pandas are converted into dense.\")\n"
     ]
    },
    {
     "name": "stdout",
     "output_type": "stream",
     "text": [
      "Training Time on 984137 rows: 551.4081 seconds\n"
     ]
    }
   ],
   "source": [
    "start = time.time()  \n",
    "xgboost.fit(X_train, y_train_labels)\n",
    "end = time.time()  \n",
    "\n",
    "print(f\"Training Time on {X_train.shape[0]} rows: {end - start:.4f} seconds\")"
   ]
  },
  {
   "cell_type": "code",
   "execution_count": 27,
   "id": "82b080e9-f132-47ec-94f4-5dc73c1c2abb",
   "metadata": {},
   "outputs": [
    {
     "name": "stderr",
     "output_type": "stream",
     "text": [
      "/home/akar/.local/lib/python3.11/site-packages/xgboost/data.py:575: UserWarning: Sparse arrays from pandas are converted into dense.\n",
      "  warnings.warn(\"Sparse arrays from pandas are converted into dense.\")\n",
      "/home/akar/.local/lib/python3.11/site-packages/xgboost/data.py:575: UserWarning: Sparse arrays from pandas are converted into dense.\n",
      "  warnings.warn(\"Sparse arrays from pandas are converted into dense.\")\n"
     ]
    },
    {
     "name": "stdout",
     "output_type": "stream",
     "text": [
      "Prediction Time on 1306452 rows: 4.9032 seconds\n",
      "266448.038329 records per second\n"
     ]
    }
   ],
   "source": [
    "start = time.time()  \n",
    "\n",
    "test_pred = xgboost.predict(X_test)\n",
    "train_pred = xgboost.predict(X_train)\n",
    "end = time.time()  \n",
    "\n",
    "print(f\"Prediction Time on {X_test.shape[0] + X_train.shape[0]} rows: {end - start:.4f} seconds\")\n",
    "print(f'{((X_test.shape[0] + X_train.shape[0]) / (end - start)):4f} records per second')"
   ]
  },
  {
   "cell_type": "code",
   "execution_count": 28,
   "id": "ad21b20a-3749-414e-8d09-ed5e7eb84c15",
   "metadata": {},
   "outputs": [
    {
     "name": "stdout",
     "output_type": "stream",
     "text": [
      "Train Accuracy = 0.8937, Test Accuracy = 0.8853\n"
     ]
    }
   ],
   "source": [
    "test_acc = accuracy_score(y_test_labels, test_pred)\n",
    "train_acc = accuracy_score(y_train_labels, train_pred)\n",
    "\n",
    "print(f'Train Accuracy = {train_acc:.4f}, Test Accuracy = {test_acc:.4f}')"
   ]
  },
  {
   "cell_type": "code",
   "execution_count": null,
   "id": "fbb3be23-e2e9-44cf-abdd-46f018dbac55",
   "metadata": {},
   "outputs": [],
   "source": []
  },
  {
   "cell_type": "code",
   "execution_count": null,
   "id": "6c013ea1-80a0-4913-b601-236889fb7659",
   "metadata": {},
   "outputs": [],
   "source": []
  },
  {
   "cell_type": "markdown",
   "id": "4500489c-a4e7-4c17-823e-50b366fdb603",
   "metadata": {},
   "source": [
    "# FastText Model"
   ]
  },
  {
   "cell_type": "code",
   "execution_count": 49,
   "id": "3a3d1bc6-a32c-488b-a317-cf46f74ba178",
   "metadata": {},
   "outputs": [],
   "source": [
    "# !pip install fasttext\n",
    "# !pip install gensim"
   ]
  },
  {
   "cell_type": "code",
   "execution_count": 22,
   "id": "3f0d1096-7052-48d7-a41b-25f580a2cb3a",
   "metadata": {},
   "outputs": [],
   "source": [
    "import fasttext\n",
    "from gensim.utils import simple_preprocess\n",
    "from sklearn.model_selection import train_test_split\n",
    "from sklearn.metrics import accuracy_score, classification_report\n",
    "import csv"
   ]
  },
  {
   "cell_type": "code",
   "execution_count": 17,
   "id": "b1defcb0-48c1-433a-b643-9401c96ab5da",
   "metadata": {},
   "outputs": [],
   "source": [
    "ft_data = relevant_of.copy()[['prism_consumer_id', 'clean_memo', 'category']]\n",
    "ft_data.category = ft_data.category.apply(lambda x: '__label__' + x)\n",
    "ft_data['clean_memo_proc'] = ft_data.clean_memo.apply(lambda x: ' '.join(simple_preprocess(x)))"
   ]
  },
  {
   "cell_type": "code",
   "execution_count": 18,
   "id": "8b1462cd-7d8e-44da-b034-fe937ec29da4",
   "metadata": {},
   "outputs": [
    {
     "data": {
      "text/html": [
       "<div>\n",
       "<style scoped>\n",
       "    .dataframe tbody tr th:only-of-type {\n",
       "        vertical-align: middle;\n",
       "    }\n",
       "\n",
       "    .dataframe tbody tr th {\n",
       "        vertical-align: top;\n",
       "    }\n",
       "\n",
       "    .dataframe thead th {\n",
       "        text-align: right;\n",
       "    }\n",
       "</style>\n",
       "<table border=\"1\" class=\"dataframe\">\n",
       "  <thead>\n",
       "    <tr style=\"text-align: right;\">\n",
       "      <th></th>\n",
       "      <th>prism_consumer_id</th>\n",
       "      <th>clean_memo</th>\n",
       "      <th>category</th>\n",
       "      <th>clean_memo_proc</th>\n",
       "    </tr>\n",
       "  </thead>\n",
       "  <tbody>\n",
       "    <tr>\n",
       "      <th>0</th>\n",
       "      <td>0</td>\n",
       "      <td>t casa del rioexp fairlawn</td>\n",
       "      <td>__label__FOOD_AND_BEVERAGES</td>\n",
       "      <td>casa del rioexp fairlawn</td>\n",
       "    </tr>\n",
       "    <tr>\n",
       "      <th>1</th>\n",
       "      <td>0</td>\n",
       "      <td>buffalo wild wings</td>\n",
       "      <td>__label__FOOD_AND_BEVERAGES</td>\n",
       "      <td>buffalo wild wings</td>\n",
       "    </tr>\n",
       "    <tr>\n",
       "      <th>2</th>\n",
       "      <td>0</td>\n",
       "      <td>oculus</td>\n",
       "      <td>__label__GENERAL_MERCHANDISE</td>\n",
       "      <td>oculus</td>\n",
       "    </tr>\n",
       "    <tr>\n",
       "      <th>3</th>\n",
       "      <td>0</td>\n",
       "      <td>los girasoles stow</td>\n",
       "      <td>__label__FOOD_AND_BEVERAGES</td>\n",
       "      <td>los girasoles stow</td>\n",
       "    </tr>\n",
       "    <tr>\n",
       "      <th>4</th>\n",
       "      <td>0</td>\n",
       "      <td>buzzis laundry 1</td>\n",
       "      <td>__label__GENERAL_MERCHANDISE</td>\n",
       "      <td>buzzis laundry</td>\n",
       "    </tr>\n",
       "  </tbody>\n",
       "</table>\n",
       "</div>"
      ],
      "text/plain": [
       "   prism_consumer_id                  clean_memo  \\\n",
       "0                  0  t casa del rioexp fairlawn   \n",
       "1                  0          buffalo wild wings   \n",
       "2                  0                      oculus   \n",
       "3                  0          los girasoles stow   \n",
       "4                  0            buzzis laundry 1   \n",
       "\n",
       "                       category           clean_memo_proc  \n",
       "0   __label__FOOD_AND_BEVERAGES  casa del rioexp fairlawn  \n",
       "1   __label__FOOD_AND_BEVERAGES        buffalo wild wings  \n",
       "2  __label__GENERAL_MERCHANDISE                    oculus  \n",
       "3   __label__FOOD_AND_BEVERAGES        los girasoles stow  \n",
       "4  __label__GENERAL_MERCHANDISE            buzzis laundry  "
      ]
     },
     "execution_count": 18,
     "metadata": {},
     "output_type": "execute_result"
    }
   ],
   "source": [
    "ft_data.head()"
   ]
  },
  {
   "cell_type": "code",
   "execution_count": null,
   "id": "281fca86-5201-43ba-9aa2-a20895d8eda1",
   "metadata": {},
   "outputs": [],
   "source": []
  },
  {
   "cell_type": "code",
   "execution_count": 19,
   "id": "7e71b3d6-c45e-49cc-a580-6103dc7efc3b",
   "metadata": {},
   "outputs": [],
   "source": [
    "ids = ft_data.prism_consumer_id.unique()\n",
    "\n",
    "test_ratio = 0.25\n",
    "test_size = int(len(ids) * 0.25)\n",
    "\n",
    "test_ids = np.random.choice(ids, size=test_size, replace=False)\n",
    "\n",
    "train = ft_data[~ft_data.prism_consumer_id.isin(test_ids)].get(['clean_memo_proc', 'category'])\n",
    "test = ft_data[ft_data.prism_consumer_id.isin(test_ids)].get(['clean_memo_proc', 'category'])"
   ]
  },
  {
   "cell_type": "code",
   "execution_count": 54,
   "id": "37692543-0087-4c9f-b52a-581af45b1b22",
   "metadata": {},
   "outputs": [],
   "source": [
    "y_train = train.category.values\n",
    "y_test = test.category.values"
   ]
  },
  {
   "cell_type": "code",
   "execution_count": 20,
   "id": "9c13cdd8-44a0-468d-bbe3-b3ef465f9344",
   "metadata": {},
   "outputs": [
    {
     "data": {
      "text/plain": [
       "((959641, 2), (346811, 2))"
      ]
     },
     "execution_count": 20,
     "metadata": {},
     "output_type": "execute_result"
    }
   ],
   "source": [
    "train.shape, test.shape"
   ]
  },
  {
   "cell_type": "code",
   "execution_count": 31,
   "id": "d1b647a8-5916-4908-892b-3bd50442d6bd",
   "metadata": {},
   "outputs": [],
   "source": [
    "################################\n",
    "\n",
    "train.to_csv('../data/train.txt', index = False, sep = ' ', header = None, quoting = csv.QUOTE_NONE, quotechar = \"\", escapechar = \" \")\n",
    "test.to_csv('../data/test.txt', index = False, sep = ' ', header = None, quoting = csv.QUOTE_NONE, quotechar = \"\", escapechar = \" \")\n",
    "\n",
    "\n",
    "################################"
   ]
  },
  {
   "cell_type": "code",
   "execution_count": 77,
   "id": "709589fb-747c-4f24-afd5-56b4d5647cbc",
   "metadata": {},
   "outputs": [
    {
     "name": "stderr",
     "output_type": "stream",
     "text": [
      "Read 5M words\n",
      "Number of words:  75235\n",
      "Number of labels: 9\n",
      "Progress: 100.0% words/sec/thread:   23821 lr:  0.000000 avg.loss:  0.050886 ETA:   0h 0m 0s\n"
     ]
    }
   ],
   "source": [
    "model = fasttext.train_supervised('../data/train.txt', wordNgrams = 2)\n",
    "\n",
    "# model = fasttext.train_supervised('../data/train.txt', wordNgrams = 3)"
   ]
  },
  {
   "cell_type": "code",
   "execution_count": 78,
   "id": "0e849bb7-b764-4dd1-9223-16cba84ff0de",
   "metadata": {},
   "outputs": [
    {
     "name": "stdout",
     "output_type": "stream",
     "text": [
      "Precision = 0.9650, Recall = 0.9650\n"
     ]
    }
   ],
   "source": [
    "eval_values = model.test('../data/test.txt')\n",
    "print(f'Precision = {eval_values[1]:.4f}, Recall = {eval_values[2]:.4f}')"
   ]
  },
  {
   "cell_type": "code",
   "execution_count": 79,
   "id": "37d77d13-d6ee-4476-a33e-100d40ea378b",
   "metadata": {},
   "outputs": [
    {
     "name": "stdout",
     "output_type": "stream",
     "text": [
      "Prediction Time on 1306452 rows: 11.0373 seconds\n",
      "118366.7939 records per second\n"
     ]
    }
   ],
   "source": [
    "start = time.time()\n",
    "\n",
    "train_pred = []\n",
    "for i in range(len(train.clean_memo_proc.values)):\n",
    "    train_pred.append(model.predict(train.clean_memo_proc.values[i])[0][0])\n",
    "\n",
    "test_pred = []\n",
    "for i in range(len(test.clean_memo_proc.values)):\n",
    "    test_pred.append(model.predict(test.clean_memo_proc.values[i])[0][0])\n",
    "\n",
    "end = time.time()  \n",
    "print(f\"Prediction Time on {train.shape[0] + test.shape[0]} rows: {end - start:.4f} seconds\")\n",
    "print(f'{((test.shape[0] + train.shape[0]) / (end - start)):.4f} records per second')"
   ]
  },
  {
   "cell_type": "markdown",
   "id": "dd99a2f5-6bc7-40cd-96d1-4b7e1f226595",
   "metadata": {},
   "source": [
    "#### Accuracy - Fasttext"
   ]
  },
  {
   "cell_type": "code",
   "execution_count": 80,
   "id": "3cef0da0-c73a-4cd1-961f-47d3d473bad3",
   "metadata": {},
   "outputs": [
    {
     "name": "stdout",
     "output_type": "stream",
     "text": [
      "Training Accuracy = 0.9959, Test Accuracy = 0.9650\n"
     ]
    }
   ],
   "source": [
    "train_acc = 0\n",
    "for i in range(len(train_pred)):\n",
    "    if train_pred[i] == y_train[i]:\n",
    "        train_acc += 1\n",
    "train_acc /= len(train_pred)\n",
    "\n",
    "test_acc = 0\n",
    "for i in range(len(test_pred)):\n",
    "    if test_pred[i] == y_test[i]:\n",
    "        test_acc += 1\n",
    "test_acc /= len(test_pred)\n",
    "\n",
    "print(f'Training Accuracy = {train_acc:.4f}, Test Accuracy = {test_acc:.4f}')"
   ]
  },
  {
   "cell_type": "code",
   "execution_count": 74,
   "id": "42121d78-37fa-45c5-a2ac-9a8a6046a9b7",
   "metadata": {},
   "outputs": [],
   "source": [
    "# model.save_model('fasttext_models/sup_v2.bin')"
   ]
  },
  {
   "cell_type": "markdown",
   "id": "5c2ef0b6-cf50-43ac-98d0-5697e5cbccaf",
   "metadata": {},
   "source": [
    "### Model Saves:\n",
    "\n",
    "- fasttext_models/sup_v1.bin:\n",
    "   - wordNgrams = 2\n",
    "   - Precision = 0.9650, Recall = 0.9650\n",
    "   - Training Accuracy = 0.9959, Test Accuracy = 0.9650\n",
    "- fasttext_models/sup_v2.bin:\n",
    "   - wordNgrams = 3\n",
    "   - Precision = 0.9625, Recall = 0.9625\n",
    "   - Training Accuracy = 0.9964, Test Accuracy = 0.9625"
   ]
  },
  {
   "cell_type": "code",
   "execution_count": null,
   "id": "f6a2717c-868a-4b81-9c21-a691a74c20a6",
   "metadata": {},
   "outputs": [],
   "source": []
  },
  {
   "cell_type": "code",
   "execution_count": null,
   "id": "e8755c42-745a-4874-b59a-5eedcc560725",
   "metadata": {},
   "outputs": [],
   "source": []
  },
  {
   "cell_type": "code",
   "execution_count": null,
   "id": "44328c1e-ca91-4699-9f66-1e778077a63e",
   "metadata": {},
   "outputs": [],
   "source": []
  },
  {
   "cell_type": "code",
   "execution_count": null,
   "id": "bfd07092-4103-4a68-aaa0-4626f88a8fde",
   "metadata": {},
   "outputs": [],
   "source": []
  },
  {
   "cell_type": "code",
   "execution_count": null,
   "id": "45cb980b-3ecc-4ebf-862e-6f9120460e0c",
   "metadata": {},
   "outputs": [],
   "source": []
  },
  {
   "cell_type": "code",
   "execution_count": null,
   "id": "a0b89d04-cef6-4eb3-a2a4-b998b1c80841",
   "metadata": {},
   "outputs": [],
   "source": []
  },
  {
   "cell_type": "code",
   "execution_count": null,
   "id": "88ac9c53-2672-4efe-b128-06a7759fba24",
   "metadata": {},
   "outputs": [],
   "source": []
  },
  {
   "cell_type": "code",
   "execution_count": null,
   "id": "c6e00a05-69ea-424a-81a8-7cc837116da6",
   "metadata": {},
   "outputs": [],
   "source": []
  },
  {
   "cell_type": "code",
   "execution_count": null,
   "id": "c845992c-39a9-4956-96aa-d6ed20cecb7d",
   "metadata": {},
   "outputs": [],
   "source": []
  },
  {
   "cell_type": "code",
   "execution_count": null,
   "id": "53a99f85-1564-48e8-a4c8-4c43c4cb210e",
   "metadata": {},
   "outputs": [],
   "source": []
  }
 ],
 "metadata": {
  "kernelspec": {
   "display_name": "Python 3 (ipykernel)",
   "language": "python",
   "name": "python3"
  },
  "language_info": {
   "codemirror_mode": {
    "name": "ipython",
    "version": 3
   },
   "file_extension": ".py",
   "mimetype": "text/x-python",
   "name": "python",
   "nbconvert_exporter": "python",
   "pygments_lexer": "ipython3",
   "version": "3.11.9"
  }
 },
 "nbformat": 4,
 "nbformat_minor": 5
}
