{
 "cells": [
  {
   "cell_type": "code",
   "execution_count": 1,
   "id": "0116aa66-2585-434b-8998-5e796dbc0ba6",
   "metadata": {},
   "outputs": [],
   "source": [
    "import pandas as pd\n",
    "pd.options.display.float_format = '${:,.2f}'.format\n",
    "import numpy as np\n",
    "import matplotlib.pyplot as plt\n",
    "import re\n",
    "from sklearn.feature_extraction.text import TfidfVectorizer\n"
   ]
  },
  {
   "cell_type": "code",
   "execution_count": 2,
   "id": "3a797a38-f84c-43e0-acf6-759750a8d8fb",
   "metadata": {},
   "outputs": [
    {
     "data": {
      "text/html": [
       "<div>\n",
       "<style scoped>\n",
       "    .dataframe tbody tr th:only-of-type {\n",
       "        vertical-align: middle;\n",
       "    }\n",
       "\n",
       "    .dataframe tbody tr th {\n",
       "        vertical-align: top;\n",
       "    }\n",
       "\n",
       "    .dataframe thead th {\n",
       "        text-align: right;\n",
       "    }\n",
       "</style>\n",
       "<table border=\"1\" class=\"dataframe\">\n",
       "  <thead>\n",
       "    <tr style=\"text-align: right;\">\n",
       "      <th></th>\n",
       "      <th>prism_consumer_id</th>\n",
       "      <th>prism_account_id</th>\n",
       "      <th>memo</th>\n",
       "      <th>amount</th>\n",
       "      <th>posted_date</th>\n",
       "      <th>category</th>\n",
       "    </tr>\n",
       "  </thead>\n",
       "  <tbody>\n",
       "    <tr>\n",
       "      <th>0</th>\n",
       "      <td>0</td>\n",
       "      <td>acc_0</td>\n",
       "      <td>PAYCHECK</td>\n",
       "      <td>$2,477.02</td>\n",
       "      <td>2022-03-18</td>\n",
       "      <td>PAYCHECK</td>\n",
       "    </tr>\n",
       "    <tr>\n",
       "      <th>1</th>\n",
       "      <td>0</td>\n",
       "      <td>acc_0</td>\n",
       "      <td>EXTERNAL_TRANSFER</td>\n",
       "      <td>$100.00</td>\n",
       "      <td>2022-10-25</td>\n",
       "      <td>EXTERNAL_TRANSFER</td>\n",
       "    </tr>\n",
       "    <tr>\n",
       "      <th>2</th>\n",
       "      <td>0</td>\n",
       "      <td>acc_0</td>\n",
       "      <td>MISCELLANEOUS</td>\n",
       "      <td>$6.29</td>\n",
       "      <td>2022-08-26</td>\n",
       "      <td>MISCELLANEOUS</td>\n",
       "    </tr>\n",
       "    <tr>\n",
       "      <th>3</th>\n",
       "      <td>0</td>\n",
       "      <td>acc_0</td>\n",
       "      <td>EXTERNAL_TRANSFER</td>\n",
       "      <td>$277.00</td>\n",
       "      <td>2022-06-03</td>\n",
       "      <td>EXTERNAL_TRANSFER</td>\n",
       "    </tr>\n",
       "    <tr>\n",
       "      <th>4</th>\n",
       "      <td>0</td>\n",
       "      <td>acc_0</td>\n",
       "      <td>EXTERNAL_TRANSFER</td>\n",
       "      <td>$100.00</td>\n",
       "      <td>2022-07-29</td>\n",
       "      <td>EXTERNAL_TRANSFER</td>\n",
       "    </tr>\n",
       "  </tbody>\n",
       "</table>\n",
       "</div>"
      ],
      "text/plain": [
       "   prism_consumer_id prism_account_id               memo    amount  \\\n",
       "0                  0            acc_0           PAYCHECK $2,477.02   \n",
       "1                  0            acc_0  EXTERNAL_TRANSFER   $100.00   \n",
       "2                  0            acc_0      MISCELLANEOUS     $6.29   \n",
       "3                  0            acc_0  EXTERNAL_TRANSFER   $277.00   \n",
       "4                  0            acc_0  EXTERNAL_TRANSFER   $100.00   \n",
       "\n",
       "  posted_date           category  \n",
       "0  2022-03-18           PAYCHECK  \n",
       "1  2022-10-25  EXTERNAL_TRANSFER  \n",
       "2  2022-08-26      MISCELLANEOUS  \n",
       "3  2022-06-03  EXTERNAL_TRANSFER  \n",
       "4  2022-07-29  EXTERNAL_TRANSFER  "
      ]
     },
     "execution_count": 2,
     "metadata": {},
     "output_type": "execute_result"
    }
   ],
   "source": [
    "inflows = pd.read_parquet('data/ucsd-inflows.pqt')\n",
    "outflows = pd.read_parquet('data/ucsd-outflows.pqt')\n",
    "\n",
    "inflows.head()"
   ]
  },
  {
   "cell_type": "code",
   "execution_count": 3,
   "id": "af6303cd-a477-4b3a-a2b7-bbba0821ac73",
   "metadata": {},
   "outputs": [
    {
     "data": {
      "text/html": [
       "<div>\n",
       "<style scoped>\n",
       "    .dataframe tbody tr th:only-of-type {\n",
       "        vertical-align: middle;\n",
       "    }\n",
       "\n",
       "    .dataframe tbody tr th {\n",
       "        vertical-align: top;\n",
       "    }\n",
       "\n",
       "    .dataframe thead th {\n",
       "        text-align: right;\n",
       "    }\n",
       "</style>\n",
       "<table border=\"1\" class=\"dataframe\">\n",
       "  <thead>\n",
       "    <tr style=\"text-align: right;\">\n",
       "      <th></th>\n",
       "      <th>prism_consumer_id</th>\n",
       "      <th>prism_account_id</th>\n",
       "      <th>memo</th>\n",
       "      <th>amount</th>\n",
       "      <th>posted_date</th>\n",
       "      <th>category</th>\n",
       "    </tr>\n",
       "  </thead>\n",
       "  <tbody>\n",
       "    <tr>\n",
       "      <th>0</th>\n",
       "      <td>0</td>\n",
       "      <td>acc_0</td>\n",
       "      <td>LOAN</td>\n",
       "      <td>$900.60</td>\n",
       "      <td>2022-07-05</td>\n",
       "      <td>LOAN</td>\n",
       "    </tr>\n",
       "    <tr>\n",
       "      <th>1</th>\n",
       "      <td>0</td>\n",
       "      <td>acc_0</td>\n",
       "      <td>ATM_CASH</td>\n",
       "      <td>$80.00</td>\n",
       "      <td>2022-03-25</td>\n",
       "      <td>ATM_CASH</td>\n",
       "    </tr>\n",
       "    <tr>\n",
       "      <th>2</th>\n",
       "      <td>0</td>\n",
       "      <td>acc_0</td>\n",
       "      <td>TST* Casa Del Rio - Exp Fairlawn OH 09/24</td>\n",
       "      <td>$18.42</td>\n",
       "      <td>2022-09-26</td>\n",
       "      <td>FOOD_AND_BEVERAGES</td>\n",
       "    </tr>\n",
       "    <tr>\n",
       "      <th>3</th>\n",
       "      <td>0</td>\n",
       "      <td>acc_0</td>\n",
       "      <td>LOAN</td>\n",
       "      <td>$634.00</td>\n",
       "      <td>2023-01-10</td>\n",
       "      <td>LOAN</td>\n",
       "    </tr>\n",
       "    <tr>\n",
       "      <th>4</th>\n",
       "      <td>0</td>\n",
       "      <td>acc_0</td>\n",
       "      <td>Buffalo Wild Wings</td>\n",
       "      <td>$26.47</td>\n",
       "      <td>2022-09-12</td>\n",
       "      <td>FOOD_AND_BEVERAGES</td>\n",
       "    </tr>\n",
       "  </tbody>\n",
       "</table>\n",
       "</div>"
      ],
      "text/plain": [
       "   prism_consumer_id prism_account_id  \\\n",
       "0                  0            acc_0   \n",
       "1                  0            acc_0   \n",
       "2                  0            acc_0   \n",
       "3                  0            acc_0   \n",
       "4                  0            acc_0   \n",
       "\n",
       "                                        memo  amount posted_date  \\\n",
       "0                                       LOAN $900.60  2022-07-05   \n",
       "1                                   ATM_CASH  $80.00  2022-03-25   \n",
       "2  TST* Casa Del Rio - Exp Fairlawn OH 09/24  $18.42  2022-09-26   \n",
       "3                                       LOAN $634.00  2023-01-10   \n",
       "4                         Buffalo Wild Wings  $26.47  2022-09-12   \n",
       "\n",
       "             category  \n",
       "0                LOAN  \n",
       "1            ATM_CASH  \n",
       "2  FOOD_AND_BEVERAGES  \n",
       "3                LOAN  \n",
       "4  FOOD_AND_BEVERAGES  "
      ]
     },
     "execution_count": 3,
     "metadata": {},
     "output_type": "execute_result"
    }
   ],
   "source": [
    "outflows.head()"
   ]
  },
  {
   "cell_type": "code",
   "execution_count": 4,
   "id": "f624633e-0755-45ce-b79c-76230fd72b74",
   "metadata": {},
   "outputs": [
    {
     "name": "stdout",
     "output_type": "stream",
     "text": [
      " There are \n",
      " - 2968 consumers \n",
      " - 4622 accounts\n"
     ]
    },
    {
     "data": {
      "text/html": [
       "<div>\n",
       "<style scoped>\n",
       "    .dataframe tbody tr th:only-of-type {\n",
       "        vertical-align: middle;\n",
       "    }\n",
       "\n",
       "    .dataframe tbody tr th {\n",
       "        vertical-align: top;\n",
       "    }\n",
       "\n",
       "    .dataframe thead th {\n",
       "        text-align: right;\n",
       "    }\n",
       "</style>\n",
       "<table border=\"1\" class=\"dataframe\">\n",
       "  <thead>\n",
       "    <tr style=\"text-align: right;\">\n",
       "      <th></th>\n",
       "      <th>prism_account_id</th>\n",
       "    </tr>\n",
       "    <tr>\n",
       "      <th>prism_consumer_id</th>\n",
       "      <th></th>\n",
       "    </tr>\n",
       "  </thead>\n",
       "  <tbody>\n",
       "    <tr>\n",
       "      <th>0</th>\n",
       "      <td>645</td>\n",
       "    </tr>\n",
       "    <tr>\n",
       "      <th>2</th>\n",
       "      <td>638</td>\n",
       "    </tr>\n",
       "    <tr>\n",
       "      <th>4</th>\n",
       "      <td>705</td>\n",
       "    </tr>\n",
       "    <tr>\n",
       "      <th>7</th>\n",
       "      <td>322</td>\n",
       "    </tr>\n",
       "    <tr>\n",
       "      <th>9</th>\n",
       "      <td>2093</td>\n",
       "    </tr>\n",
       "  </tbody>\n",
       "</table>\n",
       "</div>"
      ],
      "text/plain": [
       "                   prism_account_id\n",
       "prism_consumer_id                  \n",
       "0                               645\n",
       "2                               638\n",
       "4                               705\n",
       "7                               322\n",
       "9                              2093"
      ]
     },
     "execution_count": 4,
     "metadata": {},
     "output_type": "execute_result"
    }
   ],
   "source": [
    "print(f' There are \\n - {outflows.prism_consumer_id.unique().shape[0]} consumers \\n - {outflows.prism_account_id.unique().shape[0]} accounts')\n",
    "\n",
    "outflows.groupby('prism_consumer_id').count()[['prism_account_id']].head()"
   ]
  },
  {
   "cell_type": "code",
   "execution_count": 5,
   "id": "d7c5bece-7619-4572-9e7b-4ad0782cc02d",
   "metadata": {},
   "outputs": [
    {
     "data": {
      "text/html": [
       "<div>\n",
       "<style scoped>\n",
       "    .dataframe tbody tr th:only-of-type {\n",
       "        vertical-align: middle;\n",
       "    }\n",
       "\n",
       "    .dataframe tbody tr th {\n",
       "        vertical-align: top;\n",
       "    }\n",
       "\n",
       "    .dataframe thead th {\n",
       "        text-align: right;\n",
       "    }\n",
       "</style>\n",
       "<table border=\"1\" class=\"dataframe\">\n",
       "  <thead>\n",
       "    <tr style=\"text-align: right;\">\n",
       "      <th></th>\n",
       "      <th>prism_consumer_id</th>\n",
       "    </tr>\n",
       "    <tr>\n",
       "      <th>prism_account_id</th>\n",
       "      <th></th>\n",
       "    </tr>\n",
       "  </thead>\n",
       "  <tbody>\n",
       "    <tr>\n",
       "      <th>acc_0</th>\n",
       "      <td>644</td>\n",
       "    </tr>\n",
       "    <tr>\n",
       "      <th>acc_1</th>\n",
       "      <td>1</td>\n",
       "    </tr>\n",
       "    <tr>\n",
       "      <th>acc_100</th>\n",
       "      <td>1736</td>\n",
       "    </tr>\n",
       "    <tr>\n",
       "      <th>acc_1005</th>\n",
       "      <td>115</td>\n",
       "    </tr>\n",
       "    <tr>\n",
       "      <th>acc_1006</th>\n",
       "      <td>2</td>\n",
       "    </tr>\n",
       "    <tr>\n",
       "      <th>...</th>\n",
       "      <td>...</td>\n",
       "    </tr>\n",
       "    <tr>\n",
       "      <th>acc_986</th>\n",
       "      <td>20</td>\n",
       "    </tr>\n",
       "    <tr>\n",
       "      <th>acc_987</th>\n",
       "      <td>11</td>\n",
       "    </tr>\n",
       "    <tr>\n",
       "      <th>acc_988</th>\n",
       "      <td>6</td>\n",
       "    </tr>\n",
       "    <tr>\n",
       "      <th>acc_989</th>\n",
       "      <td>7</td>\n",
       "    </tr>\n",
       "    <tr>\n",
       "      <th>acc_99</th>\n",
       "      <td>13</td>\n",
       "    </tr>\n",
       "  </tbody>\n",
       "</table>\n",
       "<p>4622 rows × 1 columns</p>\n",
       "</div>"
      ],
      "text/plain": [
       "                  prism_consumer_id\n",
       "prism_account_id                   \n",
       "acc_0                           644\n",
       "acc_1                             1\n",
       "acc_100                        1736\n",
       "acc_1005                        115\n",
       "acc_1006                          2\n",
       "...                             ...\n",
       "acc_986                          20\n",
       "acc_987                          11\n",
       "acc_988                           6\n",
       "acc_989                           7\n",
       "acc_99                           13\n",
       "\n",
       "[4622 rows x 1 columns]"
      ]
     },
     "execution_count": 5,
     "metadata": {},
     "output_type": "execute_result"
    }
   ],
   "source": [
    "outflows.groupby('prism_account_id').count()[['prism_consumer_id']]"
   ]
  },
  {
   "cell_type": "raw",
   "id": "b4f5c506-a389-4126-b75a-cd833628ef71",
   "metadata": {},
   "source": [
    "There can be multiple accounts per consumer ID and multiple consumers per account ID.\n",
    "\n",
    "A single consumer can have multiple accounts. A single account can have multiple users. "
   ]
  },
  {
   "cell_type": "markdown",
   "id": "88b6b303-83d5-4cc1-826a-c880fc76e6b6",
   "metadata": {},
   "source": [
    "## Most Commmon Merchants per Category"
   ]
  },
  {
   "cell_type": "code",
   "execution_count": 6,
   "id": "d225268d-fa09-4f70-8745-70b2c52d5752",
   "metadata": {},
   "outputs": [
    {
     "data": {
      "text/html": [
       "<div>\n",
       "<style scoped>\n",
       "    .dataframe tbody tr th:only-of-type {\n",
       "        vertical-align: middle;\n",
       "    }\n",
       "\n",
       "    .dataframe tbody tr th {\n",
       "        vertical-align: top;\n",
       "    }\n",
       "\n",
       "    .dataframe thead th {\n",
       "        text-align: right;\n",
       "    }\n",
       "</style>\n",
       "<table border=\"1\" class=\"dataframe\">\n",
       "  <thead>\n",
       "    <tr style=\"text-align: right;\">\n",
       "      <th></th>\n",
       "      <th>prism_consumer_id</th>\n",
       "      <th>prism_account_id</th>\n",
       "      <th>memo</th>\n",
       "      <th>amount</th>\n",
       "      <th>posted_date</th>\n",
       "      <th>category</th>\n",
       "    </tr>\n",
       "  </thead>\n",
       "  <tbody>\n",
       "    <tr>\n",
       "      <th>0</th>\n",
       "      <td>0</td>\n",
       "      <td>acc_0</td>\n",
       "      <td>LOAN</td>\n",
       "      <td>$900.60</td>\n",
       "      <td>2022-07-05</td>\n",
       "      <td>LOAN</td>\n",
       "    </tr>\n",
       "    <tr>\n",
       "      <th>1</th>\n",
       "      <td>0</td>\n",
       "      <td>acc_0</td>\n",
       "      <td>ATM_CASH</td>\n",
       "      <td>$80.00</td>\n",
       "      <td>2022-03-25</td>\n",
       "      <td>ATM_CASH</td>\n",
       "    </tr>\n",
       "    <tr>\n",
       "      <th>2</th>\n",
       "      <td>0</td>\n",
       "      <td>acc_0</td>\n",
       "      <td>TST* Casa Del Rio - Exp Fairlawn OH 09/24</td>\n",
       "      <td>$18.42</td>\n",
       "      <td>2022-09-26</td>\n",
       "      <td>FOOD_AND_BEVERAGES</td>\n",
       "    </tr>\n",
       "    <tr>\n",
       "      <th>3</th>\n",
       "      <td>0</td>\n",
       "      <td>acc_0</td>\n",
       "      <td>LOAN</td>\n",
       "      <td>$634.00</td>\n",
       "      <td>2023-01-10</td>\n",
       "      <td>LOAN</td>\n",
       "    </tr>\n",
       "    <tr>\n",
       "      <th>4</th>\n",
       "      <td>0</td>\n",
       "      <td>acc_0</td>\n",
       "      <td>Buffalo Wild Wings</td>\n",
       "      <td>$26.47</td>\n",
       "      <td>2022-09-12</td>\n",
       "      <td>FOOD_AND_BEVERAGES</td>\n",
       "    </tr>\n",
       "  </tbody>\n",
       "</table>\n",
       "</div>"
      ],
      "text/plain": [
       "   prism_consumer_id prism_account_id  \\\n",
       "0                  0            acc_0   \n",
       "1                  0            acc_0   \n",
       "2                  0            acc_0   \n",
       "3                  0            acc_0   \n",
       "4                  0            acc_0   \n",
       "\n",
       "                                        memo  amount posted_date  \\\n",
       "0                                       LOAN $900.60  2022-07-05   \n",
       "1                                   ATM_CASH  $80.00  2022-03-25   \n",
       "2  TST* Casa Del Rio - Exp Fairlawn OH 09/24  $18.42  2022-09-26   \n",
       "3                                       LOAN $634.00  2023-01-10   \n",
       "4                         Buffalo Wild Wings  $26.47  2022-09-12   \n",
       "\n",
       "             category  \n",
       "0                LOAN  \n",
       "1            ATM_CASH  \n",
       "2  FOOD_AND_BEVERAGES  \n",
       "3                LOAN  \n",
       "4  FOOD_AND_BEVERAGES  "
      ]
     },
     "execution_count": 6,
     "metadata": {},
     "output_type": "execute_result"
    }
   ],
   "source": [
    "outflows.head()"
   ]
  },
  {
   "cell_type": "code",
   "execution_count": 7,
   "id": "b8788565-b407-4ee3-8b74-e92131f23c1a",
   "metadata": {},
   "outputs": [
    {
     "data": {
      "text/plain": [
       "(          category             memo\n",
       " 0     ACCOUNT_FEES     ACCOUNT_FEES\n",
       " 1         ATM_CASH         ATM_CASH\n",
       " 2       AUTOMOTIVE       AUTOMOTIVE\n",
       " 3        AUTO_LOAN        AUTO_LOAN\n",
       " 4  BILLS_UTILITIES  BILLS_UTILITIES,\n",
       "                category                                memo\n",
       " 8             EDUCATION             Teacherspayteachers.com\n",
       " 12   FOOD_AND_BEVERAGES                          McDonald's\n",
       " 13  GENERAL_MERCHANDISE                              Amazon\n",
       " 15            GROCERIES                             Walmart\n",
       " 20             MORTGAGE  HUNTINGTON MORTG ONLINE PMT XXXXXX)"
      ]
     },
     "execution_count": 7,
     "metadata": {},
     "output_type": "execute_result"
    }
   ],
   "source": [
    "# Finding most common merchant per category.\n",
    "mcm_all = outflows.groupby('category')['memo'].agg(lambda x: x.value_counts().idxmax()).reset_index()\n",
    "\n",
    "mcm_removed = mcm_all[mcm_all['category'] != mcm_all['memo']]\n",
    "\n",
    "mcm_all.head(), mcm_removed.head()\n"
   ]
  },
  {
   "cell_type": "code",
   "execution_count": 8,
   "id": "caa19966-499f-4999-804d-1c971966c034",
   "metadata": {},
   "outputs": [
    {
     "data": {
      "text/html": [
       "<div>\n",
       "<style scoped>\n",
       "    .dataframe tbody tr th:only-of-type {\n",
       "        vertical-align: middle;\n",
       "    }\n",
       "\n",
       "    .dataframe tbody tr th {\n",
       "        vertical-align: top;\n",
       "    }\n",
       "\n",
       "    .dataframe thead th {\n",
       "        text-align: right;\n",
       "    }\n",
       "</style>\n",
       "<table border=\"1\" class=\"dataframe\">\n",
       "  <thead>\n",
       "    <tr style=\"text-align: right;\">\n",
       "      <th></th>\n",
       "      <th>category</th>\n",
       "      <th>memo</th>\n",
       "    </tr>\n",
       "  </thead>\n",
       "  <tbody>\n",
       "    <tr>\n",
       "      <th>0</th>\n",
       "      <td>EDUCATION</td>\n",
       "      <td>Teacherspayteachers.com</td>\n",
       "    </tr>\n",
       "    <tr>\n",
       "      <th>1</th>\n",
       "      <td>FOOD_AND_BEVERAGES</td>\n",
       "      <td>McDonald's</td>\n",
       "    </tr>\n",
       "    <tr>\n",
       "      <th>2</th>\n",
       "      <td>GENERAL_MERCHANDISE</td>\n",
       "      <td>Amazon</td>\n",
       "    </tr>\n",
       "    <tr>\n",
       "      <th>3</th>\n",
       "      <td>GROCERIES</td>\n",
       "      <td>Walmart</td>\n",
       "    </tr>\n",
       "    <tr>\n",
       "      <th>4</th>\n",
       "      <td>MORTGAGE</td>\n",
       "      <td>HUNTINGTON MORTG ONLINE PMT XXXXXX</td>\n",
       "    </tr>\n",
       "  </tbody>\n",
       "</table>\n",
       "</div>"
      ],
      "text/plain": [
       "              category                                memo\n",
       "0            EDUCATION             Teacherspayteachers.com\n",
       "1   FOOD_AND_BEVERAGES                          McDonald's\n",
       "2  GENERAL_MERCHANDISE                              Amazon\n",
       "3            GROCERIES                             Walmart\n",
       "4             MORTGAGE  HUNTINGTON MORTG ONLINE PMT XXXXXX"
      ]
     },
     "execution_count": 8,
     "metadata": {},
     "output_type": "execute_result"
    }
   ],
   "source": [
    "# preprocessed by removing all records where category == memo (does not give us info on actual merchant)\n",
    "mcm_preprocessed = outflows[outflows['category'] != outflows['memo']]\n",
    "\n",
    "# relevant because finding most common merchant per category on records that give us actual info\n",
    "mcm_relevant = mcm_preprocessed.groupby('category')['memo'].agg(lambda x: x.value_counts().idxmax()).reset_index()\n",
    "\n",
    "\n",
    "mcm_relevant.head()"
   ]
  },
  {
   "cell_type": "markdown",
   "id": "3666d7a0-5e09-4e9e-8529-6cefccbdf365",
   "metadata": {},
   "source": [
    "## Normal Statistics\n",
    "- move to quantile per category"
   ]
  },
  {
   "cell_type": "code",
   "execution_count": 9,
   "id": "46208d38-a1e2-4ae6-ba01-9c87104b132f",
   "metadata": {},
   "outputs": [
    {
     "data": {
      "text/html": [
       "<div>\n",
       "<style scoped>\n",
       "    .dataframe tbody tr th:only-of-type {\n",
       "        vertical-align: middle;\n",
       "    }\n",
       "\n",
       "    .dataframe tbody tr th {\n",
       "        vertical-align: top;\n",
       "    }\n",
       "\n",
       "    .dataframe thead th {\n",
       "        text-align: right;\n",
       "    }\n",
       "</style>\n",
       "<table border=\"1\" class=\"dataframe\">\n",
       "  <thead>\n",
       "    <tr style=\"text-align: right;\">\n",
       "      <th></th>\n",
       "      <th>category</th>\n",
       "      <th>mean_amount</th>\n",
       "      <th>min_amount</th>\n",
       "      <th>max_amount</th>\n",
       "      <th>total_amount</th>\n",
       "      <th>% total</th>\n",
       "    </tr>\n",
       "  </thead>\n",
       "  <tbody>\n",
       "    <tr>\n",
       "      <th>0</th>\n",
       "      <td>ACCOUNT_FEES</td>\n",
       "      <td>$16.68</td>\n",
       "      <td>$0.00</td>\n",
       "      <td>$17,241.28</td>\n",
       "      <td>$625,715.21</td>\n",
       "      <td>$0.00</td>\n",
       "    </tr>\n",
       "    <tr>\n",
       "      <th>1</th>\n",
       "      <td>ATM_CASH</td>\n",
       "      <td>$461.57</td>\n",
       "      <td>$0.00</td>\n",
       "      <td>$461,421.00</td>\n",
       "      <td>$54,304,232.38</td>\n",
       "      <td>$0.14</td>\n",
       "    </tr>\n",
       "    <tr>\n",
       "      <th>2</th>\n",
       "      <td>AUTOMOTIVE</td>\n",
       "      <td>$43.64</td>\n",
       "      <td>$0.00</td>\n",
       "      <td>$69,588.33</td>\n",
       "      <td>$9,102,938.62</td>\n",
       "      <td>$0.02</td>\n",
       "    </tr>\n",
       "    <tr>\n",
       "      <th>3</th>\n",
       "      <td>AUTO_LOAN</td>\n",
       "      <td>$200.00</td>\n",
       "      <td>$200.00</td>\n",
       "      <td>$200.00</td>\n",
       "      <td>$200.00</td>\n",
       "      <td>$0.00</td>\n",
       "    </tr>\n",
       "    <tr>\n",
       "      <th>4</th>\n",
       "      <td>BILLS_UTILITIES</td>\n",
       "      <td>$80.43</td>\n",
       "      <td>$7.21</td>\n",
       "      <td>$151.95</td>\n",
       "      <td>$1,849.94</td>\n",
       "      <td>$0.00</td>\n",
       "    </tr>\n",
       "  </tbody>\n",
       "</table>\n",
       "</div>"
      ],
      "text/plain": [
       "          category  mean_amount  min_amount  max_amount   total_amount  \\\n",
       "0     ACCOUNT_FEES       $16.68       $0.00  $17,241.28    $625,715.21   \n",
       "1         ATM_CASH      $461.57       $0.00 $461,421.00 $54,304,232.38   \n",
       "2       AUTOMOTIVE       $43.64       $0.00  $69,588.33  $9,102,938.62   \n",
       "3        AUTO_LOAN      $200.00     $200.00     $200.00        $200.00   \n",
       "4  BILLS_UTILITIES       $80.43       $7.21     $151.95      $1,849.94   \n",
       "\n",
       "   % total  \n",
       "0    $0.00  \n",
       "1    $0.14  \n",
       "2    $0.02  \n",
       "3    $0.00  \n",
       "4    $0.00  "
      ]
     },
     "execution_count": 9,
     "metadata": {},
     "output_type": "execute_result"
    }
   ],
   "source": [
    "amount_stats = outflows.groupby('category')['amount'].agg(\n",
    "    mean_amount=('mean'),\n",
    "    min_amount=('min'),\n",
    "    max_amount=('max'),\n",
    "    total_amount=('sum'),\n",
    ").reset_index()\n",
    "\n",
    "amount_stats['% total'] = amount_stats['total_amount'] / sum(amount_stats['total_amount'])\n",
    "\n",
    "amount_stats.head()"
   ]
  },
  {
   "cell_type": "code",
   "execution_count": 10,
   "id": "1819a5fc-9df3-4355-8305-b700da866ed4",
   "metadata": {},
   "outputs": [
    {
     "data": {
      "image/png": "[encoded data removed]",
      "text/plain": [
       "<Figure size 600x600 with 1 Axes>"
      ]
     },
     "metadata": {},
     "output_type": "display_data"
    }
   ],
   "source": [
    "plt.figure(figsize=(6, 6))\n",
    "plt.pie(amount_stats['% total'], labels=amount_stats['category'], autopct='%1.1f%%', startangle=90)\n",
    "plt.title('Category Distribution by Percentage')\n",
    "plt.axis('equal')  # Equal aspect ratio ensures that the pie chart is drawn as a circle.\n",
    "plt.show()"
   ]
  },
  {
   "cell_type": "code",
   "execution_count": null,
   "id": "4eb4de31-e033-4b96-b66d-c616fd436fa6",
   "metadata": {},
   "outputs": [],
   "source": []
  },
  {
   "cell_type": "code",
   "execution_count": 11,
   "id": "9806af04-2bf3-4e41-81f6-7b353941b483",
   "metadata": {},
   "outputs": [
    {
     "data": {
      "text/html": [
       "<div>\n",
       "<style scoped>\n",
       "    .dataframe tbody tr th:only-of-type {\n",
       "        vertical-align: middle;\n",
       "    }\n",
       "\n",
       "    .dataframe tbody tr th {\n",
       "        vertical-align: top;\n",
       "    }\n",
       "\n",
       "    .dataframe thead th {\n",
       "        text-align: right;\n",
       "    }\n",
       "</style>\n",
       "<table border=\"1\" class=\"dataframe\">\n",
       "  <thead>\n",
       "    <tr style=\"text-align: right;\">\n",
       "      <th></th>\n",
       "      <th>prism_consumer_id</th>\n",
       "      <th>prism_account_id</th>\n",
       "      <th>memo</th>\n",
       "      <th>amount</th>\n",
       "      <th>posted_date</th>\n",
       "      <th>category</th>\n",
       "    </tr>\n",
       "  </thead>\n",
       "  <tbody>\n",
       "    <tr>\n",
       "      <th>0</th>\n",
       "      <td>0</td>\n",
       "      <td>acc_0</td>\n",
       "      <td>LOAN</td>\n",
       "      <td>$900.60</td>\n",
       "      <td>2022-07-05</td>\n",
       "      <td>LOAN</td>\n",
       "    </tr>\n",
       "    <tr>\n",
       "      <th>1</th>\n",
       "      <td>0</td>\n",
       "      <td>acc_0</td>\n",
       "      <td>ATM_CASH</td>\n",
       "      <td>$80.00</td>\n",
       "      <td>2022-03-25</td>\n",
       "      <td>ATM_CASH</td>\n",
       "    </tr>\n",
       "    <tr>\n",
       "      <th>2</th>\n",
       "      <td>0</td>\n",
       "      <td>acc_0</td>\n",
       "      <td>TST* Casa Del Rio - Exp Fairlawn OH 09/24</td>\n",
       "      <td>$18.42</td>\n",
       "      <td>2022-09-26</td>\n",
       "      <td>FOOD_AND_BEVERAGES</td>\n",
       "    </tr>\n",
       "    <tr>\n",
       "      <th>3</th>\n",
       "      <td>0</td>\n",
       "      <td>acc_0</td>\n",
       "      <td>LOAN</td>\n",
       "      <td>$634.00</td>\n",
       "      <td>2023-01-10</td>\n",
       "      <td>LOAN</td>\n",
       "    </tr>\n",
       "    <tr>\n",
       "      <th>4</th>\n",
       "      <td>0</td>\n",
       "      <td>acc_0</td>\n",
       "      <td>Buffalo Wild Wings</td>\n",
       "      <td>$26.47</td>\n",
       "      <td>2022-09-12</td>\n",
       "      <td>FOOD_AND_BEVERAGES</td>\n",
       "    </tr>\n",
       "  </tbody>\n",
       "</table>\n",
       "</div>"
      ],
      "text/plain": [
       "   prism_consumer_id prism_account_id  \\\n",
       "0                  0            acc_0   \n",
       "1                  0            acc_0   \n",
       "2                  0            acc_0   \n",
       "3                  0            acc_0   \n",
       "4                  0            acc_0   \n",
       "\n",
       "                                        memo  amount posted_date  \\\n",
       "0                                       LOAN $900.60  2022-07-05   \n",
       "1                                   ATM_CASH  $80.00  2022-03-25   \n",
       "2  TST* Casa Del Rio - Exp Fairlawn OH 09/24  $18.42  2022-09-26   \n",
       "3                                       LOAN $634.00  2023-01-10   \n",
       "4                         Buffalo Wild Wings  $26.47  2022-09-12   \n",
       "\n",
       "             category  \n",
       "0                LOAN  \n",
       "1            ATM_CASH  \n",
       "2  FOOD_AND_BEVERAGES  \n",
       "3                LOAN  \n",
       "4  FOOD_AND_BEVERAGES  "
      ]
     },
     "execution_count": 11,
     "metadata": {},
     "output_type": "execute_result"
    }
   ],
   "source": [
    "outflows.head()"
   ]
  },
  {
   "cell_type": "code",
   "execution_count": null,
   "id": "b373e9e5-8c03-4047-bac0-bea2919f2aaf",
   "metadata": {},
   "outputs": [],
   "source": []
  },
  {
   "cell_type": "markdown",
   "id": "731d487e-fc42-46d1-ad4a-934b787329fa",
   "metadata": {},
   "source": [
    "# Consumer ID 0 stats"
   ]
  },
  {
   "cell_type": "code",
   "execution_count": 12,
   "id": "28cfab92-6aef-4041-802c-26a0e3a199d1",
   "metadata": {},
   "outputs": [],
   "source": [
    "outflows['posted_date'] = pd.to_datetime(outflows['posted_date'])\n",
    "outflows = outflows.sort_values(by='posted_date', ascending=True)\n"
   ]
  },
  {
   "cell_type": "code",
   "execution_count": 13,
   "id": "46732906-3bab-4a7d-8691-d642be218f7c",
   "metadata": {},
   "outputs": [
    {
     "name": "stderr",
     "output_type": "stream",
     "text": [
      "/tmp/ipykernel_272/2065683930.py:3: UserWarning: Boolean Series key will be reindexed to match DataFrame index.\n",
      "  outflows_0_loan = outflows_0[outflows['memo'] == 'LOAN']\n"
     ]
    },
    {
     "data": {
      "text/html": [
       "<div>\n",
       "<style scoped>\n",
       "    .dataframe tbody tr th:only-of-type {\n",
       "        vertical-align: middle;\n",
       "    }\n",
       "\n",
       "    .dataframe tbody tr th {\n",
       "        vertical-align: top;\n",
       "    }\n",
       "\n",
       "    .dataframe thead th {\n",
       "        text-align: right;\n",
       "    }\n",
       "</style>\n",
       "<table border=\"1\" class=\"dataframe\">\n",
       "  <thead>\n",
       "    <tr style=\"text-align: right;\">\n",
       "      <th></th>\n",
       "      <th>prism_consumer_id</th>\n",
       "      <th>prism_account_id</th>\n",
       "      <th>memo</th>\n",
       "      <th>amount</th>\n",
       "      <th>posted_date</th>\n",
       "      <th>category</th>\n",
       "    </tr>\n",
       "  </thead>\n",
       "  <tbody>\n",
       "    <tr>\n",
       "      <th>323</th>\n",
       "      <td>0</td>\n",
       "      <td>acc_0</td>\n",
       "      <td>LOAN</td>\n",
       "      <td>$520.00</td>\n",
       "      <td>2022-03-01</td>\n",
       "      <td>LOAN</td>\n",
       "    </tr>\n",
       "    <tr>\n",
       "      <th>247</th>\n",
       "      <td>0</td>\n",
       "      <td>acc_0</td>\n",
       "      <td>LOAN</td>\n",
       "      <td>$924.29</td>\n",
       "      <td>2022-03-02</td>\n",
       "      <td>LOAN</td>\n",
       "    </tr>\n",
       "    <tr>\n",
       "      <th>258</th>\n",
       "      <td>0</td>\n",
       "      <td>acc_0</td>\n",
       "      <td>LOAN</td>\n",
       "      <td>$520.00</td>\n",
       "      <td>2022-04-01</td>\n",
       "      <td>LOAN</td>\n",
       "    </tr>\n",
       "    <tr>\n",
       "      <th>130</th>\n",
       "      <td>0</td>\n",
       "      <td>acc_0</td>\n",
       "      <td>LOAN</td>\n",
       "      <td>$924.29</td>\n",
       "      <td>2022-04-04</td>\n",
       "      <td>LOAN</td>\n",
       "    </tr>\n",
       "    <tr>\n",
       "      <th>87</th>\n",
       "      <td>0</td>\n",
       "      <td>acc_0</td>\n",
       "      <td>LOAN</td>\n",
       "      <td>$520.00</td>\n",
       "      <td>2022-05-02</td>\n",
       "      <td>LOAN</td>\n",
       "    </tr>\n",
       "  </tbody>\n",
       "</table>\n",
       "</div>"
      ],
      "text/plain": [
       "     prism_consumer_id prism_account_id  memo  amount posted_date category\n",
       "323                  0            acc_0  LOAN $520.00  2022-03-01     LOAN\n",
       "247                  0            acc_0  LOAN $924.29  2022-03-02     LOAN\n",
       "258                  0            acc_0  LOAN $520.00  2022-04-01     LOAN\n",
       "130                  0            acc_0  LOAN $924.29  2022-04-04     LOAN\n",
       "87                   0            acc_0  LOAN $520.00  2022-05-02     LOAN"
      ]
     },
     "execution_count": 13,
     "metadata": {},
     "output_type": "execute_result"
    }
   ],
   "source": [
    "outflows_0 = outflows[outflows['prism_consumer_id'] == 0]\n",
    "\n",
    "outflows_0_loan = outflows_0[outflows['memo'] == 'LOAN']\n",
    "outflows_0_loan.head()\n"
   ]
  },
  {
   "cell_type": "code",
   "execution_count": 14,
   "id": "60044a1e-1b4f-4496-ad3b-1d80d761d2b3",
   "metadata": {},
   "outputs": [
    {
     "name": "stderr",
     "output_type": "stream",
     "text": [
      "/tmp/ipykernel_272/2006446674.py:1: UserWarning: Boolean Series key will be reindexed to match DataFrame index.\n",
      "  outflows_0_loan = outflows_0[outflows['memo'] == 'LOAN']\n"
     ]
    },
    {
     "data": {
      "image/png": "[encoded data removed]",
      "text/plain": [
       "<Figure size 1000x600 with 1 Axes>"
      ]
     },
     "metadata": {},
     "output_type": "display_data"
    }
   ],
   "source": [
    "outflows_0_loan = outflows_0[outflows['memo'] == 'LOAN']\n",
    "plt.figure(figsize=(10, 6))\n",
    "plt.plot(outflows_0_loan['posted_date'], outflows_0_loan['amount'], marker='o')\n",
    "plt.title('Amount over Time - Loan')\n",
    "plt.xlabel('Posted Date')\n",
    "plt.ylabel('Amount')\n",
    "plt.grid(True)  # Add grid for better readability\n",
    "plt.xticks(rotation=45)  # Rotate date labels for better readability\n",
    "\n",
    "# Show the plot\n",
    "plt.tight_layout()  # Adjust layout to prevent label cutoff\n",
    "plt.show()\n"
   ]
  },
  {
   "cell_type": "markdown",
   "id": "cb1d2e97-4de5-4a9f-a65c-42d91adddd6a",
   "metadata": {},
   "source": [
    "# Consumer ID n Stats"
   ]
  },
  {
   "cell_type": "code",
   "execution_count": 15,
   "id": "820b14f0-cfbb-4d1b-9ba3-8ae41f2a9d85",
   "metadata": {},
   "outputs": [
    {
     "name": "stdout",
     "output_type": "stream",
     "text": [
      "['ACCOUNT_FEES' 'ATM_CASH' 'EXTERNAL_TRANSFER' ... 'Angie S Soul Food Bb'\n",
      " 'Ubr* Pending.Uber.com San Franciscocaus' 'YSI*Canyon House CARD#XXXX']\n"
     ]
    },
    {
     "data": {
      "text/plain": [
       "(0, 5943)"
      ]
     },
     "execution_count": 15,
     "metadata": {},
     "output_type": "execute_result"
    }
   ],
   "source": [
    "memos = outflows.memo.unique()\n",
    "print(memos)\n",
    "\n",
    "ids = (outflows.prism_consumer_id.min(), outflows.prism_consumer_id.max())\n",
    "ids"
   ]
  },
  {
   "cell_type": "code",
   "execution_count": 16,
   "id": "90f00e15-eed6-4d1f-aaff-9d0d953be347",
   "metadata": {},
   "outputs": [
    {
     "data": {
      "text/html": [
       "<div>\n",
       "<style scoped>\n",
       "    .dataframe tbody tr th:only-of-type {\n",
       "        vertical-align: middle;\n",
       "    }\n",
       "\n",
       "    .dataframe tbody tr th {\n",
       "        vertical-align: top;\n",
       "    }\n",
       "\n",
       "    .dataframe thead th {\n",
       "        text-align: right;\n",
       "    }\n",
       "</style>\n",
       "<table border=\"1\" class=\"dataframe\">\n",
       "  <thead>\n",
       "    <tr style=\"text-align: right;\">\n",
       "      <th></th>\n",
       "      <th>prism_consumer_id</th>\n",
       "      <th>prism_account_id</th>\n",
       "      <th>memo</th>\n",
       "      <th>amount</th>\n",
       "      <th>posted_date</th>\n",
       "      <th>category</th>\n",
       "    </tr>\n",
       "  </thead>\n",
       "  <tbody>\n",
       "    <tr>\n",
       "      <th>1162946</th>\n",
       "      <td>2784</td>\n",
       "      <td>acc_6367</td>\n",
       "      <td>ATM_CASH</td>\n",
       "      <td>$755.35</td>\n",
       "      <td>2023-01-09</td>\n",
       "      <td>ATM_CASH</td>\n",
       "    </tr>\n",
       "    <tr>\n",
       "      <th>1163457</th>\n",
       "      <td>2784</td>\n",
       "      <td>acc_6367</td>\n",
       "      <td>ATM_CASH</td>\n",
       "      <td>$245.51</td>\n",
       "      <td>2023-01-23</td>\n",
       "      <td>ATM_CASH</td>\n",
       "    </tr>\n",
       "    <tr>\n",
       "      <th>1163279</th>\n",
       "      <td>2784</td>\n",
       "      <td>acc_6367</td>\n",
       "      <td>ATM_CASH</td>\n",
       "      <td>$245.51</td>\n",
       "      <td>2023-02-06</td>\n",
       "      <td>ATM_CASH</td>\n",
       "    </tr>\n",
       "    <tr>\n",
       "      <th>1163555</th>\n",
       "      <td>2784</td>\n",
       "      <td>acc_6367</td>\n",
       "      <td>ATM_CASH</td>\n",
       "      <td>$245.51</td>\n",
       "      <td>2023-02-21</td>\n",
       "      <td>ATM_CASH</td>\n",
       "    </tr>\n",
       "    <tr>\n",
       "      <th>1162869</th>\n",
       "      <td>2784</td>\n",
       "      <td>acc_6367</td>\n",
       "      <td>ATM_CASH</td>\n",
       "      <td>$120.36</td>\n",
       "      <td>2023-03-06</td>\n",
       "      <td>ATM_CASH</td>\n",
       "    </tr>\n",
       "  </tbody>\n",
       "</table>\n",
       "</div>"
      ],
      "text/plain": [
       "         prism_consumer_id prism_account_id      memo  amount posted_date  \\\n",
       "1162946               2784         acc_6367  ATM_CASH $755.35  2023-01-09   \n",
       "1163457               2784         acc_6367  ATM_CASH $245.51  2023-01-23   \n",
       "1163279               2784         acc_6367  ATM_CASH $245.51  2023-02-06   \n",
       "1163555               2784         acc_6367  ATM_CASH $245.51  2023-02-21   \n",
       "1162869               2784         acc_6367  ATM_CASH $120.36  2023-03-06   \n",
       "\n",
       "         category  \n",
       "1162946  ATM_CASH  \n",
       "1163457  ATM_CASH  \n",
       "1163279  ATM_CASH  \n",
       "1163555  ATM_CASH  \n",
       "1162869  ATM_CASH  "
      ]
     },
     "execution_count": 16,
     "metadata": {},
     "output_type": "execute_result"
    }
   ],
   "source": [
    "# Fill in here:\n",
    "memo_type = 'ATM_CASH'\n",
    "n = np.random.choice(outflows['prism_consumer_id'].unique())\n",
    "\n",
    "outflows_n = outflows[outflows['prism_consumer_id'] == n]\n",
    "\n",
    "outflows_ntype = outflows_n[outflows_n['memo'] == memo_type]\n",
    "\n",
    "outflows_ntype.head()"
   ]
  },
  {
   "cell_type": "code",
   "execution_count": 17,
   "id": "ca4ed933-8e38-49ea-9f1b-db6d3c3ff9f0",
   "metadata": {},
   "outputs": [
    {
     "data": {
      "image/png": "[encoded data removed]",
      "text/plain": [
       "<Figure size 1000x600 with 1 Axes>"
      ]
     },
     "metadata": {},
     "output_type": "display_data"
    }
   ],
   "source": [
    "plt.figure(figsize=(10, 6))\n",
    "plt.plot(outflows_ntype['posted_date'], outflows_ntype['amount'], marker='o')\n",
    "plt.title('Amount over Time - ' + memo_type + ', ID: ' + str(n))\n",
    "plt.xlabel('Posted Date')\n",
    "plt.ylabel('Amount')\n",
    "plt.grid(True)  # Add grid for better readability\n",
    "plt.xticks(rotation=45)  # Rotate date labels for better readability\n",
    "\n",
    "# Show the plot\n",
    "plt.tight_layout()  # Adjust layout to prevent label cutoff\n",
    "plt.show()"
   ]
  },
  {
   "cell_type": "code",
   "execution_count": 18,
   "id": "ef765552-b72b-4973-b139-c3bdb4c9f7d4",
   "metadata": {},
   "outputs": [
    {
     "data": {
      "text/plain": [
       "array([ 9.63, 66.36])"
      ]
     },
     "execution_count": 18,
     "metadata": {},
     "output_type": "execute_result"
    }
   ],
   "source": [
    "np.percentile(outflows['amount'], [25, 75])"
   ]
  },
  {
   "cell_type": "code",
   "execution_count": 19,
   "id": "0379d3bb-bc4f-4cc1-ab7c-fac50155a703",
   "metadata": {},
   "outputs": [
    {
     "name": "stdout",
     "output_type": "stream",
     "text": [
      "[     0.     163713.3025 327426.605  491139.9075 654853.21  ]\n",
      "[2597445      34       7       2]\n"
     ]
    }
   ],
   "source": [
    "num_bins = 4\n",
    "hist, bins = np.histogram(outflows.amount, bins= num_bins)\n",
    "\n",
    "print(bins)\n",
    "print(hist)"
   ]
  },
  {
   "cell_type": "markdown",
   "id": "2165f166-964c-49ac-a5ce-7aa9cdef7ebf",
   "metadata": {},
   "source": [
    "- majority of data < 163,713.3025.\n",
    "- reasons for big expense?"
   ]
  },
  {
   "cell_type": "code",
   "execution_count": 20,
   "id": "e494935e-337b-436c-957e-2f490e053b3a",
   "metadata": {},
   "outputs": [
    {
     "data": {
      "text/plain": [
       "(43, 6)"
      ]
     },
     "execution_count": 20,
     "metadata": {},
     "output_type": "execute_result"
    }
   ],
   "source": [
    "expensive_outflows = outflows[outflows['amount'] > 163713]\n",
    "expensive_outflows.shape"
   ]
  },
  {
   "cell_type": "code",
   "execution_count": 21,
   "id": "aef9769b-25c8-4122-ad89-074c18043abd",
   "metadata": {},
   "outputs": [
    {
     "data": {
      "text/html": [
       "<div>\n",
       "<style scoped>\n",
       "    .dataframe tbody tr th:only-of-type {\n",
       "        vertical-align: middle;\n",
       "    }\n",
       "\n",
       "    .dataframe tbody tr th {\n",
       "        vertical-align: top;\n",
       "    }\n",
       "\n",
       "    .dataframe thead th {\n",
       "        text-align: right;\n",
       "    }\n",
       "</style>\n",
       "<table border=\"1\" class=\"dataframe\">\n",
       "  <thead>\n",
       "    <tr style=\"text-align: right;\">\n",
       "      <th></th>\n",
       "      <th>category</th>\n",
       "      <th>amount</th>\n",
       "      <th>% total</th>\n",
       "    </tr>\n",
       "  </thead>\n",
       "  <tbody>\n",
       "    <tr>\n",
       "      <th>0</th>\n",
       "      <td>ATM_CASH</td>\n",
       "      <td>$2,399,990.80</td>\n",
       "      <td>$0.21</td>\n",
       "    </tr>\n",
       "    <tr>\n",
       "      <th>1</th>\n",
       "      <td>CREDIT_CARD_PAYMENT</td>\n",
       "      <td>$166,149.40</td>\n",
       "      <td>$0.01</td>\n",
       "    </tr>\n",
       "    <tr>\n",
       "      <th>2</th>\n",
       "      <td>EXTERNAL_TRANSFER</td>\n",
       "      <td>$4,359,053.88</td>\n",
       "      <td>$0.38</td>\n",
       "    </tr>\n",
       "    <tr>\n",
       "      <th>3</th>\n",
       "      <td>FOOD_AND_BEVERAGES</td>\n",
       "      <td>$625,310.60</td>\n",
       "      <td>$0.05</td>\n",
       "    </tr>\n",
       "    <tr>\n",
       "      <th>4</th>\n",
       "      <td>GENERAL_MERCHANDISE</td>\n",
       "      <td>$280,171.35</td>\n",
       "      <td>$0.02</td>\n",
       "    </tr>\n",
       "    <tr>\n",
       "      <th>5</th>\n",
       "      <td>LOAN</td>\n",
       "      <td>$1,482,678.74</td>\n",
       "      <td>$0.13</td>\n",
       "    </tr>\n",
       "    <tr>\n",
       "      <th>6</th>\n",
       "      <td>SELF_TRANSFER</td>\n",
       "      <td>$1,480,742.38</td>\n",
       "      <td>$0.13</td>\n",
       "    </tr>\n",
       "    <tr>\n",
       "      <th>7</th>\n",
       "      <td>TAX</td>\n",
       "      <td>$218,402.00</td>\n",
       "      <td>$0.02</td>\n",
       "    </tr>\n",
       "    <tr>\n",
       "      <th>8</th>\n",
       "      <td>UNCATEGORIZED</td>\n",
       "      <td>$555,208.81</td>\n",
       "      <td>$0.05</td>\n",
       "    </tr>\n",
       "  </tbody>\n",
       "</table>\n",
       "</div>"
      ],
      "text/plain": [
       "              category        amount  % total\n",
       "0             ATM_CASH $2,399,990.80    $0.21\n",
       "1  CREDIT_CARD_PAYMENT   $166,149.40    $0.01\n",
       "2    EXTERNAL_TRANSFER $4,359,053.88    $0.38\n",
       "3   FOOD_AND_BEVERAGES   $625,310.60    $0.05\n",
       "4  GENERAL_MERCHANDISE   $280,171.35    $0.02\n",
       "5                 LOAN $1,482,678.74    $0.13\n",
       "6        SELF_TRANSFER $1,480,742.38    $0.13\n",
       "7                  TAX   $218,402.00    $0.02\n",
       "8        UNCATEGORIZED   $555,208.81    $0.05"
      ]
     },
     "execution_count": 21,
     "metadata": {},
     "output_type": "execute_result"
    }
   ],
   "source": [
    "eflows = expensive_outflows.groupby('category')[['amount']].sum().reset_index()\n",
    "eflows['% total'] = eflows['amount'] / eflows['amount'].sum()\n",
    "eflows"
   ]
  },
  {
   "cell_type": "code",
   "execution_count": 22,
   "id": "7704c4d0-9711-4dc0-96bc-c2db78e6d879",
   "metadata": {},
   "outputs": [
    {
     "data": {
      "image/png": "[encoded data removed]",
      "text/plain": [
       "<Figure size 600x600 with 1 Axes>"
      ]
     },
     "metadata": {},
     "output_type": "display_data"
    }
   ],
   "source": [
    "plt.figure(figsize=(6, 6))\n",
    "plt.pie(eflows['% total'], labels=eflows['category'], autopct='%1.1f%%', startangle=90)\n",
    "plt.title('Expensive Category Distribution by Percentage')\n",
    "plt.axis('equal')  # Equal aspect ratio ensures that the pie chart is drawn as a circle.\n",
    "plt.show()"
   ]
  },
  {
   "cell_type": "code",
   "execution_count": null,
   "id": "77067efa-2284-45ac-bfa1-aa35bbb6f488",
   "metadata": {},
   "outputs": [],
   "source": []
  },
  {
   "cell_type": "code",
   "execution_count": null,
   "id": "890c0a60-b6a7-44b2-b3c5-6026597b9a49",
   "metadata": {},
   "outputs": [],
   "source": []
  },
  {
   "cell_type": "markdown",
   "id": "7784b924-87f0-4955-9acf-822508d441af",
   "metadata": {},
   "source": [
    "# Week 2 - Sampling by Consumer"
   ]
  },
  {
   "cell_type": "code",
   "execution_count": 23,
   "id": "e7e2670e-1159-4a4a-acc2-62cd7164af0b",
   "metadata": {},
   "outputs": [
    {
     "data": {
      "text/html": [
       "<div>\n",
       "<style scoped>\n",
       "    .dataframe tbody tr th:only-of-type {\n",
       "        vertical-align: middle;\n",
       "    }\n",
       "\n",
       "    .dataframe tbody tr th {\n",
       "        vertical-align: top;\n",
       "    }\n",
       "\n",
       "    .dataframe thead th {\n",
       "        text-align: right;\n",
       "    }\n",
       "</style>\n",
       "<table border=\"1\" class=\"dataframe\">\n",
       "  <thead>\n",
       "    <tr style=\"text-align: right;\">\n",
       "      <th></th>\n",
       "      <th>prism_consumer_id</th>\n",
       "      <th>prism_account_id</th>\n",
       "      <th>memo</th>\n",
       "      <th>amount</th>\n",
       "      <th>posted_date</th>\n",
       "      <th>category</th>\n",
       "    </tr>\n",
       "  </thead>\n",
       "  <tbody>\n",
       "    <tr>\n",
       "      <th>0</th>\n",
       "      <td>1603</td>\n",
       "      <td>acc_4443</td>\n",
       "      <td>ACCOUNT_FEES</td>\n",
       "      <td>$10.00</td>\n",
       "      <td>2017-12-29</td>\n",
       "      <td>ACCOUNT_FEES</td>\n",
       "    </tr>\n",
       "    <tr>\n",
       "      <th>1</th>\n",
       "      <td>1603</td>\n",
       "      <td>acc_4440</td>\n",
       "      <td>ACCOUNT_FEES</td>\n",
       "      <td>$14.00</td>\n",
       "      <td>2017-12-29</td>\n",
       "      <td>ACCOUNT_FEES</td>\n",
       "    </tr>\n",
       "    <tr>\n",
       "      <th>2</th>\n",
       "      <td>1603</td>\n",
       "      <td>acc_4444</td>\n",
       "      <td>ACCOUNT_FEES</td>\n",
       "      <td>$2.50</td>\n",
       "      <td>2018-01-02</td>\n",
       "      <td>ACCOUNT_FEES</td>\n",
       "    </tr>\n",
       "    <tr>\n",
       "      <th>3</th>\n",
       "      <td>1603</td>\n",
       "      <td>acc_4444</td>\n",
       "      <td>ATM_CASH</td>\n",
       "      <td>$302.50</td>\n",
       "      <td>2018-01-02</td>\n",
       "      <td>ATM_CASH</td>\n",
       "    </tr>\n",
       "    <tr>\n",
       "      <th>4</th>\n",
       "      <td>1603</td>\n",
       "      <td>acc_4444</td>\n",
       "      <td>EXTERNAL_TRANSFER</td>\n",
       "      <td>$4,000.00</td>\n",
       "      <td>2018-01-03</td>\n",
       "      <td>EXTERNAL_TRANSFER</td>\n",
       "    </tr>\n",
       "  </tbody>\n",
       "</table>\n",
       "</div>"
      ],
      "text/plain": [
       "   prism_consumer_id prism_account_id               memo    amount  \\\n",
       "0               1603         acc_4443       ACCOUNT_FEES    $10.00   \n",
       "1               1603         acc_4440       ACCOUNT_FEES    $14.00   \n",
       "2               1603         acc_4444       ACCOUNT_FEES     $2.50   \n",
       "3               1603         acc_4444           ATM_CASH   $302.50   \n",
       "4               1603         acc_4444  EXTERNAL_TRANSFER $4,000.00   \n",
       "\n",
       "  posted_date           category  \n",
       "0  2017-12-29       ACCOUNT_FEES  \n",
       "1  2017-12-29       ACCOUNT_FEES  \n",
       "2  2018-01-02       ACCOUNT_FEES  \n",
       "3  2018-01-02           ATM_CASH  \n",
       "4  2018-01-03  EXTERNAL_TRANSFER  "
      ]
     },
     "execution_count": 23,
     "metadata": {},
     "output_type": "execute_result"
    }
   ],
   "source": [
    "outflows = outflows.reset_index(drop=True)\n",
    "outflows.head()"
   ]
  },
  {
   "cell_type": "code",
   "execution_count": 24,
   "id": "17e63de2-9085-48c8-9161-4319a3217576",
   "metadata": {},
   "outputs": [
    {
     "data": {
      "text/plain": [
       "array([1603,  596,  141, ..., 1630, 1529, 1531])"
      ]
     },
     "execution_count": 24,
     "metadata": {},
     "output_type": "execute_result"
    }
   ],
   "source": [
    "ids = outflows.prism_consumer_id.unique()\n",
    "ids"
   ]
  },
  {
   "cell_type": "code",
   "execution_count": 25,
   "id": "cc61340a-0f16-4a44-addb-903c459ac145",
   "metadata": {},
   "outputs": [
    {
     "data": {
      "text/plain": [
       "2597488"
      ]
     },
     "execution_count": 25,
     "metadata": {},
     "output_type": "execute_result"
    }
   ],
   "source": [
    "n = outflows.shape[0]\n",
    "n"
   ]
  },
  {
   "cell_type": "code",
   "execution_count": 26,
   "id": "f0e66dda-4647-412f-a88e-f9035375c20b",
   "metadata": {},
   "outputs": [
    {
     "name": "stdout",
     "output_type": "stream",
     "text": [
      "training_size = 400, test_size = 100\n"
     ]
    }
   ],
   "source": [
    "training_size = int(n * 0.80)\n",
    "test_size = n - training_size\n",
    "\n",
    "####\n",
    "training_size = 400\n",
    "test_size = 100\n",
    "####\n",
    "\n",
    "print(f'training_size = {training_size}, test_size = {test_size}')"
   ]
  },
  {
   "cell_type": "code",
   "execution_count": 27,
   "id": "62f1cc27-1124-4373-8837-ac310273bbe3",
   "metadata": {},
   "outputs": [
    {
     "data": {
      "text/plain": [
       "1827326"
      ]
     },
     "execution_count": 27,
     "metadata": {},
     "output_type": "execute_result"
    }
   ],
   "source": [
    "x = np.random.choice(outflows[outflows.prism_consumer_id == np.random.choice(ids)].index)\n",
    "x"
   ]
  },
  {
   "cell_type": "code",
   "execution_count": 28,
   "id": "e43f0603-39e2-45f3-b8dc-a20faa1ac117",
   "metadata": {},
   "outputs": [
    {
     "name": "stdout",
     "output_type": "stream",
     "text": [
      "Training Data is 400 instances\n"
     ]
    },
    {
     "data": {
      "text/html": [
       "<div>\n",
       "<style scoped>\n",
       "    .dataframe tbody tr th:only-of-type {\n",
       "        vertical-align: middle;\n",
       "    }\n",
       "\n",
       "    .dataframe tbody tr th {\n",
       "        vertical-align: top;\n",
       "    }\n",
       "\n",
       "    .dataframe thead th {\n",
       "        text-align: right;\n",
       "    }\n",
       "</style>\n",
       "<table border=\"1\" class=\"dataframe\">\n",
       "  <thead>\n",
       "    <tr style=\"text-align: right;\">\n",
       "      <th></th>\n",
       "      <th>prism_consumer_id</th>\n",
       "      <th>prism_account_id</th>\n",
       "      <th>memo</th>\n",
       "      <th>amount</th>\n",
       "      <th>posted_date</th>\n",
       "      <th>category</th>\n",
       "    </tr>\n",
       "  </thead>\n",
       "  <tbody>\n",
       "    <tr>\n",
       "      <th>1695710</th>\n",
       "      <td>1993</td>\n",
       "      <td>acc_5571</td>\n",
       "      <td>CREDIT_CARD_PAYMENT</td>\n",
       "      <td>$2,272.17</td>\n",
       "      <td>2022-08-17</td>\n",
       "      <td>CREDIT_CARD_PAYMENT</td>\n",
       "    </tr>\n",
       "    <tr>\n",
       "      <th>517681</th>\n",
       "      <td>1852</td>\n",
       "      <td>acc_5134</td>\n",
       "      <td>LOAN</td>\n",
       "      <td>$348.40</td>\n",
       "      <td>2021-08-18</td>\n",
       "      <td>LOAN</td>\n",
       "    </tr>\n",
       "    <tr>\n",
       "      <th>823480</th>\n",
       "      <td>186</td>\n",
       "      <td>acc_536</td>\n",
       "      <td>DEBIT CARD PURCHASE NO DROUGHT BREWING CO SPOK...</td>\n",
       "      <td>$76.24</td>\n",
       "      <td>2021-12-14</td>\n",
       "      <td>FOOD_AND_BEVERAGES</td>\n",
       "    </tr>\n",
       "    <tr>\n",
       "      <th>2266973</th>\n",
       "      <td>5926</td>\n",
       "      <td>acc_9509</td>\n",
       "      <td>ACCOUNT_FEES</td>\n",
       "      <td>$2.50</td>\n",
       "      <td>2022-12-23</td>\n",
       "      <td>ACCOUNT_FEES</td>\n",
       "    </tr>\n",
       "    <tr>\n",
       "      <th>1229131</th>\n",
       "      <td>1266</td>\n",
       "      <td>acc_3565</td>\n",
       "      <td>ENTERTAINMENT</td>\n",
       "      <td>$3.99</td>\n",
       "      <td>2022-04-26</td>\n",
       "      <td>ENTERTAINMENT</td>\n",
       "    </tr>\n",
       "  </tbody>\n",
       "</table>\n",
       "</div>"
      ],
      "text/plain": [
       "         prism_consumer_id prism_account_id  \\\n",
       "1695710               1993         acc_5571   \n",
       "517681                1852         acc_5134   \n",
       "823480                 186          acc_536   \n",
       "2266973               5926         acc_9509   \n",
       "1229131               1266         acc_3565   \n",
       "\n",
       "                                                      memo    amount  \\\n",
       "1695710                                CREDIT_CARD_PAYMENT $2,272.17   \n",
       "517681                                                LOAN   $348.40   \n",
       "823480   DEBIT CARD PURCHASE NO DROUGHT BREWING CO SPOK...    $76.24   \n",
       "2266973                                       ACCOUNT_FEES     $2.50   \n",
       "1229131                                      ENTERTAINMENT     $3.99   \n",
       "\n",
       "        posted_date             category  \n",
       "1695710  2022-08-17  CREDIT_CARD_PAYMENT  \n",
       "517681   2021-08-18                 LOAN  \n",
       "823480   2021-12-14   FOOD_AND_BEVERAGES  \n",
       "2266973  2022-12-23         ACCOUNT_FEES  \n",
       "1229131  2022-04-26        ENTERTAINMENT  "
      ]
     },
     "execution_count": 28,
     "metadata": {},
     "output_type": "execute_result"
    }
   ],
   "source": [
    "training_idx = []\n",
    "\n",
    "for _ in range(training_size):\n",
    "    curr = np.random.choice(outflows[outflows.prism_consumer_id == np.random.choice(ids)].index)\n",
    "    training_idx.append(curr)\n",
    "\n",
    "train_df = outflows.iloc[training_idx]\n",
    "\n",
    "print(f'Training Data is {train_df.shape[0]} instances')\n",
    "train_df.head()\n"
   ]
  },
  {
   "cell_type": "code",
   "execution_count": 29,
   "id": "9475e205-1d16-459e-8e6e-6699d0654aa8",
   "metadata": {},
   "outputs": [
    {
     "name": "stdout",
     "output_type": "stream",
     "text": [
      "0 iteration\n",
      "Test Data is 100 instances\n"
     ]
    },
    {
     "data": {
      "text/html": [
       "<div>\n",
       "<style scoped>\n",
       "    .dataframe tbody tr th:only-of-type {\n",
       "        vertical-align: middle;\n",
       "    }\n",
       "\n",
       "    .dataframe tbody tr th {\n",
       "        vertical-align: top;\n",
       "    }\n",
       "\n",
       "    .dataframe thead th {\n",
       "        text-align: right;\n",
       "    }\n",
       "</style>\n",
       "<table border=\"1\" class=\"dataframe\">\n",
       "  <thead>\n",
       "    <tr style=\"text-align: right;\">\n",
       "      <th></th>\n",
       "      <th>prism_consumer_id</th>\n",
       "      <th>prism_account_id</th>\n",
       "      <th>memo</th>\n",
       "      <th>amount</th>\n",
       "      <th>posted_date</th>\n",
       "      <th>category</th>\n",
       "    </tr>\n",
       "  </thead>\n",
       "  <tbody>\n",
       "    <tr>\n",
       "      <th>95414</th>\n",
       "      <td>473</td>\n",
       "      <td>acc_1389</td>\n",
       "      <td>ESSENTIAL_SERVICES</td>\n",
       "      <td>$122.00</td>\n",
       "      <td>2020-11-18</td>\n",
       "      <td>ESSENTIAL_SERVICES</td>\n",
       "    </tr>\n",
       "    <tr>\n",
       "      <th>1371739</th>\n",
       "      <td>4109</td>\n",
       "      <td>acc_7692</td>\n",
       "      <td>CREDIT_CARD_PAYMENT</td>\n",
       "      <td>$50.00</td>\n",
       "      <td>2022-06-03</td>\n",
       "      <td>CREDIT_CARD_PAYMENT</td>\n",
       "    </tr>\n",
       "    <tr>\n",
       "      <th>771389</th>\n",
       "      <td>4131</td>\n",
       "      <td>acc_7714</td>\n",
       "      <td>ATM_CASH</td>\n",
       "      <td>$350.00</td>\n",
       "      <td>2021-11-26</td>\n",
       "      <td>ATM_CASH</td>\n",
       "    </tr>\n",
       "    <tr>\n",
       "      <th>2182605</th>\n",
       "      <td>2769</td>\n",
       "      <td>acc_6352</td>\n",
       "      <td>Purchase JACK'S #171 Q08</td>\n",
       "      <td>$7.14</td>\n",
       "      <td>2022-11-30</td>\n",
       "      <td>FOOD_AND_BEVERAGES</td>\n",
       "    </tr>\n",
       "    <tr>\n",
       "      <th>2572649</th>\n",
       "      <td>3145</td>\n",
       "      <td>acc_6728</td>\n",
       "      <td>AUTOMOTIVE</td>\n",
       "      <td>$11.28</td>\n",
       "      <td>2023-05-28</td>\n",
       "      <td>AUTOMOTIVE</td>\n",
       "    </tr>\n",
       "  </tbody>\n",
       "</table>\n",
       "</div>"
      ],
      "text/plain": [
       "         prism_consumer_id prism_account_id                      memo  amount  \\\n",
       "95414                  473         acc_1389        ESSENTIAL_SERVICES $122.00   \n",
       "1371739               4109         acc_7692       CREDIT_CARD_PAYMENT  $50.00   \n",
       "771389                4131         acc_7714                  ATM_CASH $350.00   \n",
       "2182605               2769         acc_6352  Purchase JACK'S #171 Q08   $7.14   \n",
       "2572649               3145         acc_6728                AUTOMOTIVE  $11.28   \n",
       "\n",
       "        posted_date             category  \n",
       "95414    2020-11-18   ESSENTIAL_SERVICES  \n",
       "1371739  2022-06-03  CREDIT_CARD_PAYMENT  \n",
       "771389   2021-11-26             ATM_CASH  \n",
       "2182605  2022-11-30   FOOD_AND_BEVERAGES  \n",
       "2572649  2023-05-28           AUTOMOTIVE  "
      ]
     },
     "execution_count": 29,
     "metadata": {},
     "output_type": "execute_result"
    }
   ],
   "source": [
    "test_idx = []\n",
    "\n",
    "for i in range(test_size):\n",
    "    curr = np.random.choice(outflows[outflows.prism_consumer_id == np.random.choice(ids)].index)\n",
    "    test_idx.append(curr)\n",
    "\n",
    "    if i % 50000 == 0:\n",
    "        print(f'{i} iteration')\n",
    "\n",
    "test_df = outflows.iloc[test_idx]\n",
    "\n",
    "print(f'Test Data is {test_df.shape[0]} instances')\n",
    "test_df.head()\n"
   ]
  },
  {
   "cell_type": "code",
   "execution_count": 30,
   "id": "5beeac44-08f9-4691-8096-eace91e65a0d",
   "metadata": {},
   "outputs": [
    {
     "name": "stdout",
     "output_type": "stream",
     "text": [
      "# of unique IDS: 2968, # of unique test IDS: 98\n"
     ]
    }
   ],
   "source": [
    "print(f'# of unique IDS: {len(outflows.prism_consumer_id.unique())}, # of unique test IDS: {len(test_df.prism_consumer_id.unique())}')"
   ]
  },
  {
   "cell_type": "code",
   "execution_count": 31,
   "id": "526715d4-e9b4-46f3-b31f-73ebd7fac737",
   "metadata": {},
   "outputs": [
    {
     "data": {
      "text/html": [
       "<div>\n",
       "<style scoped>\n",
       "    .dataframe tbody tr th:only-of-type {\n",
       "        vertical-align: middle;\n",
       "    }\n",
       "\n",
       "    .dataframe tbody tr th {\n",
       "        vertical-align: top;\n",
       "    }\n",
       "\n",
       "    .dataframe thead th {\n",
       "        text-align: right;\n",
       "    }\n",
       "</style>\n",
       "<table border=\"1\" class=\"dataframe\">\n",
       "  <thead>\n",
       "    <tr style=\"text-align: right;\">\n",
       "      <th></th>\n",
       "      <th>prism_consumer_id</th>\n",
       "      <th>amount</th>\n",
       "      <th>posted_date</th>\n",
       "    </tr>\n",
       "  </thead>\n",
       "  <tbody>\n",
       "    <tr>\n",
       "      <th>count</th>\n",
       "      <td>2597488.00000</td>\n",
       "      <td>2597488.00000</td>\n",
       "      <td>2597488.00000</td>\n",
       "    </tr>\n",
       "    <tr>\n",
       "      <th>mean</th>\n",
       "      <td>3084.22934</td>\n",
       "      <td>145.12640</td>\n",
       "      <td>.5f</td>\n",
       "    </tr>\n",
       "    <tr>\n",
       "      <th>min</th>\n",
       "      <td>0.00000</td>\n",
       "      <td>0.00000</td>\n",
       "      <td>.5f</td>\n",
       "    </tr>\n",
       "    <tr>\n",
       "      <th>25%</th>\n",
       "      <td>1369.00000</td>\n",
       "      <td>9.63000</td>\n",
       "      <td>.5f</td>\n",
       "    </tr>\n",
       "    <tr>\n",
       "      <th>50%</th>\n",
       "      <td>3245.00000</td>\n",
       "      <td>24.26000</td>\n",
       "      <td>.5f</td>\n",
       "    </tr>\n",
       "    <tr>\n",
       "      <th>75%</th>\n",
       "      <td>4733.00000</td>\n",
       "      <td>66.36000</td>\n",
       "      <td>.5f</td>\n",
       "    </tr>\n",
       "    <tr>\n",
       "      <th>max</th>\n",
       "      <td>5943.00000</td>\n",
       "      <td>654853.21000</td>\n",
       "      <td>.5f</td>\n",
       "    </tr>\n",
       "    <tr>\n",
       "      <th>std</th>\n",
       "      <td>1820.57135</td>\n",
       "      <td>1697.87473</td>\n",
       "      <td>nan</td>\n",
       "    </tr>\n",
       "  </tbody>\n",
       "</table>\n",
       "</div>"
      ],
      "text/plain": [
       "      prism_consumer_id         amount    posted_date\n",
       "count     2597488.00000  2597488.00000  2597488.00000\n",
       "mean         3084.22934      145.12640            .5f\n",
       "min             0.00000        0.00000            .5f\n",
       "25%          1369.00000        9.63000            .5f\n",
       "50%          3245.00000       24.26000            .5f\n",
       "75%          4733.00000       66.36000            .5f\n",
       "max          5943.00000   654853.21000            .5f\n",
       "std          1820.57135     1697.87473            nan"
      ]
     },
     "execution_count": 31,
     "metadata": {},
     "output_type": "execute_result"
    }
   ],
   "source": [
    "outflows.describe().apply(lambda s: s.apply('{0:.5f}'.format))"
   ]
  },
  {
   "cell_type": "code",
   "execution_count": 32,
   "id": "534a2ec3-316b-468e-b9d7-00d68fe37e52",
   "metadata": {},
   "outputs": [
    {
     "data": {
      "text/html": [
       "<div>\n",
       "<style scoped>\n",
       "    .dataframe tbody tr th:only-of-type {\n",
       "        vertical-align: middle;\n",
       "    }\n",
       "\n",
       "    .dataframe tbody tr th {\n",
       "        vertical-align: top;\n",
       "    }\n",
       "\n",
       "    .dataframe thead th {\n",
       "        text-align: right;\n",
       "    }\n",
       "</style>\n",
       "<table border=\"1\" class=\"dataframe\">\n",
       "  <thead>\n",
       "    <tr style=\"text-align: right;\">\n",
       "      <th></th>\n",
       "      <th>prism_consumer_id</th>\n",
       "      <th>amount</th>\n",
       "      <th>posted_date</th>\n",
       "    </tr>\n",
       "  </thead>\n",
       "  <tbody>\n",
       "    <tr>\n",
       "      <th>count</th>\n",
       "      <td>400.00000</td>\n",
       "      <td>400.00000</td>\n",
       "      <td>400.00000</td>\n",
       "    </tr>\n",
       "    <tr>\n",
       "      <th>mean</th>\n",
       "      <td>2931.32000</td>\n",
       "      <td>151.29340</td>\n",
       "      <td>.5f</td>\n",
       "    </tr>\n",
       "    <tr>\n",
       "      <th>min</th>\n",
       "      <td>2.00000</td>\n",
       "      <td>0.01000</td>\n",
       "      <td>.5f</td>\n",
       "    </tr>\n",
       "    <tr>\n",
       "      <th>25%</th>\n",
       "      <td>1428.50000</td>\n",
       "      <td>9.99000</td>\n",
       "      <td>.5f</td>\n",
       "    </tr>\n",
       "    <tr>\n",
       "      <th>50%</th>\n",
       "      <td>2963.50000</td>\n",
       "      <td>25.00000</td>\n",
       "      <td>.5f</td>\n",
       "    </tr>\n",
       "    <tr>\n",
       "      <th>75%</th>\n",
       "      <td>4467.00000</td>\n",
       "      <td>84.91000</td>\n",
       "      <td>.5f</td>\n",
       "    </tr>\n",
       "    <tr>\n",
       "      <th>max</th>\n",
       "      <td>5926.00000</td>\n",
       "      <td>5453.20000</td>\n",
       "      <td>.5f</td>\n",
       "    </tr>\n",
       "    <tr>\n",
       "      <th>std</th>\n",
       "      <td>1722.23532</td>\n",
       "      <td>473.71416</td>\n",
       "      <td>nan</td>\n",
       "    </tr>\n",
       "  </tbody>\n",
       "</table>\n",
       "</div>"
      ],
      "text/plain": [
       "      prism_consumer_id      amount posted_date\n",
       "count         400.00000   400.00000   400.00000\n",
       "mean         2931.32000   151.29340         .5f\n",
       "min             2.00000     0.01000         .5f\n",
       "25%          1428.50000     9.99000         .5f\n",
       "50%          2963.50000    25.00000         .5f\n",
       "75%          4467.00000    84.91000         .5f\n",
       "max          5926.00000  5453.20000         .5f\n",
       "std          1722.23532   473.71416         nan"
      ]
     },
     "execution_count": 32,
     "metadata": {},
     "output_type": "execute_result"
    }
   ],
   "source": [
    "train_df.describe().apply(lambda s: s.apply('{0:.5f}'.format))"
   ]
  },
  {
   "cell_type": "code",
   "execution_count": 33,
   "id": "afe8cb82-130b-42c4-b210-daa3f4cf17ff",
   "metadata": {},
   "outputs": [
    {
     "data": {
      "text/html": [
       "<div>\n",
       "<style scoped>\n",
       "    .dataframe tbody tr th:only-of-type {\n",
       "        vertical-align: middle;\n",
       "    }\n",
       "\n",
       "    .dataframe tbody tr th {\n",
       "        vertical-align: top;\n",
       "    }\n",
       "\n",
       "    .dataframe thead th {\n",
       "        text-align: right;\n",
       "    }\n",
       "</style>\n",
       "<table border=\"1\" class=\"dataframe\">\n",
       "  <thead>\n",
       "    <tr style=\"text-align: right;\">\n",
       "      <th></th>\n",
       "      <th>prism_consumer_id</th>\n",
       "      <th>amount</th>\n",
       "      <th>posted_date</th>\n",
       "    </tr>\n",
       "  </thead>\n",
       "  <tbody>\n",
       "    <tr>\n",
       "      <th>count</th>\n",
       "      <td>100.00000</td>\n",
       "      <td>100.00000</td>\n",
       "      <td>100.00000</td>\n",
       "    </tr>\n",
       "    <tr>\n",
       "      <th>mean</th>\n",
       "      <td>3146.20000</td>\n",
       "      <td>102.98900</td>\n",
       "      <td>.5f</td>\n",
       "    </tr>\n",
       "    <tr>\n",
       "      <th>min</th>\n",
       "      <td>26.00000</td>\n",
       "      <td>0.25000</td>\n",
       "      <td>.5f</td>\n",
       "    </tr>\n",
       "    <tr>\n",
       "      <th>25%</th>\n",
       "      <td>2014.50000</td>\n",
       "      <td>8.33250</td>\n",
       "      <td>.5f</td>\n",
       "    </tr>\n",
       "    <tr>\n",
       "      <th>50%</th>\n",
       "      <td>3261.00000</td>\n",
       "      <td>25.00000</td>\n",
       "      <td>.5f</td>\n",
       "    </tr>\n",
       "    <tr>\n",
       "      <th>75%</th>\n",
       "      <td>4315.75000</td>\n",
       "      <td>94.25500</td>\n",
       "      <td>.5f</td>\n",
       "    </tr>\n",
       "    <tr>\n",
       "      <th>max</th>\n",
       "      <td>5913.00000</td>\n",
       "      <td>1502.75000</td>\n",
       "      <td>.5f</td>\n",
       "    </tr>\n",
       "    <tr>\n",
       "      <th>std</th>\n",
       "      <td>1643.05808</td>\n",
       "      <td>212.91792</td>\n",
       "      <td>nan</td>\n",
       "    </tr>\n",
       "  </tbody>\n",
       "</table>\n",
       "</div>"
      ],
      "text/plain": [
       "      prism_consumer_id      amount posted_date\n",
       "count         100.00000   100.00000   100.00000\n",
       "mean         3146.20000   102.98900         .5f\n",
       "min            26.00000     0.25000         .5f\n",
       "25%          2014.50000     8.33250         .5f\n",
       "50%          3261.00000    25.00000         .5f\n",
       "75%          4315.75000    94.25500         .5f\n",
       "max          5913.00000  1502.75000         .5f\n",
       "std          1643.05808   212.91792         nan"
      ]
     },
     "execution_count": 33,
     "metadata": {},
     "output_type": "execute_result"
    }
   ],
   "source": [
    "test_df.describe().apply(lambda s: s.apply('{0:.5f}'.format))"
   ]
  },
  {
   "cell_type": "code",
   "execution_count": 34,
   "id": "f01c5f29-43f3-446c-9292-d28c5ea210eb",
   "metadata": {},
   "outputs": [
    {
     "data": {
      "text/plain": [
       "(array([12.,  4.,  8.,  6., 12., 16., 12., 13.,  5., 12.]),\n",
       " array([  26. ,  614.7, 1203.4, 1792.1, 2380.8, 2969.5, 3558.2, 4146.9,\n",
       "        4735.6, 5324.3, 5913. ]),\n",
       " <BarContainer object of 10 artists>)"
      ]
     },
     "execution_count": 34,
     "metadata": {},
     "output_type": "execute_result"
    },
    {
     "data": {
      "image/png": "[encoded data removed]",
      "text/plain": [
       "<Figure size 640x480 with 1 Axes>"
      ]
     },
     "metadata": {},
     "output_type": "display_data"
    }
   ],
   "source": [
    "plt.hist(test_df.prism_consumer_id)"
   ]
  },
  {
   "cell_type": "code",
   "execution_count": null,
   "id": "3607d12d-7de6-4b30-9985-977cb9a83064",
   "metadata": {},
   "outputs": [],
   "source": []
  },
  {
   "cell_type": "markdown",
   "id": "ca5979da-a716-4b87-a1ea-478aa6107b71",
   "metadata": {},
   "source": [
    "# Data Cleaning / Processing"
   ]
  },
  {
   "cell_type": "code",
   "execution_count": 35,
   "id": "823372e4-a268-42c6-b491-7a38aac72b5c",
   "metadata": {},
   "outputs": [
    {
     "data": {
      "text/html": [
       "<div>\n",
       "<style scoped>\n",
       "    .dataframe tbody tr th:only-of-type {\n",
       "        vertical-align: middle;\n",
       "    }\n",
       "\n",
       "    .dataframe tbody tr th {\n",
       "        vertical-align: top;\n",
       "    }\n",
       "\n",
       "    .dataframe thead th {\n",
       "        text-align: right;\n",
       "    }\n",
       "</style>\n",
       "<table border=\"1\" class=\"dataframe\">\n",
       "  <thead>\n",
       "    <tr style=\"text-align: right;\">\n",
       "      <th></th>\n",
       "      <th>prism_consumer_id</th>\n",
       "      <th>prism_account_id</th>\n",
       "      <th>memo</th>\n",
       "      <th>amount</th>\n",
       "      <th>posted_date</th>\n",
       "      <th>category</th>\n",
       "    </tr>\n",
       "  </thead>\n",
       "  <tbody>\n",
       "    <tr>\n",
       "      <th>0</th>\n",
       "      <td>1603</td>\n",
       "      <td>acc_4443</td>\n",
       "      <td>ACCOUNT_FEES</td>\n",
       "      <td>$10.00</td>\n",
       "      <td>2017-12-29</td>\n",
       "      <td>ACCOUNT_FEES</td>\n",
       "    </tr>\n",
       "    <tr>\n",
       "      <th>1</th>\n",
       "      <td>1603</td>\n",
       "      <td>acc_4440</td>\n",
       "      <td>ACCOUNT_FEES</td>\n",
       "      <td>$14.00</td>\n",
       "      <td>2017-12-29</td>\n",
       "      <td>ACCOUNT_FEES</td>\n",
       "    </tr>\n",
       "    <tr>\n",
       "      <th>2</th>\n",
       "      <td>1603</td>\n",
       "      <td>acc_4444</td>\n",
       "      <td>ACCOUNT_FEES</td>\n",
       "      <td>$2.50</td>\n",
       "      <td>2018-01-02</td>\n",
       "      <td>ACCOUNT_FEES</td>\n",
       "    </tr>\n",
       "    <tr>\n",
       "      <th>3</th>\n",
       "      <td>1603</td>\n",
       "      <td>acc_4444</td>\n",
       "      <td>ATM_CASH</td>\n",
       "      <td>$302.50</td>\n",
       "      <td>2018-01-02</td>\n",
       "      <td>ATM_CASH</td>\n",
       "    </tr>\n",
       "    <tr>\n",
       "      <th>4</th>\n",
       "      <td>1603</td>\n",
       "      <td>acc_4444</td>\n",
       "      <td>EXTERNAL_TRANSFER</td>\n",
       "      <td>$4,000.00</td>\n",
       "      <td>2018-01-03</td>\n",
       "      <td>EXTERNAL_TRANSFER</td>\n",
       "    </tr>\n",
       "  </tbody>\n",
       "</table>\n",
       "</div>"
      ],
      "text/plain": [
       "   prism_consumer_id prism_account_id               memo    amount  \\\n",
       "0               1603         acc_4443       ACCOUNT_FEES    $10.00   \n",
       "1               1603         acc_4440       ACCOUNT_FEES    $14.00   \n",
       "2               1603         acc_4444       ACCOUNT_FEES     $2.50   \n",
       "3               1603         acc_4444           ATM_CASH   $302.50   \n",
       "4               1603         acc_4444  EXTERNAL_TRANSFER $4,000.00   \n",
       "\n",
       "  posted_date           category  \n",
       "0  2017-12-29       ACCOUNT_FEES  \n",
       "1  2017-12-29       ACCOUNT_FEES  \n",
       "2  2018-01-02       ACCOUNT_FEES  \n",
       "3  2018-01-02           ATM_CASH  \n",
       "4  2018-01-03  EXTERNAL_TRANSFER  "
      ]
     },
     "execution_count": 35,
     "metadata": {},
     "output_type": "execute_result"
    }
   ],
   "source": [
    "outflows.head()"
   ]
  },
  {
   "cell_type": "code",
   "execution_count": 36,
   "id": "3a0ac946-d357-4f99-9e70-edae5d69776a",
   "metadata": {},
   "outputs": [
    {
     "data": {
      "text/plain": [
       "array(['ACCOUNT_FEES', 'ATM_CASH', 'EXTERNAL_TRANSFER',\n",
       "       'CREDIT_CARD_PAYMENT', 'GENERAL_MERCHANDISE', 'ENTERTAINMENT',\n",
       "       'LOAN', 'INSURANCE', 'UNCATEGORIZED', 'ESSENTIAL_SERVICES',\n",
       "       'AUTOMOTIVE', 'TAX', 'HEALTHCARE_MEDICAL', 'TRAVEL', 'GROCERIES',\n",
       "       'FOOD_AND_BEVERAGES', 'HOME_IMPROVEMENT', 'SELF_TRANSFER',\n",
       "       'OVERDRAFT', 'PETS', 'EDUCATION', 'GIFTS_DONATIONS', 'MORTGAGE',\n",
       "       'RENT', 'CHILD_DEPENDENTS', 'BNPL', 'PAYCHECK', 'AUTO_LOAN',\n",
       "       'BILLS_UTILITIES'], dtype=object)"
      ]
     },
     "execution_count": 36,
     "metadata": {},
     "output_type": "execute_result"
    }
   ],
   "source": [
    "outflows.category.unique()"
   ]
  },
  {
   "cell_type": "code",
   "execution_count": 37,
   "id": "c57ab3db-bbb0-4519-bdb6-3f0c39a63bf1",
   "metadata": {},
   "outputs": [
    {
     "data": {
      "text/html": [
       "<div>\n",
       "<style scoped>\n",
       "    .dataframe tbody tr th:only-of-type {\n",
       "        vertical-align: middle;\n",
       "    }\n",
       "\n",
       "    .dataframe tbody tr th {\n",
       "        vertical-align: top;\n",
       "    }\n",
       "\n",
       "    .dataframe thead th {\n",
       "        text-align: right;\n",
       "    }\n",
       "</style>\n",
       "<table border=\"1\" class=\"dataframe\">\n",
       "  <thead>\n",
       "    <tr style=\"text-align: right;\">\n",
       "      <th></th>\n",
       "      <th>prism_consumer_id</th>\n",
       "      <th>prism_account_id</th>\n",
       "      <th>memo</th>\n",
       "      <th>amount</th>\n",
       "      <th>posted_date</th>\n",
       "      <th>category</th>\n",
       "    </tr>\n",
       "  </thead>\n",
       "  <tbody>\n",
       "  </tbody>\n",
       "</table>\n",
       "</div>"
      ],
      "text/plain": [
       "Empty DataFrame\n",
       "Columns: [prism_consumer_id, prism_account_id, memo, amount, posted_date, category]\n",
       "Index: []"
      ]
     },
     "execution_count": 37,
     "metadata": {},
     "output_type": "execute_result"
    }
   ],
   "source": [
    "loans = outflows[outflows.category == 'LOAN'].reset_index(drop=True)\n",
    "loans = loans[loans.memo != 'LOAN']\n",
    "loans"
   ]
  },
  {
   "cell_type": "code",
   "execution_count": 38,
   "id": "c1f2ab23-4e04-4ee6-986d-4d07d2c2acfb",
   "metadata": {},
   "outputs": [
    {
     "data": {
      "text/html": [
       "<div>\n",
       "<style scoped>\n",
       "    .dataframe tbody tr th:only-of-type {\n",
       "        vertical-align: middle;\n",
       "    }\n",
       "\n",
       "    .dataframe tbody tr th {\n",
       "        vertical-align: top;\n",
       "    }\n",
       "\n",
       "    .dataframe thead th {\n",
       "        text-align: right;\n",
       "    }\n",
       "</style>\n",
       "<table border=\"1\" class=\"dataframe\">\n",
       "  <thead>\n",
       "    <tr style=\"text-align: right;\">\n",
       "      <th></th>\n",
       "      <th>prism_consumer_id</th>\n",
       "      <th>prism_account_id</th>\n",
       "      <th>memo</th>\n",
       "      <th>amount</th>\n",
       "      <th>posted_date</th>\n",
       "      <th>category</th>\n",
       "    </tr>\n",
       "  </thead>\n",
       "  <tbody>\n",
       "  </tbody>\n",
       "</table>\n",
       "</div>"
      ],
      "text/plain": [
       "Empty DataFrame\n",
       "Columns: [prism_consumer_id, prism_account_id, memo, amount, posted_date, category]\n",
       "Index: []"
      ]
     },
     "execution_count": 38,
     "metadata": {},
     "output_type": "execute_result"
    }
   ],
   "source": [
    "outflows[(outflows.category == 'LOAN') & (outflows.memo != 'LOAN')]"
   ]
  },
  {
   "cell_type": "code",
   "execution_count": 39,
   "id": "316e445a-eba5-45b2-a020-d2bcc666c180",
   "metadata": {},
   "outputs": [],
   "source": [
    "x = set(outflows[outflows.memo != 'LOAN'].index)\n",
    "y = set(outflows[outflows.category == 'LOAN'].index)"
   ]
  },
  {
   "cell_type": "code",
   "execution_count": 40,
   "id": "1f8892fa-072e-4af4-a471-0a3f4876b5c9",
   "metadata": {},
   "outputs": [
    {
     "data": {
      "text/plain": [
       "set()"
      ]
     },
     "execution_count": 40,
     "metadata": {},
     "output_type": "execute_result"
    }
   ],
   "source": [
    " x & y"
   ]
  },
  {
   "cell_type": "code",
   "execution_count": 41,
   "id": "fe20692c-56c8-4fc0-a5fc-9c3a7e1d0c36",
   "metadata": {},
   "outputs": [
    {
     "data": {
      "text/plain": [
       "90945"
      ]
     },
     "execution_count": 41,
     "metadata": {},
     "output_type": "execute_result"
    }
   ],
   "source": [
    "outflows[(outflows.category == 'LOAN') & (outflows.memo == 'LOAN')].shape[0]"
   ]
  },
  {
   "cell_type": "code",
   "execution_count": 42,
   "id": "745db53e-19cb-4ba2-98c5-5f209ba2056d",
   "metadata": {},
   "outputs": [
    {
     "data": {
      "text/plain": [
       "90945"
      ]
     },
     "execution_count": 42,
     "metadata": {},
     "output_type": "execute_result"
    }
   ],
   "source": [
    "outflows[outflows.category == 'LOAN'].shape[0]"
   ]
  },
  {
   "cell_type": "code",
   "execution_count": null,
   "id": "6fedf649-8937-4ae6-bb03-a71a57feb46e",
   "metadata": {},
   "outputs": [],
   "source": []
  },
  {
   "cell_type": "code",
   "execution_count": 43,
   "id": "7090e109-2fa5-4ff2-adee-f5b49cd8937c",
   "metadata": {},
   "outputs": [
    {
     "data": {
      "text/html": [
       "<div>\n",
       "<style scoped>\n",
       "    .dataframe tbody tr th:only-of-type {\n",
       "        vertical-align: middle;\n",
       "    }\n",
       "\n",
       "    .dataframe tbody tr th {\n",
       "        vertical-align: top;\n",
       "    }\n",
       "\n",
       "    .dataframe thead th {\n",
       "        text-align: right;\n",
       "    }\n",
       "</style>\n",
       "<table border=\"1\" class=\"dataframe\">\n",
       "  <thead>\n",
       "    <tr style=\"text-align: right;\">\n",
       "      <th></th>\n",
       "      <th>prism_consumer_id</th>\n",
       "      <th>prism_account_id</th>\n",
       "      <th>memo</th>\n",
       "      <th>amount</th>\n",
       "      <th>posted_date</th>\n",
       "      <th>category</th>\n",
       "    </tr>\n",
       "  </thead>\n",
       "  <tbody>\n",
       "    <tr>\n",
       "      <th>0</th>\n",
       "      <td>1603</td>\n",
       "      <td>acc_4443</td>\n",
       "      <td>ACCOUNT_FEES</td>\n",
       "      <td>$10.00</td>\n",
       "      <td>2017-12-29</td>\n",
       "      <td>ACCOUNT_FEES</td>\n",
       "    </tr>\n",
       "    <tr>\n",
       "      <th>1</th>\n",
       "      <td>1603</td>\n",
       "      <td>acc_4440</td>\n",
       "      <td>ACCOUNT_FEES</td>\n",
       "      <td>$14.00</td>\n",
       "      <td>2017-12-29</td>\n",
       "      <td>ACCOUNT_FEES</td>\n",
       "    </tr>\n",
       "    <tr>\n",
       "      <th>2</th>\n",
       "      <td>1603</td>\n",
       "      <td>acc_4444</td>\n",
       "      <td>ACCOUNT_FEES</td>\n",
       "      <td>$2.50</td>\n",
       "      <td>2018-01-02</td>\n",
       "      <td>ACCOUNT_FEES</td>\n",
       "    </tr>\n",
       "    <tr>\n",
       "      <th>3</th>\n",
       "      <td>1603</td>\n",
       "      <td>acc_4444</td>\n",
       "      <td>ATM_CASH</td>\n",
       "      <td>$302.50</td>\n",
       "      <td>2018-01-02</td>\n",
       "      <td>ATM_CASH</td>\n",
       "    </tr>\n",
       "    <tr>\n",
       "      <th>4</th>\n",
       "      <td>1603</td>\n",
       "      <td>acc_4444</td>\n",
       "      <td>EXTERNAL_TRANSFER</td>\n",
       "      <td>$4,000.00</td>\n",
       "      <td>2018-01-03</td>\n",
       "      <td>EXTERNAL_TRANSFER</td>\n",
       "    </tr>\n",
       "  </tbody>\n",
       "</table>\n",
       "</div>"
      ],
      "text/plain": [
       "   prism_consumer_id prism_account_id               memo    amount  \\\n",
       "0               1603         acc_4443       ACCOUNT_FEES    $10.00   \n",
       "1               1603         acc_4440       ACCOUNT_FEES    $14.00   \n",
       "2               1603         acc_4444       ACCOUNT_FEES     $2.50   \n",
       "3               1603         acc_4444           ATM_CASH   $302.50   \n",
       "4               1603         acc_4444  EXTERNAL_TRANSFER $4,000.00   \n",
       "\n",
       "  posted_date           category  \n",
       "0  2017-12-29       ACCOUNT_FEES  \n",
       "1  2017-12-29       ACCOUNT_FEES  \n",
       "2  2018-01-02       ACCOUNT_FEES  \n",
       "3  2018-01-02           ATM_CASH  \n",
       "4  2018-01-03  EXTERNAL_TRANSFER  "
      ]
     },
     "execution_count": 43,
     "metadata": {},
     "output_type": "execute_result"
    }
   ],
   "source": [
    "outflows.head()"
   ]
  },
  {
   "cell_type": "code",
   "execution_count": null,
   "id": "2a5c8066-5e0d-486a-9914-e6c32a55f95a",
   "metadata": {},
   "outputs": [],
   "source": []
  },
  {
   "cell_type": "markdown",
   "id": "9ff4b6b2-4b12-47f4-8f0f-905606a095af",
   "metadata": {},
   "source": [
    "# Week 3 - Cleaning Memo Fields"
   ]
  },
  {
   "cell_type": "code",
   "execution_count": 44,
   "id": "5597b4ed-c823-4d7e-b244-c9ef315ff2e7",
   "metadata": {},
   "outputs": [
    {
     "data": {
      "text/html": [
       "<div>\n",
       "<style scoped>\n",
       "    .dataframe tbody tr th:only-of-type {\n",
       "        vertical-align: middle;\n",
       "    }\n",
       "\n",
       "    .dataframe tbody tr th {\n",
       "        vertical-align: top;\n",
       "    }\n",
       "\n",
       "    .dataframe thead th {\n",
       "        text-align: right;\n",
       "    }\n",
       "</style>\n",
       "<table border=\"1\" class=\"dataframe\">\n",
       "  <thead>\n",
       "    <tr style=\"text-align: right;\">\n",
       "      <th></th>\n",
       "      <th>prism_consumer_id</th>\n",
       "      <th>prism_account_id</th>\n",
       "      <th>memo</th>\n",
       "      <th>amount</th>\n",
       "      <th>posted_date</th>\n",
       "      <th>category</th>\n",
       "    </tr>\n",
       "  </thead>\n",
       "  <tbody>\n",
       "    <tr>\n",
       "      <th>0</th>\n",
       "      <td>1603</td>\n",
       "      <td>acc_4443</td>\n",
       "      <td>ACCOUNT_FEES</td>\n",
       "      <td>$10.00</td>\n",
       "      <td>2017-12-29</td>\n",
       "      <td>ACCOUNT_FEES</td>\n",
       "    </tr>\n",
       "    <tr>\n",
       "      <th>1</th>\n",
       "      <td>1603</td>\n",
       "      <td>acc_4440</td>\n",
       "      <td>ACCOUNT_FEES</td>\n",
       "      <td>$14.00</td>\n",
       "      <td>2017-12-29</td>\n",
       "      <td>ACCOUNT_FEES</td>\n",
       "    </tr>\n",
       "    <tr>\n",
       "      <th>2</th>\n",
       "      <td>1603</td>\n",
       "      <td>acc_4444</td>\n",
       "      <td>ACCOUNT_FEES</td>\n",
       "      <td>$2.50</td>\n",
       "      <td>2018-01-02</td>\n",
       "      <td>ACCOUNT_FEES</td>\n",
       "    </tr>\n",
       "    <tr>\n",
       "      <th>3</th>\n",
       "      <td>1603</td>\n",
       "      <td>acc_4444</td>\n",
       "      <td>ATM_CASH</td>\n",
       "      <td>$302.50</td>\n",
       "      <td>2018-01-02</td>\n",
       "      <td>ATM_CASH</td>\n",
       "    </tr>\n",
       "    <tr>\n",
       "      <th>4</th>\n",
       "      <td>1603</td>\n",
       "      <td>acc_4444</td>\n",
       "      <td>EXTERNAL_TRANSFER</td>\n",
       "      <td>$4,000.00</td>\n",
       "      <td>2018-01-03</td>\n",
       "      <td>EXTERNAL_TRANSFER</td>\n",
       "    </tr>\n",
       "  </tbody>\n",
       "</table>\n",
       "</div>"
      ],
      "text/plain": [
       "   prism_consumer_id prism_account_id               memo    amount  \\\n",
       "0               1603         acc_4443       ACCOUNT_FEES    $10.00   \n",
       "1               1603         acc_4440       ACCOUNT_FEES    $14.00   \n",
       "2               1603         acc_4444       ACCOUNT_FEES     $2.50   \n",
       "3               1603         acc_4444           ATM_CASH   $302.50   \n",
       "4               1603         acc_4444  EXTERNAL_TRANSFER $4,000.00   \n",
       "\n",
       "  posted_date           category  \n",
       "0  2017-12-29       ACCOUNT_FEES  \n",
       "1  2017-12-29       ACCOUNT_FEES  \n",
       "2  2018-01-02       ACCOUNT_FEES  \n",
       "3  2018-01-02           ATM_CASH  \n",
       "4  2018-01-03  EXTERNAL_TRANSFER  "
      ]
     },
     "execution_count": 44,
     "metadata": {},
     "output_type": "execute_result"
    }
   ],
   "source": [
    "outflows.head()"
   ]
  },
  {
   "cell_type": "code",
   "execution_count": 45,
   "id": "283a5ce5-a5ae-4796-8265-3f71859d148a",
   "metadata": {},
   "outputs": [],
   "source": [
    "f = open('memo_original.txt', 'w')\n",
    "inspect = outflows.memo.unique()\n",
    "\n",
    "f.write(',\\n'.join([str(x) for x in sorted(inspect)]))\n",
    "f.close()\n",
    "\n"
   ]
  },
  {
   "cell_type": "code",
   "execution_count": 46,
   "id": "dbba6080-feea-49de-a123-1f1ca37c3243",
   "metadata": {},
   "outputs": [
    {
     "name": "stdout",
     "output_type": "stream",
     "text": [
      "Before cleaning, 528786 memos\n"
     ]
    }
   ],
   "source": [
    "print(f'Before cleaning, {outflows.memo.nunique()} memos')               "
   ]
  },
  {
   "cell_type": "markdown",
   "id": "1a91f645-bf27-48a6-996f-b9bddd55a62c",
   "metadata": {},
   "source": [
    "### Potential removals:\n",
    "- stop words\n",
    "- special characters (#, -, _, +, /)\n",
    "- XXXX occurrences\n",
    "- lowercase characters\n",
    "  \n",
    "  "
   ]
  },
  {
   "cell_type": "code",
   "execution_count": 47,
   "id": "f4346dd6-f422-4496-b70c-434333d5cfaa",
   "metadata": {},
   "outputs": [],
   "source": [
    "def clean_memo(memo): \n",
    "    sw = ['payment', 'transaction', 'deposit', 'withdrawal', 'transfer', 'credit', 'debit', 'refund', 'fee', 'charge', 'purchase', 'atm']\n",
    "\n",
    "    # lowercase\n",
    "    memo = memo.lower()\n",
    "\n",
    "    memo = re.sub(r'card \\d+ #\\w+|mcc \\w+', '', memo)\n",
    "       \n",
    "    memo = re.sub(r'\\(\\d{3}\\)\\s*\\d{3}-\\w+', '', memo)  # remove phone #s like (800) 544-XXXX\n",
    "    memo = re.sub(r'#\\w{3,}', '', memo)                # Matches patterns like #XXXX\n",
    "    memo = re.sub(r'mcc:\\s*\\w+', '', memo)             # Matches patterns like MCC: XXXX\n",
    "\n",
    "    memo = re.sub(r'[\\#\\-\\_\\+\\/\\$]', ' ', memo)          # turn special characters into ' '\n",
    "    memo = re.sub(r'\\s+', ' ', memo)                   # removes multiple spaces\n",
    "\n",
    "    memo = re.sub(r'\\b(\\w+)\\s+(\\w+)\\b', r'\\1\\2', memo) # merge split adjacent words\n",
    "    memo = re.sub(r'\\s+', ' ', memo)                   # re-clean extra spaces\n",
    "\n",
    "    memo = re.sub(r'x{3,}', '', memo)                   # remove instances of XXX+\n",
    "\n",
    "    # location stanrdardization (Do NOT need location info?)\n",
    "    # memo = re.sub(r'\\bst\\b', 'street', memo)\n",
    "    # memo = re.sub(r'\\brd\\b', 'road', memo)\n",
    "    # memo = re.sub(r'\\bblvd\\b', 'boulevard', memo)\n",
    "    # memo = re.sub(r'\\bave\\b', 'avenue', memo)\n",
    "\n",
    "    # removing location info\n",
    "    memo = re.sub(r'\\b(\\d+\\w*)\\b', '', memo)  # remove house numbers\n",
    "    memo = re.sub(r'(street|st|road|rd|blvd|avenue|ave|us|highway|hwy|north|south|east|west|fl|ca)\\b', '', memo) \n",
    "\n",
    "    memo_tks = memo.split()\n",
    "    new_memo = ' '.join([word for word in memo_tks if word not in sw])\n",
    "\n",
    "    return new_memo.strip()\n",
    "\n",
    "    "
   ]
  },
  {
   "cell_type": "code",
   "execution_count": 57,
   "id": "431b6ec5-4e2c-4146-a7d2-20206320e6c0",
   "metadata": {},
   "outputs": [],
   "source": [
    "def clean_memo(memo):\n",
    "    sw = ['payment', 'transaction', 'deposit', 'withdrawal', 'transfer', 'credit', 'debit', 'refund', 'fee', 'charge', 'purchase', 'atm']\n",
    "\n",
    "    memo = memo.lower()\n",
    "\n",
    "    memo = re.sub(r'^#\\w{6,}', '', memo) # remove the leadings X's (ex. #XXXX)\n",
    "    memo = re.sub(r'\\*\\w{5,}', '', memo) # remove the leading alphanumeric ids\n",
    "    # memo = re.sub(r'\\b\\w*(www\\.|\\.com)\\w*\\b', '', memo) # removing any links or urls\n",
    "    memo = re.sub(r'\\b\\w*(www\\.)\\w*\\b', '', memo) # removing any links or urls\n",
    "    memo = re.sub(r'(#|xxx).*$', '', memo) # removes the trailing X's\n",
    "\n",
    "    memo = re.sub(r'[0-9]{2}((-|/)[0-9]{2,4}){1,2}', '', memo) # remove dates\n",
    "\n",
    "    memo = re.sub(r'[^\\w\\s-]', ' ', memo)  # replace special characters with single space\n",
    "    memo = re.sub(r'([a-z]+)\\s{0,1}-\\s{0,1}([a-z]+)', r'\\1\\2', memo) # replace '-' w/ ''\n",
    "    memo = re.sub(r'\\s+', ' ', memo)  # remove multiple spaces\n",
    "\n",
    "    return memo.strip()\n",
    "\n",
    "# 99-cents -> 99 cents\n",
    "# wal-mart -> wal mart\n",
    "\n",
    "# WAL WAL-MART #XXXX XXXXXX STREET\n",
    "# WAL WAL-MART\n"
   ]
  },
  {
   "cell_type": "code",
   "execution_count": 68,
   "id": "98c3eef0-7818-4de4-b91e-e34ca9c17202",
   "metadata": {},
   "outputs": [],
   "source": [
    "def clean_memo(memo):\n",
    "    sw = ['payment', 'transaction', 'deposit', 'withdrawal', 'transfer', 'credit', 'debit', 'refund', 'fee', 'charge', 'purchase', 'atm', 'checkcard']\n",
    "\n",
    "    memo = memo.lower()\n",
    "\n",
    "    memo = re.sub(r'x{3,}', '', memo) # remove the X's (ex. #XXXX)\n",
    "    memo = re.sub(r'^#[a-z0-9]+', '', memo) # remove the #smth @ start of memo\n",
    "    memo = re.sub(r'(www\\.|\\.com)', '', memo) # removing any links or urls\n",
    "\n",
    "    memo = re.sub(r'[0-9x]{2}((-|/)[0-9x]{2,4}){1,2}', '', memo) # remove dates\n",
    "\n",
    "    memo = re.sub(r'[^\\w\\s-]', ' ', memo)  # replace special characters with single space\n",
    "    memo = re.sub(r'([a-z]+)\\s{0,1}-\\s{0,1}([a-z]+)', r'\\1\\2', memo) # replace '-' w/ ''\n",
    "    memo = re.sub(r'\\s+', ' ', memo)  # remove multiple spaces\n",
    "\n",
    "    return memo.strip()\n",
    "\n",
    "# 99-cents -> 99 cents\n",
    "# wal-mart -> wal mart\n",
    "\n",
    "# WAL WAL-MART #XXXX XXXXXX STREET\n",
    "# WAL WAL-MART\n"
   ]
  },
  {
   "cell_type": "code",
   "execution_count": 69,
   "id": "54d2d874-e4bb-4a9f-9385-fb8ac951e35d",
   "metadata": {},
   "outputs": [
    {
     "data": {
      "text/html": [
       "<div>\n",
       "<style scoped>\n",
       "    .dataframe tbody tr th:only-of-type {\n",
       "        vertical-align: middle;\n",
       "    }\n",
       "\n",
       "    .dataframe tbody tr th {\n",
       "        vertical-align: top;\n",
       "    }\n",
       "\n",
       "    .dataframe thead th {\n",
       "        text-align: right;\n",
       "    }\n",
       "</style>\n",
       "<table border=\"1\" class=\"dataframe\">\n",
       "  <thead>\n",
       "    <tr style=\"text-align: right;\">\n",
       "      <th></th>\n",
       "      <th>prism_consumer_id</th>\n",
       "      <th>prism_account_id</th>\n",
       "      <th>memo</th>\n",
       "      <th>amount</th>\n",
       "      <th>posted_date</th>\n",
       "      <th>category</th>\n",
       "      <th>clean_memo</th>\n",
       "    </tr>\n",
       "  </thead>\n",
       "  <tbody>\n",
       "    <tr>\n",
       "      <th>0</th>\n",
       "      <td>1603</td>\n",
       "      <td>acc_4443</td>\n",
       "      <td>ACCOUNT_FEES</td>\n",
       "      <td>$10.00</td>\n",
       "      <td>2017-12-29</td>\n",
       "      <td>ACCOUNT_FEES</td>\n",
       "      <td>ACCOUNT_FEES</td>\n",
       "    </tr>\n",
       "    <tr>\n",
       "      <th>1</th>\n",
       "      <td>1603</td>\n",
       "      <td>acc_4440</td>\n",
       "      <td>ACCOUNT_FEES</td>\n",
       "      <td>$14.00</td>\n",
       "      <td>2017-12-29</td>\n",
       "      <td>ACCOUNT_FEES</td>\n",
       "      <td>ACCOUNT_FEES</td>\n",
       "    </tr>\n",
       "    <tr>\n",
       "      <th>2</th>\n",
       "      <td>1603</td>\n",
       "      <td>acc_4444</td>\n",
       "      <td>ACCOUNT_FEES</td>\n",
       "      <td>$2.50</td>\n",
       "      <td>2018-01-02</td>\n",
       "      <td>ACCOUNT_FEES</td>\n",
       "      <td>ACCOUNT_FEES</td>\n",
       "    </tr>\n",
       "    <tr>\n",
       "      <th>3</th>\n",
       "      <td>1603</td>\n",
       "      <td>acc_4444</td>\n",
       "      <td>ATM_CASH</td>\n",
       "      <td>$302.50</td>\n",
       "      <td>2018-01-02</td>\n",
       "      <td>ATM_CASH</td>\n",
       "      <td>ATM_CASH</td>\n",
       "    </tr>\n",
       "    <tr>\n",
       "      <th>4</th>\n",
       "      <td>1603</td>\n",
       "      <td>acc_4444</td>\n",
       "      <td>EXTERNAL_TRANSFER</td>\n",
       "      <td>$4,000.00</td>\n",
       "      <td>2018-01-03</td>\n",
       "      <td>EXTERNAL_TRANSFER</td>\n",
       "      <td>EXTERNAL_TRANSFER</td>\n",
       "    </tr>\n",
       "  </tbody>\n",
       "</table>\n",
       "</div>"
      ],
      "text/plain": [
       "   prism_consumer_id prism_account_id               memo    amount  \\\n",
       "0               1603         acc_4443       ACCOUNT_FEES    $10.00   \n",
       "1               1603         acc_4440       ACCOUNT_FEES    $14.00   \n",
       "2               1603         acc_4444       ACCOUNT_FEES     $2.50   \n",
       "3               1603         acc_4444           ATM_CASH   $302.50   \n",
       "4               1603         acc_4444  EXTERNAL_TRANSFER $4,000.00   \n",
       "\n",
       "  posted_date           category         clean_memo  \n",
       "0  2017-12-29       ACCOUNT_FEES       ACCOUNT_FEES  \n",
       "1  2017-12-29       ACCOUNT_FEES       ACCOUNT_FEES  \n",
       "2  2018-01-02       ACCOUNT_FEES       ACCOUNT_FEES  \n",
       "3  2018-01-02           ATM_CASH           ATM_CASH  \n",
       "4  2018-01-03  EXTERNAL_TRANSFER  EXTERNAL_TRANSFER  "
      ]
     },
     "execution_count": 69,
     "metadata": {},
     "output_type": "execute_result"
    }
   ],
   "source": [
    "outflows['clean_memo'] = outflows.apply(lambda row: clean_memo(row.memo) if row.memo != row.category else row.memo, axis=1) # outflows.memo.apply(clean_memo)\n",
    "outflows.head()"
   ]
  },
  {
   "cell_type": "code",
   "execution_count": 70,
   "id": "ec0b8970-faf1-4e7a-a588-1e8013f33de3",
   "metadata": {},
   "outputs": [
    {
     "data": {
      "text/plain": [
       "(array(['walmart', 'wal mart', 'walmart walmart', 'waldo mart',\n",
       "        'wally s lucky mart'], dtype=object),\n",
       " 32154)"
      ]
     },
     "execution_count": 70,
     "metadata": {},
     "output_type": "execute_result"
    }
   ],
   "source": [
    "walmart = outflows[outflows.clean_memo.str.startswith('wal') & outflows.clean_memo.str.endswith('mart')]\n",
    "\n",
    "walmart.clean_memo.unique(), (walmart.clean_memo == 'walmart').sum()"
   ]
  },
  {
   "cell_type": "code",
   "execution_count": 71,
   "id": "90b01eec-728c-40b0-95f7-202058a246e1",
   "metadata": {},
   "outputs": [],
   "source": [
    "def clean_memo_pt2(memo):\n",
    "    merchant_map = {'wal walmart': 'walmart', 'walmart walmart': 'walmart', 'wal mart': 'walmart'}\n",
    "\n",
    "    if memo in merchant_map: return merchant_map[memo]\n",
    "    return memo\n",
    "    "
   ]
  },
  {
   "cell_type": "code",
   "execution_count": 72,
   "id": "c133d9b9-fbb1-444f-a53d-521743a6984c",
   "metadata": {},
   "outputs": [
    {
     "data": {
      "text/html": [
       "<div>\n",
       "<style scoped>\n",
       "    .dataframe tbody tr th:only-of-type {\n",
       "        vertical-align: middle;\n",
       "    }\n",
       "\n",
       "    .dataframe tbody tr th {\n",
       "        vertical-align: top;\n",
       "    }\n",
       "\n",
       "    .dataframe thead th {\n",
       "        text-align: right;\n",
       "    }\n",
       "</style>\n",
       "<table border=\"1\" class=\"dataframe\">\n",
       "  <thead>\n",
       "    <tr style=\"text-align: right;\">\n",
       "      <th></th>\n",
       "      <th>prism_consumer_id</th>\n",
       "      <th>prism_account_id</th>\n",
       "      <th>memo</th>\n",
       "      <th>amount</th>\n",
       "      <th>posted_date</th>\n",
       "      <th>category</th>\n",
       "      <th>clean_memo</th>\n",
       "    </tr>\n",
       "  </thead>\n",
       "  <tbody>\n",
       "    <tr>\n",
       "      <th>0</th>\n",
       "      <td>1603</td>\n",
       "      <td>acc_4443</td>\n",
       "      <td>ACCOUNT_FEES</td>\n",
       "      <td>$10.00</td>\n",
       "      <td>2017-12-29</td>\n",
       "      <td>ACCOUNT_FEES</td>\n",
       "      <td>ACCOUNT_FEES</td>\n",
       "    </tr>\n",
       "    <tr>\n",
       "      <th>1</th>\n",
       "      <td>1603</td>\n",
       "      <td>acc_4440</td>\n",
       "      <td>ACCOUNT_FEES</td>\n",
       "      <td>$14.00</td>\n",
       "      <td>2017-12-29</td>\n",
       "      <td>ACCOUNT_FEES</td>\n",
       "      <td>ACCOUNT_FEES</td>\n",
       "    </tr>\n",
       "    <tr>\n",
       "      <th>2</th>\n",
       "      <td>1603</td>\n",
       "      <td>acc_4444</td>\n",
       "      <td>ACCOUNT_FEES</td>\n",
       "      <td>$2.50</td>\n",
       "      <td>2018-01-02</td>\n",
       "      <td>ACCOUNT_FEES</td>\n",
       "      <td>ACCOUNT_FEES</td>\n",
       "    </tr>\n",
       "    <tr>\n",
       "      <th>3</th>\n",
       "      <td>1603</td>\n",
       "      <td>acc_4444</td>\n",
       "      <td>ATM_CASH</td>\n",
       "      <td>$302.50</td>\n",
       "      <td>2018-01-02</td>\n",
       "      <td>ATM_CASH</td>\n",
       "      <td>ATM_CASH</td>\n",
       "    </tr>\n",
       "    <tr>\n",
       "      <th>4</th>\n",
       "      <td>1603</td>\n",
       "      <td>acc_4444</td>\n",
       "      <td>EXTERNAL_TRANSFER</td>\n",
       "      <td>$4,000.00</td>\n",
       "      <td>2018-01-03</td>\n",
       "      <td>EXTERNAL_TRANSFER</td>\n",
       "      <td>EXTERNAL_TRANSFER</td>\n",
       "    </tr>\n",
       "  </tbody>\n",
       "</table>\n",
       "</div>"
      ],
      "text/plain": [
       "   prism_consumer_id prism_account_id               memo    amount  \\\n",
       "0               1603         acc_4443       ACCOUNT_FEES    $10.00   \n",
       "1               1603         acc_4440       ACCOUNT_FEES    $14.00   \n",
       "2               1603         acc_4444       ACCOUNT_FEES     $2.50   \n",
       "3               1603         acc_4444           ATM_CASH   $302.50   \n",
       "4               1603         acc_4444  EXTERNAL_TRANSFER $4,000.00   \n",
       "\n",
       "  posted_date           category         clean_memo  \n",
       "0  2017-12-29       ACCOUNT_FEES       ACCOUNT_FEES  \n",
       "1  2017-12-29       ACCOUNT_FEES       ACCOUNT_FEES  \n",
       "2  2018-01-02       ACCOUNT_FEES       ACCOUNT_FEES  \n",
       "3  2018-01-02           ATM_CASH           ATM_CASH  \n",
       "4  2018-01-03  EXTERNAL_TRANSFER  EXTERNAL_TRANSFER  "
      ]
     },
     "execution_count": 72,
     "metadata": {},
     "output_type": "execute_result"
    }
   ],
   "source": [
    "outflows.clean_memo = outflows.clean_memo.apply(clean_memo_pt2)\n",
    "outflows.head()"
   ]
  },
  {
   "cell_type": "code",
   "execution_count": null,
   "id": "647c697b-8b2f-479b-bc9c-d18c1d9892ae",
   "metadata": {},
   "outputs": [],
   "source": []
  },
  {
   "cell_type": "code",
   "execution_count": 52,
   "id": "6ed354b5-7618-4185-b9c7-57e851b4c5fc",
   "metadata": {},
   "outputs": [
    {
     "name": "stdout",
     "output_type": "stream",
     "text": [
      "XXXXX EL SEGUNDO XXXXA\n",
      "XXXX FOREVER 21\n",
      "XXXX FOREVER 21\n",
      "XXXXX PROMENADEATWEST\n",
      "XXXX FOREVER 21\n",
      "XXXX JNN ALABASTER\n",
      "XXXXXX POS PURCHASE 03/01 DELTA WEST MILFO WEST MILFORD NJ XXXXXXXX XXXXXX\n",
      "XXXXXX POS PURCHASE 02/28 FLIK BAYER 11 CONVENT STATI NJ XXXXXXXX XXXXXX\n",
      "XXXXXX POS PURCHASE 03/01 ACME XXXX OAK RIDGE NJ XXXXXXXX XXXXXX\n",
      "XXXXXX POS PURCHASE 02/28 FLIK BAYER 11 CONVENT STATI NJ XXXXXXXX XXXXXX\n"
     ]
    }
   ],
   "source": [
    "misses = outflows[outflows.clean_memo == ''].index\n",
    "\n",
    "for i in range(10):\n",
    "    print(outflows.iloc[misses[i]].memo)"
   ]
  },
  {
   "cell_type": "code",
   "execution_count": 75,
   "id": "f35cedbe-e049-4de2-a06b-0b354bab5e76",
   "metadata": {},
   "outputs": [
    {
     "data": {
      "text/plain": [
       "['checkcard the school box 002 town kennesaw ga',\n",
       " 'checkcard chewy fl',\n",
       " 'checkcard fermi iii newport mi',\n",
       " 'checkcard sp doggovinci toronto on',\n",
       " 'checkcard lee s market inc berlin chartemi',\n",
       " 'checkcard by my side holste mi',\n",
       " 'checkcard new jakes liquor monroe mi',\n",
       " 'checkcard fermi iii newport mi',\n",
       " 'checkcard the mitten cafe newport mi',\n",
       " 'checkcard the mitten cafe newport mi']"
      ]
     },
     "execution_count": 75,
     "metadata": {},
     "output_type": "execute_result"
    }
   ],
   "source": [
    "outflows[outflows.clean_memo.str.contains('checkcard')].head(10).clean_memo.tolist()"
   ]
  },
  {
   "cell_type": "code",
   "execution_count": null,
   "id": "7b9045c1-4d37-430c-8904-0268142906d2",
   "metadata": {},
   "outputs": [],
   "source": []
  },
  {
   "cell_type": "code",
   "execution_count": 91,
   "id": "56e13c3c-7b97-4d87-8aac-42caf72b992a",
   "metadata": {},
   "outputs": [
    {
     "name": "stdout",
     "output_type": "stream",
     "text": [
      "After initial cleaning, 147537 memos (fixed 381249)\n"
     ]
    }
   ],
   "source": [
    "print(f'After initial cleaning, {outflows.clean_memo.nunique()} memos (fixed {outflows.memo.nunique() - outflows.clean_memo.nunique()})')"
   ]
  },
  {
   "cell_type": "code",
   "execution_count": null,
   "id": "a1eda1bc-48f5-4120-967a-315a1dab9a29",
   "metadata": {},
   "outputs": [],
   "source": []
  },
  {
   "cell_type": "code",
   "execution_count": 92,
   "id": "35511f72-44b8-487a-816e-2a27bf2e068d",
   "metadata": {},
   "outputs": [],
   "source": [
    "f = open('memo_cleaning.txt', 'w')\n",
    "inspect = outflows.clean_memo.unique()\n",
    "\n",
    "f.write(',\\n'.join([str(x) for x in sorted(inspect)]))\n",
    "f.close()\n",
    "\n"
   ]
  },
  {
   "cell_type": "code",
   "execution_count": null,
   "id": "72c04192-a888-4225-93cc-ea0d9844fd5e",
   "metadata": {},
   "outputs": [],
   "source": []
  },
  {
   "cell_type": "code",
   "execution_count": 98,
   "id": "563dd4ad-bee7-424b-a141-2bb26f22d386",
   "metadata": {},
   "outputs": [
    {
     "data": {
      "text/html": [
       "<div>\n",
       "<style scoped>\n",
       "    .dataframe tbody tr th:only-of-type {\n",
       "        vertical-align: middle;\n",
       "    }\n",
       "\n",
       "    .dataframe tbody tr th {\n",
       "        vertical-align: top;\n",
       "    }\n",
       "\n",
       "    .dataframe thead th {\n",
       "        text-align: right;\n",
       "    }\n",
       "</style>\n",
       "<table border=\"1\" class=\"dataframe\">\n",
       "  <thead>\n",
       "    <tr style=\"text-align: right;\">\n",
       "      <th></th>\n",
       "      <th>prism_consumer_id</th>\n",
       "      <th>prism_account_id</th>\n",
       "      <th>memo</th>\n",
       "      <th>amount</th>\n",
       "      <th>posted_date</th>\n",
       "      <th>category</th>\n",
       "      <th>clean_memo</th>\n",
       "    </tr>\n",
       "  </thead>\n",
       "  <tbody>\n",
       "    <tr>\n",
       "      <th>2556551</th>\n",
       "      <td>2777</td>\n",
       "      <td>acc_6360</td>\n",
       "      <td>Etsy.com - IntuitiveArt718-XXXXXXX</td>\n",
       "      <td>$28.20</td>\n",
       "      <td>2023-05-10</td>\n",
       "      <td>GENERAL_MERCHANDISE</td>\n",
       "      <td>- intuitiveart718-</td>\n",
       "    </tr>\n",
       "    <tr>\n",
       "      <th>2566821</th>\n",
       "      <td>2777</td>\n",
       "      <td>acc_6360</td>\n",
       "      <td>Etsy.com - IntuitiveArt718-XXXXXXX</td>\n",
       "      <td>$38.09</td>\n",
       "      <td>2023-05-21</td>\n",
       "      <td>GENERAL_MERCHANDISE</td>\n",
       "      <td>- intuitiveart718-</td>\n",
       "    </tr>\n",
       "  </tbody>\n",
       "</table>\n",
       "</div>"
      ],
      "text/plain": [
       "         prism_consumer_id prism_account_id  \\\n",
       "2556551               2777         acc_6360   \n",
       "2566821               2777         acc_6360   \n",
       "\n",
       "                                       memo  amount posted_date  \\\n",
       "2556551  Etsy.com - IntuitiveArt718-XXXXXXX  $28.20  2023-05-10   \n",
       "2566821  Etsy.com - IntuitiveArt718-XXXXXXX  $38.09  2023-05-21   \n",
       "\n",
       "                    category          clean_memo  \n",
       "2556551  GENERAL_MERCHANDISE  - intuitiveart718-  \n",
       "2566821  GENERAL_MERCHANDISE  - intuitiveart718-  "
      ]
     },
     "execution_count": 98,
     "metadata": {},
     "output_type": "execute_result"
    }
   ],
   "source": [
    "outflows[outflows.memo.str.lower().str.contains('intuitive')]"
   ]
  },
  {
   "cell_type": "code",
   "execution_count": 68,
   "id": "91bdd886-2d59-4344-9804-94c47680d3ab",
   "metadata": {},
   "outputs": [
    {
     "data": {
      "text/plain": [
       "array(['ACCOUNT_FEES', 'ATM_CASH', 'EXTERNAL_TRANSFER',\n",
       "       'CREDIT_CARD_PAYMENT', 'GENERAL_MERCHANDISE', 'ENTERTAINMENT',\n",
       "       'LOAN', 'INSURANCE', 'UNCATEGORIZED', 'ESSENTIAL_SERVICES',\n",
       "       'AUTOMOTIVE', 'TAX', 'HEALTHCARE_MEDICAL', 'TRAVEL', 'GROCERIES',\n",
       "       'FOOD_AND_BEVERAGES', 'HOME_IMPROVEMENT', 'SELF_TRANSFER',\n",
       "       'OVERDRAFT', 'PETS', 'EDUCATION', 'GIFTS_DONATIONS', 'MORTGAGE',\n",
       "       'RENT', 'CHILD_DEPENDENTS', 'BNPL', 'PAYCHECK', 'AUTO_LOAN',\n",
       "       'BILLS_UTILITIES'], dtype=object)"
      ]
     },
     "execution_count": 68,
     "metadata": {},
     "output_type": "execute_result"
    }
   ],
   "source": [
    "outflows.category.unique()"
   ]
  },
  {
   "cell_type": "code",
   "execution_count": 51,
   "id": "4a0d988b-bf16-4d0a-a890-1bfcb955452e",
   "metadata": {},
   "outputs": [],
   "source": [
    "# for cat in outflows.category.unique():\n",
    "#     sub = outflows[outflows.category == cat]\n",
    "#     unique_memos = sorted(sub.memo.unique())\n",
    "\n",
    "#     title = 'original_data/' + cat + '_original.txt'\n",
    "\n",
    "#     with open(title, 'w') as f:\n",
    "#         inspect = outflows.clean_memo.unique()\n",
    "\n",
    "#         f.write(',\\n'.join([str(x) for x in sorted(inspect)]))\n"
   ]
  },
  {
   "cell_type": "code",
   "execution_count": null,
   "id": "fd149bde-7980-474c-8e77-ff3a7a94eeb0",
   "metadata": {},
   "outputs": [],
   "source": []
  },
  {
   "cell_type": "code",
   "execution_count": null,
   "id": "f2730533-d7e2-4403-80d2-af3981b09680",
   "metadata": {},
   "outputs": [],
   "source": []
  },
  {
   "cell_type": "markdown",
   "id": "ce44e7f0-6d6b-4683-9846-ee75fd170fca",
   "metadata": {},
   "source": [
    "# TF/IDF, Create Date / Amount based attributes"
   ]
  },
  {
   "cell_type": "markdown",
   "id": "a52c2877-0d77-4a1e-8ab2-66152cb3bf43",
   "metadata": {},
   "source": [
    "### Potential Date and Amount Features\n",
    "\n",
    "- 0/1 Weekday / Weekend\n",
    "- 0/1 if cash even amount (ATM quick cash or whole dollar)\n",
    "- 0-11 month #\n",
    "- 0-6 day of week (monday -> sundayy)\n",
    "- signify small medium large purchases (ex. 0-100, 101-500, 500-2000, 2000-10000, 10000->)\n",
    "\n",
    "Extra:\n",
    "- season / quarter of the year\n",
    "- first week / last week of the month\n",
    "- "
   ]
  },
  {
   "cell_type": "code",
   "execution_count": 40,
   "id": "d16746ac-56ea-4343-8333-6e42d3d361bf",
   "metadata": {},
   "outputs": [
    {
     "data": {
      "text/html": [
       "<div>\n",
       "<style scoped>\n",
       "    .dataframe tbody tr th:only-of-type {\n",
       "        vertical-align: middle;\n",
       "    }\n",
       "\n",
       "    .dataframe tbody tr th {\n",
       "        vertical-align: top;\n",
       "    }\n",
       "\n",
       "    .dataframe thead th {\n",
       "        text-align: right;\n",
       "    }\n",
       "</style>\n",
       "<table border=\"1\" class=\"dataframe\">\n",
       "  <thead>\n",
       "    <tr style=\"text-align: right;\">\n",
       "      <th></th>\n",
       "      <th>prism_consumer_id</th>\n",
       "      <th>prism_account_id</th>\n",
       "      <th>memo</th>\n",
       "      <th>amount</th>\n",
       "      <th>posted_date</th>\n",
       "      <th>category</th>\n",
       "      <th>clean_memo</th>\n",
       "      <th>is_weekend</th>\n",
       "    </tr>\n",
       "  </thead>\n",
       "  <tbody>\n",
       "    <tr>\n",
       "      <th>0</th>\n",
       "      <td>0</td>\n",
       "      <td>acc_0</td>\n",
       "      <td>LOAN</td>\n",
       "      <td>$900.60</td>\n",
       "      <td>2022-07-05</td>\n",
       "      <td>LOAN</td>\n",
       "      <td>LOAN</td>\n",
       "      <td>False</td>\n",
       "    </tr>\n",
       "    <tr>\n",
       "      <th>1</th>\n",
       "      <td>0</td>\n",
       "      <td>acc_0</td>\n",
       "      <td>ATM_CASH</td>\n",
       "      <td>$80.00</td>\n",
       "      <td>2022-03-25</td>\n",
       "      <td>ATM_CASH</td>\n",
       "      <td>ATM_CASH</td>\n",
       "      <td>False</td>\n",
       "    </tr>\n",
       "    <tr>\n",
       "      <th>2</th>\n",
       "      <td>0</td>\n",
       "      <td>acc_0</td>\n",
       "      <td>TST* Casa Del Rio - Exp Fairlawn OH 09/24</td>\n",
       "      <td>$18.42</td>\n",
       "      <td>2022-09-26</td>\n",
       "      <td>FOOD_AND_BEVERAGES</td>\n",
       "      <td>t casa del rioexp fairlawn oh</td>\n",
       "      <td>False</td>\n",
       "    </tr>\n",
       "    <tr>\n",
       "      <th>3</th>\n",
       "      <td>0</td>\n",
       "      <td>acc_0</td>\n",
       "      <td>LOAN</td>\n",
       "      <td>$634.00</td>\n",
       "      <td>2023-01-10</td>\n",
       "      <td>LOAN</td>\n",
       "      <td>LOAN</td>\n",
       "      <td>False</td>\n",
       "    </tr>\n",
       "    <tr>\n",
       "      <th>4</th>\n",
       "      <td>0</td>\n",
       "      <td>acc_0</td>\n",
       "      <td>Buffalo Wild Wings</td>\n",
       "      <td>$26.47</td>\n",
       "      <td>2022-09-12</td>\n",
       "      <td>FOOD_AND_BEVERAGES</td>\n",
       "      <td>buffalo wild wings</td>\n",
       "      <td>False</td>\n",
       "    </tr>\n",
       "  </tbody>\n",
       "</table>\n",
       "</div>"
      ],
      "text/plain": [
       "   prism_consumer_id prism_account_id  \\\n",
       "0                  0            acc_0   \n",
       "1                  0            acc_0   \n",
       "2                  0            acc_0   \n",
       "3                  0            acc_0   \n",
       "4                  0            acc_0   \n",
       "\n",
       "                                        memo  amount posted_date  \\\n",
       "0                                       LOAN $900.60  2022-07-05   \n",
       "1                                   ATM_CASH  $80.00  2022-03-25   \n",
       "2  TST* Casa Del Rio - Exp Fairlawn OH 09/24  $18.42  2022-09-26   \n",
       "3                                       LOAN $634.00  2023-01-10   \n",
       "4                         Buffalo Wild Wings  $26.47  2022-09-12   \n",
       "\n",
       "             category                     clean_memo  is_weekend  \n",
       "0                LOAN                           LOAN       False  \n",
       "1            ATM_CASH                       ATM_CASH       False  \n",
       "2  FOOD_AND_BEVERAGES  t casa del rioexp fairlawn oh       False  \n",
       "3                LOAN                           LOAN       False  \n",
       "4  FOOD_AND_BEVERAGES             buffalo wild wings       False  "
      ]
     },
     "execution_count": 40,
     "metadata": {},
     "output_type": "execute_result"
    }
   ],
   "source": [
    "outflows.posted_date = pd.to_datetime(outflows.posted_date)\n",
    "outflows.head()"
   ]
  },
  {
   "cell_type": "code",
   "execution_count": 46,
   "id": "6c1cbc8d-8ede-4720-9ec8-3ad26c12e6a0",
   "metadata": {},
   "outputs": [],
   "source": [
    "def amount_splitter(amnt):\n",
    "    if amnt < 100: return 1\n",
    "    if amnt < 500: return 2\n",
    "    if amnt < 2000: return 3\n",
    "    if amnt < 10000: return 4\n",
    "    return 5"
   ]
  },
  {
   "cell_type": "code",
   "execution_count": 47,
   "id": "51cae6a1-37e8-4d82-871b-bc4d96c466f1",
   "metadata": {},
   "outputs": [
    {
     "data": {
      "text/html": [
       "<div>\n",
       "<style scoped>\n",
       "    .dataframe tbody tr th:only-of-type {\n",
       "        vertical-align: middle;\n",
       "    }\n",
       "\n",
       "    .dataframe tbody tr th {\n",
       "        vertical-align: top;\n",
       "    }\n",
       "\n",
       "    .dataframe thead th {\n",
       "        text-align: right;\n",
       "    }\n",
       "</style>\n",
       "<table border=\"1\" class=\"dataframe\">\n",
       "  <thead>\n",
       "    <tr style=\"text-align: right;\">\n",
       "      <th></th>\n",
       "      <th>prism_consumer_id</th>\n",
       "      <th>prism_account_id</th>\n",
       "      <th>memo</th>\n",
       "      <th>amount</th>\n",
       "      <th>posted_date</th>\n",
       "      <th>category</th>\n",
       "      <th>clean_memo</th>\n",
       "      <th>is_weekend</th>\n",
       "      <th>month_num</th>\n",
       "      <th>is_even_amount</th>\n",
       "      <th>day_of_week</th>\n",
       "      <th>amount_scale</th>\n",
       "    </tr>\n",
       "  </thead>\n",
       "  <tbody>\n",
       "    <tr>\n",
       "      <th>0</th>\n",
       "      <td>0</td>\n",
       "      <td>acc_0</td>\n",
       "      <td>LOAN</td>\n",
       "      <td>$900.60</td>\n",
       "      <td>2022-07-05</td>\n",
       "      <td>LOAN</td>\n",
       "      <td>LOAN</td>\n",
       "      <td>False</td>\n",
       "      <td>7</td>\n",
       "      <td>0</td>\n",
       "      <td>1</td>\n",
       "      <td>3</td>\n",
       "    </tr>\n",
       "    <tr>\n",
       "      <th>1</th>\n",
       "      <td>0</td>\n",
       "      <td>acc_0</td>\n",
       "      <td>ATM_CASH</td>\n",
       "      <td>$80.00</td>\n",
       "      <td>2022-03-25</td>\n",
       "      <td>ATM_CASH</td>\n",
       "      <td>ATM_CASH</td>\n",
       "      <td>False</td>\n",
       "      <td>3</td>\n",
       "      <td>1</td>\n",
       "      <td>4</td>\n",
       "      <td>1</td>\n",
       "    </tr>\n",
       "    <tr>\n",
       "      <th>2</th>\n",
       "      <td>0</td>\n",
       "      <td>acc_0</td>\n",
       "      <td>TST* Casa Del Rio - Exp Fairlawn OH 09/24</td>\n",
       "      <td>$18.42</td>\n",
       "      <td>2022-09-26</td>\n",
       "      <td>FOOD_AND_BEVERAGES</td>\n",
       "      <td>t casa del rioexp fairlawn oh</td>\n",
       "      <td>False</td>\n",
       "      <td>9</td>\n",
       "      <td>0</td>\n",
       "      <td>0</td>\n",
       "      <td>1</td>\n",
       "    </tr>\n",
       "    <tr>\n",
       "      <th>3</th>\n",
       "      <td>0</td>\n",
       "      <td>acc_0</td>\n",
       "      <td>LOAN</td>\n",
       "      <td>$634.00</td>\n",
       "      <td>2023-01-10</td>\n",
       "      <td>LOAN</td>\n",
       "      <td>LOAN</td>\n",
       "      <td>False</td>\n",
       "      <td>1</td>\n",
       "      <td>0</td>\n",
       "      <td>1</td>\n",
       "      <td>3</td>\n",
       "    </tr>\n",
       "    <tr>\n",
       "      <th>4</th>\n",
       "      <td>0</td>\n",
       "      <td>acc_0</td>\n",
       "      <td>Buffalo Wild Wings</td>\n",
       "      <td>$26.47</td>\n",
       "      <td>2022-09-12</td>\n",
       "      <td>FOOD_AND_BEVERAGES</td>\n",
       "      <td>buffalo wild wings</td>\n",
       "      <td>False</td>\n",
       "      <td>9</td>\n",
       "      <td>0</td>\n",
       "      <td>0</td>\n",
       "      <td>1</td>\n",
       "    </tr>\n",
       "  </tbody>\n",
       "</table>\n",
       "</div>"
      ],
      "text/plain": [
       "   prism_consumer_id prism_account_id  \\\n",
       "0                  0            acc_0   \n",
       "1                  0            acc_0   \n",
       "2                  0            acc_0   \n",
       "3                  0            acc_0   \n",
       "4                  0            acc_0   \n",
       "\n",
       "                                        memo  amount posted_date  \\\n",
       "0                                       LOAN $900.60  2022-07-05   \n",
       "1                                   ATM_CASH  $80.00  2022-03-25   \n",
       "2  TST* Casa Del Rio - Exp Fairlawn OH 09/24  $18.42  2022-09-26   \n",
       "3                                       LOAN $634.00  2023-01-10   \n",
       "4                         Buffalo Wild Wings  $26.47  2022-09-12   \n",
       "\n",
       "             category                     clean_memo  is_weekend  month_num  \\\n",
       "0                LOAN                           LOAN       False          7   \n",
       "1            ATM_CASH                       ATM_CASH       False          3   \n",
       "2  FOOD_AND_BEVERAGES  t casa del rioexp fairlawn oh       False          9   \n",
       "3                LOAN                           LOAN       False          1   \n",
       "4  FOOD_AND_BEVERAGES             buffalo wild wings       False          9   \n",
       "\n",
       "   is_even_amount  day_of_week  amount_scale  \n",
       "0               0            1             3  \n",
       "1               1            4             1  \n",
       "2               0            0             1  \n",
       "3               0            1             3  \n",
       "4               0            0             1  "
      ]
     },
     "execution_count": 47,
     "metadata": {},
     "output_type": "execute_result"
    }
   ],
   "source": [
    "outflows['day_of_week'] = outflows.posted_date.dt.weekday\n",
    "outflows['is_weekend'] = outflows.posted_date.dt.weekday >= 5\n",
    "outflows['month_num'] = outflows.posted_date.dt.month\n",
    "outflows['is_even_amount'] = outflows.amount.apply(lambda x: 1 if x % 1 == 0 and x % 5 == 0 else 0)\n",
    "outflows['amount_scale'] = outflows.amount.apply(amount_splitter)\n",
    "\n",
    "outflows.head()"
   ]
  },
  {
   "cell_type": "code",
   "execution_count": 41,
   "id": "bf893c96-19ab-4789-b1cc-4f58fc67d4c8",
   "metadata": {},
   "outputs": [
    {
     "data": {
      "text/plain": [
       "7"
      ]
     },
     "execution_count": 41,
     "metadata": {},
     "output_type": "execute_result"
    }
   ],
   "source": [
    "outflows.posted_date[0].month"
   ]
  },
  {
   "cell_type": "code",
   "execution_count": 42,
   "id": "7985e4a7-1a9c-41b4-a305-d2c17dae9cc2",
   "metadata": {},
   "outputs": [
    {
     "data": {
      "text/plain": [
       "900.6"
      ]
     },
     "execution_count": 42,
     "metadata": {},
     "output_type": "execute_result"
    }
   ],
   "source": [
    "outflows.amount[0]"
   ]
  },
  {
   "cell_type": "code",
   "execution_count": null,
   "id": "1ba45f5c-fbce-49a9-9fb5-83d901c050c6",
   "metadata": {},
   "outputs": [],
   "source": []
  },
  {
   "cell_type": "code",
   "execution_count": null,
   "id": "e7cfa595-0df1-4c23-a01a-ceaf35260f1e",
   "metadata": {},
   "outputs": [],
   "source": []
  },
  {
   "cell_type": "code",
   "execution_count": null,
   "id": "8a39ed67-181a-4f7c-bd62-2ca0c8b72ef5",
   "metadata": {},
   "outputs": [],
   "source": []
  },
  {
   "cell_type": "code",
   "execution_count": 14,
   "id": "4c1eb4f5-4991-4c8a-809f-84d8cdb55a01",
   "metadata": {},
   "outputs": [],
   "source": [
    "def clean_memo(memo):\n",
    "    sw = ['payment', 'transaction', 'deposit', 'withdrawal', 'transfer', 'credit', 'debit', 'refund', 'fee', 'charge', 'purchase', 'atm', 'checkcard']\n",
    "\n",
    "    memo = memo.lower()\n",
    "\n",
    "    memo = re.sub(r'[0-9]{3,}', '', memo) # remove instances of numbers more than 3 repeated\n",
    "    \n",
    "    memo = re.sub(r'x{3,}', '', memo) # remove the X's (ex. #XXXX)\n",
    "    memo = re.sub(r'^#[a-z0-9]+', '', memo) # remove the #smth @ start of memo\n",
    "    memo = re.sub(r'(www\\.|\\.com)', '', memo) # removing any links or urls\n",
    "\n",
    "    memo = re.sub(r'[0-9x]{2}((-|/)[0-9x]{2,4}){1,2}', '', memo) # remove dates\n",
    "\n",
    "    memo = re.sub(r'[^\\w\\s-]', ' ', memo)  # replace special characters with single space\n",
    "    memo = re.sub(r'([a-z]+)\\s{0,1}-\\s{0,1}([a-z]+)', r'\\1\\2', memo) # replace '-' w/ ''\n",
    "    memo = re.sub(r'\\s+', ' ', memo)  # remove multiple spaces\n",
    "    \n",
    "\n",
    "    memo = re.sub(r'(street|st|road|rd|blvd|avenue|ave|highway|hwy|fl|ca)\\b', '', memo)\n",
    "\n",
    "    return memo.strip()"
   ]
  },
  {
   "cell_type": "code",
   "execution_count": 15,
   "id": "643d6ad3-226f-474a-826d-cdb99dba7f40",
   "metadata": {},
   "outputs": [],
   "source": [
    "def clean_memo_pt2(memo):\n",
    "    merchant_map = {'wal walmart': 'walmart', 'walmart walmart': 'walmart', 'wal mart': 'walmart'}\n",
    "\n",
    "    if memo in merchant_map: return merchant_map[memo]\n",
    "    return memo\n",
    "    "
   ]
  },
  {
   "cell_type": "code",
   "execution_count": 16,
   "id": "e10d92a1-5265-4b60-b9b9-1eb9a9f4c8a9",
   "metadata": {},
   "outputs": [
    {
     "data": {
      "text/html": [
       "<div>\n",
       "<style scoped>\n",
       "    .dataframe tbody tr th:only-of-type {\n",
       "        vertical-align: middle;\n",
       "    }\n",
       "\n",
       "    .dataframe tbody tr th {\n",
       "        vertical-align: top;\n",
       "    }\n",
       "\n",
       "    .dataframe thead th {\n",
       "        text-align: right;\n",
       "    }\n",
       "</style>\n",
       "<table border=\"1\" class=\"dataframe\">\n",
       "  <thead>\n",
       "    <tr style=\"text-align: right;\">\n",
       "      <th></th>\n",
       "      <th>prism_consumer_id</th>\n",
       "      <th>prism_account_id</th>\n",
       "      <th>memo</th>\n",
       "      <th>amount</th>\n",
       "      <th>posted_date</th>\n",
       "      <th>category</th>\n",
       "      <th>clean_memo</th>\n",
       "    </tr>\n",
       "  </thead>\n",
       "  <tbody>\n",
       "    <tr>\n",
       "      <th>0</th>\n",
       "      <td>0</td>\n",
       "      <td>acc_0</td>\n",
       "      <td>LOAN</td>\n",
       "      <td>$900.60</td>\n",
       "      <td>2022-07-05</td>\n",
       "      <td>LOAN</td>\n",
       "      <td>LOAN</td>\n",
       "    </tr>\n",
       "    <tr>\n",
       "      <th>1</th>\n",
       "      <td>0</td>\n",
       "      <td>acc_0</td>\n",
       "      <td>ATM_CASH</td>\n",
       "      <td>$80.00</td>\n",
       "      <td>2022-03-25</td>\n",
       "      <td>ATM_CASH</td>\n",
       "      <td>ATM_CASH</td>\n",
       "    </tr>\n",
       "    <tr>\n",
       "      <th>2</th>\n",
       "      <td>0</td>\n",
       "      <td>acc_0</td>\n",
       "      <td>TST* Casa Del Rio - Exp Fairlawn OH 09/24</td>\n",
       "      <td>$18.42</td>\n",
       "      <td>2022-09-26</td>\n",
       "      <td>FOOD_AND_BEVERAGES</td>\n",
       "      <td>t casa del rioexp fairlawn oh</td>\n",
       "    </tr>\n",
       "    <tr>\n",
       "      <th>3</th>\n",
       "      <td>0</td>\n",
       "      <td>acc_0</td>\n",
       "      <td>LOAN</td>\n",
       "      <td>$634.00</td>\n",
       "      <td>2023-01-10</td>\n",
       "      <td>LOAN</td>\n",
       "      <td>LOAN</td>\n",
       "    </tr>\n",
       "    <tr>\n",
       "      <th>4</th>\n",
       "      <td>0</td>\n",
       "      <td>acc_0</td>\n",
       "      <td>Buffalo Wild Wings</td>\n",
       "      <td>$26.47</td>\n",
       "      <td>2022-09-12</td>\n",
       "      <td>FOOD_AND_BEVERAGES</td>\n",
       "      <td>buffalo wild wings</td>\n",
       "    </tr>\n",
       "  </tbody>\n",
       "</table>\n",
       "</div>"
      ],
      "text/plain": [
       "   prism_consumer_id prism_account_id  \\\n",
       "0                  0            acc_0   \n",
       "1                  0            acc_0   \n",
       "2                  0            acc_0   \n",
       "3                  0            acc_0   \n",
       "4                  0            acc_0   \n",
       "\n",
       "                                        memo  amount posted_date  \\\n",
       "0                                       LOAN $900.60  2022-07-05   \n",
       "1                                   ATM_CASH  $80.00  2022-03-25   \n",
       "2  TST* Casa Del Rio - Exp Fairlawn OH 09/24  $18.42  2022-09-26   \n",
       "3                                       LOAN $634.00  2023-01-10   \n",
       "4                         Buffalo Wild Wings  $26.47  2022-09-12   \n",
       "\n",
       "             category                     clean_memo  \n",
       "0                LOAN                           LOAN  \n",
       "1            ATM_CASH                       ATM_CASH  \n",
       "2  FOOD_AND_BEVERAGES  t casa del rioexp fairlawn oh  \n",
       "3                LOAN                           LOAN  \n",
       "4  FOOD_AND_BEVERAGES             buffalo wild wings  "
      ]
     },
     "execution_count": 16,
     "metadata": {},
     "output_type": "execute_result"
    }
   ],
   "source": [
    "outflows['clean_memo'] = outflows.apply(lambda row: clean_memo(row.memo) if row.memo != row.category else row.memo, axis=1) # outflows.memo.apply(clean_memo)\n",
    "outflows.clean_memo = outflows.clean_memo.apply(clean_memo_pt2)\n",
    "\n",
    "outflows.head()"
   ]
  },
  {
   "cell_type": "code",
   "execution_count": 17,
   "id": "312bd828-67ca-441e-b4fa-2b7f5f5c51ae",
   "metadata": {},
   "outputs": [],
   "source": [
    "# outflows[outflows.clean_memo.str.contains(' 11 ')].clean_memo.head(10)"
   ]
  },
  {
   "cell_type": "code",
   "execution_count": null,
   "id": "d1968bf0-071b-44e4-8b24-4c4a98c6bf18",
   "metadata": {},
   "outputs": [],
   "source": []
  },
  {
   "cell_type": "code",
   "execution_count": 7,
   "id": "8bbaa84a-847b-4eaf-98d9-197185530593",
   "metadata": {},
   "outputs": [],
   "source": [
    "vectorizer = TfidfVectorizer(max_features=500)\n"
   ]
  },
  {
   "cell_type": "code",
   "execution_count": 8,
   "id": "13db4f4a-51be-4a51-a9f6-e59310f921d9",
   "metadata": {},
   "outputs": [],
   "source": [
    "tfidf_matrix = vectorizer.fit_transform(outflows['clean_memo'])\n"
   ]
  },
  {
   "cell_type": "code",
   "execution_count": 9,
   "id": "c759fa65-c670-480c-8e4d-ee64c4bdc234",
   "metadata": {},
   "outputs": [
    {
     "data": {
      "text/html": [
       "<div>\n",
       "<style scoped>\n",
       "    .dataframe tbody tr th:only-of-type {\n",
       "        vertical-align: middle;\n",
       "    }\n",
       "\n",
       "    .dataframe tbody tr th {\n",
       "        vertical-align: top;\n",
       "    }\n",
       "\n",
       "    .dataframe thead th {\n",
       "        text-align: right;\n",
       "    }\n",
       "</style>\n",
       "<table border=\"1\" class=\"dataframe\">\n",
       "  <thead>\n",
       "    <tr style=\"text-align: right;\">\n",
       "      <th></th>\n",
       "      <th>10</th>\n",
       "      <th>11</th>\n",
       "      <th>12</th>\n",
       "      <th>13</th>\n",
       "      <th>14</th>\n",
       "      <th>15</th>\n",
       "      <th>16</th>\n",
       "      <th>17</th>\n",
       "      <th>18</th>\n",
       "      <th>19</th>\n",
       "      <th>...</th>\n",
       "      <th>with</th>\n",
       "      <th>withdrawal</th>\n",
       "      <th>wm</th>\n",
       "      <th>woodland</th>\n",
       "      <th>work</th>\n",
       "      <th>worth</th>\n",
       "      <th>xfer</th>\n",
       "      <th>york</th>\n",
       "      <th>youtube</th>\n",
       "      <th>zaxby</th>\n",
       "    </tr>\n",
       "  </thead>\n",
       "  <tbody>\n",
       "    <tr>\n",
       "      <th>0</th>\n",
       "      <td>$0.00</td>\n",
       "      <td>$0.00</td>\n",
       "      <td>$0.00</td>\n",
       "      <td>$0.00</td>\n",
       "      <td>$0.00</td>\n",
       "      <td>$0.00</td>\n",
       "      <td>$0.00</td>\n",
       "      <td>$0.00</td>\n",
       "      <td>$0.00</td>\n",
       "      <td>$0.00</td>\n",
       "      <td>...</td>\n",
       "      <td>$0.00</td>\n",
       "      <td>$0.00</td>\n",
       "      <td>$0.00</td>\n",
       "      <td>$0.00</td>\n",
       "      <td>$0.00</td>\n",
       "      <td>$0.00</td>\n",
       "      <td>$0.00</td>\n",
       "      <td>$0.00</td>\n",
       "      <td>$0.00</td>\n",
       "      <td>$0.00</td>\n",
       "    </tr>\n",
       "    <tr>\n",
       "      <th>1</th>\n",
       "      <td>$0.00</td>\n",
       "      <td>$0.00</td>\n",
       "      <td>$0.00</td>\n",
       "      <td>$0.00</td>\n",
       "      <td>$0.00</td>\n",
       "      <td>$0.00</td>\n",
       "      <td>$0.00</td>\n",
       "      <td>$0.00</td>\n",
       "      <td>$0.00</td>\n",
       "      <td>$0.00</td>\n",
       "      <td>...</td>\n",
       "      <td>$0.00</td>\n",
       "      <td>$0.00</td>\n",
       "      <td>$0.00</td>\n",
       "      <td>$0.00</td>\n",
       "      <td>$0.00</td>\n",
       "      <td>$0.00</td>\n",
       "      <td>$0.00</td>\n",
       "      <td>$0.00</td>\n",
       "      <td>$0.00</td>\n",
       "      <td>$0.00</td>\n",
       "    </tr>\n",
       "    <tr>\n",
       "      <th>2</th>\n",
       "      <td>$0.00</td>\n",
       "      <td>$0.00</td>\n",
       "      <td>$0.00</td>\n",
       "      <td>$0.00</td>\n",
       "      <td>$0.00</td>\n",
       "      <td>$0.00</td>\n",
       "      <td>$0.00</td>\n",
       "      <td>$0.00</td>\n",
       "      <td>$0.00</td>\n",
       "      <td>$0.00</td>\n",
       "      <td>...</td>\n",
       "      <td>$0.00</td>\n",
       "      <td>$0.00</td>\n",
       "      <td>$0.00</td>\n",
       "      <td>$0.00</td>\n",
       "      <td>$0.00</td>\n",
       "      <td>$0.00</td>\n",
       "      <td>$0.00</td>\n",
       "      <td>$0.00</td>\n",
       "      <td>$0.00</td>\n",
       "      <td>$0.00</td>\n",
       "    </tr>\n",
       "    <tr>\n",
       "      <th>3</th>\n",
       "      <td>$0.00</td>\n",
       "      <td>$0.00</td>\n",
       "      <td>$0.00</td>\n",
       "      <td>$0.00</td>\n",
       "      <td>$0.00</td>\n",
       "      <td>$0.00</td>\n",
       "      <td>$0.00</td>\n",
       "      <td>$0.00</td>\n",
       "      <td>$0.00</td>\n",
       "      <td>$0.00</td>\n",
       "      <td>...</td>\n",
       "      <td>$0.00</td>\n",
       "      <td>$0.00</td>\n",
       "      <td>$0.00</td>\n",
       "      <td>$0.00</td>\n",
       "      <td>$0.00</td>\n",
       "      <td>$0.00</td>\n",
       "      <td>$0.00</td>\n",
       "      <td>$0.00</td>\n",
       "      <td>$0.00</td>\n",
       "      <td>$0.00</td>\n",
       "    </tr>\n",
       "    <tr>\n",
       "      <th>4</th>\n",
       "      <td>$0.00</td>\n",
       "      <td>$0.00</td>\n",
       "      <td>$0.00</td>\n",
       "      <td>$0.00</td>\n",
       "      <td>$0.00</td>\n",
       "      <td>$0.00</td>\n",
       "      <td>$0.00</td>\n",
       "      <td>$0.00</td>\n",
       "      <td>$0.00</td>\n",
       "      <td>$0.00</td>\n",
       "      <td>...</td>\n",
       "      <td>$0.00</td>\n",
       "      <td>$0.00</td>\n",
       "      <td>$0.00</td>\n",
       "      <td>$0.00</td>\n",
       "      <td>$0.00</td>\n",
       "      <td>$0.00</td>\n",
       "      <td>$0.00</td>\n",
       "      <td>$0.00</td>\n",
       "      <td>$0.00</td>\n",
       "      <td>$0.00</td>\n",
       "    </tr>\n",
       "  </tbody>\n",
       "</table>\n",
       "<p>5 rows × 500 columns</p>\n",
       "</div>"
      ],
      "text/plain": [
       "     10    11    12    13    14    15    16    17    18    19  ...  with  \\\n",
       "0 $0.00 $0.00 $0.00 $0.00 $0.00 $0.00 $0.00 $0.00 $0.00 $0.00  ... $0.00   \n",
       "1 $0.00 $0.00 $0.00 $0.00 $0.00 $0.00 $0.00 $0.00 $0.00 $0.00  ... $0.00   \n",
       "2 $0.00 $0.00 $0.00 $0.00 $0.00 $0.00 $0.00 $0.00 $0.00 $0.00  ... $0.00   \n",
       "3 $0.00 $0.00 $0.00 $0.00 $0.00 $0.00 $0.00 $0.00 $0.00 $0.00  ... $0.00   \n",
       "4 $0.00 $0.00 $0.00 $0.00 $0.00 $0.00 $0.00 $0.00 $0.00 $0.00  ... $0.00   \n",
       "\n",
       "   withdrawal    wm  woodland  work  worth  xfer  york  youtube  zaxby  \n",
       "0       $0.00 $0.00     $0.00 $0.00  $0.00 $0.00 $0.00    $0.00  $0.00  \n",
       "1       $0.00 $0.00     $0.00 $0.00  $0.00 $0.00 $0.00    $0.00  $0.00  \n",
       "2       $0.00 $0.00     $0.00 $0.00  $0.00 $0.00 $0.00    $0.00  $0.00  \n",
       "3       $0.00 $0.00     $0.00 $0.00  $0.00 $0.00 $0.00    $0.00  $0.00  \n",
       "4       $0.00 $0.00     $0.00 $0.00  $0.00 $0.00 $0.00    $0.00  $0.00  \n",
       "\n",
       "[5 rows x 500 columns]"
      ]
     },
     "execution_count": 9,
     "metadata": {},
     "output_type": "execute_result"
    }
   ],
   "source": [
    "tfidf_df = pd.DataFrame(tfidf_matrix.toarray(), columns=vectorizer.get_feature_names_out())\n",
    "\n",
    "tfidf_df.head()"
   ]
  },
  {
   "cell_type": "code",
   "execution_count": 23,
   "id": "91a3b47e-2c71-4378-9aa1-84bc0b620805",
   "metadata": {},
   "outputs": [],
   "source": [
    "# outflows[outflows.category != outflows.memo].clean_memo.value_counts()"
   ]
  },
  {
   "cell_type": "code",
   "execution_count": null,
   "id": "4f2495ec-1574-4716-9566-5e8895c5c32d",
   "metadata": {},
   "outputs": [],
   "source": []
  },
  {
   "cell_type": "code",
   "execution_count": null,
   "id": "a61257c1-0af7-46fc-b313-066aabc309dc",
   "metadata": {},
   "outputs": [],
   "source": []
  },
  {
   "cell_type": "code",
   "execution_count": null,
   "id": "fd075fa0-8013-4a28-b21b-a3cd7bb44c43",
   "metadata": {},
   "outputs": [],
   "source": []
  },
  {
   "cell_type": "code",
   "execution_count": null,
   "id": "810cfad9-f597-4165-80ce-e681294dd2f1",
   "metadata": {},
   "outputs": [],
   "source": []
  },
  {
   "cell_type": "code",
   "execution_count": null,
   "id": "59059b30-c8e6-4042-bef4-1942eb3f1a2c",
   "metadata": {},
   "outputs": [],
   "source": []
  },
  {
   "cell_type": "code",
   "execution_count": null,
   "id": "436e7ebd-9f9c-4029-939e-0a29fe88a99f",
   "metadata": {},
   "outputs": [],
   "source": []
  },
  {
   "cell_type": "code",
   "execution_count": null,
   "id": "ee7b5c3f-a292-4704-ba8c-2c036531ab73",
   "metadata": {},
   "outputs": [],
   "source": []
  },
  {
   "cell_type": "code",
   "execution_count": null,
   "id": "efceac36-b026-40b3-9690-71f24a89f122",
   "metadata": {},
   "outputs": [],
   "source": []
  },
  {
   "cell_type": "code",
   "execution_count": null,
   "id": "89de9911-b07e-4dac-a93c-48fd76d7200f",
   "metadata": {},
   "outputs": [],
   "source": []
  },
  {
   "cell_type": "code",
   "execution_count": null,
   "id": "a05ec54f-ba4a-4710-b270-f89fc4d916ef",
   "metadata": {},
   "outputs": [],
   "source": []
  },
  {
   "cell_type": "code",
   "execution_count": null,
   "id": "08402a85-0096-4bde-88f9-d500ab1798e3",
   "metadata": {},
   "outputs": [],
   "source": []
  },
  {
   "cell_type": "code",
   "execution_count": null,
   "id": "97cee8c5-00b3-4837-81cb-6ec2ca124894",
   "metadata": {},
   "outputs": [],
   "source": []
  },
  {
   "cell_type": "code",
   "execution_count": null,
   "id": "1743a4b2-f3d3-49f1-9d4a-562b4aa52329",
   "metadata": {},
   "outputs": [],
   "source": []
  },
  {
   "cell_type": "code",
   "execution_count": null,
   "id": "3f64b630-2542-41cf-867b-456a308ecaeb",
   "metadata": {},
   "outputs": [],
   "source": []
  },
  {
   "cell_type": "code",
   "execution_count": null,
   "id": "a01c5f1e-3f23-4fb3-988d-4e14e37fcd39",
   "metadata": {},
   "outputs": [],
   "source": []
  },
  {
   "cell_type": "code",
   "execution_count": null,
   "id": "94defc41-537b-4fcc-b5fa-da3fe7b35826",
   "metadata": {},
   "outputs": [],
   "source": []
  },
  {
   "cell_type": "code",
   "execution_count": null,
   "id": "757d9578-886a-4966-a876-0000d3ca2b72",
   "metadata": {},
   "outputs": [],
   "source": []
  },
  {
   "cell_type": "code",
   "execution_count": null,
   "id": "59ad8934-9912-4c31-bc21-0d73247ee97c",
   "metadata": {},
   "outputs": [],
   "source": []
  },
  {
   "cell_type": "code",
   "execution_count": null,
   "id": "d192ccbe-ac9d-4a48-87a0-8b2bd593b61b",
   "metadata": {},
   "outputs": [],
   "source": []
  },
  {
   "cell_type": "code",
   "execution_count": null,
   "id": "e2886220-22de-49c7-ac6e-395fdf6a62bf",
   "metadata": {},
   "outputs": [],
   "source": []
  },
  {
   "cell_type": "code",
   "execution_count": null,
   "id": "cc8b32c6-748c-4759-8be0-d200446c2d71",
   "metadata": {},
   "outputs": [],
   "source": []
  }
 ],
 "metadata": {
  "kernelspec": {
   "display_name": "Python 3 (ipykernel)",
   "language": "python",
   "name": "python3"
  },
  "language_info": {
   "codemirror_mode": {
    "name": "ipython",
    "version": 3
   },
   "file_extension": ".py",
   "mimetype": "text/x-python",
   "name": "python",
   "nbconvert_exporter": "python",
   "pygments_lexer": "ipython3",
   "version": "3.11.9"
  }
 },
 "nbformat": 4,
 "nbformat_minor": 5
}
