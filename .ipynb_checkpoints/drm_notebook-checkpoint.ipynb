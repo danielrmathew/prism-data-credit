{
 "cells": [
  {
   "cell_type": "code",
   "execution_count": 1,
   "id": "85086790-f73c-4f11-b6b5-9f30020ee476",
   "metadata": {},
   "outputs": [],
   "source": [
    "import pandas as pd\n",
    "import numpy as np\n",
    "import matplotlib.pyplot as plt"
   ]
  },
  {
   "cell_type": "markdown",
   "id": "8b3c89ac-9dba-4073-8df8-178b0762e0ee",
   "metadata": {},
   "source": [
    "## Week 1"
   ]
  },
  {
   "cell_type": "code",
   "execution_count": 16,
   "id": "303033a3-6fd7-474b-b72f-aa1a18fd309d",
   "metadata": {
    "scrolled": true
   },
   "outputs": [],
   "source": [
    "# inflows = pd.read_parquet('data/ucsd-inflows.pqt')\n",
    "outflows = pd.read_parquet('data/ucsd-outflows.pqt')\n",
    "\n",
    "# display(inflows.head(), outflows.head())"
   ]
  },
  {
   "cell_type": "code",
   "execution_count": 17,
   "id": "995ae958-c7eb-4391-806a-5190bf98b0e4",
   "metadata": {},
   "outputs": [],
   "source": [
    "outflows.posted_date = pd.to_datetime(outflows.posted_date)"
   ]
  },
  {
   "cell_type": "markdown",
   "id": "791ccfba-cca6-43eb-a20e-b53dea55a13f",
   "metadata": {},
   "source": [
    "I create a subset of `outflows` that doesn't include rows where `memo == category` because these are the rows that we train our model on to predict `category`."
   ]
  },
  {
   "cell_type": "code",
   "execution_count": 18,
   "id": "ff58c9a1-2816-403c-b7f1-1a8265fb7d7b",
   "metadata": {
    "scrolled": true
   },
   "outputs": [
    {
     "data": {
      "text/html": [
       "<div>\n",
       "<style scoped>\n",
       "    .dataframe tbody tr th:only-of-type {\n",
       "        vertical-align: middle;\n",
       "    }\n",
       "\n",
       "    .dataframe tbody tr th {\n",
       "        vertical-align: top;\n",
       "    }\n",
       "\n",
       "    .dataframe thead th {\n",
       "        text-align: right;\n",
       "    }\n",
       "</style>\n",
       "<table border=\"1\" class=\"dataframe\">\n",
       "  <thead>\n",
       "    <tr style=\"text-align: right;\">\n",
       "      <th></th>\n",
       "      <th>prism_consumer_id</th>\n",
       "      <th>prism_account_id</th>\n",
       "      <th>memo</th>\n",
       "      <th>amount</th>\n",
       "      <th>posted_date</th>\n",
       "      <th>category</th>\n",
       "    </tr>\n",
       "  </thead>\n",
       "  <tbody>\n",
       "    <tr>\n",
       "      <th>0</th>\n",
       "      <td>0</td>\n",
       "      <td>acc_0</td>\n",
       "      <td>TST* Casa Del Rio - Exp Fairlawn OH 09/24</td>\n",
       "      <td>18.42</td>\n",
       "      <td>2022-09-26</td>\n",
       "      <td>FOOD_AND_BEVERAGES</td>\n",
       "    </tr>\n",
       "    <tr>\n",
       "      <th>1</th>\n",
       "      <td>0</td>\n",
       "      <td>acc_0</td>\n",
       "      <td>Buffalo Wild Wings</td>\n",
       "      <td>26.47</td>\n",
       "      <td>2022-09-12</td>\n",
       "      <td>FOOD_AND_BEVERAGES</td>\n",
       "    </tr>\n",
       "    <tr>\n",
       "      <th>2</th>\n",
       "      <td>0</td>\n",
       "      <td>acc_0</td>\n",
       "      <td>Oculus CA 04/16</td>\n",
       "      <td>11.73</td>\n",
       "      <td>2022-04-18</td>\n",
       "      <td>GENERAL_MERCHANDISE</td>\n",
       "    </tr>\n",
       "    <tr>\n",
       "      <th>3</th>\n",
       "      <td>0</td>\n",
       "      <td>acc_0</td>\n",
       "      <td>LOS GIRASOLES STOW OH 03/08</td>\n",
       "      <td>30.04</td>\n",
       "      <td>2022-03-09</td>\n",
       "      <td>FOOD_AND_BEVERAGES</td>\n",
       "    </tr>\n",
       "    <tr>\n",
       "      <th>4</th>\n",
       "      <td>0</td>\n",
       "      <td>acc_0</td>\n",
       "      <td>BUZZIS LAUNDRY 1 OH 03/28</td>\n",
       "      <td>4.16</td>\n",
       "      <td>2022-03-29</td>\n",
       "      <td>GENERAL_MERCHANDISE</td>\n",
       "    </tr>\n",
       "  </tbody>\n",
       "</table>\n",
       "</div>"
      ],
      "text/plain": [
       "   prism_consumer_id prism_account_id  \\\n",
       "0                  0            acc_0   \n",
       "1                  0            acc_0   \n",
       "2                  0            acc_0   \n",
       "3                  0            acc_0   \n",
       "4                  0            acc_0   \n",
       "\n",
       "                                        memo  amount posted_date  \\\n",
       "0  TST* Casa Del Rio - Exp Fairlawn OH 09/24   18.42  2022-09-26   \n",
       "1                         Buffalo Wild Wings   26.47  2022-09-12   \n",
       "2                            Oculus CA 04/16   11.73  2022-04-18   \n",
       "3                LOS GIRASOLES STOW OH 03/08   30.04  2022-03-09   \n",
       "4                  BUZZIS LAUNDRY 1 OH 03/28    4.16  2022-03-29   \n",
       "\n",
       "              category  \n",
       "0   FOOD_AND_BEVERAGES  \n",
       "1   FOOD_AND_BEVERAGES  \n",
       "2  GENERAL_MERCHANDISE  \n",
       "3   FOOD_AND_BEVERAGES  \n",
       "4  GENERAL_MERCHANDISE  "
      ]
     },
     "execution_count": 18,
     "metadata": {},
     "output_type": "execute_result"
    }
   ],
   "source": [
    "outflows_with_memo = outflows[~(outflows.memo == outflows.category)].reset_index().drop(columns='index')\n",
    "outflows_with_memo.head()"
   ]
  },
  {
   "cell_type": "markdown",
   "id": "a7ca93cf-a9db-4c1f-97fe-dd267aac5cbd",
   "metadata": {},
   "source": [
    "#### EDA"
   ]
  },
  {
   "cell_type": "code",
   "execution_count": null,
   "id": "923806bf-5649-4bc1-86e9-e8bdaf3a51e2",
   "metadata": {},
   "outputs": [],
   "source": []
  },
  {
   "cell_type": "code",
   "execution_count": null,
   "id": "060f5e03-02e5-4375-9534-b51db3047dc8",
   "metadata": {},
   "outputs": [],
   "source": []
  },
  {
   "cell_type": "code",
   "execution_count": null,
   "id": "5d4db69b-48fd-43ba-9b72-66eb1d671391",
   "metadata": {},
   "outputs": [],
   "source": []
  },
  {
   "cell_type": "markdown",
   "id": "dd8b7590-20eb-4a24-90fb-f2fcc7f79e10",
   "metadata": {},
   "source": [
    "## WEEK 2 - Train Test Split"
   ]
  },
  {
   "cell_type": "code",
   "execution_count": 5,
   "id": "61269160-ed58-42f4-8960-22f86433686b",
   "metadata": {},
   "outputs": [],
   "source": [
    "from sklearn.model_selection import train_test_split"
   ]
  },
  {
   "cell_type": "markdown",
   "id": "cb8fe866-1472-435e-8cf2-c5b70c2150a3",
   "metadata": {},
   "source": [
    "#### Sample by consumer instead of transaction to avoid sampling bias"
   ]
  },
  {
   "cell_type": "markdown",
   "id": "18f20a52-9cc0-4187-852b-b5568fbbb6b2",
   "metadata": {},
   "source": [
    "**From here on out, I only work with `outflows_with_memo` because that is the subset of the data we were told to work with.** This doesn't include rows where `memo == category`, and thereby includes rows that are pivotal to our prediction task."
   ]
  },
  {
   "cell_type": "code",
   "execution_count": 6,
   "id": "2dc1797a-c5e8-40be-88ae-7804db980a8e",
   "metadata": {},
   "outputs": [],
   "source": [
    "def dataset_split(dataset):\n",
    "    # get unique consumer ids\n",
    "    ids = dataset.prism_consumer_id.unique()\n",
    "    train_ids, test_ids = train_test_split(ids, test_size=0.25)\n",
    "\n",
    "    # split customer_ids into train and test sets\n",
    "    train = dataset[dataset['prism_consumer_id'].isin(train_ids)]\n",
    "    test = dataset[dataset['prism_consumer_id'].isin(test_ids)]\n",
    "\n",
    "    return train, test"
   ]
  },
  {
   "cell_type": "code",
   "execution_count": 7,
   "id": "7ea336d3-9400-4969-8d53-abaad86d280f",
   "metadata": {},
   "outputs": [],
   "source": [
    "outflows_memo_train, outflows_memo_test = dataset_split(outflows_with_memo)"
   ]
  },
  {
   "cell_type": "code",
   "execution_count": 8,
   "id": "2d92e167-131c-44a3-8562-d8fc04a2a871",
   "metadata": {},
   "outputs": [
    {
     "data": {
      "text/plain": [
       "((977160, 6), (329292, 6))"
      ]
     },
     "execution_count": 8,
     "metadata": {},
     "output_type": "execute_result"
    }
   ],
   "source": [
    "outflows_memo_train.shape, outflows_memo_test.shape"
   ]
  },
  {
   "cell_type": "markdown",
   "id": "44628dfd-033d-46d7-88d8-16faaa8fca23",
   "metadata": {},
   "source": [
    "For the subset of outflows that doesn't have the category given in the memo"
   ]
  },
  {
   "cell_type": "code",
   "execution_count": 9,
   "id": "38b4a45b-6894-4eb2-aae2-3b5bc6966b4e",
   "metadata": {},
   "outputs": [
    {
     "name": "stdout",
     "output_type": "stream",
     "text": [
      "# of unique IDS: 2952, # of unique train IDS: 2214, # of unique test IDS: 738\n"
     ]
    }
   ],
   "source": [
    "print(f'# of unique IDS: {len(outflows_with_memo.prism_consumer_id.unique())}, # of unique train IDS: {len(outflows_memo_train.prism_consumer_id.unique())}, # of unique test IDS: {len(outflows_memo_test.prism_consumer_id.unique())}')"
   ]
  },
  {
   "cell_type": "code",
   "execution_count": 10,
   "id": "0bd8d00f-9b3b-40a7-a302-6434c91126a1",
   "metadata": {},
   "outputs": [
    {
     "data": {
      "text/html": [
       "<div>\n",
       "<style scoped>\n",
       "    .dataframe tbody tr th:only-of-type {\n",
       "        vertical-align: middle;\n",
       "    }\n",
       "\n",
       "    .dataframe tbody tr th {\n",
       "        vertical-align: top;\n",
       "    }\n",
       "\n",
       "    .dataframe thead th {\n",
       "        text-align: right;\n",
       "    }\n",
       "</style>\n",
       "<table border=\"1\" class=\"dataframe\">\n",
       "  <thead>\n",
       "    <tr style=\"text-align: right;\">\n",
       "      <th></th>\n",
       "      <th>prism_consumer_id</th>\n",
       "      <th>amount</th>\n",
       "      <th>posted_date</th>\n",
       "    </tr>\n",
       "  </thead>\n",
       "  <tbody>\n",
       "    <tr>\n",
       "      <th>count</th>\n",
       "      <td>1306452.00000</td>\n",
       "      <td>1306452.00000</td>\n",
       "      <td>1306452.00000</td>\n",
       "    </tr>\n",
       "    <tr>\n",
       "      <th>mean</th>\n",
       "      <td>3182.59410</td>\n",
       "      <td>53.89793</td>\n",
       "      <td>.5f</td>\n",
       "    </tr>\n",
       "    <tr>\n",
       "      <th>min</th>\n",
       "      <td>0.00000</td>\n",
       "      <td>0.00000</td>\n",
       "      <td>.5f</td>\n",
       "    </tr>\n",
       "    <tr>\n",
       "      <th>25%</th>\n",
       "      <td>1501.00000</td>\n",
       "      <td>9.00000</td>\n",
       "      <td>.5f</td>\n",
       "    </tr>\n",
       "    <tr>\n",
       "      <th>50%</th>\n",
       "      <td>3421.00000</td>\n",
       "      <td>19.47000</td>\n",
       "      <td>.5f</td>\n",
       "    </tr>\n",
       "    <tr>\n",
       "      <th>75%</th>\n",
       "      <td>4787.00000</td>\n",
       "      <td>42.58000</td>\n",
       "      <td>.5f</td>\n",
       "    </tr>\n",
       "    <tr>\n",
       "      <th>max</th>\n",
       "      <td>5943.00000</td>\n",
       "      <td>280171.35000</td>\n",
       "      <td>.5f</td>\n",
       "    </tr>\n",
       "    <tr>\n",
       "      <th>std</th>\n",
       "      <td>1801.11219</td>\n",
       "      <td>635.18547</td>\n",
       "      <td>nan</td>\n",
       "    </tr>\n",
       "  </tbody>\n",
       "</table>\n",
       "</div>"
      ],
      "text/plain": [
       "      prism_consumer_id         amount    posted_date\n",
       "count     1306452.00000  1306452.00000  1306452.00000\n",
       "mean         3182.59410       53.89793            .5f\n",
       "min             0.00000        0.00000            .5f\n",
       "25%          1501.00000        9.00000            .5f\n",
       "50%          3421.00000       19.47000            .5f\n",
       "75%          4787.00000       42.58000            .5f\n",
       "max          5943.00000   280171.35000            .5f\n",
       "std          1801.11219      635.18547            nan"
      ]
     },
     "execution_count": 10,
     "metadata": {},
     "output_type": "execute_result"
    }
   ],
   "source": [
    "outflows_with_memo.describe().apply(lambda s: s.apply('{0:.5f}'.format))"
   ]
  },
  {
   "cell_type": "code",
   "execution_count": 11,
   "id": "8e480aff-f673-4f8a-af5c-1d792aa72648",
   "metadata": {},
   "outputs": [
    {
     "data": {
      "text/html": [
       "<div>\n",
       "<style scoped>\n",
       "    .dataframe tbody tr th:only-of-type {\n",
       "        vertical-align: middle;\n",
       "    }\n",
       "\n",
       "    .dataframe tbody tr th {\n",
       "        vertical-align: top;\n",
       "    }\n",
       "\n",
       "    .dataframe thead th {\n",
       "        text-align: right;\n",
       "    }\n",
       "</style>\n",
       "<table border=\"1\" class=\"dataframe\">\n",
       "  <thead>\n",
       "    <tr style=\"text-align: right;\">\n",
       "      <th></th>\n",
       "      <th>prism_consumer_id</th>\n",
       "      <th>amount</th>\n",
       "      <th>posted_date</th>\n",
       "    </tr>\n",
       "  </thead>\n",
       "  <tbody>\n",
       "    <tr>\n",
       "      <th>count</th>\n",
       "      <td>977160.00000</td>\n",
       "      <td>977160.00000</td>\n",
       "      <td>977160.00000</td>\n",
       "    </tr>\n",
       "    <tr>\n",
       "      <th>mean</th>\n",
       "      <td>3187.75722</td>\n",
       "      <td>55.39231</td>\n",
       "      <td>.5f</td>\n",
       "    </tr>\n",
       "    <tr>\n",
       "      <th>min</th>\n",
       "      <td>0.00000</td>\n",
       "      <td>0.00000</td>\n",
       "      <td>.5f</td>\n",
       "    </tr>\n",
       "    <tr>\n",
       "      <th>25%</th>\n",
       "      <td>1420.00000</td>\n",
       "      <td>8.97000</td>\n",
       "      <td>.5f</td>\n",
       "    </tr>\n",
       "    <tr>\n",
       "      <th>50%</th>\n",
       "      <td>3442.00000</td>\n",
       "      <td>19.30000</td>\n",
       "      <td>.5f</td>\n",
       "    </tr>\n",
       "    <tr>\n",
       "      <th>75%</th>\n",
       "      <td>4849.00000</td>\n",
       "      <td>42.39000</td>\n",
       "      <td>.5f</td>\n",
       "    </tr>\n",
       "    <tr>\n",
       "      <th>max</th>\n",
       "      <td>5940.00000</td>\n",
       "      <td>280171.35000</td>\n",
       "      <td>.5f</td>\n",
       "    </tr>\n",
       "    <tr>\n",
       "      <th>std</th>\n",
       "      <td>1840.43063</td>\n",
       "      <td>721.08642</td>\n",
       "      <td>nan</td>\n",
       "    </tr>\n",
       "  </tbody>\n",
       "</table>\n",
       "</div>"
      ],
      "text/plain": [
       "      prism_consumer_id        amount   posted_date\n",
       "count      977160.00000  977160.00000  977160.00000\n",
       "mean         3187.75722      55.39231           .5f\n",
       "min             0.00000       0.00000           .5f\n",
       "25%          1420.00000       8.97000           .5f\n",
       "50%          3442.00000      19.30000           .5f\n",
       "75%          4849.00000      42.39000           .5f\n",
       "max          5940.00000  280171.35000           .5f\n",
       "std          1840.43063     721.08642           nan"
      ]
     },
     "execution_count": 11,
     "metadata": {},
     "output_type": "execute_result"
    }
   ],
   "source": [
    "outflows_memo_train.describe().apply(lambda s: s.apply('{0:.5f}'.format))"
   ]
  },
  {
   "cell_type": "code",
   "execution_count": 12,
   "id": "1c5773cf-8147-4b21-99bd-8a0db4d410bc",
   "metadata": {},
   "outputs": [
    {
     "data": {
      "text/html": [
       "<div>\n",
       "<style scoped>\n",
       "    .dataframe tbody tr th:only-of-type {\n",
       "        vertical-align: middle;\n",
       "    }\n",
       "\n",
       "    .dataframe tbody tr th {\n",
       "        vertical-align: top;\n",
       "    }\n",
       "\n",
       "    .dataframe thead th {\n",
       "        text-align: right;\n",
       "    }\n",
       "</style>\n",
       "<table border=\"1\" class=\"dataframe\">\n",
       "  <thead>\n",
       "    <tr style=\"text-align: right;\">\n",
       "      <th></th>\n",
       "      <th>prism_consumer_id</th>\n",
       "      <th>amount</th>\n",
       "      <th>posted_date</th>\n",
       "    </tr>\n",
       "  </thead>\n",
       "  <tbody>\n",
       "    <tr>\n",
       "      <th>count</th>\n",
       "      <td>329292.00000</td>\n",
       "      <td>329292.00000</td>\n",
       "      <td>329292.00000</td>\n",
       "    </tr>\n",
       "    <tr>\n",
       "      <th>mean</th>\n",
       "      <td>3167.27275</td>\n",
       "      <td>49.46343</td>\n",
       "      <td>.5f</td>\n",
       "    </tr>\n",
       "    <tr>\n",
       "      <th>min</th>\n",
       "      <td>13.00000</td>\n",
       "      <td>0.00000</td>\n",
       "      <td>.5f</td>\n",
       "    </tr>\n",
       "    <tr>\n",
       "      <th>25%</th>\n",
       "      <td>1672.00000</td>\n",
       "      <td>9.41750</td>\n",
       "      <td>.5f</td>\n",
       "    </tr>\n",
       "    <tr>\n",
       "      <th>50%</th>\n",
       "      <td>3377.00000</td>\n",
       "      <td>19.98000</td>\n",
       "      <td>.5f</td>\n",
       "    </tr>\n",
       "    <tr>\n",
       "      <th>75%</th>\n",
       "      <td>4585.00000</td>\n",
       "      <td>43.04000</td>\n",
       "      <td>.5f</td>\n",
       "    </tr>\n",
       "    <tr>\n",
       "      <th>max</th>\n",
       "      <td>5943.00000</td>\n",
       "      <td>58296.18000</td>\n",
       "      <td>.5f</td>\n",
       "    </tr>\n",
       "    <tr>\n",
       "      <th>std</th>\n",
       "      <td>1678.93428</td>\n",
       "      <td>240.23129</td>\n",
       "      <td>nan</td>\n",
       "    </tr>\n",
       "  </tbody>\n",
       "</table>\n",
       "</div>"
      ],
      "text/plain": [
       "      prism_consumer_id        amount   posted_date\n",
       "count      329292.00000  329292.00000  329292.00000\n",
       "mean         3167.27275      49.46343           .5f\n",
       "min            13.00000       0.00000           .5f\n",
       "25%          1672.00000       9.41750           .5f\n",
       "50%          3377.00000      19.98000           .5f\n",
       "75%          4585.00000      43.04000           .5f\n",
       "max          5943.00000   58296.18000           .5f\n",
       "std          1678.93428     240.23129           nan"
      ]
     },
     "execution_count": 12,
     "metadata": {},
     "output_type": "execute_result"
    }
   ],
   "source": [
    "outflows_memo_test.describe().apply(lambda s: s.apply('{0:.5f}'.format))"
   ]
  },
  {
   "cell_type": "markdown",
   "id": "21459ddf-2bd8-43b6-b404-a34f7aeab433",
   "metadata": {},
   "source": [
    "#### TODO include statistical tests to ensure distributions are similar"
   ]
  },
  {
   "cell_type": "code",
   "execution_count": null,
   "id": "da63e441-92b2-4480-b842-640c94268e5b",
   "metadata": {},
   "outputs": [],
   "source": []
  },
  {
   "cell_type": "code",
   "execution_count": null,
   "id": "1ea38d47-6cc1-44b5-aa03-679ee2bb8eba",
   "metadata": {},
   "outputs": [],
   "source": []
  },
  {
   "cell_type": "code",
   "execution_count": null,
   "id": "cb9f3145-1012-4aa7-a162-a8c90f8afca6",
   "metadata": {},
   "outputs": [],
   "source": []
  },
  {
   "cell_type": "markdown",
   "id": "71efded3-6f85-4ac3-9700-99251bd4d8cb",
   "metadata": {},
   "source": [
    "## WEEK 3 - Memo Cleaning"
   ]
  },
  {
   "cell_type": "code",
   "execution_count": 13,
   "id": "699ba22b-8a21-4cea-8651-a5194cd88775",
   "metadata": {},
   "outputs": [
    {
     "data": {
      "text/html": [
       "<div>\n",
       "<style scoped>\n",
       "    .dataframe tbody tr th:only-of-type {\n",
       "        vertical-align: middle;\n",
       "    }\n",
       "\n",
       "    .dataframe tbody tr th {\n",
       "        vertical-align: top;\n",
       "    }\n",
       "\n",
       "    .dataframe thead th {\n",
       "        text-align: right;\n",
       "    }\n",
       "</style>\n",
       "<table border=\"1\" class=\"dataframe\">\n",
       "  <thead>\n",
       "    <tr style=\"text-align: right;\">\n",
       "      <th></th>\n",
       "      <th>prism_consumer_id</th>\n",
       "      <th>prism_account_id</th>\n",
       "      <th>memo</th>\n",
       "      <th>amount</th>\n",
       "      <th>posted_date</th>\n",
       "      <th>category</th>\n",
       "    </tr>\n",
       "  </thead>\n",
       "  <tbody>\n",
       "    <tr>\n",
       "      <th>0</th>\n",
       "      <td>0</td>\n",
       "      <td>acc_0</td>\n",
       "      <td>TST* Casa Del Rio - Exp Fairlawn OH 09/24</td>\n",
       "      <td>18.42</td>\n",
       "      <td>2022-09-26</td>\n",
       "      <td>FOOD_AND_BEVERAGES</td>\n",
       "    </tr>\n",
       "    <tr>\n",
       "      <th>1</th>\n",
       "      <td>0</td>\n",
       "      <td>acc_0</td>\n",
       "      <td>Buffalo Wild Wings</td>\n",
       "      <td>26.47</td>\n",
       "      <td>2022-09-12</td>\n",
       "      <td>FOOD_AND_BEVERAGES</td>\n",
       "    </tr>\n",
       "    <tr>\n",
       "      <th>2</th>\n",
       "      <td>0</td>\n",
       "      <td>acc_0</td>\n",
       "      <td>Oculus CA 04/16</td>\n",
       "      <td>11.73</td>\n",
       "      <td>2022-04-18</td>\n",
       "      <td>GENERAL_MERCHANDISE</td>\n",
       "    </tr>\n",
       "    <tr>\n",
       "      <th>3</th>\n",
       "      <td>0</td>\n",
       "      <td>acc_0</td>\n",
       "      <td>LOS GIRASOLES STOW OH 03/08</td>\n",
       "      <td>30.04</td>\n",
       "      <td>2022-03-09</td>\n",
       "      <td>FOOD_AND_BEVERAGES</td>\n",
       "    </tr>\n",
       "    <tr>\n",
       "      <th>4</th>\n",
       "      <td>0</td>\n",
       "      <td>acc_0</td>\n",
       "      <td>BUZZIS LAUNDRY 1 OH 03/28</td>\n",
       "      <td>4.16</td>\n",
       "      <td>2022-03-29</td>\n",
       "      <td>GENERAL_MERCHANDISE</td>\n",
       "    </tr>\n",
       "  </tbody>\n",
       "</table>\n",
       "</div>"
      ],
      "text/plain": [
       "   prism_consumer_id prism_account_id  \\\n",
       "0                  0            acc_0   \n",
       "1                  0            acc_0   \n",
       "2                  0            acc_0   \n",
       "3                  0            acc_0   \n",
       "4                  0            acc_0   \n",
       "\n",
       "                                        memo  amount posted_date  \\\n",
       "0  TST* Casa Del Rio - Exp Fairlawn OH 09/24   18.42  2022-09-26   \n",
       "1                         Buffalo Wild Wings   26.47  2022-09-12   \n",
       "2                            Oculus CA 04/16   11.73  2022-04-18   \n",
       "3                LOS GIRASOLES STOW OH 03/08   30.04  2022-03-09   \n",
       "4                  BUZZIS LAUNDRY 1 OH 03/28    4.16  2022-03-29   \n",
       "\n",
       "              category  \n",
       "0   FOOD_AND_BEVERAGES  \n",
       "1   FOOD_AND_BEVERAGES  \n",
       "2  GENERAL_MERCHANDISE  \n",
       "3   FOOD_AND_BEVERAGES  \n",
       "4  GENERAL_MERCHANDISE  "
      ]
     },
     "execution_count": 13,
     "metadata": {},
     "output_type": "execute_result"
    }
   ],
   "source": [
    "outflows_with_memo.head()"
   ]
  },
  {
   "cell_type": "markdown",
   "id": "86631e42-1db7-42fd-9f4a-e152912a3c33",
   "metadata": {},
   "source": [
    "#### Memo cleaning steps:\n",
    "- did more complex preprocessing first \n",
    "    - lemmatizer? (might not be good for this because it could stem words it shouldn't\n",
    "    - same thing for stop words\n",
    "    - remove dates (regex search mm/yy) and location addresses\n",
    "    - get rid of email addresses -- TODO \n",
    "    - trans 1 @ $1.00 -- TODO\n",
    "- simple preprocessing\n",
    "    - lowercase \n",
    "    - remove punctuation (,-*#_')\n",
    "    - remove XXXX, even amount of X's\n",
    "    - remove purchase authorized on\n",
    "    - remove purchase, checkcard\n",
    "- should not preprocess memos that are the same category"
   ]
  },
  {
   "cell_type": "code",
   "execution_count": 14,
   "id": "4b457b57-8e56-4fc6-a360-c269433100d0",
   "metadata": {
    "scrolled": true
   },
   "outputs": [],
   "source": [
    "# memos[memos.str.contains('@')].values[:1000]"
   ]
  },
  {
   "cell_type": "code",
   "execution_count": 15,
   "id": "113070f9-e8ca-490d-8898-fb52e44b1123",
   "metadata": {
    "scrolled": true
   },
   "outputs": [],
   "source": [
    "# # looking at \n",
    "# test = memos.str.replace(r'trans \\d+ @ \\$\\d+\\.\\d{2}', 'testing', regex=True)\n",
    "# test[(test.str.contains('@'))].values[:1000]"
   ]
  },
  {
   "cell_type": "code",
   "execution_count": 16,
   "id": "c24f1b2a-5d9e-42fe-85e3-9c7a38e07ecd",
   "metadata": {
    "scrolled": true
   },
   "outputs": [],
   "source": [
    "# memos[(memos.str.contains('@'))].values[:1000]"
   ]
  },
  {
   "cell_type": "code",
   "execution_count": 19,
   "id": "9771c072-6aa0-4419-a1d3-bac53e177a8e",
   "metadata": {},
   "outputs": [],
   "source": [
    "def clean_memos(dataset):\n",
    "    memos = dataset.memo\n",
    "    pattern1 = r'\\b\\w*x{2,}\\w*\\b'\n",
    "    pattern2 = r'\\b(0[1-9]|1[0-2])(\\/|-)[0-9]{2}\\b'\n",
    "    pattern3 = r\"[,'*#_-]\"\n",
    "\n",
    "    cleaned_memos = (\n",
    "        memos.str.lower()\n",
    "            .str.replace(pattern1, '', regex=True)                   # removing XXXX                        \n",
    "            .str.replace(pattern2, '', regex=True)                   # removing dates\n",
    "            .str.replace(pattern3, '', regex=True)                   # removing unnecessary special characters\n",
    "            .str.replace(r'~', '', regex=True)                       # removing ~ (can't include in character class above)\n",
    "            .str.replace('purchase.* authorized on', '', regex=True) # removing common phrase\n",
    "            .str.replace('checkcard', '')                            # removing common phrase\n",
    "            .str.strip()                                             # removing leading and trailing characters\n",
    "    )\n",
    "\n",
    "    cleaned_memos = cleaned_memos.reset_index().drop(columns='index').squeeze()\n",
    "    dataset['cleaned_memo'] = cleaned_memos\n",
    "\n",
    "    return dataset"
   ]
  },
  {
   "cell_type": "code",
   "execution_count": 20,
   "id": "c3a7889d-2fc5-446a-93d2-70510ed63ab0",
   "metadata": {},
   "outputs": [],
   "source": [
    "outflows_with_memo = clean_memos(outflows_with_memo)"
   ]
  },
  {
   "cell_type": "code",
   "execution_count": 21,
   "id": "a0066e29-db03-41d8-86a5-6e216a311e62",
   "metadata": {},
   "outputs": [],
   "source": [
    "memos = outflows_with_memo.memo\n",
    "cleaned_memos = outflows_with_memo.cleaned_memo"
   ]
  },
  {
   "cell_type": "code",
   "execution_count": 22,
   "id": "f1fe05e5-ab7f-4309-9fec-49bb3ba7d519",
   "metadata": {},
   "outputs": [
    {
     "data": {
      "text/plain": [
       "(528766, 307409)"
      ]
     },
     "execution_count": 22,
     "metadata": {},
     "output_type": "execute_result"
    }
   ],
   "source": [
    "memos.unique().__len__(), cleaned_memos.unique().__len__(), "
   ]
  },
  {
   "cell_type": "code",
   "execution_count": 11,
   "id": "4d875387-da7c-42c4-a2ce-5601e2ca11dc",
   "metadata": {},
   "outputs": [],
   "source": [
    "memos_counts = memos.value_counts()\n",
    "cleaned_memos_counts = cleaned_memos.value_counts()"
   ]
  },
  {
   "cell_type": "code",
   "execution_count": 12,
   "id": "ee698c2d-e638-4036-831e-b8692fe655ee",
   "metadata": {},
   "outputs": [
    {
     "data": {
      "text/plain": [
       "memo\n",
       "Amazon                                                                               31725\n",
       "Walmart                                                                              31619\n",
       "McDonald's                                                                           22670\n",
       "Starbucks                                                                            12777\n",
       "7-Eleven                                                                             11675\n",
       "                                                                                     ...  \n",
       "Doordash Kazu Sushi Bu                                                                   1\n",
       "Par Gators Dockside -                                                                    1\n",
       "Chilis Mandarin                                                                          1\n",
       "Chilis Bay Meadows                                                                       1\n",
       "POS WITHDRAWALWAL-MART #XXXX XXXX E MCKELLIPS RD MESA AZ  Card 15 #XXXX  MCC XXXX        1\n",
       "Name: count, Length: 528766, dtype: int64"
      ]
     },
     "execution_count": 12,
     "metadata": {},
     "output_type": "execute_result"
    }
   ],
   "source": [
    "memos_counts"
   ]
  },
  {
   "cell_type": "code",
   "execution_count": 23,
   "id": "529edb0f-dccb-4e97-82f6-197c9225d21c",
   "metadata": {
    "scrolled": true
   },
   "outputs": [
    {
     "data": {
      "text/plain": [
       "cleaned_memo\n",
       "walmart                                                                                             32099\n",
       "amazon                                                                                              31737\n",
       "mcdonalds                                                                                           27598\n",
       "starbucks                                                                                           12823\n",
       "7eleven                                                                                             11821\n",
       "                                                                                                    ...  \n",
       "pos withdrawalarco  ampm  n 19th us phoenix az  card 15   mcc                                           1\n",
       "debit card withdrawal purchaseamzn mktp ussp67x25a3 amzn.com/bill wa date /23 purch   card 15 34        1\n",
       "debit card withdrawal purchaseaudible amzn.com/bill nj date /23 purch   card 15  %                      1\n",
       "debit card withdrawal purchasejack in the box  mesa az date /23 purch   card 15   mcc                   1\n",
       "debit card withdrawal purchaseamazon primeti40l27r3 amzn.com/bill wa date /23 purch   card 15 34        1\n",
       "Name: count, Length: 307409, dtype: int64"
      ]
     },
     "execution_count": 23,
     "metadata": {},
     "output_type": "execute_result"
    }
   ],
   "source": [
    "cleaned_memos_counts"
   ]
  },
  {
   "cell_type": "code",
   "execution_count": 24,
   "id": "15af6af0-df37-453a-a8a1-dc87d9a4dc11",
   "metadata": {},
   "outputs": [
    {
     "data": {
      "image/png": "[encoded data removed]",
      "text/plain": [
       "<Figure size 640x480 with 1 Axes>"
      ]
     },
     "metadata": {},
     "output_type": "display_data"
    }
   ],
   "source": [
    "plt.hist(memos_counts[memos_counts < 5])\n",
    "plt.show()"
   ]
  },
  {
   "cell_type": "code",
   "execution_count": 25,
   "id": "0724dc90-a421-4e29-afe1-91370f15403a",
   "metadata": {},
   "outputs": [
    {
     "data": {
      "text/plain": [
       "443287"
      ]
     },
     "execution_count": 25,
     "metadata": {},
     "output_type": "execute_result"
    }
   ],
   "source": [
    "(memos_counts == 1).sum()"
   ]
  },
  {
   "cell_type": "code",
   "execution_count": 26,
   "id": "ba6b102b-5071-4c48-97e0-392ea5149318",
   "metadata": {},
   "outputs": [
    {
     "data": {
      "image/png": "[encoded data removed]",
      "text/plain": [
       "<Figure size 640x480 with 1 Axes>"
      ]
     },
     "metadata": {},
     "output_type": "display_data"
    }
   ],
   "source": [
    "plt.hist(cleaned_memos_counts[cleaned_memos_counts < 5])\n",
    "plt.show()"
   ]
  },
  {
   "cell_type": "code",
   "execution_count": 27,
   "id": "7a110318-1bc4-428d-aa70-10ef7e0ce924",
   "metadata": {},
   "outputs": [
    {
     "data": {
      "text/plain": [
       "214737"
      ]
     },
     "execution_count": 27,
     "metadata": {},
     "output_type": "execute_result"
    }
   ],
   "source": [
    "(cleaned_memos_counts == 1).sum()"
   ]
  },
  {
   "cell_type": "markdown",
   "id": "dbe510d5-c8d8-4787-8e47-30ad654b23d3",
   "metadata": {},
   "source": [
    "## Week 4"
   ]
  },
  {
   "cell_type": "code",
   "execution_count": 28,
   "id": "6a86dd9b-f25f-4571-9864-934c2165aa40",
   "metadata": {},
   "outputs": [
    {
     "data": {
      "text/html": [
       "<div>\n",
       "<style scoped>\n",
       "    .dataframe tbody tr th:only-of-type {\n",
       "        vertical-align: middle;\n",
       "    }\n",
       "\n",
       "    .dataframe tbody tr th {\n",
       "        vertical-align: top;\n",
       "    }\n",
       "\n",
       "    .dataframe thead th {\n",
       "        text-align: right;\n",
       "    }\n",
       "</style>\n",
       "<table border=\"1\" class=\"dataframe\">\n",
       "  <thead>\n",
       "    <tr style=\"text-align: right;\">\n",
       "      <th></th>\n",
       "      <th>prism_consumer_id</th>\n",
       "      <th>prism_account_id</th>\n",
       "      <th>memo</th>\n",
       "      <th>amount</th>\n",
       "      <th>posted_date</th>\n",
       "      <th>category</th>\n",
       "      <th>cleaned_memo</th>\n",
       "    </tr>\n",
       "  </thead>\n",
       "  <tbody>\n",
       "    <tr>\n",
       "      <th>0</th>\n",
       "      <td>0</td>\n",
       "      <td>acc_0</td>\n",
       "      <td>TST* Casa Del Rio - Exp Fairlawn OH 09/24</td>\n",
       "      <td>18.42</td>\n",
       "      <td>2022-09-26</td>\n",
       "      <td>FOOD_AND_BEVERAGES</td>\n",
       "      <td>tst casa del rio  exp fairlawn oh</td>\n",
       "    </tr>\n",
       "    <tr>\n",
       "      <th>1</th>\n",
       "      <td>0</td>\n",
       "      <td>acc_0</td>\n",
       "      <td>Buffalo Wild Wings</td>\n",
       "      <td>26.47</td>\n",
       "      <td>2022-09-12</td>\n",
       "      <td>FOOD_AND_BEVERAGES</td>\n",
       "      <td>buffalo wild wings</td>\n",
       "    </tr>\n",
       "    <tr>\n",
       "      <th>2</th>\n",
       "      <td>0</td>\n",
       "      <td>acc_0</td>\n",
       "      <td>Oculus CA 04/16</td>\n",
       "      <td>11.73</td>\n",
       "      <td>2022-04-18</td>\n",
       "      <td>GENERAL_MERCHANDISE</td>\n",
       "      <td>oculus ca</td>\n",
       "    </tr>\n",
       "    <tr>\n",
       "      <th>3</th>\n",
       "      <td>0</td>\n",
       "      <td>acc_0</td>\n",
       "      <td>LOS GIRASOLES STOW OH 03/08</td>\n",
       "      <td>30.04</td>\n",
       "      <td>2022-03-09</td>\n",
       "      <td>FOOD_AND_BEVERAGES</td>\n",
       "      <td>los girasoles stow oh</td>\n",
       "    </tr>\n",
       "    <tr>\n",
       "      <th>4</th>\n",
       "      <td>0</td>\n",
       "      <td>acc_0</td>\n",
       "      <td>BUZZIS LAUNDRY 1 OH 03/28</td>\n",
       "      <td>4.16</td>\n",
       "      <td>2022-03-29</td>\n",
       "      <td>GENERAL_MERCHANDISE</td>\n",
       "      <td>buzzis laundry 1 oh</td>\n",
       "    </tr>\n",
       "  </tbody>\n",
       "</table>\n",
       "</div>"
      ],
      "text/plain": [
       "   prism_consumer_id prism_account_id  \\\n",
       "0                  0            acc_0   \n",
       "1                  0            acc_0   \n",
       "2                  0            acc_0   \n",
       "3                  0            acc_0   \n",
       "4                  0            acc_0   \n",
       "\n",
       "                                        memo  amount posted_date  \\\n",
       "0  TST* Casa Del Rio - Exp Fairlawn OH 09/24   18.42  2022-09-26   \n",
       "1                         Buffalo Wild Wings   26.47  2022-09-12   \n",
       "2                            Oculus CA 04/16   11.73  2022-04-18   \n",
       "3                LOS GIRASOLES STOW OH 03/08   30.04  2022-03-09   \n",
       "4                  BUZZIS LAUNDRY 1 OH 03/28    4.16  2022-03-29   \n",
       "\n",
       "              category                       cleaned_memo  \n",
       "0   FOOD_AND_BEVERAGES  tst casa del rio  exp fairlawn oh  \n",
       "1   FOOD_AND_BEVERAGES                 buffalo wild wings  \n",
       "2  GENERAL_MERCHANDISE                          oculus ca  \n",
       "3   FOOD_AND_BEVERAGES              los girasoles stow oh  \n",
       "4  GENERAL_MERCHANDISE                buzzis laundry 1 oh  "
      ]
     },
     "execution_count": 28,
     "metadata": {},
     "output_type": "execute_result"
    }
   ],
   "source": [
    "outflows_with_memo.head()"
   ]
  },
  {
   "cell_type": "markdown",
   "id": "6488c8ca-9597-4191-a434-fbdc2bd60e10",
   "metadata": {},
   "source": [
    "### Creating Features"
   ]
  },
  {
   "cell_type": "markdown",
   "id": "854b6cf2-ee55-4c4e-b1e6-bef8df39f160",
   "metadata": {},
   "source": [
    "#### TF-IDF"
   ]
  },
  {
   "cell_type": "code",
   "execution_count": 29,
   "id": "310f2e11-d38b-4cc6-9824-988f7a076371",
   "metadata": {},
   "outputs": [],
   "source": [
    "from sklearn.feature_extraction.text import TfidfVectorizer"
   ]
  },
  {
   "cell_type": "code",
   "execution_count": 30,
   "id": "dd2c70cd-f2c9-4617-9282-1ffe25237de9",
   "metadata": {},
   "outputs": [],
   "source": [
    "def get_tfidf_features(dataset, max_features):\n",
    "    cleaned_memos = dataset.cleaned_memo\n",
    "    vectorizer = TfidfVectorizer(max_features=max_features)\n",
    "    tfidf = vectorizer.fit_transform(cleaned_memos)\n",
    "    \n",
    "    tfidf_df = pd.DataFrame.sparse.from_spmatrix(tfidf)\n",
    "    tfidf_df.columns = 'tfidf_' + vectorizer.get_feature_names_out()\n",
    "    \n",
    "    return tfidf_df"
   ]
  },
  {
   "cell_type": "markdown",
   "id": "39e00412-b333-40b0-886f-9f59ff814874",
   "metadata": {},
   "source": [
    "#### Dates and Amounts"
   ]
  },
  {
   "cell_type": "markdown",
   "id": "e3a21fda-82b6-4d4c-a48b-c67351905de1",
   "metadata": {},
   "source": [
    "**Date Features**\n",
    "- month of year -- charges change by month (increase in food_and_beverages in summer, general_merchandise during holidays, travel)\n",
    "- day of week -- charges change by day (weekend may see more food spending, weekday for groceries)\n",
    "- day of month -- beginning of month charges (rent) vs middle of month charges (utilities) vs end of month (credit card?)"
   ]
  },
  {
   "cell_type": "code",
   "execution_count": 31,
   "id": "12715e10-613c-4f88-9cb1-3603b568b089",
   "metadata": {},
   "outputs": [],
   "source": [
    "from sklearn.preprocessing import OneHotEncoder"
   ]
  },
  {
   "cell_type": "code",
   "execution_count": 32,
   "id": "6f7bddd2-b9e6-48a4-8731-383d6d43fe2d",
   "metadata": {},
   "outputs": [],
   "source": [
    "def get_date_features(dataset):\n",
    "    posted_date = dataset.posted_date\n",
    "    date_features = pd.DataFrame()\n",
    "    \n",
    "    date_features['month'] = 'month_' + posted_date.dt.month.astype(str)\n",
    "    date_features['weekday'] = 'weekday_' + posted_date.dt.weekday.astype(str)\n",
    "    date_features['day_of_month'] = 'day_of_month_' + posted_date.dt.day.astype(str)\n",
    "\n",
    "    date_enc = OneHotEncoder(drop='first', handle_unknown='ignore')\n",
    "    date_one_hot = date_enc.fit_transform(date_features)\n",
    "\n",
    "    date_columns = np.concatenate([feature[1:] for feature in date_enc.categories_])\n",
    "    date_one_hot_df = pd.DataFrame.sparse.from_spmatrix(date_one_hot, columns=date_columns)\n",
    "\n",
    "    return date_one_hot_df"
   ]
  },
  {
   "cell_type": "markdown",
   "id": "5fbb219a-7252-47a8-9bce-e42dbca4a5ba",
   "metadata": {},
   "source": [
    "**Amount Features**\n",
    "- is even amount (x.00)\n",
    "- bin the amounts based on size\n",
    "    - potentially by category as well?"
   ]
  },
  {
   "cell_type": "code",
   "execution_count": 33,
   "id": "4ca127fc-687e-4b63-9261-1b36ced1d756",
   "metadata": {},
   "outputs": [],
   "source": [
    "def get_amount_features(dataset):\n",
    "    amount = dataset.amount\n",
    "\n",
    "    amount_features = pd.DataFrame()\n",
    "    amount_features['is_even'] = amount.apply(lambda x: 'amount_even' if x % 1 == 0 else 'amount_odd')\n",
    "    amount_features['decile_amounts'] = pd.qcut(amount, q=10, labels=['decile_0', 'decile_1', 'decile_2', 'decile_3', 'decile_4', 'decile_5', 'decile_6', 'decile_7', 'decile_8', 'decile_9'])\n",
    "\n",
    "    amount_enc = OneHotEncoder(drop='first', handle_unknown='ignore')\n",
    "    amount_one_hot = amount_enc.fit_transform(amount_features)\n",
    "\n",
    "    amount_columns = np.concatenate([feature[1:] for feature in amount_enc.categories_])\n",
    "    amount_one_hot_df = pd.DataFrame.sparse.from_spmatrix(amount_one_hot, columns=amount_columns)\n",
    "    \n",
    "    return amount_one_hot_df"
   ]
  },
  {
   "cell_type": "markdown",
   "id": "605bc8ad-5761-453b-bcb9-a012e03b7ba8",
   "metadata": {},
   "source": [
    "### Putting Features Together"
   ]
  },
  {
   "cell_type": "code",
   "execution_count": 34,
   "id": "e94fcf7c-4090-4475-844a-72da148c6ebd",
   "metadata": {},
   "outputs": [],
   "source": [
    "def get_features_df(dataset, tfidf_max_features):\n",
    "    tfidf_df = get_tfidf_features(dataset, tfidf_max_features)\n",
    "    date_df = get_date_features(dataset)\n",
    "    amount_df = get_amount_features(dataset)\n",
    "\n",
    "    features_df =  pd.concat([dataset, tfidf_df, date_df, amount_df], axis=1)\n",
    "    return features_df"
   ]
  },
  {
   "cell_type": "code",
   "execution_count": 35,
   "id": "571ca049-ee7a-4a64-823d-7a61f82a75c2",
   "metadata": {},
   "outputs": [],
   "source": [
    "def train_test_split_features(dataset, tfidf_max_features):\n",
    "    features_df = get_features_df(dataset, tfidf_max_features)\n",
    "    train_df, test_df = dataset_split(features_df)\n",
    "    \n",
    "    X_train = train_df.iloc[:, 7:]\n",
    "    y_train = train_df['category']\n",
    "    X_test = test_df.iloc[:, 7:]\n",
    "    y_test = test_df['category']\n",
    "\n",
    "    X_train.columns = X_train.columns.astype(str)\n",
    "    X_test.columns = X_test.columns.astype(str)\n",
    "\n",
    "    return X_train, y_train, X_test, y_test"
   ]
  },
  {
   "cell_type": "code",
   "execution_count": 36,
   "id": "8ab63f46-a7e9-4463-89b0-a72571578073",
   "metadata": {},
   "outputs": [],
   "source": [
    "X_train, y_train, X_test, y_test = train_test_split_features(outflows_with_memo, tfidf_max_features=50)"
   ]
  },
  {
   "cell_type": "code",
   "execution_count": 37,
   "id": "c7b2c87c-3b50-4234-b5bd-c5d91729a7bb",
   "metadata": {},
   "outputs": [
    {
     "data": {
      "text/plain": [
       "((982639, 107), (982639,), (323813, 107), (323813,))"
      ]
     },
     "execution_count": 37,
     "metadata": {},
     "output_type": "execute_result"
    }
   ],
   "source": [
    "X_train.shape, y_train.shape, X_test.shape, y_test.shape"
   ]
  },
  {
   "cell_type": "markdown",
   "id": "dcc5e06a-b48d-4bb7-909a-b16bd94875c2",
   "metadata": {},
   "source": [
    "### Training Models"
   ]
  },
  {
   "cell_type": "code",
   "execution_count": 38,
   "id": "336bd028-4659-4286-81d1-3a6c13b38eba",
   "metadata": {},
   "outputs": [],
   "source": [
    "from sklearn.linear_model import LogisticRegression\n",
    "from xgboost import XGBClassifier\n",
    "from sklearn.preprocessing import LabelEncoder\n",
    "from sklearn.metrics import confusion_matrix\n",
    "import seaborn as sns"
   ]
  },
  {
   "cell_type": "markdown",
   "id": "89e1492f-3a2d-48ca-bad6-0ac524cb92fe",
   "metadata": {},
   "source": [
    "#### Logistic Regression"
   ]
  },
  {
   "cell_type": "code",
   "execution_count": 39,
   "id": "af338ebf-6b8d-4c4d-b395-dec86ef76f05",
   "metadata": {},
   "outputs": [],
   "source": [
    "def fit_model(X_train, y_train, model_type):\n",
    "    if model_type == 'log_reg':\n",
    "        model = LogisticRegression(max_iter=1000, random_state=0, n_jobs=-1).fit(X_train, y_train)\n",
    "    elif model_type == 'xgboost':\n",
    "        le = LabelEncoder()\n",
    "        y_train_encoded = le.fit_transform(y_train)\n",
    "\n",
    "        # hyperparameters to consider: n_estimators, max_depth, learning_rate\n",
    "        model = XGBClassifier(objective='multi:softmax')\n",
    "        model.fit(X_train, y_train_encoded)\n",
    "\n",
    "        return model, le\n",
    "\n",
    "    return model"
   ]
  },
  {
   "cell_type": "code",
   "execution_count": 40,
   "id": "969bfa81-269c-4e55-a487-c6c985c36c12",
   "metadata": {},
   "outputs": [],
   "source": [
    "def predict(X, y, model, le=None):\n",
    "    if isinstance(model, LogisticRegression):\n",
    "        preds = model.predict(X)\n",
    "    elif isinstance(model, XGBClassifier):\n",
    "        preds_encoded = model.predict(X)\n",
    "        preds = le.inverse_transform(preds_encoded)\n",
    "    \n",
    "    print(f\"Accuracy: {(preds == y).mean():.3f}\")\n",
    "    \n",
    "    return preds"
   ]
  },
  {
   "cell_type": "code",
   "execution_count": 41,
   "id": "ce44bf66-e02b-49be-959a-1e957c2d13f8",
   "metadata": {},
   "outputs": [],
   "source": [
    "def fit_and_predict(X_train, y_train, X_test, y_test, model_type):\n",
    "    if model_type == 'log_reg':\n",
    "        model = LogisticRegression(max_iter=1000, random_state=0, n_jobs=-1).fit(X_train, y_train) \n",
    "        preds_train = model.predict(X_train)\n",
    "        preds_test = model.predict(X_test)\n",
    "        \n",
    "    elif model_type == 'xgboost':\n",
    "        le = LabelEncoder()\n",
    "        y_train_encoded = le.fit_transform(y_train)\n",
    "\n",
    "        # hyperparameters to consider: n_estimators, max_depth, learning_rate\n",
    "        model = XGBClassifier(objective='multi:softmax')\n",
    "        model.fit(X_train, y_train_encoded)\n",
    "\n",
    "        preds_train_encoded = model.predict(X_train)\n",
    "        preds_test_encoded = model.predict(X_test)\n",
    "        \n",
    "        preds_train = le.inverse_transform(preds_train_encoded)\n",
    "        preds_test = le.inverse_transform(preds_test_encoded)\n",
    "\n",
    "    print(f\"Train accuracy: {(preds_train == y_train).mean()}, Test accuracy: {(preds_test == y_test).mean()}\")\n",
    "    \n",
    "    return model, preds_train, preds_test"
   ]
  },
  {
   "cell_type": "code",
   "execution_count": 42,
   "id": "1910a1c9-427f-4dd7-b266-a4aa363d367f",
   "metadata": {
    "scrolled": true
   },
   "outputs": [],
   "source": [
    "# for i in range(len(coef_df)):\n",
    "#     display(coef_df.iloc[i].abs().sort_values(ascending=False).iloc[:10])"
   ]
  },
  {
   "cell_type": "markdown",
   "id": "5cba5ad4-5f08-47f7-897d-a2852c08421e",
   "metadata": {},
   "source": [
    "**Accuracy by category**"
   ]
  },
  {
   "cell_type": "code",
   "execution_count": 43,
   "id": "71fcade0-0b58-4c84-80c3-32419f214746",
   "metadata": {},
   "outputs": [],
   "source": [
    "def make_confusion_matrices(y_train, preds_train, y_test, preds_test):\n",
    "    \n",
    "    def make_conf_matrix(y, preds):\n",
    "        conf_matrix = confusion_matrix(y, preds, labels=y.unique(), normalize='pred')\n",
    "        classes = y.value_counts().sort_values(ascending=False).index\n",
    "        conf_matrix_df = pd.DataFrame(conf_matrix, index=classes, columns=classes)\n",
    "        return conf_matrix_df\n",
    "\n",
    "    fig, (ax1, ax2) = plt.subplots(2, 1, figsize=(7, 13))\n",
    "    conf_matrix_train = make_conf_matrix(y_train, preds_train)\n",
    "    sns.heatmap(conf_matrix_train, annot=True, fmt=\".3f\", cmap=\"YlGnBu\", cbar=True, \n",
    "                linewidths=0.5, linecolor='gray', square=True, annot_kws={\"size\": 8}, ax=ax1)\n",
    "    ax1.set_title('Train Precision')\n",
    "    ax1.set_xlabel('Predicted Labels')\n",
    "    ax1.set_ylabel('True Labels')\n",
    "    \n",
    "    conf_matrix_test = make_conf_matrix(y_test, preds_test)\n",
    "    sns.heatmap(conf_matrix_test, annot=True, fmt=\".3f\", cmap=\"YlGnBu\", cbar=True, \n",
    "                linewidths=0.5, linecolor='gray', square=True, annot_kws={\"size\": 8}, ax=ax2)\n",
    "    ax2.set_title('Test Precision')\n",
    "    ax2.set_xlabel('Predicted Labels')\n",
    "    ax2.set_ylabel('True Labels')\n",
    "\n",
    "    plt.tight_layout(rect=[0.0, 0.0, 1, 1])\n",
    "    plt.subplots_adjust(wspace=0.5, hspace=0.55)\n",
    "    plt.show()"
   ]
  },
  {
   "cell_type": "code",
   "execution_count": null,
   "id": "5adaabca-ad8b-4614-9558-6aa5e34c9d75",
   "metadata": {},
   "outputs": [],
   "source": [
    "%%time\n",
    "# tfidf generation taking longer than log reg model fitting\n",
    "# 3000 tfidf taking close to 2 min\n",
    "X_train, y_train, X_test, y_test = train_test_split_features(outflows_with_memo, tfidf_max_features=4000)"
   ]
  },
  {
   "cell_type": "code",
   "execution_count": 43,
   "id": "85a5a807-a845-4fc9-864f-165cc841c635",
   "metadata": {},
   "outputs": [
    {
     "name": "stdout",
     "output_type": "stream",
     "text": [
      "CPU times: user 2.56 s, sys: 782 ms, total: 3.34 s\n",
      "Wall time: 1min 33s\n"
     ]
    }
   ],
   "source": [
    "%%time\n",
    "log_reg = fit_model(X_train, y_train, 'log_reg')"
   ]
  },
  {
   "cell_type": "code",
   "execution_count": 44,
   "id": "0104b0e4-1f7c-4220-b2a4-8db4b38d318a",
   "metadata": {},
   "outputs": [
    {
     "name": "stdout",
     "output_type": "stream",
     "text": [
      "Accuracy: 0.960\n"
     ]
    }
   ],
   "source": [
    "preds_train = predict(X_train, y_train, log_reg)"
   ]
  },
  {
   "cell_type": "code",
   "execution_count": 45,
   "id": "358e8f24-18bb-40f1-9343-c0ab4e21bccd",
   "metadata": {},
   "outputs": [
    {
     "name": "stdout",
     "output_type": "stream",
     "text": [
      "Accuracy: 0.944\n"
     ]
    }
   ],
   "source": [
    "preds_test = predict(X_test, y_test, log_reg)"
   ]
  },
  {
   "cell_type": "code",
   "execution_count": null,
   "id": "66133271-4944-4664-a241-6eb1aa9b9ed3",
   "metadata": {},
   "outputs": [],
   "source": [
    "bst, le = fit_model(X_train, y_train, 'xgboost')"
   ]
  },
  {
   "cell_type": "code",
   "execution_count": null,
   "id": "04f05552-beb3-4474-a7b8-d6529db3eaf3",
   "metadata": {},
   "outputs": [],
   "source": [
    "predict(X_train, y_train, bst, le)"
   ]
  },
  {
   "cell_type": "code",
   "execution_count": null,
   "id": "2d9ca685-780d-4baa-bddb-ca812bf6693a",
   "metadata": {},
   "outputs": [],
   "source": [
    "%%time\n",
    "# 500 tfidf - 61 seconds - Train accuracy: 0.873, Test accuracy: 0.863\n",
    "# 750 tfidf - 62 seconds - Train accuracy: 0.895, Test accuracy: 0.889\n",
    "# 1000 tfidf - 63 seconds - Train accuracy: 0.911, Test accuracy: 0.906\n",
    "# 2000 tfidf - 66 seconds - Train accuracy: 0.938, Test accuracy: 0.927\n",
    "# 3000 tfidf - 77 seconds - Train accuracy: 0.952, Test accuracy: 0.939\n",
    "# 5000 tfidf - 68 seconds - Train accuracy: 0.964, Test accuracy: 0.941\n",
    "log_reg, preds_train, preds_test = fit_and_predict(X_train, y_train, X_test, y_test, model_type='log_reg')"
   ]
  },
  {
   "cell_type": "code",
   "execution_count": null,
   "id": "46335e18-fa3d-4b76-994a-4dea5cba704b",
   "metadata": {},
   "outputs": [],
   "source": [
    "make_confusion_matrices(y_train, preds_train, y_test, preds_test)"
   ]
  },
  {
   "cell_type": "markdown",
   "id": "b5387ec9-0970-463c-94b1-a9debef68539",
   "metadata": {},
   "source": [
    "#### Gradient Boosting (XGBoost)"
   ]
  },
  {
   "cell_type": "code",
   "execution_count": 39,
   "id": "4f170a0c-b539-4d0c-ade8-8c5c05cee027",
   "metadata": {},
   "outputs": [
    {
     "name": "stdout",
     "output_type": "stream",
     "text": [
      "Defaulting to user installation because normal site-packages is not writeable\n",
      "Collecting xgboost\n",
      "  Downloading xgboost-2.1.2-py3-none-manylinux_2_28_x86_64.whl.metadata (2.1 kB)\n",
      "Requirement already satisfied: numpy in /opt/conda/lib/python3.11/site-packages (from xgboost) (1.26.4)\n",
      "Requirement already satisfied: nvidia-nccl-cu12 in /opt/conda/lib/python3.11/site-packages (from xgboost) (2.19.3)\n",
      "Requirement already satisfied: scipy in /opt/conda/lib/python3.11/site-packages (from xgboost) (1.13.0)\n",
      "Downloading xgboost-2.1.2-py3-none-manylinux_2_28_x86_64.whl (153.9 MB)\n",
      "\u001b[2K   \u001b[90m━━━━━━━━━━━━━━━━━━━━━━━━━━━━━━━━━━━━━━━━\u001b[0m \u001b[32m153.9/153.9 MB\u001b[0m \u001b[31m24.1 MB/s\u001b[0m eta \u001b[36m0:00:00\u001b[0m00:01\u001b[0m00:01\u001b[0m\n",
      "\u001b[?25hInstalling collected packages: xgboost\n",
      "Successfully installed xgboost-2.1.2\n"
     ]
    }
   ],
   "source": [
    "# !pip install xgboost"
   ]
  },
  {
   "cell_type": "code",
   "execution_count": null,
   "id": "94a41a92-1afa-4e3d-b8ff-64f3fa5bbd90",
   "metadata": {},
   "outputs": [],
   "source": [
    "# 30ish seconds\n",
    "bst, preds_train_bst, preds_test_bst = fit_and_predict(X_train, y_train, X_test, y_test, model_type='xgboost')"
   ]
  },
  {
   "cell_type": "code",
   "execution_count": null,
   "id": "2aaec3f1-4d14-4fbd-bedf-6ee585ff897b",
   "metadata": {},
   "outputs": [],
   "source": [
    "# 'Train accuracy: 0.7301464661398314, Test accuracy: 0.7111407249466951' ------ basic xgboost w/ 50 features"
   ]
  },
  {
   "cell_type": "code",
   "execution_count": null,
   "id": "b320f480-b71c-45be-84b7-cf8b2a7e8a66",
   "metadata": {},
   "outputs": [],
   "source": [
    "make_confusion_matrices(y_train, preds_train_bst, y_test, preds_test_bst)"
   ]
  },
  {
   "cell_type": "code",
   "execution_count": null,
   "id": "130b0384-6c89-4501-8601-2f944c776fe5",
   "metadata": {},
   "outputs": [],
   "source": [
    "# testing how many tfidf features xgboost can handle\n",
    "X_train, y_train, X_test, y_test = train_test_split_features(outflows_with_memo, tfidf_max_features=750)"
   ]
  },
  {
   "cell_type": "code",
   "execution_count": null,
   "id": "2c5a65d4-be02-4ef2-82c4-b97eabee1ee9",
   "metadata": {},
   "outputs": [],
   "source": [
    "# 200 tfidf - 53 seconds - Train accuracy: 0.817, Test accuracy: 0.800\n",
    "# 400 tfidf - 87 seconds - Train accuracy: 0.866, Test accuracy: 0.848\n",
    "# 500 tfidf - 101 seconds - Train accuracy: 0.876, Test accuracy: 0.863\n",
    "# 750 tfidf - 376 seconds - Train accuracy: 0.8941, Test accuracy: 0.882\n",
    "bst, preds_train_bst, preds_test_bst = fit_and_predict(X_train, y_train, X_test, y_test, model_type='xgboost')"
   ]
  },
  {
   "cell_type": "code",
   "execution_count": null,
   "id": "a2248063-6a01-4443-bef1-ef40510196b0",
   "metadata": {},
   "outputs": [],
   "source": [
    "make_confusion_matrices(y_train, preds_train_bst, y_test, preds_test_bst)"
   ]
  },
  {
   "cell_type": "markdown",
   "id": "17ff8172-2148-45a0-b8b1-57955ccb6123",
   "metadata": {},
   "source": [
    "## Week 5"
   ]
  },
  {
   "cell_type": "code",
   "execution_count": null,
   "id": "a83abfaf-5af8-4384-8cef-2b81e9f1f20f",
   "metadata": {
    "scrolled": true
   },
   "outputs": [],
   "source": [
    "# !pip install --upgrade transformers datasets evaluate accelerate"
   ]
  },
  {
   "cell_type": "code",
   "execution_count": 23,
   "id": "6bd8321b-0473-4e9e-a887-0aaff9ebb95e",
   "metadata": {},
   "outputs": [],
   "source": [
    "from transformers import AutoTokenizer\n",
    "from transformers import DataCollatorWithPadding\n",
    "from transformers import AutoModelForSequenceClassification, TrainingArguments, Trainer\n",
    "import evaluate\n",
    "import torch"
   ]
  },
  {
   "cell_type": "code",
   "execution_count": 24,
   "id": "b7481de4-145e-4e72-9690-6a839c460d1d",
   "metadata": {},
   "outputs": [
    {
     "name": "stderr",
     "output_type": "stream",
     "text": [
      "/opt/conda/lib/python3.11/site-packages/transformers/tokenization_utils_base.py:1601: FutureWarning: `clean_up_tokenization_spaces` was not set. It will be set to `True` by default. This behavior will be depracted in transformers v4.45, and will be then set to `False` by default. For more details check this issue: https://github.com/huggingface/transformers/issues/31884\n",
      "  warnings.warn(\n"
     ]
    }
   ],
   "source": [
    "tokenizer = AutoTokenizer.from_pretrained(\"distilbert/distilbert-base-uncased\")\n",
    "accuracy = evaluate.load('accuracy')\n",
    "data_collator = DataCollatorWithPadding(tokenizer=tokenizer)"
   ]
  },
  {
   "cell_type": "code",
   "execution_count": 25,
   "id": "dbf11d7b-f838-4a43-ad74-12c9917c2a72",
   "metadata": {},
   "outputs": [
    {
     "name": "stdout",
     "output_type": "stream",
     "text": [
      "CPU times: user 1min 8s, sys: 6.67 s, total: 1min 15s\n",
      "Wall time: 37.4 s\n"
     ]
    }
   ],
   "source": [
    "%%time\n",
    "X_train = tokenizer(list(cleaned_memos[:1000000]), truncation=True)\n",
    "X_test = tokenizer(list(cleaned_memos[1000001:1250000]), truncation=True)"
   ]
  },
  {
   "cell_type": "code",
   "execution_count": 99,
   "id": "10aeba59-1ec8-45f1-87f5-a1dc852d61e6",
   "metadata": {},
   "outputs": [],
   "source": [
    "categories = outflows_with_memo.category.unique()"
   ]
  },
  {
   "cell_type": "code",
   "execution_count": 100,
   "id": "a819c830-7089-4ca2-acb7-c5fdf96b1656",
   "metadata": {},
   "outputs": [],
   "source": [
    "id2label = {i : categories[i] for i in range(len(categories))}\n",
    "label2id = {categories[i] : i for i in range(len(categories))}"
   ]
  },
  {
   "cell_type": "code",
   "execution_count": 101,
   "id": "1a5bca62-4ffa-4cd1-a215-67aa6ef5c8ab",
   "metadata": {},
   "outputs": [
    {
     "name": "stdout",
     "output_type": "stream",
     "text": [
      "CPU times: user 122 ms, sys: 10.9 ms, total: 133 ms\n",
      "Wall time: 130 ms\n"
     ]
    }
   ],
   "source": [
    "%%time\n",
    "y_train = [label2id[cat] for cat in outflows_with_memo.category[:1000000]]\n",
    "y_test = [label2id[cat] for cat in outflows_with_memo.category[1000001:1250000]]"
   ]
  },
  {
   "cell_type": "code",
   "execution_count": 102,
   "id": "d229b45f-7ac2-4e63-b088-34ced10f2c62",
   "metadata": {},
   "outputs": [],
   "source": [
    "class MemoDataset(torch.utils.data.Dataset):\n",
    "    def __init__(self, encodings, labels):\n",
    "        self.encodings = encodings\n",
    "        self.labels = labels\n",
    "\n",
    "    def __getitem__(self, idx):\n",
    "        item = {key: torch.tensor(val[idx]) for key, val in self.encodings.items()}\n",
    "        item['labels'] = torch.tensor(self.labels[idx])\n",
    "        return item\n",
    "\n",
    "    def __len__(self):\n",
    "        return len(self.labels)"
   ]
  },
  {
   "cell_type": "code",
   "execution_count": 103,
   "id": "f330f9fe-bb46-49c5-bba3-56e096b09fb1",
   "metadata": {},
   "outputs": [],
   "source": [
    "train_dataset = MemoDataset(X_train, y_train)\n",
    "test_dataset = MemoDataset(X_test, y_test)"
   ]
  },
  {
   "cell_type": "code",
   "execution_count": 104,
   "id": "21d7e484-cbe6-42a7-a1ec-3db103924f05",
   "metadata": {},
   "outputs": [
    {
     "name": "stderr",
     "output_type": "stream",
     "text": [
      "Some weights of DistilBertForSequenceClassification were not initialized from the model checkpoint at distilbert/distilbert-base-uncased and are newly initialized: ['classifier.bias', 'classifier.weight', 'pre_classifier.bias', 'pre_classifier.weight']\n",
      "You should probably TRAIN this model on a down-stream task to be able to use it for predictions and inference.\n"
     ]
    }
   ],
   "source": [
    "model = AutoModelForSequenceClassification.from_pretrained(\n",
    "    \"distilbert/distilbert-base-uncased\", num_labels=9, id2label=id2label, label2id=label2id\n",
    ")"
   ]
  },
  {
   "cell_type": "code",
   "execution_count": 105,
   "id": "cd4eead5-ec35-408f-8c13-74b748ae5c03",
   "metadata": {},
   "outputs": [],
   "source": [
    "def compute_metrics(eval_pred):\n",
    "    predictions, labels = eval_pred\n",
    "    predictions = np.argmax(predictions, axis=1)\n",
    "    return accuracy.compute(predictions=predictions, references=labels)"
   ]
  },
  {
   "cell_type": "code",
   "execution_count": 95,
   "id": "f2568b4d-c644-4af6-890d-fe4af32630f5",
   "metadata": {},
   "outputs": [
    {
     "name": "stderr",
     "output_type": "stream",
     "text": [
      "Detected kernel version 3.10.0, which is below the recommended minimum of 5.5.0; this can cause the process to hang. It is recommended to upgrade the kernel to the minimum version or higher.\n"
     ]
    },
    {
     "data": {
      "text/html": [
       "\n",
       "    <div>\n",
       "      \n",
       "      <progress value='1250' max='1250' style='width:300px; height:20px; vertical-align: middle;'></progress>\n",
       "      [1250/1250 00:58, Epoch 2/2]\n",
       "    </div>\n",
       "    <table border=\"1\" class=\"dataframe\">\n",
       "  <thead>\n",
       " <tr style=\"text-align: left;\">\n",
       "      <th>Epoch</th>\n",
       "      <th>Training Loss</th>\n",
       "      <th>Validation Loss</th>\n",
       "      <th>Accuracy</th>\n",
       "    </tr>\n",
       "  </thead>\n",
       "  <tbody>\n",
       "    <tr>\n",
       "      <td>1</td>\n",
       "      <td>0.502900</td>\n",
       "      <td>0.467415</td>\n",
       "      <td>0.895558</td>\n",
       "    </tr>\n",
       "    <tr>\n",
       "      <td>2</td>\n",
       "      <td>0.145600</td>\n",
       "      <td>0.507048</td>\n",
       "      <td>0.893958</td>\n",
       "    </tr>\n",
       "  </tbody>\n",
       "</table><p>"
      ],
      "text/plain": [
       "<IPython.core.display.HTML object>"
      ]
     },
     "metadata": {},
     "output_type": "display_data"
    },
    {
     "data": {
      "text/plain": [
       "TrainOutput(global_step=1250, training_loss=0.27736728515625, metrics={'train_runtime': 58.8299, 'train_samples_per_second': 339.963, 'train_steps_per_second': 21.248, 'total_flos': 114611024344608.0, 'train_loss': 0.27736728515625, 'epoch': 2.0})"
      ]
     },
     "execution_count": 95,
     "metadata": {},
     "output_type": "execute_result"
    }
   ],
   "source": [
    "training_args = TrainingArguments(\n",
    "    output_dir=\"bert\",\n",
    "    learning_rate=2e-5,\n",
    "    per_device_train_batch_size=16,\n",
    "    per_device_eval_batch_size=16,\n",
    "    num_train_epochs=5,\n",
    "    weight_decay=0.01,\n",
    "    eval_strategy=\"epoch\",\n",
    "    save_strategy=\"epoch\",\n",
    "    load_best_model_at_end=True,\n",
    "    push_to_hub=False,\n",
    ")\n",
    "\n",
    "trainer = Trainer(\n",
    "    model=model,\n",
    "    args=training_args,\n",
    "    train_dataset=train_dataset,\n",
    "    eval_dataset=test_dataset,\n",
    "    processing_class=tokenizer,\n",
    "    data_collator=data_collator,\n",
    "    compute_metrics=compute_metrics,\n",
    ")\n",
    "\n",
    "trainer.train()"
   ]
  },
  {
   "cell_type": "code",
   "execution_count": 106,
   "id": "0d3a452c-d3f2-4ab3-91e3-2a4a34806755",
   "metadata": {},
   "outputs": [
    {
     "data": {
      "text/plain": [
       "(1306452, 7)"
      ]
     },
     "execution_count": 106,
     "metadata": {},
     "output_type": "execute_result"
    }
   ],
   "source": [
    "outflows_with_memo.shape"
   ]
  },
  {
   "cell_type": "markdown",
   "id": "7b0d64cd-07e4-43a0-a1e1-193894003680",
   "metadata": {},
   "source": [
    "## Full Pipeline"
   ]
  },
  {
   "cell_type": "code",
   "execution_count": null,
   "id": "9fec3574-c45d-4daa-bc3c-60a3669a35e7",
   "metadata": {},
   "outputs": [],
   "source": [
    "def pipeline():\n",
    "    # cleaned_dataset = put dataset through cleaning()\n",
    "    # allFunctions(cleaned_dataset)"
   ]
  },
  {
   "cell_type": "code",
   "execution_count": null,
   "id": "d8e33a0d-f7f8-45c4-acdd-cc2cf60c1e6c",
   "metadata": {},
   "outputs": [],
   "source": []
  }
 ],
 "metadata": {
  "kernelspec": {
   "display_name": "Python 3 (ipykernel)",
   "language": "python",
   "name": "python3"
  },
  "language_info": {
   "codemirror_mode": {
    "name": "ipython",
    "version": 3
   },
   "file_extension": ".py",
   "mimetype": "text/x-python",
   "name": "python",
   "nbconvert_exporter": "python",
   "pygments_lexer": "ipython3",
   "version": "3.11.9"
  }
 },
 "nbformat": 4,
 "nbformat_minor": 5
}
