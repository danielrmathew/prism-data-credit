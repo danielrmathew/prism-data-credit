{
 "cells": [
  {
   "cell_type": "code",
   "execution_count": 1,
   "id": "174d0c66-0776-40df-bf46-8fa40d31d2eb",
   "metadata": {},
   "outputs": [],
   "source": [
    "import pandas as pd\n",
    "pd.options.display.float_format = '{:,.4f}'.format\n",
    "import numpy as np\n",
    "import matplotlib.pyplot as plt\n",
    "import re\n",
    "from sklearn.feature_extraction.text import TfidfVectorizer\n",
    "from sklearn.preprocessing import OneHotEncoder"
   ]
  },
  {
   "cell_type": "code",
   "execution_count": 2,
   "id": "02b5ddd7-7d21-43ab-b635-dd2c45a6dd83",
   "metadata": {},
   "outputs": [],
   "source": [
    "inflows = pd.read_parquet('data/ucsd-inflows.pqt')\n",
    "outflows = pd.read_parquet('data/ucsd-outflows.pqt')"
   ]
  },
  {
   "cell_type": "code",
   "execution_count": 3,
   "id": "5998d07e-f23f-4970-82aa-7e8925835de6",
   "metadata": {},
   "outputs": [
    {
     "data": {
      "text/html": [
       "<div>\n",
       "<style scoped>\n",
       "    .dataframe tbody tr th:only-of-type {\n",
       "        vertical-align: middle;\n",
       "    }\n",
       "\n",
       "    .dataframe tbody tr th {\n",
       "        vertical-align: top;\n",
       "    }\n",
       "\n",
       "    .dataframe thead th {\n",
       "        text-align: right;\n",
       "    }\n",
       "</style>\n",
       "<table border=\"1\" class=\"dataframe\">\n",
       "  <thead>\n",
       "    <tr style=\"text-align: right;\">\n",
       "      <th></th>\n",
       "      <th>prism_consumer_id</th>\n",
       "      <th>prism_account_id</th>\n",
       "      <th>memo</th>\n",
       "      <th>amount</th>\n",
       "      <th>posted_date</th>\n",
       "      <th>category</th>\n",
       "    </tr>\n",
       "  </thead>\n",
       "  <tbody>\n",
       "    <tr>\n",
       "      <th>0</th>\n",
       "      <td>0</td>\n",
       "      <td>acc_0</td>\n",
       "      <td>TST* Casa Del Rio - Exp Fairlawn OH 09/24</td>\n",
       "      <td>18.4200</td>\n",
       "      <td>2022-09-26</td>\n",
       "      <td>FOOD_AND_BEVERAGES</td>\n",
       "    </tr>\n",
       "    <tr>\n",
       "      <th>1</th>\n",
       "      <td>0</td>\n",
       "      <td>acc_0</td>\n",
       "      <td>Buffalo Wild Wings</td>\n",
       "      <td>26.4700</td>\n",
       "      <td>2022-09-12</td>\n",
       "      <td>FOOD_AND_BEVERAGES</td>\n",
       "    </tr>\n",
       "    <tr>\n",
       "      <th>2</th>\n",
       "      <td>0</td>\n",
       "      <td>acc_0</td>\n",
       "      <td>Oculus CA 04/16</td>\n",
       "      <td>11.7300</td>\n",
       "      <td>2022-04-18</td>\n",
       "      <td>GENERAL_MERCHANDISE</td>\n",
       "    </tr>\n",
       "    <tr>\n",
       "      <th>3</th>\n",
       "      <td>0</td>\n",
       "      <td>acc_0</td>\n",
       "      <td>LOS GIRASOLES STOW OH 03/08</td>\n",
       "      <td>30.0400</td>\n",
       "      <td>2022-03-09</td>\n",
       "      <td>FOOD_AND_BEVERAGES</td>\n",
       "    </tr>\n",
       "    <tr>\n",
       "      <th>4</th>\n",
       "      <td>0</td>\n",
       "      <td>acc_0</td>\n",
       "      <td>BUZZIS LAUNDRY 1 OH 03/28</td>\n",
       "      <td>4.1600</td>\n",
       "      <td>2022-03-29</td>\n",
       "      <td>GENERAL_MERCHANDISE</td>\n",
       "    </tr>\n",
       "  </tbody>\n",
       "</table>\n",
       "</div>"
      ],
      "text/plain": [
       "   prism_consumer_id prism_account_id  \\\n",
       "0                  0            acc_0   \n",
       "1                  0            acc_0   \n",
       "2                  0            acc_0   \n",
       "3                  0            acc_0   \n",
       "4                  0            acc_0   \n",
       "\n",
       "                                        memo  amount posted_date  \\\n",
       "0  TST* Casa Del Rio - Exp Fairlawn OH 09/24 18.4200  2022-09-26   \n",
       "1                         Buffalo Wild Wings 26.4700  2022-09-12   \n",
       "2                            Oculus CA 04/16 11.7300  2022-04-18   \n",
       "3                LOS GIRASOLES STOW OH 03/08 30.0400  2022-03-09   \n",
       "4                  BUZZIS LAUNDRY 1 OH 03/28  4.1600  2022-03-29   \n",
       "\n",
       "              category  \n",
       "0   FOOD_AND_BEVERAGES  \n",
       "1   FOOD_AND_BEVERAGES  \n",
       "2  GENERAL_MERCHANDISE  \n",
       "3   FOOD_AND_BEVERAGES  \n",
       "4  GENERAL_MERCHANDISE  "
      ]
     },
     "execution_count": 3,
     "metadata": {},
     "output_type": "execute_result"
    }
   ],
   "source": [
    "relevant_of = outflows[outflows.category != outflows.memo].reset_index(drop=True)\n",
    "relevant_of.posted_date = pd.to_datetime(relevant_of.posted_date)\n",
    "relevant_of.head()"
   ]
  },
  {
   "cell_type": "code",
   "execution_count": null,
   "id": "8ed50749-47a9-42c4-8547-522116f474f7",
   "metadata": {},
   "outputs": [],
   "source": []
  },
  {
   "cell_type": "code",
   "execution_count": null,
   "id": "ced53407-c5c1-4e06-8065-6aa7fdd8f1a8",
   "metadata": {},
   "outputs": [],
   "source": []
  },
  {
   "cell_type": "markdown",
   "id": "eae95f08-bd62-467d-940f-5801ffb7f3d3",
   "metadata": {},
   "source": [
    "# Memo Cleaning"
   ]
  },
  {
   "cell_type": "code",
   "execution_count": 4,
   "id": "7539f2db-e7cd-4a6f-8386-464d06e9cbe1",
   "metadata": {},
   "outputs": [],
   "source": [
    "def clean_memo(memo):\n",
    "    sw = ['payment', 'transaction', 'deposit', 'withdrawal', 'transfer', 'credit', 'debit', 'refund', 'fee', 'charge', 'purchase', 'atm', 'checkcard']\n",
    "\n",
    "    memo = memo.lower()\n",
    "\n",
    "    memo = re.sub(r'[0-9]{3,}', '', memo) # remove instances of numbers more than 3 repeated\n",
    "    \n",
    "    memo = re.sub(r'x{3,}', '', memo) # remove the X's (ex. #XXXX)\n",
    "    memo = re.sub(r'^#[a-z0-9]+', '', memo) # remove the #smth @ start of memo\n",
    "    memo = re.sub(r'(www\\.|\\.com)', '', memo) # removing any links or urls\n",
    "\n",
    "    memo = re.sub(r'[0-9x]{2}((-|/)[0-9x]{2,4}){1,2}', '', memo) # remove dates\n",
    "\n",
    "    memo = re.sub(r'[^\\w\\s-]', ' ', memo)  # replace special characters with single space\n",
    "    memo = re.sub(r'([a-z]+)\\s{0,1}-\\s{0,1}([a-z]+)', r'\\1\\2', memo) # replace '-' w/ ''\n",
    "    memo = re.sub(r'\\s+', ' ', memo)  # remove multiple spaces\n",
    "\n",
    "    # location\n",
    "    state_abbreviations = [\n",
    "        \"al\", \"ak\", \"az\", \"ar\", \"ca\", \"co\", \"ct\", \"de\", \"fl\", \"ga\", \n",
    "        \"hi\", \"id\", \"il\", \"in\", \"ia\", \"ks\", \"ky\", \"la\", \"me\", \"md\", \n",
    "        \"ma\", \"mi\", \"mn\", \"ms\", \"mo\", \"mt\", \"ne\", \"nv\", \"nh\", \"nj\", \n",
    "        \"nm\", \"ny\", \"nc\", \"nd\", \"oh\", \"ok\", \"or\", \"pa\", \"ri\", \"sc\", \n",
    "        \"sd\", \"tn\", \"tx\", \"ut\", \"vt\", \"va\", \"wa\", \"wv\", \"wi\", \"wy\"\n",
    "    ]\n",
    "    state_pattern = r' (' + '|'.join(state_abbreviations) + r')\\b'\n",
    "    \n",
    "    memo = re.sub(r'(street|st|road|rd|blvd|avenue|ave|highway|hwy)\\b', '', memo)\n",
    "    memo = memo.strip()\n",
    "    memo = re.sub(state_pattern, '', memo)\n",
    "    memo = memo.strip()\n",
    "\n",
    "    merchant_map = {'wal walmart': 'walmart', 'walmart walmart': 'walmart', 'wal mart': 'walmart'}\n",
    "\n",
    "    if memo in merchant_map: return merchant_map[memo]\n",
    "    return memo"
   ]
  },
  {
   "cell_type": "code",
   "execution_count": null,
   "id": "62320e4a-eede-431d-9a5a-a8366146e82c",
   "metadata": {},
   "outputs": [],
   "source": []
  },
  {
   "cell_type": "code",
   "execution_count": 5,
   "id": "1871973c-2e24-45ca-ba94-581b30df9f68",
   "metadata": {},
   "outputs": [
    {
     "data": {
      "text/html": [
       "<div>\n",
       "<style scoped>\n",
       "    .dataframe tbody tr th:only-of-type {\n",
       "        vertical-align: middle;\n",
       "    }\n",
       "\n",
       "    .dataframe tbody tr th {\n",
       "        vertical-align: top;\n",
       "    }\n",
       "\n",
       "    .dataframe thead th {\n",
       "        text-align: right;\n",
       "    }\n",
       "</style>\n",
       "<table border=\"1\" class=\"dataframe\">\n",
       "  <thead>\n",
       "    <tr style=\"text-align: right;\">\n",
       "      <th></th>\n",
       "      <th>prism_consumer_id</th>\n",
       "      <th>prism_account_id</th>\n",
       "      <th>memo</th>\n",
       "      <th>amount</th>\n",
       "      <th>posted_date</th>\n",
       "      <th>category</th>\n",
       "      <th>clean_memo</th>\n",
       "    </tr>\n",
       "  </thead>\n",
       "  <tbody>\n",
       "    <tr>\n",
       "      <th>0</th>\n",
       "      <td>0</td>\n",
       "      <td>acc_0</td>\n",
       "      <td>TST* Casa Del Rio - Exp Fairlawn OH 09/24</td>\n",
       "      <td>18.4200</td>\n",
       "      <td>2022-09-26</td>\n",
       "      <td>FOOD_AND_BEVERAGES</td>\n",
       "      <td>t casa del rioexp fairlawn</td>\n",
       "    </tr>\n",
       "    <tr>\n",
       "      <th>1</th>\n",
       "      <td>0</td>\n",
       "      <td>acc_0</td>\n",
       "      <td>Buffalo Wild Wings</td>\n",
       "      <td>26.4700</td>\n",
       "      <td>2022-09-12</td>\n",
       "      <td>FOOD_AND_BEVERAGES</td>\n",
       "      <td>buffalo wild wings</td>\n",
       "    </tr>\n",
       "    <tr>\n",
       "      <th>2</th>\n",
       "      <td>0</td>\n",
       "      <td>acc_0</td>\n",
       "      <td>Oculus CA 04/16</td>\n",
       "      <td>11.7300</td>\n",
       "      <td>2022-04-18</td>\n",
       "      <td>GENERAL_MERCHANDISE</td>\n",
       "      <td>oculus</td>\n",
       "    </tr>\n",
       "    <tr>\n",
       "      <th>3</th>\n",
       "      <td>0</td>\n",
       "      <td>acc_0</td>\n",
       "      <td>LOS GIRASOLES STOW OH 03/08</td>\n",
       "      <td>30.0400</td>\n",
       "      <td>2022-03-09</td>\n",
       "      <td>FOOD_AND_BEVERAGES</td>\n",
       "      <td>los girasoles stow</td>\n",
       "    </tr>\n",
       "    <tr>\n",
       "      <th>4</th>\n",
       "      <td>0</td>\n",
       "      <td>acc_0</td>\n",
       "      <td>BUZZIS LAUNDRY 1 OH 03/28</td>\n",
       "      <td>4.1600</td>\n",
       "      <td>2022-03-29</td>\n",
       "      <td>GENERAL_MERCHANDISE</td>\n",
       "      <td>buzzis laundry 1</td>\n",
       "    </tr>\n",
       "  </tbody>\n",
       "</table>\n",
       "</div>"
      ],
      "text/plain": [
       "   prism_consumer_id prism_account_id  \\\n",
       "0                  0            acc_0   \n",
       "1                  0            acc_0   \n",
       "2                  0            acc_0   \n",
       "3                  0            acc_0   \n",
       "4                  0            acc_0   \n",
       "\n",
       "                                        memo  amount posted_date  \\\n",
       "0  TST* Casa Del Rio - Exp Fairlawn OH 09/24 18.4200  2022-09-26   \n",
       "1                         Buffalo Wild Wings 26.4700  2022-09-12   \n",
       "2                            Oculus CA 04/16 11.7300  2022-04-18   \n",
       "3                LOS GIRASOLES STOW OH 03/08 30.0400  2022-03-09   \n",
       "4                  BUZZIS LAUNDRY 1 OH 03/28  4.1600  2022-03-29   \n",
       "\n",
       "              category                  clean_memo  \n",
       "0   FOOD_AND_BEVERAGES  t casa del rioexp fairlawn  \n",
       "1   FOOD_AND_BEVERAGES          buffalo wild wings  \n",
       "2  GENERAL_MERCHANDISE                      oculus  \n",
       "3   FOOD_AND_BEVERAGES          los girasoles stow  \n",
       "4  GENERAL_MERCHANDISE            buzzis laundry 1  "
      ]
     },
     "execution_count": 5,
     "metadata": {},
     "output_type": "execute_result"
    }
   ],
   "source": [
    "relevant_of['clean_memo'] = relevant_of.apply(lambda row: clean_memo(row.memo) if row.memo != row.category else row.memo, axis=1)\n",
    "\n",
    "relevant_of.head()"
   ]
  },
  {
   "cell_type": "code",
   "execution_count": 6,
   "id": "65dc40eb-554d-453f-9d46-830edd6ede9d",
   "metadata": {},
   "outputs": [],
   "source": [
    "# vectorizer = TfidfVectorizer(max_features=1000, max_df=0.85)\n",
    "# tfidf = vectorizer.fit_transform(clean_data.clean_memo)\n",
    "# tfidf_df = pd.DataFrame.sparse.from_spmatrix(tfidf)\n",
    "# tfidf_df.columns = vectorizer.get_feature_names_out()"
   ]
  },
  {
   "cell_type": "code",
   "execution_count": null,
   "id": "ed5c031e-83e4-4017-aa7e-83e5f2995934",
   "metadata": {},
   "outputs": [],
   "source": []
  },
  {
   "cell_type": "code",
   "execution_count": null,
   "id": "ef364c1c-6486-4d0d-8d50-af90de401c6c",
   "metadata": {},
   "outputs": [],
   "source": []
  },
  {
   "cell_type": "code",
   "execution_count": 7,
   "id": "489b2c9f-4a80-4578-acd8-7cdcc49522d9",
   "metadata": {},
   "outputs": [],
   "source": [
    "def ftr_generation(data, num_bins=10, max_features=1000, max_df=0.85):\n",
    "    to_remove = ['prism_consumer_id', 'prism_account_id', 'memo', 'amount', 'posted_date', 'clean_memo']\n",
    "\n",
    "    # Binary data\n",
    "    data['is_weekend'] = (data.posted_date.dt.weekday >= 5).astype(int)\n",
    "    data['is_even_amount'] = data.amount.apply(lambda x: 1 if x % 1 == 0 and x % 5 == 0 else 0)\n",
    "\n",
    "    # tifidf data\n",
    "    vectorizer = TfidfVectorizer(max_features=max_features, max_df=max_df)\n",
    "    tfidf = vectorizer.fit_transform(data.clean_memo)\n",
    "    tfidf_df = pd.DataFrame.sparse.from_spmatrix(tfidf)\n",
    "    tfidf_df.columns = 'tfidf_' + vectorizer.get_feature_names_out()\n",
    "\n",
    "    # date data\n",
    "    date_data = pd.DataFrame()\n",
    "    date_data['month'] = 'month_' + data.posted_date.dt.month.astype(str)\n",
    "    date_data['weekday'] = 'weekday_' + data.posted_date.dt.weekday.astype(str)\n",
    "\n",
    "    date_enc = OneHotEncoder(drop='first', handle_unknown='ignore')\n",
    "    date_oh = date_enc.fit_transform(date_data)\n",
    "\n",
    "    cols = np.concatenate([typ[1:] for typ in date_enc.categories_])\n",
    "    date_ftrs = pd.DataFrame.sparse.from_spmatrix(date_oh, columns=cols)\n",
    "\n",
    "    # amount features\n",
    "    amount_data = pd.DataFrame()\n",
    "    amount_data['decile_amounts'] = pd.qcut(data.amount, q=10, labels=[f'bin_{num}' for num in range(1, num_bins + 1)])\n",
    "    \n",
    "    amount_enc = OneHotEncoder(drop='first', handle_unknown='ignore')\n",
    "    amount_oh = amount_enc.fit_transform(amount_data)\n",
    "\n",
    "    cols = np.concatenate([typ[1:] for typ in amount_enc.categories_])\n",
    "    amount_ftrs = pd.DataFrame.sparse.from_spmatrix(amount_oh, columns=cols)\n",
    "    \n",
    "\n",
    "    return pd.concat([data, amount_ftrs, date_ftrs, tfidf_df], axis=1).drop(columns=to_remove)"
   ]
  },
  {
   "cell_type": "code",
   "execution_count": 8,
   "id": "0995a5a1-ea4e-4bef-acfc-0b084023e39d",
   "metadata": {},
   "outputs": [
    {
     "data": {
      "text/html": [
       "<div>\n",
       "<style scoped>\n",
       "    .dataframe tbody tr th:only-of-type {\n",
       "        vertical-align: middle;\n",
       "    }\n",
       "\n",
       "    .dataframe tbody tr th {\n",
       "        vertical-align: top;\n",
       "    }\n",
       "\n",
       "    .dataframe thead th {\n",
       "        text-align: right;\n",
       "    }\n",
       "</style>\n",
       "<table border=\"1\" class=\"dataframe\">\n",
       "  <thead>\n",
       "    <tr style=\"text-align: right;\">\n",
       "      <th></th>\n",
       "      <th>category</th>\n",
       "      <th>is_weekend</th>\n",
       "      <th>is_even_amount</th>\n",
       "      <th>bin_10</th>\n",
       "      <th>bin_2</th>\n",
       "      <th>bin_3</th>\n",
       "      <th>bin_4</th>\n",
       "      <th>bin_5</th>\n",
       "      <th>bin_6</th>\n",
       "      <th>bin_7</th>\n",
       "      <th>...</th>\n",
       "      <th>tfidf_world</th>\n",
       "      <th>tfidf_worth</th>\n",
       "      <th>tfidf_xfer</th>\n",
       "      <th>tfidf_xsolla</th>\n",
       "      <th>tfidf_york</th>\n",
       "      <th>tfidf_your</th>\n",
       "      <th>tfidf_youtube</th>\n",
       "      <th>tfidf_zaxby</th>\n",
       "      <th>tfidf_zelle</th>\n",
       "      <th>tfidf_zip</th>\n",
       "    </tr>\n",
       "  </thead>\n",
       "  <tbody>\n",
       "    <tr>\n",
       "      <th>0</th>\n",
       "      <td>FOOD_AND_BEVERAGES</td>\n",
       "      <td>0</td>\n",
       "      <td>0</td>\n",
       "      <td>0</td>\n",
       "      <td>0</td>\n",
       "      <td>0</td>\n",
       "      <td>0</td>\n",
       "      <td>1.0000</td>\n",
       "      <td>0</td>\n",
       "      <td>0</td>\n",
       "      <td>...</td>\n",
       "      <td>0</td>\n",
       "      <td>0</td>\n",
       "      <td>0</td>\n",
       "      <td>0</td>\n",
       "      <td>0</td>\n",
       "      <td>0</td>\n",
       "      <td>0</td>\n",
       "      <td>0</td>\n",
       "      <td>0</td>\n",
       "      <td>0</td>\n",
       "    </tr>\n",
       "    <tr>\n",
       "      <th>1</th>\n",
       "      <td>FOOD_AND_BEVERAGES</td>\n",
       "      <td>0</td>\n",
       "      <td>0</td>\n",
       "      <td>0</td>\n",
       "      <td>0</td>\n",
       "      <td>0</td>\n",
       "      <td>0</td>\n",
       "      <td>0</td>\n",
       "      <td>0</td>\n",
       "      <td>1.0000</td>\n",
       "      <td>...</td>\n",
       "      <td>0</td>\n",
       "      <td>0</td>\n",
       "      <td>0</td>\n",
       "      <td>0</td>\n",
       "      <td>0</td>\n",
       "      <td>0</td>\n",
       "      <td>0</td>\n",
       "      <td>0</td>\n",
       "      <td>0</td>\n",
       "      <td>0</td>\n",
       "    </tr>\n",
       "    <tr>\n",
       "      <th>2</th>\n",
       "      <td>GENERAL_MERCHANDISE</td>\n",
       "      <td>0</td>\n",
       "      <td>0</td>\n",
       "      <td>0</td>\n",
       "      <td>0</td>\n",
       "      <td>0</td>\n",
       "      <td>1.0000</td>\n",
       "      <td>0</td>\n",
       "      <td>0</td>\n",
       "      <td>0</td>\n",
       "      <td>...</td>\n",
       "      <td>0</td>\n",
       "      <td>0</td>\n",
       "      <td>0</td>\n",
       "      <td>0</td>\n",
       "      <td>0</td>\n",
       "      <td>0</td>\n",
       "      <td>0</td>\n",
       "      <td>0</td>\n",
       "      <td>0</td>\n",
       "      <td>0</td>\n",
       "    </tr>\n",
       "    <tr>\n",
       "      <th>3</th>\n",
       "      <td>FOOD_AND_BEVERAGES</td>\n",
       "      <td>0</td>\n",
       "      <td>0</td>\n",
       "      <td>0</td>\n",
       "      <td>0</td>\n",
       "      <td>0</td>\n",
       "      <td>0</td>\n",
       "      <td>0</td>\n",
       "      <td>0</td>\n",
       "      <td>1.0000</td>\n",
       "      <td>...</td>\n",
       "      <td>0</td>\n",
       "      <td>0</td>\n",
       "      <td>0</td>\n",
       "      <td>0</td>\n",
       "      <td>0</td>\n",
       "      <td>0</td>\n",
       "      <td>0</td>\n",
       "      <td>0</td>\n",
       "      <td>0</td>\n",
       "      <td>0</td>\n",
       "    </tr>\n",
       "    <tr>\n",
       "      <th>4</th>\n",
       "      <td>GENERAL_MERCHANDISE</td>\n",
       "      <td>0</td>\n",
       "      <td>0</td>\n",
       "      <td>0</td>\n",
       "      <td>1.0000</td>\n",
       "      <td>0</td>\n",
       "      <td>0</td>\n",
       "      <td>0</td>\n",
       "      <td>0</td>\n",
       "      <td>0</td>\n",
       "      <td>...</td>\n",
       "      <td>0</td>\n",
       "      <td>0</td>\n",
       "      <td>0</td>\n",
       "      <td>0</td>\n",
       "      <td>0</td>\n",
       "      <td>0</td>\n",
       "      <td>0</td>\n",
       "      <td>0</td>\n",
       "      <td>0</td>\n",
       "      <td>0</td>\n",
       "    </tr>\n",
       "  </tbody>\n",
       "</table>\n",
       "<p>5 rows × 1029 columns</p>\n",
       "</div>"
      ],
      "text/plain": [
       "              category  is_weekend  is_even_amount  bin_10  bin_2  bin_3  \\\n",
       "0   FOOD_AND_BEVERAGES           0               0       0      0      0   \n",
       "1   FOOD_AND_BEVERAGES           0               0       0      0      0   \n",
       "2  GENERAL_MERCHANDISE           0               0       0      0      0   \n",
       "3   FOOD_AND_BEVERAGES           0               0       0      0      0   \n",
       "4  GENERAL_MERCHANDISE           0               0       0 1.0000      0   \n",
       "\n",
       "   bin_4  bin_5  bin_6  bin_7  ...  tfidf_world  tfidf_worth  tfidf_xfer  \\\n",
       "0      0 1.0000      0      0  ...            0            0           0   \n",
       "1      0      0      0 1.0000  ...            0            0           0   \n",
       "2 1.0000      0      0      0  ...            0            0           0   \n",
       "3      0      0      0 1.0000  ...            0            0           0   \n",
       "4      0      0      0      0  ...            0            0           0   \n",
       "\n",
       "   tfidf_xsolla  tfidf_york  tfidf_your  tfidf_youtube  tfidf_zaxby  \\\n",
       "0             0           0           0              0            0   \n",
       "1             0           0           0              0            0   \n",
       "2             0           0           0              0            0   \n",
       "3             0           0           0              0            0   \n",
       "4             0           0           0              0            0   \n",
       "\n",
       "   tfidf_zelle  tfidf_zip  \n",
       "0            0          0  \n",
       "1            0          0  \n",
       "2            0          0  \n",
       "3            0          0  \n",
       "4            0          0  \n",
       "\n",
       "[5 rows x 1029 columns]"
      ]
     },
     "execution_count": 8,
     "metadata": {},
     "output_type": "execute_result"
    }
   ],
   "source": [
    "model_ftrs = ftr_generation(relevant_of)\n",
    "model_ftrs.head() \n",
    "\n",
    "# 9 seconds"
   ]
  },
  {
   "cell_type": "code",
   "execution_count": 9,
   "id": "49a74bd4-339a-434d-bb14-32431dab95d5",
   "metadata": {},
   "outputs": [
    {
     "data": {
      "text/plain": [
       "(1306452, 1029)"
      ]
     },
     "execution_count": 9,
     "metadata": {},
     "output_type": "execute_result"
    }
   ],
   "source": [
    "model_ftrs.shape # 28 + 1 for category (daniel 57)"
   ]
  },
  {
   "cell_type": "code",
   "execution_count": 10,
   "id": "933db56c-c165-4a67-a152-1ba0b41c7665",
   "metadata": {},
   "outputs": [],
   "source": [
    "# is_weekend vs day_of_month"
   ]
  },
  {
   "cell_type": "markdown",
   "id": "94688e55-b8ae-4b03-be5c-f7dfcba177d9",
   "metadata": {},
   "source": [
    "# Sanity Check\n",
    "\n",
    "- \\# of rows should be **1306452**\n",
    "- 1028 ftrs = 1000 tfidf + 9 bins + 11 months + 6 days + is_even + is_weekend"
   ]
  },
  {
   "cell_type": "code",
   "execution_count": 11,
   "id": "6ed3431e-4223-4b6b-b7dc-4d9d536fcf1e",
   "metadata": {},
   "outputs": [
    {
     "data": {
      "text/plain": [
       "array(['category', 'is_weekend', 'is_even_amount', 'bin_10', 'bin_2',\n",
       "       'bin_3', 'bin_4', 'bin_5', 'bin_6', 'bin_7', 'bin_8', 'bin_9',\n",
       "       'month_10', 'month_11', 'month_12', 'month_2', 'month_3',\n",
       "       'month_4', 'month_5', 'month_6', 'month_7', 'month_8', 'month_9',\n",
       "       'weekday_1', 'weekday_2', 'weekday_3', 'weekday_4', 'weekday_5'],\n",
       "      dtype=object)"
      ]
     },
     "execution_count": 11,
     "metadata": {},
     "output_type": "execute_result"
    }
   ],
   "source": [
    "model_ftrs.columns[:28].values"
   ]
  },
  {
   "cell_type": "code",
   "execution_count": null,
   "id": "07ec2ae8-abd9-4aaa-bfca-2a8b9e199a33",
   "metadata": {},
   "outputs": [],
   "source": []
  },
  {
   "cell_type": "markdown",
   "id": "faf06280-abdd-467a-80e4-660e25f8c4a8",
   "metadata": {},
   "source": [
    "# Train / Test Sets (by Consumer Sampling)"
   ]
  },
  {
   "cell_type": "code",
   "execution_count": null,
   "id": "e6605a3b-ac98-4ede-beb5-1933c649f2b9",
   "metadata": {},
   "outputs": [],
   "source": []
  },
  {
   "cell_type": "code",
   "execution_count": 12,
   "id": "131611cb-9594-4aa5-80fc-300f2bf57f10",
   "metadata": {},
   "outputs": [],
   "source": [
    "training_size = int(model_ftrs.shape[0] * 0.75)\n",
    "training_size\n",
    "\n",
    "training_size = 100"
   ]
  },
  {
   "cell_type": "code",
   "execution_count": 13,
   "id": "807da7fb-8642-405c-9d18-3cc35ac196ad",
   "metadata": {},
   "outputs": [],
   "source": [
    "# test_df = pd.concat([relevant_of[['prism_consumer_id']], model_ftrs], axis=1)\n",
    "# train_df = pd.DataFrame(columns=test_df.columns)\n",
    "# to_add = []\n",
    "\n",
    "# ids = test_df.prism_consumer_id.unique()\n",
    "\n",
    "# for _ in range(training_size):\n",
    "#     curr_id = np.random.choice(ids)\n",
    "\n",
    "#     temp = test_df[test_df.prism_consumer_id == curr_id]\n",
    "#     if temp.shape[0] > 0:\n",
    "#         row = temp.sample(n=1,)\n",
    "#         test_df.drop(row.index, inplace=True)\n",
    "\n",
    "#     else:\n",
    "#         row = train_df[train_df.prism_consumer_id == curr_id].sample(n=1, replace=True)\n",
    "\n",
    "#     to_add.append(row)\n",
    "        "
   ]
  },
  {
   "cell_type": "markdown",
   "id": "52712852-dee6-454e-b273-2e8c8181809d",
   "metadata": {},
   "source": [
    "# Model Training"
   ]
  },
  {
   "cell_type": "code",
   "execution_count": 14,
   "id": "d2306ba5-5dbe-4c1d-b2cf-22dc740dc000",
   "metadata": {},
   "outputs": [],
   "source": [
    "from sklearn.model_selection import train_test_split\n",
    "from sklearn.preprocessing import StandardScaler\n",
    "from sklearn.linear_model import LogisticRegression\n",
    "from sklearn.metrics import accuracy_score, classification_report"
   ]
  },
  {
   "cell_type": "code",
   "execution_count": 15,
   "id": "c04b128d-05b6-44fe-982b-474f54c51fa8",
   "metadata": {},
   "outputs": [],
   "source": [
    "model_ftrs.to_csv('model_ftrs_df.csv')"
   ]
  },
  {
   "cell_type": "code",
   "execution_count": 16,
   "id": "f867023d-3c60-4704-a8e4-e042ba854845",
   "metadata": {},
   "outputs": [],
   "source": [
    "X = model_ftrs.drop(columns=['category'])  # Features\n",
    "y = model_ftrs['category']                 # Target"
   ]
  },
  {
   "cell_type": "code",
   "execution_count": null,
   "id": "790ef244-8166-43d3-a56a-5cebb5ae834e",
   "metadata": {},
   "outputs": [],
   "source": []
  },
  {
   "cell_type": "code",
   "execution_count": 17,
   "id": "5918ce91-fc89-4ecb-8072-a0688c9dda04",
   "metadata": {},
   "outputs": [],
   "source": [
    "# del model_ftrs"
   ]
  },
  {
   "cell_type": "code",
   "execution_count": null,
   "id": "c8cb1acc-1deb-4b3c-a2ab-ec9c8f817359",
   "metadata": {},
   "outputs": [],
   "source": []
  },
  {
   "cell_type": "code",
   "execution_count": 18,
   "id": "9c0700a4-3124-4fb9-94f0-353a5369a4a9",
   "metadata": {},
   "outputs": [],
   "source": [
    "X_train, X_test, y_train, y_test = train_test_split(X, y, test_size=0.25, random_state=42)\n",
    "\n",
    "# 104 seconds"
   ]
  },
  {
   "cell_type": "code",
   "execution_count": null,
   "id": "3c328c9c-95a3-457c-a41a-ddee47c0cd32",
   "metadata": {},
   "outputs": [
    {
     "name": "stderr",
     "output_type": "stream",
     "text": [
      "/opt/conda/lib/python3.11/site-packages/sklearn/utils/validation.py:869: UserWarning: pandas.DataFrame with sparse columns found.It will be converted to a dense numpy array.\n",
      "  warnings.warn(\n"
     ]
    }
   ],
   "source": [
    "lr = LogisticRegression(max_iter=100, random_state=42, n_jobs=2)\n",
    "lr.fit(X_train, y_train) # Increase max_iter if needed -- never converges\n"
   ]
  },
  {
   "cell_type": "code",
   "execution_count": null,
   "id": "09683e5d-b07a-4e66-a8a1-789f0827819d",
   "metadata": {},
   "outputs": [],
   "source": [
    "y_pred = lr.predict(X_test)\n",
    "y_pred_train = lr.predict(X_train)"
   ]
  },
  {
   "cell_type": "code",
   "execution_count": null,
   "id": "ac13a341-3b39-413f-af90-5ae2e7d7cbcb",
   "metadata": {},
   "outputs": [],
   "source": [
    "test_acc = (y_test == y_pred).mean()\n",
    "test_acc"
   ]
  },
  {
   "cell_type": "code",
   "execution_count": null,
   "id": "975f1d11-6c5d-4b27-9f1a-af2d4b53c215",
   "metadata": {},
   "outputs": [],
   "source": [
    "train_acc = (y_train == y_pred_train).mean()\n",
    "train_acc"
   ]
  },
  {
   "cell_type": "code",
   "execution_count": null,
   "id": "86f01e2c-f0ac-49d6-8742-a68067e2033b",
   "metadata": {},
   "outputs": [],
   "source": []
  },
  {
   "cell_type": "code",
   "execution_count": null,
   "id": "f12904ae-6403-4756-94c4-a03f2a65bdce",
   "metadata": {},
   "outputs": [],
   "source": []
  },
  {
   "cell_type": "code",
   "execution_count": null,
   "id": "b8f759b7-bd6d-4f07-8f80-88ebeb27ae71",
   "metadata": {},
   "outputs": [],
   "source": []
  },
  {
   "cell_type": "code",
   "execution_count": null,
   "id": "f9abf05d-b218-4e24-9b5b-9a5872136608",
   "metadata": {},
   "outputs": [],
   "source": []
  },
  {
   "cell_type": "code",
   "execution_count": null,
   "id": "11e32d03-c077-4bdc-8ae7-522cb488ed0c",
   "metadata": {},
   "outputs": [],
   "source": []
  },
  {
   "cell_type": "code",
   "execution_count": null,
   "id": "6fe13124-531f-47e3-b9d7-6fcc456e790a",
   "metadata": {},
   "outputs": [],
   "source": []
  },
  {
   "cell_type": "code",
   "execution_count": null,
   "id": "5b386c66-04f9-4d7c-8d9e-e469914bd958",
   "metadata": {},
   "outputs": [],
   "source": []
  },
  {
   "cell_type": "code",
   "execution_count": null,
   "id": "574f30ff-f551-4295-afda-365984af0804",
   "metadata": {},
   "outputs": [],
   "source": []
  },
  {
   "cell_type": "code",
   "execution_count": null,
   "id": "7c3ee741-5346-4783-8ffd-37bbd2cbb534",
   "metadata": {},
   "outputs": [],
   "source": []
  },
  {
   "cell_type": "code",
   "execution_count": null,
   "id": "7de534c6-4be0-43f5-966e-c9b6381c6c4d",
   "metadata": {},
   "outputs": [],
   "source": []
  },
  {
   "cell_type": "code",
   "execution_count": null,
   "id": "1e65742e-fa64-4c35-9094-4bb89235e83d",
   "metadata": {},
   "outputs": [],
   "source": []
  }
 ],
 "metadata": {
  "kernelspec": {
   "display_name": "Python 3 (ipykernel)",
   "language": "python",
   "name": "python3"
  },
  "language_info": {
   "codemirror_mode": {
    "name": "ipython",
    "version": 3
   },
   "file_extension": ".py",
   "mimetype": "text/x-python",
   "name": "python",
   "nbconvert_exporter": "python",
   "pygments_lexer": "ipython3",
   "version": "3.11.9"
  }
 },
 "nbformat": 4,
 "nbformat_minor": 5
}
